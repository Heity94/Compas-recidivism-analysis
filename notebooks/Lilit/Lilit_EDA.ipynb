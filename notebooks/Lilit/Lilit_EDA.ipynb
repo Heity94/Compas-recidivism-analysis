{
 "cells": [
  {
   "cell_type": "code",
   "execution_count": 1,
   "id": "1aed933a",
   "metadata": {},
   "outputs": [],
   "source": [
    "import numpy as np\n",
    "import pandas as pd\n",
    "import matplotlib.pyplot as plt\n",
    "import seaborn as sns"
   ]
  },
  {
   "cell_type": "markdown",
   "id": "7ae189d5",
   "metadata": {},
   "source": [
    "### EXPLORATORY DATA ANALYSIS"
   ]
  },
  {
   "cell_type": "code",
   "execution_count": 4,
   "id": "3d541116",
   "metadata": {},
   "outputs": [
    {
     "data": {
      "text/plain": [
       "(7214, 53)"
      ]
     },
     "execution_count": 4,
     "metadata": {},
     "output_type": "execute_result"
    }
   ],
   "source": [
    "raw_data = pd.read_csv(\"/Users/lilitharutyunyan/Documents/GitHub/compas-analysis/compas-scores-two-years.csv\", parse_dates=[\"c_jail_in\", \"c_jail_out\"])\n",
    "raw_data.shape"
   ]
  },
  {
   "cell_type": "code",
   "execution_count": 6,
   "id": "e0f07498",
   "metadata": {},
   "outputs": [
    {
     "data": {
      "text/plain": [
       "(6172, 13)"
      ]
     },
     "execution_count": 6,
     "metadata": {},
     "output_type": "execute_result"
    }
   ],
   "source": [
    "\n",
    "df = raw_data[[\"age\", \"c_charge_degree\", \"race\", \"age_cat\", \"score_text\", \"sex\", \"priors_count\", \n",
    "          \"days_b_screening_arrest\", \"decile_score\", \"is_recid\", \"two_year_recid\", \"c_jail_in\", \"c_jail_out\"]]\n",
    "\n",
    "\n",
    "\n"
   ]
  },
  {
   "cell_type": "code",
   "execution_count": 9,
   "id": "e2856988",
   "metadata": {},
   "outputs": [],
   "source": [
    "df = df[\n",
    "        (df[\"days_b_screening_arrest\"]<=30) & \n",
    "        (df[\"days_b_screening_arrest\"]>=-30) &\n",
    "        (df[\"is_recid\"]!=-1) & \n",
    "        (df[\"c_charge_degree\"]!=\"O\") #&\n",
    "        #(dataframe[\"score_text\"]!=\"N/A\")\n",
    "      ]"
   ]
  },
  {
   "cell_type": "code",
   "execution_count": 10,
   "id": "f8ef231e",
   "metadata": {},
   "outputs": [
    {
     "data": {
      "text/plain": [
       "(6172, 13)"
      ]
     },
     "execution_count": 10,
     "metadata": {},
     "output_type": "execute_result"
    }
   ],
   "source": [
    "df.shape"
   ]
  },
  {
   "cell_type": "code",
   "execution_count": 11,
   "id": "35b7a45b",
   "metadata": {},
   "outputs": [],
   "source": [
    "category_cols = ['c_charge_degree', \"race\", \"age_cat\", 'score_text', 'sex', 'is_recid', 'two_year_recid']\n",
    "df = df.apply(lambda s: s.astype('category') if s.name in category_cols else s)"
   ]
  },
  {
   "cell_type": "code",
   "execution_count": null,
   "id": "ebae6f20",
   "metadata": {},
   "outputs": [],
   "source": []
  }
 ],
 "metadata": {
  "kernelspec": {
   "display_name": "Python 3",
   "language": "python",
   "name": "python3"
  },
  "language_info": {
   "codemirror_mode": {
    "name": "ipython",
    "version": 3
   },
   "file_extension": ".py",
   "mimetype": "text/x-python",
   "name": "python",
   "nbconvert_exporter": "python",
   "pygments_lexer": "ipython3",
   "version": "3.8.8"
  }
 },
 "nbformat": 4,
 "nbformat_minor": 5
}
