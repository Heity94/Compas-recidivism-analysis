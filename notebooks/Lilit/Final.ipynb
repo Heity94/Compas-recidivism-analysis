{
 "cells": [
  {
   "cell_type": "code",
   "execution_count": 1,
   "id": "79d4343d",
   "metadata": {},
   "outputs": [],
   "source": [
    "import numpy as np\n",
    "import pandas as pd\n",
    "import matplotlib.pyplot as plt\n",
    "import seaborn as sns\n",
    "from sklearn.linear_model import LogisticRegression, LinearRegression\n",
    "import statsmodels.formula.api as smf\n",
    "from statsmodels.formula.api import logit\n",
    "from sklearn.metrics import confusion_matrix\n",
    "from sklearn.model_selection import train_test_split, GridSearchCV\n",
    "from sklearn.metrics import mean_squared_error\n",
    "from sklearn.linear_model import LogisticRegression\n",
    "from sklearn.preprocessing import StandardScaler\n",
    "from sklearn.preprocessing import scale\n",
    "import sklearn.linear_model as skl_lm\n",
    "from sklearn.metrics import mean_squared_error, r2_score\n",
    "import statsmodels.api as sm\n",
    "import statsmodels.formula.api as smf\n",
    "from sklearn.model_selection import KFold, cross_val_score, train_test_split\n",
    "from sklearn.preprocessing import PolynomialFeatures\n",
    "from sklearn.model_selection import train_test_split\n",
    "from sklearn.linear_model import LinearRegression\n",
    "from sklearn.model_selection import cross_val_score\n",
    "from sklearn.preprocessing import MinMaxScaler\n",
    "from sklearn.preprocessing import PolynomialFeatures\n",
    "from sklearn.pipeline import make_pipeline\n",
    "from sklearn.linear_model import Ridge\n",
    "from sklearn.model_selection import RepeatedKFold\n",
    "from numpy import absolute\n",
    "from numpy import mean\n",
    "from numpy import std\n",
    "from numpy import arange\n",
    "from sklearn.linear_model import ElasticNet\n",
    "\n",
    "from sklearn import preprocessing"
   ]
  },
  {
   "cell_type": "code",
   "execution_count": 140,
   "id": "fa8ab516",
   "metadata": {},
   "outputs": [],
   "source": [
    "np.random.seed(42)"
   ]
  },
  {
   "cell_type": "code",
   "execution_count": 141,
   "id": "1286acd0",
   "metadata": {},
   "outputs": [
    {
     "data": {
      "text/html": [
       "<div>\n",
       "<style scoped>\n",
       "    .dataframe tbody tr th:only-of-type {\n",
       "        vertical-align: middle;\n",
       "    }\n",
       "\n",
       "    .dataframe tbody tr th {\n",
       "        vertical-align: top;\n",
       "    }\n",
       "\n",
       "    .dataframe thead th {\n",
       "        text-align: right;\n",
       "    }\n",
       "</style>\n",
       "<table border=\"1\" class=\"dataframe\">\n",
       "  <thead>\n",
       "    <tr style=\"text-align: right;\">\n",
       "      <th></th>\n",
       "      <th>id</th>\n",
       "      <th>name</th>\n",
       "      <th>first</th>\n",
       "      <th>last</th>\n",
       "      <th>compas_screening_date</th>\n",
       "      <th>sex</th>\n",
       "      <th>dob</th>\n",
       "      <th>age</th>\n",
       "      <th>age_cat</th>\n",
       "      <th>race</th>\n",
       "      <th>...</th>\n",
       "      <th>score_text</th>\n",
       "      <th>v_type_of_assessment</th>\n",
       "      <th>v_decile_score</th>\n",
       "      <th>v_score_text</th>\n",
       "      <th>in_custody</th>\n",
       "      <th>out_custody</th>\n",
       "      <th>start</th>\n",
       "      <th>end</th>\n",
       "      <th>event</th>\n",
       "      <th>two_year_recid</th>\n",
       "    </tr>\n",
       "  </thead>\n",
       "  <tbody>\n",
       "    <tr>\n",
       "      <th>0</th>\n",
       "      <td>1</td>\n",
       "      <td>miguel hernandez</td>\n",
       "      <td>miguel</td>\n",
       "      <td>hernandez</td>\n",
       "      <td>2013-08-14</td>\n",
       "      <td>Male</td>\n",
       "      <td>1947-04-18</td>\n",
       "      <td>69</td>\n",
       "      <td>Greater than 45</td>\n",
       "      <td>Other</td>\n",
       "      <td>...</td>\n",
       "      <td>Low</td>\n",
       "      <td>Risk of Violence</td>\n",
       "      <td>1</td>\n",
       "      <td>Low</td>\n",
       "      <td>2014-07-07</td>\n",
       "      <td>2014-07-14</td>\n",
       "      <td>0</td>\n",
       "      <td>327</td>\n",
       "      <td>0</td>\n",
       "      <td>0</td>\n",
       "    </tr>\n",
       "    <tr>\n",
       "      <th>1</th>\n",
       "      <td>3</td>\n",
       "      <td>kevon dixon</td>\n",
       "      <td>kevon</td>\n",
       "      <td>dixon</td>\n",
       "      <td>2013-01-27</td>\n",
       "      <td>Male</td>\n",
       "      <td>1982-01-22</td>\n",
       "      <td>34</td>\n",
       "      <td>25 - 45</td>\n",
       "      <td>African-American</td>\n",
       "      <td>...</td>\n",
       "      <td>Low</td>\n",
       "      <td>Risk of Violence</td>\n",
       "      <td>1</td>\n",
       "      <td>Low</td>\n",
       "      <td>2013-01-26</td>\n",
       "      <td>2013-02-05</td>\n",
       "      <td>9</td>\n",
       "      <td>159</td>\n",
       "      <td>1</td>\n",
       "      <td>1</td>\n",
       "    </tr>\n",
       "    <tr>\n",
       "      <th>2</th>\n",
       "      <td>4</td>\n",
       "      <td>ed philo</td>\n",
       "      <td>ed</td>\n",
       "      <td>philo</td>\n",
       "      <td>2013-04-14</td>\n",
       "      <td>Male</td>\n",
       "      <td>1991-05-14</td>\n",
       "      <td>24</td>\n",
       "      <td>Less than 25</td>\n",
       "      <td>African-American</td>\n",
       "      <td>...</td>\n",
       "      <td>Low</td>\n",
       "      <td>Risk of Violence</td>\n",
       "      <td>3</td>\n",
       "      <td>Low</td>\n",
       "      <td>2013-06-16</td>\n",
       "      <td>2013-06-16</td>\n",
       "      <td>0</td>\n",
       "      <td>63</td>\n",
       "      <td>0</td>\n",
       "      <td>1</td>\n",
       "    </tr>\n",
       "    <tr>\n",
       "      <th>3</th>\n",
       "      <td>5</td>\n",
       "      <td>marcu brown</td>\n",
       "      <td>marcu</td>\n",
       "      <td>brown</td>\n",
       "      <td>2013-01-13</td>\n",
       "      <td>Male</td>\n",
       "      <td>1993-01-21</td>\n",
       "      <td>23</td>\n",
       "      <td>Less than 25</td>\n",
       "      <td>African-American</td>\n",
       "      <td>...</td>\n",
       "      <td>High</td>\n",
       "      <td>Risk of Violence</td>\n",
       "      <td>6</td>\n",
       "      <td>Medium</td>\n",
       "      <td>NaN</td>\n",
       "      <td>NaN</td>\n",
       "      <td>0</td>\n",
       "      <td>1174</td>\n",
       "      <td>0</td>\n",
       "      <td>0</td>\n",
       "    </tr>\n",
       "    <tr>\n",
       "      <th>4</th>\n",
       "      <td>6</td>\n",
       "      <td>bouthy pierrelouis</td>\n",
       "      <td>bouthy</td>\n",
       "      <td>pierrelouis</td>\n",
       "      <td>2013-03-26</td>\n",
       "      <td>Male</td>\n",
       "      <td>1973-01-22</td>\n",
       "      <td>43</td>\n",
       "      <td>25 - 45</td>\n",
       "      <td>Other</td>\n",
       "      <td>...</td>\n",
       "      <td>Low</td>\n",
       "      <td>Risk of Violence</td>\n",
       "      <td>1</td>\n",
       "      <td>Low</td>\n",
       "      <td>NaN</td>\n",
       "      <td>NaN</td>\n",
       "      <td>0</td>\n",
       "      <td>1102</td>\n",
       "      <td>0</td>\n",
       "      <td>0</td>\n",
       "    </tr>\n",
       "    <tr>\n",
       "      <th>...</th>\n",
       "      <td>...</td>\n",
       "      <td>...</td>\n",
       "      <td>...</td>\n",
       "      <td>...</td>\n",
       "      <td>...</td>\n",
       "      <td>...</td>\n",
       "      <td>...</td>\n",
       "      <td>...</td>\n",
       "      <td>...</td>\n",
       "      <td>...</td>\n",
       "      <td>...</td>\n",
       "      <td>...</td>\n",
       "      <td>...</td>\n",
       "      <td>...</td>\n",
       "      <td>...</td>\n",
       "      <td>...</td>\n",
       "      <td>...</td>\n",
       "      <td>...</td>\n",
       "      <td>...</td>\n",
       "      <td>...</td>\n",
       "      <td>...</td>\n",
       "    </tr>\n",
       "    <tr>\n",
       "      <th>6211</th>\n",
       "      <td>10995</td>\n",
       "      <td>raheem smith</td>\n",
       "      <td>raheem</td>\n",
       "      <td>smith</td>\n",
       "      <td>2013-10-20</td>\n",
       "      <td>Male</td>\n",
       "      <td>1995-06-28</td>\n",
       "      <td>20</td>\n",
       "      <td>Less than 25</td>\n",
       "      <td>African-American</td>\n",
       "      <td>...</td>\n",
       "      <td>High</td>\n",
       "      <td>Risk of Violence</td>\n",
       "      <td>9</td>\n",
       "      <td>High</td>\n",
       "      <td>2014-04-07</td>\n",
       "      <td>2014-04-27</td>\n",
       "      <td>0</td>\n",
       "      <td>169</td>\n",
       "      <td>0</td>\n",
       "      <td>0</td>\n",
       "    </tr>\n",
       "    <tr>\n",
       "      <th>6212</th>\n",
       "      <td>10996</td>\n",
       "      <td>steven butler</td>\n",
       "      <td>steven</td>\n",
       "      <td>butler</td>\n",
       "      <td>2013-11-23</td>\n",
       "      <td>Male</td>\n",
       "      <td>1992-07-17</td>\n",
       "      <td>23</td>\n",
       "      <td>Less than 25</td>\n",
       "      <td>African-American</td>\n",
       "      <td>...</td>\n",
       "      <td>Medium</td>\n",
       "      <td>Risk of Violence</td>\n",
       "      <td>5</td>\n",
       "      <td>Medium</td>\n",
       "      <td>2013-11-22</td>\n",
       "      <td>2013-11-24</td>\n",
       "      <td>1</td>\n",
       "      <td>860</td>\n",
       "      <td>0</td>\n",
       "      <td>0</td>\n",
       "    </tr>\n",
       "    <tr>\n",
       "      <th>6213</th>\n",
       "      <td>10997</td>\n",
       "      <td>malcolm simmons</td>\n",
       "      <td>malcolm</td>\n",
       "      <td>simmons</td>\n",
       "      <td>2014-02-01</td>\n",
       "      <td>Male</td>\n",
       "      <td>1993-03-25</td>\n",
       "      <td>23</td>\n",
       "      <td>Less than 25</td>\n",
       "      <td>African-American</td>\n",
       "      <td>...</td>\n",
       "      <td>Low</td>\n",
       "      <td>Risk of Violence</td>\n",
       "      <td>5</td>\n",
       "      <td>Medium</td>\n",
       "      <td>2014-01-31</td>\n",
       "      <td>2014-02-02</td>\n",
       "      <td>1</td>\n",
       "      <td>790</td>\n",
       "      <td>0</td>\n",
       "      <td>0</td>\n",
       "    </tr>\n",
       "    <tr>\n",
       "      <th>6214</th>\n",
       "      <td>10999</td>\n",
       "      <td>winston gregory</td>\n",
       "      <td>winston</td>\n",
       "      <td>gregory</td>\n",
       "      <td>2014-01-14</td>\n",
       "      <td>Male</td>\n",
       "      <td>1958-10-01</td>\n",
       "      <td>57</td>\n",
       "      <td>Greater than 45</td>\n",
       "      <td>Other</td>\n",
       "      <td>...</td>\n",
       "      <td>Low</td>\n",
       "      <td>Risk of Violence</td>\n",
       "      <td>1</td>\n",
       "      <td>Low</td>\n",
       "      <td>2014-01-13</td>\n",
       "      <td>2014-01-14</td>\n",
       "      <td>0</td>\n",
       "      <td>808</td>\n",
       "      <td>0</td>\n",
       "      <td>0</td>\n",
       "    </tr>\n",
       "    <tr>\n",
       "      <th>6215</th>\n",
       "      <td>11000</td>\n",
       "      <td>farrah jean</td>\n",
       "      <td>farrah</td>\n",
       "      <td>jean</td>\n",
       "      <td>2014-03-09</td>\n",
       "      <td>Female</td>\n",
       "      <td>1982-11-17</td>\n",
       "      <td>33</td>\n",
       "      <td>25 - 45</td>\n",
       "      <td>African-American</td>\n",
       "      <td>...</td>\n",
       "      <td>Low</td>\n",
       "      <td>Risk of Violence</td>\n",
       "      <td>2</td>\n",
       "      <td>Low</td>\n",
       "      <td>2014-03-08</td>\n",
       "      <td>2014-03-09</td>\n",
       "      <td>0</td>\n",
       "      <td>754</td>\n",
       "      <td>0</td>\n",
       "      <td>0</td>\n",
       "    </tr>\n",
       "  </tbody>\n",
       "</table>\n",
       "<p>6216 rows × 49 columns</p>\n",
       "</div>"
      ],
      "text/plain": [
       "         id                name    first         last compas_screening_date  \\\n",
       "0         1    miguel hernandez   miguel    hernandez            2013-08-14   \n",
       "1         3         kevon dixon    kevon        dixon            2013-01-27   \n",
       "2         4            ed philo       ed        philo            2013-04-14   \n",
       "3         5         marcu brown    marcu        brown            2013-01-13   \n",
       "4         6  bouthy pierrelouis   bouthy  pierrelouis            2013-03-26   \n",
       "...     ...                 ...      ...          ...                   ...   \n",
       "6211  10995        raheem smith   raheem        smith            2013-10-20   \n",
       "6212  10996       steven butler   steven       butler            2013-11-23   \n",
       "6213  10997     malcolm simmons  malcolm      simmons            2014-02-01   \n",
       "6214  10999     winston gregory  winston      gregory            2014-01-14   \n",
       "6215  11000         farrah jean   farrah         jean            2014-03-09   \n",
       "\n",
       "         sex         dob  age          age_cat              race  ...  \\\n",
       "0       Male  1947-04-18   69  Greater than 45             Other  ...   \n",
       "1       Male  1982-01-22   34          25 - 45  African-American  ...   \n",
       "2       Male  1991-05-14   24     Less than 25  African-American  ...   \n",
       "3       Male  1993-01-21   23     Less than 25  African-American  ...   \n",
       "4       Male  1973-01-22   43          25 - 45             Other  ...   \n",
       "...      ...         ...  ...              ...               ...  ...   \n",
       "6211    Male  1995-06-28   20     Less than 25  African-American  ...   \n",
       "6212    Male  1992-07-17   23     Less than 25  African-American  ...   \n",
       "6213    Male  1993-03-25   23     Less than 25  African-American  ...   \n",
       "6214    Male  1958-10-01   57  Greater than 45             Other  ...   \n",
       "6215  Female  1982-11-17   33          25 - 45  African-American  ...   \n",
       "\n",
       "      score_text  v_type_of_assessment  v_decile_score  v_score_text  \\\n",
       "0            Low      Risk of Violence               1           Low   \n",
       "1            Low      Risk of Violence               1           Low   \n",
       "2            Low      Risk of Violence               3           Low   \n",
       "3           High      Risk of Violence               6        Medium   \n",
       "4            Low      Risk of Violence               1           Low   \n",
       "...          ...                   ...             ...           ...   \n",
       "6211        High      Risk of Violence               9          High   \n",
       "6212      Medium      Risk of Violence               5        Medium   \n",
       "6213         Low      Risk of Violence               5        Medium   \n",
       "6214         Low      Risk of Violence               1           Low   \n",
       "6215         Low      Risk of Violence               2           Low   \n",
       "\n",
       "      in_custody  out_custody start   end event two_year_recid  \n",
       "0     2014-07-07   2014-07-14     0   327     0              0  \n",
       "1     2013-01-26   2013-02-05     9   159     1              1  \n",
       "2     2013-06-16   2013-06-16     0    63     0              1  \n",
       "3            NaN          NaN     0  1174     0              0  \n",
       "4            NaN          NaN     0  1102     0              0  \n",
       "...          ...          ...   ...   ...   ...            ...  \n",
       "6211  2014-04-07   2014-04-27     0   169     0              0  \n",
       "6212  2013-11-22   2013-11-24     1   860     0              0  \n",
       "6213  2014-01-31   2014-02-02     1   790     0              0  \n",
       "6214  2014-01-13   2014-01-14     0   808     0              0  \n",
       "6215  2014-03-08   2014-03-09     0   754     0              0  \n",
       "\n",
       "[6216 rows x 49 columns]"
      ]
     },
     "execution_count": 141,
     "metadata": {},
     "output_type": "execute_result"
    }
   ],
   "source": [
    "df = pd.read_csv(\"../../data-cleaned/compas-scores-two-years-clean.csv\", parse_dates=[\"c_jail_in\", \"c_jail_out\"])\n",
    "df"
   ]
  },
  {
   "cell_type": "code",
   "execution_count": 142,
   "id": "0dd66654",
   "metadata": {},
   "outputs": [
    {
     "data": {
      "text/plain": [
       "African-American    3139\n",
       "Caucasian           2132\n",
       "Hispanic             563\n",
       "Other                340\n",
       "Asian                 28\n",
       "Native American       14\n",
       "Name: race, dtype: int64"
      ]
     },
     "execution_count": 142,
     "metadata": {},
     "output_type": "execute_result"
    }
   ],
   "source": [
    "df['race'].value_counts()"
   ]
  },
  {
   "cell_type": "code",
   "execution_count": 143,
   "id": "dcf8834d",
   "metadata": {},
   "outputs": [
    {
     "data": {
      "image/png": "[encoded data removed]",
      "text/plain": [
       "<Figure size 864x720 with 2 Axes>"
      ]
     },
     "metadata": {},
     "output_type": "display_data"
    }
   ],
   "source": [
    "plt.figure(figsize=(12,10))\n",
    "sns.heatmap(df.corr(), annot=True);"
   ]
  },
  {
   "cell_type": "code",
   "execution_count": 144,
   "id": "42c50bd2",
   "metadata": {},
   "outputs": [
    {
     "data": {
      "text/plain": [
       "(<Figure size 864x576 with 1 Axes>, <AxesSubplot:>)"
      ]
     },
     "execution_count": 144,
     "metadata": {},
     "output_type": "execute_result"
    },
    {
     "data": {
      "image/png": "[encoded data removed]",
      "text/plain": [
       "<Figure size 864x576 with 1 Axes>"
      ]
     },
     "metadata": {},
     "output_type": "display_data"
    }
   ],
   "source": [
    "def create_groupcount_barplot(df, group_col, figsize, **kwargs):\n",
    "    \"call df.groupby(group_col), then count number of records and plot\"\n",
    "    counts = df.groupby(group_col)[\"name\"].count().sort_index()\n",
    "\n",
    "    fig, ax = plt.subplots(figsize=figsize)\n",
    "    counts.plot(kind=\"bar\", **kwargs)\n",
    "\n",
    "    ax.spines[\"right\"].set_visible(False)\n",
    "    ax.spines[\"top\"].set_visible(False)\n",
    "    ax.set_xlabel(\"\")\n",
    "    ax.set_ylabel(\"\")\n",
    "\n",
    "    return fig, ax\n",
    "\n",
    "create_groupcount_barplot(df, \"decile_score\", (12, 8), color=\"DarkBlue\", rot=0)"
   ]
  },
  {
   "cell_type": "markdown",
   "id": "7b1977c1",
   "metadata": {},
   "source": [
    "# We can already observe that that our target variable is normally distributed. Therefore, we will proceed with the log of decile score."
   ]
  },
  {
   "cell_type": "code",
   "execution_count": 145,
   "id": "114edfbb",
   "metadata": {},
   "outputs": [],
   "source": [
    "df['decile_score_log'] = np.log(df.decile_score)"
   ]
  },
  {
   "cell_type": "code",
   "execution_count": 146,
   "id": "42bda228",
   "metadata": {},
   "outputs": [
    {
     "name": "stdout",
     "output_type": "stream",
     "text": [
      "0.44499634284609496\n",
      "-0.34657083633759855\n"
     ]
    }
   ],
   "source": [
    "print(df.decile_score.skew())\n",
    "print(df.decile_score_log.skew())"
   ]
  },
  {
   "cell_type": "markdown",
   "id": "61aa6b23",
   "metadata": {},
   "source": [
    "* If skewness is between -0.5 and 0.5, the distribution is approximately symmetric. We have around -0.35."
   ]
  },
  {
   "cell_type": "code",
   "execution_count": 147,
   "id": "d7b29f87",
   "metadata": {},
   "outputs": [],
   "source": [
    "features = pd.concat([df.age,\n",
    "                    pd.get_dummies(df.sex, prefix='sex',drop_first=True),\n",
    "                    pd.get_dummies(df.race, prefix='race',drop_first=True),  \n",
    "                    pd.get_dummies(df.c_charge_degree, prefix='degree',drop_first=True), # felony or misdemeanor charge ('f' or 'm')\n",
    "                    df.priors_count,\n",
    "                    df.juv_fel_count,\n",
    "                    df.juv_misd_count,\n",
    "                    df.juv_other_count,\n",
    "                    df.two_year_recid],\n",
    "                    axis=1)\n",
    "\n",
    "target= df.decile_score_log"
   ]
  },
  {
   "cell_type": "code",
   "execution_count": 148,
   "id": "46765b32",
   "metadata": {},
   "outputs": [],
   "source": [
    "minmax_scaler = MinMaxScaler()\n",
    "features_scaled = minmax_scaler.fit_transform(features)"
   ]
  },
  {
   "cell_type": "code",
   "execution_count": 149,
   "id": "4ebc0a84",
   "metadata": {},
   "outputs": [
    {
     "data": {
      "text/html": [
       "<div>\n",
       "<style scoped>\n",
       "    .dataframe tbody tr th:only-of-type {\n",
       "        vertical-align: middle;\n",
       "    }\n",
       "\n",
       "    .dataframe tbody tr th {\n",
       "        vertical-align: top;\n",
       "    }\n",
       "\n",
       "    .dataframe thead th {\n",
       "        text-align: right;\n",
       "    }\n",
       "</style>\n",
       "<table border=\"1\" class=\"dataframe\">\n",
       "  <thead>\n",
       "    <tr style=\"text-align: right;\">\n",
       "      <th></th>\n",
       "      <th>age</th>\n",
       "      <th>sex_Male</th>\n",
       "      <th>race_Asian</th>\n",
       "      <th>race_Caucasian</th>\n",
       "      <th>race_Hispanic</th>\n",
       "      <th>race_Native American</th>\n",
       "      <th>race_Other</th>\n",
       "      <th>degree_M</th>\n",
       "      <th>priors_count</th>\n",
       "      <th>juv_fel_count</th>\n",
       "      <th>juv_misd_count</th>\n",
       "      <th>juv_other_count</th>\n",
       "      <th>two_year_recid</th>\n",
       "      <th>decile_score</th>\n",
       "    </tr>\n",
       "  </thead>\n",
       "  <tbody>\n",
       "    <tr>\n",
       "      <th>0</th>\n",
       "      <td>0.649351</td>\n",
       "      <td>1.0</td>\n",
       "      <td>0.0</td>\n",
       "      <td>0.0</td>\n",
       "      <td>0.0</td>\n",
       "      <td>0.0</td>\n",
       "      <td>1.0</td>\n",
       "      <td>0.0</td>\n",
       "      <td>0.000000</td>\n",
       "      <td>0.0</td>\n",
       "      <td>0.000000</td>\n",
       "      <td>0.000000</td>\n",
       "      <td>0.0</td>\n",
       "      <td>0.000000</td>\n",
       "    </tr>\n",
       "    <tr>\n",
       "      <th>1</th>\n",
       "      <td>0.194805</td>\n",
       "      <td>1.0</td>\n",
       "      <td>0.0</td>\n",
       "      <td>0.0</td>\n",
       "      <td>0.0</td>\n",
       "      <td>0.0</td>\n",
       "      <td>0.0</td>\n",
       "      <td>0.0</td>\n",
       "      <td>0.000000</td>\n",
       "      <td>0.0</td>\n",
       "      <td>0.000000</td>\n",
       "      <td>0.000000</td>\n",
       "      <td>1.0</td>\n",
       "      <td>1.098612</td>\n",
       "    </tr>\n",
       "    <tr>\n",
       "      <th>2</th>\n",
       "      <td>0.064935</td>\n",
       "      <td>1.0</td>\n",
       "      <td>0.0</td>\n",
       "      <td>0.0</td>\n",
       "      <td>0.0</td>\n",
       "      <td>0.0</td>\n",
       "      <td>0.0</td>\n",
       "      <td>0.0</td>\n",
       "      <td>0.108108</td>\n",
       "      <td>0.0</td>\n",
       "      <td>0.000000</td>\n",
       "      <td>0.058824</td>\n",
       "      <td>1.0</td>\n",
       "      <td>1.386294</td>\n",
       "    </tr>\n",
       "    <tr>\n",
       "      <th>3</th>\n",
       "      <td>0.051948</td>\n",
       "      <td>1.0</td>\n",
       "      <td>0.0</td>\n",
       "      <td>0.0</td>\n",
       "      <td>0.0</td>\n",
       "      <td>0.0</td>\n",
       "      <td>0.0</td>\n",
       "      <td>0.0</td>\n",
       "      <td>0.027027</td>\n",
       "      <td>0.0</td>\n",
       "      <td>0.076923</td>\n",
       "      <td>0.000000</td>\n",
       "      <td>0.0</td>\n",
       "      <td>2.079442</td>\n",
       "    </tr>\n",
       "    <tr>\n",
       "      <th>4</th>\n",
       "      <td>0.311688</td>\n",
       "      <td>1.0</td>\n",
       "      <td>0.0</td>\n",
       "      <td>0.0</td>\n",
       "      <td>0.0</td>\n",
       "      <td>0.0</td>\n",
       "      <td>1.0</td>\n",
       "      <td>0.0</td>\n",
       "      <td>0.054054</td>\n",
       "      <td>0.0</td>\n",
       "      <td>0.000000</td>\n",
       "      <td>0.000000</td>\n",
       "      <td>0.0</td>\n",
       "      <td>0.000000</td>\n",
       "    </tr>\n",
       "  </tbody>\n",
       "</table>\n",
       "</div>"
      ],
      "text/plain": [
       "        age  sex_Male  race_Asian  race_Caucasian  race_Hispanic  \\\n",
       "0  0.649351       1.0         0.0             0.0            0.0   \n",
       "1  0.194805       1.0         0.0             0.0            0.0   \n",
       "2  0.064935       1.0         0.0             0.0            0.0   \n",
       "3  0.051948       1.0         0.0             0.0            0.0   \n",
       "4  0.311688       1.0         0.0             0.0            0.0   \n",
       "\n",
       "   race_Native American  race_Other  degree_M  priors_count  juv_fel_count  \\\n",
       "0                   0.0         1.0       0.0      0.000000            0.0   \n",
       "1                   0.0         0.0       0.0      0.000000            0.0   \n",
       "2                   0.0         0.0       0.0      0.108108            0.0   \n",
       "3                   0.0         0.0       0.0      0.027027            0.0   \n",
       "4                   0.0         1.0       0.0      0.054054            0.0   \n",
       "\n",
       "   juv_misd_count  juv_other_count  two_year_recid  decile_score  \n",
       "0        0.000000         0.000000             0.0      0.000000  \n",
       "1        0.000000         0.000000             1.0      1.098612  \n",
       "2        0.000000         0.058824             1.0      1.386294  \n",
       "3        0.076923         0.000000             0.0      2.079442  \n",
       "4        0.000000         0.000000             0.0      0.000000  "
      ]
     },
     "execution_count": 149,
     "metadata": {},
     "output_type": "execute_result"
    }
   ],
   "source": [
    "df_scaled = pd.DataFrame(features_scaled, columns=features.columns)\n",
    "df_scaled['decile_score'] = np.log(df.decile_score)\n",
    "df_scaled.head()"
   ]
  },
  {
   "cell_type": "markdown",
   "id": "7c98da66",
   "metadata": {},
   "source": [
    "# Linear Regression"
   ]
  },
  {
   "cell_type": "code",
   "execution_count": 150,
   "id": "91a11c47",
   "metadata": {},
   "outputs": [],
   "source": [
    "features_scaled = df_scaled[[\"age\",\n",
    "                    \"sex_Male\",\n",
    "                    \"race_Asian\",  \n",
    "                    \"race_Caucasian\",\n",
    "                    \"race_Hispanic\",\n",
    "                    \"race_Native American\",\n",
    "                    \"race_Other\",\n",
    "                    \"degree_M\",\n",
    "                    \"priors_count\",\n",
    "                    \"juv_fel_count\",\n",
    "                    \"juv_misd_count\",\n",
    "                    \"juv_other_count\",\n",
    "                    \"two_year_recid\"]]\n",
    "\n",
    "target_log= df_scaled.decile_score"
   ]
  },
  {
   "cell_type": "code",
   "execution_count": 151,
   "id": "3c0a6762",
   "metadata": {},
   "outputs": [],
   "source": [
    "x = features_scaled.values\n",
    "y=target_log.values\n",
    "X_train, X_test, y_train, y_test = train_test_split(x,y, test_size=0.33)"
   ]
  },
  {
   "cell_type": "code",
   "execution_count": 152,
   "id": "9b58146c",
   "metadata": {},
   "outputs": [],
   "source": [
    "linearreg = LinearRegression()\n",
    "linearreg.fit(X_train,y_train)\n",
    "y_pred = linearreg.predict(X_test)"
   ]
  },
  {
   "cell_type": "code",
   "execution_count": 153,
   "id": "31eba73d",
   "metadata": {},
   "outputs": [
    {
     "data": {
      "text/plain": [
       "0.46901351662745816"
      ]
     },
     "execution_count": 153,
     "metadata": {},
     "output_type": "execute_result"
    }
   ],
   "source": [
    "r2_score(y_test, y_pred)"
   ]
  },
  {
   "cell_type": "code",
   "execution_count": 154,
   "id": "71aa2b6f",
   "metadata": {},
   "outputs": [
    {
     "data": {
      "text/plain": [
       "0.3333835491855263"
      ]
     },
     "execution_count": 154,
     "metadata": {},
     "output_type": "execute_result"
    }
   ],
   "source": [
    "mean_squared_error(y_test, y_pred)"
   ]
  },
  {
   "cell_type": "markdown",
   "id": "0ff88f91",
   "metadata": {},
   "source": [
    "# Polynomial Feautures"
   ]
  },
  {
   "cell_type": "markdown",
   "id": "cd6e489a",
   "metadata": {},
   "source": [
    "* The best degree of polynomial should be the degree that generates the lowest RMSE in cross validation set. "
   ]
  },
  {
   "cell_type": "code",
   "execution_count": 155,
   "id": "342582b3",
   "metadata": {},
   "outputs": [],
   "source": [
    "features_new = df_scaled[[\"age\",\n",
    "                    \"sex_Male\",\n",
    "                    \"race_Asian\",  \n",
    "                    \"race_Caucasian\",\n",
    "                    \"race_Hispanic\",\n",
    "                    \"race_Native American\",\n",
    "                    \"race_Other\",\n",
    "                    \"degree_M\",\n",
    "                    \"priors_count\",\n",
    "                    \"juv_fel_count\",\n",
    "                    \"juv_misd_count\",\n",
    "                    \"juv_other_count\",\n",
    "                    \"two_year_recid\"]]\n",
    "\n",
    "target_new= df_scaled.decile_score"
   ]
  },
  {
   "cell_type": "code",
   "execution_count": 156,
   "id": "ae777991",
   "metadata": {},
   "outputs": [],
   "source": [
    "x_new = features_scaled.values\n",
    "y_new=target_log.values\n",
    "X_train, X_test, y_train, y_test = train_test_split(x_new,y_new, test_size=0.33)"
   ]
  },
  {
   "cell_type": "code",
   "execution_count": 19,
   "id": "4c0f9bbd",
   "metadata": {},
   "outputs": [
    {
     "name": "stdout",
     "output_type": "stream",
     "text": [
      "Best degree 3 with RMSE 0.5826517461175078\n"
     ]
    },
    {
     "data": {
      "text/plain": [
       "Text(0, 0.5, 'RMSE')"
      ]
     },
     "execution_count": 19,
     "metadata": {},
     "output_type": "execute_result"
    },
    {
     "data": {
      "image/png": "[encoded data removed]",
      "text/plain": [
       "<Figure size 432x288 with 1 Axes>"
      ]
     },
     "metadata": {
      "needs_background": "light"
     },
     "output_type": "display_data"
    }
   ],
   "source": [
    "rmses = []\n",
    "degrees = np.arange(2, 6)\n",
    "min_rmse, min_deg = 1e10, 0\n",
    "\n",
    "for deg in degrees:\n",
    "\n",
    "    # Train features\n",
    "    poly_features = PolynomialFeatures(degree=deg, include_bias=False)\n",
    "    x_poly_train = poly_features.fit_transform(X_train)\n",
    "\n",
    "    # Linear regression\n",
    "    poly_reg = LinearRegression()\n",
    "    poly_reg.fit(x_poly_train, y_train)\n",
    "\n",
    "    # Compare with test data\n",
    "    x_poly_test = poly_features.fit_transform(X_test)\n",
    "    poly_predict = poly_reg.predict(x_poly_test)\n",
    "    poly_mse = mean_squared_error(y_test, poly_predict)\n",
    "    poly_rmse = np.sqrt(poly_mse)\n",
    "    rmses.append(poly_rmse)\n",
    "    \n",
    "    # Cross-validation of degree\n",
    "    if min_rmse > poly_rmse:\n",
    "        min_rmse = poly_rmse\n",
    "        min_deg = deg\n",
    "\n",
    "# Plot and present results\n",
    "print('Best degree {} with RMSE {}'.format(min_deg, min_rmse))\n",
    "        \n",
    "fig = plt.figure()\n",
    "ax = fig.add_subplot(111)\n",
    "ax.plot(degrees, rmses)\n",
    "ax.set_yscale('log')\n",
    "ax.set_xlabel('Degree')\n",
    "ax.set_ylabel('RMSE')"
   ]
  },
  {
   "cell_type": "code",
   "execution_count": 157,
   "id": "fb00af30",
   "metadata": {},
   "outputs": [
    {
     "data": {
      "text/plain": [
       "Pipeline(steps=[('polynomialfeatures', PolynomialFeatures(degree=3)),\n",
       "                ('linearregression', LinearRegression())])"
      ]
     },
     "execution_count": 157,
     "metadata": {},
     "output_type": "execute_result"
    }
   ],
   "source": [
    "degree=3\n",
    "polyreg_scaled=make_pipeline(PolynomialFeatures(degree),LinearRegression())\n",
    "polyreg_scaled.fit(X_train,y_train)"
   ]
  },
  {
   "cell_type": "code",
   "execution_count": 158,
   "id": "8d2a0f1e",
   "metadata": {},
   "outputs": [
    {
     "data": {
      "text/plain": [
       "0.47397756290816195"
      ]
     },
     "execution_count": 158,
     "metadata": {},
     "output_type": "execute_result"
    }
   ],
   "source": [
    "y_pred = linearreg.predict(X_test)\n",
    "r2_score(y_test, y_pred)"
   ]
  },
  {
   "cell_type": "code",
   "execution_count": 159,
   "id": "f662771a",
   "metadata": {},
   "outputs": [
    {
     "data": {
      "text/plain": [
       "0.31507208382746804"
      ]
     },
     "execution_count": 159,
     "metadata": {},
     "output_type": "execute_result"
    }
   ],
   "source": [
    "mean_squared_error(y_test, y_pred)"
   ]
  },
  {
   "cell_type": "code",
   "execution_count": null,
   "id": "4a93ba39",
   "metadata": {},
   "outputs": [],
   "source": []
  },
  {
   "cell_type": "markdown",
   "id": "160b45e2",
   "metadata": {},
   "source": [
    "# Lasso Regression"
   ]
  },
  {
   "cell_type": "code",
   "execution_count": 160,
   "id": "9baeb80a",
   "metadata": {},
   "outputs": [],
   "source": [
    "features_new = df_scaled[[\"age\",\n",
    "                    \"sex_Male\",\n",
    "                    \"race_Asian\",  \n",
    "                    \"race_Caucasian\",\n",
    "                    \"race_Hispanic\",\n",
    "                    \"race_Native American\",\n",
    "                    \"race_Other\",\n",
    "                    \"degree_M\",\n",
    "                    \"priors_count\",\n",
    "                    \"juv_fel_count\",\n",
    "                    \"juv_misd_count\",\n",
    "                    \"juv_other_count\",\n",
    "                    \"two_year_recid\"]]\n",
    "\n",
    "target_new= df_scaled[\"decile_score\"]"
   ]
  },
  {
   "cell_type": "code",
   "execution_count": 161,
   "id": "2a3d6036",
   "metadata": {},
   "outputs": [],
   "source": [
    "x = features_new\n",
    "y=target_log.values\n",
    "X_train, X_test, y_train, y_test = train_test_split(x,y, test_size=0.33)\n"
   ]
  },
  {
   "cell_type": "code",
   "execution_count": 162,
   "id": "a5547150",
   "metadata": {},
   "outputs": [
    {
     "name": "stdout",
     "output_type": "stream",
     "text": [
      "{'alpha': 0.1}\n",
      "Training Score: 0.03979770006099248\n",
      "Test Score: 0.03911454146654958\n"
     ]
    }
   ],
   "source": [
    "#optimal parameter\n",
    "\n",
    "from sklearn.linear_model import Lasso\n",
    "from sklearn.model_selection import GridSearchCV\n",
    "\n",
    "param_grid = {'alpha':np.arange(0.1,1,0.05)}\n",
    "\n",
    "lasso = Lasso()\n",
    "\n",
    "lasso_cv = GridSearchCV(lasso, param_grid, cv = 5)\n",
    "\n",
    "lasso_cv.fit(X_train, y_train)\n",
    "print(lasso_cv.best_params_)\n",
    "\n",
    "print('Training Score:', lasso_cv.score(X_train, y_train))\n",
    "print('Test Score:', lasso_cv.score(X_test, y_test))"
   ]
  },
  {
   "cell_type": "code",
   "execution_count": 163,
   "id": "bfa76b70",
   "metadata": {},
   "outputs": [
    {
     "data": {
      "text/plain": [
       "0.03911454146654958"
      ]
     },
     "execution_count": 163,
     "metadata": {},
     "output_type": "execute_result"
    }
   ],
   "source": [
    "lasso = Lasso(alpha=0.1) #, normalize=True)\n",
    "lasso.fit(X_train, y_train)\n",
    "lasso_pred = lasso.predict(X_test)\n",
    "#Returns the coefficient of determination R^2 of the prediction.\n",
    "lasso.score(X_test, y_test)\n",
    "r2_score(y_test, lasso_pred)"
   ]
  },
  {
   "cell_type": "code",
   "execution_count": 164,
   "id": "6872d9db",
   "metadata": {},
   "outputs": [
    {
     "data": {
      "text/plain": [
       "0.5832759157249043"
      ]
     },
     "execution_count": 164,
     "metadata": {},
     "output_type": "execute_result"
    }
   ],
   "source": [
    "mean_squared_error(y_test, lasso_pred)"
   ]
  },
  {
   "cell_type": "markdown",
   "id": "5a4f670b",
   "metadata": {},
   "source": [
    "# Ridge Regression"
   ]
  },
  {
   "cell_type": "code",
   "execution_count": 165,
   "id": "1e8dabb5",
   "metadata": {},
   "outputs": [],
   "source": [
    "features_new = df_scaled[[\"age\",\n",
    "                    \"sex_Male\",\n",
    "                    \"race_Asian\",  \n",
    "                    \"race_Caucasian\",\n",
    "                    \"race_Hispanic\",\n",
    "                    \"race_Native American\",\n",
    "                    \"race_Other\",\n",
    "                    \"degree_M\",\n",
    "                    \"priors_count\",\n",
    "                    \"juv_fel_count\",\n",
    "                    \"juv_misd_count\",\n",
    "                    \"juv_other_count\",\n",
    "                    \"two_year_recid\"]]\n",
    "\n",
    "target_new= df_scaled.decile_score"
   ]
  },
  {
   "cell_type": "code",
   "execution_count": 166,
   "id": "a26e3e24",
   "metadata": {},
   "outputs": [],
   "source": [
    "X = features_scaled.values\n",
    "y=target_new.values\n",
    "X_train, X_test, y_train, y_test = train_test_split(X,y, test_size=0.33)"
   ]
  },
  {
   "cell_type": "code",
   "execution_count": 167,
   "id": "d9bdde9c",
   "metadata": {},
   "outputs": [
    {
     "name": "stdout",
     "output_type": "stream",
     "text": [
      "Mean MAE: 0.461 (0.012)\n"
     ]
    }
   ],
   "source": [
    "model = Ridge(alpha=1.0)\n",
    "# define model evaluation method\n",
    "cv = RepeatedKFold(n_splits=10, n_repeats=3, random_state=1)\n",
    "# evaluate model\n",
    "scores = cross_val_score(model, X, y, scoring='neg_mean_absolute_error', cv=cv, n_jobs=-1)\n",
    "# force scores to be positive\n",
    "scores = absolute(scores)\n",
    "print('Mean MAE: %.3f (%.3f)' % (mean(scores), std(scores)))"
   ]
  },
  {
   "cell_type": "code",
   "execution_count": 168,
   "id": "d6618f9b",
   "metadata": {},
   "outputs": [],
   "source": [
    "ridge2 = Ridge(alpha=0.1, normalize=False)\n",
    "ridge2.fit(X_train, y_train)\n",
    "ridge2_pred = ridge2.predict(X_test)"
   ]
  },
  {
   "cell_type": "code",
   "execution_count": 169,
   "id": "084f1223",
   "metadata": {},
   "outputs": [
    {
     "data": {
      "text/plain": [
       "0.47097652106502297"
      ]
     },
     "execution_count": 169,
     "metadata": {},
     "output_type": "execute_result"
    }
   ],
   "source": [
    "r2_score(y_test, ridge2_pred)"
   ]
  },
  {
   "cell_type": "code",
   "execution_count": 170,
   "id": "75c66d33",
   "metadata": {},
   "outputs": [
    {
     "data": {
      "text/plain": [
       "0.3268804342386649"
      ]
     },
     "execution_count": 170,
     "metadata": {},
     "output_type": "execute_result"
    }
   ],
   "source": [
    "mean_squared_error(y_test, ridge2_pred)"
   ]
  },
  {
   "cell_type": "code",
   "execution_count": 171,
   "id": "01740770",
   "metadata": {},
   "outputs": [
    {
     "name": "stdout",
     "output_type": "stream",
     "text": [
      "MAE: -0.461\n",
      "Config: {'alpha': 0.0}\n"
     ]
    }
   ],
   "source": [
    "model = Ridge()\n",
    "# define model evaluation method\n",
    "cv = RepeatedKFold(n_splits=10, n_repeats=3, random_state=1)\n",
    "# define grid\n",
    "grid = dict()\n",
    "grid['alpha'] = arange(0, 1, 0.01)\n",
    "# define search\n",
    "search = GridSearchCV(model, grid, scoring='neg_mean_absolute_error', cv=cv, n_jobs=-1)\n",
    "# perform the search\n",
    "results = search.fit(X, y)\n",
    "# summarize\n",
    "print('MAE: %.3f' % results.best_score_)\n",
    "print('Config: %s' % results.best_params_)"
   ]
  },
  {
   "cell_type": "markdown",
   "id": "f63252cb",
   "metadata": {},
   "source": [
    "* α = 0: The objective becomes same as simple linear regression."
   ]
  },
  {
   "cell_type": "markdown",
   "id": "2374611f",
   "metadata": {},
   "source": [
    "# Elastic Net"
   ]
  },
  {
   "cell_type": "code",
   "execution_count": 182,
   "id": "6d170277",
   "metadata": {},
   "outputs": [],
   "source": [
    "features_new = df_scaled[[\"age\",\n",
    "                    \"sex_Male\",\n",
    "                    \"race_Asian\",  \n",
    "                    \"race_Caucasian\",\n",
    "                    \"race_Hispanic\",\n",
    "                    \"race_Native American\",\n",
    "                    \"race_Other\",\n",
    "                    \"degree_M\",\n",
    "                    \"priors_count\",\n",
    "                    \"juv_fel_count\",\n",
    "                    \"juv_misd_count\",\n",
    "                    \"juv_other_count\",\n",
    "                    \"two_year_recid\"]]\n",
    "\n",
    "target_new= df_scaled.decile_score"
   ]
  },
  {
   "cell_type": "code",
   "execution_count": 183,
   "id": "97add3ee",
   "metadata": {},
   "outputs": [],
   "source": [
    "X = features_scaled.values\n",
    "y=target_new.values\n",
    "X_train, X_test, y_train, y_test = train_test_split(X,y, test_size=0.33)"
   ]
  },
  {
   "cell_type": "code",
   "execution_count": 184,
   "id": "9acc537b",
   "metadata": {},
   "outputs": [
    {
     "ename": "TypeError",
     "evalue": "'ElasticNet' object is not callable",
     "output_type": "error",
     "traceback": [
      "\u001b[0;31m---------------------------------------------------------------------------\u001b[0m",
      "\u001b[0;31mTypeError\u001b[0m                                 Traceback (most recent call last)",
      "\u001b[0;32m<ipython-input-184-f594bb0e3f5d>\u001b[0m in \u001b[0;36m<module>\u001b[0;34m\u001b[0m\n\u001b[0;32m----> 1\u001b[0;31m \u001b[0mmodel\u001b[0m \u001b[0;34m=\u001b[0m \u001b[0mElasticNet\u001b[0m\u001b[0;34m(\u001b[0m\u001b[0malpha\u001b[0m\u001b[0;34m=\u001b[0m\u001b[0;36m1.0\u001b[0m\u001b[0;34m,\u001b[0m \u001b[0ml1_ratio\u001b[0m\u001b[0;34m=\u001b[0m\u001b[0;36m0.5\u001b[0m\u001b[0;34m)\u001b[0m\u001b[0;34m\u001b[0m\u001b[0;34m\u001b[0m\u001b[0m\n\u001b[0m\u001b[1;32m      2\u001b[0m \u001b[0;31m# define model evaluation method\u001b[0m\u001b[0;34m\u001b[0m\u001b[0;34m\u001b[0m\u001b[0;34m\u001b[0m\u001b[0m\n\u001b[1;32m      3\u001b[0m \u001b[0mcv\u001b[0m \u001b[0;34m=\u001b[0m \u001b[0mRepeatedKFold\u001b[0m\u001b[0;34m(\u001b[0m\u001b[0mn_splits\u001b[0m\u001b[0;34m=\u001b[0m\u001b[0;36m10\u001b[0m\u001b[0;34m,\u001b[0m \u001b[0mn_repeats\u001b[0m\u001b[0;34m=\u001b[0m\u001b[0;36m3\u001b[0m\u001b[0;34m,\u001b[0m \u001b[0mrandom_state\u001b[0m\u001b[0;34m=\u001b[0m\u001b[0;36m1\u001b[0m\u001b[0;34m)\u001b[0m\u001b[0;34m\u001b[0m\u001b[0;34m\u001b[0m\u001b[0m\n\u001b[1;32m      4\u001b[0m \u001b[0;31m# evaluate model\u001b[0m\u001b[0;34m\u001b[0m\u001b[0;34m\u001b[0m\u001b[0;34m\u001b[0m\u001b[0m\n\u001b[1;32m      5\u001b[0m \u001b[0mscores\u001b[0m \u001b[0;34m=\u001b[0m \u001b[0mcross_val_score\u001b[0m\u001b[0;34m(\u001b[0m\u001b[0mmodel\u001b[0m\u001b[0;34m,\u001b[0m \u001b[0mX\u001b[0m\u001b[0;34m,\u001b[0m \u001b[0my\u001b[0m\u001b[0;34m,\u001b[0m \u001b[0mscoring\u001b[0m\u001b[0;34m=\u001b[0m\u001b[0;34m'neg_mean_absolute_error'\u001b[0m\u001b[0;34m,\u001b[0m \u001b[0mcv\u001b[0m\u001b[0;34m=\u001b[0m\u001b[0mcv\u001b[0m\u001b[0;34m,\u001b[0m \u001b[0mn_jobs\u001b[0m\u001b[0;34m=\u001b[0m\u001b[0;34m-\u001b[0m\u001b[0;36m1\u001b[0m\u001b[0;34m)\u001b[0m\u001b[0;34m\u001b[0m\u001b[0;34m\u001b[0m\u001b[0m\n",
      "\u001b[0;31mTypeError\u001b[0m: 'ElasticNet' object is not callable"
     ]
    }
   ],
   "source": [
    "model = ElasticNet(alpha=1.0, l1_ratio=0.5)\n",
    "# define model evaluation method\n",
    "cv = RepeatedKFold(n_splits=10, n_repeats=3, random_state=1)\n",
    "# evaluate model\n",
    "scores = cross_val_score(model, X, y, scoring='neg_mean_absolute_error', cv=cv, n_jobs=-1)\n",
    "# force scores to be positive\n",
    "scores = absolute(scores)\n",
    "print('Mean MAE: %.3f (%.3f)' % (mean(scores), std(scores)))"
   ]
  },
  {
   "cell_type": "code",
   "execution_count": 181,
   "id": "777135e5",
   "metadata": {},
   "outputs": [
    {
     "ename": "TypeError",
     "evalue": "'ElasticNet' object is not callable",
     "output_type": "error",
     "traceback": [
      "\u001b[0;31m---------------------------------------------------------------------------\u001b[0m",
      "\u001b[0;31mTypeError\u001b[0m                                 Traceback (most recent call last)",
      "\u001b[0;32m<ipython-input-181-9c616bcc4f45>\u001b[0m in \u001b[0;36m<module>\u001b[0;34m\u001b[0m\n\u001b[0;32m----> 1\u001b[0;31m \u001b[0mElasticNet\u001b[0m \u001b[0;34m=\u001b[0m \u001b[0mElasticNet\u001b[0m\u001b[0;34m(\u001b[0m\u001b[0malpha\u001b[0m\u001b[0;34m=\u001b[0m\u001b[0;36m0.1\u001b[0m\u001b[0;34m,\u001b[0m \u001b[0mnormalize\u001b[0m\u001b[0;34m=\u001b[0m\u001b[0;32mFalse\u001b[0m\u001b[0;34m)\u001b[0m\u001b[0;34m\u001b[0m\u001b[0;34m\u001b[0m\u001b[0m\n\u001b[0m\u001b[1;32m      2\u001b[0m \u001b[0mElasticNet\u001b[0m\u001b[0;34m.\u001b[0m\u001b[0mfit\u001b[0m\u001b[0;34m(\u001b[0m\u001b[0mX_train\u001b[0m\u001b[0;34m,\u001b[0m \u001b[0my_train\u001b[0m\u001b[0;34m)\u001b[0m\u001b[0;34m\u001b[0m\u001b[0;34m\u001b[0m\u001b[0m\n\u001b[1;32m      3\u001b[0m \u001b[0mElasticNet_pred\u001b[0m \u001b[0;34m=\u001b[0m \u001b[0mElasticNet\u001b[0m\u001b[0;34m.\u001b[0m\u001b[0mpredict\u001b[0m\u001b[0;34m(\u001b[0m\u001b[0mX_test\u001b[0m\u001b[0;34m)\u001b[0m\u001b[0;34m\u001b[0m\u001b[0;34m\u001b[0m\u001b[0m\n",
      "\u001b[0;31mTypeError\u001b[0m: 'ElasticNet' object is not callable"
     ]
    }
   ],
   "source": [
    "ElasticNet = ElasticNet(alpha=0.1, normalize=False)\n",
    "ElasticNet.fit(X_train, y_train)\n",
    "ElasticNet_pred = ElasticNet.predict(X_test)"
   ]
  },
  {
   "cell_type": "code",
   "execution_count": 176,
   "id": "ed495927",
   "metadata": {},
   "outputs": [
    {
     "data": {
      "text/plain": [
       "0.10017335002702044"
      ]
     },
     "execution_count": 176,
     "metadata": {},
     "output_type": "execute_result"
    }
   ],
   "source": [
    "r2_score(y_test, ElasticNet_pred)"
   ]
  },
  {
   "cell_type": "code",
   "execution_count": 177,
   "id": "886ea3e8",
   "metadata": {},
   "outputs": [
    {
     "data": {
      "text/plain": [
       "0.5514079148502831"
      ]
     },
     "execution_count": 177,
     "metadata": {},
     "output_type": "execute_result"
    }
   ],
   "source": [
    "mean_squared_error(y_test, ElasticNet_pred)"
   ]
  },
  {
   "cell_type": "code",
   "execution_count": 179,
   "id": "c52935b6",
   "metadata": {},
   "outputs": [
    {
     "ename": "TypeError",
     "evalue": "'ElasticNet' object is not callable",
     "output_type": "error",
     "traceback": [
      "\u001b[0;31m---------------------------------------------------------------------------\u001b[0m",
      "\u001b[0;31mTypeError\u001b[0m                                 Traceback (most recent call last)",
      "\u001b[0;32m<ipython-input-179-b85ca195162e>\u001b[0m in \u001b[0;36m<module>\u001b[0;34m\u001b[0m\n\u001b[0;32m----> 1\u001b[0;31m \u001b[0mmodel\u001b[0m \u001b[0;34m=\u001b[0m \u001b[0mElasticNet\u001b[0m\u001b[0;34m(\u001b[0m\u001b[0;34m)\u001b[0m\u001b[0;34m\u001b[0m\u001b[0;34m\u001b[0m\u001b[0m\n\u001b[0m\u001b[1;32m      2\u001b[0m \u001b[0;31m# define model evaluation method\u001b[0m\u001b[0;34m\u001b[0m\u001b[0;34m\u001b[0m\u001b[0;34m\u001b[0m\u001b[0m\n\u001b[1;32m      3\u001b[0m \u001b[0mcv\u001b[0m \u001b[0;34m=\u001b[0m \u001b[0mRepeatedKFold\u001b[0m\u001b[0;34m(\u001b[0m\u001b[0mn_splits\u001b[0m\u001b[0;34m=\u001b[0m\u001b[0;36m10\u001b[0m\u001b[0;34m,\u001b[0m \u001b[0mn_repeats\u001b[0m\u001b[0;34m=\u001b[0m\u001b[0;36m3\u001b[0m\u001b[0;34m,\u001b[0m \u001b[0mrandom_state\u001b[0m\u001b[0;34m=\u001b[0m\u001b[0;36m1\u001b[0m\u001b[0;34m)\u001b[0m\u001b[0;34m\u001b[0m\u001b[0;34m\u001b[0m\u001b[0m\n\u001b[1;32m      4\u001b[0m \u001b[0;31m# define grid\u001b[0m\u001b[0;34m\u001b[0m\u001b[0;34m\u001b[0m\u001b[0;34m\u001b[0m\u001b[0m\n\u001b[1;32m      5\u001b[0m \u001b[0mgrid\u001b[0m \u001b[0;34m=\u001b[0m \u001b[0mdict\u001b[0m\u001b[0;34m(\u001b[0m\u001b[0;34m)\u001b[0m\u001b[0;34m\u001b[0m\u001b[0;34m\u001b[0m\u001b[0m\n",
      "\u001b[0;31mTypeError\u001b[0m: 'ElasticNet' object is not callable"
     ]
    }
   ],
   "source": [
    "model = ElasticNet()\n",
    "# define model evaluation method\n",
    "cv = RepeatedKFold(n_splits=10, n_repeats=3, random_state=1)\n",
    "# define grid\n",
    "grid = dict()\n",
    "grid['alpha'] = [1e-5, 1e-4, 1e-3, 1e-2, 1e-1, 0.0, 1.0, 10.0, 100.0]\n",
    "grid['l1_ratio'] = arange(0, 1, 0.01)\n",
    "# define search\n",
    "search = GridSearchCV(model, grid, scoring='neg_mean_absolute_error', cv=cv, n_jobs=-1)\n",
    "# perform the search\n",
    "results = search.fit(X, y)\n",
    "# summarize\n",
    "print('MAE: %.3f' % results.best_score_)\n",
    "print('Config: %s' % results.best_params_)"
   ]
  },
  {
   "cell_type": "markdown",
   "id": "b114573e",
   "metadata": {},
   "source": [
    "* α = 0: Again, the objective becomes same as simple linear regression."
   ]
  },
  {
   "cell_type": "markdown",
   "id": "f6240286",
   "metadata": {},
   "source": [
    "# Logistic Regression"
   ]
  },
  {
   "cell_type": "markdown",
   "id": "6f169cf8",
   "metadata": {},
   "source": [
    "* scikit-learn’s LogisticRegression for classification problems only. "
   ]
  },
  {
   "cell_type": "code",
   "execution_count": 93,
   "id": "32a33d52",
   "metadata": {},
   "outputs": [],
   "source": [
    "features_new = df_scaled[[\"age\",\n",
    "                    \"sex_Male\",\n",
    "                    \"race_Asian\",  \n",
    "                    \"race_Caucasian\",\n",
    "                    \"race_Hispanic\",\n",
    "                    \"race_Native American\",\n",
    "                    \"race_Other\",\n",
    "                    \"degree_M\",\n",
    "                    \"priors_count\",\n",
    "                    \"juv_fel_count\",\n",
    "                    \"juv_misd_count\",\n",
    "                    \"juv_other_count\",\n",
    "                    \"two_year_recid\"]]\n",
    "\n",
    "target_new= df[\"decile_score\"]"
   ]
  },
  {
   "cell_type": "code",
   "execution_count": 94,
   "id": "8e022969",
   "metadata": {},
   "outputs": [],
   "source": [
    "x = features_new\n",
    "y=target_new.values\n",
    "X_train_log, X_test_log, y_train_log, y_test_log = train_test_split(x,y, test_size=0.33)"
   ]
  },
  {
   "cell_type": "code",
   "execution_count": 95,
   "id": "dc9483a3",
   "metadata": {},
   "outputs": [
    {
     "name": "stdout",
     "output_type": "stream",
     "text": [
      "[2 5 2 ... 3 1 1]\n"
     ]
    },
    {
     "name": "stderr",
     "output_type": "stream",
     "text": [
      "/opt/anaconda3/lib/python3.8/site-packages/sklearn/linear_model/_logistic.py:763: ConvergenceWarning: lbfgs failed to converge (status=1):\n",
      "STOP: TOTAL NO. of ITERATIONS REACHED LIMIT.\n",
      "\n",
      "Increase the number of iterations (max_iter) or scale the data as shown in:\n",
      "    https://scikit-learn.org/stable/modules/preprocessing.html\n",
      "Please also refer to the documentation for alternative solver options:\n",
      "    https://scikit-learn.org/stable/modules/linear_model.html#logistic-regression\n",
      "  n_iter_i = _check_optimize_result(\n"
     ]
    }
   ],
   "source": [
    "logisticregression = LogisticRegression()\n",
    "logisticregression.fit(X_train_log,y_train_log)\n",
    "y_pred = logisticregression.predict(X_test_log)\n",
    "print(y_pred)"
   ]
  },
  {
   "cell_type": "code",
   "execution_count": 96,
   "id": "7b447fa4",
   "metadata": {},
   "outputs": [
    {
     "data": {
      "text/plain": [
       "0.11339535992821959"
      ]
     },
     "execution_count": 96,
     "metadata": {},
     "output_type": "execute_result"
    }
   ],
   "source": [
    "r2_score(y_test_log, y_pred)"
   ]
  },
  {
   "cell_type": "code",
   "execution_count": 126,
   "id": "a312741c",
   "metadata": {},
   "outputs": [
    {
     "data": {
      "text/plain": [
       "0.30360623781676416"
      ]
     },
     "execution_count": 126,
     "metadata": {},
     "output_type": "execute_result"
    }
   ],
   "source": [
    "mean_squared_error(y_test, y_pred)"
   ]
  },
  {
   "cell_type": "markdown",
   "id": "e432a005",
   "metadata": {},
   "source": [
    "# two_year_recid - target variable"
   ]
  },
  {
   "cell_type": "code",
   "execution_count": 131,
   "id": "933e7c69",
   "metadata": {},
   "outputs": [],
   "source": [
    "features_new_1 = pd.concat([df.age,\n",
    "                    pd.get_dummies(df.sex, prefix='sex',drop_first=True),\n",
    "                    pd.get_dummies(df.race, prefix='race',drop_first=True),  \n",
    "                    pd.get_dummies(df.c_charge_degree, prefix='degree',drop_first=True), # felony or misdemeanor charge ('f' or 'm')\n",
    "                    df.priors_count,\n",
    "                    df.is_recid,\n",
    "                    df.event,\n",
    "                    df.end,\n",
    "                    df.decile_score],\n",
    "                    axis=1)\n",
    "\n",
    "target_new_1 = df.two_year_recid"
   ]
  },
  {
   "cell_type": "code",
   "execution_count": 132,
   "id": "b0a0144f",
   "metadata": {},
   "outputs": [],
   "source": [
    "x_new = features_new_1\n",
    "y_new=target_new_1.values\n",
    "X_train_new, X_test_new, y_train_new, y_test_new = train_test_split(x_new,y_new, test_size=0.33, random_state=42)"
   ]
  },
  {
   "cell_type": "code",
   "execution_count": 133,
   "id": "e573539b",
   "metadata": {},
   "outputs": [
    {
     "data": {
      "image/png": "[encoded data removed]",
      "text/plain": [
       "<Figure size 576x396 with 2 Axes>"
      ]
     },
     "metadata": {},
     "output_type": "display_data"
    },
    {
     "data": {
      "text/plain": [
       "<AxesSubplot:title={'center':'Residuals for LinearRegression Model'}, xlabel='Predicted Value', ylabel='Residuals'>"
      ]
     },
     "execution_count": 133,
     "metadata": {},
     "output_type": "execute_result"
    }
   ],
   "source": [
    "linearreg = LinearRegression()\n",
    "linearreg.fit(X_train_new,y_train_new)\n",
    "y_pred_new = linearreg.predict(X_test_new)\n",
    "from yellowbrick.regressor import ResidualsPlot\n",
    "visualizer = ResidualsPlot(linearreg)\n",
    "visualizer.fit(X_train_new, y_train_new)  # Fit the training data to the visualizer\n",
    "visualizer.score(X_test_new, y_test_new)  # Evaluate the model on the test data\n",
    "visualizer.show()  "
   ]
  },
  {
   "cell_type": "code",
   "execution_count": 134,
   "id": "7665f4b2",
   "metadata": {},
   "outputs": [
    {
     "data": {
      "text/plain": [
       "0.8698662184754693"
      ]
     },
     "execution_count": 134,
     "metadata": {},
     "output_type": "execute_result"
    }
   ],
   "source": [
    "r2_score(y_test_new, y_pred_new)"
   ]
  },
  {
   "cell_type": "code",
   "execution_count": 127,
   "id": "96314ba9",
   "metadata": {},
   "outputs": [
    {
     "data": {
      "text/plain": [
       "0.030110456619271652"
      ]
     },
     "execution_count": 127,
     "metadata": {},
     "output_type": "execute_result"
    }
   ],
   "source": [
    "mean_squared_error(y_test_new, y_pred_new)"
   ]
  },
  {
   "cell_type": "markdown",
   "id": "3bee0ebb",
   "metadata": {},
   "source": [
    "# Evaluating the final model.\n",
    "* It is important to note that, before assessing or evaluating our model with evaluation metrics like R-squared, we must make use of residual plots. Residual plots expose a biased model than any other evaluation metric. If your residual plots look normal, go ahead, and evaluate your model with various metrics. Residual plots show the residual values on the y-axis and predicted values on the x-axis. If your model is biased you cannot trust the results. Residual plot showing the errors corresponding to the predicted values must be randomly distributed. However, if there are any signs of a systematic pattern, then your model is biased.\n",
    "* One of the assumptions of a linear regression model is that the errors must be normally distributed. This means, make sure your residuals are distributed around zero for the entire range of predicted values. Thus, if the residuals are evenly scattered, then your model may perform well."
   ]
  },
  {
   "cell_type": "code",
   "execution_count": 3,
   "id": "cb425dce",
   "metadata": {},
   "outputs": [
    {
     "ename": "NameError",
     "evalue": "name 'version' is not defined",
     "output_type": "error",
     "traceback": [
      "\u001b[0;31m---------------------------------------------------------------------------\u001b[0m",
      "\u001b[0;31mNameError\u001b[0m                                 Traceback (most recent call last)",
      "\u001b[0;32m<ipython-input-3-4bc6a30f992c>\u001b[0m in \u001b[0;36m<module>\u001b[0;34m\u001b[0m\n\u001b[0;32m----> 1\u001b[0;31m \u001b[0;34m-\u001b[0m\u001b[0;34m-\u001b[0m\u001b[0mversion\u001b[0m\u001b[0;34m\u001b[0m\u001b[0;34m\u001b[0m\u001b[0m\n\u001b[0m",
      "\u001b[0;31mNameError\u001b[0m: name 'version' is not defined"
     ]
    }
   ],
   "source": [
    "--version"
   ]
  },
  {
   "cell_type": "code",
   "execution_count": null,
   "id": "3f9ac971",
   "metadata": {},
   "outputs": [],
   "source": []
  }
 ],
 "metadata": {
  "kernelspec": {
   "display_name": "Python 3",
   "language": "python",
   "name": "python3"
  },
  "language_info": {
   "codemirror_mode": {
    "name": "ipython",
    "version": 3
   },
   "file_extension": ".py",
   "mimetype": "text/x-python",
   "name": "python",
   "nbconvert_exporter": "python",
   "pygments_lexer": "ipython3",
   "version": "3.8.8"
  }
 },
 "nbformat": 4,
 "nbformat_minor": 5
}
