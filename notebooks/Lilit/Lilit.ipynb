{
 "cells": [
  {
   "cell_type": "code",
   "execution_count": 22,
   "id": "a3f11236",
   "metadata": {},
   "outputs": [],
   "source": [
    "import numpy as np\n",
    "import pandas as pd\n",
    "import matplotlib.pyplot as plt\n",
    "import seaborn as sns\n",
    "from sklearn.linear_model import LogisticRegression\n",
    "import statsmodels.formula.api as smf\n",
    "from statsmodels.formula.api import logit"
   ]
  },
  {
   "cell_type": "markdown",
   "id": "7ed4ff42",
   "metadata": {},
   "source": [
    "### EXPLORATORY DATA ANALYSIS"
   ]
  },
  {
   "cell_type": "code",
   "execution_count": 3,
   "id": "98391eda",
   "metadata": {},
   "outputs": [
    {
     "data": {
      "text/plain": [
       "(7214, 53)"
      ]
     },
     "execution_count": 3,
     "metadata": {},
     "output_type": "execute_result"
    }
   ],
   "source": [
    "raw_data = pd.read_csv(\"/Users/lilitharutyunyan/Documents/GitHub/compas-analysis/compas-scores-two-years.csv\", parse_dates=[\"c_jail_in\", \"c_jail_out\"])\n",
    "raw_data.shape"
   ]
  },
  {
   "cell_type": "code",
   "execution_count": 4,
   "id": "03a91e84",
   "metadata": {},
   "outputs": [],
   "source": [
    "\n",
    "df = raw_data[[\"age\", \"c_charge_degree\", \"race\", \"age_cat\", \"score_text\", \"sex\", \"priors_count\", \n",
    "          \"days_b_screening_arrest\", \"decile_score\", \"is_recid\", \"two_year_recid\", \"c_jail_in\", \"c_jail_out\"]]\n",
    "\n",
    "\n",
    "\n"
   ]
  },
  {
   "cell_type": "code",
   "execution_count": 5,
   "id": "9ae36c9e",
   "metadata": {},
   "outputs": [],
   "source": [
    "df = df[\n",
    "        (df[\"days_b_screening_arrest\"]<=30) & \n",
    "        (df[\"days_b_screening_arrest\"]>=-30) &\n",
    "        (df[\"is_recid\"]!=-1) & \n",
    "        (df[\"c_charge_degree\"]!=\"O\") #&\n",
    "        #(dataframe[\"score_text\"]!=\"N/A\")\n",
    "      ]"
   ]
  },
  {
   "cell_type": "code",
   "execution_count": 6,
   "id": "9c3642a8",
   "metadata": {},
   "outputs": [
    {
     "data": {
      "text/plain": [
       "(6172, 13)"
      ]
     },
     "execution_count": 6,
     "metadata": {},
     "output_type": "execute_result"
    }
   ],
   "source": [
    "df.shape"
   ]
  },
  {
   "cell_type": "code",
   "execution_count": 7,
   "id": "46f3c4aa",
   "metadata": {},
   "outputs": [],
   "source": [
    "category_cols = ['c_charge_degree', \"race\", \"age_cat\", 'score_text', 'sex', 'is_recid', 'two_year_recid']\n",
    "df = df.apply(lambda s: s.astype('category') if s.name in category_cols else s)"
   ]
  },
  {
   "cell_type": "markdown",
   "id": "6f10e8d8",
   "metadata": {},
   "source": [
    "### Demographic breakdown"
   ]
  },
  {
   "cell_type": "markdown",
   "id": "267081a1",
   "metadata": {},
   "source": [
    "* Higher COMPAS scores are slightly correlated with a longer length of stay"
   ]
  },
  {
   "cell_type": "code",
   "execution_count": 8,
   "id": "5b738f77",
   "metadata": {},
   "outputs": [
    {
     "data": {
      "text/plain": [
       "0.20748"
      ]
     },
     "execution_count": 8,
     "metadata": {},
     "output_type": "execute_result"
    }
   ],
   "source": [
    "df[\"length_of_stay_days\"] = (df.c_jail_out-df.c_jail_in).dt.days\n",
    "np.round(df[[\"length_of_stay_days\", \"decile_score\"]].corr()\\\n",
    "        .loc[\"length_of_stay_days\",\"decile_score\"],5)\n",
    "\n",
    "#The loc() function helps us to retrieve data values from a dataset at an ease. Using the loc() function, \n",
    "#we can access the data values fitted in the particular row or column based on the index value passed to the function.\n"
   ]
  },
  {
   "cell_type": "code",
   "execution_count": 9,
   "id": "d57864d3",
   "metadata": {}, 
   "outputs": [
    {
     "data": {
      "text/plain": [
       "array([[1.        , 0.20747808],\n",
       "       [0.20747808, 1.        ]])"
      ]
     },
     "execution_count": 9,
     "metadata": {},
     "output_type": "execute_result"
    }
   ],
   "source": [
    "np.corrcoef(df['length_of_stay_days'],df['decile_score'])"
   ]
  },
  {
   "cell_type": "markdown",
   "id": "409d4269",
   "metadata": {},
   "source": [
    "* After filtering we have the following demographic breakdown:"
   ]
  },
  {
   "cell_type": "code",
   "execution_count": 10,
   "id": "af2f07fc",
   "metadata": {},
   "outputs": [
    {
     "data": {
      "text/plain": [
       "25 - 45            3532\n",
       "Less than 25       1347\n",
       "Greater than 45    1293\n",
       "Name: age_cat, dtype: int64"
      ]
     },
     "execution_count": 10,
     "metadata": {},
     "output_type": "execute_result"
    }
   ],
   "source": [
    "df.age_cat.value_counts()"
   ]
  },
  {
   "cell_type": "code",
   "execution_count": 11,
   "id": "459b79c2",
   "metadata": {},
   "outputs": [
    {
     "data": {
      "text/plain": [
       "African-American    3175\n",
       "Caucasian           2103\n",
       "Hispanic             509\n",
       "Other                343\n",
       "Asian                 31\n",
       "Native American       11\n",
       "Name: race, dtype: int64"
      ]
     },
     "execution_count": 11,
     "metadata": {},
     "output_type": "execute_result"
    }
   ],
   "source": [
    "df.race.value_counts()"
   ]
  },
  {
   "cell_type": "code",
   "execution_count": 12,
   "id": "24bd4830",
   "metadata": {},
   "outputs": [
    {
     "data": {
      "text/plain": [
       "African-American    51.44%\n",
       "Caucasian           34.07%\n",
       "Hispanic             8.25%\n",
       "Other                5.56%\n",
       "Asian                0.50%\n",
       "Native American      0.18%\n",
       "Name: race, dtype: object"
      ]
     },
     "execution_count": 12,
     "metadata": {},
     "output_type": "execute_result"
    }
   ],
   "source": [
    "(df.race.value_counts(normalize=True)*100).map('{:,.2f}%'.format)\n",
    "\n",
    "# With normalize set to True , returns the relative frequency by dividing all values by the sum of values."
   ]
  },
  {
   "cell_type": "code",
   "execution_count": 13,
   "id": "6930e654",
   "metadata": {},
   "outputs": [
    {
     "data": {
      "text/plain": [
       "Low       3421\n",
       "Medium    1607\n",
       "High      1144\n",
       "Name: score_text, dtype: int64"
      ]
     },
     "execution_count": 13,
     "metadata": {},
     "output_type": "execute_result"
    }
   ],
   "source": [
    "df.score_text.value_counts()"
   ]
  },
  {
   "cell_type": "code",
   "execution_count": 14,
   "id": "7b373555",
   "metadata": {},
   "outputs": [
    {
     "data": {
      "text/html": [
       "<div>\n",
       "<style scoped>\n",
       "    .dataframe tbody tr th:only-of-type {\n",
       "        vertical-align: middle;\n",
       "    }\n",
       "\n",
       "    .dataframe tbody tr th {\n",
       "        vertical-align: top;\n",
       "    }\n",
       "\n",
       "    .dataframe thead th {\n",
       "        text-align: right;\n",
       "    }\n",
       "</style>\n",
       "<table border=\"1\" class=\"dataframe\">\n",
       "  <thead>\n",
       "    <tr style=\"text-align: right;\">\n",
       "      <th>race</th>\n",
       "      <th>African-American</th>\n",
       "      <th>Asian</th>\n",
       "      <th>Caucasian</th>\n",
       "      <th>Hispanic</th>\n",
       "      <th>Native American</th>\n",
       "      <th>Other</th>\n",
       "    </tr>\n",
       "    <tr>\n",
       "      <th>sex</th>\n",
       "      <th></th>\n",
       "      <th></th>\n",
       "      <th></th>\n",
       "      <th></th>\n",
       "      <th></th>\n",
       "      <th></th>\n",
       "    </tr>\n",
       "  </thead>\n",
       "  <tbody>\n",
       "    <tr>\n",
       "      <th>Female</th>\n",
       "      <td>549</td>\n",
       "      <td>2</td>\n",
       "      <td>482</td>\n",
       "      <td>82</td>\n",
       "      <td>2</td>\n",
       "      <td>58</td>\n",
       "    </tr>\n",
       "    <tr>\n",
       "      <th>Male</th>\n",
       "      <td>2626</td>\n",
       "      <td>29</td>\n",
       "      <td>1621</td>\n",
       "      <td>427</td>\n",
       "      <td>9</td>\n",
       "      <td>285</td>\n",
       "    </tr>\n",
       "  </tbody>\n",
       "</table>\n",
       "</div>"
      ],
      "text/plain": [
       "race    African-American  Asian  Caucasian  Hispanic  Native American  Other\n",
       "sex                                                                         \n",
       "Female               549      2        482        82                2     58\n",
       "Male                2626     29       1621       427                9    285"
      ]
     },
     "execution_count": 14,
     "metadata": {},
     "output_type": "execute_result"
    }
   ],
   "source": [
    "pd.crosstab(df[\"sex\"],df[\"race\"])\n"
   ]
  },
  {
   "cell_type": "code",
   "execution_count": 15,
   "id": "8fc87d3f",
   "metadata": {},
   "outputs": [
    {
     "data": {
      "text/plain": [
       "Male      4997\n",
       "Female    1175\n",
       "Name: sex, dtype: int64"
      ]
     },
     "execution_count": 15,
     "metadata": {},
     "output_type": "execute_result"
    }
   ],
   "source": [
    "df.sex.value_counts()"
   ]
  },
  {
   "cell_type": "code",
   "execution_count": 16,
   "id": "2ff2e5e4",
   "metadata": {},
   "outputs": [
    {
     "data": {
      "text/plain": [
       "Male      80.96%\n",
       "Female    19.04%\n",
       "Name: sex, dtype: object"
      ]
     },
     "execution_count": 16,
     "metadata": {},
     "output_type": "execute_result"
    }
   ],
   "source": [
    "(df.sex.value_counts(normalize=True)*100).map('{:,.2f}%'.format)"
   ]
  },
  {
   "cell_type": "code",
   "execution_count": 19,
   "id": "303016e3",
   "metadata": {},
   "outputs": [
    {
     "name": "stdout",
     "output_type": "stream",
     "text": [
      "# of entries with two_ear_recid: 2809\n",
      "% of entries with two_ear_recid: 45.51\n"
     ]
    }
   ],
   "source": [
    "no_recid = np.sum(df['two_year_recid'] ==1)\n",
    "print ('# of entries with two_ear_recid:', no_recid)\n",
    "print ('% of entries with two_ear_recid:', np.round(no_recid/df.shape[0]*100,2))"
   ]
  },
  {
   "cell_type": "markdown",
   "id": "311ff1fc",
   "metadata": {},
   "source": [
    "* Judges are often presented with two sets of scores from the Compas system -- one that classifies people into High, Medium and Low risk, and a corresponding decile score. There is a clear downward trend in the decile scores as those scores increase for white defendants.\n",
    "\n"
   ]
  },
  {
   "cell_type": "code",
   "execution_count": 20,
   "id": "c146b6f6",
   "metadata": {},
   "outputs": [
    {
     "data": {
      "image/png": "[encoded data removed]",
      "text/plain": [
       "<Figure size 1080x360 with 2 Axes>"
      ]
     },
     "metadata": {
      "needs_background": "light"
     },
     "output_type": "display_data"
    }
   ],
   "source": [
    "fig, axes = plt.subplots(1,2, figsize=(15,5))\n",
    "plt.setp(axes, ylim=(0,650), xticks=np.arange(1,11), xlabel=\"Decile Score\")\n",
    "\n",
    "scores_black = df[df[\"race\"]==\"African-American\"][\"decile_score\"]\n",
    "scores_white = df[df[\"race\"]==\"Caucasian\"][\"decile_score\"]\n",
    "\n",
    "sns.histplot(\n",
    "    x=scores_black,\n",
    "    bins=10, \n",
    "    ax=axes[0], \n",
    "    kde=True,\n",
    "    shrink=.9,\n",
    "    discrete=True\n",
    "            )\n",
    "axes[0].set_title(\"Black Defendant's Decile Scores\")\n",
    "\n",
    "sns.histplot(\n",
    "    x=scores_white,\n",
    "    bins=10, \n",
    "    ax=axes[1], \n",
    "    kde=True,\n",
    "    shrink=.9,\n",
    "    discrete=True\n",
    "            )\n",
    "axes[1].set_title(\"White Defendant's Decile Scores\");"
   ]
  },
  {
   "cell_type": "code",
   "execution_count": 21,
   "id": "548bdab5",
   "metadata": {},
   "outputs": [
    {
     "data": {
      "text/html": [
       "<div>\n",
       "<style scoped>\n",
       "    .dataframe tbody tr th:only-of-type {\n",
       "        vertical-align: middle;\n",
       "    }\n",
       "\n",
       "    .dataframe tbody tr th {\n",
       "        vertical-align: top;\n",
       "    }\n",
       "\n",
       "    .dataframe thead th {\n",
       "        text-align: right;\n",
       "    }\n",
       "</style>\n",
       "<table border=\"1\" class=\"dataframe\">\n",
       "  <thead>\n",
       "    <tr style=\"text-align: right;\">\n",
       "      <th>race</th>\n",
       "      <th>African-American</th>\n",
       "      <th>Asian</th>\n",
       "      <th>Caucasian</th>\n",
       "      <th>Hispanic</th>\n",
       "      <th>Native American</th>\n",
       "      <th>Other</th>\n",
       "    </tr>\n",
       "    <tr>\n",
       "      <th>decile_score</th>\n",
       "      <th></th>\n",
       "      <th></th>\n",
       "      <th></th>\n",
       "      <th></th>\n",
       "      <th></th>\n",
       "      <th></th>\n",
       "    </tr>\n",
       "  </thead>\n",
       "  <tbody>\n",
       "    <tr>\n",
       "      <th>1</th>\n",
       "      <td>365</td>\n",
       "      <td>15</td>\n",
       "      <td>605</td>\n",
       "      <td>159</td>\n",
       "      <td>0</td>\n",
       "      <td>142</td>\n",
       "    </tr>\n",
       "    <tr>\n",
       "      <th>2</th>\n",
       "      <td>346</td>\n",
       "      <td>4</td>\n",
       "      <td>321</td>\n",
       "      <td>89</td>\n",
       "      <td>2</td>\n",
       "      <td>60</td>\n",
       "    </tr>\n",
       "    <tr>\n",
       "      <th>3</th>\n",
       "      <td>298</td>\n",
       "      <td>5</td>\n",
       "      <td>238</td>\n",
       "      <td>73</td>\n",
       "      <td>1</td>\n",
       "      <td>32</td>\n",
       "    </tr>\n",
       "    <tr>\n",
       "      <th>4</th>\n",
       "      <td>337</td>\n",
       "      <td>0</td>\n",
       "      <td>243</td>\n",
       "      <td>47</td>\n",
       "      <td>0</td>\n",
       "      <td>39</td>\n",
       "    </tr>\n",
       "    <tr>\n",
       "      <th>5</th>\n",
       "      <td>323</td>\n",
       "      <td>1</td>\n",
       "      <td>200</td>\n",
       "      <td>39</td>\n",
       "      <td>0</td>\n",
       "      <td>19</td>\n",
       "    </tr>\n",
       "    <tr>\n",
       "      <th>6</th>\n",
       "      <td>318</td>\n",
       "      <td>2</td>\n",
       "      <td>160</td>\n",
       "      <td>27</td>\n",
       "      <td>2</td>\n",
       "      <td>20</td>\n",
       "    </tr>\n",
       "    <tr>\n",
       "      <th>7</th>\n",
       "      <td>343</td>\n",
       "      <td>1</td>\n",
       "      <td>113</td>\n",
       "      <td>28</td>\n",
       "      <td>2</td>\n",
       "      <td>9</td>\n",
       "    </tr>\n",
       "    <tr>\n",
       "      <th>8</th>\n",
       "      <td>301</td>\n",
       "      <td>2</td>\n",
       "      <td>96</td>\n",
       "      <td>14</td>\n",
       "      <td>0</td>\n",
       "      <td>7</td>\n",
       "    </tr>\n",
       "    <tr>\n",
       "      <th>9</th>\n",
       "      <td>317</td>\n",
       "      <td>0</td>\n",
       "      <td>77</td>\n",
       "      <td>17</td>\n",
       "      <td>2</td>\n",
       "      <td>7</td>\n",
       "    </tr>\n",
       "    <tr>\n",
       "      <th>10</th>\n",
       "      <td>227</td>\n",
       "      <td>1</td>\n",
       "      <td>50</td>\n",
       "      <td>16</td>\n",
       "      <td>2</td>\n",
       "      <td>8</td>\n",
       "    </tr>\n",
       "  </tbody>\n",
       "</table>\n",
       "</div>"
      ],
      "text/plain": [
       "race          African-American  Asian  Caucasian  Hispanic  Native American  \\\n",
       "decile_score                                                                  \n",
       "1                          365     15        605       159                0   \n",
       "2                          346      4        321        89                2   \n",
       "3                          298      5        238        73                1   \n",
       "4                          337      0        243        47                0   \n",
       "5                          323      1        200        39                0   \n",
       "6                          318      2        160        27                2   \n",
       "7                          343      1        113        28                2   \n",
       "8                          301      2         96        14                0   \n",
       "9                          317      0         77        17                2   \n",
       "10                         227      1         50        16                2   \n",
       "\n",
       "race          Other  \n",
       "decile_score         \n",
       "1               142  \n",
       "2                60  \n",
       "3                32  \n",
       "4                39  \n",
       "5                19  \n",
       "6                20  \n",
       "7                 9  \n",
       "8                 7  \n",
       "9                 7  \n",
       "10                8  "
      ]
     },
     "execution_count": 21,
     "metadata": {},
     "output_type": "execute_result"
    }
   ],
   "source": [
    "pd.crosstab(df[\"decile_score\"],df[\"race\"])"
   ]
  },
  {
   "cell_type": "markdown",
   "id": "ebfbb180",
   "metadata": {},
   "source": [
    "### Racial Bias in Compas\n",
    "* After filtering out bad rows, our first question is whether there is a significant difference in Compas scores between races. To do so we need to change some variables into factors, and run a logistic regression, comparing low scores to high scores."
   ]
  },
  {
   "cell_type": "code",
   "execution_count": 23,
   "id": "32c3abe5",
   "metadata": {},
   "outputs": [
    {
     "name": "stdout",
     "output_type": "stream",
     "text": [
      "Optimization terminated successfully.\n",
      "         Current function value: 0.499708\n",
      "         Iterations 6\n",
      "                           Logit Regression Results                           \n",
      "==============================================================================\n",
      "Dep. Variable:             score_text   No. Observations:                 6172\n",
      "Model:                          Logit   Df Residuals:                     6160\n",
      "Method:                           MLE   Df Model:                           11\n",
      "Date:                Mon, 13 Dec 2021   Pseudo R-squ.:                  0.2729\n",
      "Time:                        16:58:15   Log-Likelihood:                -3084.2\n",
      "converged:                       True   LL-Null:                       -4241.7\n",
      "Covariance Type:            nonrobust   LLR p-value:                     0.000\n",
      "===========================================================================================\n",
      "                              coef    std err          z      P>|z|      [0.025      0.975]\n",
      "-------------------------------------------------------------------------------------------\n",
      "Intercept                  -1.5255      0.079    -19.430      0.000      -1.679      -1.372\n",
      "two_year_recid[T.1]         0.6859      0.064     10.713      0.000       0.560       0.811\n",
      "sex_Female                  0.2213      0.080      2.783      0.005       0.065       0.377\n",
      "age_cat_Greater_than_45    -1.3556      0.099    -13.682      0.000      -1.550      -1.161\n",
      "age_cat_Less_than_25        1.3084      0.076     17.232      0.000       1.160       1.457\n",
      "race_African_American       0.4772      0.069      6.881      0.000       0.341       0.613\n",
      "race_Asian                 -0.2544      0.478     -0.532      0.595      -1.192       0.683\n",
      "race_Hispanic              -0.4284      0.128     -3.344      0.001      -0.680      -0.177\n",
      "race_Native_American        1.3942      0.766      1.820      0.069      -0.107       2.896\n",
      "race_Other                 -0.8263      0.162     -5.098      0.000      -1.144      -0.509\n",
      "priors_count                0.2689      0.011     24.221      0.000       0.247       0.291\n",
      "c_charge_degree_M          -0.3112      0.067     -4.677      0.000      -0.442      -0.181\n",
      "===========================================================================================\n"
     ]
    }
   ],
   "source": [
    "#filter category columns\n",
    "cols_cat = ['score_text','age_cat','sex','race','c_charge_degree']\n",
    "\n",
    "#all columns of the subset\n",
    "cols_df = ['score_text','sex','age_cat','race','priors_count','two_year_recid','c_charge_degree']\n",
    "\n",
    "#define cat columns as category type\n",
    "df.loc[:,cols_cat].astype('category')\n",
    "\n",
    "#define data frame and do dummies coding for all cat columns\n",
    "df_lr = pd.DataFrame(df, columns = cols_df)\n",
    "df_lr = pd.get_dummies(data=df_lr,columns =cols_cat)\n",
    "\n",
    "#bring Medium and High to 1 column\n",
    "df_lr['score_text'] = df_lr['score_text_Medium'] + df_lr['score_text_High']\n",
    "\n",
    "      \n",
    "df = df_lr.rename(columns={\"age_cat_Less than 25\": \"age_cat_Less_than_25\", \"age_cat_Greater than 45\": \"age_cat_Greater_than_45\",\"race_Native American\":\"race_Native_American\",\"race_African-American\":\"race_African_American\"})    \n",
    "\n",
    "formula = 'score_text ~ sex_Female + age_cat_Greater_than_45 + age_cat_Less_than_25 + race_African_American + race_Asian + race_Hispanic + race_Native_American + race_Other + priors_count + c_charge_degree_M + two_year_recid'\n",
    "\n",
    "score_mod = logit(formula, data = df).fit()\n",
    "print(score_mod.summary())"
   ]
  },
  {
   "cell_type": "markdown",
   "id": "263d3cb1",
   "metadata": {},
   "source": [
    "* Black defendants are 45% more likely than white defendants to receive a higher score correcting for the seriousness of their crime, previous arrests, and future criminal behavior."
   ]
  },
  {
   "cell_type": "code",
   "execution_count": 28,
   "id": "da0e2067",
   "metadata": {},
   "outputs": [],
   "source": [
    "control = np.exp(-1.5255) / (1+np.exp(-1.5255))\n",
    "#As white and male are the base categorical variables, control is the probability of white man between 25-45 to receive a higher score."
   ]
  },
  {
   "cell_type": "code",
   "execution_count": 27,
   "id": "dcfe6e51",
   "metadata": {},
   "outputs": [
    {
     "data": {
      "text/plain": [
       "1.4516933414107756"
      ]
     },
     "execution_count": 27,
     "metadata": {},
     "output_type": "execute_result"
    }
   ],
   "source": [
    "(np.exp(-1.5255+0.4772)+np.exp(0.4772)) / (1+np.exp(-1.5225+0.4772))"
   ]
  },
  {
   "cell_type": "markdown",
   "id": "cc88ee54",
   "metadata": {},
   "source": [
    "* Women are 19.4% more likely than men to get a higher score."
   ]
  },
  {
   "cell_type": "code",
   "execution_count": 29,
   "id": "a8c2d356",
   "metadata": {},
   "outputs": [
    {
     "data": {
      "text/plain": [
       "1.1947961876689026"
      ]
     },
     "execution_count": 29,
     "metadata": {},
     "output_type": "execute_result"
    }
   ],
   "source": [
    "np.exp(0.22127) / (1-control + (control * np.exp(0.22127)))"
   ]
  },
  {
   "cell_type": "markdown",
   "id": "9d9e57f6",
   "metadata": {},
   "source": [
    "* Most surprisingly, people under 25 are 2.5 times as likely to get a higher score as middle aged defendants."
   ]
  },
  {
   "cell_type": "code",
   "execution_count": 30,
   "id": "82f06bea",
   "metadata": {},
   "outputs": [
    {
     "data": {
      "text/plain": [
       "2.496107351371129"
      ]
     },
     "execution_count": 30,
     "metadata": {},
     "output_type": "execute_result"
    }
   ],
   "source": [
    "np.exp(1.3084) / (1-control + (control * np.exp(1.3084)))"
   ]
  },
  {
   "cell_type": "markdown",
   "id": "f9dea37b",
   "metadata": {},
   "source": [
    "### Risk of Violent Recedivism"
   ]
  },
  {
   "cell_type": "markdown",
   "id": "e49c68e0",
   "metadata": {},
   "source": [
    "* Compas also offers a score that aims to measure a persons risk of violent recidivism, which has a similar overall accuracy to the Recidivism score. As before, we can use a logistic regression to test for racial bias."
   ]
  },
  {
   "cell_type": "code",
   "execution_count": 31,
   "id": "4bd0697b",
   "metadata": {},
   "outputs": [
    {
     "data": {
      "text/plain": [
       "4743"
      ]
     },
     "execution_count": 31,
     "metadata": {},
     "output_type": "execute_result"
    }
   ],
   "source": [
    "\n",
    "raw_data = pd.read_csv(\"../../data-ProPublica/compas-scores-two-years-violent.csv\", parse_dates=[\"c_jail_in\", \"c_jail_out\"])\n",
    "raw_data.shape[0] "
   ]
  },
  {
   "cell_type": "code",
   "execution_count": 32,
   "id": "bd3295ff",
   "metadata": {},
   "outputs": [
    {
     "data": {
      "text/plain": [
       "(4020, 13)"
      ]
     },
     "execution_count": 32,
     "metadata": {},
     "output_type": "execute_result"
    }
   ],
   "source": [
    "# Select columns of interest and store as new df\n",
    "df = raw_data[[\"age\", \"c_charge_degree\", \"race\", \"age_cat\", \"v_score_text\", \"sex\", \"priors_count\", \n",
    "          \"days_b_screening_arrest\", \"v_decile_score\", \"is_recid\", \"two_year_recid\", \"c_jail_in\", \"c_jail_out\"]]\n",
    "\n",
    "# Filter rows as described by ProPublica\n",
    "df = df[\n",
    "        (df[\"days_b_screening_arrest\"]<=30) & \n",
    "        (df[\"days_b_screening_arrest\"]>=-30) &\n",
    "        (df[\"is_recid\"]!=-1) & \n",
    "        (df[\"c_charge_degree\"]!=\"O\") #&\n",
    "        #(df[\"score_text\"]!=\"N/A\")\n",
    "      ]\n",
    "\n",
    "df.shape"
   ]
  },
  {
   "cell_type": "code",
   "execution_count": 33,
   "id": "35c9dab4",
   "metadata": {},
   "outputs": [
    {
     "data": {
      "text/plain": [
       "25 - 45            2300\n",
       "Greater than 45     954\n",
       "Less than 25        766\n",
       "Name: age_cat, dtype: int64"
      ]
     },
     "execution_count": 33,
     "metadata": {},
     "output_type": "execute_result"
    }
   ],
   "source": [
    "df.age_cat.value_counts()"
   ]
  },
  {
   "cell_type": "code",
   "execution_count": 34,
   "id": "d0091c31",
   "metadata": {},
   "outputs": [
    {
     "data": {
      "text/plain": [
       "African-American    1918\n",
       "Caucasian           1459\n",
       "Hispanic             355\n",
       "Other                255\n",
       "Asian                 26\n",
       "Native American        7\n",
       "Name: race, dtype: int64"
      ]
     },
     "execution_count": 34,
     "metadata": {},
     "output_type": "execute_result"
    }
   ],
   "source": [
    "df.race.value_counts()"
   ]
  },
  {
   "cell_type": "code",
   "execution_count": 35,
   "id": "b36fdfdf",
   "metadata": {},
   "outputs": [
    {
     "data": {
      "text/plain": [
       "Low       2913\n",
       "Medium     828\n",
       "High       279\n",
       "Name: v_score_text, dtype: int64"
      ]
     },
     "execution_count": 35,
     "metadata": {},
     "output_type": "execute_result"
    }
   ],
   "source": [
    "df.v_score_text.value_counts()"
   ]
  },
  {
   "cell_type": "code",
   "execution_count": 38,
   "id": "4691aeb3",
   "metadata": {},
   "outputs": [
    {
     "name": "stdout",
     "output_type": "stream",
     "text": [
      "# of entries with two_year_recid: 16.218905472636816\n",
      "% of entries with two_year_recid: 652\n"
     ]
    }
   ],
   "source": [
    "print ('# of entries with two_year_recid:', df[(df['two_year_recid'] ==1) ].shape[0] / df.shape[0]*100)\n",
    "print ('% of entries with two_year_recid:', df[(df['two_year_recid'] ==1) ].shape[0])"
   ]
  },
  {
   "cell_type": "code",
   "execution_count": 39,
   "id": "35f2ec37",
   "metadata": {},
   "outputs": [
    {
     "data": {
      "image/png": "[encoded data removed]",
      "text/plain": [
       "<Figure size 1080x360 with 2 Axes>"
      ]
     },
     "metadata": {
      "needs_background": "light"
     },
     "output_type": "display_data"
    }
   ],
   "source": [
    "fig, axes = plt.subplots(1,2, figsize=(15,5))\n",
    "plt.setp(axes, ylim=(0,650), xticks=np.arange(1,11), xlabel=\"Decile Score\")\n",
    "\n",
    "scores_black = df[df[\"race\"]==\"African-American\"][\"v_decile_score\"]\n",
    "scores_white = df[df[\"race\"]==\"Caucasian\"][\"v_decile_score\"]\n",
    "\n",
    "sns.histplot(\n",
    "    x=scores_black,\n",
    "    bins=10, \n",
    "    ax=axes[0], \n",
    "    kde=True,\n",
    "    shrink=.9,\n",
    "    discrete=True\n",
    "            )\n",
    "axes[0].set_title(\"Black Defendant's Violence Decile Scores\")\n",
    "\n",
    "sns.histplot(\n",
    "    x=scores_white,\n",
    "    bins=10, \n",
    "    ax=axes[1], \n",
    "    kde=True,\n",
    "    shrink=.9,\n",
    "    discrete=True\n",
    "            )\n",
    "axes[1].set_title(\"White Defendant's Violence Decile Scores\");"
   ]
  },
  {
   "cell_type": "code",
   "execution_count": 40,
   "id": "c4485c48",
   "metadata": {},
   "outputs": [
    {
     "name": "stdout",
     "output_type": "stream",
     "text": [
      "Optimization terminated successfully.\n",
      "         Current function value: 0.372983\n",
      "         Iterations 7\n",
      "                           Logit Regression Results                           \n",
      "==============================================================================\n",
      "Dep. Variable:           v_score_text   No. Observations:                 4020\n",
      "Model:                          Logit   Df Residuals:                     4008\n",
      "Method:                           MLE   Df Model:                           11\n",
      "Date:                Mon, 13 Dec 2021   Pseudo R-squ.:                  0.3662\n",
      "Time:                        17:25:32   Log-Likelihood:                -1499.4\n",
      "converged:                       True   LL-Null:                       -2365.9\n",
      "Covariance Type:            nonrobust   LLR p-value:                     0.000\n",
      "===========================================================================================\n",
      "                              coef    std err          z      P>|z|      [0.025      0.975]\n",
      "-------------------------------------------------------------------------------------------\n",
      "Intercept                  -2.2427      0.113    -19.802      0.000      -2.465      -2.021\n",
      "sex_Female                 -0.7289      0.127     -5.755      0.000      -0.977      -0.481\n",
      "age_cat_Greater_than_45    -1.7421      0.184     -9.460      0.000      -2.103      -1.381\n",
      "age_cat_Less_than_25        3.1459      0.115     27.259      0.000       2.920       3.372\n",
      "race_African_American       0.6589      0.108      6.093      0.000       0.447       0.871\n",
      "race_Asian                 -0.9852      0.705     -1.397      0.162      -2.368       0.397\n",
      "race_Hispanic              -0.0642      0.191     -0.335      0.737      -0.439       0.311\n",
      "race_Native_American        0.4479      1.035      0.433      0.665      -1.582       2.477\n",
      "race_Other                 -0.2054      0.225     -0.914      0.360      -0.646       0.235\n",
      "priors_count                0.1376      0.012     11.854      0.000       0.115       0.160\n",
      "c_charge_degree_M          -0.1637      0.098     -1.669      0.095      -0.356       0.029\n",
      "two_year_recid              0.9345      0.115      8.107      0.000       0.709       1.160\n",
      "===========================================================================================\n"
     ]
    }
   ],
   "source": [
    "#Logistic Regression of Violence Decile Score\n",
    "\n",
    "#filter category columns\n",
    "cols_cat = ['v_score_text','age_cat','sex','race','c_charge_degree']\n",
    "\n",
    "#all columns of the subset\n",
    "cols_df = ['v_score_text','sex','age_cat','race','priors_count','two_year_recid','c_charge_degree']\n",
    "\n",
    "#define cat columns as category type\n",
    "df.loc[:,cols_cat].astype('category')\n",
    "\n",
    "#define data frame and do dummies coding for all cat columns\n",
    "df_lr = pd.DataFrame(df, columns = cols_df)\n",
    "df_lr = pd.get_dummies(data=df_lr,columns =cols_cat)\n",
    "\n",
    "#bring Medium and High to 1 column\n",
    "df_lr['v_score_text'] = df_lr['v_score_text_Medium'] + df_lr['v_score_text_High']\n",
    "\n",
    "      \n",
    "df = df_lr.rename(columns={\"age_cat_Less than 25\": \"age_cat_Less_than_25\", \"age_cat_Greater than 45\": \"age_cat_Greater_than_45\",\"race_Native American\":\"race_Native_American\",\"race_African-American\":\"race_African_American\"})    \n",
    "\n",
    "formula = 'v_score_text ~ sex_Female + age_cat_Greater_than_45 + age_cat_Less_than_25 + race_African_American + race_Asian + race_Hispanic + race_Native_American + race_Other + priors_count + c_charge_degree_M + two_year_recid'\n",
    "\n",
    "score_mod = logit(formula, data = df).fit()\n",
    "print(score_mod.summary())"
   ]
  },
  {
   "cell_type": "markdown",
   "id": "ead8278c",
   "metadata": {},
   "source": [
    "* The violent score overpredicts recidivism for black defendants by 77.3% compared to white defendants. (between 25-45)"
   ]
  },
  {
   "cell_type": "code",
   "execution_count": 41,
   "id": "2ece5540",
   "metadata": {},
   "outputs": [
    {
     "data": {
      "text/plain": [
       "1.7738715321327136"
      ]
     },
     "execution_count": 41,
     "metadata": {},
     "output_type": "execute_result"
    }
   ],
   "source": [
    "control = np.exp(-2.2427) / (1 + np.exp(-2.2427))\n",
    "np.exp(0.6589) / (1 - control + (control * np.exp(0.6589 )))"
   ]
  },
  {
   "cell_type": "markdown",
   "id": "7d6d52b3",
   "metadata": {},
   "source": [
    "* Defendands under 25 are 7.4 times as likely to get a higher score as middle aged defendants."
   ]
  },
  {
   "cell_type": "code",
   "execution_count": 42,
   "id": "00fe6546",
   "metadata": {},
   "outputs": [
    {
     "data": {
      "text/plain": [
       "7.4140359085177545"
      ]
     },
     "execution_count": 42,
     "metadata": {},
     "output_type": "execute_result"
    }
   ],
   "source": [
    "np.exp(3.1459) / (1 - control + (control * np.exp(3.1459)))"
   ]
  },
  {
   "cell_type": "markdown",
   "id": "fb786650",
   "metadata": {},
   "source": [
    "### Predictive Accuracy of COMPAS"
   ]
  },
  {
   "cell_type": "markdown",
   "id": "0147f5f5",
   "metadata": {},
   "source": [
    "* In order to test whether Compas scores do an accurate job of deciding whether an offender is Low, Medium or High risk, we ran a Cox Proportional Hazards model. Northpointe, the company that created COMPAS and markets it to Law Enforcement, also ran a Cox model in their validation study. We used the counting model and removed people when they were incarcerated. Due to errors in the underlying jail data, we need to filter out 32 rows that have an end date more than the start date. Considering that there are 13,334 total rows in the data, such a small amount of errors will not affect the results."
   ]
  },
  {
   "cell_type": "code",
   "execution_count": 45,
   "id": "a3ddcfb6",
   "metadata": {},
   "outputs": [
    {
     "data": {
      "text/plain": [
       "(10314, 52)"
      ]
     },
     "execution_count": 45,
     "metadata": {},
     "output_type": "execute_result"
    }
   ],
   "source": [
    "raw_data = pd.read_csv(\"../../data-ProPublica/cox-parsed.csv\")\n",
    "df_cp = raw_data.copy()\n",
    "\n",
    "df_cp = df_cp[(df_cp[\"end\"]>df_cp[\"start\"])].dropna(subset=['score_text']).drop_duplicates([\"id\"])\n",
    "\n",
    "df_cp.shape"
   ]
  },
  {
   "cell_type": "code",
   "execution_count": 46,
   "id": "6054a847",
   "metadata": {},
   "outputs": [],
   "source": [
    "df_cp = df_cp.rename(columns={\"race\": \"race_factor\", 'score_text': \"score_factor\"})"
   ]
  },
  {
   "cell_type": "code",
   "execution_count": 47,
   "id": "e26a9c27",
   "metadata": {},
   "outputs": [
    {
     "data": {
      "text/plain": [
       "Low       5751\n",
       "Medium    2611\n",
       "High      1952\n",
       "Name: score_factor, dtype: int64"
      ]
     },
     "execution_count": 47,
     "metadata": {},
     "output_type": "execute_result"
    }
   ],
   "source": [
    "df_cp.score_factor.value_counts()"
   ]
  },
  {
   "cell_type": "code",
   "execution_count": 48,
   "id": "8a546479",
   "metadata": {},
   "outputs": [
    {
     "data": {
      "text/plain": [
       "African-American    5147\n",
       "Caucasian           3569\n",
       "Hispanic             944\n",
       "Other                571\n",
       "Asian                 51\n",
       "Native American       32\n",
       "Name: race_factor, dtype: int64"
      ]
     },
     "execution_count": 48,
     "metadata": {},
     "output_type": "execute_result"
    }
   ],
   "source": [
    "df_cp.race_factor.value_counts()"
   ]
  },
  {
   "cell_type": "code",
   "execution_count": null,
   "id": "30534f26",
   "metadata": {},
   "outputs": [],
   "source": []
  },
  {
   "cell_type": "code",
   "execution_count": null,
   "id": "c0ec2040",
   "metadata": {},
   "outputs": [],
   "source": []
  },
  {
   "cell_type": "code",
   "execution_count": null,
   "id": "eeddd792",
   "metadata": {},
   "outputs": [],
   "source": []
  },
  {
   "cell_type": "code",
   "execution_count": null,
   "id": "db6df517",
   "metadata": {},
   "outputs": [],
   "source": []
  },
  {
   "cell_type": "code",
   "execution_count": null,
   "id": "26594795",
   "metadata": {},
   "outputs": [],
   "source": []
  },
  {
   "cell_type": "code",
   "execution_count": null,
   "id": "c9ec33ae",
   "metadata": {},
   "outputs": [],
   "source": []
  },
  {
   "cell_type": "code",
   "execution_count": null,
   "id": "3bb35dce",
   "metadata": {},
   "outputs": [],
   "source": []
  },
  {
   "cell_type": "markdown",
   "id": "9ffd701c",
   "metadata": {},
   "source": [
    "### Directions of the Racial Bias"
   ]
  },
  {
   "cell_type": "markdown",
   "id": "c9b23683",
   "metadata": {},
   "source": [
    "* The above analysis shows that the Compas algorithm does overpredict African-American defendant's future recidivism, but we haven't yet explored the direction of the bias. We can discover fine differences in overprediction and underprediction by comparing Compas scores across racial lines."
   ]
  },
  {
   "cell_type": "code",
   "execution_count": null,
   "id": "8b94710b",
   "metadata": {},
   "outputs": [],
   "source": []
  },
  {
   "cell_type": "code",
   "execution_count": null,
   "id": "37f73128",
   "metadata": {},
   "outputs": [],
   "source": []
  },
  {
   "cell_type": "code",
   "execution_count": null,
   "id": "6816731a",
   "metadata": {},
   "outputs": [],
   "source": []
  },
  {
   "cell_type": "code",
   "execution_count": null,
   "id": "31f35d78",
   "metadata": {},
   "outputs": [],
   "source": []
  },
  {
   "cell_type": "code",
   "execution_count": null,
   "id": "3bf0f3e7",
   "metadata": {},
   "outputs": [],
   "source": []
  },
  {
   "cell_type": "markdown",
   "id": "f14eeb7e",
   "metadata": {},
   "source": [
    "### Risk of Violent Recidivism"
   ]
  },
  {
   "cell_type": "markdown",
   "id": "5613b674",
   "metadata": {},
   "source": [
    "* Compas also offers a score that aims to measure a persons risk of violent recidivism, which has a similar overall accuracy to the Recidivism score."
   ]
  },
  {
   "cell_type": "code",
   "execution_count": null,
   "id": "75b1dbad",
   "metadata": {},
   "outputs": [],
   "source": []
  },
  {
   "cell_type": "code",
   "execution_count": null,
   "id": "5406a436",
   "metadata": {},
   "outputs": [],
   "source": []
  },
  {
   "cell_type": "code",
   "execution_count": null,
   "id": "5d094ad7",
   "metadata": {},
   "outputs": [],
   "source": []
  },
  {
   "cell_type": "code",
   "execution_count": null,
   "id": "b595c333",
   "metadata": {},
   "outputs": [],
   "source": []
  },
  {
   "cell_type": "markdown",
   "id": "a257c48a",
   "metadata": {},
   "source": [
    "### Gender differences in Compas scores"
   ]
  },
  {
   "cell_type": "markdown",
   "id": "7fc53bf7",
   "metadata": {},
   "source": [
    "* In terms of underlying recidivism rates, we can look at gender specific Kaplan Meier estimates. There is a striking difference between women and men."
   ]
  },
  {
   "cell_type": "code",
   "execution_count": 49,
   "id": "02c577a0",
   "metadata": {},
   "outputs": [],
   "source": [
    "female = df_cp[df_cp[\"sex\"]==\"Female\"]\n",
    "male = df_cp[df_cp[\"sex\"]==\"Male\"]"
   ]
  },
  {
   "cell_type": "code",
   "execution_count": null,
   "id": "f813bf2e",
   "metadata": {},
   "outputs": [],
   "source": []
  }
 ],
 "metadata": {
  "kernelspec": {
   "display_name": "Python 3",
   "language": "python",
   "name": "python3"
  },
  "language_info": {
   "codemirror_mode": {
    "name": "ipython",
    "version": 3
   },
   "file_extension": ".py",
   "mimetype": "text/x-python",
   "name": "python",
   "nbconvert_exporter": "python",
   "pygments_lexer": "ipython3",
   "version": "3.8.8"
  }
 },
 "nbformat": 4,
 "nbformat_minor": 5
}
