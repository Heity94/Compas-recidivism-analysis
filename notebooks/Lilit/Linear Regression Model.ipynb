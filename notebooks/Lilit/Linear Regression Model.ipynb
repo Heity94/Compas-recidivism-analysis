{
 "cells": [
  {
   "cell_type": "code",
   "execution_count": 6,
   "id": "f7a53df1",
   "metadata": {},
   "outputs": [],
   "source": [
    "import numpy as np\n",
    "import pandas as pd\n",
    "import matplotlib.pyplot as plt\n",
    "import seaborn as sns\n",
    "from sklearn.linear_model import LogisticRegression\n",
    "import statsmodels.formula.api as smf\n",
    "from statsmodels.formula.api import logit\n",
    "from sklearn.metrics import confusion_matrix"
   ]
  },
  {
   "cell_type": "code",
   "execution_count": 7,
   "id": "e974be69",
   "metadata": {},
   "outputs": [
    {
     "data": {
      "text/html": [
       "<div>\n",
       "<style scoped>\n",
       "    .dataframe tbody tr th:only-of-type {\n",
       "        vertical-align: middle;\n",
       "    }\n",
       "\n",
       "    .dataframe tbody tr th {\n",
       "        vertical-align: top;\n",
       "    }\n",
       "\n",
       "    .dataframe thead th {\n",
       "        text-align: right;\n",
       "    }\n",
       "</style>\n",
       "<table border=\"1\" class=\"dataframe\">\n",
       "  <thead>\n",
       "    <tr style=\"text-align: right;\">\n",
       "      <th></th>\n",
       "      <th>id</th>\n",
       "      <th>name</th>\n",
       "      <th>first</th>\n",
       "      <th>last</th>\n",
       "      <th>compas_screening_date</th>\n",
       "      <th>sex</th>\n",
       "      <th>dob</th>\n",
       "      <th>age</th>\n",
       "      <th>age_cat</th>\n",
       "      <th>race</th>\n",
       "      <th>...</th>\n",
       "      <th>score_text</th>\n",
       "      <th>v_type_of_assessment</th>\n",
       "      <th>v_decile_score</th>\n",
       "      <th>v_score_text</th>\n",
       "      <th>in_custody</th>\n",
       "      <th>out_custody</th>\n",
       "      <th>start</th>\n",
       "      <th>end</th>\n",
       "      <th>event</th>\n",
       "      <th>two_year_recid</th>\n",
       "    </tr>\n",
       "  </thead>\n",
       "  <tbody>\n",
       "    <tr>\n",
       "      <th>0</th>\n",
       "      <td>1</td>\n",
       "      <td>miguel hernandez</td>\n",
       "      <td>miguel</td>\n",
       "      <td>hernandez</td>\n",
       "      <td>2013-08-14</td>\n",
       "      <td>Male</td>\n",
       "      <td>1947-04-18</td>\n",
       "      <td>69</td>\n",
       "      <td>Greater than 45</td>\n",
       "      <td>Other</td>\n",
       "      <td>...</td>\n",
       "      <td>Low</td>\n",
       "      <td>Risk of Violence</td>\n",
       "      <td>1</td>\n",
       "      <td>Low</td>\n",
       "      <td>2014-07-07</td>\n",
       "      <td>2014-07-14</td>\n",
       "      <td>0</td>\n",
       "      <td>327</td>\n",
       "      <td>0</td>\n",
       "      <td>0</td>\n",
       "    </tr>\n",
       "    <tr>\n",
       "      <th>1</th>\n",
       "      <td>3</td>\n",
       "      <td>kevon dixon</td>\n",
       "      <td>kevon</td>\n",
       "      <td>dixon</td>\n",
       "      <td>2013-01-27</td>\n",
       "      <td>Male</td>\n",
       "      <td>1982-01-22</td>\n",
       "      <td>34</td>\n",
       "      <td>25 - 45</td>\n",
       "      <td>African-American</td>\n",
       "      <td>...</td>\n",
       "      <td>Low</td>\n",
       "      <td>Risk of Violence</td>\n",
       "      <td>1</td>\n",
       "      <td>Low</td>\n",
       "      <td>2013-01-26</td>\n",
       "      <td>2013-02-05</td>\n",
       "      <td>9</td>\n",
       "      <td>159</td>\n",
       "      <td>1</td>\n",
       "      <td>1</td>\n",
       "    </tr>\n",
       "    <tr>\n",
       "      <th>2</th>\n",
       "      <td>4</td>\n",
       "      <td>ed philo</td>\n",
       "      <td>ed</td>\n",
       "      <td>philo</td>\n",
       "      <td>2013-04-14</td>\n",
       "      <td>Male</td>\n",
       "      <td>1991-05-14</td>\n",
       "      <td>24</td>\n",
       "      <td>Less than 25</td>\n",
       "      <td>African-American</td>\n",
       "      <td>...</td>\n",
       "      <td>Low</td>\n",
       "      <td>Risk of Violence</td>\n",
       "      <td>3</td>\n",
       "      <td>Low</td>\n",
       "      <td>2013-06-16</td>\n",
       "      <td>2013-06-16</td>\n",
       "      <td>0</td>\n",
       "      <td>63</td>\n",
       "      <td>0</td>\n",
       "      <td>1</td>\n",
       "    </tr>\n",
       "    <tr>\n",
       "      <th>3</th>\n",
       "      <td>5</td>\n",
       "      <td>marcu brown</td>\n",
       "      <td>marcu</td>\n",
       "      <td>brown</td>\n",
       "      <td>2013-01-13</td>\n",
       "      <td>Male</td>\n",
       "      <td>1993-01-21</td>\n",
       "      <td>23</td>\n",
       "      <td>Less than 25</td>\n",
       "      <td>African-American</td>\n",
       "      <td>...</td>\n",
       "      <td>High</td>\n",
       "      <td>Risk of Violence</td>\n",
       "      <td>6</td>\n",
       "      <td>Medium</td>\n",
       "      <td>NaN</td>\n",
       "      <td>NaN</td>\n",
       "      <td>0</td>\n",
       "      <td>1174</td>\n",
       "      <td>0</td>\n",
       "      <td>0</td>\n",
       "    </tr>\n",
       "    <tr>\n",
       "      <th>4</th>\n",
       "      <td>6</td>\n",
       "      <td>bouthy pierrelouis</td>\n",
       "      <td>bouthy</td>\n",
       "      <td>pierrelouis</td>\n",
       "      <td>2013-03-26</td>\n",
       "      <td>Male</td>\n",
       "      <td>1973-01-22</td>\n",
       "      <td>43</td>\n",
       "      <td>25 - 45</td>\n",
       "      <td>Other</td>\n",
       "      <td>...</td>\n",
       "      <td>Low</td>\n",
       "      <td>Risk of Violence</td>\n",
       "      <td>1</td>\n",
       "      <td>Low</td>\n",
       "      <td>NaN</td>\n",
       "      <td>NaN</td>\n",
       "      <td>0</td>\n",
       "      <td>1102</td>\n",
       "      <td>0</td>\n",
       "      <td>0</td>\n",
       "    </tr>\n",
       "    <tr>\n",
       "      <th>...</th>\n",
       "      <td>...</td>\n",
       "      <td>...</td>\n",
       "      <td>...</td>\n",
       "      <td>...</td>\n",
       "      <td>...</td>\n",
       "      <td>...</td>\n",
       "      <td>...</td>\n",
       "      <td>...</td>\n",
       "      <td>...</td>\n",
       "      <td>...</td>\n",
       "      <td>...</td>\n",
       "      <td>...</td>\n",
       "      <td>...</td>\n",
       "      <td>...</td>\n",
       "      <td>...</td>\n",
       "      <td>...</td>\n",
       "      <td>...</td>\n",
       "      <td>...</td>\n",
       "      <td>...</td>\n",
       "      <td>...</td>\n",
       "      <td>...</td>\n",
       "    </tr>\n",
       "    <tr>\n",
       "      <th>6211</th>\n",
       "      <td>10995</td>\n",
       "      <td>raheem smith</td>\n",
       "      <td>raheem</td>\n",
       "      <td>smith</td>\n",
       "      <td>2013-10-20</td>\n",
       "      <td>Male</td>\n",
       "      <td>1995-06-28</td>\n",
       "      <td>20</td>\n",
       "      <td>Less than 25</td>\n",
       "      <td>African-American</td>\n",
       "      <td>...</td>\n",
       "      <td>High</td>\n",
       "      <td>Risk of Violence</td>\n",
       "      <td>9</td>\n",
       "      <td>High</td>\n",
       "      <td>2014-04-07</td>\n",
       "      <td>2014-04-27</td>\n",
       "      <td>0</td>\n",
       "      <td>169</td>\n",
       "      <td>0</td>\n",
       "      <td>0</td>\n",
       "    </tr>\n",
       "    <tr>\n",
       "      <th>6212</th>\n",
       "      <td>10996</td>\n",
       "      <td>steven butler</td>\n",
       "      <td>steven</td>\n",
       "      <td>butler</td>\n",
       "      <td>2013-11-23</td>\n",
       "      <td>Male</td>\n",
       "      <td>1992-07-17</td>\n",
       "      <td>23</td>\n",
       "      <td>Less than 25</td>\n",
       "      <td>African-American</td>\n",
       "      <td>...</td>\n",
       "      <td>Medium</td>\n",
       "      <td>Risk of Violence</td>\n",
       "      <td>5</td>\n",
       "      <td>Medium</td>\n",
       "      <td>2013-11-22</td>\n",
       "      <td>2013-11-24</td>\n",
       "      <td>1</td>\n",
       "      <td>860</td>\n",
       "      <td>0</td>\n",
       "      <td>0</td>\n",
       "    </tr>\n",
       "    <tr>\n",
       "      <th>6213</th>\n",
       "      <td>10997</td>\n",
       "      <td>malcolm simmons</td>\n",
       "      <td>malcolm</td>\n",
       "      <td>simmons</td>\n",
       "      <td>2014-02-01</td>\n",
       "      <td>Male</td>\n",
       "      <td>1993-03-25</td>\n",
       "      <td>23</td>\n",
       "      <td>Less than 25</td>\n",
       "      <td>African-American</td>\n",
       "      <td>...</td>\n",
       "      <td>Low</td>\n",
       "      <td>Risk of Violence</td>\n",
       "      <td>5</td>\n",
       "      <td>Medium</td>\n",
       "      <td>2014-01-31</td>\n",
       "      <td>2014-02-02</td>\n",
       "      <td>1</td>\n",
       "      <td>790</td>\n",
       "      <td>0</td>\n",
       "      <td>0</td>\n",
       "    </tr>\n",
       "    <tr>\n",
       "      <th>6214</th>\n",
       "      <td>10999</td>\n",
       "      <td>winston gregory</td>\n",
       "      <td>winston</td>\n",
       "      <td>gregory</td>\n",
       "      <td>2014-01-14</td>\n",
       "      <td>Male</td>\n",
       "      <td>1958-10-01</td>\n",
       "      <td>57</td>\n",
       "      <td>Greater than 45</td>\n",
       "      <td>Other</td>\n",
       "      <td>...</td>\n",
       "      <td>Low</td>\n",
       "      <td>Risk of Violence</td>\n",
       "      <td>1</td>\n",
       "      <td>Low</td>\n",
       "      <td>2014-01-13</td>\n",
       "      <td>2014-01-14</td>\n",
       "      <td>0</td>\n",
       "      <td>808</td>\n",
       "      <td>0</td>\n",
       "      <td>0</td>\n",
       "    </tr>\n",
       "    <tr>\n",
       "      <th>6215</th>\n",
       "      <td>11000</td>\n",
       "      <td>farrah jean</td>\n",
       "      <td>farrah</td>\n",
       "      <td>jean</td>\n",
       "      <td>2014-03-09</td>\n",
       "      <td>Female</td>\n",
       "      <td>1982-11-17</td>\n",
       "      <td>33</td>\n",
       "      <td>25 - 45</td>\n",
       "      <td>African-American</td>\n",
       "      <td>...</td>\n",
       "      <td>Low</td>\n",
       "      <td>Risk of Violence</td>\n",
       "      <td>2</td>\n",
       "      <td>Low</td>\n",
       "      <td>2014-03-08</td>\n",
       "      <td>2014-03-09</td>\n",
       "      <td>0</td>\n",
       "      <td>754</td>\n",
       "      <td>0</td>\n",
       "      <td>0</td>\n",
       "    </tr>\n",
       "  </tbody>\n",
       "</table>\n",
       "<p>6216 rows × 49 columns</p>\n",
       "</div>"
      ],
      "text/plain": [
       "         id                name    first         last compas_screening_date  \\\n",
       "0         1    miguel hernandez   miguel    hernandez            2013-08-14   \n",
       "1         3         kevon dixon    kevon        dixon            2013-01-27   \n",
       "2         4            ed philo       ed        philo            2013-04-14   \n",
       "3         5         marcu brown    marcu        brown            2013-01-13   \n",
       "4         6  bouthy pierrelouis   bouthy  pierrelouis            2013-03-26   \n",
       "...     ...                 ...      ...          ...                   ...   \n",
       "6211  10995        raheem smith   raheem        smith            2013-10-20   \n",
       "6212  10996       steven butler   steven       butler            2013-11-23   \n",
       "6213  10997     malcolm simmons  malcolm      simmons            2014-02-01   \n",
       "6214  10999     winston gregory  winston      gregory            2014-01-14   \n",
       "6215  11000         farrah jean   farrah         jean            2014-03-09   \n",
       "\n",
       "         sex         dob  age          age_cat              race  ...  \\\n",
       "0       Male  1947-04-18   69  Greater than 45             Other  ...   \n",
       "1       Male  1982-01-22   34          25 - 45  African-American  ...   \n",
       "2       Male  1991-05-14   24     Less than 25  African-American  ...   \n",
       "3       Male  1993-01-21   23     Less than 25  African-American  ...   \n",
       "4       Male  1973-01-22   43          25 - 45             Other  ...   \n",
       "...      ...         ...  ...              ...               ...  ...   \n",
       "6211    Male  1995-06-28   20     Less than 25  African-American  ...   \n",
       "6212    Male  1992-07-17   23     Less than 25  African-American  ...   \n",
       "6213    Male  1993-03-25   23     Less than 25  African-American  ...   \n",
       "6214    Male  1958-10-01   57  Greater than 45             Other  ...   \n",
       "6215  Female  1982-11-17   33          25 - 45  African-American  ...   \n",
       "\n",
       "      score_text  v_type_of_assessment  v_decile_score  v_score_text  \\\n",
       "0            Low      Risk of Violence               1           Low   \n",
       "1            Low      Risk of Violence               1           Low   \n",
       "2            Low      Risk of Violence               3           Low   \n",
       "3           High      Risk of Violence               6        Medium   \n",
       "4            Low      Risk of Violence               1           Low   \n",
       "...          ...                   ...             ...           ...   \n",
       "6211        High      Risk of Violence               9          High   \n",
       "6212      Medium      Risk of Violence               5        Medium   \n",
       "6213         Low      Risk of Violence               5        Medium   \n",
       "6214         Low      Risk of Violence               1           Low   \n",
       "6215         Low      Risk of Violence               2           Low   \n",
       "\n",
       "      in_custody  out_custody start   end event two_year_recid  \n",
       "0     2014-07-07   2014-07-14     0   327     0              0  \n",
       "1     2013-01-26   2013-02-05     9   159     1              1  \n",
       "2     2013-06-16   2013-06-16     0    63     0              1  \n",
       "3            NaN          NaN     0  1174     0              0  \n",
       "4            NaN          NaN     0  1102     0              0  \n",
       "...          ...          ...   ...   ...   ...            ...  \n",
       "6211  2014-04-07   2014-04-27     0   169     0              0  \n",
       "6212  2013-11-22   2013-11-24     1   860     0              0  \n",
       "6213  2014-01-31   2014-02-02     1   790     0              0  \n",
       "6214  2014-01-13   2014-01-14     0   808     0              0  \n",
       "6215  2014-03-08   2014-03-09     0   754     0              0  \n",
       "\n",
       "[6216 rows x 49 columns]"
      ]
     },
     "execution_count": 7,
     "metadata": {},
     "output_type": "execute_result"
    }
   ],
   "source": [
    "df = pd.read_csv(\"/Users/lilitharutyunyan/Documents/GitHub/Compas-recidivism-analysis/data-cleaned/compas-scores-two-years-clean.csv\", parse_dates=[\"c_jail_in\", \"c_jail_out\"])\n",
    "df"
   ]
  },
  {
   "cell_type": "markdown",
   "id": "ccbdc00e",
   "metadata": {},
   "source": [
    "* first: An individual’s first name\n",
    "\n",
    "* last: An individual’s last name\n",
    "\n",
    "* sex: An individual’s sex\n",
    "\n",
    "* age: An individual’s age\n",
    "\n",
    "* race: An individual’s race. It takes values of Caucasian, Hispanic, African-American, Native American, Asian, or Other\n",
    "\n",
    "* priors_count: Number of previous arrests\n",
    "\n",
    "* decile_score: The COMPAS risk score\n",
    "\n",
    "* two_year_recid: Whether the individual had been jailed for a new crime in next two years"
   ]
  },
  {
   "cell_type": "markdown",
   "id": "15bec9fa",
   "metadata": {},
   "source": [
    "# Assumptions\n",
    "\n",
    "* I would assume that the prefixes c_*, r_* and vr_* stand for \"charge\", \"recidivism\" and \"violent recidivism\"\n",
    "* charge_degree: We assume that the value \"F\" stands for Felony (serious crime) and M for misdemeanor. Is this correct? reasonable\n",
    "* juv_fel_count: Is this the number of juvenile felonies of the defendant? reasonable\n",
    "* juv_misd_count: Is this the number of juvenile misdemeanors of the defendant ? reasonable\n",
    "* juv_other_count: What does \"other\" include? Should we consider it as an attribute for our model? Another factor level ?\n",
    "* priors_count: Is this the number of prior felonies or misdemeanors or both and does it also include the juvenile \n",
    "* priors? Can you compare counts and see if they add up?\n"
   ]
  },
  {
   "cell_type": "code",
   "execution_count": 8,
   "id": "f3a36aa7",
   "metadata": {},
   "outputs": [
    {
     "name": "stdout",
     "output_type": "stream",
     "text": [
      "<class 'pandas.core.frame.DataFrame'>\n",
      "RangeIndex: 6216 entries, 0 to 6215\n",
      "Data columns (total 49 columns):\n",
      " #   Column                   Non-Null Count  Dtype         \n",
      "---  ------                   --------------  -----         \n",
      " 0   id                       6216 non-null   int64         \n",
      " 1   name                     6216 non-null   object        \n",
      " 2   first                    6216 non-null   object        \n",
      " 3   last                     6216 non-null   object        \n",
      " 4   compas_screening_date    6216 non-null   object        \n",
      " 5   sex                      6216 non-null   object        \n",
      " 6   dob                      6216 non-null   object        \n",
      " 7   age                      6216 non-null   int64         \n",
      " 8   age_cat                  6216 non-null   object        \n",
      " 9   race                     6216 non-null   object        \n",
      " 10  juv_fel_count            6216 non-null   int64         \n",
      " 11  decile_score             6216 non-null   int64         \n",
      " 12  juv_misd_count           6216 non-null   int64         \n",
      " 13  juv_other_count          6216 non-null   int64         \n",
      " 14  priors_count             6216 non-null   int64         \n",
      " 15  days_b_screening_arrest  5926 non-null   float64       \n",
      " 16  c_jail_in                5926 non-null   datetime64[ns]\n",
      " 17  c_jail_out               5926 non-null   datetime64[ns]\n",
      " 18  c_case_number            6200 non-null   object        \n",
      " 19  c_offense_date           5204 non-null   object        \n",
      " 20  c_arrest_date            996 non-null    object        \n",
      " 21  c_days_from_compas       6200 non-null   float64       \n",
      " 22  c_charge_degree          6216 non-null   object        \n",
      " 23  c_charge_desc            6193 non-null   object        \n",
      " 24  is_recid                 6216 non-null   int64         \n",
      " 25  r_case_number            2473 non-null   object        \n",
      " 26  r_charge_degree          2473 non-null   object        \n",
      " 27  r_days_from_arrest       1651 non-null   float64       \n",
      " 28  r_offense_date           2473 non-null   object        \n",
      " 29  r_charge_desc            2438 non-null   object        \n",
      " 30  r_jail_in                1651 non-null   object        \n",
      " 31  r_jail_out               1651 non-null   object        \n",
      " 32  violent_recid            0 non-null      float64       \n",
      " 33  is_violent_recid         6216 non-null   int64         \n",
      " 34  vr_case_number           598 non-null    object        \n",
      " 35  vr_charge_degree         598 non-null    object        \n",
      " 36  vr_offense_date          598 non-null    object        \n",
      " 37  vr_charge_desc           598 non-null    object        \n",
      " 38  type_of_assessment       6216 non-null   object        \n",
      " 39  score_text               6216 non-null   object        \n",
      " 40  v_type_of_assessment     6216 non-null   object        \n",
      " 41  v_decile_score           6216 non-null   int64         \n",
      " 42  v_score_text             6216 non-null   object        \n",
      " 43  in_custody               5990 non-null   object        \n",
      " 44  out_custody              5990 non-null   object        \n",
      " 45  start                    6216 non-null   int64         \n",
      " 46  end                      6216 non-null   int64         \n",
      " 47  event                    6216 non-null   int64         \n",
      " 48  two_year_recid           6216 non-null   int64         \n",
      "dtypes: datetime64[ns](2), float64(4), int64(14), object(29)\n",
      "memory usage: 2.3+ MB\n"
     ]
    }
   ],
   "source": [
    "df.info()"
   ]
  },
  {
   "cell_type": "markdown",
   "id": "caa1f8e6",
   "metadata": {},
   "source": [
    "# First: Transform into a binary classification problem\n"
   ]
  },
  {
   "cell_type": "code",
   "execution_count": 9,
   "id": "7cbd1fab",
   "metadata": {},
   "outputs": [],
   "source": [
    "df['is_med_or_high_risk']  = (df['decile_score']>=5).astype(int)\n",
    "\n",
    "#Any score 5 or higher (Medium or High risk) means that a defendant is treated as a likely recividist, \n",
    "# and a score of 4 or lower (Low risk) means that a defendant is treated as unlikely to re-offend."
   ]
  },
  {
   "cell_type": "markdown",
   "id": "bf4ac99f",
   "metadata": {},
   "source": [
    "* decile_score = risk score prediction of the COMPAS system\n",
    "* is_med_or_high_risk = the classification of COMPAS as medium/high risk or low risk\n",
    "* two_year_recid = The “true” recidivism value (whether or not the defendant committed another crime in the next two years)"
   ]
  },
  {
   "cell_type": "markdown",
   "id": "604a259c",
   "metadata": {},
   "source": [
    "* false positives (defendant is predicted as medium/high risk but does not re-offend)\n",
    "* false negatives (defendant is predicted as low risk, but does re-offend)"
   ]
  },
  {
   "cell_type": "code",
   "execution_count": 10,
   "id": "60e1eb7b",
   "metadata": {},
   "outputs": [
    {
     "name": "stdout",
     "output_type": "stream",
     "text": [
      "True negatives:   2681\n",
      "False positives:  1282\n",
      "False negatives:  841\n",
      "True positives:   1412\n"
     ]
    }
   ],
   "source": [
    "[[tn , fp],[fn , tp]]  = confusion_matrix(df['two_year_recid'], df['is_med_or_high_risk'])\n",
    "print(\"True negatives:  \", tn)\n",
    "print(\"False positives: \", fp)\n",
    "print(\"False negatives: \", fn)\n",
    "print(\"True positives:  \", tp)"
   ]
  },
  {
   "cell_type": "code",
   "execution_count": 11,
   "id": "f950e1f7",
   "metadata": {},
   "outputs": [
    {
     "name": "stdout",
     "output_type": "stream",
     "text": [
      "False positive rate (overall):  0.32349230381024474\n",
      "False negative rate (overall):  0.3732800710164225\n"
     ]
    }
   ],
   "source": [
    "fpr = fp/(fp+tn)\n",
    "fnr  = fn/(fn+tp)\n",
    "\n",
    "print(\"False positive rate (overall): \", fpr)\n",
    "print(\"False negative rate (overall): \", fnr)"
   ]
  },
  {
   "cell_type": "code",
   "execution_count": 12,
   "id": "bf2ac702",
   "metadata": {},
   "outputs": [
    {
     "data": {
      "image/png": "[encoded data removed]",
      "text/plain": [
       "<Figure size 432x288 with 1 Axes>"
      ]
     },
     "metadata": {
      "needs_background": "light"
     },
     "output_type": "display_data"
    }
   ],
   "source": [
    "from sklearn.metrics import roc_curve, roc_auc_score\n",
    "\n",
    "fpr, tpr, thresholds = roc_curve(df['two_year_recid'], df['decile_score'])\n",
    "sns.scatterplot(x=fpr, y=tpr, );\n",
    "sns.lineplot(x=fpr, y=tpr);\n",
    "plt.ylabel(\"TPR\");\n",
    "plt.xlabel(\"FPR\");"
   ]
  },
  {
   "cell_type": "markdown",
   "id": "dd1782db",
   "metadata": {},
   "source": [
    "* ROC curve is a performance measurement for the classification problems at various threshold settings. A ROC curve is constructed by plotting the true positive rate (TPR) against the false positive rate (FPR). The true positive rate is the proportion of observations that were correctly predicted to be positive out of all positive observations (TP/(TP + FN)). Similarly, the false positive rate is the proportion of observations that are incorrectly predicted to be positive out of all negative observations (FP/(TN + FP)). "
   ]
  },
  {
   "cell_type": "code",
   "execution_count": 13,
   "id": "d319ba42",
   "metadata": {},
   "outputs": [
    {
     "data": {
      "text/plain": [
       "0.7030253435042003"
      ]
     },
     "execution_count": 13,
     "metadata": {},
     "output_type": "execute_result"
    }
   ],
   "source": [
    "auc = roc_auc_score(df['two_year_recid'], df['decile_score'])\n",
    "auc"
   ]
  },
  {
   "cell_type": "markdown",
   "id": "6096f085",
   "metadata": {},
   "source": [
    "* ROC is a probability curve and AUC represents the degree or measure of separability. It tells how much the model is capable of distinguishing between classes. Higher the AUC, the better the model is at predicting 0 classes as 0 and 1 classes as 1. By analogy, the Higher the AUC, the better the model is at distinguishing between patients with the disease and no disease. An excellent model has AUC near to the 1 which means it has a good measure of separability. A poor model has an AUC near 0 which means it has the worst measure of separability. In fact, it means it is reciprocating the result. It is predicting 0s as 1s and 1s as 0s. And when AUC is 0.5, it means the model has no class separation capacity whatsoever."
   ]
  },
  {
   "cell_type": "markdown",
   "id": "5f7352b3",
   "metadata": {},
   "source": [
    "# Race"
   ]
  },
  {
   "cell_type": "code",
   "execution_count": 14,
   "id": "1fd804d2",
   "metadata": {},
   "outputs": [
    {
     "data": {
      "text/plain": [
       "African-American    3139\n",
       "Caucasian           2132\n",
       "Hispanic             563\n",
       "Other                340\n",
       "Asian                 28\n",
       "Native American       14\n",
       "Name: race, dtype: int64"
      ]
     },
     "execution_count": 14,
     "metadata": {},
     "output_type": "execute_result"
    }
   ],
   "source": [
    "df['race'].value_counts()"
   ]
  },
  {
   "cell_type": "code",
   "execution_count": 15,
   "id": "c712d45b",
   "metadata": {},
   "outputs": [
    {
     "data": {
      "text/plain": [
       "race\n",
       "African-American    0.624084\n",
       "Caucasian           0.689024\n",
       "dtype: float64"
      ]
     },
     "execution_count": 15,
     "metadata": {},
     "output_type": "execute_result"
    }
   ],
   "source": [
    "df = df[df.race.isin([\"African-American\",\"Caucasian\"])]\n",
    "# compare accuracy\n",
    "(df['two_year_recid']==df['is_med_or_high_risk']).astype(int).groupby(df['race']).mean()"
   ]
  },
  {
   "cell_type": "markdown",
   "id": "f683c095",
   "metadata": {},
   "source": [
    "# Linear Regression"
   ]
  },
  {
   "cell_type": "code",
   "execution_count": 16,
   "id": "c5837656",
   "metadata": {},
   "outputs": [],
   "source": [
    "columns = [\"age\", \"age_cat\", \"sex\", \"race\",  #demographics\n",
    "               \"juv_fel_count\", \"juv_misd_count\", \"juv_other_count\", \"priors_count\", #criminal history\n",
    "               \"c_charge_degree\", \"c_charge_desc\", #current charges \n",
    "               \"two_year_recid\"]\n",
    "#y = decile_score"
   ]
  },
  {
   "cell_type": "markdown",
   "id": "9e9996be",
   "metadata": {},
   "source": [
    "* Each individual in the dataset was assigned a decile_score ranging from 1 to 10.\n",
    "\n",
    "* This score represents the perceived risk of recidivism with 1 being the lowest risk and 10 being the highest."
   ]
  },
  {
   "cell_type": "code",
   "execution_count": 17,
   "id": "60e5877a",
   "metadata": {},
   "outputs": [],
   "source": [
    "def create_groupcount_barplot(df, group_col, figsize, **kwargs):\n",
    "    \"call df.groupby(group_col), then count number of records and plot\"\n",
    "    counts = df.groupby(group_col)[\"name\"].count().sort_index()\n",
    "\n",
    "    fig, ax = plt.subplots(figsize=figsize)\n",
    "    counts.plot(kind=\"bar\", **kwargs)\n",
    "\n",
    "    ax.spines[\"right\"].set_visible(False)\n",
    "    ax.spines[\"top\"].set_visible(False)\n",
    "    ax.set_xlabel(\"\")\n",
    "    ax.set_ylabel(\"\")\n",
    "\n",
    "    return fig, ax"
   ]
  },
  {
   "cell_type": "code",
   "execution_count": 18,
   "id": "c32fc31d",
   "metadata": {},
   "outputs": [
    {
     "data": {
      "text/plain": [
       "(<Figure size 864x576 with 1 Axes>, <AxesSubplot:>)"
      ]
     },
     "execution_count": 18,
     "metadata": {},
     "output_type": "execute_result"
    },
    {
     "data": {
      "image/png": "[encoded data removed]",
      "text/plain": [
       "<Figure size 864x576 with 1 Axes>"
      ]
     },
     "metadata": {
      "needs_background": "light"
     },
     "output_type": "display_data"
    }
   ],
   "source": [
    "create_groupcount_barplot(df, \"decile_score\", (12, 8), color=\"DarkBlue\", rot=0)"
   ]
  },
  {
   "cell_type": "code",
   "execution_count": 21,
   "id": "51d45868",
   "metadata": {},
   "outputs": [
    {
     "data": {
      "text/plain": [
       "Text(0.5, 0.98, 'Score Frequency by Race')"
      ]
     },
     "execution_count": 21,
     "metadata": {},
     "output_type": "execute_result"
    },
    {
     "data": {
      "image/png": "[encoded data removed]",
      "text/plain": [
       "<Figure size 1008x576 with 2 Axes>"
      ]
     },
     "metadata": {
      "needs_background": "light"
     },
     "output_type": "display_data"
    }
   ],
   "source": [
    "dfgb = df.groupby(\"race\")\n",
    "race_count = df.groupby(\"race\")[\"name\"].count()\n",
    "\n",
    "fig, ax = plt.subplots(2, figsize=(14, 8))\n",
    "\n",
    "for (i, race) in enumerate([\"African-American\", \"Caucasian\"]):\n",
    "    (\n",
    "        (dfgb\n",
    "            .get_group(race)\n",
    "            .groupby(\"decile_score\")[\"name\"].count() / race_count[race]\n",
    "        )\n",
    "        .plot(kind=\"bar\", ax=ax[i], color=\"#353535\")\n",
    "    )\n",
    "    ax[i].set_ylabel(race)\n",
    "    ax[i].set_xlabel(\"\")\n",
    "    # set equal y limit for visual comparison\n",
    "    ax[i].set_ylim(0, 0.32)\n",
    "\n",
    "fig.suptitle(\"Score Frequency by Race\")"
   ]
  },
  {
   "cell_type": "code",
   "execution_count": null,
   "id": "7b1e49e0",
   "metadata": {},
   "outputs": [],
   "source": []
  }
 ],
 "metadata": {
  "kernelspec": {
   "display_name": "Python 3",
   "language": "python",
   "name": "python3"
  },
  "language_info": {
   "codemirror_mode": {
    "name": "ipython",
    "version": 3
   },
   "file_extension": ".py",
   "mimetype": "text/x-python",
   "name": "python",
   "nbconvert_exporter": "python",
   "pygments_lexer": "ipython3",
   "version": "3.8.8"
  }
 },
 "nbformat": 4,
 "nbformat_minor": 5
}
