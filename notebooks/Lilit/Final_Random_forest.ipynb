{
 "cells": [
  {
   "cell_type": "code",
   "execution_count": 63,
   "id": "79d4343d",
   "metadata": {},
   "outputs": [],
   "source": [
    "#Imports\n",
    "import numpy as np\n",
    "import pandas as pd\n",
    "import matplotlib.pyplot as plt\n",
    "import seaborn as sns\n",
    "import dalex as dx #explainer for our model\n",
    "from sklearn.metrics import mean_squared_error, r2_score\n",
    "\n",
    "#sklearn \n",
    "from sklearn.linear_model import LogisticRegression\n",
    "#from sklearn.neighbors import KNeighborsClassifier\n",
    "from sklearn.tree import DecisionTreeClassifier, plot_tree\n",
    "from sklearn.ensemble import BaggingClassifier, RandomForestClassifier\n",
    "from sklearn.preprocessing import OneHotEncoder, StandardScaler, MinMaxScaler, OrdinalEncoder\n",
    "from sklearn.impute import KNNImputer, SimpleImputer\n",
    "from sklearn.model_selection import cross_validate, GridSearchCV, train_test_split, RandomizedSearchCV, cross_val_score\n",
    "from sklearn.metrics import confusion_matrix, classification_report, log_loss, roc_auc_score, f1_score, precision_score, recall_score, accuracy_score\n",
    "from sklearn.pipeline import make_pipeline, Pipeline\n",
    "from sklearn.feature_selection import SequentialFeatureSelector, SelectFromModel\n",
    "from sklearn.compose import make_column_selector, make_column_transformer\n",
    "from sklearn.inspection import permutation_importance\n",
    "from sklearn.dummy import DummyClassifier\n",
    "from sklearn.linear_model import LinearRegression\n",
    "from sklearn.preprocessing import PolynomialFeatures\n",
    "\n",
    "\n",
    "# XGB\n",
    "#import xgboost as xgb\n",
    "#from xgboost import XGBClassifier\n",
    "#xgb.set_config(verbosity=0) # to supress warnings\n",
    "\n",
    "# shap\n",
    "import shap\n",
    "\n",
    "#joblib to save trained models\n",
    "import joblib\n",
    "\n",
    "# Show pipelines as interactive diagram\n",
    "from sklearn import set_config; set_config(display='diagram')"
   ]
  },
  {
   "cell_type": "code",
   "execution_count": 34,
   "id": "fa8ab516",
   "metadata": {},
   "outputs": [],
   "source": [
    "# Set random seed for reproducibility reasons\n",
    "np.random.seed(42)"
   ]
  },
  {
   "cell_type": "code",
   "execution_count": 35,
   "id": "ed53cbaa",
   "metadata": {},
   "outputs": [
    {
     "name": "stdout",
     "output_type": "stream",
     "text": [
      "Installed/ Used versions:\n",
      "python: 3.8.6\n",
      "sklearn: 1.0.2\n",
      "shap: 0.40.0\n",
      "numpy: 1.19.5\n",
      "pandas: 1.2.4\n",
      "matplotlib: 3.3.4\n",
      "seaborn: 0.11.1\n",
      "joblib: 1.0.1\n"
     ]
    }
   ],
   "source": [
    "import sklearn, matplotlib\n",
    "print(\"Installed/ Used versions:\")\n",
    "print(\"python: 3.8.6\")\n",
    "print(\"sklearn:\", sklearn.__version__)\n",
    "print(\"shap:\", shap.__version__)\n",
    "print(\"numpy:\", np.__version__)\n",
    "print(\"pandas:\", pd.__version__)\n",
    "print(\"matplotlib:\", matplotlib.__version__)\n",
    "print(\"seaborn:\", sns.__version__)\n",
    "print(\"joblib:\", joblib.__version__)\n"
   ]
  },
  {
   "cell_type": "markdown",
   "id": "67c28529",
   "metadata": {},
   "source": [
    "# Importing the Clean Dataset"
   ]
  },
  {
   "cell_type": "code",
   "execution_count": 36,
   "id": "1286acd0",
   "metadata": {},
   "outputs": [
    {
     "data": {
      "text/html": [
       "<div>\n",
       "<style scoped>\n",
       "    .dataframe tbody tr th:only-of-type {\n",
       "        vertical-align: middle;\n",
       "    }\n",
       "\n",
       "    .dataframe tbody tr th {\n",
       "        vertical-align: top;\n",
       "    }\n",
       "\n",
       "    .dataframe thead th {\n",
       "        text-align: right;\n",
       "    }\n",
       "</style>\n",
       "<table border=\"1\" class=\"dataframe\">\n",
       "  <thead>\n",
       "    <tr style=\"text-align: right;\">\n",
       "      <th></th>\n",
       "      <th>id</th>\n",
       "      <th>name</th>\n",
       "      <th>first</th>\n",
       "      <th>last</th>\n",
       "      <th>compas_screening_date</th>\n",
       "      <th>sex</th>\n",
       "      <th>dob</th>\n",
       "      <th>age</th>\n",
       "      <th>age_cat</th>\n",
       "      <th>race</th>\n",
       "      <th>...</th>\n",
       "      <th>score_text</th>\n",
       "      <th>v_type_of_assessment</th>\n",
       "      <th>v_decile_score</th>\n",
       "      <th>v_score_text</th>\n",
       "      <th>in_custody</th>\n",
       "      <th>out_custody</th>\n",
       "      <th>start</th>\n",
       "      <th>end</th>\n",
       "      <th>event</th>\n",
       "      <th>two_year_recid</th>\n",
       "    </tr>\n",
       "  </thead>\n",
       "  <tbody>\n",
       "    <tr>\n",
       "      <th>0</th>\n",
       "      <td>1</td>\n",
       "      <td>miguel hernandez</td>\n",
       "      <td>miguel</td>\n",
       "      <td>hernandez</td>\n",
       "      <td>2013-08-14</td>\n",
       "      <td>Male</td>\n",
       "      <td>1947-04-18</td>\n",
       "      <td>69</td>\n",
       "      <td>Greater than 45</td>\n",
       "      <td>Other</td>\n",
       "      <td>...</td>\n",
       "      <td>Low</td>\n",
       "      <td>Risk of Violence</td>\n",
       "      <td>1</td>\n",
       "      <td>Low</td>\n",
       "      <td>2014-07-07</td>\n",
       "      <td>2014-07-14</td>\n",
       "      <td>0</td>\n",
       "      <td>327</td>\n",
       "      <td>0</td>\n",
       "      <td>0</td>\n",
       "    </tr>\n",
       "    <tr>\n",
       "      <th>1</th>\n",
       "      <td>3</td>\n",
       "      <td>kevon dixon</td>\n",
       "      <td>kevon</td>\n",
       "      <td>dixon</td>\n",
       "      <td>2013-01-27</td>\n",
       "      <td>Male</td>\n",
       "      <td>1982-01-22</td>\n",
       "      <td>34</td>\n",
       "      <td>25 - 45</td>\n",
       "      <td>African-American</td>\n",
       "      <td>...</td>\n",
       "      <td>Low</td>\n",
       "      <td>Risk of Violence</td>\n",
       "      <td>1</td>\n",
       "      <td>Low</td>\n",
       "      <td>2013-01-26</td>\n",
       "      <td>2013-02-05</td>\n",
       "      <td>9</td>\n",
       "      <td>159</td>\n",
       "      <td>1</td>\n",
       "      <td>1</td>\n",
       "    </tr>\n",
       "    <tr>\n",
       "      <th>2</th>\n",
       "      <td>4</td>\n",
       "      <td>ed philo</td>\n",
       "      <td>ed</td>\n",
       "      <td>philo</td>\n",
       "      <td>2013-04-14</td>\n",
       "      <td>Male</td>\n",
       "      <td>1991-05-14</td>\n",
       "      <td>24</td>\n",
       "      <td>Less than 25</td>\n",
       "      <td>African-American</td>\n",
       "      <td>...</td>\n",
       "      <td>Low</td>\n",
       "      <td>Risk of Violence</td>\n",
       "      <td>3</td>\n",
       "      <td>Low</td>\n",
       "      <td>2013-06-16</td>\n",
       "      <td>2013-06-16</td>\n",
       "      <td>0</td>\n",
       "      <td>63</td>\n",
       "      <td>0</td>\n",
       "      <td>1</td>\n",
       "    </tr>\n",
       "    <tr>\n",
       "      <th>3</th>\n",
       "      <td>5</td>\n",
       "      <td>marcu brown</td>\n",
       "      <td>marcu</td>\n",
       "      <td>brown</td>\n",
       "      <td>2013-01-13</td>\n",
       "      <td>Male</td>\n",
       "      <td>1993-01-21</td>\n",
       "      <td>23</td>\n",
       "      <td>Less than 25</td>\n",
       "      <td>African-American</td>\n",
       "      <td>...</td>\n",
       "      <td>High</td>\n",
       "      <td>Risk of Violence</td>\n",
       "      <td>6</td>\n",
       "      <td>Medium</td>\n",
       "      <td>NaN</td>\n",
       "      <td>NaN</td>\n",
       "      <td>0</td>\n",
       "      <td>1174</td>\n",
       "      <td>0</td>\n",
       "      <td>0</td>\n",
       "    </tr>\n",
       "    <tr>\n",
       "      <th>4</th>\n",
       "      <td>6</td>\n",
       "      <td>bouthy pierrelouis</td>\n",
       "      <td>bouthy</td>\n",
       "      <td>pierrelouis</td>\n",
       "      <td>2013-03-26</td>\n",
       "      <td>Male</td>\n",
       "      <td>1973-01-22</td>\n",
       "      <td>43</td>\n",
       "      <td>25 - 45</td>\n",
       "      <td>Other</td>\n",
       "      <td>...</td>\n",
       "      <td>Low</td>\n",
       "      <td>Risk of Violence</td>\n",
       "      <td>1</td>\n",
       "      <td>Low</td>\n",
       "      <td>NaN</td>\n",
       "      <td>NaN</td>\n",
       "      <td>0</td>\n",
       "      <td>1102</td>\n",
       "      <td>0</td>\n",
       "      <td>0</td>\n",
       "    </tr>\n",
       "    <tr>\n",
       "      <th>...</th>\n",
       "      <td>...</td>\n",
       "      <td>...</td>\n",
       "      <td>...</td>\n",
       "      <td>...</td>\n",
       "      <td>...</td>\n",
       "      <td>...</td>\n",
       "      <td>...</td>\n",
       "      <td>...</td>\n",
       "      <td>...</td>\n",
       "      <td>...</td>\n",
       "      <td>...</td>\n",
       "      <td>...</td>\n",
       "      <td>...</td>\n",
       "      <td>...</td>\n",
       "      <td>...</td>\n",
       "      <td>...</td>\n",
       "      <td>...</td>\n",
       "      <td>...</td>\n",
       "      <td>...</td>\n",
       "      <td>...</td>\n",
       "      <td>...</td>\n",
       "    </tr>\n",
       "    <tr>\n",
       "      <th>6211</th>\n",
       "      <td>10995</td>\n",
       "      <td>raheem smith</td>\n",
       "      <td>raheem</td>\n",
       "      <td>smith</td>\n",
       "      <td>2013-10-20</td>\n",
       "      <td>Male</td>\n",
       "      <td>1995-06-28</td>\n",
       "      <td>20</td>\n",
       "      <td>Less than 25</td>\n",
       "      <td>African-American</td>\n",
       "      <td>...</td>\n",
       "      <td>High</td>\n",
       "      <td>Risk of Violence</td>\n",
       "      <td>9</td>\n",
       "      <td>High</td>\n",
       "      <td>2014-04-07</td>\n",
       "      <td>2014-04-27</td>\n",
       "      <td>0</td>\n",
       "      <td>169</td>\n",
       "      <td>0</td>\n",
       "      <td>0</td>\n",
       "    </tr>\n",
       "    <tr>\n",
       "      <th>6212</th>\n",
       "      <td>10996</td>\n",
       "      <td>steven butler</td>\n",
       "      <td>steven</td>\n",
       "      <td>butler</td>\n",
       "      <td>2013-11-23</td>\n",
       "      <td>Male</td>\n",
       "      <td>1992-07-17</td>\n",
       "      <td>23</td>\n",
       "      <td>Less than 25</td>\n",
       "      <td>African-American</td>\n",
       "      <td>...</td>\n",
       "      <td>Medium</td>\n",
       "      <td>Risk of Violence</td>\n",
       "      <td>5</td>\n",
       "      <td>Medium</td>\n",
       "      <td>2013-11-22</td>\n",
       "      <td>2013-11-24</td>\n",
       "      <td>1</td>\n",
       "      <td>860</td>\n",
       "      <td>0</td>\n",
       "      <td>0</td>\n",
       "    </tr>\n",
       "    <tr>\n",
       "      <th>6213</th>\n",
       "      <td>10997</td>\n",
       "      <td>malcolm simmons</td>\n",
       "      <td>malcolm</td>\n",
       "      <td>simmons</td>\n",
       "      <td>2014-02-01</td>\n",
       "      <td>Male</td>\n",
       "      <td>1993-03-25</td>\n",
       "      <td>23</td>\n",
       "      <td>Less than 25</td>\n",
       "      <td>African-American</td>\n",
       "      <td>...</td>\n",
       "      <td>Low</td>\n",
       "      <td>Risk of Violence</td>\n",
       "      <td>5</td>\n",
       "      <td>Medium</td>\n",
       "      <td>2014-01-31</td>\n",
       "      <td>2014-02-02</td>\n",
       "      <td>1</td>\n",
       "      <td>790</td>\n",
       "      <td>0</td>\n",
       "      <td>0</td>\n",
       "    </tr>\n",
       "    <tr>\n",
       "      <th>6214</th>\n",
       "      <td>10999</td>\n",
       "      <td>winston gregory</td>\n",
       "      <td>winston</td>\n",
       "      <td>gregory</td>\n",
       "      <td>2014-01-14</td>\n",
       "      <td>Male</td>\n",
       "      <td>1958-10-01</td>\n",
       "      <td>57</td>\n",
       "      <td>Greater than 45</td>\n",
       "      <td>Other</td>\n",
       "      <td>...</td>\n",
       "      <td>Low</td>\n",
       "      <td>Risk of Violence</td>\n",
       "      <td>1</td>\n",
       "      <td>Low</td>\n",
       "      <td>2014-01-13</td>\n",
       "      <td>2014-01-14</td>\n",
       "      <td>0</td>\n",
       "      <td>808</td>\n",
       "      <td>0</td>\n",
       "      <td>0</td>\n",
       "    </tr>\n",
       "    <tr>\n",
       "      <th>6215</th>\n",
       "      <td>11000</td>\n",
       "      <td>farrah jean</td>\n",
       "      <td>farrah</td>\n",
       "      <td>jean</td>\n",
       "      <td>2014-03-09</td>\n",
       "      <td>Female</td>\n",
       "      <td>1982-11-17</td>\n",
       "      <td>33</td>\n",
       "      <td>25 - 45</td>\n",
       "      <td>African-American</td>\n",
       "      <td>...</td>\n",
       "      <td>Low</td>\n",
       "      <td>Risk of Violence</td>\n",
       "      <td>2</td>\n",
       "      <td>Low</td>\n",
       "      <td>2014-03-08</td>\n",
       "      <td>2014-03-09</td>\n",
       "      <td>0</td>\n",
       "      <td>754</td>\n",
       "      <td>0</td>\n",
       "      <td>0</td>\n",
       "    </tr>\n",
       "  </tbody>\n",
       "</table>\n",
       "<p>6216 rows × 49 columns</p>\n",
       "</div>"
      ],
      "text/plain": [
       "         id                name    first         last compas_screening_date  \\\n",
       "0         1    miguel hernandez   miguel    hernandez            2013-08-14   \n",
       "1         3         kevon dixon    kevon        dixon            2013-01-27   \n",
       "2         4            ed philo       ed        philo            2013-04-14   \n",
       "3         5         marcu brown    marcu        brown            2013-01-13   \n",
       "4         6  bouthy pierrelouis   bouthy  pierrelouis            2013-03-26   \n",
       "...     ...                 ...      ...          ...                   ...   \n",
       "6211  10995        raheem smith   raheem        smith            2013-10-20   \n",
       "6212  10996       steven butler   steven       butler            2013-11-23   \n",
       "6213  10997     malcolm simmons  malcolm      simmons            2014-02-01   \n",
       "6214  10999     winston gregory  winston      gregory            2014-01-14   \n",
       "6215  11000         farrah jean   farrah         jean            2014-03-09   \n",
       "\n",
       "         sex         dob  age          age_cat              race  ...  \\\n",
       "0       Male  1947-04-18   69  Greater than 45             Other  ...   \n",
       "1       Male  1982-01-22   34          25 - 45  African-American  ...   \n",
       "2       Male  1991-05-14   24     Less than 25  African-American  ...   \n",
       "3       Male  1993-01-21   23     Less than 25  African-American  ...   \n",
       "4       Male  1973-01-22   43          25 - 45             Other  ...   \n",
       "...      ...         ...  ...              ...               ...  ...   \n",
       "6211    Male  1995-06-28   20     Less than 25  African-American  ...   \n",
       "6212    Male  1992-07-17   23     Less than 25  African-American  ...   \n",
       "6213    Male  1993-03-25   23     Less than 25  African-American  ...   \n",
       "6214    Male  1958-10-01   57  Greater than 45             Other  ...   \n",
       "6215  Female  1982-11-17   33          25 - 45  African-American  ...   \n",
       "\n",
       "      score_text  v_type_of_assessment  v_decile_score  v_score_text  \\\n",
       "0            Low      Risk of Violence               1           Low   \n",
       "1            Low      Risk of Violence               1           Low   \n",
       "2            Low      Risk of Violence               3           Low   \n",
       "3           High      Risk of Violence               6        Medium   \n",
       "4            Low      Risk of Violence               1           Low   \n",
       "...          ...                   ...             ...           ...   \n",
       "6211        High      Risk of Violence               9          High   \n",
       "6212      Medium      Risk of Violence               5        Medium   \n",
       "6213         Low      Risk of Violence               5        Medium   \n",
       "6214         Low      Risk of Violence               1           Low   \n",
       "6215         Low      Risk of Violence               2           Low   \n",
       "\n",
       "      in_custody  out_custody start   end event two_year_recid  \n",
       "0     2014-07-07   2014-07-14     0   327     0              0  \n",
       "1     2013-01-26   2013-02-05     9   159     1              1  \n",
       "2     2013-06-16   2013-06-16     0    63     0              1  \n",
       "3            NaN          NaN     0  1174     0              0  \n",
       "4            NaN          NaN     0  1102     0              0  \n",
       "...          ...          ...   ...   ...   ...            ...  \n",
       "6211  2014-04-07   2014-04-27     0   169     0              0  \n",
       "6212  2013-11-22   2013-11-24     1   860     0              0  \n",
       "6213  2014-01-31   2014-02-02     1   790     0              0  \n",
       "6214  2014-01-13   2014-01-14     0   808     0              0  \n",
       "6215  2014-03-08   2014-03-09     0   754     0              0  \n",
       "\n",
       "[6216 rows x 49 columns]"
      ]
     },
     "execution_count": 36,
     "metadata": {},
     "output_type": "execute_result"
    }
   ],
   "source": [
    "url = 'https://github.com/Heity94/Compas-recidivism-analysis/blob/master/data-cleaned/compas-scores-two-years-clean.csv?raw=true'\n",
    "df = pd.read_csv(url, parse_dates=[\"c_jail_in\", \"c_jail_out\"])\n",
    "df"
   ]
  },
  {
   "cell_type": "markdown",
   "id": "56f8a08b",
   "metadata": {},
   "source": [
    "# Feature Engineering: Create feature c_charge_degree_detailed"
   ]
  },
  {
   "cell_type": "code",
   "execution_count": 37,
   "id": "d24e2f51",
   "metadata": {},
   "outputs": [
    {
     "name": "stdout",
     "output_type": "stream",
     "text": [
      "Unique charges in the dataset: 408\n",
      "Unique charges for felonies: 295\n",
      "Unique charges for misdemeanors: 149\n"
     ]
    }
   ],
   "source": [
    "# There are 358 unique charges in the dataset in total (wo NaN)\n",
    "print(\"Unique charges in the dataset:\", len(df.c_charge_desc.unique()))\n",
    "\n",
    "# There are 265 unqiue charges for felonies (23 of them also exist in misdemeanor) (wo NaN)\n",
    "print(\"Unique charges for felonies:\", len(df[df[\"c_charge_degree\"]==\"F\"]\n",
    "                                          [[\"c_charge_degree\", \"c_charge_desc\"]]\n",
    "                                          .c_charge_desc.unique()))\n",
    "\n",
    "# There are 125 unqiue charges for misdemeanors  (wo NaN)\n",
    "print(\"Unique charges for misdemeanors:\", len(df[df[\"c_charge_degree\"]==\"M\"]\n",
    "                                              [[\"c_charge_degree\", \"c_charge_desc\"]]\n",
    "                                              .c_charge_desc.unique()))\n"
   ]
  },
  {
   "cell_type": "markdown",
   "id": "4c69c2cd",
   "metadata": {},
   "source": [
    "* In order to reduce the variaty of charges we created a new feature to cluster each crime into the correct level\n",
    "* The original dataset already contains the more detailed degree of crimes, but only for the recidivist crimes\n",
    "* We first used these crimes and mapped them against the current charges"
   ]
  },
  {
   "cell_type": "markdown",
   "id": "1f3c52a3",
   "metadata": {},
   "source": [
    "# Map charge degree to all cases and store in new feature column c_charge_degree_detailed"
   ]
  },
  {
   "cell_type": "code",
   "execution_count": 38,
   "id": "e59fb1ba",
   "metadata": {},
   "outputs": [],
   "source": [
    "# Load master lookup table\n",
    "labeled_charges_master = pd.read_csv(\"../../notebooks/Philipp/labeled_charges_master.csv\", index_col=\"c_charge_desc\")"
   ]
  },
  {
   "cell_type": "code",
   "execution_count": 39,
   "id": "a1a1d541",
   "metadata": {},
   "outputs": [],
   "source": [
    "# Map charge degree to all cases and store in new column \"c_charge_degree_detailed\"\n",
    "df= df.merge(labeled_charges_master, how=\"left\", left_on=\"c_charge_desc\", right_index=True)\n",
    "df.reset_index(drop=True, inplace=True)"
   ]
  },
  {
   "cell_type": "code",
   "execution_count": 40,
   "id": "0dcead29",
   "metadata": {},
   "outputs": [
    {
     "data": {
      "text/plain": [
       "<AxesSubplot:xlabel='c_charge_degree_detailed', ylabel='count'>"
      ]
     },
     "execution_count": 40,
     "metadata": {},
     "output_type": "execute_result"
    },
    {
     "data": {
      "image/png": "[encoded data removed]",
      "text/plain": [
       "<Figure size 432x288 with 1 Axes>"
      ]
     },
     "metadata": {
      "needs_background": "light"
     },
     "output_type": "display_data"
    }
   ],
   "source": [
    "sns.countplot(x=\"c_charge_degree_detailed\", data=df, order=[\"0\",\"M2\", \"M1\", \"F3\", \"F2\", \"F1\"])"
   ]
  },
  {
   "cell_type": "code",
   "execution_count": 41,
   "id": "3d831e82",
   "metadata": {},
   "outputs": [
    {
     "data": {
      "text/html": [
       "<div>\n",
       "<style scoped>\n",
       "    .dataframe tbody tr th:only-of-type {\n",
       "        vertical-align: middle;\n",
       "    }\n",
       "\n",
       "    .dataframe tbody tr th {\n",
       "        vertical-align: top;\n",
       "    }\n",
       "\n",
       "    .dataframe thead th {\n",
       "        text-align: right;\n",
       "    }\n",
       "</style>\n",
       "<table border=\"1\" class=\"dataframe\">\n",
       "  <thead>\n",
       "    <tr style=\"text-align: right;\">\n",
       "      <th></th>\n",
       "      <th>id</th>\n",
       "      <th>name</th>\n",
       "      <th>first</th>\n",
       "      <th>last</th>\n",
       "      <th>compas_screening_date</th>\n",
       "      <th>sex</th>\n",
       "      <th>dob</th>\n",
       "      <th>age</th>\n",
       "      <th>age_cat</th>\n",
       "      <th>race</th>\n",
       "      <th>...</th>\n",
       "      <th>v_type_of_assessment</th>\n",
       "      <th>v_decile_score</th>\n",
       "      <th>v_score_text</th>\n",
       "      <th>in_custody</th>\n",
       "      <th>out_custody</th>\n",
       "      <th>start</th>\n",
       "      <th>end</th>\n",
       "      <th>event</th>\n",
       "      <th>two_year_recid</th>\n",
       "      <th>c_charge_degree_detailed</th>\n",
       "    </tr>\n",
       "  </thead>\n",
       "  <tbody>\n",
       "    <tr>\n",
       "      <th>9</th>\n",
       "      <td>13</td>\n",
       "      <td>bo bradac</td>\n",
       "      <td>bo</td>\n",
       "      <td>bradac</td>\n",
       "      <td>2013-11-04</td>\n",
       "      <td>Male</td>\n",
       "      <td>1994-06-10</td>\n",
       "      <td>21</td>\n",
       "      <td>Less than 25</td>\n",
       "      <td>Caucasian</td>\n",
       "      <td>...</td>\n",
       "      <td>Risk of Violence</td>\n",
       "      <td>5</td>\n",
       "      <td>Medium</td>\n",
       "      <td>2015-01-06</td>\n",
       "      <td>2015-01-07</td>\n",
       "      <td>0</td>\n",
       "      <td>428</td>\n",
       "      <td>1</td>\n",
       "      <td>1</td>\n",
       "      <td>NaN</td>\n",
       "    </tr>\n",
       "    <tr>\n",
       "      <th>54</th>\n",
       "      <td>95</td>\n",
       "      <td>daquan davis</td>\n",
       "      <td>daquan</td>\n",
       "      <td>davis</td>\n",
       "      <td>2013-03-14</td>\n",
       "      <td>Male</td>\n",
       "      <td>1994-04-11</td>\n",
       "      <td>22</td>\n",
       "      <td>Less than 25</td>\n",
       "      <td>African-American</td>\n",
       "      <td>...</td>\n",
       "      <td>Risk of Violence</td>\n",
       "      <td>9</td>\n",
       "      <td>High</td>\n",
       "      <td>2013-05-23</td>\n",
       "      <td>2013-09-24</td>\n",
       "      <td>0</td>\n",
       "      <td>70</td>\n",
       "      <td>0</td>\n",
       "      <td>1</td>\n",
       "      <td>NaN</td>\n",
       "    </tr>\n",
       "    <tr>\n",
       "      <th>80</th>\n",
       "      <td>147</td>\n",
       "      <td>phillip bishop</td>\n",
       "      <td>phillip</td>\n",
       "      <td>bishop</td>\n",
       "      <td>2013-11-06</td>\n",
       "      <td>Male</td>\n",
       "      <td>1949-05-04</td>\n",
       "      <td>66</td>\n",
       "      <td>Greater than 45</td>\n",
       "      <td>Caucasian</td>\n",
       "      <td>...</td>\n",
       "      <td>Risk of Violence</td>\n",
       "      <td>1</td>\n",
       "      <td>Low</td>\n",
       "      <td>2013-09-03</td>\n",
       "      <td>2013-10-03</td>\n",
       "      <td>0</td>\n",
       "      <td>877</td>\n",
       "      <td>0</td>\n",
       "      <td>0</td>\n",
       "      <td>NaN</td>\n",
       "    </tr>\n",
       "    <tr>\n",
       "      <th>133</th>\n",
       "      <td>243</td>\n",
       "      <td>bryan sandrin</td>\n",
       "      <td>bryan</td>\n",
       "      <td>sandrin</td>\n",
       "      <td>2014-02-11</td>\n",
       "      <td>Male</td>\n",
       "      <td>1976-06-30</td>\n",
       "      <td>39</td>\n",
       "      <td>25 - 45</td>\n",
       "      <td>Caucasian</td>\n",
       "      <td>...</td>\n",
       "      <td>Risk of Violence</td>\n",
       "      <td>4</td>\n",
       "      <td>Low</td>\n",
       "      <td>2014-02-10</td>\n",
       "      <td>2014-02-14</td>\n",
       "      <td>3</td>\n",
       "      <td>780</td>\n",
       "      <td>0</td>\n",
       "      <td>0</td>\n",
       "      <td>NaN</td>\n",
       "    </tr>\n",
       "    <tr>\n",
       "      <th>160</th>\n",
       "      <td>285</td>\n",
       "      <td>charmaine ramkhelawan</td>\n",
       "      <td>charmaine</td>\n",
       "      <td>ramkhelawan</td>\n",
       "      <td>2013-07-22</td>\n",
       "      <td>Female</td>\n",
       "      <td>1964-04-16</td>\n",
       "      <td>52</td>\n",
       "      <td>Greater than 45</td>\n",
       "      <td>Other</td>\n",
       "      <td>...</td>\n",
       "      <td>Risk of Violence</td>\n",
       "      <td>1</td>\n",
       "      <td>Low</td>\n",
       "      <td>NaN</td>\n",
       "      <td>NaN</td>\n",
       "      <td>0</td>\n",
       "      <td>449</td>\n",
       "      <td>1</td>\n",
       "      <td>1</td>\n",
       "      <td>NaN</td>\n",
       "    </tr>\n",
       "    <tr>\n",
       "      <th>...</th>\n",
       "      <td>...</td>\n",
       "      <td>...</td>\n",
       "      <td>...</td>\n",
       "      <td>...</td>\n",
       "      <td>...</td>\n",
       "      <td>...</td>\n",
       "      <td>...</td>\n",
       "      <td>...</td>\n",
       "      <td>...</td>\n",
       "      <td>...</td>\n",
       "      <td>...</td>\n",
       "      <td>...</td>\n",
       "      <td>...</td>\n",
       "      <td>...</td>\n",
       "      <td>...</td>\n",
       "      <td>...</td>\n",
       "      <td>...</td>\n",
       "      <td>...</td>\n",
       "      <td>...</td>\n",
       "      <td>...</td>\n",
       "      <td>...</td>\n",
       "    </tr>\n",
       "    <tr>\n",
       "      <th>5738</th>\n",
       "      <td>10143</td>\n",
       "      <td>joshua staley</td>\n",
       "      <td>joshua</td>\n",
       "      <td>staley</td>\n",
       "      <td>2013-05-14</td>\n",
       "      <td>Male</td>\n",
       "      <td>1989-09-14</td>\n",
       "      <td>26</td>\n",
       "      <td>25 - 45</td>\n",
       "      <td>African-American</td>\n",
       "      <td>...</td>\n",
       "      <td>Risk of Violence</td>\n",
       "      <td>5</td>\n",
       "      <td>Medium</td>\n",
       "      <td>2013-06-14</td>\n",
       "      <td>2013-06-25</td>\n",
       "      <td>0</td>\n",
       "      <td>31</td>\n",
       "      <td>0</td>\n",
       "      <td>0</td>\n",
       "      <td>NaN</td>\n",
       "    </tr>\n",
       "    <tr>\n",
       "      <th>6005</th>\n",
       "      <td>10588</td>\n",
       "      <td>sergio santibanez-cruz</td>\n",
       "      <td>sergio</td>\n",
       "      <td>santibanez-cruz</td>\n",
       "      <td>2013-03-13</td>\n",
       "      <td>Male</td>\n",
       "      <td>1990-09-08</td>\n",
       "      <td>25</td>\n",
       "      <td>25 - 45</td>\n",
       "      <td>Hispanic</td>\n",
       "      <td>...</td>\n",
       "      <td>Risk of Violence</td>\n",
       "      <td>3</td>\n",
       "      <td>Low</td>\n",
       "      <td>2013-01-29</td>\n",
       "      <td>2013-02-01</td>\n",
       "      <td>0</td>\n",
       "      <td>1115</td>\n",
       "      <td>0</td>\n",
       "      <td>0</td>\n",
       "      <td>NaN</td>\n",
       "    </tr>\n",
       "    <tr>\n",
       "      <th>6016</th>\n",
       "      <td>10611</td>\n",
       "      <td>edward eggers</td>\n",
       "      <td>edward</td>\n",
       "      <td>eggers</td>\n",
       "      <td>2013-10-24</td>\n",
       "      <td>Male</td>\n",
       "      <td>1961-05-01</td>\n",
       "      <td>54</td>\n",
       "      <td>Greater than 45</td>\n",
       "      <td>Caucasian</td>\n",
       "      <td>...</td>\n",
       "      <td>Risk of Violence</td>\n",
       "      <td>1</td>\n",
       "      <td>Low</td>\n",
       "      <td>2014-06-11</td>\n",
       "      <td>2014-07-18</td>\n",
       "      <td>0</td>\n",
       "      <td>101</td>\n",
       "      <td>1</td>\n",
       "      <td>1</td>\n",
       "      <td>NaN</td>\n",
       "    </tr>\n",
       "    <tr>\n",
       "      <th>6022</th>\n",
       "      <td>10624</td>\n",
       "      <td>marion davis</td>\n",
       "      <td>marion</td>\n",
       "      <td>davis</td>\n",
       "      <td>2013-02-07</td>\n",
       "      <td>Male</td>\n",
       "      <td>1988-02-26</td>\n",
       "      <td>28</td>\n",
       "      <td>25 - 45</td>\n",
       "      <td>African-American</td>\n",
       "      <td>...</td>\n",
       "      <td>Risk of Violence</td>\n",
       "      <td>3</td>\n",
       "      <td>Low</td>\n",
       "      <td>2013-02-07</td>\n",
       "      <td>2013-02-07</td>\n",
       "      <td>0</td>\n",
       "      <td>173</td>\n",
       "      <td>1</td>\n",
       "      <td>1</td>\n",
       "      <td>NaN</td>\n",
       "    </tr>\n",
       "    <tr>\n",
       "      <th>6082</th>\n",
       "      <td>10737</td>\n",
       "      <td>barbara mitchell</td>\n",
       "      <td>barbara</td>\n",
       "      <td>mitchell</td>\n",
       "      <td>2013-10-17</td>\n",
       "      <td>Female</td>\n",
       "      <td>1946-08-02</td>\n",
       "      <td>69</td>\n",
       "      <td>Greater than 45</td>\n",
       "      <td>Caucasian</td>\n",
       "      <td>...</td>\n",
       "      <td>Risk of Violence</td>\n",
       "      <td>1</td>\n",
       "      <td>Low</td>\n",
       "      <td>2014-04-17</td>\n",
       "      <td>2014-04-21</td>\n",
       "      <td>0</td>\n",
       "      <td>182</td>\n",
       "      <td>0</td>\n",
       "      <td>0</td>\n",
       "      <td>NaN</td>\n",
       "    </tr>\n",
       "  </tbody>\n",
       "</table>\n",
       "<p>76 rows × 50 columns</p>\n",
       "</div>"
      ],
      "text/plain": [
       "         id                    name      first             last  \\\n",
       "9        13               bo bradac         bo           bradac   \n",
       "54       95            daquan davis     daquan            davis   \n",
       "80      147          phillip bishop    phillip           bishop   \n",
       "133     243           bryan sandrin      bryan          sandrin   \n",
       "160     285   charmaine ramkhelawan  charmaine      ramkhelawan   \n",
       "...     ...                     ...        ...              ...   \n",
       "5738  10143           joshua staley     joshua           staley   \n",
       "6005  10588  sergio santibanez-cruz     sergio  santibanez-cruz   \n",
       "6016  10611           edward eggers     edward           eggers   \n",
       "6022  10624            marion davis     marion            davis   \n",
       "6082  10737        barbara mitchell    barbara         mitchell   \n",
       "\n",
       "     compas_screening_date     sex         dob  age          age_cat  \\\n",
       "9               2013-11-04    Male  1994-06-10   21     Less than 25   \n",
       "54              2013-03-14    Male  1994-04-11   22     Less than 25   \n",
       "80              2013-11-06    Male  1949-05-04   66  Greater than 45   \n",
       "133             2014-02-11    Male  1976-06-30   39          25 - 45   \n",
       "160             2013-07-22  Female  1964-04-16   52  Greater than 45   \n",
       "...                    ...     ...         ...  ...              ...   \n",
       "5738            2013-05-14    Male  1989-09-14   26          25 - 45   \n",
       "6005            2013-03-13    Male  1990-09-08   25          25 - 45   \n",
       "6016            2013-10-24    Male  1961-05-01   54  Greater than 45   \n",
       "6022            2013-02-07    Male  1988-02-26   28          25 - 45   \n",
       "6082            2013-10-17  Female  1946-08-02   69  Greater than 45   \n",
       "\n",
       "                  race  ...  v_type_of_assessment  v_decile_score  \\\n",
       "9            Caucasian  ...      Risk of Violence               5   \n",
       "54    African-American  ...      Risk of Violence               9   \n",
       "80           Caucasian  ...      Risk of Violence               1   \n",
       "133          Caucasian  ...      Risk of Violence               4   \n",
       "160              Other  ...      Risk of Violence               1   \n",
       "...                ...  ...                   ...             ...   \n",
       "5738  African-American  ...      Risk of Violence               5   \n",
       "6005          Hispanic  ...      Risk of Violence               3   \n",
       "6016         Caucasian  ...      Risk of Violence               1   \n",
       "6022  African-American  ...      Risk of Violence               3   \n",
       "6082         Caucasian  ...      Risk of Violence               1   \n",
       "\n",
       "      v_score_text  in_custody  out_custody  start   end event two_year_recid  \\\n",
       "9           Medium  2015-01-06   2015-01-07      0   428     1              1   \n",
       "54            High  2013-05-23   2013-09-24      0    70     0              1   \n",
       "80             Low  2013-09-03   2013-10-03      0   877     0              0   \n",
       "133            Low  2014-02-10   2014-02-14      3   780     0              0   \n",
       "160            Low         NaN          NaN      0   449     1              1   \n",
       "...            ...         ...          ...    ...   ...   ...            ...   \n",
       "5738        Medium  2013-06-14   2013-06-25      0    31     0              0   \n",
       "6005           Low  2013-01-29   2013-02-01      0  1115     0              0   \n",
       "6016           Low  2014-06-11   2014-07-18      0   101     1              1   \n",
       "6022           Low  2013-02-07   2013-02-07      0   173     1              1   \n",
       "6082           Low  2014-04-17   2014-04-21      0   182     0              0   \n",
       "\n",
       "     c_charge_degree_detailed  \n",
       "9                         NaN  \n",
       "54                        NaN  \n",
       "80                        NaN  \n",
       "133                       NaN  \n",
       "160                       NaN  \n",
       "...                       ...  \n",
       "5738                      NaN  \n",
       "6005                      NaN  \n",
       "6016                      NaN  \n",
       "6022                      NaN  \n",
       "6082                      NaN  \n",
       "\n",
       "[76 rows x 50 columns]"
      ]
     },
     "execution_count": 41,
     "metadata": {},
     "output_type": "execute_result"
    }
   ],
   "source": [
    "#Check NaN values (values which did not have a c_charge_desc in the original dataset)\n",
    "df[df.c_charge_degree_detailed.isnull()]"
   ]
  },
  {
   "cell_type": "code",
   "execution_count": 42,
   "id": "3258360d",
   "metadata": {},
   "outputs": [],
   "source": [
    "index_nan_cases = df[df.c_charge_degree_detailed.isnull()].index"
   ]
  },
  {
   "cell_type": "markdown",
   "id": "10a919ce",
   "metadata": {},
   "source": [
    "# Descriptive Statistics"
   ]
  },
  {
   "cell_type": "code",
   "execution_count": 43,
   "id": "0dd66654",
   "metadata": {},
   "outputs": [
    {
     "data": {
      "text/plain": [
       "African-American    3139\n",
       "Caucasian           2132\n",
       "Hispanic             563\n",
       "Other                340\n",
       "Asian                 28\n",
       "Native American       14\n",
       "Name: race, dtype: int64"
      ]
     },
     "execution_count": 43,
     "metadata": {},
     "output_type": "execute_result"
    }
   ],
   "source": [
    "df['race'].value_counts()"
   ]
  },
  {
   "cell_type": "code",
   "execution_count": 44,
   "id": "04585488",
   "metadata": {},
   "outputs": [
    {
     "data": {
      "image/png": "[encoded data removed]",
      "text/plain": [
       "<Figure size 864x720 with 2 Axes>"
      ]
     },
     "metadata": {
      "needs_background": "light"
     },
     "output_type": "display_data"
    }
   ],
   "source": [
    "plt.figure(figsize=(12,10))\n",
    "sns.heatmap(df.corr(), annot=True);"
   ]
  },
  {
   "cell_type": "code",
   "execution_count": 45,
   "id": "42c50bd2",
   "metadata": {},
   "outputs": [
    {
     "data": {
      "text/plain": [
       "(<Figure size 864x576 with 1 Axes>, <AxesSubplot:>)"
      ]
     },
     "execution_count": 45,
     "metadata": {},
     "output_type": "execute_result"
    },
    {
     "data": {
      "image/png": "[encoded data removed]",
      "text/plain": [
       "<Figure size 864x576 with 1 Axes>"
      ]
     },
     "metadata": {
      "needs_background": "light"
     },
     "output_type": "display_data"
    }
   ],
   "source": [
    "def create_groupcount_barplot(df, group_col, figsize, **kwargs):\n",
    "    \"call df.groupby(group_col), then count number of records and plot\"\n",
    "    counts = df.groupby(group_col)[\"name\"].count().sort_index()\n",
    "\n",
    "    fig, ax = plt.subplots(figsize=figsize)\n",
    "    counts.plot(kind=\"bar\", **kwargs)\n",
    "\n",
    "    ax.spines[\"right\"].set_visible(False)\n",
    "    ax.spines[\"top\"].set_visible(False)\n",
    "    ax.set_xlabel(\"\")\n",
    "    ax.set_ylabel(\"\")\n",
    "\n",
    "    return fig, ax\n",
    "\n",
    "create_groupcount_barplot(df, \"decile_score\", (12, 8), color=\"DarkBlue\", rot=0)"
   ]
  },
  {
   "cell_type": "markdown",
   "id": "7b1977c1",
   "metadata": {},
   "source": [
    "# We can already observe that that our target variable is not normally distributed. Therefore, we will proceed with the log of decile score."
   ]
  },
  {
   "cell_type": "code",
   "execution_count": 46,
   "id": "114edfbb",
   "metadata": {},
   "outputs": [],
   "source": [
    "df['decile_score_log'] = np.log(df.decile_score)"
   ]
  },
  {
   "cell_type": "code",
   "execution_count": 47,
   "id": "42bda228",
   "metadata": {},
   "outputs": [
    {
     "name": "stdout",
     "output_type": "stream",
     "text": [
      "0.44499634284609496\n",
      "-0.34657083633759855\n"
     ]
    }
   ],
   "source": [
    "print(df.decile_score.skew())\n",
    "print(df.decile_score_log.skew())"
   ]
  },
  {
   "cell_type": "markdown",
   "id": "61aa6b23",
   "metadata": {},
   "source": [
    "* If skewness is between -0.5 and 0.5, the distribution is approximately symmetric. We have around -0.35."
   ]
  },
  {
   "cell_type": "code",
   "execution_count": 48,
   "id": "d7b29f87",
   "metadata": {},
   "outputs": [],
   "source": [
    "features = pd.concat([df.age,\n",
    "                    pd.get_dummies(df.sex, prefix='sex',drop_first=True),\n",
    "                    pd.get_dummies(df.race, prefix='race',drop_first=True),  \n",
    "                    pd.get_dummies(df.c_charge_degree, prefix='degree',drop_first=True), # felony or misdemeanor charge ('f' or 'm')\n",
    "                    pd.get_dummies(df.c_charge_degree_detailed, prefix = 'degree_desc',drop_first=True),\n",
    "                    df.priors_count,\n",
    "                    df.juv_fel_count,\n",
    "                    df.juv_misd_count,\n",
    "                    df.juv_other_count,\n",
    "                    df.two_year_recid],\n",
    "                    axis=1)\n",
    "\n",
    "target= df.decile_score_log"
   ]
  },
  {
   "cell_type": "markdown",
   "id": "2c56e106",
   "metadata": {},
   "source": [
    "# Feature Scaling"
   ]
  },
  {
   "cell_type": "code",
   "execution_count": 49,
   "id": "46765b32",
   "metadata": {},
   "outputs": [],
   "source": [
    "minmax_scaler = MinMaxScaler()\n",
    "features_scaled = minmax_scaler.fit_transform(features)"
   ]
  },
  {
   "cell_type": "code",
   "execution_count": 50,
   "id": "4ebc0a84",
   "metadata": {},
   "outputs": [
    {
     "data": {
      "text/html": [
       "<div>\n",
       "<style scoped>\n",
       "    .dataframe tbody tr th:only-of-type {\n",
       "        vertical-align: middle;\n",
       "    }\n",
       "\n",
       "    .dataframe tbody tr th {\n",
       "        vertical-align: top;\n",
       "    }\n",
       "\n",
       "    .dataframe thead th {\n",
       "        text-align: right;\n",
       "    }\n",
       "</style>\n",
       "<table border=\"1\" class=\"dataframe\">\n",
       "  <thead>\n",
       "    <tr style=\"text-align: right;\">\n",
       "      <th></th>\n",
       "      <th>age</th>\n",
       "      <th>sex_Male</th>\n",
       "      <th>race_Asian</th>\n",
       "      <th>race_Caucasian</th>\n",
       "      <th>race_Hispanic</th>\n",
       "      <th>race_Native American</th>\n",
       "      <th>race_Other</th>\n",
       "      <th>degree_M</th>\n",
       "      <th>degree_desc_F1</th>\n",
       "      <th>degree_desc_F2</th>\n",
       "      <th>degree_desc_F3</th>\n",
       "      <th>degree_desc_M1</th>\n",
       "      <th>degree_desc_M2</th>\n",
       "      <th>priors_count</th>\n",
       "      <th>juv_fel_count</th>\n",
       "      <th>juv_misd_count</th>\n",
       "      <th>juv_other_count</th>\n",
       "      <th>two_year_recid</th>\n",
       "      <th>decile_score</th>\n",
       "    </tr>\n",
       "  </thead>\n",
       "  <tbody>\n",
       "    <tr>\n",
       "      <th>0</th>\n",
       "      <td>0.649351</td>\n",
       "      <td>1.0</td>\n",
       "      <td>0.0</td>\n",
       "      <td>0.0</td>\n",
       "      <td>0.0</td>\n",
       "      <td>0.0</td>\n",
       "      <td>1.0</td>\n",
       "      <td>0.0</td>\n",
       "      <td>0.0</td>\n",
       "      <td>0.0</td>\n",
       "      <td>1.0</td>\n",
       "      <td>0.0</td>\n",
       "      <td>0.0</td>\n",
       "      <td>0.000000</td>\n",
       "      <td>0.0</td>\n",
       "      <td>0.000000</td>\n",
       "      <td>0.000000</td>\n",
       "      <td>0.0</td>\n",
       "      <td>0.000000</td>\n",
       "    </tr>\n",
       "    <tr>\n",
       "      <th>1</th>\n",
       "      <td>0.194805</td>\n",
       "      <td>1.0</td>\n",
       "      <td>0.0</td>\n",
       "      <td>0.0</td>\n",
       "      <td>0.0</td>\n",
       "      <td>0.0</td>\n",
       "      <td>0.0</td>\n",
       "      <td>0.0</td>\n",
       "      <td>0.0</td>\n",
       "      <td>0.0</td>\n",
       "      <td>1.0</td>\n",
       "      <td>0.0</td>\n",
       "      <td>0.0</td>\n",
       "      <td>0.000000</td>\n",
       "      <td>0.0</td>\n",
       "      <td>0.000000</td>\n",
       "      <td>0.000000</td>\n",
       "      <td>1.0</td>\n",
       "      <td>1.098612</td>\n",
       "    </tr>\n",
       "    <tr>\n",
       "      <th>2</th>\n",
       "      <td>0.064935</td>\n",
       "      <td>1.0</td>\n",
       "      <td>0.0</td>\n",
       "      <td>0.0</td>\n",
       "      <td>0.0</td>\n",
       "      <td>0.0</td>\n",
       "      <td>0.0</td>\n",
       "      <td>0.0</td>\n",
       "      <td>0.0</td>\n",
       "      <td>0.0</td>\n",
       "      <td>1.0</td>\n",
       "      <td>0.0</td>\n",
       "      <td>0.0</td>\n",
       "      <td>0.108108</td>\n",
       "      <td>0.0</td>\n",
       "      <td>0.000000</td>\n",
       "      <td>0.058824</td>\n",
       "      <td>1.0</td>\n",
       "      <td>1.386294</td>\n",
       "    </tr>\n",
       "    <tr>\n",
       "      <th>3</th>\n",
       "      <td>0.051948</td>\n",
       "      <td>1.0</td>\n",
       "      <td>0.0</td>\n",
       "      <td>0.0</td>\n",
       "      <td>0.0</td>\n",
       "      <td>0.0</td>\n",
       "      <td>0.0</td>\n",
       "      <td>0.0</td>\n",
       "      <td>0.0</td>\n",
       "      <td>0.0</td>\n",
       "      <td>1.0</td>\n",
       "      <td>0.0</td>\n",
       "      <td>0.0</td>\n",
       "      <td>0.027027</td>\n",
       "      <td>0.0</td>\n",
       "      <td>0.076923</td>\n",
       "      <td>0.000000</td>\n",
       "      <td>0.0</td>\n",
       "      <td>2.079442</td>\n",
       "    </tr>\n",
       "    <tr>\n",
       "      <th>4</th>\n",
       "      <td>0.311688</td>\n",
       "      <td>1.0</td>\n",
       "      <td>0.0</td>\n",
       "      <td>0.0</td>\n",
       "      <td>0.0</td>\n",
       "      <td>0.0</td>\n",
       "      <td>1.0</td>\n",
       "      <td>0.0</td>\n",
       "      <td>0.0</td>\n",
       "      <td>0.0</td>\n",
       "      <td>0.0</td>\n",
       "      <td>0.0</td>\n",
       "      <td>0.0</td>\n",
       "      <td>0.054054</td>\n",
       "      <td>0.0</td>\n",
       "      <td>0.000000</td>\n",
       "      <td>0.000000</td>\n",
       "      <td>0.0</td>\n",
       "      <td>0.000000</td>\n",
       "    </tr>\n",
       "  </tbody>\n",
       "</table>\n",
       "</div>"
      ],
      "text/plain": [
       "        age  sex_Male  race_Asian  race_Caucasian  race_Hispanic  \\\n",
       "0  0.649351       1.0         0.0             0.0            0.0   \n",
       "1  0.194805       1.0         0.0             0.0            0.0   \n",
       "2  0.064935       1.0         0.0             0.0            0.0   \n",
       "3  0.051948       1.0         0.0             0.0            0.0   \n",
       "4  0.311688       1.0         0.0             0.0            0.0   \n",
       "\n",
       "   race_Native American  race_Other  degree_M  degree_desc_F1  degree_desc_F2  \\\n",
       "0                   0.0         1.0       0.0             0.0             0.0   \n",
       "1                   0.0         0.0       0.0             0.0             0.0   \n",
       "2                   0.0         0.0       0.0             0.0             0.0   \n",
       "3                   0.0         0.0       0.0             0.0             0.0   \n",
       "4                   0.0         1.0       0.0             0.0             0.0   \n",
       "\n",
       "   degree_desc_F3  degree_desc_M1  degree_desc_M2  priors_count  \\\n",
       "0             1.0             0.0             0.0      0.000000   \n",
       "1             1.0             0.0             0.0      0.000000   \n",
       "2             1.0             0.0             0.0      0.108108   \n",
       "3             1.0             0.0             0.0      0.027027   \n",
       "4             0.0             0.0             0.0      0.054054   \n",
       "\n",
       "   juv_fel_count  juv_misd_count  juv_other_count  two_year_recid  \\\n",
       "0            0.0        0.000000         0.000000             0.0   \n",
       "1            0.0        0.000000         0.000000             1.0   \n",
       "2            0.0        0.000000         0.058824             1.0   \n",
       "3            0.0        0.076923         0.000000             0.0   \n",
       "4            0.0        0.000000         0.000000             0.0   \n",
       "\n",
       "   decile_score  \n",
       "0      0.000000  \n",
       "1      1.098612  \n",
       "2      1.386294  \n",
       "3      2.079442  \n",
       "4      0.000000  "
      ]
     },
     "execution_count": 50,
     "metadata": {},
     "output_type": "execute_result"
    }
   ],
   "source": [
    "df_scaled = pd.DataFrame(features_scaled, columns=features.columns)\n",
    "df_scaled['decile_score'] = np.log(df.decile_score)\n",
    "df_scaled.head()"
   ]
  },
  {
   "cell_type": "markdown",
   "id": "7c98da66",
   "metadata": {},
   "source": [
    "# Linear Regression"
   ]
  },
  {
   "cell_type": "code",
   "execution_count": 51,
   "id": "91a11c47",
   "metadata": {},
   "outputs": [],
   "source": [
    "features_scaled = df_scaled[[\"age\",\n",
    "                    \"sex_Male\",\n",
    "                    \"race_Asian\",  \n",
    "                    \"race_Caucasian\",\n",
    "                    \"race_Hispanic\",\n",
    "                    \"race_Native American\",\n",
    "                    \"race_Other\",\n",
    "                    \"degree_M\",\n",
    "                    \"degree_desc_F1\",\n",
    "                    \"degree_desc_F2\",\n",
    "                    \"degree_desc_F3\",\n",
    "                    \"degree_desc_M1\",\n",
    "                    \"degree_desc_F2\",\n",
    "                    \"priors_count\",\n",
    "                    \"juv_fel_count\",\n",
    "                    \"juv_misd_count\",\n",
    "                    \"juv_other_count\",\n",
    "                    \"two_year_recid\"]]\n",
    "\n",
    "target_log= df_scaled.decile_score"
   ]
  },
  {
   "cell_type": "code",
   "execution_count": 52,
   "id": "3c0a6762",
   "metadata": {},
   "outputs": [],
   "source": [
    "x = features_scaled.values\n",
    "y=target_log.values\n",
    "X_train, X_test, y_train, y_test = train_test_split(x,y, test_size=0.33)"
   ]
  },
  {
   "cell_type": "code",
   "execution_count": 53,
   "id": "9b58146c",
   "metadata": {},
   "outputs": [],
   "source": [
    "linearreg = LinearRegression()\n",
    "linearreg.fit(X_train,y_train)\n",
    "y_pred = linearreg.predict(X_test)"
   ]
  },
  {
   "cell_type": "code",
   "execution_count": 55,
   "id": "a5dcd325",
   "metadata": {},
   "outputs": [
    {
     "name": "stderr",
     "output_type": "stream",
     "text": [
      "X has feature names, but LinearRegression was fitted without feature names\n",
      "X has feature names, but LinearRegression was fitted without feature names\n"
     ]
    },
    {
     "data": {
      "text/html": [
       "<div>\n",
       "<style scoped>\n",
       "    .dataframe tbody tr th:only-of-type {\n",
       "        vertical-align: middle;\n",
       "    }\n",
       "\n",
       "    .dataframe tbody tr th {\n",
       "        vertical-align: top;\n",
       "    }\n",
       "\n",
       "    .dataframe thead th {\n",
       "        text-align: right;\n",
       "    }\n",
       "</style>\n",
       "<table border=\"1\" class=\"dataframe\">\n",
       "  <thead>\n",
       "    <tr style=\"text-align: right;\">\n",
       "      <th></th>\n",
       "      <th>mse</th>\n",
       "      <th>rmse</th>\n",
       "      <th>r2</th>\n",
       "      <th>mae</th>\n",
       "      <th>mad</th>\n",
       "    </tr>\n",
       "  </thead>\n",
       "  <tbody>\n",
       "    <tr>\n",
       "      <th>LinearRegression</th>\n",
       "      <td>0.331507</td>\n",
       "      <td>0.575766</td>\n",
       "      <td>0.472003</td>\n",
       "      <td>0.470118</td>\n",
       "      <td>0.416097</td>\n",
       "    </tr>\n",
       "  </tbody>\n",
       "</table>\n",
       "</div>"
      ],
      "text/plain": [
       "                       mse      rmse        r2       mae       mad\n",
       "LinearRegression  0.331507  0.575766  0.472003  0.470118  0.416097"
      ]
     },
     "execution_count": 55,
     "metadata": {},
     "output_type": "execute_result"
    }
   ],
   "source": [
    "exp_linearreg = dx.Explainer(linearreg, X_test, y_test, verbose=False)\n",
    "exp_linearreg.model_performance().result\n"
   ]
  },
  {
   "cell_type": "markdown",
   "id": "0ff88f91",
   "metadata": {},
   "source": [
    "# Polynomial Feautures"
   ]
  },
  {
   "cell_type": "markdown",
   "id": "cd6e489a",
   "metadata": {},
   "source": [
    "* The best degree of polynomial should be the degree that generates the lowest RMSE in cross validation set. "
   ]
  },
  {
   "cell_type": "code",
   "execution_count": 56,
   "id": "342582b3",
   "metadata": {},
   "outputs": [],
   "source": [
    "features_new = df_scaled[[\"age\",\n",
    "                    \"sex_Male\",\n",
    "                    \"race_Asian\",  \n",
    "                    \"race_Caucasian\",\n",
    "                    \"race_Hispanic\",\n",
    "                    \"race_Native American\",\n",
    "                    \"race_Other\",\n",
    "                    \"degree_M\",\n",
    "                    \"degree_desc_F1\",\n",
    "                    \"degree_desc_F2\",\n",
    "                    \"degree_desc_F3\",\n",
    "                    \"degree_desc_M1\",\n",
    "                    \"degree_desc_F2\",\n",
    "                    \"priors_count\",\n",
    "                    \"juv_fel_count\",\n",
    "                    \"juv_misd_count\",\n",
    "                    \"juv_other_count\",\n",
    "                    \"two_year_recid\"]]\n",
    "\n",
    "target_new= df_scaled.decile_score"
   ]
  },
  {
   "cell_type": "code",
   "execution_count": 57,
   "id": "ae777991",
   "metadata": {},
   "outputs": [],
   "source": [
    "x_new = features_scaled.values\n",
    "y_new=target_log.values\n",
    "X_train, X_test, y_train, y_test = train_test_split(x_new,y_new, test_size=0.33)"
   ]
  },
  {
   "cell_type": "code",
   "execution_count": 64,
   "id": "4c0f9bbd",
   "metadata": {},
   "outputs": [
    {
     "name": "stdout",
     "output_type": "stream",
     "text": [
      "Best degree 2 with RMSE 0.5455804664498447\n"
     ]
    },
    {
     "data": {
      "text/plain": [
       "Text(0, 0.5, 'RMSE')"
      ]
     },
     "execution_count": 64,
     "metadata": {},
     "output_type": "execute_result"
    },
    {
     "data": {
      "image/png": "[encoded data removed]",
      "text/plain": [
       "<Figure size 432x288 with 1 Axes>"
      ]
     },
     "metadata": {
      "needs_background": "light"
     },
     "output_type": "display_data"
    }
   ],
   "source": [
    "rmses = []\n",
    "degrees = np.arange(2, 6)\n",
    "min_rmse, min_deg = 1e10, 0\n",
    "\n",
    "for deg in degrees:\n",
    "\n",
    "    # Train features\n",
    "    poly_features = PolynomialFeatures(degree=deg, include_bias=False)\n",
    "    x_poly_train = poly_features.fit_transform(X_train)\n",
    "\n",
    "    # Linear regression\n",
    "    poly_reg = LinearRegression()\n",
    "    poly_reg.fit(x_poly_train, y_train)\n",
    "\n",
    "    # Compare with test data\n",
    "    x_poly_test = poly_features.fit_transform(X_test)\n",
    "    poly_predict = poly_reg.predict(x_poly_test)\n",
    "    poly_mse = mean_squared_error(y_test, poly_predict)\n",
    "    poly_rmse = np.sqrt(poly_mse)\n",
    "    rmses.append(poly_rmse)\n",
    "    \n",
    "    # Cross-validation of degree\n",
    "    if min_rmse > poly_rmse:\n",
    "        min_rmse = poly_rmse\n",
    "        min_deg = deg\n",
    "\n",
    "# Plot and present results\n",
    "print('Best degree {} with RMSE {}'.format(min_deg, min_rmse))\n",
    "        \n",
    "fig = plt.figure()\n",
    "ax = fig.add_subplot(111)\n",
    "ax.plot(degrees, rmses)\n",
    "ax.set_yscale('log')\n",
    "ax.set_xlabel('Degree')\n",
    "ax.set_ylabel('RMSE')"
   ]
  },
  {
   "cell_type": "code",
   "execution_count": 65,
   "id": "fb00af30",
   "metadata": {},
   "outputs": [
    {
     "data": {
      "text/html": [
       "<style>#sk-bbe70899-bc60-4d81-b4e4-d2235075efd1 {color: black;background-color: white;}#sk-bbe70899-bc60-4d81-b4e4-d2235075efd1 pre{padding: 0;}#sk-bbe70899-bc60-4d81-b4e4-d2235075efd1 div.sk-toggleable {background-color: white;}#sk-bbe70899-bc60-4d81-b4e4-d2235075efd1 label.sk-toggleable__label {cursor: pointer;display: block;width: 100%;margin-bottom: 0;padding: 0.3em;box-sizing: border-box;text-align: center;}#sk-bbe70899-bc60-4d81-b4e4-d2235075efd1 label.sk-toggleable__label-arrow:before {content: \"▸\";float: left;margin-right: 0.25em;color: #696969;}#sk-bbe70899-bc60-4d81-b4e4-d2235075efd1 label.sk-toggleable__label-arrow:hover:before {color: black;}#sk-bbe70899-bc60-4d81-b4e4-d2235075efd1 div.sk-estimator:hover label.sk-toggleable__label-arrow:before {color: black;}#sk-bbe70899-bc60-4d81-b4e4-d2235075efd1 div.sk-toggleable__content {max-height: 0;max-width: 0;overflow: hidden;text-align: left;background-color: #f0f8ff;}#sk-bbe70899-bc60-4d81-b4e4-d2235075efd1 div.sk-toggleable__content pre {margin: 0.2em;color: black;border-radius: 0.25em;background-color: #f0f8ff;}#sk-bbe70899-bc60-4d81-b4e4-d2235075efd1 input.sk-toggleable__control:checked~div.sk-toggleable__content {max-height: 200px;max-width: 100%;overflow: auto;}#sk-bbe70899-bc60-4d81-b4e4-d2235075efd1 input.sk-toggleable__control:checked~label.sk-toggleable__label-arrow:before {content: \"▾\";}#sk-bbe70899-bc60-4d81-b4e4-d2235075efd1 div.sk-estimator input.sk-toggleable__control:checked~label.sk-toggleable__label {background-color: #d4ebff;}#sk-bbe70899-bc60-4d81-b4e4-d2235075efd1 div.sk-label input.sk-toggleable__control:checked~label.sk-toggleable__label {background-color: #d4ebff;}#sk-bbe70899-bc60-4d81-b4e4-d2235075efd1 input.sk-hidden--visually {border: 0;clip: rect(1px 1px 1px 1px);clip: rect(1px, 1px, 1px, 1px);height: 1px;margin: -1px;overflow: hidden;padding: 0;position: absolute;width: 1px;}#sk-bbe70899-bc60-4d81-b4e4-d2235075efd1 div.sk-estimator {font-family: monospace;background-color: #f0f8ff;border: 1px dotted black;border-radius: 0.25em;box-sizing: border-box;margin-bottom: 0.5em;}#sk-bbe70899-bc60-4d81-b4e4-d2235075efd1 div.sk-estimator:hover {background-color: #d4ebff;}#sk-bbe70899-bc60-4d81-b4e4-d2235075efd1 div.sk-parallel-item::after {content: \"\";width: 100%;border-bottom: 1px solid gray;flex-grow: 1;}#sk-bbe70899-bc60-4d81-b4e4-d2235075efd1 div.sk-label:hover label.sk-toggleable__label {background-color: #d4ebff;}#sk-bbe70899-bc60-4d81-b4e4-d2235075efd1 div.sk-serial::before {content: \"\";position: absolute;border-left: 1px solid gray;box-sizing: border-box;top: 2em;bottom: 0;left: 50%;}#sk-bbe70899-bc60-4d81-b4e4-d2235075efd1 div.sk-serial {display: flex;flex-direction: column;align-items: center;background-color: white;padding-right: 0.2em;padding-left: 0.2em;}#sk-bbe70899-bc60-4d81-b4e4-d2235075efd1 div.sk-item {z-index: 1;}#sk-bbe70899-bc60-4d81-b4e4-d2235075efd1 div.sk-parallel {display: flex;align-items: stretch;justify-content: center;background-color: white;}#sk-bbe70899-bc60-4d81-b4e4-d2235075efd1 div.sk-parallel::before {content: \"\";position: absolute;border-left: 1px solid gray;box-sizing: border-box;top: 2em;bottom: 0;left: 50%;}#sk-bbe70899-bc60-4d81-b4e4-d2235075efd1 div.sk-parallel-item {display: flex;flex-direction: column;position: relative;background-color: white;}#sk-bbe70899-bc60-4d81-b4e4-d2235075efd1 div.sk-parallel-item:first-child::after {align-self: flex-end;width: 50%;}#sk-bbe70899-bc60-4d81-b4e4-d2235075efd1 div.sk-parallel-item:last-child::after {align-self: flex-start;width: 50%;}#sk-bbe70899-bc60-4d81-b4e4-d2235075efd1 div.sk-parallel-item:only-child::after {width: 0;}#sk-bbe70899-bc60-4d81-b4e4-d2235075efd1 div.sk-dashed-wrapped {border: 1px dashed gray;margin: 0 0.4em 0.5em 0.4em;box-sizing: border-box;padding-bottom: 0.4em;background-color: white;position: relative;}#sk-bbe70899-bc60-4d81-b4e4-d2235075efd1 div.sk-label label {font-family: monospace;font-weight: bold;background-color: white;display: inline-block;line-height: 1.2em;}#sk-bbe70899-bc60-4d81-b4e4-d2235075efd1 div.sk-label-container {position: relative;z-index: 2;text-align: center;}#sk-bbe70899-bc60-4d81-b4e4-d2235075efd1 div.sk-container {/* jupyter's `normalize.less` sets `[hidden] { display: none; }` but bootstrap.min.css set `[hidden] { display: none !important; }` so we also need the `!important` here to be able to override the default hidden behavior on the sphinx rendered scikit-learn.org. See: https://github.com/scikit-learn/scikit-learn/issues/21755 */display: inline-block !important;position: relative;}#sk-bbe70899-bc60-4d81-b4e4-d2235075efd1 div.sk-text-repr-fallback {display: none;}</style><div id=\"sk-bbe70899-bc60-4d81-b4e4-d2235075efd1\" class=\"sk-top-container\"><div class=\"sk-text-repr-fallback\"><pre>Pipeline(steps=[(&#x27;polynomialfeatures&#x27;, PolynomialFeatures()),\n",
       "                (&#x27;linearregression&#x27;, LinearRegression())])</pre><b>Please rerun this cell to show the HTML repr or trust the notebook.</b></div><div class=\"sk-container\" hidden><div class=\"sk-item sk-dashed-wrapped\"><div class=\"sk-label-container\"><div class=\"sk-label sk-toggleable\"><input class=\"sk-toggleable__control sk-hidden--visually\" id=\"f86b5fe2-a9cd-4296-90c6-79f1b4057df6\" type=\"checkbox\" ><label for=\"f86b5fe2-a9cd-4296-90c6-79f1b4057df6\" class=\"sk-toggleable__label sk-toggleable__label-arrow\">Pipeline</label><div class=\"sk-toggleable__content\"><pre>Pipeline(steps=[(&#x27;polynomialfeatures&#x27;, PolynomialFeatures()),\n",
       "                (&#x27;linearregression&#x27;, LinearRegression())])</pre></div></div></div><div class=\"sk-serial\"><div class=\"sk-item\"><div class=\"sk-estimator sk-toggleable\"><input class=\"sk-toggleable__control sk-hidden--visually\" id=\"40feabdb-6f93-49fe-ae78-c721d8b1b684\" type=\"checkbox\" ><label for=\"40feabdb-6f93-49fe-ae78-c721d8b1b684\" class=\"sk-toggleable__label sk-toggleable__label-arrow\">PolynomialFeatures</label><div class=\"sk-toggleable__content\"><pre>PolynomialFeatures()</pre></div></div></div><div class=\"sk-item\"><div class=\"sk-estimator sk-toggleable\"><input class=\"sk-toggleable__control sk-hidden--visually\" id=\"4a8f108b-504a-4991-8d07-8aa047a28bfe\" type=\"checkbox\" ><label for=\"4a8f108b-504a-4991-8d07-8aa047a28bfe\" class=\"sk-toggleable__label sk-toggleable__label-arrow\">LinearRegression</label><div class=\"sk-toggleable__content\"><pre>LinearRegression()</pre></div></div></div></div></div></div></div>"
      ],
      "text/plain": [
       "Pipeline(steps=[('polynomialfeatures', PolynomialFeatures()),\n",
       "                ('linearregression', LinearRegression())])"
      ]
     },
     "execution_count": 65,
     "metadata": {},
     "output_type": "execute_result"
    }
   ],
   "source": [
    "degree=2\n",
    "polyreg_scaled=make_pipeline(PolynomialFeatures(degree),LinearRegression())\n",
    "polyreg_scaled.fit(X_train,y_train)"
   ]
  },
  {
   "cell_type": "code",
   "execution_count": 70,
   "id": "df82040f",
   "metadata": {},
   "outputs": [
    {
     "name": "stderr",
     "output_type": "stream",
     "text": [
      "X has feature names, but LinearRegression was fitted without feature names\n",
      "X has feature names, but LinearRegression was fitted without feature names\n"
     ]
    },
    {
     "data": {
      "text/html": [
       "<div>\n",
       "<style scoped>\n",
       "    .dataframe tbody tr th:only-of-type {\n",
       "        vertical-align: middle;\n",
       "    }\n",
       "\n",
       "    .dataframe tbody tr th {\n",
       "        vertical-align: top;\n",
       "    }\n",
       "\n",
       "    .dataframe thead th {\n",
       "        text-align: right;\n",
       "    }\n",
       "</style>\n",
       "<table border=\"1\" class=\"dataframe\">\n",
       "  <thead>\n",
       "    <tr style=\"text-align: right;\">\n",
       "      <th></th>\n",
       "      <th>mse</th>\n",
       "      <th>rmse</th>\n",
       "      <th>r2</th>\n",
       "      <th>mae</th>\n",
       "      <th>mad</th>\n",
       "    </tr>\n",
       "  </thead>\n",
       "  <tbody>\n",
       "    <tr>\n",
       "      <th>LinearRegression</th>\n",
       "      <td>0.315463</td>\n",
       "      <td>0.561661</td>\n",
       "      <td>0.473325</td>\n",
       "      <td>0.457762</td>\n",
       "      <td>0.389981</td>\n",
       "    </tr>\n",
       "  </tbody>\n",
       "</table>\n",
       "</div>"
      ],
      "text/plain": [
       "                       mse      rmse        r2       mae       mad\n",
       "LinearRegression  0.315463  0.561661  0.473325  0.457762  0.389981"
      ]
     },
     "execution_count": 70,
     "metadata": {},
     "output_type": "execute_result"
    }
   ],
   "source": [
    "exp_polynomial = dx.Explainer(linearreg, X_test, y_test, verbose=False)\n",
    "exp_polynomial.model_performance().result\n"
   ]
  },
  {
   "cell_type": "markdown",
   "id": "160b45e2",
   "metadata": {},
   "source": [
    "# Lasso Regression"
   ]
  },
  {
   "cell_type": "code",
   "execution_count": 72,
   "id": "9c6010d9",
   "metadata": {},
   "outputs": [],
   "source": [
    "features_new = df_scaled[[\"age\",\n",
    "                    \"sex_Male\",\n",
    "                    \"race_Asian\",  \n",
    "                    \"race_Caucasian\",\n",
    "                    \"race_Hispanic\",\n",
    "                    \"race_Native American\",\n",
    "                    \"race_Other\",\n",
    "                    \"degree_M\",\n",
    "                    \"degree_desc_F1\",\n",
    "                    \"degree_desc_F2\",\n",
    "                    \"degree_desc_F3\",\n",
    "                    \"degree_desc_M1\",\n",
    "                    \"degree_desc_F2\",\n",
    "                    \"priors_count\",\n",
    "                    \"juv_fel_count\",\n",
    "                    \"juv_misd_count\",\n",
    "                    \"juv_other_count\",\n",
    "                    \"two_year_recid\"]]\n",
    "\n",
    "target_new= df_scaled[\"decile_score\"]"
   ]
  },
  {
   "cell_type": "code",
   "execution_count": 73,
   "id": "2a3d6036",
   "metadata": {},
   "outputs": [],
   "source": [
    "x = features_new\n",
    "y=target_log.values\n",
    "X_train, X_test, y_train, y_test = train_test_split(x,y, test_size=0.33)\n"
   ]
  },
  {
   "cell_type": "code",
   "execution_count": 74,
   "id": "a5547150",
   "metadata": {},
   "outputs": [
    {
     "name": "stdout",
     "output_type": "stream",
     "text": [
      "{'alpha': 0.1}\n",
      "Training Score: 0.03979770006099248\n",
      "Test Score: 0.03911454146654958\n"
     ]
    }
   ],
   "source": [
    "#optimal parameter\n",
    "\n",
    "from sklearn.linear_model import Lasso\n",
    "from sklearn.model_selection import GridSearchCV\n",
    "\n",
    "param_grid = {'alpha':np.arange(0.1,1,0.05)}\n",
    "\n",
    "lasso = Lasso()\n",
    "\n",
    "lasso_cv = GridSearchCV(lasso, param_grid, cv = 5)\n",
    "\n",
    "lasso_cv.fit(X_train, y_train)\n",
    "print(lasso_cv.best_params_)\n",
    "\n",
    "print('Training Score:', lasso_cv.score(X_train, y_train))\n",
    "print('Test Score:', lasso_cv.score(X_test, y_test))"
   ]
  },
  {
   "cell_type": "code",
   "execution_count": 80,
   "id": "bfa76b70",
   "metadata": {},
   "outputs": [
    {
     "data": {
      "text/plain": [
       "0.03911454146654958"
      ]
     },
     "execution_count": 80,
     "metadata": {},
     "output_type": "execute_result"
    }
   ],
   "source": [
    "lasso = Lasso(alpha=0.1) #, normalize=True)\n",
    "lasso.fit(X_train, y_train)\n",
    "lasso_pred = lasso.predict(X_test)\n",
    "#Returns the coefficient of determination R^2 of the prediction.\n",
    "lasso.score(X_test, y_test)\n",
    "r2_score(y_test, lasso_pred)"
   ]
  },
  {
   "cell_type": "code",
   "execution_count": 78,
   "id": "85f4a9b5",
   "metadata": {},
   "outputs": [
    {
     "name": "stderr",
     "output_type": "stream",
     "text": [
      "X does not have valid feature names, but Lasso was fitted with feature names\n"
     ]
    },
    {
     "data": {
      "text/html": [
       "<div>\n",
       "<style scoped>\n",
       "    .dataframe tbody tr th:only-of-type {\n",
       "        vertical-align: middle;\n",
       "    }\n",
       "\n",
       "    .dataframe tbody tr th {\n",
       "        vertical-align: top;\n",
       "    }\n",
       "\n",
       "    .dataframe thead th {\n",
       "        text-align: right;\n",
       "    }\n",
       "</style>\n",
       "<table border=\"1\" class=\"dataframe\">\n",
       "  <thead>\n",
       "    <tr style=\"text-align: right;\">\n",
       "      <th></th>\n",
       "      <th>mse</th>\n",
       "      <th>rmse</th>\n",
       "      <th>r2</th>\n",
       "      <th>mae</th>\n",
       "      <th>mad</th>\n",
       "    </tr>\n",
       "  </thead>\n",
       "  <tbody>\n",
       "    <tr>\n",
       "      <th>Lasso</th>\n",
       "      <td>0.583276</td>\n",
       "      <td>0.763725</td>\n",
       "      <td>0.039115</td>\n",
       "      <td>0.661519</td>\n",
       "      <td>0.633599</td>\n",
       "    </tr>\n",
       "  </tbody>\n",
       "</table>\n",
       "</div>"
      ],
      "text/plain": [
       "            mse      rmse        r2       mae       mad\n",
       "Lasso  0.583276  0.763725  0.039115  0.661519  0.633599"
      ]
     },
     "execution_count": 78,
     "metadata": {},
     "output_type": "execute_result"
    }
   ],
   "source": [
    "exp_lasso = dx.Explainer(lasso, X_test, y_test, verbose=False)\n",
    "exp_lasso.model_performance().result"
   ]
  },
  {
   "cell_type": "code",
   "execution_count": 82,
   "id": "8b2e136e",
   "metadata": {},
   "outputs": [
    {
     "data": {
      "text/plain": [
       "0.9499069632531411"
      ]
     },
     "execution_count": 82,
     "metadata": {},
     "output_type": "execute_result"
    }
   ],
   "source": [
    "mean_squared_error(y_test, y_pred, squared=False)"
   ]
  },
  {
   "cell_type": "markdown",
   "id": "5a4f670b",
   "metadata": {},
   "source": [
    "# Ridge Regression"
   ]
  },
  {
   "cell_type": "code",
   "execution_count": 56,
   "id": "d47e7c91",
   "metadata": {},
   "outputs": [],
   "source": [
    "features_new = df_scaled[[\"age\",\n",
    "                    \"sex_Male\",\n",
    "                    \"race_Asian\",  \n",
    "                    \"race_Caucasian\",\n",
    "                    \"race_Hispanic\",\n",
    "                    \"race_Native American\",\n",
    "                    \"race_Other\",\n",
    "                    \"degree_M\",\n",
    "                    \"degree_desc_F1\",\n",
    "                    \"degree_desc_F2\",\n",
    "                    \"degree_desc_F3\",\n",
    "                    \"degree_desc_M1\",\n",
    "                    \"degree_desc_F2\",\n",
    "                    \"priors_count\",\n",
    "                    \"juv_fel_count\",\n",
    "                    \"juv_misd_count\",\n",
    "                    \"juv_other_count\",\n",
    "                    \"two_year_recid\"]]\n",
    "\n",
    "target_new= df_scaled.decile_score"
   ]
  },
  {
   "cell_type": "code",
   "execution_count": 57,
   "id": "7e1e300f",
   "metadata": {},
   "outputs": [],
   "source": [
    "X = features_scaled.values\n",
    "y=target_new.values\n",
    "X_train, X_test, y_train, y_test = train_test_split(X,y, test_size=0.33)"
   ]
  },
  {
   "cell_type": "code",
   "execution_count": 58,
   "id": "d9bdde9c",
   "metadata": {},
   "outputs": [
    {
     "name": "stdout",
     "output_type": "stream",
     "text": [
      "Mean MAE: 0.460 (0.012)\n"
     ]
    }
   ],
   "source": [
    "model = Ridge(alpha=1.0)\n",
    "# define model evaluation method\n",
    "cv = RepeatedKFold(n_splits=10, n_repeats=3, random_state=1)\n",
    "# evaluate model\n",
    "scores = cross_val_score(model, X, y, scoring='neg_mean_absolute_error', cv=cv, n_jobs=-1)\n",
    "# force scores to be positive\n",
    "scores = absolute(scores)\n",
    "print('Mean MAE: %.3f (%.3f)' % (mean(scores), std(scores)))"
   ]
  },
  {
   "cell_type": "code",
   "execution_count": 63,
   "id": "01740770",
   "metadata": {},
   "outputs": [
    {
     "name": "stdout",
     "output_type": "stream",
     "text": [
      "MAE: -0.459\n",
      "Config: {'alpha': 0.01}\n"
     ]
    }
   ],
   "source": [
    "model = Ridge()\n",
    "# define model evaluation method\n",
    "cv = RepeatedKFold(n_splits=10, n_repeats=3, random_state=1)\n",
    "# define grid\n",
    "grid = dict()\n",
    "grid['alpha'] = arange(0, 1, 0.01)\n",
    "# define search\n",
    "search = GridSearchCV(model, grid, scoring='neg_mean_absolute_error', cv=cv, n_jobs=-1)\n",
    "# perform the search\n",
    "results = search.fit(X, y)\n",
    "# summarize\n",
    "print('MAE: %.3f' % results.best_score_)\n",
    "print('Config: %s' % results.best_params_)"
   ]
  },
  {
   "cell_type": "code",
   "execution_count": 59,
   "id": "1e99a1fc",
   "metadata": {},
   "outputs": [
    {
     "name": "stderr",
     "output_type": "stream",
     "text": [
      "/opt/anaconda3/lib/python3.8/site-packages/sklearn/linear_model/_base.py:148: FutureWarning: 'normalize' was deprecated in version 1.0 and will be removed in 1.2. Please leave the normalize parameter to its default value to silence this warning. The default behavior of this estimator is to not do any normalization. If normalization is needed please use sklearn.preprocessing.StandardScaler instead.\n",
      "  warnings.warn(\n"
     ]
    }
   ],
   "source": [
    "ridge2 = Ridge(alpha=0.1, normalize=False)\n",
    "ridge2.fit(X_train, y_train)\n",
    "ridge2_pred = ridge2.predict(X_test)"
   ]
  },
  {
   "cell_type": "code",
   "execution_count": 60,
   "id": "f4e05617",
   "metadata": {},
   "outputs": [
    {
     "data": {
      "text/plain": [
       "0.47187334275456794"
      ]
     },
     "execution_count": 60,
     "metadata": {},
     "output_type": "execute_result"
    }
   ],
   "source": [
    "r2_score(y_test, ridge2_pred)"
   ]
  },
  {
   "cell_type": "code",
   "execution_count": 61,
   "id": "d8ddba77",
   "metadata": {},
   "outputs": [
    {
     "data": {
      "text/plain": [
       "0.3263262934963612"
      ]
     },
     "execution_count": 61,
     "metadata": {},
     "output_type": "execute_result"
    }
   ],
   "source": [
    "mean_squared_error(y_test, ridge2_pred)"
   ]
  },
  {
   "cell_type": "code",
   "execution_count": 62,
   "id": "ce228783",
   "metadata": {},
   "outputs": [
    {
     "data": {
      "text/plain": [
       "0.9591754831028093"
      ]
     },
     "execution_count": 62,
     "metadata": {},
     "output_type": "execute_result"
    }
   ],
   "source": [
    "mean_squared_error(y_test, y_pred, squared=False)"
   ]
  },
  {
   "cell_type": "markdown",
   "id": "2374611f",
   "metadata": {},
   "source": [
    "# Elastic Net"
   ]
  },
  {
   "cell_type": "code",
   "execution_count": 64,
   "id": "6d170277",
   "metadata": {},
   "outputs": [],
   "source": [
    "features_new = df_scaled[[\"age\",\n",
    "                    \"sex_Male\",\n",
    "                    \"race_Asian\",  \n",
    "                    \"race_Caucasian\",\n",
    "                    \"race_Hispanic\",\n",
    "                    \"race_Native American\",\n",
    "                    \"race_Other\",\n",
    "                    \"degree_M\",\n",
    "                    \"degree_desc_F1\",\n",
    "                    \"degree_desc_F2\",\n",
    "                    \"degree_desc_F3\",\n",
    "                    \"degree_desc_M1\",\n",
    "                    \"degree_desc_F2\",\n",
    "                    \"priors_count\",\n",
    "                    \"juv_fel_count\",\n",
    "                    \"juv_misd_count\",\n",
    "                    \"juv_other_count\",\n",
    "                    \"two_year_recid\"]]\n",
    "\n",
    "target_new= df_scaled.decile_score"
   ]
  },
  {
   "cell_type": "code",
   "execution_count": 65,
   "id": "97add3ee",
   "metadata": {},
   "outputs": [],
   "source": [
    "X = features_scaled.values\n",
    "y=target_new.values\n",
    "X_train, X_test, y_train, y_test = train_test_split(X,y, test_size=0.33)"
   ]
  },
  {
   "cell_type": "code",
   "execution_count": 66,
   "id": "9acc537b",
   "metadata": {},
   "outputs": [
    {
     "name": "stdout",
     "output_type": "stream",
     "text": [
      "Mean MAE: 0.681 (0.013)\n"
     ]
    }
   ],
   "source": [
    "model = ElasticNet(alpha=1.0, l1_ratio=0.5)\n",
    "# define model evaluation method\n",
    "cv = RepeatedKFold(n_splits=10, n_repeats=3, random_state=1)\n",
    "# evaluate model\n",
    "scores = cross_val_score(model, X, y, scoring='neg_mean_absolute_error', cv=cv, n_jobs=-1)\n",
    "# force scores to be positive\n",
    "scores = absolute(scores)\n",
    "print('Mean MAE: %.3f (%.3f)' % (mean(scores), std(scores)))"
   ]
  },
  {
   "cell_type": "code",
   "execution_count": 67,
   "id": "f54681ad",
   "metadata": {},
   "outputs": [
    {
     "name": "stderr",
     "output_type": "stream",
     "text": [
      "/opt/anaconda3/lib/python3.8/site-packages/sklearn/linear_model/_base.py:148: FutureWarning: 'normalize' was deprecated in version 1.0 and will be removed in 1.2. Please leave the normalize parameter to its default value to silence this warning. The default behavior of this estimator is to not do any normalization. If normalization is needed please use sklearn.preprocessing.StandardScaler instead.\n",
      "  warnings.warn(\n"
     ]
    }
   ],
   "source": [
    "ElasticNet = ElasticNet(alpha=0.1, normalize=False)\n",
    "ElasticNet.fit(X_train, y_train)\n",
    "ElasticNet_pred = ElasticNet.predict(X_test)"
   ]
  },
  {
   "cell_type": "code",
   "execution_count": 68,
   "id": "07f8cb65",
   "metadata": {},
   "outputs": [
    {
     "data": {
      "text/plain": [
       "0.10426268165535335"
      ]
     },
     "execution_count": 68,
     "metadata": {},
     "output_type": "execute_result"
    }
   ],
   "source": [
    "r2_score(y_test, ElasticNet_pred)"
   ]
  },
  {
   "cell_type": "code",
   "execution_count": 69,
   "id": "29b51752",
   "metadata": {},
   "outputs": [
    {
     "data": {
      "text/plain": [
       "0.5489019990426349"
      ]
     },
     "execution_count": 69,
     "metadata": {},
     "output_type": "execute_result"
    }
   ],
   "source": [
    "mean_squared_error(y_test, ElasticNet_pred)"
   ]
  },
  {
   "cell_type": "code",
   "execution_count": 70,
   "id": "24edc4fe",
   "metadata": {},
   "outputs": [
    {
     "data": {
      "text/plain": [
       "0.9529632717153206"
      ]
     },
     "execution_count": 70,
     "metadata": {},
     "output_type": "execute_result"
    }
   ],
   "source": [
    "mean_squared_error(y_test, y_pred, squared=False)"
   ]
  },
  {
   "cell_type": "markdown",
   "id": "17001cc1",
   "metadata": {},
   "source": [
    "# Random Forest "
   ]
  },
  {
   "cell_type": "code",
   "execution_count": 74,
   "id": "5e854f5f",
   "metadata": {},
   "outputs": [],
   "source": [
    "#Import required libraries\n",
    "from sklearn.ensemble import RandomForestRegressor"
   ]
  },
  {
   "cell_type": "code",
   "execution_count": 75,
   "id": "b3885bf3",
   "metadata": {},
   "outputs": [],
   "source": [
    "#Define the variables considered to implement the model \n",
    "X = features_new\n",
    "y = df_scaled.decile_score"
   ]
  },
  {
   "cell_type": "code",
   "execution_count": 76,
   "id": "7d95e358",
   "metadata": {},
   "outputs": [],
   "source": [
    "#Divide the data in training and test \n",
    "from sklearn.model_selection import train_test_split\n",
    "\n",
    "X_train, X_test, y_train, y_test = train_test_split(X, y, test_size = 0.33, random_state=0)"
   ]
  },
  {
   "cell_type": "code",
   "execution_count": 77,
   "id": "10d20a4d",
   "metadata": {},
   "outputs": [],
   "source": [
    "#Create the model Random forest and the estimators number \n",
    "RF_model = RandomForestRegressor(n_estimators = 100,\n",
    "                                 random_state = 0,\n",
    "                                bootstrap = True)\n",
    "                                "
   ]
  },
  {
   "cell_type": "code",
   "execution_count": 78,
   "id": "1d29d143",
   "metadata": {},
   "outputs": [
    {
     "data": {
      "text/plain": [
       "RandomForestRegressor(random_state=0)"
      ]
     },
     "execution_count": 78,
     "metadata": {},
     "output_type": "execute_result"
    }
   ],
   "source": [
    "#Fit the model with the training data \n",
    "RF_model.fit(X_train, y_train)"
   ]
  },
  {
   "cell_type": "code",
   "execution_count": 79,
   "id": "223942c5",
   "metadata": {},
   "outputs": [],
   "source": [
    "y_predict_rfr = RF_model.predict(X_test)"
   ]
  },
  {
   "cell_type": "code",
   "execution_count": 80,
   "id": "936c0acb",
   "metadata": {},
   "outputs": [
    {
     "name": "stdout",
     "output_type": "stream",
     "text": [
      "R-Square Error Associated with Random forest regressor is :  0.3974586928260163\n"
     ]
    }
   ],
   "source": [
    "from sklearn import metrics\n",
    "r_square_regressor = metrics.r2_score(y_test, y_predict_rfr)\n",
    "print(\"R-Square Error Associated with Random forest regressor is : \", r_square_regressor)"
   ]
  },
  {
   "cell_type": "code",
   "execution_count": 81,
   "id": "cae5d473",
   "metadata": {},
   "outputs": [
    {
     "data": {
      "text/plain": [
       "0.3974586928260163"
      ]
     },
     "execution_count": 81,
     "metadata": {},
     "output_type": "execute_result"
    }
   ],
   "source": [
    "#Accuracy of the model \n",
    "RF_model.score(X_test, y_test)"
   ]
  },
  {
   "cell_type": "code",
   "execution_count": 82,
   "id": "3b7a90a6",
   "metadata": {},
   "outputs": [
    {
     "data": {
      "text/plain": [
       "0.36808597895981265"
      ]
     },
     "execution_count": 82,
     "metadata": {},
     "output_type": "execute_result"
    }
   ],
   "source": [
    "mean_squared_error(y_test, y_predict_rfr)"
   ]
  },
  {
   "cell_type": "code",
   "execution_count": 83,
   "id": "2f322f12",
   "metadata": {},
   "outputs": [
    {
     "data": {
      "text/plain": [
       "0.6067008974443772"
      ]
     },
     "execution_count": 83,
     "metadata": {},
     "output_type": "execute_result"
    }
   ],
   "source": [
    "mean_squared_error(y_test, y_predict_rfr, squared=False)"
   ]
  },
  {
   "cell_type": "code",
   "execution_count": null,
   "id": "3b5963d0",
   "metadata": {},
   "outputs": [],
   "source": []
  },
  {
   "cell_type": "code",
   "execution_count": null,
   "id": "3d6e6600",
   "metadata": {},
   "outputs": [],
   "source": []
  },
  {
   "cell_type": "code",
   "execution_count": null,
   "id": "c28122bf",
   "metadata": {},
   "outputs": [],
   "source": []
  },
  {
   "cell_type": "code",
   "execution_count": null,
   "id": "62ac3fa1",
   "metadata": {},
   "outputs": [],
   "source": []
  }
 ],
 "metadata": {
  "kernelspec": {
   "display_name": "Python 3",
   "language": "python",
   "name": "python3"
  },
  "language_info": {
   "codemirror_mode": {
    "name": "ipython",
    "version": 3
   },
   "file_extension": ".py",
   "mimetype": "text/x-python",
   "name": "python",
   "nbconvert_exporter": "python",
   "pygments_lexer": "ipython3",
   "version": "3.8.8"
  }
 },
 "nbformat": 4,
 "nbformat_minor": 5
}
