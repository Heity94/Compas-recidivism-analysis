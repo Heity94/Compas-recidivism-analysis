{
 "cells": [
  {
   "cell_type": "code",
   "execution_count": 1,
   "id": "c360202c",
   "metadata": {},
   "outputs": [],
   "source": [
    "import numpy as np\n",
    "import pandas as pd\n",
    "import matplotlib.pyplot as plt\n",
    "import seaborn as sns\n",
    "\n",
    "from sklearn.linear_model import LogisticRegression\n",
    "from sklearn.neighbors import KNeighborsClassifier\n",
    "from sklearn.preprocessing import LabelEncoder, OneHotEncoder, StandardScaler, MinMaxScaler, OrdinalEncoder\n",
    "from sklearn.impute import KNNImputer, SimpleImputer\n",
    "from sklearn.model_selection import cross_validate, GridSearchCV, train_test_split, RandomizedSearchCV\n",
    "from sklearn.metrics import confusion_matrix, classification_report, log_loss, roc_auc_score\n",
    "from sklearn.pipeline import make_pipeline, Pipeline\n",
    "from sklearn.feature_selection import SequentialFeatureSelector\n",
    "from sklearn.compose import make_column_selector, make_column_transformer\n",
    "from sklearn.metrics import roc_auc_score\n",
    "\n",
    "from sklearn import set_config; set_config(display='diagram')"
   ]
  },
  {
   "cell_type": "markdown",
   "id": "1e8d95f6",
   "metadata": {},
   "source": [
    "# Create clean dataframe\n"
   ]
  },
  {
   "cell_type": "markdown",
   "id": "5186a16d",
   "metadata": {},
   "source": [
    "## Load dataset"
   ]
  },
  {
   "cell_type": "code",
   "execution_count": 2,
   "id": "f8d98873",
   "metadata": {},
   "outputs": [],
   "source": [
    "df = pd.read_csv(\"../../data-cleaned/compas-scores-two-years-clean.csv\")"
   ]
  },
  {
   "cell_type": "markdown",
   "id": "711dd7cb",
   "metadata": {},
   "source": [
    "## Filter dataset"
   ]
  },
  {
   "cell_type": "markdown",
   "id": "6206d828",
   "metadata": {},
   "source": [
    "ProPublicas reasoning for filter `raw_data`:\n",
    ">However not all of the rows are useable for the first round of analysis.\n",
    ">There are a number of reasons remove rows because of missing data:\n",
    ">* If the charge date of a defendants Compas scored crime was not within 30 days from when the person was arrested, we assume that because of data quality reasons, that we do not have the right offense.\n",
    ">* We coded the recidivist flag -- `is_recid` -- to be -1 if we could not find a compas case at all.\n",
    ">* In a similar vein, ordinary traffic offenses -- those with a `c_charge_degree` of 'O' -- will not result in Jail time are removed (only two of them).\n",
    ">* We filtered the underlying data from Broward county to include only those rows representing people who had either recidivated in two years, or had at least two years outside of a correctional facility."
   ]
  },
  {
   "cell_type": "code",
   "execution_count": 3,
   "id": "1e98cb8e",
   "metadata": {},
   "outputs": [],
   "source": [
    "df = df[\n",
    "        (df[\"days_b_screening_arrest\"]<=30) \n",
    "        & (df[\"days_b_screening_arrest\"]>=-30) \n",
    "        & (df[\"is_recid\"]!=-1) \n",
    "        & (df[\"c_charge_degree\"]!=\"O\") \n",
    "      ].dropna(subset=['score_text'])"
   ]
  },
  {
   "cell_type": "markdown",
   "id": "6bf4848c",
   "metadata": {},
   "source": [
    "- Since most of the columns in the dataset describe charges after the initial COMPAS screening. Therefore these columns can not be used as predictors. \n",
    "- Furthermore we compared the original questionaire for the COMPAS scoring with the data of our datasets: \n",
    "- From the X sections in the original questionaire we only have data about demographics, criminal history and current charges from the defendant. "
   ]
  },
  {
   "cell_type": "code",
   "execution_count": 4,
   "id": "8b3936ad",
   "metadata": {},
   "outputs": [],
   "source": [
    "# Select columns of interest and store as new df\n",
    "columns = [\"id\", \"age\", \"age_cat\", \"sex\", \"race\",  #demographics\n",
    "           \"juv_fel_count\", \"juv_misd_count\", \"juv_other_count\", \"priors_count\", #criminal history\n",
    "           \"c_charge_degree\", \"c_charge_desc\", #current charges\n",
    "           \"score_text\", \"decile_score\", #compas results for current charges -> target for regression (COMPAS scores for general recidivism)\n",
    "           \"r_charge_degree\", \"r_charge_desc\", #commited crimes (general) within 2 years after COMPAS scoring (no feature for final model, but relevant fro feature engineering)\n",
    "           \"two_year_recid\"] #target for classification \n",
    "df_clean = df[columns]"
   ]
  },
  {
   "cell_type": "markdown",
   "id": "ed7936f6",
   "metadata": {},
   "source": [
    "## Check values and dtypes of columns"
   ]
  },
  {
   "cell_type": "code",
   "execution_count": 5,
   "id": "db4b84a0",
   "metadata": {},
   "outputs": [
    {
     "name": "stdout",
     "output_type": "stream",
     "text": [
      "<class 'pandas.core.frame.DataFrame'>\n",
      "Int64Index: 5304 entries, 0 to 6215\n",
      "Data columns (total 16 columns):\n",
      " #   Column           Non-Null Count  Dtype \n",
      "---  ------           --------------  ----- \n",
      " 0   id               5304 non-null   int64 \n",
      " 1   age              5304 non-null   int64 \n",
      " 2   age_cat          5304 non-null   object\n",
      " 3   sex              5304 non-null   object\n",
      " 4   race             5304 non-null   object\n",
      " 5   juv_fel_count    5304 non-null   int64 \n",
      " 6   juv_misd_count   5304 non-null   int64 \n",
      " 7   juv_other_count  5304 non-null   int64 \n",
      " 8   priors_count     5304 non-null   int64 \n",
      " 9   c_charge_degree  5304 non-null   object\n",
      " 10  c_charge_desc    5299 non-null   object\n",
      " 11  score_text       5304 non-null   object\n",
      " 12  decile_score     5304 non-null   int64 \n",
      " 13  r_charge_degree  2122 non-null   object\n",
      " 14  r_charge_desc    2095 non-null   object\n",
      " 15  two_year_recid   5304 non-null   int64 \n",
      "dtypes: int64(8), object(8)\n",
      "memory usage: 704.4+ KB\n"
     ]
    }
   ],
   "source": [
    "df_clean.info()"
   ]
  },
  {
   "cell_type": "markdown",
   "id": "962b579e",
   "metadata": {},
   "source": [
    "# Feature Engineering: Create feature `c_charge_degree_detailed`"
   ]
  },
  {
   "cell_type": "markdown",
   "id": "2a79713e",
   "metadata": {},
   "source": [
    "- The current charges of the ProPublica dataset are categorized as felonies or misdemeanors `c_charge_degreee``\n",
    "- The `c_charge_desc` contains the description of the crime (e.g. murder, Grand theft ...)\n",
    "- In Florida each crime is based on the severness categorised into different level/ classes of misdemeanors or felonies"
   ]
  },
  {
   "cell_type": "code",
   "execution_count": 6,
   "id": "1a1156d7",
   "metadata": {},
   "outputs": [
    {
     "name": "stdout",
     "output_type": "stream",
     "text": [
      "Unique charges in the dataset: 359\n",
      "Unique charges for felonies: 266\n",
      "Unique charges for misdemeanors: 126\n"
     ]
    }
   ],
   "source": [
    "# There are 358 unique charges in the dataset in total (wo NaN)\n",
    "print(\"Unique charges in the dataset:\", len(df_clean.c_charge_desc.unique()))\n",
    "\n",
    "# There are 265 unqiue charges for felonies (23 of them also exist in misdemeanor) (wo NaN)\n",
    "print(\"Unique charges for felonies:\", len(df_clean[df_clean[\"c_charge_degree\"]==\"F\"]\n",
    "                                          [[\"c_charge_degree\", \"c_charge_desc\"]]\n",
    "                                          .c_charge_desc.unique()))\n",
    "\n",
    "# There are 125 unqiue charges for misdemeanors  (wo NaN)\n",
    "print(\"Unique charges for misdemeanors:\", len(df_clean[df_clean[\"c_charge_degree\"]==\"M\"]\n",
    "                                              [[\"c_charge_degree\", \"c_charge_desc\"]]\n",
    "                                              .c_charge_desc.unique()))"
   ]
  },
  {
   "cell_type": "markdown",
   "id": "7cf6a499",
   "metadata": {},
   "source": [
    "- In order to reduce the variaty of charges we created a new feature to cluster each crime into the correct level\n",
    "- The original dataset already contains the more detailed degree of crimes, but only for the recidivist crimes\n",
    "- We first used these crimes and map them against the current charges "
   ]
  },
  {
   "cell_type": "code",
   "execution_count": 7,
   "id": "17ab3fd6",
   "metadata": {},
   "outputs": [
    {
     "data": {
      "text/plain": [
       "array([nan, '(F3)', '(M1)', '(F2)', '(M2)', '(MO3)', '(F1)', '(F6)',\n",
       "       '(F7)', '(CO3)', '(F5)'], dtype=object)"
      ]
     },
     "execution_count": 7,
     "metadata": {},
     "output_type": "execute_result"
    }
   ],
   "source": [
    "# check unique values/ classes of charges \n",
    "df_clean.r_charge_degree.unique()"
   ]
  },
  {
   "cell_type": "code",
   "execution_count": 8,
   "id": "a0f8249a",
   "metadata": {},
   "outputs": [],
   "source": [
    "# Create lookup table for c_charge_degree_detailed based on c_charge_desc\n",
    "lookup_c_charge_degree = pd.merge(\n",
    "    df_clean[[\"c_charge_desc\"]], \n",
    "    df_clean[\n",
    "        (df_clean[\"r_charge_degree\"]!='(MO3)') & #filter out classes of felonies and misdemeanors who do not exist\n",
    "        (df_clean[\"r_charge_degree\"]!='(F6)') &\n",
    "        (df_clean[\"r_charge_degree\"]!='(F7)') &\n",
    "        (df_clean[\"r_charge_degree\"]!='(CO3)') & \n",
    "        (df_clean[\"r_charge_degree\"]!='(F5)') &\n",
    "        (df_clean[\"r_charge_degree\"]!=np.nan)\n",
    "        ][[\"r_charge_degree\", \"r_charge_desc\"]], \n",
    "    left_on=\"c_charge_desc\", \n",
    "    right_on=\"r_charge_desc\")"
   ]
  },
  {
   "cell_type": "code",
   "execution_count": 9,
   "id": "0561483c",
   "metadata": {},
   "outputs": [
    {
     "data": {
      "text/html": [
       "<div>\n",
       "<style scoped>\n",
       "    .dataframe tbody tr th:only-of-type {\n",
       "        vertical-align: middle;\n",
       "    }\n",
       "\n",
       "    .dataframe tbody tr th {\n",
       "        vertical-align: top;\n",
       "    }\n",
       "\n",
       "    .dataframe thead th {\n",
       "        text-align: right;\n",
       "    }\n",
       "</style>\n",
       "<table border=\"1\" class=\"dataframe\">\n",
       "  <thead>\n",
       "    <tr style=\"text-align: right;\">\n",
       "      <th></th>\n",
       "      <th>c_charge_desc</th>\n",
       "      <th>c_charge_degree_detailed</th>\n",
       "    </tr>\n",
       "  </thead>\n",
       "  <tbody>\n",
       "    <tr>\n",
       "      <th>0</th>\n",
       "      <td>Felony Battery w/Prior Convict</td>\n",
       "      <td>(F3)</td>\n",
       "    </tr>\n",
       "    <tr>\n",
       "      <th>1</th>\n",
       "      <td>Possession of Cocaine</td>\n",
       "      <td>(F3)</td>\n",
       "    </tr>\n",
       "    <tr>\n",
       "      <th>2</th>\n",
       "      <td>Possession of Cocaine</td>\n",
       "      <td>(M1)</td>\n",
       "    </tr>\n",
       "    <tr>\n",
       "      <th>3</th>\n",
       "      <td>Battery</td>\n",
       "      <td>(M1)</td>\n",
       "    </tr>\n",
       "    <tr>\n",
       "      <th>4</th>\n",
       "      <td>Battery</td>\n",
       "      <td>(M2)</td>\n",
       "    </tr>\n",
       "    <tr>\n",
       "      <th>...</th>\n",
       "      <td>...</td>\n",
       "      <td>...</td>\n",
       "    </tr>\n",
       "    <tr>\n",
       "      <th>169</th>\n",
       "      <td>Deliver Cannabis 1000FTSch</td>\n",
       "      <td>(F2)</td>\n",
       "    </tr>\n",
       "    <tr>\n",
       "      <th>170</th>\n",
       "      <td>Sex Batt Faml/Cust Vict 12-17Y</td>\n",
       "      <td>(F1)</td>\n",
       "    </tr>\n",
       "    <tr>\n",
       "      <th>171</th>\n",
       "      <td>Possession Of Clonazepam</td>\n",
       "      <td>(F3)</td>\n",
       "    </tr>\n",
       "    <tr>\n",
       "      <th>172</th>\n",
       "      <td>Deliver Cocaine 1000FT School</td>\n",
       "      <td>(F1)</td>\n",
       "    </tr>\n",
       "    <tr>\n",
       "      <th>173</th>\n",
       "      <td>Deliver Cocaine 1000FT Park</td>\n",
       "      <td>(F1)</td>\n",
       "    </tr>\n",
       "  </tbody>\n",
       "</table>\n",
       "<p>174 rows × 2 columns</p>\n",
       "</div>"
      ],
      "text/plain": [
       "                      c_charge_desc c_charge_degree_detailed\n",
       "0    Felony Battery w/Prior Convict                     (F3)\n",
       "1             Possession of Cocaine                     (F3)\n",
       "2             Possession of Cocaine                     (M1)\n",
       "3                           Battery                     (M1)\n",
       "4                           Battery                     (M2)\n",
       "..                              ...                      ...\n",
       "169      Deliver Cannabis 1000FTSch                     (F2)\n",
       "170  Sex Batt Faml/Cust Vict 12-17Y                     (F1)\n",
       "171        Possession Of Clonazepam                     (F3)\n",
       "172   Deliver Cocaine 1000FT School                     (F1)\n",
       "173     Deliver Cocaine 1000FT Park                     (F1)\n",
       "\n",
       "[174 rows x 2 columns]"
      ]
     },
     "execution_count": 9,
     "metadata": {},
     "output_type": "execute_result"
    }
   ],
   "source": [
    "#drop duplicated c_charge_desc so we end up with unique charges and degrees\n",
    "lookup_c_charge_degree = lookup_c_charge_degree[[\"c_charge_desc\", \"r_charge_degree\"]].drop_duplicates()\n",
    "lookup_c_charge_degree.columns = [\"c_charge_desc\", \"c_charge_degree_detailed\"]\n",
    "\n",
    "#reset index \n",
    "lookup_c_charge_degree = lookup_c_charge_degree.reset_index(drop=True)\n",
    "lookup_c_charge_degree"
   ]
  },
  {
   "cell_type": "code",
   "execution_count": 10,
   "id": "fe2f5421",
   "metadata": {},
   "outputs": [
    {
     "data": {
      "text/html": [
       "<div>\n",
       "<style scoped>\n",
       "    .dataframe tbody tr th:only-of-type {\n",
       "        vertical-align: middle;\n",
       "    }\n",
       "\n",
       "    .dataframe tbody tr th {\n",
       "        vertical-align: top;\n",
       "    }\n",
       "\n",
       "    .dataframe thead th {\n",
       "        text-align: right;\n",
       "    }\n",
       "</style>\n",
       "<table border=\"1\" class=\"dataframe\">\n",
       "  <thead>\n",
       "    <tr style=\"text-align: right;\">\n",
       "      <th></th>\n",
       "      <th>c_charge_desc</th>\n",
       "      <th>c_charge_degree_detailed</th>\n",
       "    </tr>\n",
       "  </thead>\n",
       "  <tbody>\n",
       "    <tr>\n",
       "      <th>1</th>\n",
       "      <td>Possession of Cocaine</td>\n",
       "      <td>(F3)</td>\n",
       "    </tr>\n",
       "    <tr>\n",
       "      <th>2</th>\n",
       "      <td>Possession of Cocaine</td>\n",
       "      <td>(M1)</td>\n",
       "    </tr>\n",
       "    <tr>\n",
       "      <th>3</th>\n",
       "      <td>Battery</td>\n",
       "      <td>(M1)</td>\n",
       "    </tr>\n",
       "    <tr>\n",
       "      <th>4</th>\n",
       "      <td>Battery</td>\n",
       "      <td>(M2)</td>\n",
       "    </tr>\n",
       "    <tr>\n",
       "      <th>12</th>\n",
       "      <td>Susp Drivers Lic 1st Offense</td>\n",
       "      <td>(M2)</td>\n",
       "    </tr>\n",
       "    <tr>\n",
       "      <th>13</th>\n",
       "      <td>Susp Drivers Lic 1st Offense</td>\n",
       "      <td>(M1)</td>\n",
       "    </tr>\n",
       "    <tr>\n",
       "      <th>29</th>\n",
       "      <td>False Ownership Info/Pawn Item</td>\n",
       "      <td>(F3)</td>\n",
       "    </tr>\n",
       "    <tr>\n",
       "      <th>30</th>\n",
       "      <td>False Ownership Info/Pawn Item</td>\n",
       "      <td>(F2)</td>\n",
       "    </tr>\n",
       "    <tr>\n",
       "      <th>36</th>\n",
       "      <td>Petit Theft</td>\n",
       "      <td>(M2)</td>\n",
       "    </tr>\n",
       "    <tr>\n",
       "      <th>37</th>\n",
       "      <td>Petit Theft</td>\n",
       "      <td>(M1)</td>\n",
       "    </tr>\n",
       "    <tr>\n",
       "      <th>42</th>\n",
       "      <td>Driving Under The Influence</td>\n",
       "      <td>(M1)</td>\n",
       "    </tr>\n",
       "    <tr>\n",
       "      <th>43</th>\n",
       "      <td>Driving Under The Influence</td>\n",
       "      <td>(M2)</td>\n",
       "    </tr>\n",
       "    <tr>\n",
       "      <th>52</th>\n",
       "      <td>Burglary Unoccupied Dwelling</td>\n",
       "      <td>(F2)</td>\n",
       "    </tr>\n",
       "    <tr>\n",
       "      <th>53</th>\n",
       "      <td>Burglary Unoccupied Dwelling</td>\n",
       "      <td>(F3)</td>\n",
       "    </tr>\n",
       "    <tr>\n",
       "      <th>64</th>\n",
       "      <td>Aggravated Battery / Pregnant</td>\n",
       "      <td>(F2)</td>\n",
       "    </tr>\n",
       "    <tr>\n",
       "      <th>65</th>\n",
       "      <td>Aggravated Battery / Pregnant</td>\n",
       "      <td>(M1)</td>\n",
       "    </tr>\n",
       "    <tr>\n",
       "      <th>87</th>\n",
       "      <td>Opert With Susp DL 2nd Offens</td>\n",
       "      <td>(M1)</td>\n",
       "    </tr>\n",
       "    <tr>\n",
       "      <th>88</th>\n",
       "      <td>Opert With Susp DL 2nd Offens</td>\n",
       "      <td>(M2)</td>\n",
       "    </tr>\n",
       "  </tbody>\n",
       "</table>\n",
       "</div>"
      ],
      "text/plain": [
       "                     c_charge_desc c_charge_degree_detailed\n",
       "1            Possession of Cocaine                     (F3)\n",
       "2            Possession of Cocaine                     (M1)\n",
       "3                          Battery                     (M1)\n",
       "4                          Battery                     (M2)\n",
       "12    Susp Drivers Lic 1st Offense                     (M2)\n",
       "13    Susp Drivers Lic 1st Offense                     (M1)\n",
       "29  False Ownership Info/Pawn Item                     (F3)\n",
       "30  False Ownership Info/Pawn Item                     (F2)\n",
       "36                     Petit Theft                     (M2)\n",
       "37                     Petit Theft                     (M1)\n",
       "42     Driving Under The Influence                     (M1)\n",
       "43     Driving Under The Influence                     (M2)\n",
       "52    Burglary Unoccupied Dwelling                     (F2)\n",
       "53    Burglary Unoccupied Dwelling                     (F3)\n",
       "64   Aggravated Battery / Pregnant                     (F2)\n",
       "65   Aggravated Battery / Pregnant                     (M1)\n",
       "87   Opert With Susp DL 2nd Offens                     (M1)\n",
       "88   Opert With Susp DL 2nd Offens                     (M2)"
      ]
     },
     "execution_count": 10,
     "metadata": {},
     "output_type": "execute_result"
    }
   ],
   "source": [
    "#Find charges which do have multiple charge_degrees\n",
    "lookup_c_charge_degree.groupby(\"c_charge_desc\").filter(lambda x: len(x) > 1)"
   ]
  },
  {
   "cell_type": "code",
   "execution_count": 11,
   "id": "c72c1437",
   "metadata": {},
   "outputs": [],
   "source": [
    "#Decide for one degree for each duplicate -> we keep the harder class degrees (based on online research)\n",
    "rows_to_drop = [2, 4, 12, 13, 29, 36, 43, 53, 65, 88]\n",
    "\n",
    "#drop rows based on index \n",
    "lookup_c_charge_degree = lookup_c_charge_degree.drop(index=rows_to_drop)"
   ]
  },
  {
   "cell_type": "code",
   "execution_count": 12,
   "id": "487f2cff",
   "metadata": {},
   "outputs": [
    {
     "data": {
      "text/html": [
       "<div>\n",
       "<style scoped>\n",
       "    .dataframe tbody tr th:only-of-type {\n",
       "        vertical-align: middle;\n",
       "    }\n",
       "\n",
       "    .dataframe tbody tr th {\n",
       "        vertical-align: top;\n",
       "    }\n",
       "\n",
       "    .dataframe thead th {\n",
       "        text-align: right;\n",
       "    }\n",
       "</style>\n",
       "<table border=\"1\" class=\"dataframe\">\n",
       "  <thead>\n",
       "    <tr style=\"text-align: right;\">\n",
       "      <th></th>\n",
       "      <th>c_charge_desc</th>\n",
       "      <th>c_charge_degree_detailed</th>\n",
       "    </tr>\n",
       "  </thead>\n",
       "  <tbody>\n",
       "  </tbody>\n",
       "</table>\n",
       "</div>"
      ],
      "text/plain": [
       "Empty DataFrame\n",
       "Columns: [c_charge_desc, c_charge_degree_detailed]\n",
       "Index: []"
      ]
     },
     "execution_count": 12,
     "metadata": {},
     "output_type": "execute_result"
    }
   ],
   "source": [
    "#check that there are no more duplicates \n",
    "lookup_c_charge_degree.groupby(\"c_charge_desc\").filter(lambda x: len(x) > 1)"
   ]
  },
  {
   "cell_type": "code",
   "execution_count": 13,
   "id": "742feb2f",
   "metadata": {},
   "outputs": [],
   "source": [
    "#set index to c_charge_desc and drop row with c_charge_desc = NaN\n",
    "lookup_c_charge_degree.set_index(\"c_charge_desc\", inplace=True)\n",
    "lookup_c_charge_degree = lookup_c_charge_degree[lookup_c_charge_degree.index.notnull()]\n",
    "\n",
    "#Remove parenthesis from the labels \n",
    "lookup_c_charge_degree[\"c_charge_degree_detailed\"] = lookup_c_charge_degree.c_charge_degree_detailed.str.strip(\"( )\")"
   ]
  },
  {
   "cell_type": "code",
   "execution_count": 14,
   "id": "3f1392c3",
   "metadata": {},
   "outputs": [],
   "source": [
    "#Use lookup table to label charges based on description\n",
    "charges_to_label = df_clean.merge(lookup_c_charge_degree, how=\"left\", left_on=\"c_charge_desc\", right_index=True)"
   ]
  },
  {
   "cell_type": "code",
   "execution_count": 15,
   "id": "7de505fa",
   "metadata": {},
   "outputs": [
    {
     "data": {
      "text/plain": [
       "(4099, 17)"
      ]
     },
     "execution_count": 15,
     "metadata": {},
     "output_type": "execute_result"
    }
   ],
   "source": [
    "charges_to_label[charges_to_label[\"c_charge_degree_detailed\"].notna()].shape"
   ]
  },
  {
   "cell_type": "markdown",
   "id": "f8fbdbd7",
   "metadata": {},
   "source": [
    "- 4099 of the 5304 cases could be labeled automatically based on the r_charge_degree \n",
    "- The remaining charges need to be labeled manually"
   ]
  },
  {
   "cell_type": "markdown",
   "id": "d7042dbb",
   "metadata": {},
   "source": [
    "## Create list for charges which could not be matched automatically and need to be labeled manually"
   ]
  },
  {
   "cell_type": "code",
   "execution_count": 16,
   "id": "cb0741c1",
   "metadata": {},
   "outputs": [],
   "source": [
    "#Filter for rows which could not be labeled by the current lookup table (because they did not exist in r_charge_desc)\n",
    "charges_to_label = charges_to_label[charges_to_label[\"c_charge_degree_detailed\"].isnull()]"
   ]
  },
  {
   "cell_type": "code",
   "execution_count": 17,
   "id": "83602c98",
   "metadata": {},
   "outputs": [
    {
     "data": {
      "text/html": [
       "<div>\n",
       "<style scoped>\n",
       "    .dataframe tbody tr th:only-of-type {\n",
       "        vertical-align: middle;\n",
       "    }\n",
       "\n",
       "    .dataframe tbody tr th {\n",
       "        vertical-align: top;\n",
       "    }\n",
       "\n",
       "    .dataframe thead th {\n",
       "        text-align: right;\n",
       "    }\n",
       "</style>\n",
       "<table border=\"1\" class=\"dataframe\">\n",
       "  <thead>\n",
       "    <tr style=\"text-align: right;\">\n",
       "      <th></th>\n",
       "      <th>count</th>\n",
       "      <th>c_charge_degree_detailed</th>\n",
       "    </tr>\n",
       "    <tr>\n",
       "      <th>c_charge_desc</th>\n",
       "      <th></th>\n",
       "      <th></th>\n",
       "    </tr>\n",
       "  </thead>\n",
       "  <tbody>\n",
       "    <tr>\n",
       "      <th>arrest case no charge</th>\n",
       "      <td>684</td>\n",
       "      <td></td>\n",
       "    </tr>\n",
       "    <tr>\n",
       "      <th>Felony Driving While Lic Suspd</th>\n",
       "      <td>73</td>\n",
       "      <td></td>\n",
       "    </tr>\n",
       "    <tr>\n",
       "      <th>Susp Drivers Lic 1st Offense</th>\n",
       "      <td>45</td>\n",
       "      <td></td>\n",
       "    </tr>\n",
       "    <tr>\n",
       "      <th>Aggravated Assault w/Firearm</th>\n",
       "      <td>20</td>\n",
       "      <td></td>\n",
       "    </tr>\n",
       "    <tr>\n",
       "      <th>Poss Contr Subst W/o Prescript</th>\n",
       "      <td>15</td>\n",
       "      <td></td>\n",
       "    </tr>\n",
       "    <tr>\n",
       "      <th>...</th>\n",
       "      <td>...</td>\n",
       "      <td>...</td>\n",
       "    </tr>\n",
       "    <tr>\n",
       "      <th>False Name By Person Arrest</th>\n",
       "      <td>1</td>\n",
       "      <td></td>\n",
       "    </tr>\n",
       "    <tr>\n",
       "      <th>Falsely Impersonating Officer</th>\n",
       "      <td>1</td>\n",
       "      <td></td>\n",
       "    </tr>\n",
       "    <tr>\n",
       "      <th>Grand Theft of a Fire Extinquisher</th>\n",
       "      <td>1</td>\n",
       "      <td></td>\n",
       "    </tr>\n",
       "    <tr>\n",
       "      <th>Hiring with Intent to Defraud</th>\n",
       "      <td>1</td>\n",
       "      <td></td>\n",
       "    </tr>\n",
       "    <tr>\n",
       "      <th>Lewd/Lasc Exhib Presence &lt;16yr</th>\n",
       "      <td>1</td>\n",
       "      <td></td>\n",
       "    </tr>\n",
       "  </tbody>\n",
       "</table>\n",
       "<p>199 rows × 2 columns</p>\n",
       "</div>"
      ],
      "text/plain": [
       "                                    count c_charge_degree_detailed\n",
       "c_charge_desc                                                     \n",
       "arrest case no charge                 684                         \n",
       "Felony Driving While Lic Suspd         73                         \n",
       "Susp Drivers Lic 1st Offense           45                         \n",
       "Aggravated Assault w/Firearm           20                         \n",
       "Poss Contr Subst W/o Prescript         15                         \n",
       "...                                   ...                      ...\n",
       "False Name By Person Arrest             1                         \n",
       "Falsely Impersonating Officer           1                         \n",
       "Grand Theft of a Fire Extinquisher      1                         \n",
       "Hiring with Intent to Defraud           1                         \n",
       "Lewd/Lasc Exhib Presence <16yr          1                         \n",
       "\n",
       "[199 rows x 2 columns]"
      ]
     },
     "execution_count": 17,
     "metadata": {},
     "output_type": "execute_result"
    }
   ],
   "source": [
    "# Create list of unique charges which could not be labeled. These charges need to be labeled manually (online research)\n",
    "charges_to_label_list = charges_to_label.groupby(\"c_charge_desc\")[[\"id\"]].count().sort_values(by=\"id\", ascending=False)\n",
    "charges_to_label_list[\"c_charge_degree_detailed\"]=\"\"\n",
    "charges_to_label_list.columns = ['count', 'c_charge_degree_detailed']\n",
    "\n",
    "charges_to_label_list"
   ]
  },
  {
   "cell_type": "markdown",
   "id": "93b93035",
   "metadata": {},
   "source": [
    "There are 684 cases where the defendant wasn't pressed with charges. These cases will be decoded as `0`"
   ]
  },
  {
   "cell_type": "code",
   "execution_count": 18,
   "id": "14a15135",
   "metadata": {},
   "outputs": [],
   "source": [
    "# Export to .csv file so the charges can be labeled manually (only has to be executed once)\n",
    "# charges_to_label_list.to_csv(\"charges_to_label.csv\")"
   ]
  },
  {
   "cell_type": "markdown",
   "id": "807a2fb0",
   "metadata": {},
   "source": [
    "## Import manually labeld .csv file and combine with `lookup_c_charge_degree` to create master lookup table"
   ]
  },
  {
   "cell_type": "code",
   "execution_count": 19,
   "id": "58169555",
   "metadata": {},
   "outputs": [],
   "source": [
    "# import labeled data\n",
    "labeled_charges_man = pd.read_csv(\"charges_labeled_man.csv\", index_col=0).set_index(\"c_charge_desc\")[[\"c_charge_degree_detailed\"]]"
   ]
  },
  {
   "cell_type": "code",
   "execution_count": 20,
   "id": "adc408d8",
   "metadata": {},
   "outputs": [],
   "source": [
    "#Create master lookup table by combining manually labeled data with automatically labeled data\n",
    "lookup_c_charge_degree_master = pd.concat([lookup_c_charge_degree, labeled_charges_man], axis=0)"
   ]
  },
  {
   "cell_type": "code",
   "execution_count": 21,
   "id": "77584d6d",
   "metadata": {},
   "outputs": [],
   "source": [
    "# Save master lookup table as .csv so it can be imported directly (only has to be executed once)\n",
    "#lookup_c_charge_degree_master.to_csv(\"labeled_charges_master.csv\")"
   ]
  },
  {
   "cell_type": "markdown",
   "id": "2b7f6aad",
   "metadata": {},
   "source": [
    "## Map charge degree to all cases and store in new feature column `c_charge_degree_detailed`"
   ]
  },
  {
   "cell_type": "code",
   "execution_count": 22,
   "id": "8a17f381",
   "metadata": {},
   "outputs": [],
   "source": [
    "# Load master lookup table\n",
    "labeled_charges_master = pd.read_csv(\"labeled_charges_master.csv\", index_col=\"c_charge_desc\")"
   ]
  },
  {
   "cell_type": "code",
   "execution_count": 23,
   "id": "609a3edf",
   "metadata": {},
   "outputs": [],
   "source": [
    "# Map charge degree to all cases and store in new column \"c_charge_degree_detailed\"\n",
    "df_clean = df_clean.merge(labeled_charges_master, how=\"left\", left_on=\"c_charge_desc\", right_index=True)\n",
    "df_clean.reset_index(drop=True, inplace=True)"
   ]
  },
  {
   "cell_type": "code",
   "execution_count": 24,
   "id": "0a03ae35",
   "metadata": {},
   "outputs": [
    {
     "data": {
      "text/html": [
       "<div>\n",
       "<style scoped>\n",
       "    .dataframe tbody tr th:only-of-type {\n",
       "        vertical-align: middle;\n",
       "    }\n",
       "\n",
       "    .dataframe tbody tr th {\n",
       "        vertical-align: top;\n",
       "    }\n",
       "\n",
       "    .dataframe thead th {\n",
       "        text-align: right;\n",
       "    }\n",
       "</style>\n",
       "<table border=\"1\" class=\"dataframe\">\n",
       "  <thead>\n",
       "    <tr style=\"text-align: right;\">\n",
       "      <th></th>\n",
       "      <th>id</th>\n",
       "      <th>age</th>\n",
       "      <th>age_cat</th>\n",
       "      <th>sex</th>\n",
       "      <th>race</th>\n",
       "      <th>juv_fel_count</th>\n",
       "      <th>juv_misd_count</th>\n",
       "      <th>juv_other_count</th>\n",
       "      <th>priors_count</th>\n",
       "      <th>c_charge_degree</th>\n",
       "      <th>c_charge_desc</th>\n",
       "      <th>score_text</th>\n",
       "      <th>decile_score</th>\n",
       "      <th>r_charge_degree</th>\n",
       "      <th>r_charge_desc</th>\n",
       "      <th>two_year_recid</th>\n",
       "      <th>c_charge_degree_detailed</th>\n",
       "    </tr>\n",
       "  </thead>\n",
       "  <tbody>\n",
       "    <tr>\n",
       "      <th>114</th>\n",
       "      <td>243</td>\n",
       "      <td>39</td>\n",
       "      <td>25 - 45</td>\n",
       "      <td>Male</td>\n",
       "      <td>Caucasian</td>\n",
       "      <td>1</td>\n",
       "      <td>0</td>\n",
       "      <td>0</td>\n",
       "      <td>1</td>\n",
       "      <td>M</td>\n",
       "      <td>NaN</td>\n",
       "      <td>Low</td>\n",
       "      <td>4</td>\n",
       "      <td>NaN</td>\n",
       "      <td>NaN</td>\n",
       "      <td>0</td>\n",
       "      <td>NaN</td>\n",
       "    </tr>\n",
       "    <tr>\n",
       "      <th>2191</th>\n",
       "      <td>4521</td>\n",
       "      <td>27</td>\n",
       "      <td>25 - 45</td>\n",
       "      <td>Female</td>\n",
       "      <td>Caucasian</td>\n",
       "      <td>0</td>\n",
       "      <td>0</td>\n",
       "      <td>0</td>\n",
       "      <td>0</td>\n",
       "      <td>F</td>\n",
       "      <td>NaN</td>\n",
       "      <td>Medium</td>\n",
       "      <td>5</td>\n",
       "      <td>NaN</td>\n",
       "      <td>NaN</td>\n",
       "      <td>0</td>\n",
       "      <td>NaN</td>\n",
       "    </tr>\n",
       "    <tr>\n",
       "      <th>4031</th>\n",
       "      <td>8299</td>\n",
       "      <td>27</td>\n",
       "      <td>25 - 45</td>\n",
       "      <td>Male</td>\n",
       "      <td>African-American</td>\n",
       "      <td>0</td>\n",
       "      <td>0</td>\n",
       "      <td>0</td>\n",
       "      <td>2</td>\n",
       "      <td>F</td>\n",
       "      <td>NaN</td>\n",
       "      <td>Low</td>\n",
       "      <td>4</td>\n",
       "      <td>NaN</td>\n",
       "      <td>NaN</td>\n",
       "      <td>0</td>\n",
       "      <td>NaN</td>\n",
       "    </tr>\n",
       "    <tr>\n",
       "      <th>4202</th>\n",
       "      <td>8679</td>\n",
       "      <td>27</td>\n",
       "      <td>25 - 45</td>\n",
       "      <td>Male</td>\n",
       "      <td>African-American</td>\n",
       "      <td>0</td>\n",
       "      <td>0</td>\n",
       "      <td>0</td>\n",
       "      <td>2</td>\n",
       "      <td>F</td>\n",
       "      <td>NaN</td>\n",
       "      <td>Low</td>\n",
       "      <td>3</td>\n",
       "      <td>NaN</td>\n",
       "      <td>NaN</td>\n",
       "      <td>0</td>\n",
       "      <td>NaN</td>\n",
       "    </tr>\n",
       "    <tr>\n",
       "      <th>5183</th>\n",
       "      <td>10737</td>\n",
       "      <td>69</td>\n",
       "      <td>Greater than 45</td>\n",
       "      <td>Female</td>\n",
       "      <td>Caucasian</td>\n",
       "      <td>0</td>\n",
       "      <td>0</td>\n",
       "      <td>0</td>\n",
       "      <td>5</td>\n",
       "      <td>F</td>\n",
       "      <td>NaN</td>\n",
       "      <td>Low</td>\n",
       "      <td>3</td>\n",
       "      <td>NaN</td>\n",
       "      <td>NaN</td>\n",
       "      <td>0</td>\n",
       "      <td>NaN</td>\n",
       "    </tr>\n",
       "  </tbody>\n",
       "</table>\n",
       "</div>"
      ],
      "text/plain": [
       "         id  age          age_cat     sex              race  juv_fel_count  \\\n",
       "114     243   39          25 - 45    Male         Caucasian              1   \n",
       "2191   4521   27          25 - 45  Female         Caucasian              0   \n",
       "4031   8299   27          25 - 45    Male  African-American              0   \n",
       "4202   8679   27          25 - 45    Male  African-American              0   \n",
       "5183  10737   69  Greater than 45  Female         Caucasian              0   \n",
       "\n",
       "      juv_misd_count  juv_other_count  priors_count c_charge_degree  \\\n",
       "114                0                0             1               M   \n",
       "2191               0                0             0               F   \n",
       "4031               0                0             2               F   \n",
       "4202               0                0             2               F   \n",
       "5183               0                0             5               F   \n",
       "\n",
       "     c_charge_desc score_text  decile_score r_charge_degree r_charge_desc  \\\n",
       "114            NaN        Low             4             NaN           NaN   \n",
       "2191           NaN     Medium             5             NaN           NaN   \n",
       "4031           NaN        Low             4             NaN           NaN   \n",
       "4202           NaN        Low             3             NaN           NaN   \n",
       "5183           NaN        Low             3             NaN           NaN   \n",
       "\n",
       "      two_year_recid c_charge_degree_detailed  \n",
       "114                0                      NaN  \n",
       "2191               0                      NaN  \n",
       "4031               0                      NaN  \n",
       "4202               0                      NaN  \n",
       "5183               0                      NaN  "
      ]
     },
     "execution_count": 24,
     "metadata": {},
     "output_type": "execute_result"
    }
   ],
   "source": [
    "#Check NaN values (values which did not have a c_charge_desc in the original dataset)\n",
    "df_clean[df_clean.c_charge_degree_detailed.isnull()]"
   ]
  },
  {
   "cell_type": "code",
   "execution_count": 25,
   "id": "ca6e8695",
   "metadata": {},
   "outputs": [],
   "source": [
    "index_nan_cases = df_clean[df_clean.c_charge_degree_detailed.isnull()].index"
   ]
  },
  {
   "cell_type": "markdown",
   "id": "3fe08ffc",
   "metadata": {},
   "source": [
    "- There are still 5 cases which did not have a description of the current charges. \n",
    "- These 5 cases need to be imputed\n",
    "- This requires the encoding of all categorical features first"
   ]
  },
  {
   "cell_type": "markdown",
   "id": "bdd87b94",
   "metadata": {},
   "source": [
    "# Classification model of general recidivism"
   ]
  },
  {
   "cell_type": "markdown",
   "id": "6332668d",
   "metadata": {},
   "source": [
    "## Data preprocessing"
   ]
  },
  {
   "cell_type": "markdown",
   "id": "6555cee7",
   "metadata": {},
   "source": [
    "### Select relevant features and perform train_test_split"
   ]
  },
  {
   "cell_type": "code",
   "execution_count": 26,
   "id": "460cce63",
   "metadata": {},
   "outputs": [],
   "source": [
    "#Select features for Classification model of general recidivism\n",
    "# Select age or age_cat, exclude/ include race\n",
    "columns_clas = [\"age\", \"age_cat\", \"sex\", #\"race\",  #demographics\n",
    "               \"juv_fel_count\", \"juv_misd_count\", \"juv_other_count\", \"priors_count\", #criminal history\n",
    "               \"c_charge_degree\", \"c_charge_degree_detailed\", #current charges \n",
    "               \"two_year_recid\"] #truth\n",
    "\n",
    "df_clas = df_clean[columns_clas].copy()\n",
    "\n",
    "X = df_clas.drop(columns=\"two_year_recid\")\n",
    "y = df_clas[\"two_year_recid\"]"
   ]
  },
  {
   "cell_type": "code",
   "execution_count": 27,
   "id": "742a581c",
   "metadata": {},
   "outputs": [],
   "source": [
    "X_train, X_test, y_train, y_test = train_test_split(X,y, test_size=0.3)"
   ]
  },
  {
   "cell_type": "markdown",
   "id": "1ead448c",
   "metadata": {},
   "source": [
    "### Create preprocessing pipeline"
   ]
  },
  {
   "cell_type": "markdown",
   "id": "13bbd461",
   "metadata": {},
   "source": [
    "- `preproc_numerical` to impute and scale features\n",
    "- `preproc_ordinal` to ordinaly encode `\n",
    "- `preproc_nominal` to one hot encode the other ones (only relevant when race would be a feature)"
   ]
  },
  {
   "cell_type": "code",
   "execution_count": 28,
   "id": "90ecd177",
   "metadata": {},
   "outputs": [
    {
     "data": {
      "text/html": [
       "<style>#sk-2388e95b-3139-4186-b99b-bc3179e2bba0 {color: black;background-color: white;}#sk-2388e95b-3139-4186-b99b-bc3179e2bba0 pre{padding: 0;}#sk-2388e95b-3139-4186-b99b-bc3179e2bba0 div.sk-toggleable {background-color: white;}#sk-2388e95b-3139-4186-b99b-bc3179e2bba0 label.sk-toggleable__label {cursor: pointer;display: block;width: 100%;margin-bottom: 0;padding: 0.3em;box-sizing: border-box;text-align: center;}#sk-2388e95b-3139-4186-b99b-bc3179e2bba0 div.sk-toggleable__content {max-height: 0;max-width: 0;overflow: hidden;text-align: left;background-color: #f0f8ff;}#sk-2388e95b-3139-4186-b99b-bc3179e2bba0 div.sk-toggleable__content pre {margin: 0.2em;color: black;border-radius: 0.25em;background-color: #f0f8ff;}#sk-2388e95b-3139-4186-b99b-bc3179e2bba0 input.sk-toggleable__control:checked~div.sk-toggleable__content {max-height: 200px;max-width: 100%;overflow: auto;}#sk-2388e95b-3139-4186-b99b-bc3179e2bba0 div.sk-estimator input.sk-toggleable__control:checked~label.sk-toggleable__label {background-color: #d4ebff;}#sk-2388e95b-3139-4186-b99b-bc3179e2bba0 div.sk-label input.sk-toggleable__control:checked~label.sk-toggleable__label {background-color: #d4ebff;}#sk-2388e95b-3139-4186-b99b-bc3179e2bba0 input.sk-hidden--visually {border: 0;clip: rect(1px 1px 1px 1px);clip: rect(1px, 1px, 1px, 1px);height: 1px;margin: -1px;overflow: hidden;padding: 0;position: absolute;width: 1px;}#sk-2388e95b-3139-4186-b99b-bc3179e2bba0 div.sk-estimator {font-family: monospace;background-color: #f0f8ff;border: 1px dotted black;border-radius: 0.25em;box-sizing: border-box;margin-bottom: 0.5em;}#sk-2388e95b-3139-4186-b99b-bc3179e2bba0 div.sk-estimator:hover {background-color: #d4ebff;}#sk-2388e95b-3139-4186-b99b-bc3179e2bba0 div.sk-parallel-item::after {content: \"\";width: 100%;border-bottom: 1px solid gray;flex-grow: 1;}#sk-2388e95b-3139-4186-b99b-bc3179e2bba0 div.sk-label:hover label.sk-toggleable__label {background-color: #d4ebff;}#sk-2388e95b-3139-4186-b99b-bc3179e2bba0 div.sk-serial::before {content: \"\";position: absolute;border-left: 1px solid gray;box-sizing: border-box;top: 2em;bottom: 0;left: 50%;}#sk-2388e95b-3139-4186-b99b-bc3179e2bba0 div.sk-serial {display: flex;flex-direction: column;align-items: center;background-color: white;padding-right: 0.2em;padding-left: 0.2em;}#sk-2388e95b-3139-4186-b99b-bc3179e2bba0 div.sk-item {z-index: 1;}#sk-2388e95b-3139-4186-b99b-bc3179e2bba0 div.sk-parallel {display: flex;align-items: stretch;justify-content: center;background-color: white;}#sk-2388e95b-3139-4186-b99b-bc3179e2bba0 div.sk-parallel::before {content: \"\";position: absolute;border-left: 1px solid gray;box-sizing: border-box;top: 2em;bottom: 0;left: 50%;}#sk-2388e95b-3139-4186-b99b-bc3179e2bba0 div.sk-parallel-item {display: flex;flex-direction: column;position: relative;background-color: white;}#sk-2388e95b-3139-4186-b99b-bc3179e2bba0 div.sk-parallel-item:first-child::after {align-self: flex-end;width: 50%;}#sk-2388e95b-3139-4186-b99b-bc3179e2bba0 div.sk-parallel-item:last-child::after {align-self: flex-start;width: 50%;}#sk-2388e95b-3139-4186-b99b-bc3179e2bba0 div.sk-parallel-item:only-child::after {width: 0;}#sk-2388e95b-3139-4186-b99b-bc3179e2bba0 div.sk-dashed-wrapped {border: 1px dashed gray;margin: 0 0.4em 0.5em 0.4em;box-sizing: border-box;padding-bottom: 0.4em;background-color: white;position: relative;}#sk-2388e95b-3139-4186-b99b-bc3179e2bba0 div.sk-label label {font-family: monospace;font-weight: bold;background-color: white;display: inline-block;line-height: 1.2em;}#sk-2388e95b-3139-4186-b99b-bc3179e2bba0 div.sk-label-container {position: relative;z-index: 2;text-align: center;}#sk-2388e95b-3139-4186-b99b-bc3179e2bba0 div.sk-container {display: inline-block;position: relative;}</style><div id=\"sk-2388e95b-3139-4186-b99b-bc3179e2bba0\" class\"sk-top-container\"><div class=\"sk-container\"><div class=\"sk-item sk-dashed-wrapped\"><div class=\"sk-label-container\"><div class=\"sk-label sk-toggleable\"><input class=\"sk-toggleable__control sk-hidden--visually\" id=\"4848cd24-d22b-446e-a71f-d5196eeb015f\" type=\"checkbox\" ><label class=\"sk-toggleable__label\" for=\"4848cd24-d22b-446e-a71f-d5196eeb015f\">Pipeline</label><div class=\"sk-toggleable__content\"><pre>Pipeline(steps=[('ordinalencoder',\n",
       "                 OrdinalEncoder(categories=[['Less than 25', '25 - 45',\n",
       "                                             'Greater than 45'],\n",
       "                                            ['M', 'F'],\n",
       "                                            ['0', 'M2', 'M1', 'F3', 'F2', 'F1'],\n",
       "                                            ['Male', 'Female']],\n",
       "                                dtype=<class 'numpy.int64'>,\n",
       "                                handle_unknown='use_encoded_value',\n",
       "                                unknown_value=-1)),\n",
       "                ('knnimputer', KNNImputer(missing_values=-1, n_neighbors=25)),\n",
       "                ('minmaxscaler', MinMaxScaler())])</pre></div></div></div><div class=\"sk-serial\"><div class=\"sk-item\"><div class=\"sk-estimator sk-toggleable\"><input class=\"sk-toggleable__control sk-hidden--visually\" id=\"2f71291b-d34c-4585-9256-92914cb32a13\" type=\"checkbox\" ><label class=\"sk-toggleable__label\" for=\"2f71291b-d34c-4585-9256-92914cb32a13\">OrdinalEncoder</label><div class=\"sk-toggleable__content\"><pre>OrdinalEncoder(categories=[['Less than 25', '25 - 45', 'Greater than 45'],\n",
       "                           ['M', 'F'], ['0', 'M2', 'M1', 'F3', 'F2', 'F1'],\n",
       "                           ['Male', 'Female']],\n",
       "               dtype=<class 'numpy.int64'>, handle_unknown='use_encoded_value',\n",
       "               unknown_value=-1)</pre></div></div></div><div class=\"sk-item\"><div class=\"sk-estimator sk-toggleable\"><input class=\"sk-toggleable__control sk-hidden--visually\" id=\"60cafead-0ea0-42b0-8d01-750ec7fd5f4b\" type=\"checkbox\" ><label class=\"sk-toggleable__label\" for=\"60cafead-0ea0-42b0-8d01-750ec7fd5f4b\">KNNImputer</label><div class=\"sk-toggleable__content\"><pre>KNNImputer(missing_values=-1, n_neighbors=25)</pre></div></div></div><div class=\"sk-item\"><div class=\"sk-estimator sk-toggleable\"><input class=\"sk-toggleable__control sk-hidden--visually\" id=\"00f8ca61-e01f-43e0-865f-ffbdbf6255ce\" type=\"checkbox\" ><label class=\"sk-toggleable__label\" for=\"00f8ca61-e01f-43e0-865f-ffbdbf6255ce\">MinMaxScaler</label><div class=\"sk-toggleable__content\"><pre>MinMaxScaler()</pre></div></div></div></div></div></div></div>"
      ],
      "text/plain": [
       "Pipeline(steps=[('ordinalencoder',\n",
       "                 OrdinalEncoder(categories=[['Less than 25', '25 - 45',\n",
       "                                             'Greater than 45'],\n",
       "                                            ['M', 'F'],\n",
       "                                            ['0', 'M2', 'M1', 'F3', 'F2', 'F1'],\n",
       "                                            ['Male', 'Female']],\n",
       "                                dtype=<class 'numpy.int64'>,\n",
       "                                handle_unknown='use_encoded_value',\n",
       "                                unknown_value=-1)),\n",
       "                ('knnimputer', KNNImputer(missing_values=-1, n_neighbors=25)),\n",
       "                ('minmaxscaler', MinMaxScaler())])"
      ]
     },
     "execution_count": 28,
     "metadata": {},
     "output_type": "execute_result"
    }
   ],
   "source": [
    "feat_ordinal_dict = {\n",
    "    \"age_cat\": [\"Less than 25\", \"25 - 45\", \"Greater than 45\"],\n",
    "    \"c_charge_degree\": [\"M\", \"F\"],\n",
    "    \"c_charge_degree_detailed\": [\"0\",\"M2\",\"M1\",\"F3\",\"F2\",\"F1\"],\n",
    "#    \"score_text\": [\"Low\", \"Medium\", \"High\"],\n",
    "    \"sex\": [\"Male\",\"Female\"]\n",
    "    }\n",
    "\n",
    "feat_ordinal = sorted(feat_ordinal_dict.keys()) # sort alphabetically\n",
    "feat_ordinal_values_sorted = [feat_ordinal_dict[i] for i in feat_ordinal]\n",
    "\n",
    "encoder_ordinal = OrdinalEncoder(\n",
    "    categories=feat_ordinal_values_sorted,\n",
    "    dtype= np.int64,\n",
    "    handle_unknown=\"use_encoded_value\",\n",
    "    unknown_value=-1 # Considers unknown values as worse than missing\n",
    ")\n",
    "\n",
    "preproc_ordinal = make_pipeline(\n",
    "    encoder_ordinal,\n",
    "    KNNImputer(missing_values=-1, n_neighbors=25), #kNN impute missing values\n",
    "#    StandardScaler()\n",
    "    MinMaxScaler()\n",
    ")\n",
    "\n",
    "preproc_ordinal"
   ]
  },
  {
   "cell_type": "code",
   "execution_count": 29,
   "id": "80f7bb45",
   "metadata": {},
   "outputs": [],
   "source": [
    "# Define numerical feature once-for-all\n",
    "#from sklearn.compose import make_column_selector\n",
    "#feat_numerical = make_column_selector(dtype_include='number')\n",
    "\n",
    "feat_numerical = sorted(X.select_dtypes(include=[\"int64\", \"float64\"]).columns)\n",
    "\n",
    "preproc_numerical = make_pipeline(\n",
    "    SimpleImputer(),\n",
    "#    StandardScaler(),\n",
    "    MinMaxScaler()\n",
    ")"
   ]
  },
  {
   "cell_type": "code",
   "execution_count": 30,
   "id": "b489c94b",
   "metadata": {},
   "outputs": [],
   "source": [
    "# # Define nominal features to one-hot-encode as the remaining ones (non numerical, non ordinal)\n",
    "# #only relevant for race feature -> therefore commented out \n",
    "# feat_nominal = sorted(list(set(X.columns) - set(feat_numerical) - set(feat_ordinal)))\n",
    "\n",
    "# preproc_nominal = make_pipeline(\n",
    "#     SimpleImputer(strategy=\"most_frequent\"),\n",
    "#     OneHotEncoder(drop=\"first\", handle_unknown=\"ignore\")\n",
    "# )"
   ]
  },
  {
   "cell_type": "code",
   "execution_count": 31,
   "id": "44ece654",
   "metadata": {},
   "outputs": [
    {
     "data": {
      "text/html": [
       "<style>#sk-83940d13-869f-4225-adb4-e8290cc444d9 {color: black;background-color: white;}#sk-83940d13-869f-4225-adb4-e8290cc444d9 pre{padding: 0;}#sk-83940d13-869f-4225-adb4-e8290cc444d9 div.sk-toggleable {background-color: white;}#sk-83940d13-869f-4225-adb4-e8290cc444d9 label.sk-toggleable__label {cursor: pointer;display: block;width: 100%;margin-bottom: 0;padding: 0.3em;box-sizing: border-box;text-align: center;}#sk-83940d13-869f-4225-adb4-e8290cc444d9 div.sk-toggleable__content {max-height: 0;max-width: 0;overflow: hidden;text-align: left;background-color: #f0f8ff;}#sk-83940d13-869f-4225-adb4-e8290cc444d9 div.sk-toggleable__content pre {margin: 0.2em;color: black;border-radius: 0.25em;background-color: #f0f8ff;}#sk-83940d13-869f-4225-adb4-e8290cc444d9 input.sk-toggleable__control:checked~div.sk-toggleable__content {max-height: 200px;max-width: 100%;overflow: auto;}#sk-83940d13-869f-4225-adb4-e8290cc444d9 div.sk-estimator input.sk-toggleable__control:checked~label.sk-toggleable__label {background-color: #d4ebff;}#sk-83940d13-869f-4225-adb4-e8290cc444d9 div.sk-label input.sk-toggleable__control:checked~label.sk-toggleable__label {background-color: #d4ebff;}#sk-83940d13-869f-4225-adb4-e8290cc444d9 input.sk-hidden--visually {border: 0;clip: rect(1px 1px 1px 1px);clip: rect(1px, 1px, 1px, 1px);height: 1px;margin: -1px;overflow: hidden;padding: 0;position: absolute;width: 1px;}#sk-83940d13-869f-4225-adb4-e8290cc444d9 div.sk-estimator {font-family: monospace;background-color: #f0f8ff;border: 1px dotted black;border-radius: 0.25em;box-sizing: border-box;margin-bottom: 0.5em;}#sk-83940d13-869f-4225-adb4-e8290cc444d9 div.sk-estimator:hover {background-color: #d4ebff;}#sk-83940d13-869f-4225-adb4-e8290cc444d9 div.sk-parallel-item::after {content: \"\";width: 100%;border-bottom: 1px solid gray;flex-grow: 1;}#sk-83940d13-869f-4225-adb4-e8290cc444d9 div.sk-label:hover label.sk-toggleable__label {background-color: #d4ebff;}#sk-83940d13-869f-4225-adb4-e8290cc444d9 div.sk-serial::before {content: \"\";position: absolute;border-left: 1px solid gray;box-sizing: border-box;top: 2em;bottom: 0;left: 50%;}#sk-83940d13-869f-4225-adb4-e8290cc444d9 div.sk-serial {display: flex;flex-direction: column;align-items: center;background-color: white;padding-right: 0.2em;padding-left: 0.2em;}#sk-83940d13-869f-4225-adb4-e8290cc444d9 div.sk-item {z-index: 1;}#sk-83940d13-869f-4225-adb4-e8290cc444d9 div.sk-parallel {display: flex;align-items: stretch;justify-content: center;background-color: white;}#sk-83940d13-869f-4225-adb4-e8290cc444d9 div.sk-parallel::before {content: \"\";position: absolute;border-left: 1px solid gray;box-sizing: border-box;top: 2em;bottom: 0;left: 50%;}#sk-83940d13-869f-4225-adb4-e8290cc444d9 div.sk-parallel-item {display: flex;flex-direction: column;position: relative;background-color: white;}#sk-83940d13-869f-4225-adb4-e8290cc444d9 div.sk-parallel-item:first-child::after {align-self: flex-end;width: 50%;}#sk-83940d13-869f-4225-adb4-e8290cc444d9 div.sk-parallel-item:last-child::after {align-self: flex-start;width: 50%;}#sk-83940d13-869f-4225-adb4-e8290cc444d9 div.sk-parallel-item:only-child::after {width: 0;}#sk-83940d13-869f-4225-adb4-e8290cc444d9 div.sk-dashed-wrapped {border: 1px dashed gray;margin: 0 0.4em 0.5em 0.4em;box-sizing: border-box;padding-bottom: 0.4em;background-color: white;position: relative;}#sk-83940d13-869f-4225-adb4-e8290cc444d9 div.sk-label label {font-family: monospace;font-weight: bold;background-color: white;display: inline-block;line-height: 1.2em;}#sk-83940d13-869f-4225-adb4-e8290cc444d9 div.sk-label-container {position: relative;z-index: 2;text-align: center;}#sk-83940d13-869f-4225-adb4-e8290cc444d9 div.sk-container {display: inline-block;position: relative;}</style><div id=\"sk-83940d13-869f-4225-adb4-e8290cc444d9\" class\"sk-top-container\"><div class=\"sk-container\"><div class=\"sk-item sk-dashed-wrapped\"><div class=\"sk-label-container\"><div class=\"sk-label sk-toggleable\"><input class=\"sk-toggleable__control sk-hidden--visually\" id=\"5a699415-1176-4991-a228-50c5668d9111\" type=\"checkbox\" ><label class=\"sk-toggleable__label\" for=\"5a699415-1176-4991-a228-50c5668d9111\">ColumnTransformer</label><div class=\"sk-toggleable__content\"><pre>ColumnTransformer(transformers=[('pipeline-1',\n",
       "                                 Pipeline(steps=[('simpleimputer',\n",
       "                                                  SimpleImputer()),\n",
       "                                                 ('minmaxscaler',\n",
       "                                                  MinMaxScaler())]),\n",
       "                                 ['age', 'juv_fel_count', 'juv_misd_count',\n",
       "                                  'juv_other_count', 'priors_count']),\n",
       "                                ('pipeline-2',\n",
       "                                 Pipeline(steps=[('ordinalencoder',\n",
       "                                                  OrdinalEncoder(categories=[['Less '\n",
       "                                                                              'than '\n",
       "                                                                              '25',\n",
       "                                                                              '25 '\n",
       "                                                                              '- '\n",
       "                                                                              '45',\n",
       "                                                                              'Greater '\n",
       "                                                                              'than '\n",
       "                                                                              '45'],\n",
       "                                                                             ['M',\n",
       "                                                                              'F'],\n",
       "                                                                             ['0',\n",
       "                                                                              'M2',\n",
       "                                                                              'M1',\n",
       "                                                                              'F3',\n",
       "                                                                              'F2',\n",
       "                                                                              'F1'],\n",
       "                                                                             ['Male',\n",
       "                                                                              'Female']],\n",
       "                                                                 dtype=<class 'numpy.int64'>,\n",
       "                                                                 handle_unknown='use_encoded_value',\n",
       "                                                                 unknown_value=-1)),\n",
       "                                                 ('knnimputer',\n",
       "                                                  KNNImputer(missing_values=-1,\n",
       "                                                             n_neighbors=25)),\n",
       "                                                 ('minmaxscaler',\n",
       "                                                  MinMaxScaler())]),\n",
       "                                 ['age_cat', 'c_charge_degree',\n",
       "                                  'c_charge_degree_detailed', 'sex'])])</pre></div></div></div><div class=\"sk-parallel\"><div class=\"sk-parallel-item\"><div class=\"sk-item\"><div class=\"sk-label-container\"><div class=\"sk-label sk-toggleable\"><input class=\"sk-toggleable__control sk-hidden--visually\" id=\"c5378266-1c08-4fb0-8aa0-e30bb2447a00\" type=\"checkbox\" ><label class=\"sk-toggleable__label\" for=\"c5378266-1c08-4fb0-8aa0-e30bb2447a00\">pipeline-1</label><div class=\"sk-toggleable__content\"><pre>['age', 'juv_fel_count', 'juv_misd_count', 'juv_other_count', 'priors_count']</pre></div></div></div><div class=\"sk-serial\"><div class=\"sk-item\"><div class=\"sk-serial\"><div class=\"sk-item\"><div class=\"sk-estimator sk-toggleable\"><input class=\"sk-toggleable__control sk-hidden--visually\" id=\"452963f1-41aa-461b-8799-c53ee16b2caa\" type=\"checkbox\" ><label class=\"sk-toggleable__label\" for=\"452963f1-41aa-461b-8799-c53ee16b2caa\">SimpleImputer</label><div class=\"sk-toggleable__content\"><pre>SimpleImputer()</pre></div></div></div><div class=\"sk-item\"><div class=\"sk-estimator sk-toggleable\"><input class=\"sk-toggleable__control sk-hidden--visually\" id=\"dbc1fac4-0b9e-4e22-ab73-f9874e137188\" type=\"checkbox\" ><label class=\"sk-toggleable__label\" for=\"dbc1fac4-0b9e-4e22-ab73-f9874e137188\">MinMaxScaler</label><div class=\"sk-toggleable__content\"><pre>MinMaxScaler()</pre></div></div></div></div></div></div></div></div><div class=\"sk-parallel-item\"><div class=\"sk-item\"><div class=\"sk-label-container\"><div class=\"sk-label sk-toggleable\"><input class=\"sk-toggleable__control sk-hidden--visually\" id=\"fead17ef-d143-4023-95ca-9d1bfb54e884\" type=\"checkbox\" ><label class=\"sk-toggleable__label\" for=\"fead17ef-d143-4023-95ca-9d1bfb54e884\">pipeline-2</label><div class=\"sk-toggleable__content\"><pre>['age_cat', 'c_charge_degree', 'c_charge_degree_detailed', 'sex']</pre></div></div></div><div class=\"sk-serial\"><div class=\"sk-item\"><div class=\"sk-serial\"><div class=\"sk-item\"><div class=\"sk-estimator sk-toggleable\"><input class=\"sk-toggleable__control sk-hidden--visually\" id=\"32497c64-1da3-47c4-9fb3-9ded8bff3ebb\" type=\"checkbox\" ><label class=\"sk-toggleable__label\" for=\"32497c64-1da3-47c4-9fb3-9ded8bff3ebb\">OrdinalEncoder</label><div class=\"sk-toggleable__content\"><pre>OrdinalEncoder(categories=[['Less than 25', '25 - 45', 'Greater than 45'],\n",
       "                           ['M', 'F'], ['0', 'M2', 'M1', 'F3', 'F2', 'F1'],\n",
       "                           ['Male', 'Female']],\n",
       "               dtype=<class 'numpy.int64'>, handle_unknown='use_encoded_value',\n",
       "               unknown_value=-1)</pre></div></div></div><div class=\"sk-item\"><div class=\"sk-estimator sk-toggleable\"><input class=\"sk-toggleable__control sk-hidden--visually\" id=\"e80aa271-d945-44b1-a7e0-6d418f2c35b6\" type=\"checkbox\" ><label class=\"sk-toggleable__label\" for=\"e80aa271-d945-44b1-a7e0-6d418f2c35b6\">KNNImputer</label><div class=\"sk-toggleable__content\"><pre>KNNImputer(missing_values=-1, n_neighbors=25)</pre></div></div></div><div class=\"sk-item\"><div class=\"sk-estimator sk-toggleable\"><input class=\"sk-toggleable__control sk-hidden--visually\" id=\"76b49c5e-da2c-4436-8bc0-726d2904cc0d\" type=\"checkbox\" ><label class=\"sk-toggleable__label\" for=\"76b49c5e-da2c-4436-8bc0-726d2904cc0d\">MinMaxScaler</label><div class=\"sk-toggleable__content\"><pre>MinMaxScaler()</pre></div></div></div></div></div></div></div></div></div></div></div></div>"
      ],
      "text/plain": [
       "ColumnTransformer(transformers=[('pipeline-1',\n",
       "                                 Pipeline(steps=[('simpleimputer',\n",
       "                                                  SimpleImputer()),\n",
       "                                                 ('minmaxscaler',\n",
       "                                                  MinMaxScaler())]),\n",
       "                                 ['age', 'juv_fel_count', 'juv_misd_count',\n",
       "                                  'juv_other_count', 'priors_count']),\n",
       "                                ('pipeline-2',\n",
       "                                 Pipeline(steps=[('ordinalencoder',\n",
       "                                                  OrdinalEncoder(categories=[['Less '\n",
       "                                                                              'than '\n",
       "                                                                              '25',\n",
       "                                                                              '25 '\n",
       "                                                                              '- '\n",
       "                                                                              '45',\n",
       "                                                                              'Greater '\n",
       "                                                                              'than '\n",
       "                                                                              '45'],\n",
       "                                                                             ['M',\n",
       "                                                                              'F'],\n",
       "                                                                             ['0',\n",
       "                                                                              'M2',\n",
       "                                                                              'M1',\n",
       "                                                                              'F3',\n",
       "                                                                              'F2',\n",
       "                                                                              'F1'],\n",
       "                                                                             ['Male',\n",
       "                                                                              'Female']],\n",
       "                                                                 dtype=<class 'numpy.int64'>,\n",
       "                                                                 handle_unknown='use_encoded_value',\n",
       "                                                                 unknown_value=-1)),\n",
       "                                                 ('knnimputer',\n",
       "                                                  KNNImputer(missing_values=-1,\n",
       "                                                             n_neighbors=25)),\n",
       "                                                 ('minmaxscaler',\n",
       "                                                  MinMaxScaler())]),\n",
       "                                 ['age_cat', 'c_charge_degree',\n",
       "                                  'c_charge_degree_detailed', 'sex'])])"
      ]
     },
     "execution_count": 31,
     "metadata": {},
     "output_type": "execute_result"
    }
   ],
   "source": [
    "preproc = make_column_transformer(\n",
    "    (preproc_numerical, feat_numerical),\n",
    "    (preproc_ordinal, feat_ordinal),\n",
    "#    (preproc_nominal, feat_nominal), (only needed when race a Feature)\n",
    "    remainder=\"drop\")\n",
    "\n",
    "preproc"
   ]
  },
  {
   "cell_type": "code",
   "execution_count": 32,
   "id": "005ad14c",
   "metadata": {},
   "outputs": [
    {
     "data": {
      "text/html": [
       "<div>\n",
       "<style scoped>\n",
       "    .dataframe tbody tr th:only-of-type {\n",
       "        vertical-align: middle;\n",
       "    }\n",
       "\n",
       "    .dataframe tbody tr th {\n",
       "        vertical-align: top;\n",
       "    }\n",
       "\n",
       "    .dataframe thead th {\n",
       "        text-align: right;\n",
       "    }\n",
       "</style>\n",
       "<table border=\"1\" class=\"dataframe\">\n",
       "  <thead>\n",
       "    <tr style=\"text-align: right;\">\n",
       "      <th></th>\n",
       "      <th>age</th>\n",
       "      <th>juv_fel_count</th>\n",
       "      <th>juv_misd_count</th>\n",
       "      <th>juv_other_count</th>\n",
       "      <th>priors_count</th>\n",
       "      <th>age_cat</th>\n",
       "      <th>c_charge_degree</th>\n",
       "      <th>c_charge_degree_detailed</th>\n",
       "      <th>sex</th>\n",
       "    </tr>\n",
       "  </thead>\n",
       "  <tbody>\n",
       "    <tr>\n",
       "      <th>0</th>\n",
       "      <td>0.649351</td>\n",
       "      <td>0.0</td>\n",
       "      <td>0.0</td>\n",
       "      <td>0.000000</td>\n",
       "      <td>0.000000</td>\n",
       "      <td>1.0</td>\n",
       "      <td>1.0</td>\n",
       "      <td>0.6</td>\n",
       "      <td>0.0</td>\n",
       "    </tr>\n",
       "    <tr>\n",
       "      <th>1</th>\n",
       "      <td>0.194805</td>\n",
       "      <td>0.0</td>\n",
       "      <td>0.0</td>\n",
       "      <td>0.000000</td>\n",
       "      <td>0.000000</td>\n",
       "      <td>0.5</td>\n",
       "      <td>1.0</td>\n",
       "      <td>0.6</td>\n",
       "      <td>0.0</td>\n",
       "    </tr>\n",
       "    <tr>\n",
       "      <th>2</th>\n",
       "      <td>0.064935</td>\n",
       "      <td>0.0</td>\n",
       "      <td>0.0</td>\n",
       "      <td>0.111111</td>\n",
       "      <td>0.108108</td>\n",
       "      <td>0.0</td>\n",
       "      <td>1.0</td>\n",
       "      <td>0.6</td>\n",
       "      <td>0.0</td>\n",
       "    </tr>\n",
       "    <tr>\n",
       "      <th>3</th>\n",
       "      <td>0.324675</td>\n",
       "      <td>0.0</td>\n",
       "      <td>0.0</td>\n",
       "      <td>0.000000</td>\n",
       "      <td>0.000000</td>\n",
       "      <td>0.5</td>\n",
       "      <td>0.0</td>\n",
       "      <td>0.4</td>\n",
       "      <td>0.0</td>\n",
       "    </tr>\n",
       "    <tr>\n",
       "      <th>4</th>\n",
       "      <td>0.285714</td>\n",
       "      <td>0.0</td>\n",
       "      <td>0.0</td>\n",
       "      <td>0.000000</td>\n",
       "      <td>0.378378</td>\n",
       "      <td>0.5</td>\n",
       "      <td>1.0</td>\n",
       "      <td>0.6</td>\n",
       "      <td>0.0</td>\n",
       "    </tr>\n",
       "  </tbody>\n",
       "</table>\n",
       "</div>"
      ],
      "text/plain": [
       "        age  juv_fel_count  juv_misd_count  juv_other_count  priors_count  \\\n",
       "0  0.649351            0.0             0.0         0.000000      0.000000   \n",
       "1  0.194805            0.0             0.0         0.000000      0.000000   \n",
       "2  0.064935            0.0             0.0         0.111111      0.108108   \n",
       "3  0.324675            0.0             0.0         0.000000      0.000000   \n",
       "4  0.285714            0.0             0.0         0.000000      0.378378   \n",
       "\n",
       "   age_cat  c_charge_degree  c_charge_degree_detailed  sex  \n",
       "0      1.0              1.0                       0.6  0.0  \n",
       "1      0.5              1.0                       0.6  0.0  \n",
       "2      0.0              1.0                       0.6  0.0  \n",
       "3      0.5              0.0                       0.4  0.0  \n",
       "4      0.5              1.0                       0.6  0.0  "
      ]
     },
     "execution_count": 32,
     "metadata": {},
     "output_type": "execute_result"
    }
   ],
   "source": [
    "#Test preproc pipeline\n",
    "column_nam = feat_numerical + feat_ordinal#+list(preproc.named_transformers_[\"pipeline-3\"].named_steps[\"onehotencoder\"].get_feature_names_out(feat_nominal))\n",
    "\n",
    "test = pd.DataFrame(preproc.fit_transform(df_clean), columns=column_nam)\n",
    "\n",
    "test.head()"
   ]
  },
  {
   "cell_type": "code",
   "execution_count": 33,
   "id": "59235720",
   "metadata": {},
   "outputs": [],
   "source": [
    "##Test knnImputing of missing values \n",
    "\n",
    "# test.loc[index_nan_cases]\n",
    "# test[\"c_charge_degree_detailed\"]= test.c_charge_degree_detailed.apply(np.ceil)\n",
    "# test.loc[index_nan_cases]"
   ]
  },
  {
   "cell_type": "markdown",
   "id": "6d547eac",
   "metadata": {},
   "source": [
    "## Basinline model: Logistic regression"
   ]
  },
  {
   "cell_type": "code",
   "execution_count": 64,
   "id": "3f04e6ce",
   "metadata": {},
   "outputs": [],
   "source": [
    "model = LogisticRegression()\n",
    "pipe_log = make_pipeline(preproc, model)"
   ]
  },
  {
   "cell_type": "code",
   "execution_count": 50,
   "id": "d37789f8",
   "metadata": {},
   "outputs": [
    {
     "name": "stdout",
     "output_type": "stream",
     "text": [
      "{'logisticregression__C': 1.2000000000000002, 'logisticregression__l1_ratio': 1.0, 'logisticregression__penalty': 'elasticnet', 'logisticregression__solver': 'saga'}\n"
     ]
    },
    {
     "data": {
      "text/plain": [
       "-0.5822621320575149"
      ]
     },
     "execution_count": 50,
     "metadata": {},
     "output_type": "execute_result"
    }
   ],
   "source": [
    "#Grid Search\n",
    "param_grid =  {'logisticregression__penalty': ['elasticnet'],\n",
    "               'logisticregression__solver': ['saga'],\n",
    "               'logisticregression__C': np.linspace(1,2,10),\n",
    "               'logisticregression__l1_ratio': np.arange(0,1.1,0.1)\n",
    "              }\n",
    "\n",
    "search_log = GridSearchCV(pipe_log, param_grid, \n",
    "                          cv=10, n_jobs=-1, scoring=\"neg_log_loss\")\n",
    "\n",
    "search_log.fit(X_train, y_train);\n",
    "print(search_log.best_params_)\n",
    "search_log.best_score_"
   ]
  },
  {
   "cell_type": "code",
   "execution_count": 51,
   "id": "42214bd6",
   "metadata": {},
   "outputs": [
    {
     "data": {
      "text/plain": [
       "0.6433111093042795"
      ]
     },
     "execution_count": 51,
     "metadata": {},
     "output_type": "execute_result"
    }
   ],
   "source": [
    "y_pred = search_log.predict(X_test)\n",
    "\n",
    "roc_auc_score(y_test, y_pred)"
   ]
  },
  {
   "cell_type": "code",
   "execution_count": 52,
   "id": "5f064f2b",
   "metadata": {},
   "outputs": [
    {
     "data": {
      "text/plain": [
       "array([[911,  93],\n",
       "       [365, 223]])"
      ]
     },
     "execution_count": 52,
     "metadata": {},
     "output_type": "execute_result"
    }
   ],
   "source": [
    "confusion_matrix(y_test, y_pred)"
   ]
  },
  {
   "cell_type": "code",
   "execution_count": 53,
   "id": "80e2f7b2",
   "metadata": {},
   "outputs": [
    {
     "name": "stdout",
     "output_type": "stream",
     "text": [
      "              precision    recall  f1-score   support\n",
      "\n",
      "    no_recid       0.71      0.91      0.80      1004\n",
      "    is_recid       0.71      0.38      0.49       588\n",
      "\n",
      "    accuracy                           0.71      1592\n",
      "   macro avg       0.71      0.64      0.65      1592\n",
      "weighted avg       0.71      0.71      0.69      1592\n",
      "\n"
     ]
    }
   ],
   "source": [
    "print(classification_report(y_test, y_pred, target_names=[\"no_recid\", \"is_recid\"]))"
   ]
  },
  {
   "cell_type": "markdown",
   "id": "9f727457",
   "metadata": {},
   "source": [
    "### Model iteration: Try out different solvers fro Logistic regression model"
   ]
  },
  {
   "cell_type": "code",
   "execution_count": 132,
   "id": "df52796f",
   "metadata": {},
   "outputs": [
    {
     "name": "stdout",
     "output_type": "stream",
     "text": [
      "{'logisticregression__C': 2.7444444444444445, 'logisticregression__solver': 'lbfgs'}\n"
     ]
    },
    {
     "data": {
      "text/plain": [
       "-0.5825445213945968"
      ]
     },
     "execution_count": 132,
     "metadata": {},
     "output_type": "execute_result"
    }
   ],
   "source": [
    "#Grid Search\n",
    "param_grid =  {'logisticregression__solver': ['newton-cg', 'lbfgs', 'liblinear', 'sag'],\n",
    "               'logisticregression__C': np.linspace(2.2,2.9,100),\n",
    "              }\n",
    "\n",
    "search_log_2 = GridSearchCV(pipe_log, param_grid, \n",
    "                          cv=10, n_jobs=-1, scoring=\"neg_log_loss\")\n",
    "\n",
    "search_log_2.fit(X_train, y_train);\n",
    "print(search_log_2.best_params_)\n",
    "search_log_2.best_score_"
   ]
  },
  {
   "cell_type": "code",
   "execution_count": 133,
   "id": "56e85ddb",
   "metadata": {},
   "outputs": [
    {
     "data": {
      "text/plain": [
       "0.644100468872808"
      ]
     },
     "execution_count": 133,
     "metadata": {},
     "output_type": "execute_result"
    }
   ],
   "source": [
    "y_pred = search_log_2.predict(X_test)\n",
    "\n",
    "roc_auc_score(y_test, y_pred)"
   ]
  },
  {
   "cell_type": "code",
   "execution_count": 134,
   "id": "d00f8e0e",
   "metadata": {},
   "outputs": [
    {
     "data": {
      "text/plain": [
       "array([[916,  88],\n",
       "       [367, 221]])"
      ]
     },
     "execution_count": 134,
     "metadata": {},
     "output_type": "execute_result"
    }
   ],
   "source": [
    "confusion_matrix(y_test, y_pred)"
   ]
  },
  {
   "cell_type": "code",
   "execution_count": 135,
   "id": "4215acb9",
   "metadata": {},
   "outputs": [
    {
     "name": "stdout",
     "output_type": "stream",
     "text": [
      "              precision    recall  f1-score   support\n",
      "\n",
      "    no_recid       0.71      0.91      0.80      1004\n",
      "    is_recid       0.72      0.38      0.49       588\n",
      "\n",
      "    accuracy                           0.71      1592\n",
      "   macro avg       0.71      0.64      0.65      1592\n",
      "weighted avg       0.71      0.71      0.69      1592\n",
      "\n"
     ]
    }
   ],
   "source": [
    "print(classification_report(y_test, y_pred, target_names=[\"no_recid\", \"is_recid\"]))"
   ]
  },
  {
   "cell_type": "markdown",
   "id": "3b602437",
   "metadata": {},
   "source": [
    "## Multivariate feature selection based on their combined relationship with target `y`"
   ]
  },
  {
   "cell_type": "markdown",
   "id": "40ff34e7",
   "metadata": {},
   "source": [
    "- Some of the columns are different representations of the same data (eg. age and age_cat) and are therfore highly correlated\n",
    "- Furthermore we want to remove features that, when in combination with all the others, do not really help predict our target"
   ]
  },
  {
   "cell_type": "markdown",
   "id": "887cd24e",
   "metadata": {},
   "source": [
    "### Forward Selection using `SequentialFeatureSelector` "
   ]
  },
  {
   "cell_type": "code",
   "execution_count": 65,
   "id": "7b9c8718",
   "metadata": {},
   "outputs": [],
   "source": [
    "sfs_forward = SequentialFeatureSelector(model)"
   ]
  },
  {
   "cell_type": "code",
   "execution_count": 66,
   "id": "f7db02bc",
   "metadata": {},
   "outputs": [],
   "source": [
    "pipe_sfs = make_pipeline(preproc, sfs_forward)"
   ]
  },
  {
   "cell_type": "code",
   "execution_count": 67,
   "id": "7e06dee9",
   "metadata": {},
   "outputs": [
    {
     "data": {
      "text/html": [
       "<style>#sk-26c6a48a-03fd-4515-84bc-0e6d9cad3645 {color: black;background-color: white;}#sk-26c6a48a-03fd-4515-84bc-0e6d9cad3645 pre{padding: 0;}#sk-26c6a48a-03fd-4515-84bc-0e6d9cad3645 div.sk-toggleable {background-color: white;}#sk-26c6a48a-03fd-4515-84bc-0e6d9cad3645 label.sk-toggleable__label {cursor: pointer;display: block;width: 100%;margin-bottom: 0;padding: 0.3em;box-sizing: border-box;text-align: center;}#sk-26c6a48a-03fd-4515-84bc-0e6d9cad3645 div.sk-toggleable__content {max-height: 0;max-width: 0;overflow: hidden;text-align: left;background-color: #f0f8ff;}#sk-26c6a48a-03fd-4515-84bc-0e6d9cad3645 div.sk-toggleable__content pre {margin: 0.2em;color: black;border-radius: 0.25em;background-color: #f0f8ff;}#sk-26c6a48a-03fd-4515-84bc-0e6d9cad3645 input.sk-toggleable__control:checked~div.sk-toggleable__content {max-height: 200px;max-width: 100%;overflow: auto;}#sk-26c6a48a-03fd-4515-84bc-0e6d9cad3645 div.sk-estimator input.sk-toggleable__control:checked~label.sk-toggleable__label {background-color: #d4ebff;}#sk-26c6a48a-03fd-4515-84bc-0e6d9cad3645 div.sk-label input.sk-toggleable__control:checked~label.sk-toggleable__label {background-color: #d4ebff;}#sk-26c6a48a-03fd-4515-84bc-0e6d9cad3645 input.sk-hidden--visually {border: 0;clip: rect(1px 1px 1px 1px);clip: rect(1px, 1px, 1px, 1px);height: 1px;margin: -1px;overflow: hidden;padding: 0;position: absolute;width: 1px;}#sk-26c6a48a-03fd-4515-84bc-0e6d9cad3645 div.sk-estimator {font-family: monospace;background-color: #f0f8ff;border: 1px dotted black;border-radius: 0.25em;box-sizing: border-box;margin-bottom: 0.5em;}#sk-26c6a48a-03fd-4515-84bc-0e6d9cad3645 div.sk-estimator:hover {background-color: #d4ebff;}#sk-26c6a48a-03fd-4515-84bc-0e6d9cad3645 div.sk-parallel-item::after {content: \"\";width: 100%;border-bottom: 1px solid gray;flex-grow: 1;}#sk-26c6a48a-03fd-4515-84bc-0e6d9cad3645 div.sk-label:hover label.sk-toggleable__label {background-color: #d4ebff;}#sk-26c6a48a-03fd-4515-84bc-0e6d9cad3645 div.sk-serial::before {content: \"\";position: absolute;border-left: 1px solid gray;box-sizing: border-box;top: 2em;bottom: 0;left: 50%;}#sk-26c6a48a-03fd-4515-84bc-0e6d9cad3645 div.sk-serial {display: flex;flex-direction: column;align-items: center;background-color: white;padding-right: 0.2em;padding-left: 0.2em;}#sk-26c6a48a-03fd-4515-84bc-0e6d9cad3645 div.sk-item {z-index: 1;}#sk-26c6a48a-03fd-4515-84bc-0e6d9cad3645 div.sk-parallel {display: flex;align-items: stretch;justify-content: center;background-color: white;}#sk-26c6a48a-03fd-4515-84bc-0e6d9cad3645 div.sk-parallel::before {content: \"\";position: absolute;border-left: 1px solid gray;box-sizing: border-box;top: 2em;bottom: 0;left: 50%;}#sk-26c6a48a-03fd-4515-84bc-0e6d9cad3645 div.sk-parallel-item {display: flex;flex-direction: column;position: relative;background-color: white;}#sk-26c6a48a-03fd-4515-84bc-0e6d9cad3645 div.sk-parallel-item:first-child::after {align-self: flex-end;width: 50%;}#sk-26c6a48a-03fd-4515-84bc-0e6d9cad3645 div.sk-parallel-item:last-child::after {align-self: flex-start;width: 50%;}#sk-26c6a48a-03fd-4515-84bc-0e6d9cad3645 div.sk-parallel-item:only-child::after {width: 0;}#sk-26c6a48a-03fd-4515-84bc-0e6d9cad3645 div.sk-dashed-wrapped {border: 1px dashed gray;margin: 0 0.4em 0.5em 0.4em;box-sizing: border-box;padding-bottom: 0.4em;background-color: white;position: relative;}#sk-26c6a48a-03fd-4515-84bc-0e6d9cad3645 div.sk-label label {font-family: monospace;font-weight: bold;background-color: white;display: inline-block;line-height: 1.2em;}#sk-26c6a48a-03fd-4515-84bc-0e6d9cad3645 div.sk-label-container {position: relative;z-index: 2;text-align: center;}#sk-26c6a48a-03fd-4515-84bc-0e6d9cad3645 div.sk-container {display: inline-block;position: relative;}</style><div id=\"sk-26c6a48a-03fd-4515-84bc-0e6d9cad3645\" class\"sk-top-container\"><div class=\"sk-container\"><div class=\"sk-item sk-dashed-wrapped\"><div class=\"sk-label-container\"><div class=\"sk-label sk-toggleable\"><input class=\"sk-toggleable__control sk-hidden--visually\" id=\"9bf263fb-c343-4c35-89d9-6f6d9e5cc30f\" type=\"checkbox\" ><label class=\"sk-toggleable__label\" for=\"9bf263fb-c343-4c35-89d9-6f6d9e5cc30f\">Pipeline</label><div class=\"sk-toggleable__content\"><pre>Pipeline(steps=[('columntransformer',\n",
       "                 ColumnTransformer(transformers=[('pipeline-1',\n",
       "                                                  Pipeline(steps=[('simpleimputer',\n",
       "                                                                   SimpleImputer()),\n",
       "                                                                  ('minmaxscaler',\n",
       "                                                                   MinMaxScaler())]),\n",
       "                                                  ['age', 'juv_fel_count',\n",
       "                                                   'juv_misd_count',\n",
       "                                                   'juv_other_count',\n",
       "                                                   'priors_count']),\n",
       "                                                 ('pipeline-2',\n",
       "                                                  Pipeline(steps=[('ordinalencoder',\n",
       "                                                                   OrdinalEncoder(categories=[['Less '\n",
       "                                                                                               'than '\n",
       "                                                                                               '25',\n",
       "                                                                                               '25 '\n",
       "                                                                                               '- '\n",
       "                                                                                               '45',\n",
       "                                                                                               'Gr...\n",
       "                                                                                              ['Male',\n",
       "                                                                                               'Female']],\n",
       "                                                                                  dtype=<class 'numpy.int64'>,\n",
       "                                                                                  handle_unknown='use_encoded_value',\n",
       "                                                                                  unknown_value=-1)),\n",
       "                                                                  ('knnimputer',\n",
       "                                                                   KNNImputer(missing_values=-1,\n",
       "                                                                              n_neighbors=25)),\n",
       "                                                                  ('minmaxscaler',\n",
       "                                                                   MinMaxScaler())]),\n",
       "                                                  ['age_cat', 'c_charge_degree',\n",
       "                                                   'c_charge_degree_detailed',\n",
       "                                                   'sex'])])),\n",
       "                ('sequentialfeatureselector',\n",
       "                 SequentialFeatureSelector(estimator=LogisticRegression()))])</pre></div></div></div><div class=\"sk-serial\"><div class=\"sk-item sk-dashed-wrapped\"><div class=\"sk-label-container\"><div class=\"sk-label sk-toggleable\"><input class=\"sk-toggleable__control sk-hidden--visually\" id=\"7ad2dfbb-9a4f-4a36-8f47-7354a917b31a\" type=\"checkbox\" ><label class=\"sk-toggleable__label\" for=\"7ad2dfbb-9a4f-4a36-8f47-7354a917b31a\">columntransformer: ColumnTransformer</label><div class=\"sk-toggleable__content\"><pre>ColumnTransformer(transformers=[('pipeline-1',\n",
       "                                 Pipeline(steps=[('simpleimputer',\n",
       "                                                  SimpleImputer()),\n",
       "                                                 ('minmaxscaler',\n",
       "                                                  MinMaxScaler())]),\n",
       "                                 ['age', 'juv_fel_count', 'juv_misd_count',\n",
       "                                  'juv_other_count', 'priors_count']),\n",
       "                                ('pipeline-2',\n",
       "                                 Pipeline(steps=[('ordinalencoder',\n",
       "                                                  OrdinalEncoder(categories=[['Less '\n",
       "                                                                              'than '\n",
       "                                                                              '25',\n",
       "                                                                              '25 '\n",
       "                                                                              '- '\n",
       "                                                                              '45',\n",
       "                                                                              'Greater '\n",
       "                                                                              'than '\n",
       "                                                                              '45'],\n",
       "                                                                             ['M',\n",
       "                                                                              'F'],\n",
       "                                                                             ['0',\n",
       "                                                                              'M2',\n",
       "                                                                              'M1',\n",
       "                                                                              'F3',\n",
       "                                                                              'F2',\n",
       "                                                                              'F1'],\n",
       "                                                                             ['Male',\n",
       "                                                                              'Female']],\n",
       "                                                                 dtype=<class 'numpy.int64'>,\n",
       "                                                                 handle_unknown='use_encoded_value',\n",
       "                                                                 unknown_value=-1)),\n",
       "                                                 ('knnimputer',\n",
       "                                                  KNNImputer(missing_values=-1,\n",
       "                                                             n_neighbors=25)),\n",
       "                                                 ('minmaxscaler',\n",
       "                                                  MinMaxScaler())]),\n",
       "                                 ['age_cat', 'c_charge_degree',\n",
       "                                  'c_charge_degree_detailed', 'sex'])])</pre></div></div></div><div class=\"sk-parallel\"><div class=\"sk-parallel-item\"><div class=\"sk-item\"><div class=\"sk-label-container\"><div class=\"sk-label sk-toggleable\"><input class=\"sk-toggleable__control sk-hidden--visually\" id=\"062a5b3d-3950-442e-93c8-4182f0840efe\" type=\"checkbox\" ><label class=\"sk-toggleable__label\" for=\"062a5b3d-3950-442e-93c8-4182f0840efe\">pipeline-1</label><div class=\"sk-toggleable__content\"><pre>['age', 'juv_fel_count', 'juv_misd_count', 'juv_other_count', 'priors_count']</pre></div></div></div><div class=\"sk-serial\"><div class=\"sk-item\"><div class=\"sk-serial\"><div class=\"sk-item\"><div class=\"sk-estimator sk-toggleable\"><input class=\"sk-toggleable__control sk-hidden--visually\" id=\"292ff882-e836-42d5-9ca4-c104cfe49692\" type=\"checkbox\" ><label class=\"sk-toggleable__label\" for=\"292ff882-e836-42d5-9ca4-c104cfe49692\">SimpleImputer</label><div class=\"sk-toggleable__content\"><pre>SimpleImputer()</pre></div></div></div><div class=\"sk-item\"><div class=\"sk-estimator sk-toggleable\"><input class=\"sk-toggleable__control sk-hidden--visually\" id=\"115b0bfb-a7d7-4499-922d-106f7ea4fbc1\" type=\"checkbox\" ><label class=\"sk-toggleable__label\" for=\"115b0bfb-a7d7-4499-922d-106f7ea4fbc1\">MinMaxScaler</label><div class=\"sk-toggleable__content\"><pre>MinMaxScaler()</pre></div></div></div></div></div></div></div></div><div class=\"sk-parallel-item\"><div class=\"sk-item\"><div class=\"sk-label-container\"><div class=\"sk-label sk-toggleable\"><input class=\"sk-toggleable__control sk-hidden--visually\" id=\"fc3b6933-0f0f-4726-81e9-fee1003ff9e1\" type=\"checkbox\" ><label class=\"sk-toggleable__label\" for=\"fc3b6933-0f0f-4726-81e9-fee1003ff9e1\">pipeline-2</label><div class=\"sk-toggleable__content\"><pre>['age_cat', 'c_charge_degree', 'c_charge_degree_detailed', 'sex']</pre></div></div></div><div class=\"sk-serial\"><div class=\"sk-item\"><div class=\"sk-serial\"><div class=\"sk-item\"><div class=\"sk-estimator sk-toggleable\"><input class=\"sk-toggleable__control sk-hidden--visually\" id=\"25a57dc4-240c-478c-acb0-110699223ec5\" type=\"checkbox\" ><label class=\"sk-toggleable__label\" for=\"25a57dc4-240c-478c-acb0-110699223ec5\">OrdinalEncoder</label><div class=\"sk-toggleable__content\"><pre>OrdinalEncoder(categories=[['Less than 25', '25 - 45', 'Greater than 45'],\n",
       "                           ['M', 'F'], ['0', 'M2', 'M1', 'F3', 'F2', 'F1'],\n",
       "                           ['Male', 'Female']],\n",
       "               dtype=<class 'numpy.int64'>, handle_unknown='use_encoded_value',\n",
       "               unknown_value=-1)</pre></div></div></div><div class=\"sk-item\"><div class=\"sk-estimator sk-toggleable\"><input class=\"sk-toggleable__control sk-hidden--visually\" id=\"94b60e2a-44d4-45e0-903c-f41b0ebe47be\" type=\"checkbox\" ><label class=\"sk-toggleable__label\" for=\"94b60e2a-44d4-45e0-903c-f41b0ebe47be\">KNNImputer</label><div class=\"sk-toggleable__content\"><pre>KNNImputer(missing_values=-1, n_neighbors=25)</pre></div></div></div><div class=\"sk-item\"><div class=\"sk-estimator sk-toggleable\"><input class=\"sk-toggleable__control sk-hidden--visually\" id=\"89afa817-4c91-4c94-a2cd-e8d4976d7b12\" type=\"checkbox\" ><label class=\"sk-toggleable__label\" for=\"89afa817-4c91-4c94-a2cd-e8d4976d7b12\">MinMaxScaler</label><div class=\"sk-toggleable__content\"><pre>MinMaxScaler()</pre></div></div></div></div></div></div></div></div></div></div><div class=\"sk-item sk-dashed-wrapped\"><div class=\"sk-label-container\"><div class=\"sk-label sk-toggleable\"><input class=\"sk-toggleable__control sk-hidden--visually\" id=\"ab4bf5da-469a-477b-8d05-740a46d79e7e\" type=\"checkbox\" ><label class=\"sk-toggleable__label\" for=\"ab4bf5da-469a-477b-8d05-740a46d79e7e\">sequentialfeatureselector: SequentialFeatureSelector</label><div class=\"sk-toggleable__content\"><pre>SequentialFeatureSelector(estimator=LogisticRegression())</pre></div></div></div><div class=\"sk-parallel\"><div class=\"sk-parallel-item\"><div class=\"sk-item\"><div class=\"sk-serial\"><div class=\"sk-item\"><div class=\"sk-estimator sk-toggleable\"><input class=\"sk-toggleable__control sk-hidden--visually\" id=\"d8d77a5e-b6f5-4999-8a2f-317cf13d664f\" type=\"checkbox\" ><label class=\"sk-toggleable__label\" for=\"d8d77a5e-b6f5-4999-8a2f-317cf13d664f\">LogisticRegression</label><div class=\"sk-toggleable__content\"><pre>LogisticRegression()</pre></div></div></div></div></div></div></div></div></div></div></div></div>"
      ],
      "text/plain": [
       "Pipeline(steps=[('columntransformer',\n",
       "                 ColumnTransformer(transformers=[('pipeline-1',\n",
       "                                                  Pipeline(steps=[('simpleimputer',\n",
       "                                                                   SimpleImputer()),\n",
       "                                                                  ('minmaxscaler',\n",
       "                                                                   MinMaxScaler())]),\n",
       "                                                  ['age', 'juv_fel_count',\n",
       "                                                   'juv_misd_count',\n",
       "                                                   'juv_other_count',\n",
       "                                                   'priors_count']),\n",
       "                                                 ('pipeline-2',\n",
       "                                                  Pipeline(steps=[('ordinalencoder',\n",
       "                                                                   OrdinalEncoder(categories=[['Less '\n",
       "                                                                                               'than '\n",
       "                                                                                               '25',\n",
       "                                                                                               '25 '\n",
       "                                                                                               '- '\n",
       "                                                                                               '45',\n",
       "                                                                                               'Gr...\n",
       "                                                                                              ['Male',\n",
       "                                                                                               'Female']],\n",
       "                                                                                  dtype=<class 'numpy.int64'>,\n",
       "                                                                                  handle_unknown='use_encoded_value',\n",
       "                                                                                  unknown_value=-1)),\n",
       "                                                                  ('knnimputer',\n",
       "                                                                   KNNImputer(missing_values=-1,\n",
       "                                                                              n_neighbors=25)),\n",
       "                                                                  ('minmaxscaler',\n",
       "                                                                   MinMaxScaler())]),\n",
       "                                                  ['age_cat', 'c_charge_degree',\n",
       "                                                   'c_charge_degree_detailed',\n",
       "                                                   'sex'])])),\n",
       "                ('sequentialfeatureselector',\n",
       "                 SequentialFeatureSelector(estimator=LogisticRegression()))])"
      ]
     },
     "execution_count": 67,
     "metadata": {},
     "output_type": "execute_result"
    }
   ],
   "source": [
    "pipe_sfs.fit(X_train, y_train)"
   ]
  },
  {
   "cell_type": "code",
   "execution_count": 136,
   "id": "7a0ca521",
   "metadata": {},
   "outputs": [
    {
     "data": {
      "text/plain": [
       "Index(['age', 'juv_misd_count', 'priors_count', 'c_charge_degree_detailed'], dtype='object')"
      ]
     },
     "execution_count": 136,
     "metadata": {},
     "output_type": "execute_result"
    }
   ],
   "source": [
    "X.columns[pipe_sfs[\"sequentialfeatureselector\"].get_support()]"
   ]
  },
  {
   "cell_type": "code",
   "execution_count": 70,
   "id": "f2b9e69f",
   "metadata": {},
   "outputs": [],
   "source": [
    "pipe_sfs_log = make_pipeline(pipe_sfs, model)"
   ]
  },
  {
   "cell_type": "code",
   "execution_count": 75,
   "id": "9a1e7aa9",
   "metadata": {},
   "outputs": [
    {
     "name": "stdout",
     "output_type": "stream",
     "text": [
      "{'logisticregression__C': 1.2222222222222223, 'logisticregression__l1_ratio': 1.0, 'logisticregression__penalty': 'elasticnet', 'logisticregression__solver': 'saga'}\n"
     ]
    },
    {
     "data": {
      "text/plain": [
       "-0.5852903165814279"
      ]
     },
     "execution_count": 75,
     "metadata": {},
     "output_type": "execute_result"
    }
   ],
   "source": [
    "#Grid Search\n",
    "param_grid =  {'logisticregression__penalty': ['elasticnet'],\n",
    "               'logisticregression__solver': ['saga'],\n",
    "               'logisticregression__C': np.linspace(1,2,10),\n",
    "               'logisticregression__l1_ratio': np.arange(0,1.1,0.1)\n",
    "              }\n",
    "\n",
    "grid_sfs_log = GridSearchCV(pipe_sfs_log, param_grid, \n",
    "                          cv=10, n_jobs=-1, scoring=\"neg_log_loss\")\n",
    "\n",
    "grid_sfs_log.fit(X_train, y_train);\n",
    "print(grid_sfs_log.best_params_)\n",
    "grid_sfs_log.best_score_"
   ]
  },
  {
   "cell_type": "code",
   "execution_count": 76,
   "id": "17cfc996",
   "metadata": {},
   "outputs": [
    {
     "data": {
      "text/plain": [
       "0.6433111093042795"
      ]
     },
     "execution_count": 76,
     "metadata": {},
     "output_type": "execute_result"
    }
   ],
   "source": [
    "y_pred = search_log.predict(X_test)\n",
    "\n",
    "roc_auc_score(y_test, y_pred)"
   ]
  },
  {
   "cell_type": "code",
   "execution_count": 77,
   "id": "d0b3c58c",
   "metadata": {},
   "outputs": [
    {
     "data": {
      "text/plain": [
       "array([[911,  93],\n",
       "       [365, 223]])"
      ]
     },
     "execution_count": 77,
     "metadata": {},
     "output_type": "execute_result"
    }
   ],
   "source": [
    "confusion_matrix(y_test, y_pred)"
   ]
  },
  {
   "cell_type": "code",
   "execution_count": 78,
   "id": "d7b2ff15",
   "metadata": {},
   "outputs": [
    {
     "name": "stdout",
     "output_type": "stream",
     "text": [
      "              precision    recall  f1-score   support\n",
      "\n",
      "    no_recid       0.71      0.91      0.80      1004\n",
      "    is_recid       0.71      0.38      0.49       588\n",
      "\n",
      "    accuracy                           0.71      1592\n",
      "   macro avg       0.71      0.64      0.65      1592\n",
      "weighted avg       0.71      0.71      0.69      1592\n",
      "\n"
     ]
    }
   ],
   "source": [
    "print(classification_report(y_test, y_pred, target_names=[\"no_recid\", \"is_recid\"]))"
   ]
  },
  {
   "cell_type": "code",
   "execution_count": 99,
   "id": "9736ce57",
   "metadata": {},
   "outputs": [
    {
     "data": {
      "text/plain": [
       "Index(['age', 'juv_misd_count', 'priors_count', 'c_charge_degree_detailed'], dtype='object')"
      ]
     },
     "execution_count": 99,
     "metadata": {},
     "output_type": "execute_result"
    }
   ],
   "source": [
    "# Get selected features\n",
    "sel_feat = grid_sfs_log.best_estimator_.named_steps[\"pipeline\"][\"sequentialfeatureselector\"].get_support()\n",
    "\n",
    "#See selected features\n",
    "X.columns[sel_feat]"
   ]
  },
  {
   "cell_type": "code",
   "execution_count": null,
   "id": "b5b55ce0",
   "metadata": {},
   "outputs": [],
   "source": []
  },
  {
   "cell_type": "code",
   "execution_count": null,
   "id": "46480f14",
   "metadata": {},
   "outputs": [],
   "source": []
  },
  {
   "cell_type": "code",
   "execution_count": null,
   "id": "0781520b",
   "metadata": {},
   "outputs": [],
   "source": []
  },
  {
   "cell_type": "code",
   "execution_count": 101,
   "id": "e1e6614a",
   "metadata": {},
   "outputs": [
    {
     "data": {
      "image/png": "[encoded data removed]",
      "text/plain": [
       "<Figure size 504x360 with 2 Axes>"
      ]
     },
     "metadata": {
      "needs_background": "light"
     },
     "output_type": "display_data"
    }
   ],
   "source": [
    "#sns.heatmap(test.corr(), annot=True)\n",
    "#corr_num = X[feat_numerical].corr()\n",
    "plt.figure(figsize=(7,5))\n",
    "sns.heatmap(test.corr(), cmap='coolwarm',vmin=-1, vmax=1);"
   ]
  },
  {
   "cell_type": "code",
   "execution_count": null,
   "id": "1f52331e",
   "metadata": {},
   "outputs": [],
   "source": [
    "# #Select features for Classification model of general recidivism\n",
    "# # Select age or age_cat, exclude/ include race\n",
    "# columns_clas = [\"id\", \"age\", \"age_cat\", \"sex\", \"race\",  #demographics\n",
    "#                \"juv_fel_count\", \"juv_misd_count\", \"juv_other_count\", \"priors_count\", #criminal history\n",
    "#                \"c_charge_degree\", \"c_charge_desc\", #current charges \n",
    "#                \"two_year_recid\"] #truth\n",
    "\n",
    "# df_clas = df_clean[columns_clas]"
   ]
  },
  {
   "cell_type": "code",
   "execution_count": null,
   "id": "4b4beb0a",
   "metadata": {},
   "outputs": [],
   "source": [
    "# #Change dtype for categorical features\n",
    "# category_cols = ['c_charge_degree', \"race\", \"age_cat\", 'score_text', 'sex', 'two_year_recid']\n",
    "# test_3 = df_clean.copy()\n",
    "# test_3 = test_3.apply(lambda s: s.astype('category') if s.name in category_cols else s)"
   ]
  },
  {
   "cell_type": "code",
   "execution_count": null,
   "id": "0b15ce49",
   "metadata": {},
   "outputs": [],
   "source": []
  },
  {
   "cell_type": "code",
   "execution_count": null,
   "id": "54f8204e",
   "metadata": {},
   "outputs": [],
   "source": []
  }
 ],
 "metadata": {
  "kernelspec": {
   "display_name": "Python 3 (ipykernel)",
   "language": "python",
   "name": "python3"
  },
  "language_info": {
   "codemirror_mode": {
    "name": "ipython",
    "version": 3
   },
   "file_extension": ".py",
   "mimetype": "text/x-python",
   "name": "python",
   "nbconvert_exporter": "python",
   "pygments_lexer": "ipython3",
   "version": "3.8.6"
  },
  "toc": {
   "base_numbering": 1,
   "nav_menu": {},
   "number_sections": true,
   "sideBar": true,
   "skip_h1_title": false,
   "title_cell": "Table of Contents",
   "title_sidebar": "Contents",
   "toc_cell": false,
   "toc_position": {},
   "toc_section_display": true,
   "toc_window_display": true
  }
 },
 "nbformat": 4,
 "nbformat_minor": 5
}
