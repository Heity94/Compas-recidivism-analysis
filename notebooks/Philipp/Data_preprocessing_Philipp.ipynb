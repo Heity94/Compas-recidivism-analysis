{
 "cells": [
  {
   "cell_type": "code",
   "execution_count": 208,
   "id": "c360202c",
   "metadata": {},
   "outputs": [],
   "source": [
    "import numpy as np\n",
    "import pandas as pd\n",
    "import matplotlib.pyplot as plt\n",
    "import seaborn as sns\n",
    "\n",
    "from sklearn.linear_model import LogisticRegression\n",
    "from sklearn.neighbors import KNeighborsClassifier\n",
    "from sklearn.tree import DecisionTreeClassifier, plot_tree\n",
    "from sklearn.preprocessing import LabelEncoder, OneHotEncoder, StandardScaler, MinMaxScaler, OrdinalEncoder\n",
    "from sklearn.impute import KNNImputer, SimpleImputer\n",
    "from sklearn.model_selection import cross_validate, GridSearchCV, train_test_split, RandomizedSearchCV, cross_val_score\n",
    "from sklearn.metrics import confusion_matrix, classification_report, log_loss, roc_auc_score\n",
    "from sklearn.pipeline import make_pipeline, Pipeline\n",
    "from sklearn.feature_selection import SequentialFeatureSelector\n",
    "from sklearn.compose import make_column_selector, make_column_transformer\n",
    "from sklearn.metrics import roc_auc_score\n",
    "from sklearn.inspection import permutation_importance\n",
    "\n",
    "from sklearn import set_config; set_config(display='diagram')"
   ]
  },
  {
   "cell_type": "markdown",
   "id": "1e8d95f6",
   "metadata": {},
   "source": [
    "# Create clean dataframe\n"
   ]
  },
  {
   "cell_type": "markdown",
   "id": "5186a16d",
   "metadata": {},
   "source": [
    "## Load dataset"
   ]
  },
  {
   "cell_type": "code",
   "execution_count": 3,
   "id": "f8d98873",
   "metadata": {},
   "outputs": [],
   "source": [
    "df = pd.read_csv(\"../../data-cleaned/compas-scores-two-years-clean.csv\")"
   ]
  },
  {
   "cell_type": "markdown",
   "id": "711dd7cb",
   "metadata": {},
   "source": [
    "## Filter dataset"
   ]
  },
  {
   "cell_type": "markdown",
   "id": "6206d828",
   "metadata": {},
   "source": [
    "ProPublicas reasoning for filter `raw_data`:\n",
    ">However not all of the rows are useable for the first round of analysis.\n",
    ">There are a number of reasons remove rows because of missing data:\n",
    ">* If the charge date of a defendants Compas scored crime was not within 30 days from when the person was arrested, we assume that because of data quality reasons, that we do not have the right offense.\n",
    ">* We coded the recidivist flag -- `is_recid` -- to be -1 if we could not find a compas case at all.\n",
    ">* In a similar vein, ordinary traffic offenses -- those with a `c_charge_degree` of 'O' -- will not result in Jail time are removed (only two of them).\n",
    ">* We filtered the underlying data from Broward county to include only those rows representing people who had either recidivated in two years, or had at least two years outside of a correctional facility."
   ]
  },
  {
   "cell_type": "code",
   "execution_count": 4,
   "id": "1e98cb8e",
   "metadata": {},
   "outputs": [],
   "source": [
    "df = df[\n",
    "        (df[\"days_b_screening_arrest\"]<=30) \n",
    "        & (df[\"days_b_screening_arrest\"]>=-30) \n",
    "        & (df[\"is_recid\"]!=-1) \n",
    "        & (df[\"c_charge_degree\"]!=\"O\") \n",
    "      ].dropna(subset=['score_text'])"
   ]
  },
  {
   "cell_type": "markdown",
   "id": "6bf4848c",
   "metadata": {},
   "source": [
    "- Since most of the columns in the dataset describe charges after the initial COMPAS screening. Therefore these columns can not be used as predictors. \n",
    "- Furthermore we compared the original questionaire for the COMPAS scoring with the data of our datasets: \n",
    "- From the X sections in the original questionaire we only have data about demographics, criminal history and current charges from the defendant. "
   ]
  },
  {
   "cell_type": "code",
   "execution_count": 5,
   "id": "8b3936ad",
   "metadata": {},
   "outputs": [],
   "source": [
    "# Select columns of interest and store as new df\n",
    "columns = [\"id\", \"age\", \"age_cat\", \"sex\", \"race\",  #demographics\n",
    "           \"juv_fel_count\", \"juv_misd_count\", \"juv_other_count\", \"priors_count\", #criminal history\n",
    "           \"c_charge_degree\", \"c_charge_desc\", #current charges\n",
    "           \"score_text\", \"decile_score\", #compas results for current charges -> target for regression (COMPAS scores for general recidivism)\n",
    "           \"r_charge_degree\", \"r_charge_desc\", #commited crimes (general) within 2 years after COMPAS scoring (no feature for final model, but relevant fro feature engineering)\n",
    "           \"two_year_recid\"] #target for classification \n",
    "df_clean = df[columns]"
   ]
  },
  {
   "cell_type": "code",
   "execution_count": 186,
   "id": "0657037c",
   "metadata": {},
   "outputs": [
    {
     "data": {
      "text/html": [
       "<div>\n",
       "<style scoped>\n",
       "    .dataframe tbody tr th:only-of-type {\n",
       "        vertical-align: middle;\n",
       "    }\n",
       "\n",
       "    .dataframe tbody tr th {\n",
       "        vertical-align: top;\n",
       "    }\n",
       "\n",
       "    .dataframe thead th {\n",
       "        text-align: right;\n",
       "    }\n",
       "</style>\n",
       "<table border=\"1\" class=\"dataframe\">\n",
       "  <thead>\n",
       "    <tr style=\"text-align: right;\">\n",
       "      <th></th>\n",
       "      <th>id</th>\n",
       "      <th>age</th>\n",
       "      <th>age_cat</th>\n",
       "      <th>sex</th>\n",
       "      <th>race</th>\n",
       "      <th>juv_fel_count</th>\n",
       "      <th>juv_misd_count</th>\n",
       "      <th>juv_other_count</th>\n",
       "      <th>priors_count</th>\n",
       "      <th>c_charge_degree</th>\n",
       "      <th>c_charge_desc</th>\n",
       "      <th>score_text</th>\n",
       "      <th>decile_score</th>\n",
       "      <th>r_charge_degree</th>\n",
       "      <th>r_charge_desc</th>\n",
       "      <th>two_year_recid</th>\n",
       "      <th>c_charge_degree_detailed</th>\n",
       "    </tr>\n",
       "  </thead>\n",
       "  <tbody>\n",
       "    <tr>\n",
       "      <th>0</th>\n",
       "      <td>1</td>\n",
       "      <td>69</td>\n",
       "      <td>Greater than 45</td>\n",
       "      <td>Male</td>\n",
       "      <td>Other</td>\n",
       "      <td>0</td>\n",
       "      <td>0</td>\n",
       "      <td>0</td>\n",
       "      <td>0</td>\n",
       "      <td>F</td>\n",
       "      <td>Aggravated Assault w/Firearm</td>\n",
       "      <td>Low</td>\n",
       "      <td>1</td>\n",
       "      <td>NaN</td>\n",
       "      <td>NaN</td>\n",
       "      <td>0</td>\n",
       "      <td>F3</td>\n",
       "    </tr>\n",
       "    <tr>\n",
       "      <th>1</th>\n",
       "      <td>3</td>\n",
       "      <td>34</td>\n",
       "      <td>25 - 45</td>\n",
       "      <td>Male</td>\n",
       "      <td>African-American</td>\n",
       "      <td>0</td>\n",
       "      <td>0</td>\n",
       "      <td>0</td>\n",
       "      <td>0</td>\n",
       "      <td>F</td>\n",
       "      <td>Felony Battery w/Prior Convict</td>\n",
       "      <td>Low</td>\n",
       "      <td>3</td>\n",
       "      <td>(F3)</td>\n",
       "      <td>Felony Battery (Dom Strang)</td>\n",
       "      <td>1</td>\n",
       "      <td>F3</td>\n",
       "    </tr>\n",
       "    <tr>\n",
       "      <th>2</th>\n",
       "      <td>4</td>\n",
       "      <td>24</td>\n",
       "      <td>Less than 25</td>\n",
       "      <td>Male</td>\n",
       "      <td>African-American</td>\n",
       "      <td>0</td>\n",
       "      <td>0</td>\n",
       "      <td>1</td>\n",
       "      <td>4</td>\n",
       "      <td>F</td>\n",
       "      <td>Possession of Cocaine</td>\n",
       "      <td>Low</td>\n",
       "      <td>4</td>\n",
       "      <td>(M1)</td>\n",
       "      <td>Driving Under The Influence</td>\n",
       "      <td>1</td>\n",
       "      <td>F3</td>\n",
       "    </tr>\n",
       "    <tr>\n",
       "      <th>3</th>\n",
       "      <td>7</td>\n",
       "      <td>44</td>\n",
       "      <td>25 - 45</td>\n",
       "      <td>Male</td>\n",
       "      <td>Other</td>\n",
       "      <td>0</td>\n",
       "      <td>0</td>\n",
       "      <td>0</td>\n",
       "      <td>0</td>\n",
       "      <td>M</td>\n",
       "      <td>Battery</td>\n",
       "      <td>Low</td>\n",
       "      <td>1</td>\n",
       "      <td>NaN</td>\n",
       "      <td>NaN</td>\n",
       "      <td>0</td>\n",
       "      <td>M1</td>\n",
       "    </tr>\n",
       "    <tr>\n",
       "      <th>4</th>\n",
       "      <td>8</td>\n",
       "      <td>41</td>\n",
       "      <td>25 - 45</td>\n",
       "      <td>Male</td>\n",
       "      <td>Caucasian</td>\n",
       "      <td>0</td>\n",
       "      <td>0</td>\n",
       "      <td>0</td>\n",
       "      <td>14</td>\n",
       "      <td>F</td>\n",
       "      <td>Possession Burglary Tools</td>\n",
       "      <td>Medium</td>\n",
       "      <td>6</td>\n",
       "      <td>(F2)</td>\n",
       "      <td>Poss of Firearm by Convic Felo</td>\n",
       "      <td>1</td>\n",
       "      <td>F3</td>\n",
       "    </tr>\n",
       "    <tr>\n",
       "      <th>...</th>\n",
       "      <td>...</td>\n",
       "      <td>...</td>\n",
       "      <td>...</td>\n",
       "      <td>...</td>\n",
       "      <td>...</td>\n",
       "      <td>...</td>\n",
       "      <td>...</td>\n",
       "      <td>...</td>\n",
       "      <td>...</td>\n",
       "      <td>...</td>\n",
       "      <td>...</td>\n",
       "      <td>...</td>\n",
       "      <td>...</td>\n",
       "      <td>...</td>\n",
       "      <td>...</td>\n",
       "      <td>...</td>\n",
       "      <td>...</td>\n",
       "    </tr>\n",
       "    <tr>\n",
       "      <th>5299</th>\n",
       "      <td>10995</td>\n",
       "      <td>20</td>\n",
       "      <td>Less than 25</td>\n",
       "      <td>Male</td>\n",
       "      <td>African-American</td>\n",
       "      <td>0</td>\n",
       "      <td>0</td>\n",
       "      <td>0</td>\n",
       "      <td>0</td>\n",
       "      <td>F</td>\n",
       "      <td>Possession of Cocaine</td>\n",
       "      <td>High</td>\n",
       "      <td>9</td>\n",
       "      <td>NaN</td>\n",
       "      <td>NaN</td>\n",
       "      <td>0</td>\n",
       "      <td>F3</td>\n",
       "    </tr>\n",
       "    <tr>\n",
       "      <th>5300</th>\n",
       "      <td>10996</td>\n",
       "      <td>23</td>\n",
       "      <td>Less than 25</td>\n",
       "      <td>Male</td>\n",
       "      <td>African-American</td>\n",
       "      <td>0</td>\n",
       "      <td>0</td>\n",
       "      <td>0</td>\n",
       "      <td>0</td>\n",
       "      <td>F</td>\n",
       "      <td>Deliver Cannabis</td>\n",
       "      <td>Medium</td>\n",
       "      <td>7</td>\n",
       "      <td>NaN</td>\n",
       "      <td>NaN</td>\n",
       "      <td>0</td>\n",
       "      <td>F3</td>\n",
       "    </tr>\n",
       "    <tr>\n",
       "      <th>5301</th>\n",
       "      <td>10997</td>\n",
       "      <td>23</td>\n",
       "      <td>Less than 25</td>\n",
       "      <td>Male</td>\n",
       "      <td>African-American</td>\n",
       "      <td>0</td>\n",
       "      <td>0</td>\n",
       "      <td>0</td>\n",
       "      <td>0</td>\n",
       "      <td>F</td>\n",
       "      <td>Leaving the Scene of Accident</td>\n",
       "      <td>Low</td>\n",
       "      <td>3</td>\n",
       "      <td>NaN</td>\n",
       "      <td>NaN</td>\n",
       "      <td>0</td>\n",
       "      <td>F3</td>\n",
       "    </tr>\n",
       "    <tr>\n",
       "      <th>5302</th>\n",
       "      <td>10999</td>\n",
       "      <td>57</td>\n",
       "      <td>Greater than 45</td>\n",
       "      <td>Male</td>\n",
       "      <td>Other</td>\n",
       "      <td>0</td>\n",
       "      <td>0</td>\n",
       "      <td>0</td>\n",
       "      <td>0</td>\n",
       "      <td>F</td>\n",
       "      <td>Aggravated Battery / Pregnant</td>\n",
       "      <td>Low</td>\n",
       "      <td>1</td>\n",
       "      <td>NaN</td>\n",
       "      <td>NaN</td>\n",
       "      <td>0</td>\n",
       "      <td>F2</td>\n",
       "    </tr>\n",
       "    <tr>\n",
       "      <th>5303</th>\n",
       "      <td>11000</td>\n",
       "      <td>33</td>\n",
       "      <td>25 - 45</td>\n",
       "      <td>Female</td>\n",
       "      <td>African-American</td>\n",
       "      <td>0</td>\n",
       "      <td>0</td>\n",
       "      <td>0</td>\n",
       "      <td>3</td>\n",
       "      <td>M</td>\n",
       "      <td>Battery on Law Enforc Officer</td>\n",
       "      <td>Low</td>\n",
       "      <td>2</td>\n",
       "      <td>NaN</td>\n",
       "      <td>NaN</td>\n",
       "      <td>0</td>\n",
       "      <td>F3</td>\n",
       "    </tr>\n",
       "  </tbody>\n",
       "</table>\n",
       "<p>5304 rows × 17 columns</p>\n",
       "</div>"
      ],
      "text/plain": [
       "         id  age          age_cat     sex              race  juv_fel_count  \\\n",
       "0         1   69  Greater than 45    Male             Other              0   \n",
       "1         3   34          25 - 45    Male  African-American              0   \n",
       "2         4   24     Less than 25    Male  African-American              0   \n",
       "3         7   44          25 - 45    Male             Other              0   \n",
       "4         8   41          25 - 45    Male         Caucasian              0   \n",
       "...     ...  ...              ...     ...               ...            ...   \n",
       "5299  10995   20     Less than 25    Male  African-American              0   \n",
       "5300  10996   23     Less than 25    Male  African-American              0   \n",
       "5301  10997   23     Less than 25    Male  African-American              0   \n",
       "5302  10999   57  Greater than 45    Male             Other              0   \n",
       "5303  11000   33          25 - 45  Female  African-American              0   \n",
       "\n",
       "      juv_misd_count  juv_other_count  priors_count c_charge_degree  \\\n",
       "0                  0                0             0               F   \n",
       "1                  0                0             0               F   \n",
       "2                  0                1             4               F   \n",
       "3                  0                0             0               M   \n",
       "4                  0                0            14               F   \n",
       "...              ...              ...           ...             ...   \n",
       "5299               0                0             0               F   \n",
       "5300               0                0             0               F   \n",
       "5301               0                0             0               F   \n",
       "5302               0                0             0               F   \n",
       "5303               0                0             3               M   \n",
       "\n",
       "                       c_charge_desc score_text  decile_score r_charge_degree  \\\n",
       "0       Aggravated Assault w/Firearm        Low             1             NaN   \n",
       "1     Felony Battery w/Prior Convict        Low             3            (F3)   \n",
       "2              Possession of Cocaine        Low             4            (M1)   \n",
       "3                            Battery        Low             1             NaN   \n",
       "4          Possession Burglary Tools     Medium             6            (F2)   \n",
       "...                              ...        ...           ...             ...   \n",
       "5299           Possession of Cocaine       High             9             NaN   \n",
       "5300                Deliver Cannabis     Medium             7             NaN   \n",
       "5301   Leaving the Scene of Accident        Low             3             NaN   \n",
       "5302   Aggravated Battery / Pregnant        Low             1             NaN   \n",
       "5303   Battery on Law Enforc Officer        Low             2             NaN   \n",
       "\n",
       "                       r_charge_desc  two_year_recid c_charge_degree_detailed  \n",
       "0                                NaN               0                       F3  \n",
       "1        Felony Battery (Dom Strang)               1                       F3  \n",
       "2        Driving Under The Influence               1                       F3  \n",
       "3                                NaN               0                       M1  \n",
       "4     Poss of Firearm by Convic Felo               1                       F3  \n",
       "...                              ...             ...                      ...  \n",
       "5299                             NaN               0                       F3  \n",
       "5300                             NaN               0                       F3  \n",
       "5301                             NaN               0                       F3  \n",
       "5302                             NaN               0                       F2  \n",
       "5303                             NaN               0                       F3  \n",
       "\n",
       "[5304 rows x 17 columns]"
      ]
     },
     "execution_count": 186,
     "metadata": {},
     "output_type": "execute_result"
    }
   ],
   "source": [
    "# Drop duplicates (there are none, but for completness we introduce the step anyhow)\n",
    "df_clean = df_clean.drop_duplicates()"
   ]
  },
  {
   "cell_type": "markdown",
   "id": "ed7936f6",
   "metadata": {},
   "source": [
    "## Check values and dtypes of columns"
   ]
  },
  {
   "cell_type": "code",
   "execution_count": 6,
   "id": "db4b84a0",
   "metadata": {},
   "outputs": [
    {
     "name": "stdout",
     "output_type": "stream",
     "text": [
      "<class 'pandas.core.frame.DataFrame'>\n",
      "Int64Index: 5304 entries, 0 to 6215\n",
      "Data columns (total 16 columns):\n",
      " #   Column           Non-Null Count  Dtype \n",
      "---  ------           --------------  ----- \n",
      " 0   id               5304 non-null   int64 \n",
      " 1   age              5304 non-null   int64 \n",
      " 2   age_cat          5304 non-null   object\n",
      " 3   sex              5304 non-null   object\n",
      " 4   race             5304 non-null   object\n",
      " 5   juv_fel_count    5304 non-null   int64 \n",
      " 6   juv_misd_count   5304 non-null   int64 \n",
      " 7   juv_other_count  5304 non-null   int64 \n",
      " 8   priors_count     5304 non-null   int64 \n",
      " 9   c_charge_degree  5304 non-null   object\n",
      " 10  c_charge_desc    5299 non-null   object\n",
      " 11  score_text       5304 non-null   object\n",
      " 12  decile_score     5304 non-null   int64 \n",
      " 13  r_charge_degree  2122 non-null   object\n",
      " 14  r_charge_desc    2095 non-null   object\n",
      " 15  two_year_recid   5304 non-null   int64 \n",
      "dtypes: int64(8), object(8)\n",
      "memory usage: 704.4+ KB\n"
     ]
    }
   ],
   "source": [
    "df_clean.info()"
   ]
  },
  {
   "cell_type": "markdown",
   "id": "045e0a50",
   "metadata": {},
   "source": [
    "- Some columns contain null values, but out of these only `c_charge_desc`will be relevant for modeling, since the other columns contain data which was generated after the COMPAS screening, an thus can not be used \n",
    "- The imputing of missing values will be performed during the preprocessing "
   ]
  },
  {
   "cell_type": "markdown",
   "id": "962b579e",
   "metadata": {},
   "source": [
    "# Feature Engineering: Create feature `c_charge_degree_detailed`"
   ]
  },
  {
   "cell_type": "markdown",
   "id": "2a79713e",
   "metadata": {},
   "source": [
    "- The current charges of the ProPublica dataset are categorized as felonies or misdemeanors `c_charge_degreee``\n",
    "- The `c_charge_desc` contains the description of the crime (e.g. murder, Grand theft ...)\n",
    "- In Florida each crime is based on the severness categorised into different level/ classes of misdemeanors or felonies"
   ]
  },
  {
   "cell_type": "code",
   "execution_count": 7,
   "id": "1a1156d7",
   "metadata": {},
   "outputs": [
    {
     "name": "stdout",
     "output_type": "stream",
     "text": [
      "Unique charges in the dataset: 359\n",
      "Unique charges for felonies: 266\n",
      "Unique charges for misdemeanors: 126\n"
     ]
    }
   ],
   "source": [
    "# There are 358 unique charges in the dataset in total (wo NaN)\n",
    "print(\"Unique charges in the dataset:\", len(df_clean.c_charge_desc.unique()))\n",
    "\n",
    "# There are 265 unqiue charges for felonies (23 of them also exist in misdemeanor) (wo NaN)\n",
    "print(\"Unique charges for felonies:\", len(df_clean[df_clean[\"c_charge_degree\"]==\"F\"]\n",
    "                                          [[\"c_charge_degree\", \"c_charge_desc\"]]\n",
    "                                          .c_charge_desc.unique()))\n",
    "\n",
    "# There are 125 unqiue charges for misdemeanors  (wo NaN)\n",
    "print(\"Unique charges for misdemeanors:\", len(df_clean[df_clean[\"c_charge_degree\"]==\"M\"]\n",
    "                                              [[\"c_charge_degree\", \"c_charge_desc\"]]\n",
    "                                              .c_charge_desc.unique()))"
   ]
  },
  {
   "cell_type": "markdown",
   "id": "7cf6a499",
   "metadata": {},
   "source": [
    "- In order to reduce the variaty of charges we created a new feature to cluster each crime into the correct level\n",
    "- The original dataset already contains the more detailed degree of crimes, but only for the recidivist crimes\n",
    "- We first used these crimes and map them against the current charges "
   ]
  },
  {
   "cell_type": "code",
   "execution_count": 8,
   "id": "17ab3fd6",
   "metadata": {},
   "outputs": [
    {
     "data": {
      "text/plain": [
       "array([nan, '(F3)', '(M1)', '(F2)', '(M2)', '(MO3)', '(F1)', '(F6)',\n",
       "       '(F7)', '(CO3)', '(F5)'], dtype=object)"
      ]
     },
     "execution_count": 8,
     "metadata": {},
     "output_type": "execute_result"
    }
   ],
   "source": [
    "# check unique values/ classes of charges \n",
    "df_clean.r_charge_degree.unique()"
   ]
  },
  {
   "cell_type": "code",
   "execution_count": 9,
   "id": "a0f8249a",
   "metadata": {},
   "outputs": [],
   "source": [
    "# Create lookup table for c_charge_degree_detailed based on c_charge_desc\n",
    "lookup_c_charge_degree = pd.merge(\n",
    "    df_clean[[\"c_charge_desc\"]], \n",
    "    df_clean[\n",
    "        (df_clean[\"r_charge_degree\"]!='(MO3)') & #filter out classes of felonies and misdemeanors who do not exist\n",
    "        (df_clean[\"r_charge_degree\"]!='(F6)') &\n",
    "        (df_clean[\"r_charge_degree\"]!='(F7)') &\n",
    "        (df_clean[\"r_charge_degree\"]!='(CO3)') & \n",
    "        (df_clean[\"r_charge_degree\"]!='(F5)') &\n",
    "        (df_clean[\"r_charge_degree\"]!=np.nan)\n",
    "        ][[\"r_charge_degree\", \"r_charge_desc\"]], \n",
    "    left_on=\"c_charge_desc\", \n",
    "    right_on=\"r_charge_desc\")"
   ]
  },
  {
   "cell_type": "code",
   "execution_count": 10,
   "id": "0561483c",
   "metadata": {},
   "outputs": [
    {
     "data": {
      "text/html": [
       "<div>\n",
       "<style scoped>\n",
       "    .dataframe tbody tr th:only-of-type {\n",
       "        vertical-align: middle;\n",
       "    }\n",
       "\n",
       "    .dataframe tbody tr th {\n",
       "        vertical-align: top;\n",
       "    }\n",
       "\n",
       "    .dataframe thead th {\n",
       "        text-align: right;\n",
       "    }\n",
       "</style>\n",
       "<table border=\"1\" class=\"dataframe\">\n",
       "  <thead>\n",
       "    <tr style=\"text-align: right;\">\n",
       "      <th></th>\n",
       "      <th>c_charge_desc</th>\n",
       "      <th>c_charge_degree_detailed</th>\n",
       "    </tr>\n",
       "  </thead>\n",
       "  <tbody>\n",
       "    <tr>\n",
       "      <th>0</th>\n",
       "      <td>Felony Battery w/Prior Convict</td>\n",
       "      <td>(F3)</td>\n",
       "    </tr>\n",
       "    <tr>\n",
       "      <th>1</th>\n",
       "      <td>Possession of Cocaine</td>\n",
       "      <td>(F3)</td>\n",
       "    </tr>\n",
       "    <tr>\n",
       "      <th>2</th>\n",
       "      <td>Possession of Cocaine</td>\n",
       "      <td>(M1)</td>\n",
       "    </tr>\n",
       "    <tr>\n",
       "      <th>3</th>\n",
       "      <td>Battery</td>\n",
       "      <td>(M1)</td>\n",
       "    </tr>\n",
       "    <tr>\n",
       "      <th>4</th>\n",
       "      <td>Battery</td>\n",
       "      <td>(M2)</td>\n",
       "    </tr>\n",
       "    <tr>\n",
       "      <th>...</th>\n",
       "      <td>...</td>\n",
       "      <td>...</td>\n",
       "    </tr>\n",
       "    <tr>\n",
       "      <th>169</th>\n",
       "      <td>Deliver Cannabis 1000FTSch</td>\n",
       "      <td>(F2)</td>\n",
       "    </tr>\n",
       "    <tr>\n",
       "      <th>170</th>\n",
       "      <td>Sex Batt Faml/Cust Vict 12-17Y</td>\n",
       "      <td>(F1)</td>\n",
       "    </tr>\n",
       "    <tr>\n",
       "      <th>171</th>\n",
       "      <td>Possession Of Clonazepam</td>\n",
       "      <td>(F3)</td>\n",
       "    </tr>\n",
       "    <tr>\n",
       "      <th>172</th>\n",
       "      <td>Deliver Cocaine 1000FT School</td>\n",
       "      <td>(F1)</td>\n",
       "    </tr>\n",
       "    <tr>\n",
       "      <th>173</th>\n",
       "      <td>Deliver Cocaine 1000FT Park</td>\n",
       "      <td>(F1)</td>\n",
       "    </tr>\n",
       "  </tbody>\n",
       "</table>\n",
       "<p>174 rows × 2 columns</p>\n",
       "</div>"
      ],
      "text/plain": [
       "                      c_charge_desc c_charge_degree_detailed\n",
       "0    Felony Battery w/Prior Convict                     (F3)\n",
       "1             Possession of Cocaine                     (F3)\n",
       "2             Possession of Cocaine                     (M1)\n",
       "3                           Battery                     (M1)\n",
       "4                           Battery                     (M2)\n",
       "..                              ...                      ...\n",
       "169      Deliver Cannabis 1000FTSch                     (F2)\n",
       "170  Sex Batt Faml/Cust Vict 12-17Y                     (F1)\n",
       "171        Possession Of Clonazepam                     (F3)\n",
       "172   Deliver Cocaine 1000FT School                     (F1)\n",
       "173     Deliver Cocaine 1000FT Park                     (F1)\n",
       "\n",
       "[174 rows x 2 columns]"
      ]
     },
     "execution_count": 10,
     "metadata": {},
     "output_type": "execute_result"
    }
   ],
   "source": [
    "#drop duplicated c_charge_desc so we end up with unique charges and degrees\n",
    "lookup_c_charge_degree = lookup_c_charge_degree[[\"c_charge_desc\", \"r_charge_degree\"]].drop_duplicates()\n",
    "lookup_c_charge_degree.columns = [\"c_charge_desc\", \"c_charge_degree_detailed\"]\n",
    "\n",
    "#reset index \n",
    "lookup_c_charge_degree = lookup_c_charge_degree.reset_index(drop=True)\n",
    "lookup_c_charge_degree"
   ]
  },
  {
   "cell_type": "code",
   "execution_count": 11,
   "id": "fe2f5421",
   "metadata": {},
   "outputs": [
    {
     "data": {
      "text/html": [
       "<div>\n",
       "<style scoped>\n",
       "    .dataframe tbody tr th:only-of-type {\n",
       "        vertical-align: middle;\n",
       "    }\n",
       "\n",
       "    .dataframe tbody tr th {\n",
       "        vertical-align: top;\n",
       "    }\n",
       "\n",
       "    .dataframe thead th {\n",
       "        text-align: right;\n",
       "    }\n",
       "</style>\n",
       "<table border=\"1\" class=\"dataframe\">\n",
       "  <thead>\n",
       "    <tr style=\"text-align: right;\">\n",
       "      <th></th>\n",
       "      <th>c_charge_desc</th>\n",
       "      <th>c_charge_degree_detailed</th>\n",
       "    </tr>\n",
       "  </thead>\n",
       "  <tbody>\n",
       "    <tr>\n",
       "      <th>1</th>\n",
       "      <td>Possession of Cocaine</td>\n",
       "      <td>(F3)</td>\n",
       "    </tr>\n",
       "    <tr>\n",
       "      <th>2</th>\n",
       "      <td>Possession of Cocaine</td>\n",
       "      <td>(M1)</td>\n",
       "    </tr>\n",
       "    <tr>\n",
       "      <th>3</th>\n",
       "      <td>Battery</td>\n",
       "      <td>(M1)</td>\n",
       "    </tr>\n",
       "    <tr>\n",
       "      <th>4</th>\n",
       "      <td>Battery</td>\n",
       "      <td>(M2)</td>\n",
       "    </tr>\n",
       "    <tr>\n",
       "      <th>12</th>\n",
       "      <td>Susp Drivers Lic 1st Offense</td>\n",
       "      <td>(M2)</td>\n",
       "    </tr>\n",
       "    <tr>\n",
       "      <th>13</th>\n",
       "      <td>Susp Drivers Lic 1st Offense</td>\n",
       "      <td>(M1)</td>\n",
       "    </tr>\n",
       "    <tr>\n",
       "      <th>29</th>\n",
       "      <td>False Ownership Info/Pawn Item</td>\n",
       "      <td>(F3)</td>\n",
       "    </tr>\n",
       "    <tr>\n",
       "      <th>30</th>\n",
       "      <td>False Ownership Info/Pawn Item</td>\n",
       "      <td>(F2)</td>\n",
       "    </tr>\n",
       "    <tr>\n",
       "      <th>36</th>\n",
       "      <td>Petit Theft</td>\n",
       "      <td>(M2)</td>\n",
       "    </tr>\n",
       "    <tr>\n",
       "      <th>37</th>\n",
       "      <td>Petit Theft</td>\n",
       "      <td>(M1)</td>\n",
       "    </tr>\n",
       "    <tr>\n",
       "      <th>42</th>\n",
       "      <td>Driving Under The Influence</td>\n",
       "      <td>(M1)</td>\n",
       "    </tr>\n",
       "    <tr>\n",
       "      <th>43</th>\n",
       "      <td>Driving Under The Influence</td>\n",
       "      <td>(M2)</td>\n",
       "    </tr>\n",
       "    <tr>\n",
       "      <th>52</th>\n",
       "      <td>Burglary Unoccupied Dwelling</td>\n",
       "      <td>(F2)</td>\n",
       "    </tr>\n",
       "    <tr>\n",
       "      <th>53</th>\n",
       "      <td>Burglary Unoccupied Dwelling</td>\n",
       "      <td>(F3)</td>\n",
       "    </tr>\n",
       "    <tr>\n",
       "      <th>64</th>\n",
       "      <td>Aggravated Battery / Pregnant</td>\n",
       "      <td>(F2)</td>\n",
       "    </tr>\n",
       "    <tr>\n",
       "      <th>65</th>\n",
       "      <td>Aggravated Battery / Pregnant</td>\n",
       "      <td>(M1)</td>\n",
       "    </tr>\n",
       "    <tr>\n",
       "      <th>87</th>\n",
       "      <td>Opert With Susp DL 2nd Offens</td>\n",
       "      <td>(M1)</td>\n",
       "    </tr>\n",
       "    <tr>\n",
       "      <th>88</th>\n",
       "      <td>Opert With Susp DL 2nd Offens</td>\n",
       "      <td>(M2)</td>\n",
       "    </tr>\n",
       "  </tbody>\n",
       "</table>\n",
       "</div>"
      ],
      "text/plain": [
       "                     c_charge_desc c_charge_degree_detailed\n",
       "1            Possession of Cocaine                     (F3)\n",
       "2            Possession of Cocaine                     (M1)\n",
       "3                          Battery                     (M1)\n",
       "4                          Battery                     (M2)\n",
       "12    Susp Drivers Lic 1st Offense                     (M2)\n",
       "13    Susp Drivers Lic 1st Offense                     (M1)\n",
       "29  False Ownership Info/Pawn Item                     (F3)\n",
       "30  False Ownership Info/Pawn Item                     (F2)\n",
       "36                     Petit Theft                     (M2)\n",
       "37                     Petit Theft                     (M1)\n",
       "42     Driving Under The Influence                     (M1)\n",
       "43     Driving Under The Influence                     (M2)\n",
       "52    Burglary Unoccupied Dwelling                     (F2)\n",
       "53    Burglary Unoccupied Dwelling                     (F3)\n",
       "64   Aggravated Battery / Pregnant                     (F2)\n",
       "65   Aggravated Battery / Pregnant                     (M1)\n",
       "87   Opert With Susp DL 2nd Offens                     (M1)\n",
       "88   Opert With Susp DL 2nd Offens                     (M2)"
      ]
     },
     "execution_count": 11,
     "metadata": {},
     "output_type": "execute_result"
    }
   ],
   "source": [
    "#Find charges which do have multiple charge_degrees\n",
    "lookup_c_charge_degree.groupby(\"c_charge_desc\").filter(lambda x: len(x) > 1)"
   ]
  },
  {
   "cell_type": "code",
   "execution_count": 12,
   "id": "c72c1437",
   "metadata": {},
   "outputs": [],
   "source": [
    "#Decide for one degree for each duplicate -> we keep the harder class degrees (based on online research)\n",
    "rows_to_drop = [2, 4, 12, 13, 29, 36, 43, 53, 65, 88]\n",
    "\n",
    "#drop rows based on index \n",
    "lookup_c_charge_degree = lookup_c_charge_degree.drop(index=rows_to_drop)"
   ]
  },
  {
   "cell_type": "code",
   "execution_count": 13,
   "id": "487f2cff",
   "metadata": {},
   "outputs": [
    {
     "data": {
      "text/html": [
       "<div>\n",
       "<style scoped>\n",
       "    .dataframe tbody tr th:only-of-type {\n",
       "        vertical-align: middle;\n",
       "    }\n",
       "\n",
       "    .dataframe tbody tr th {\n",
       "        vertical-align: top;\n",
       "    }\n",
       "\n",
       "    .dataframe thead th {\n",
       "        text-align: right;\n",
       "    }\n",
       "</style>\n",
       "<table border=\"1\" class=\"dataframe\">\n",
       "  <thead>\n",
       "    <tr style=\"text-align: right;\">\n",
       "      <th></th>\n",
       "      <th>c_charge_desc</th>\n",
       "      <th>c_charge_degree_detailed</th>\n",
       "    </tr>\n",
       "  </thead>\n",
       "  <tbody>\n",
       "  </tbody>\n",
       "</table>\n",
       "</div>"
      ],
      "text/plain": [
       "Empty DataFrame\n",
       "Columns: [c_charge_desc, c_charge_degree_detailed]\n",
       "Index: []"
      ]
     },
     "execution_count": 13,
     "metadata": {},
     "output_type": "execute_result"
    }
   ],
   "source": [
    "#check that there are no more duplicates \n",
    "lookup_c_charge_degree.groupby(\"c_charge_desc\").filter(lambda x: len(x) > 1)"
   ]
  },
  {
   "cell_type": "code",
   "execution_count": 14,
   "id": "742feb2f",
   "metadata": {},
   "outputs": [],
   "source": [
    "#set index to c_charge_desc and drop row with c_charge_desc = NaN\n",
    "lookup_c_charge_degree.set_index(\"c_charge_desc\", inplace=True)\n",
    "lookup_c_charge_degree = lookup_c_charge_degree[lookup_c_charge_degree.index.notnull()]\n",
    "\n",
    "#Remove parenthesis from the labels \n",
    "lookup_c_charge_degree[\"c_charge_degree_detailed\"] = lookup_c_charge_degree.c_charge_degree_detailed.str.strip(\"( )\")"
   ]
  },
  {
   "cell_type": "code",
   "execution_count": 15,
   "id": "3f1392c3",
   "metadata": {},
   "outputs": [],
   "source": [
    "#Use lookup table to label charges based on description\n",
    "charges_to_label = df_clean.merge(lookup_c_charge_degree, how=\"left\", left_on=\"c_charge_desc\", right_index=True)"
   ]
  },
  {
   "cell_type": "code",
   "execution_count": 16,
   "id": "7de505fa",
   "metadata": {},
   "outputs": [
    {
     "data": {
      "text/plain": [
       "(4099, 17)"
      ]
     },
     "execution_count": 16,
     "metadata": {},
     "output_type": "execute_result"
    }
   ],
   "source": [
    "charges_to_label[charges_to_label[\"c_charge_degree_detailed\"].notna()].shape"
   ]
  },
  {
   "cell_type": "markdown",
   "id": "f8fbdbd7",
   "metadata": {},
   "source": [
    "- 4099 of the 5304 cases could be labeled automatically based on the r_charge_degree \n",
    "- The remaining chases/charges need to be labeled manually"
   ]
  },
  {
   "cell_type": "markdown",
   "id": "d7042dbb",
   "metadata": {},
   "source": [
    "## Create list for charges which could not be matched automatically and need to be labeled manually"
   ]
  },
  {
   "cell_type": "code",
   "execution_count": 17,
   "id": "cb0741c1",
   "metadata": {},
   "outputs": [],
   "source": [
    "#Filter for rows which could not be labeled by the current lookup table (because they did not exist in r_charge_desc)\n",
    "charges_to_label = charges_to_label[charges_to_label[\"c_charge_degree_detailed\"].isnull()]"
   ]
  },
  {
   "cell_type": "code",
   "execution_count": 18,
   "id": "83602c98",
   "metadata": {},
   "outputs": [
    {
     "data": {
      "text/html": [
       "<div>\n",
       "<style scoped>\n",
       "    .dataframe tbody tr th:only-of-type {\n",
       "        vertical-align: middle;\n",
       "    }\n",
       "\n",
       "    .dataframe tbody tr th {\n",
       "        vertical-align: top;\n",
       "    }\n",
       "\n",
       "    .dataframe thead th {\n",
       "        text-align: right;\n",
       "    }\n",
       "</style>\n",
       "<table border=\"1\" class=\"dataframe\">\n",
       "  <thead>\n",
       "    <tr style=\"text-align: right;\">\n",
       "      <th></th>\n",
       "      <th>count</th>\n",
       "      <th>c_charge_degree_detailed</th>\n",
       "    </tr>\n",
       "    <tr>\n",
       "      <th>c_charge_desc</th>\n",
       "      <th></th>\n",
       "      <th></th>\n",
       "    </tr>\n",
       "  </thead>\n",
       "  <tbody>\n",
       "    <tr>\n",
       "      <th>arrest case no charge</th>\n",
       "      <td>684</td>\n",
       "      <td></td>\n",
       "    </tr>\n",
       "    <tr>\n",
       "      <th>Felony Driving While Lic Suspd</th>\n",
       "      <td>73</td>\n",
       "      <td></td>\n",
       "    </tr>\n",
       "    <tr>\n",
       "      <th>Susp Drivers Lic 1st Offense</th>\n",
       "      <td>45</td>\n",
       "      <td></td>\n",
       "    </tr>\n",
       "    <tr>\n",
       "      <th>Aggravated Assault w/Firearm</th>\n",
       "      <td>20</td>\n",
       "      <td></td>\n",
       "    </tr>\n",
       "    <tr>\n",
       "      <th>Poss Contr Subst W/o Prescript</th>\n",
       "      <td>15</td>\n",
       "      <td></td>\n",
       "    </tr>\n",
       "    <tr>\n",
       "      <th>...</th>\n",
       "      <td>...</td>\n",
       "      <td>...</td>\n",
       "    </tr>\n",
       "    <tr>\n",
       "      <th>False Name By Person Arrest</th>\n",
       "      <td>1</td>\n",
       "      <td></td>\n",
       "    </tr>\n",
       "    <tr>\n",
       "      <th>Falsely Impersonating Officer</th>\n",
       "      <td>1</td>\n",
       "      <td></td>\n",
       "    </tr>\n",
       "    <tr>\n",
       "      <th>Grand Theft of a Fire Extinquisher</th>\n",
       "      <td>1</td>\n",
       "      <td></td>\n",
       "    </tr>\n",
       "    <tr>\n",
       "      <th>Hiring with Intent to Defraud</th>\n",
       "      <td>1</td>\n",
       "      <td></td>\n",
       "    </tr>\n",
       "    <tr>\n",
       "      <th>Lewd/Lasc Exhib Presence &lt;16yr</th>\n",
       "      <td>1</td>\n",
       "      <td></td>\n",
       "    </tr>\n",
       "  </tbody>\n",
       "</table>\n",
       "<p>199 rows × 2 columns</p>\n",
       "</div>"
      ],
      "text/plain": [
       "                                    count c_charge_degree_detailed\n",
       "c_charge_desc                                                     \n",
       "arrest case no charge                 684                         \n",
       "Felony Driving While Lic Suspd         73                         \n",
       "Susp Drivers Lic 1st Offense           45                         \n",
       "Aggravated Assault w/Firearm           20                         \n",
       "Poss Contr Subst W/o Prescript         15                         \n",
       "...                                   ...                      ...\n",
       "False Name By Person Arrest             1                         \n",
       "Falsely Impersonating Officer           1                         \n",
       "Grand Theft of a Fire Extinquisher      1                         \n",
       "Hiring with Intent to Defraud           1                         \n",
       "Lewd/Lasc Exhib Presence <16yr          1                         \n",
       "\n",
       "[199 rows x 2 columns]"
      ]
     },
     "execution_count": 18,
     "metadata": {},
     "output_type": "execute_result"
    }
   ],
   "source": [
    "# Create list of unique charges which could not be labeled. These charges need to be labeled manually (online research)\n",
    "charges_to_label_list = charges_to_label.groupby(\"c_charge_desc\")[[\"id\"]].count().sort_values(by=\"id\", ascending=False)\n",
    "charges_to_label_list[\"c_charge_degree_detailed\"]=\"\"\n",
    "charges_to_label_list.columns = ['count', 'c_charge_degree_detailed']\n",
    "\n",
    "charges_to_label_list"
   ]
  },
  {
   "cell_type": "markdown",
   "id": "93b93035",
   "metadata": {},
   "source": [
    "There are 684 cases where the defendant wasn't pressed with charges. These cases will be decoded as `0`"
   ]
  },
  {
   "cell_type": "code",
   "execution_count": 19,
   "id": "14a15135",
   "metadata": {},
   "outputs": [],
   "source": [
    "# Export to .csv file so the charges can be labeled manually (only has to be executed once)\n",
    "# charges_to_label_list.to_csv(\"charges_to_label.csv\")"
   ]
  },
  {
   "cell_type": "markdown",
   "id": "807a2fb0",
   "metadata": {},
   "source": [
    "## Import manually labeld .csv file and combine with `lookup_c_charge_degree` to create master lookup table"
   ]
  },
  {
   "cell_type": "code",
   "execution_count": 20,
   "id": "58169555",
   "metadata": {},
   "outputs": [],
   "source": [
    "# import labeled data\n",
    "labeled_charges_man = pd.read_csv(\"charges_labeled_man.csv\", index_col=0).set_index(\"c_charge_desc\")[[\"c_charge_degree_detailed\"]]"
   ]
  },
  {
   "cell_type": "code",
   "execution_count": 21,
   "id": "adc408d8",
   "metadata": {},
   "outputs": [],
   "source": [
    "#Create master lookup table by combining manually labeled data with automatically labeled data\n",
    "lookup_c_charge_degree_master = pd.concat([lookup_c_charge_degree, labeled_charges_man], axis=0)"
   ]
  },
  {
   "cell_type": "code",
   "execution_count": 22,
   "id": "77584d6d",
   "metadata": {},
   "outputs": [],
   "source": [
    "# Save master lookup table as .csv so it can be imported directly (only has to be executed once)\n",
    "#lookup_c_charge_degree_master.to_csv(\"labeled_charges_master.csv\")"
   ]
  },
  {
   "cell_type": "markdown",
   "id": "2b7f6aad",
   "metadata": {},
   "source": [
    "## Map charge degree to all cases and store in new feature column `c_charge_degree_detailed`"
   ]
  },
  {
   "cell_type": "code",
   "execution_count": 23,
   "id": "8a17f381",
   "metadata": {},
   "outputs": [],
   "source": [
    "# Load master lookup table\n",
    "labeled_charges_master = pd.read_csv(\"labeled_charges_master.csv\", index_col=\"c_charge_desc\")"
   ]
  },
  {
   "cell_type": "code",
   "execution_count": 24,
   "id": "609a3edf",
   "metadata": {},
   "outputs": [],
   "source": [
    "# Map charge degree to all cases and store in new column \"c_charge_degree_detailed\"\n",
    "df_clean = df_clean.merge(labeled_charges_master, how=\"left\", left_on=\"c_charge_desc\", right_index=True)\n",
    "df_clean.reset_index(drop=True, inplace=True)"
   ]
  },
  {
   "cell_type": "code",
   "execution_count": 141,
   "id": "ef291d97",
   "metadata": {},
   "outputs": [
    {
     "data": {
      "text/plain": [
       "<AxesSubplot:xlabel='c_charge_degree_detailed', ylabel='count'>"
      ]
     },
     "execution_count": 141,
     "metadata": {},
     "output_type": "execute_result"
    },
    {
     "data": {
      "image/png": "[encoded data removed]",
      "text/plain": [
       "<Figure size 432x288 with 1 Axes>"
      ]
     },
     "metadata": {
      "needs_background": "light"
     },
     "output_type": "display_data"
    }
   ],
   "source": [
    "sns.countplot(x=\"c_charge_degree_detailed\", data=df_clean, order=[\"0\",\"M2\", \"M1\", \"F3\", \"F2\", \"F1\"])"
   ]
  },
  {
   "cell_type": "code",
   "execution_count": 25,
   "id": "0a03ae35",
   "metadata": {},
   "outputs": [
    {
     "data": {
      "text/html": [
       "<div>\n",
       "<style scoped>\n",
       "    .dataframe tbody tr th:only-of-type {\n",
       "        vertical-align: middle;\n",
       "    }\n",
       "\n",
       "    .dataframe tbody tr th {\n",
       "        vertical-align: top;\n",
       "    }\n",
       "\n",
       "    .dataframe thead th {\n",
       "        text-align: right;\n",
       "    }\n",
       "</style>\n",
       "<table border=\"1\" class=\"dataframe\">\n",
       "  <thead>\n",
       "    <tr style=\"text-align: right;\">\n",
       "      <th></th>\n",
       "      <th>id</th>\n",
       "      <th>age</th>\n",
       "      <th>age_cat</th>\n",
       "      <th>sex</th>\n",
       "      <th>race</th>\n",
       "      <th>juv_fel_count</th>\n",
       "      <th>juv_misd_count</th>\n",
       "      <th>juv_other_count</th>\n",
       "      <th>priors_count</th>\n",
       "      <th>c_charge_degree</th>\n",
       "      <th>c_charge_desc</th>\n",
       "      <th>score_text</th>\n",
       "      <th>decile_score</th>\n",
       "      <th>r_charge_degree</th>\n",
       "      <th>r_charge_desc</th>\n",
       "      <th>two_year_recid</th>\n",
       "      <th>c_charge_degree_detailed</th>\n",
       "    </tr>\n",
       "  </thead>\n",
       "  <tbody>\n",
       "    <tr>\n",
       "      <th>114</th>\n",
       "      <td>243</td>\n",
       "      <td>39</td>\n",
       "      <td>25 - 45</td>\n",
       "      <td>Male</td>\n",
       "      <td>Caucasian</td>\n",
       "      <td>1</td>\n",
       "      <td>0</td>\n",
       "      <td>0</td>\n",
       "      <td>1</td>\n",
       "      <td>M</td>\n",
       "      <td>NaN</td>\n",
       "      <td>Low</td>\n",
       "      <td>4</td>\n",
       "      <td>NaN</td>\n",
       "      <td>NaN</td>\n",
       "      <td>0</td>\n",
       "      <td>NaN</td>\n",
       "    </tr>\n",
       "    <tr>\n",
       "      <th>2191</th>\n",
       "      <td>4521</td>\n",
       "      <td>27</td>\n",
       "      <td>25 - 45</td>\n",
       "      <td>Female</td>\n",
       "      <td>Caucasian</td>\n",
       "      <td>0</td>\n",
       "      <td>0</td>\n",
       "      <td>0</td>\n",
       "      <td>0</td>\n",
       "      <td>F</td>\n",
       "      <td>NaN</td>\n",
       "      <td>Medium</td>\n",
       "      <td>5</td>\n",
       "      <td>NaN</td>\n",
       "      <td>NaN</td>\n",
       "      <td>0</td>\n",
       "      <td>NaN</td>\n",
       "    </tr>\n",
       "    <tr>\n",
       "      <th>4031</th>\n",
       "      <td>8299</td>\n",
       "      <td>27</td>\n",
       "      <td>25 - 45</td>\n",
       "      <td>Male</td>\n",
       "      <td>African-American</td>\n",
       "      <td>0</td>\n",
       "      <td>0</td>\n",
       "      <td>0</td>\n",
       "      <td>2</td>\n",
       "      <td>F</td>\n",
       "      <td>NaN</td>\n",
       "      <td>Low</td>\n",
       "      <td>4</td>\n",
       "      <td>NaN</td>\n",
       "      <td>NaN</td>\n",
       "      <td>0</td>\n",
       "      <td>NaN</td>\n",
       "    </tr>\n",
       "    <tr>\n",
       "      <th>4202</th>\n",
       "      <td>8679</td>\n",
       "      <td>27</td>\n",
       "      <td>25 - 45</td>\n",
       "      <td>Male</td>\n",
       "      <td>African-American</td>\n",
       "      <td>0</td>\n",
       "      <td>0</td>\n",
       "      <td>0</td>\n",
       "      <td>2</td>\n",
       "      <td>F</td>\n",
       "      <td>NaN</td>\n",
       "      <td>Low</td>\n",
       "      <td>3</td>\n",
       "      <td>NaN</td>\n",
       "      <td>NaN</td>\n",
       "      <td>0</td>\n",
       "      <td>NaN</td>\n",
       "    </tr>\n",
       "    <tr>\n",
       "      <th>5183</th>\n",
       "      <td>10737</td>\n",
       "      <td>69</td>\n",
       "      <td>Greater than 45</td>\n",
       "      <td>Female</td>\n",
       "      <td>Caucasian</td>\n",
       "      <td>0</td>\n",
       "      <td>0</td>\n",
       "      <td>0</td>\n",
       "      <td>5</td>\n",
       "      <td>F</td>\n",
       "      <td>NaN</td>\n",
       "      <td>Low</td>\n",
       "      <td>3</td>\n",
       "      <td>NaN</td>\n",
       "      <td>NaN</td>\n",
       "      <td>0</td>\n",
       "      <td>NaN</td>\n",
       "    </tr>\n",
       "  </tbody>\n",
       "</table>\n",
       "</div>"
      ],
      "text/plain": [
       "         id  age          age_cat     sex              race  juv_fel_count  \\\n",
       "114     243   39          25 - 45    Male         Caucasian              1   \n",
       "2191   4521   27          25 - 45  Female         Caucasian              0   \n",
       "4031   8299   27          25 - 45    Male  African-American              0   \n",
       "4202   8679   27          25 - 45    Male  African-American              0   \n",
       "5183  10737   69  Greater than 45  Female         Caucasian              0   \n",
       "\n",
       "      juv_misd_count  juv_other_count  priors_count c_charge_degree  \\\n",
       "114                0                0             1               M   \n",
       "2191               0                0             0               F   \n",
       "4031               0                0             2               F   \n",
       "4202               0                0             2               F   \n",
       "5183               0                0             5               F   \n",
       "\n",
       "     c_charge_desc score_text  decile_score r_charge_degree r_charge_desc  \\\n",
       "114            NaN        Low             4             NaN           NaN   \n",
       "2191           NaN     Medium             5             NaN           NaN   \n",
       "4031           NaN        Low             4             NaN           NaN   \n",
       "4202           NaN        Low             3             NaN           NaN   \n",
       "5183           NaN        Low             3             NaN           NaN   \n",
       "\n",
       "      two_year_recid c_charge_degree_detailed  \n",
       "114                0                      NaN  \n",
       "2191               0                      NaN  \n",
       "4031               0                      NaN  \n",
       "4202               0                      NaN  \n",
       "5183               0                      NaN  "
      ]
     },
     "execution_count": 25,
     "metadata": {},
     "output_type": "execute_result"
    }
   ],
   "source": [
    "#Check NaN values (values which did not have a c_charge_desc in the original dataset)\n",
    "df_clean[df_clean.c_charge_degree_detailed.isnull()]"
   ]
  },
  {
   "cell_type": "code",
   "execution_count": 26,
   "id": "ca6e8695",
   "metadata": {},
   "outputs": [],
   "source": [
    "index_nan_cases = df_clean[df_clean.c_charge_degree_detailed.isnull()].index"
   ]
  },
  {
   "cell_type": "markdown",
   "id": "3fe08ffc",
   "metadata": {},
   "source": [
    "- There are still 5 cases which did not have a description of the current charges. \n",
    "- These 5 cases need to be imputed\n",
    "- This requires the encoding of all categorical features first"
   ]
  },
  {
   "cell_type": "markdown",
   "id": "6332668d",
   "metadata": {},
   "source": [
    "# Data preprocessing"
   ]
  },
  {
   "cell_type": "markdown",
   "id": "6555cee7",
   "metadata": {},
   "source": [
    "## Select relevant features and perform train_test_split"
   ]
  },
  {
   "cell_type": "code",
   "execution_count": 27,
   "id": "460cce63",
   "metadata": {},
   "outputs": [],
   "source": [
    "#Select features for Classification model of general recidivism\n",
    "# Select age or age_cat, exclude/ include race\n",
    "columns_clas = [\"age\", \"age_cat\", \"sex\", #\"race\",  #demographics\n",
    "               \"juv_fel_count\", \"juv_misd_count\", \"juv_other_count\", \"priors_count\", #criminal history\n",
    "               \"c_charge_degree\", \"c_charge_degree_detailed\", #current charges \n",
    "               \"two_year_recid\"] #truth\n",
    "\n",
    "df_clas = df_clean[columns_clas].copy()\n",
    "\n",
    "X = df_clas.drop(columns=\"two_year_recid\")\n",
    "y = df_clas[\"two_year_recid\"]"
   ]
  },
  {
   "cell_type": "code",
   "execution_count": 28,
   "id": "742a581c",
   "metadata": {},
   "outputs": [],
   "source": [
    "X_train, X_test, y_train, y_test = train_test_split(X,y, test_size=0.3)"
   ]
  },
  {
   "cell_type": "markdown",
   "id": "1ead448c",
   "metadata": {},
   "source": [
    "## Create preprocessing pipeline"
   ]
  },
  {
   "cell_type": "markdown",
   "id": "13bbd461",
   "metadata": {},
   "source": [
    "- `preproc_numerical` to impute and scale features\n",
    "- `preproc_ordinal` to ordinaly encode `\n",
    "- `preproc_nominal` to one hot encode the other ones (only relevant when race would be a feature)"
   ]
  },
  {
   "cell_type": "code",
   "execution_count": 29,
   "id": "90ecd177",
   "metadata": {},
   "outputs": [
    {
     "data": {
      "text/html": [
       "<style>#sk-337b64f1-3836-48db-8abb-22883301b770 {color: black;background-color: white;}#sk-337b64f1-3836-48db-8abb-22883301b770 pre{padding: 0;}#sk-337b64f1-3836-48db-8abb-22883301b770 div.sk-toggleable {background-color: white;}#sk-337b64f1-3836-48db-8abb-22883301b770 label.sk-toggleable__label {cursor: pointer;display: block;width: 100%;margin-bottom: 0;padding: 0.3em;box-sizing: border-box;text-align: center;}#sk-337b64f1-3836-48db-8abb-22883301b770 div.sk-toggleable__content {max-height: 0;max-width: 0;overflow: hidden;text-align: left;background-color: #f0f8ff;}#sk-337b64f1-3836-48db-8abb-22883301b770 div.sk-toggleable__content pre {margin: 0.2em;color: black;border-radius: 0.25em;background-color: #f0f8ff;}#sk-337b64f1-3836-48db-8abb-22883301b770 input.sk-toggleable__control:checked~div.sk-toggleable__content {max-height: 200px;max-width: 100%;overflow: auto;}#sk-337b64f1-3836-48db-8abb-22883301b770 div.sk-estimator input.sk-toggleable__control:checked~label.sk-toggleable__label {background-color: #d4ebff;}#sk-337b64f1-3836-48db-8abb-22883301b770 div.sk-label input.sk-toggleable__control:checked~label.sk-toggleable__label {background-color: #d4ebff;}#sk-337b64f1-3836-48db-8abb-22883301b770 input.sk-hidden--visually {border: 0;clip: rect(1px 1px 1px 1px);clip: rect(1px, 1px, 1px, 1px);height: 1px;margin: -1px;overflow: hidden;padding: 0;position: absolute;width: 1px;}#sk-337b64f1-3836-48db-8abb-22883301b770 div.sk-estimator {font-family: monospace;background-color: #f0f8ff;border: 1px dotted black;border-radius: 0.25em;box-sizing: border-box;margin-bottom: 0.5em;}#sk-337b64f1-3836-48db-8abb-22883301b770 div.sk-estimator:hover {background-color: #d4ebff;}#sk-337b64f1-3836-48db-8abb-22883301b770 div.sk-parallel-item::after {content: \"\";width: 100%;border-bottom: 1px solid gray;flex-grow: 1;}#sk-337b64f1-3836-48db-8abb-22883301b770 div.sk-label:hover label.sk-toggleable__label {background-color: #d4ebff;}#sk-337b64f1-3836-48db-8abb-22883301b770 div.sk-serial::before {content: \"\";position: absolute;border-left: 1px solid gray;box-sizing: border-box;top: 2em;bottom: 0;left: 50%;}#sk-337b64f1-3836-48db-8abb-22883301b770 div.sk-serial {display: flex;flex-direction: column;align-items: center;background-color: white;padding-right: 0.2em;padding-left: 0.2em;}#sk-337b64f1-3836-48db-8abb-22883301b770 div.sk-item {z-index: 1;}#sk-337b64f1-3836-48db-8abb-22883301b770 div.sk-parallel {display: flex;align-items: stretch;justify-content: center;background-color: white;}#sk-337b64f1-3836-48db-8abb-22883301b770 div.sk-parallel::before {content: \"\";position: absolute;border-left: 1px solid gray;box-sizing: border-box;top: 2em;bottom: 0;left: 50%;}#sk-337b64f1-3836-48db-8abb-22883301b770 div.sk-parallel-item {display: flex;flex-direction: column;position: relative;background-color: white;}#sk-337b64f1-3836-48db-8abb-22883301b770 div.sk-parallel-item:first-child::after {align-self: flex-end;width: 50%;}#sk-337b64f1-3836-48db-8abb-22883301b770 div.sk-parallel-item:last-child::after {align-self: flex-start;width: 50%;}#sk-337b64f1-3836-48db-8abb-22883301b770 div.sk-parallel-item:only-child::after {width: 0;}#sk-337b64f1-3836-48db-8abb-22883301b770 div.sk-dashed-wrapped {border: 1px dashed gray;margin: 0 0.4em 0.5em 0.4em;box-sizing: border-box;padding-bottom: 0.4em;background-color: white;position: relative;}#sk-337b64f1-3836-48db-8abb-22883301b770 div.sk-label label {font-family: monospace;font-weight: bold;background-color: white;display: inline-block;line-height: 1.2em;}#sk-337b64f1-3836-48db-8abb-22883301b770 div.sk-label-container {position: relative;z-index: 2;text-align: center;}#sk-337b64f1-3836-48db-8abb-22883301b770 div.sk-container {display: inline-block;position: relative;}</style><div id=\"sk-337b64f1-3836-48db-8abb-22883301b770\" class\"sk-top-container\"><div class=\"sk-container\"><div class=\"sk-item sk-dashed-wrapped\"><div class=\"sk-label-container\"><div class=\"sk-label sk-toggleable\"><input class=\"sk-toggleable__control sk-hidden--visually\" id=\"4c659808-342d-44a2-9c4a-dc65712905f8\" type=\"checkbox\" ><label class=\"sk-toggleable__label\" for=\"4c659808-342d-44a2-9c4a-dc65712905f8\">Pipeline</label><div class=\"sk-toggleable__content\"><pre>Pipeline(steps=[('ordinalencoder',\n",
       "                 OrdinalEncoder(categories=[['Less than 25', '25 - 45',\n",
       "                                             'Greater than 45'],\n",
       "                                            ['M', 'F'],\n",
       "                                            ['0', 'M2', 'M1', 'F3', 'F2', 'F1'],\n",
       "                                            ['Male', 'Female']],\n",
       "                                dtype=<class 'numpy.int64'>,\n",
       "                                handle_unknown='use_encoded_value',\n",
       "                                unknown_value=-1)),\n",
       "                ('knnimputer', KNNImputer(missing_values=-1, n_neighbors=25)),\n",
       "                ('minmaxscaler', MinMaxScaler())])</pre></div></div></div><div class=\"sk-serial\"><div class=\"sk-item\"><div class=\"sk-estimator sk-toggleable\"><input class=\"sk-toggleable__control sk-hidden--visually\" id=\"4e9cc657-35cc-4126-b8aa-e76044f063aa\" type=\"checkbox\" ><label class=\"sk-toggleable__label\" for=\"4e9cc657-35cc-4126-b8aa-e76044f063aa\">OrdinalEncoder</label><div class=\"sk-toggleable__content\"><pre>OrdinalEncoder(categories=[['Less than 25', '25 - 45', 'Greater than 45'],\n",
       "                           ['M', 'F'], ['0', 'M2', 'M1', 'F3', 'F2', 'F1'],\n",
       "                           ['Male', 'Female']],\n",
       "               dtype=<class 'numpy.int64'>, handle_unknown='use_encoded_value',\n",
       "               unknown_value=-1)</pre></div></div></div><div class=\"sk-item\"><div class=\"sk-estimator sk-toggleable\"><input class=\"sk-toggleable__control sk-hidden--visually\" id=\"2a19684f-2347-42dc-9e89-8e761e55503c\" type=\"checkbox\" ><label class=\"sk-toggleable__label\" for=\"2a19684f-2347-42dc-9e89-8e761e55503c\">KNNImputer</label><div class=\"sk-toggleable__content\"><pre>KNNImputer(missing_values=-1, n_neighbors=25)</pre></div></div></div><div class=\"sk-item\"><div class=\"sk-estimator sk-toggleable\"><input class=\"sk-toggleable__control sk-hidden--visually\" id=\"8e547f84-a23d-4691-b6aa-f3c4d608ccee\" type=\"checkbox\" ><label class=\"sk-toggleable__label\" for=\"8e547f84-a23d-4691-b6aa-f3c4d608ccee\">MinMaxScaler</label><div class=\"sk-toggleable__content\"><pre>MinMaxScaler()</pre></div></div></div></div></div></div></div>"
      ],
      "text/plain": [
       "Pipeline(steps=[('ordinalencoder',\n",
       "                 OrdinalEncoder(categories=[['Less than 25', '25 - 45',\n",
       "                                             'Greater than 45'],\n",
       "                                            ['M', 'F'],\n",
       "                                            ['0', 'M2', 'M1', 'F3', 'F2', 'F1'],\n",
       "                                            ['Male', 'Female']],\n",
       "                                dtype=<class 'numpy.int64'>,\n",
       "                                handle_unknown='use_encoded_value',\n",
       "                                unknown_value=-1)),\n",
       "                ('knnimputer', KNNImputer(missing_values=-1, n_neighbors=25)),\n",
       "                ('minmaxscaler', MinMaxScaler())])"
      ]
     },
     "execution_count": 29,
     "metadata": {},
     "output_type": "execute_result"
    }
   ],
   "source": [
    "feat_ordinal_dict = {\n",
    "    \"age_cat\": [\"Less than 25\", \"25 - 45\", \"Greater than 45\"],\n",
    "    \"c_charge_degree\": [\"M\", \"F\"],\n",
    "    \"c_charge_degree_detailed\": [\"0\",\"M2\",\"M1\",\"F3\",\"F2\",\"F1\"],\n",
    "#    \"score_text\": [\"Low\", \"Medium\", \"High\"],\n",
    "    \"sex\": [\"Male\",\"Female\"]\n",
    "    }\n",
    "\n",
    "feat_ordinal = sorted(feat_ordinal_dict.keys()) # sort alphabetically\n",
    "feat_ordinal_values_sorted = [feat_ordinal_dict[i] for i in feat_ordinal]\n",
    "\n",
    "encoder_ordinal = OrdinalEncoder(\n",
    "    categories=feat_ordinal_values_sorted,\n",
    "    dtype= np.int64,\n",
    "    handle_unknown=\"use_encoded_value\",\n",
    "    unknown_value=-1 # Considers unknown values as worse than missing\n",
    ")\n",
    "\n",
    "preproc_ordinal = make_pipeline(\n",
    "    encoder_ordinal,\n",
    "    KNNImputer(missing_values=-1, n_neighbors=25), #kNN impute missing values\n",
    "#    StandardScaler()\n",
    "    MinMaxScaler()\n",
    ")\n",
    "\n",
    "preproc_ordinal"
   ]
  },
  {
   "cell_type": "code",
   "execution_count": 30,
   "id": "80f7bb45",
   "metadata": {},
   "outputs": [],
   "source": [
    "# Define numerical feature once-for-all\n",
    "#from sklearn.compose import make_column_selector\n",
    "#feat_numerical = make_column_selector(dtype_include='number')\n",
    "\n",
    "feat_numerical = sorted(X.select_dtypes(include=[\"int64\", \"float64\"]).columns)\n",
    "\n",
    "preproc_numerical = make_pipeline(\n",
    "    SimpleImputer(),\n",
    "#    StandardScaler(),\n",
    "    MinMaxScaler()\n",
    ")"
   ]
  },
  {
   "cell_type": "code",
   "execution_count": 31,
   "id": "b489c94b",
   "metadata": {},
   "outputs": [],
   "source": [
    "# # Define nominal features to one-hot-encode as the remaining ones (non numerical, non ordinal)\n",
    "# #only relevant for race feature -> therefore commented out \n",
    "# feat_nominal = sorted(list(set(X.columns) - set(feat_numerical) - set(feat_ordinal)))\n",
    "\n",
    "# preproc_nominal = make_pipeline(\n",
    "#     SimpleImputer(strategy=\"most_frequent\"),\n",
    "#     OneHotEncoder(drop=\"first\", handle_unknown=\"ignore\")\n",
    "# )"
   ]
  },
  {
   "cell_type": "code",
   "execution_count": 32,
   "id": "44ece654",
   "metadata": {},
   "outputs": [
    {
     "data": {
      "text/html": [
       "<style>#sk-51deb406-5d2c-489c-a6c2-db62f857bae2 {color: black;background-color: white;}#sk-51deb406-5d2c-489c-a6c2-db62f857bae2 pre{padding: 0;}#sk-51deb406-5d2c-489c-a6c2-db62f857bae2 div.sk-toggleable {background-color: white;}#sk-51deb406-5d2c-489c-a6c2-db62f857bae2 label.sk-toggleable__label {cursor: pointer;display: block;width: 100%;margin-bottom: 0;padding: 0.3em;box-sizing: border-box;text-align: center;}#sk-51deb406-5d2c-489c-a6c2-db62f857bae2 div.sk-toggleable__content {max-height: 0;max-width: 0;overflow: hidden;text-align: left;background-color: #f0f8ff;}#sk-51deb406-5d2c-489c-a6c2-db62f857bae2 div.sk-toggleable__content pre {margin: 0.2em;color: black;border-radius: 0.25em;background-color: #f0f8ff;}#sk-51deb406-5d2c-489c-a6c2-db62f857bae2 input.sk-toggleable__control:checked~div.sk-toggleable__content {max-height: 200px;max-width: 100%;overflow: auto;}#sk-51deb406-5d2c-489c-a6c2-db62f857bae2 div.sk-estimator input.sk-toggleable__control:checked~label.sk-toggleable__label {background-color: #d4ebff;}#sk-51deb406-5d2c-489c-a6c2-db62f857bae2 div.sk-label input.sk-toggleable__control:checked~label.sk-toggleable__label {background-color: #d4ebff;}#sk-51deb406-5d2c-489c-a6c2-db62f857bae2 input.sk-hidden--visually {border: 0;clip: rect(1px 1px 1px 1px);clip: rect(1px, 1px, 1px, 1px);height: 1px;margin: -1px;overflow: hidden;padding: 0;position: absolute;width: 1px;}#sk-51deb406-5d2c-489c-a6c2-db62f857bae2 div.sk-estimator {font-family: monospace;background-color: #f0f8ff;border: 1px dotted black;border-radius: 0.25em;box-sizing: border-box;margin-bottom: 0.5em;}#sk-51deb406-5d2c-489c-a6c2-db62f857bae2 div.sk-estimator:hover {background-color: #d4ebff;}#sk-51deb406-5d2c-489c-a6c2-db62f857bae2 div.sk-parallel-item::after {content: \"\";width: 100%;border-bottom: 1px solid gray;flex-grow: 1;}#sk-51deb406-5d2c-489c-a6c2-db62f857bae2 div.sk-label:hover label.sk-toggleable__label {background-color: #d4ebff;}#sk-51deb406-5d2c-489c-a6c2-db62f857bae2 div.sk-serial::before {content: \"\";position: absolute;border-left: 1px solid gray;box-sizing: border-box;top: 2em;bottom: 0;left: 50%;}#sk-51deb406-5d2c-489c-a6c2-db62f857bae2 div.sk-serial {display: flex;flex-direction: column;align-items: center;background-color: white;padding-right: 0.2em;padding-left: 0.2em;}#sk-51deb406-5d2c-489c-a6c2-db62f857bae2 div.sk-item {z-index: 1;}#sk-51deb406-5d2c-489c-a6c2-db62f857bae2 div.sk-parallel {display: flex;align-items: stretch;justify-content: center;background-color: white;}#sk-51deb406-5d2c-489c-a6c2-db62f857bae2 div.sk-parallel::before {content: \"\";position: absolute;border-left: 1px solid gray;box-sizing: border-box;top: 2em;bottom: 0;left: 50%;}#sk-51deb406-5d2c-489c-a6c2-db62f857bae2 div.sk-parallel-item {display: flex;flex-direction: column;position: relative;background-color: white;}#sk-51deb406-5d2c-489c-a6c2-db62f857bae2 div.sk-parallel-item:first-child::after {align-self: flex-end;width: 50%;}#sk-51deb406-5d2c-489c-a6c2-db62f857bae2 div.sk-parallel-item:last-child::after {align-self: flex-start;width: 50%;}#sk-51deb406-5d2c-489c-a6c2-db62f857bae2 div.sk-parallel-item:only-child::after {width: 0;}#sk-51deb406-5d2c-489c-a6c2-db62f857bae2 div.sk-dashed-wrapped {border: 1px dashed gray;margin: 0 0.4em 0.5em 0.4em;box-sizing: border-box;padding-bottom: 0.4em;background-color: white;position: relative;}#sk-51deb406-5d2c-489c-a6c2-db62f857bae2 div.sk-label label {font-family: monospace;font-weight: bold;background-color: white;display: inline-block;line-height: 1.2em;}#sk-51deb406-5d2c-489c-a6c2-db62f857bae2 div.sk-label-container {position: relative;z-index: 2;text-align: center;}#sk-51deb406-5d2c-489c-a6c2-db62f857bae2 div.sk-container {display: inline-block;position: relative;}</style><div id=\"sk-51deb406-5d2c-489c-a6c2-db62f857bae2\" class\"sk-top-container\"><div class=\"sk-container\"><div class=\"sk-item sk-dashed-wrapped\"><div class=\"sk-label-container\"><div class=\"sk-label sk-toggleable\"><input class=\"sk-toggleable__control sk-hidden--visually\" id=\"200ff32e-a104-48e1-a037-4acb608d586b\" type=\"checkbox\" ><label class=\"sk-toggleable__label\" for=\"200ff32e-a104-48e1-a037-4acb608d586b\">ColumnTransformer</label><div class=\"sk-toggleable__content\"><pre>ColumnTransformer(transformers=[('pipeline-1',\n",
       "                                 Pipeline(steps=[('simpleimputer',\n",
       "                                                  SimpleImputer()),\n",
       "                                                 ('minmaxscaler',\n",
       "                                                  MinMaxScaler())]),\n",
       "                                 ['age', 'juv_fel_count', 'juv_misd_count',\n",
       "                                  'juv_other_count', 'priors_count']),\n",
       "                                ('pipeline-2',\n",
       "                                 Pipeline(steps=[('ordinalencoder',\n",
       "                                                  OrdinalEncoder(categories=[['Less '\n",
       "                                                                              'than '\n",
       "                                                                              '25',\n",
       "                                                                              '25 '\n",
       "                                                                              '- '\n",
       "                                                                              '45',\n",
       "                                                                              'Greater '\n",
       "                                                                              'than '\n",
       "                                                                              '45'],\n",
       "                                                                             ['M',\n",
       "                                                                              'F'],\n",
       "                                                                             ['0',\n",
       "                                                                              'M2',\n",
       "                                                                              'M1',\n",
       "                                                                              'F3',\n",
       "                                                                              'F2',\n",
       "                                                                              'F1'],\n",
       "                                                                             ['Male',\n",
       "                                                                              'Female']],\n",
       "                                                                 dtype=<class 'numpy.int64'>,\n",
       "                                                                 handle_unknown='use_encoded_value',\n",
       "                                                                 unknown_value=-1)),\n",
       "                                                 ('knnimputer',\n",
       "                                                  KNNImputer(missing_values=-1,\n",
       "                                                             n_neighbors=25)),\n",
       "                                                 ('minmaxscaler',\n",
       "                                                  MinMaxScaler())]),\n",
       "                                 ['age_cat', 'c_charge_degree',\n",
       "                                  'c_charge_degree_detailed', 'sex'])])</pre></div></div></div><div class=\"sk-parallel\"><div class=\"sk-parallel-item\"><div class=\"sk-item\"><div class=\"sk-label-container\"><div class=\"sk-label sk-toggleable\"><input class=\"sk-toggleable__control sk-hidden--visually\" id=\"545e2b4f-1413-4842-955a-df59e166e6a3\" type=\"checkbox\" ><label class=\"sk-toggleable__label\" for=\"545e2b4f-1413-4842-955a-df59e166e6a3\">pipeline-1</label><div class=\"sk-toggleable__content\"><pre>['age', 'juv_fel_count', 'juv_misd_count', 'juv_other_count', 'priors_count']</pre></div></div></div><div class=\"sk-serial\"><div class=\"sk-item\"><div class=\"sk-serial\"><div class=\"sk-item\"><div class=\"sk-estimator sk-toggleable\"><input class=\"sk-toggleable__control sk-hidden--visually\" id=\"9a4a813a-6028-4ef4-b232-9ec23a6f4a3c\" type=\"checkbox\" ><label class=\"sk-toggleable__label\" for=\"9a4a813a-6028-4ef4-b232-9ec23a6f4a3c\">SimpleImputer</label><div class=\"sk-toggleable__content\"><pre>SimpleImputer()</pre></div></div></div><div class=\"sk-item\"><div class=\"sk-estimator sk-toggleable\"><input class=\"sk-toggleable__control sk-hidden--visually\" id=\"263fd452-b63f-49db-b8f1-7c090f6f1772\" type=\"checkbox\" ><label class=\"sk-toggleable__label\" for=\"263fd452-b63f-49db-b8f1-7c090f6f1772\">MinMaxScaler</label><div class=\"sk-toggleable__content\"><pre>MinMaxScaler()</pre></div></div></div></div></div></div></div></div><div class=\"sk-parallel-item\"><div class=\"sk-item\"><div class=\"sk-label-container\"><div class=\"sk-label sk-toggleable\"><input class=\"sk-toggleable__control sk-hidden--visually\" id=\"695776c7-2a62-4ab1-bc10-7a75ec34e7a1\" type=\"checkbox\" ><label class=\"sk-toggleable__label\" for=\"695776c7-2a62-4ab1-bc10-7a75ec34e7a1\">pipeline-2</label><div class=\"sk-toggleable__content\"><pre>['age_cat', 'c_charge_degree', 'c_charge_degree_detailed', 'sex']</pre></div></div></div><div class=\"sk-serial\"><div class=\"sk-item\"><div class=\"sk-serial\"><div class=\"sk-item\"><div class=\"sk-estimator sk-toggleable\"><input class=\"sk-toggleable__control sk-hidden--visually\" id=\"0d97829e-dfee-4c30-9617-6c5ceebfc1ca\" type=\"checkbox\" ><label class=\"sk-toggleable__label\" for=\"0d97829e-dfee-4c30-9617-6c5ceebfc1ca\">OrdinalEncoder</label><div class=\"sk-toggleable__content\"><pre>OrdinalEncoder(categories=[['Less than 25', '25 - 45', 'Greater than 45'],\n",
       "                           ['M', 'F'], ['0', 'M2', 'M1', 'F3', 'F2', 'F1'],\n",
       "                           ['Male', 'Female']],\n",
       "               dtype=<class 'numpy.int64'>, handle_unknown='use_encoded_value',\n",
       "               unknown_value=-1)</pre></div></div></div><div class=\"sk-item\"><div class=\"sk-estimator sk-toggleable\"><input class=\"sk-toggleable__control sk-hidden--visually\" id=\"5efabeb8-9d24-4d49-ba9f-4e753be1219b\" type=\"checkbox\" ><label class=\"sk-toggleable__label\" for=\"5efabeb8-9d24-4d49-ba9f-4e753be1219b\">KNNImputer</label><div class=\"sk-toggleable__content\"><pre>KNNImputer(missing_values=-1, n_neighbors=25)</pre></div></div></div><div class=\"sk-item\"><div class=\"sk-estimator sk-toggleable\"><input class=\"sk-toggleable__control sk-hidden--visually\" id=\"735dfda5-75d5-4185-b417-831a28aa2716\" type=\"checkbox\" ><label class=\"sk-toggleable__label\" for=\"735dfda5-75d5-4185-b417-831a28aa2716\">MinMaxScaler</label><div class=\"sk-toggleable__content\"><pre>MinMaxScaler()</pre></div></div></div></div></div></div></div></div></div></div></div></div>"
      ],
      "text/plain": [
       "ColumnTransformer(transformers=[('pipeline-1',\n",
       "                                 Pipeline(steps=[('simpleimputer',\n",
       "                                                  SimpleImputer()),\n",
       "                                                 ('minmaxscaler',\n",
       "                                                  MinMaxScaler())]),\n",
       "                                 ['age', 'juv_fel_count', 'juv_misd_count',\n",
       "                                  'juv_other_count', 'priors_count']),\n",
       "                                ('pipeline-2',\n",
       "                                 Pipeline(steps=[('ordinalencoder',\n",
       "                                                  OrdinalEncoder(categories=[['Less '\n",
       "                                                                              'than '\n",
       "                                                                              '25',\n",
       "                                                                              '25 '\n",
       "                                                                              '- '\n",
       "                                                                              '45',\n",
       "                                                                              'Greater '\n",
       "                                                                              'than '\n",
       "                                                                              '45'],\n",
       "                                                                             ['M',\n",
       "                                                                              'F'],\n",
       "                                                                             ['0',\n",
       "                                                                              'M2',\n",
       "                                                                              'M1',\n",
       "                                                                              'F3',\n",
       "                                                                              'F2',\n",
       "                                                                              'F1'],\n",
       "                                                                             ['Male',\n",
       "                                                                              'Female']],\n",
       "                                                                 dtype=<class 'numpy.int64'>,\n",
       "                                                                 handle_unknown='use_encoded_value',\n",
       "                                                                 unknown_value=-1)),\n",
       "                                                 ('knnimputer',\n",
       "                                                  KNNImputer(missing_values=-1,\n",
       "                                                             n_neighbors=25)),\n",
       "                                                 ('minmaxscaler',\n",
       "                                                  MinMaxScaler())]),\n",
       "                                 ['age_cat', 'c_charge_degree',\n",
       "                                  'c_charge_degree_detailed', 'sex'])])"
      ]
     },
     "execution_count": 32,
     "metadata": {},
     "output_type": "execute_result"
    }
   ],
   "source": [
    "preproc = make_column_transformer(\n",
    "    (preproc_numerical, feat_numerical),\n",
    "    (preproc_ordinal, feat_ordinal),\n",
    "#    (preproc_nominal, feat_nominal), (only needed when race a Feature)\n",
    "    remainder=\"drop\")\n",
    "\n",
    "preproc"
   ]
  },
  {
   "cell_type": "code",
   "execution_count": 33,
   "id": "005ad14c",
   "metadata": {},
   "outputs": [
    {
     "data": {
      "text/html": [
       "<div>\n",
       "<style scoped>\n",
       "    .dataframe tbody tr th:only-of-type {\n",
       "        vertical-align: middle;\n",
       "    }\n",
       "\n",
       "    .dataframe tbody tr th {\n",
       "        vertical-align: top;\n",
       "    }\n",
       "\n",
       "    .dataframe thead th {\n",
       "        text-align: right;\n",
       "    }\n",
       "</style>\n",
       "<table border=\"1\" class=\"dataframe\">\n",
       "  <thead>\n",
       "    <tr style=\"text-align: right;\">\n",
       "      <th></th>\n",
       "      <th>age</th>\n",
       "      <th>juv_fel_count</th>\n",
       "      <th>juv_misd_count</th>\n",
       "      <th>juv_other_count</th>\n",
       "      <th>priors_count</th>\n",
       "      <th>age_cat</th>\n",
       "      <th>c_charge_degree</th>\n",
       "      <th>c_charge_degree_detailed</th>\n",
       "      <th>sex</th>\n",
       "    </tr>\n",
       "  </thead>\n",
       "  <tbody>\n",
       "    <tr>\n",
       "      <th>0</th>\n",
       "      <td>0.649351</td>\n",
       "      <td>0.0</td>\n",
       "      <td>0.0</td>\n",
       "      <td>0.000000</td>\n",
       "      <td>0.000000</td>\n",
       "      <td>1.0</td>\n",
       "      <td>1.0</td>\n",
       "      <td>0.6</td>\n",
       "      <td>0.0</td>\n",
       "    </tr>\n",
       "    <tr>\n",
       "      <th>1</th>\n",
       "      <td>0.194805</td>\n",
       "      <td>0.0</td>\n",
       "      <td>0.0</td>\n",
       "      <td>0.000000</td>\n",
       "      <td>0.000000</td>\n",
       "      <td>0.5</td>\n",
       "      <td>1.0</td>\n",
       "      <td>0.6</td>\n",
       "      <td>0.0</td>\n",
       "    </tr>\n",
       "    <tr>\n",
       "      <th>2</th>\n",
       "      <td>0.064935</td>\n",
       "      <td>0.0</td>\n",
       "      <td>0.0</td>\n",
       "      <td>0.111111</td>\n",
       "      <td>0.108108</td>\n",
       "      <td>0.0</td>\n",
       "      <td>1.0</td>\n",
       "      <td>0.6</td>\n",
       "      <td>0.0</td>\n",
       "    </tr>\n",
       "    <tr>\n",
       "      <th>3</th>\n",
       "      <td>0.324675</td>\n",
       "      <td>0.0</td>\n",
       "      <td>0.0</td>\n",
       "      <td>0.000000</td>\n",
       "      <td>0.000000</td>\n",
       "      <td>0.5</td>\n",
       "      <td>0.0</td>\n",
       "      <td>0.4</td>\n",
       "      <td>0.0</td>\n",
       "    </tr>\n",
       "    <tr>\n",
       "      <th>4</th>\n",
       "      <td>0.285714</td>\n",
       "      <td>0.0</td>\n",
       "      <td>0.0</td>\n",
       "      <td>0.000000</td>\n",
       "      <td>0.378378</td>\n",
       "      <td>0.5</td>\n",
       "      <td>1.0</td>\n",
       "      <td>0.6</td>\n",
       "      <td>0.0</td>\n",
       "    </tr>\n",
       "  </tbody>\n",
       "</table>\n",
       "</div>"
      ],
      "text/plain": [
       "        age  juv_fel_count  juv_misd_count  juv_other_count  priors_count  \\\n",
       "0  0.649351            0.0             0.0         0.000000      0.000000   \n",
       "1  0.194805            0.0             0.0         0.000000      0.000000   \n",
       "2  0.064935            0.0             0.0         0.111111      0.108108   \n",
       "3  0.324675            0.0             0.0         0.000000      0.000000   \n",
       "4  0.285714            0.0             0.0         0.000000      0.378378   \n",
       "\n",
       "   age_cat  c_charge_degree  c_charge_degree_detailed  sex  \n",
       "0      1.0              1.0                       0.6  0.0  \n",
       "1      0.5              1.0                       0.6  0.0  \n",
       "2      0.0              1.0                       0.6  0.0  \n",
       "3      0.5              0.0                       0.4  0.0  \n",
       "4      0.5              1.0                       0.6  0.0  "
      ]
     },
     "execution_count": 33,
     "metadata": {},
     "output_type": "execute_result"
    }
   ],
   "source": [
    "#Test preproc pipeline\n",
    "column_nam = feat_numerical + feat_ordinal#+list(preproc.named_transformers_[\"pipeline-3\"].named_steps[\"onehotencoder\"].get_feature_names_out(feat_nominal))\n",
    "\n",
    "test = pd.DataFrame(preproc.fit_transform(df_clean), columns=column_nam)\n",
    "\n",
    "test.head()"
   ]
  },
  {
   "cell_type": "code",
   "execution_count": 34,
   "id": "59235720",
   "metadata": {},
   "outputs": [],
   "source": [
    "##Test knnImputing of missing values \n",
    "\n",
    "# test.loc[index_nan_cases]\n",
    "# test[\"c_charge_degree_detailed\"]= test.c_charge_degree_detailed.apply(np.ceil)\n",
    "# test.loc[index_nan_cases]"
   ]
  },
  {
   "cell_type": "markdown",
   "id": "ebbfcd61",
   "metadata": {},
   "source": [
    "## Balancing - *not started yet*"
   ]
  },
  {
   "cell_type": "markdown",
   "id": "aa2579de",
   "metadata": {},
   "source": [
    "- As we already saw in the data exploration, the number of data points of the COMPAS dataset representing `two_years_recid`, `race`, `sex` is imbalanced\n",
    "- This may pose a problem since ML algorithms learn by example and could therefore tend to predict under represented classes poorly"
   ]
  },
  {
   "cell_type": "code",
   "execution_count": 144,
   "id": "71bdff9a",
   "metadata": {},
   "outputs": [
    {
     "data": {
      "text/plain": [
       "0    0.63405\n",
       "1    0.36595\n",
       "Name: two_year_recid, dtype: float64"
      ]
     },
     "execution_count": 144,
     "metadata": {},
     "output_type": "execute_result"
    }
   ],
   "source": [
    "#Check balancing of y \n",
    "df_clean.two_year_recid.value_counts(normalize=True)"
   ]
  },
  {
   "cell_type": "code",
   "execution_count": 145,
   "id": "27fbca4b",
   "metadata": {},
   "outputs": [
    {
     "data": {
      "text/plain": [
       "African-American    0.505656\n",
       "Caucasian           0.344834\n",
       "Hispanic            0.084465\n",
       "Other               0.058258\n",
       "Asian               0.005090\n",
       "Native American     0.001697\n",
       "Name: race, dtype: float64"
      ]
     },
     "execution_count": 145,
     "metadata": {},
     "output_type": "execute_result"
    }
   ],
   "source": [
    "#Check balancing of race\n",
    "df_clean.race.value_counts(normalize=True)"
   ]
  },
  {
   "cell_type": "code",
   "execution_count": 182,
   "id": "b7cfc091",
   "metadata": {},
   "outputs": [
    {
     "data": {
      "text/plain": [
       "Male      0.808258\n",
       "Female    0.191742\n",
       "Name: sex, dtype: float64"
      ]
     },
     "execution_count": 182,
     "metadata": {},
     "output_type": "execute_result"
    }
   ],
   "source": [
    "#Check balancing of sex\n",
    "df_clean.sex.value_counts(normalize=True)"
   ]
  },
  {
   "cell_type": "markdown",
   "id": "f25113f9",
   "metadata": {},
   "source": [
    "### SMOTE"
   ]
  },
  {
   "cell_type": "code",
   "execution_count": 185,
   "id": "78e7030c",
   "metadata": {},
   "outputs": [
    {
     "name": "stdout",
     "output_type": "stream",
     "text": [
      "Number of unique cases in dataset: 5304\n"
     ]
    }
   ],
   "source": [
    "print(\"Number of unique cases in dataset:\",df_clean.shape[0])"
   ]
  },
  {
   "cell_type": "markdown",
   "id": "c34e158f",
   "metadata": {},
   "source": [
    "- Since our original dataset is relatively small, we decided against sampling down the majority class (Undersampling)\n",
    "- We will therefore oversample the minority classes using the SMOTE algorithm. \n",
    "- SMOTE is an oversampling algorithm that generates new minority instances from existing minority instances based on linear combinations of existing points.\n",
    "- We only use balancing techniques on the training set. We want to keep our test set as representative of real life as possible."
   ]
  },
  {
   "cell_type": "markdown",
   "id": "de957f8a",
   "metadata": {},
   "source": [
    "Check [imbalanced-learn](https://imbalanced-learn.org/)"
   ]
  },
  {
   "cell_type": "code",
   "execution_count": null,
   "id": "bdf447b9",
   "metadata": {},
   "outputs": [],
   "source": []
  },
  {
   "cell_type": "code",
   "execution_count": null,
   "id": "942024cc",
   "metadata": {},
   "outputs": [],
   "source": []
  },
  {
   "cell_type": "markdown",
   "id": "3b602437",
   "metadata": {},
   "source": [
    "# Feature selection"
   ]
  },
  {
   "cell_type": "markdown",
   "id": "40ff34e7",
   "metadata": {},
   "source": [
    "- Some of the columns are different representations of the same data (eg. age and age_cat) and are therfore highly correlated\n",
    "- Furthermore we want to remove features that, when in combination with all the others, do not really help predict our target"
   ]
  },
  {
   "cell_type": "markdown",
   "id": "0f6312ac",
   "metadata": {},
   "source": [
    "## Feature correlation"
   ]
  },
  {
   "cell_type": "markdown",
   "id": "8e2eae16",
   "metadata": {},
   "source": [
    "Use Pearson's correlation combined with a heatmap to check visually whether some **numerical** features almost entirely correlated with others and remove one of two features.\n",
    "- High correlation = redundant information"
   ]
  },
  {
   "cell_type": "code",
   "execution_count": 149,
   "id": "e1e6614a",
   "metadata": {},
   "outputs": [
    {
     "data": {
      "image/png": "[encoded data removed]",
      "text/plain": [
       "<Figure size 504x360 with 2 Axes>"
      ]
     },
     "metadata": {
      "needs_background": "light"
     },
     "output_type": "display_data"
    }
   ],
   "source": [
    "corr_num = X_train.corr()\n",
    "plt.figure(figsize=(7,5))\n",
    "sns.heatmap(corr_num, cmap='coolwarm',vmin=-1, vmax=1);"
   ]
  },
  {
   "cell_type": "code",
   "execution_count": 151,
   "id": "278d970b",
   "metadata": {},
   "outputs": [
    {
     "data": {
      "text/html": [
       "<div>\n",
       "<style scoped>\n",
       "    .dataframe tbody tr th:only-of-type {\n",
       "        vertical-align: middle;\n",
       "    }\n",
       "\n",
       "    .dataframe tbody tr th {\n",
       "        vertical-align: top;\n",
       "    }\n",
       "\n",
       "    .dataframe thead th {\n",
       "        text-align: right;\n",
       "    }\n",
       "</style>\n",
       "<table border=\"1\" class=\"dataframe\">\n",
       "  <thead>\n",
       "    <tr style=\"text-align: right;\">\n",
       "      <th></th>\n",
       "      <th>feature_1</th>\n",
       "      <th>feature_2</th>\n",
       "      <th>correlation</th>\n",
       "    </tr>\n",
       "  </thead>\n",
       "  <tbody>\n",
       "    <tr>\n",
       "      <th>22</th>\n",
       "      <td>priors_count</td>\n",
       "      <td>juv_misd_count</td>\n",
       "      <td>0.285150</td>\n",
       "    </tr>\n",
       "    <tr>\n",
       "      <th>14</th>\n",
       "      <td>juv_misd_count</td>\n",
       "      <td>priors_count</td>\n",
       "      <td>0.285150</td>\n",
       "    </tr>\n",
       "    <tr>\n",
       "      <th>17</th>\n",
       "      <td>juv_other_count</td>\n",
       "      <td>juv_misd_count</td>\n",
       "      <td>0.256711</td>\n",
       "    </tr>\n",
       "    <tr>\n",
       "      <th>13</th>\n",
       "      <td>juv_misd_count</td>\n",
       "      <td>juv_other_count</td>\n",
       "      <td>0.256711</td>\n",
       "    </tr>\n",
       "    <tr>\n",
       "      <th>9</th>\n",
       "      <td>juv_fel_count</td>\n",
       "      <td>priors_count</td>\n",
       "      <td>0.192652</td>\n",
       "    </tr>\n",
       "  </tbody>\n",
       "</table>\n",
       "</div>"
      ],
      "text/plain": [
       "          feature_1        feature_2  correlation\n",
       "22     priors_count   juv_misd_count     0.285150\n",
       "14   juv_misd_count     priors_count     0.285150\n",
       "17  juv_other_count   juv_misd_count     0.256711\n",
       "13   juv_misd_count  juv_other_count     0.256711\n",
       "9     juv_fel_count     priors_count     0.192652"
      ]
     },
     "execution_count": 151,
     "metadata": {},
     "output_type": "execute_result"
    }
   ],
   "source": [
    "corr_df = corr_num.unstack().reset_index() # Unstack correlation matrix \n",
    "corr_df.columns = ['feature_1','feature_2', 'correlation'] # rename columns\n",
    "corr_df.sort_values(by=\"correlation\",ascending=False, inplace=True) # sort by correlation\n",
    "corr_df = corr_df[corr_df['feature_1'] != corr_df['feature_2']] # Remove self correlation\n",
    "corr_df.head()"
   ]
  },
  {
   "cell_type": "markdown",
   "id": "70cd5158",
   "metadata": {},
   "source": [
    "---"
   ]
  },
  {
   "cell_type": "markdown",
   "id": "b66826aa",
   "metadata": {},
   "source": [
    "For **ordinal features**, we can use Spearman's rank correlation instead to check whether some **ordinally encoded** features are almost entirely \"ordered\" similarily than others."
   ]
  },
  {
   "cell_type": "code",
   "execution_count": 156,
   "id": "57fe67a2",
   "metadata": {},
   "outputs": [
    {
     "data": {
      "image/png": "[encoded data removed]",
      "text/plain": [
       "<Figure size 432x288 with 2 Axes>"
      ]
     },
     "metadata": {
      "needs_background": "light"
     },
     "output_type": "display_data"
    }
   ],
   "source": [
    "X_ordinally_encoded = pd.DataFrame(preproc_ordinal.fit_transform(X[feat_ordinal]), columns=feat_ordinal)\n",
    "sns.heatmap(X_ordinally_encoded.corr(method='spearman'), cmap='coolwarm', vmin=-1, vmax=1, annot=True);"
   ]
  },
  {
   "cell_type": "markdown",
   "id": "887cd24e",
   "metadata": {},
   "source": [
    "## Forward Selection using `SequentialFeatureSelector` "
   ]
  },
  {
   "cell_type": "code",
   "execution_count": 99,
   "id": "7b9c8718",
   "metadata": {},
   "outputs": [],
   "source": [
    "sfs_forward = SequentialFeatureSelector(LogisticRegression(), direction=\"forward\")"
   ]
  },
  {
   "cell_type": "code",
   "execution_count": 100,
   "id": "f7db02bc",
   "metadata": {},
   "outputs": [],
   "source": [
    "pipe_sfs = make_pipeline(preproc, sfs_forward)"
   ]
  },
  {
   "cell_type": "code",
   "execution_count": 101,
   "id": "7e06dee9",
   "metadata": {},
   "outputs": [],
   "source": [
    "#pipe_sfs.fit(X_train, y_train)\n",
    "\n",
    "#X.columns[pipe_sfs[\"sequentialfeatureselector\"].get_support()]"
   ]
  },
  {
   "cell_type": "code",
   "execution_count": 105,
   "id": "f2b9e69f",
   "metadata": {},
   "outputs": [],
   "source": [
    "# Create pipe with best parameters from baseline model\n",
    "baseline = LogisticRegression(penalty=\"elasticnet\", solver=\"saga\", C=1.2, l1_ratio=1.0)\n",
    "pipe_sfs_log = make_pipeline(pipe_sfs, baseline)"
   ]
  },
  {
   "cell_type": "code",
   "execution_count": 106,
   "id": "9a1e7aa9",
   "metadata": {},
   "outputs": [
    {
     "name": "stdout",
     "output_type": "stream",
     "text": [
      "{'pipeline__sequentialfeatureselector__n_features_to_select': 3}\n"
     ]
    },
    {
     "data": {
      "text/plain": [
       "-0.5846060841918839"
      ]
     },
     "execution_count": 106,
     "metadata": {},
     "output_type": "execute_result"
    }
   ],
   "source": [
    "#Grid Search \n",
    "param_grid =  {'pipeline__sequentialfeatureselector__n_features_to_select': np.arange(3,7)}\n",
    "\n",
    "grid_sfs_log = GridSearchCV(pipe_sfs_log, param_grid, \n",
    "                          cv=10, n_jobs=-1, scoring=\"neg_log_loss\")\n",
    "\n",
    "grid_sfs_log.fit(X_train, y_train);\n",
    "print(grid_sfs_log.best_params_)\n",
    "grid_sfs_log.best_score_"
   ]
  },
  {
   "cell_type": "code",
   "execution_count": 181,
   "id": "ea6e848e",
   "metadata": {},
   "outputs": [
    {
     "data": {
      "image/png": "[encoded data removed]",
      "text/plain": [
       "<Figure size 432x288 with 1 Axes>"
      ]
     },
     "metadata": {
      "needs_background": "light"
     },
     "output_type": "display_data"
    }
   ],
   "source": [
    "# Check results of gridSearch \n",
    "sns.lineplot(x=[3, 4, 5, 6], y=-grid_sfs_log.cv_results_[\"mean_test_score\"]);"
   ]
  },
  {
   "cell_type": "code",
   "execution_count": 116,
   "id": "17cfc996",
   "metadata": {},
   "outputs": [
    {
     "data": {
      "text/plain": [
       "0.6101654941915312"
      ]
     },
     "execution_count": 116,
     "metadata": {},
     "output_type": "execute_result"
    }
   ],
   "source": [
    "y_pred = grid_sfs_log.predict(X_test)\n",
    "\n",
    "roc_auc_score(y_test, y_pred)"
   ]
  },
  {
   "cell_type": "code",
   "execution_count": 117,
   "id": "d0b3c58c",
   "metadata": {},
   "outputs": [
    {
     "data": {
      "text/plain": [
       "array([[923,  73],\n",
       "       [421, 175]])"
      ]
     },
     "execution_count": 117,
     "metadata": {},
     "output_type": "execute_result"
    }
   ],
   "source": [
    "confusion_matrix(y_test, y_pred)"
   ]
  },
  {
   "cell_type": "code",
   "execution_count": 118,
   "id": "d7b2ff15",
   "metadata": {},
   "outputs": [
    {
     "name": "stdout",
     "output_type": "stream",
     "text": [
      "              precision    recall  f1-score   support\n",
      "\n",
      "    no_recid       0.69      0.93      0.79       996\n",
      "    is_recid       0.71      0.29      0.41       596\n",
      "\n",
      "    accuracy                           0.69      1592\n",
      "   macro avg       0.70      0.61      0.60      1592\n",
      "weighted avg       0.69      0.69      0.65      1592\n",
      "\n"
     ]
    }
   ],
   "source": [
    "print(classification_report(y_test, y_pred, target_names=[\"no_recid\", \"is_recid\"]))"
   ]
  },
  {
   "cell_type": "code",
   "execution_count": 110,
   "id": "9736ce57",
   "metadata": {},
   "outputs": [
    {
     "data": {
      "text/plain": [
       "Index(['age', 'juv_fel_count', 'juv_misd_count'], dtype='object')"
      ]
     },
     "execution_count": 110,
     "metadata": {},
     "output_type": "execute_result"
    }
   ],
   "source": [
    "# Get selected features\n",
    "sel_feat = grid_sfs_log.best_estimator_.named_steps[\"pipeline\"][\"sequentialfeatureselector\"].get_support()\n",
    "\n",
    "#See selected features\n",
    "X.columns[sel_feat]"
   ]
  },
  {
   "cell_type": "markdown",
   "id": "d286ea5a",
   "metadata": {},
   "source": [
    "Out of the 9 total features only 3 were selected: age, juv_fel_count and juv_misd_count"
   ]
  },
  {
   "cell_type": "markdown",
   "id": "140062bd",
   "metadata": {},
   "source": [
    "## Backward Selection using `SequentialFeatureSelector` "
   ]
  },
  {
   "cell_type": "code",
   "execution_count": 112,
   "id": "46480f14",
   "metadata": {},
   "outputs": [],
   "source": [
    "sfs_backward = SequentialFeatureSelector(LogisticRegression(), direction=\"backward\")"
   ]
  },
  {
   "cell_type": "code",
   "execution_count": 113,
   "id": "10e90b12",
   "metadata": {},
   "outputs": [],
   "source": [
    "pipe_sfs_b = make_pipeline(preproc, sfs_backward)"
   ]
  },
  {
   "cell_type": "code",
   "execution_count": 114,
   "id": "b6d2332f",
   "metadata": {},
   "outputs": [],
   "source": [
    "pipe_sfs_log_b = make_pipeline(pipe_sfs_b, baseline)"
   ]
  },
  {
   "cell_type": "code",
   "execution_count": 115,
   "id": "dead0722",
   "metadata": {},
   "outputs": [
    {
     "name": "stdout",
     "output_type": "stream",
     "text": [
      "{'pipeline__sequentialfeatureselector__n_features_to_select': 6}\n"
     ]
    },
    {
     "data": {
      "text/plain": [
       "-0.583104081383077"
      ]
     },
     "execution_count": 115,
     "metadata": {},
     "output_type": "execute_result"
    }
   ],
   "source": [
    "#Grid Search \n",
    "param_grid =  {'pipeline__sequentialfeatureselector__n_features_to_select': np.arange(3,7)}\n",
    "\n",
    "grid_sfs_log_b = GridSearchCV(pipe_sfs_log_b, param_grid, \n",
    "                          cv=10, n_jobs=-1, scoring=\"neg_log_loss\")\n",
    "\n",
    "grid_sfs_log_b.fit(X_train, y_train);\n",
    "print(grid_sfs_log_b.best_params_)\n",
    "grid_sfs_log_b.best_score_"
   ]
  },
  {
   "cell_type": "code",
   "execution_count": 180,
   "id": "f38d0d7e",
   "metadata": {},
   "outputs": [
    {
     "data": {
      "image/png": "[encoded data removed]",
      "text/plain": [
       "<Figure size 432x288 with 1 Axes>"
      ]
     },
     "metadata": {
      "needs_background": "light"
     },
     "output_type": "display_data"
    }
   ],
   "source": [
    "# Check results of gridSearch\n",
    "sns.lineplot(x=[3, 4, 5, 6], y=-grid_sfs_log_b.cv_results_[\"mean_test_score\"]);"
   ]
  },
  {
   "cell_type": "code",
   "execution_count": 119,
   "id": "e2e377f6",
   "metadata": {},
   "outputs": [
    {
     "data": {
      "text/plain": [
       "0.6128473626047816"
      ]
     },
     "execution_count": 119,
     "metadata": {},
     "output_type": "execute_result"
    }
   ],
   "source": [
    "y_pred = grid_sfs_log_b.predict(X_test)\n",
    "\n",
    "roc_auc_score(y_test, y_pred)"
   ]
  },
  {
   "cell_type": "code",
   "execution_count": 120,
   "id": "a2b3a923",
   "metadata": {},
   "outputs": [
    {
     "data": {
      "text/plain": [
       "array([[925,  71],\n",
       "       [419, 177]])"
      ]
     },
     "execution_count": 120,
     "metadata": {},
     "output_type": "execute_result"
    }
   ],
   "source": [
    "confusion_matrix(y_test, y_pred)"
   ]
  },
  {
   "cell_type": "code",
   "execution_count": 121,
   "id": "0781520b",
   "metadata": {},
   "outputs": [
    {
     "name": "stdout",
     "output_type": "stream",
     "text": [
      "              precision    recall  f1-score   support\n",
      "\n",
      "    no_recid       0.69      0.93      0.79       996\n",
      "    is_recid       0.71      0.30      0.42       596\n",
      "\n",
      "    accuracy                           0.69      1592\n",
      "   macro avg       0.70      0.61      0.61      1592\n",
      "weighted avg       0.70      0.69      0.65      1592\n",
      "\n"
     ]
    }
   ],
   "source": [
    "print(classification_report(y_test, y_pred, target_names=[\"no_recid\", \"is_recid\"]))"
   ]
  },
  {
   "cell_type": "code",
   "execution_count": 122,
   "id": "5c9691fb",
   "metadata": {},
   "outputs": [
    {
     "data": {
      "text/plain": [
       "Index(['age', 'sex', 'juv_fel_count', 'juv_misd_count', 'juv_other_count',\n",
       "       'c_charge_degree'],\n",
       "      dtype='object')"
      ]
     },
     "execution_count": 122,
     "metadata": {},
     "output_type": "execute_result"
    }
   ],
   "source": [
    "# Get selected features\n",
    "sel_feat = grid_sfs_log_b.best_estimator_.named_steps[\"pipeline\"][\"sequentialfeatureselector\"].get_support()\n",
    "\n",
    "#See selected features\n",
    "X.columns[sel_feat]"
   ]
  },
  {
   "cell_type": "markdown",
   "id": "fa5e3d21",
   "metadata": {},
   "source": [
    "## Feature permutation"
   ]
  },
  {
   "cell_type": "markdown",
   "id": "e5d8a97b",
   "metadata": {},
   "source": [
    "We want to remove features that, when in combination with all the others, do not really help predict our target.\n",
    "\n",
    "To do so, we use feature `permutation_importance` importance in combination with an estimator! It train one pipe per feature, so as to estimate which feature make our performance score *decrease* the most when shuffling it randomly. These would be our most important feature not to remove. \n",
    "\n",
    "We compute permutation importances on the held-out testing set. This makes it possible to highlight which features contribute the most to the generalization power of the inspected model."
   ]
  },
  {
   "cell_type": "code",
   "execution_count": 167,
   "id": "5b382b9a",
   "metadata": {
    "scrolled": false
   },
   "outputs": [
    {
     "data": {
      "text/html": [
       "<div>\n",
       "<style scoped>\n",
       "    .dataframe tbody tr th:only-of-type {\n",
       "        vertical-align: middle;\n",
       "    }\n",
       "\n",
       "    .dataframe tbody tr th {\n",
       "        vertical-align: top;\n",
       "    }\n",
       "\n",
       "    .dataframe thead th {\n",
       "        text-align: right;\n",
       "    }\n",
       "</style>\n",
       "<table border=\"1\" class=\"dataframe\">\n",
       "  <thead>\n",
       "    <tr style=\"text-align: right;\">\n",
       "      <th></th>\n",
       "      <th>feature</th>\n",
       "      <th>score decrease</th>\n",
       "    </tr>\n",
       "  </thead>\n",
       "  <tbody>\n",
       "    <tr>\n",
       "      <th>6</th>\n",
       "      <td>priors_count</td>\n",
       "      <td>0.103278</td>\n",
       "    </tr>\n",
       "    <tr>\n",
       "      <th>0</th>\n",
       "      <td>age</td>\n",
       "      <td>0.045391</td>\n",
       "    </tr>\n",
       "    <tr>\n",
       "      <th>2</th>\n",
       "      <td>sex</td>\n",
       "      <td>0.006828</td>\n",
       "    </tr>\n",
       "    <tr>\n",
       "      <th>5</th>\n",
       "      <td>juv_other_count</td>\n",
       "      <td>0.003119</td>\n",
       "    </tr>\n",
       "    <tr>\n",
       "      <th>7</th>\n",
       "      <td>c_charge_degree</td>\n",
       "      <td>0.000905</td>\n",
       "    </tr>\n",
       "    <tr>\n",
       "      <th>8</th>\n",
       "      <td>c_charge_degree_detailed</td>\n",
       "      <td>0.000193</td>\n",
       "    </tr>\n",
       "    <tr>\n",
       "      <th>1</th>\n",
       "      <td>age_cat</td>\n",
       "      <td>0.000004</td>\n",
       "    </tr>\n",
       "    <tr>\n",
       "      <th>3</th>\n",
       "      <td>juv_fel_count</td>\n",
       "      <td>0.0</td>\n",
       "    </tr>\n",
       "    <tr>\n",
       "      <th>4</th>\n",
       "      <td>juv_misd_count</td>\n",
       "      <td>0.0</td>\n",
       "    </tr>\n",
       "  </tbody>\n",
       "</table>\n",
       "</div>"
      ],
      "text/plain": [
       "                    feature score decrease\n",
       "6              priors_count       0.103278\n",
       "0                       age       0.045391\n",
       "2                       sex       0.006828\n",
       "5           juv_other_count       0.003119\n",
       "7           c_charge_degree       0.000905\n",
       "8  c_charge_degree_detailed       0.000193\n",
       "1                   age_cat       0.000004\n",
       "3             juv_fel_count            0.0\n",
       "4            juv_misd_count            0.0"
      ]
     },
     "execution_count": 167,
     "metadata": {},
     "output_type": "execute_result"
    }
   ],
   "source": [
    "permutation_score = permutation_importance(search_log, X_test, y_test, n_repeats=10) # Perform Permutation\n",
    "\n",
    "importance_df = pd.DataFrame(np.vstack((X_test.columns,\n",
    "                                        permutation_score.importances_mean)).T) # Unstack results\n",
    "importance_df.columns=['feature','score decrease']\n",
    "\n",
    "importance_df.sort_values(by=\"score decrease\", ascending = False) # Order by importance"
   ]
  },
  {
   "cell_type": "markdown",
   "id": "6d547eac",
   "metadata": {},
   "source": [
    "# Basinline model - Logistic Regression"
   ]
  },
  {
   "cell_type": "markdown",
   "id": "9386f819",
   "metadata": {},
   "source": [
    "As a baseline model for the prediction of general recidivism we choose a \"simple\" Logistic Regression Classifier without hyperparameter tuning."
   ]
  },
  {
   "cell_type": "code",
   "execution_count": 190,
   "id": "c37a6935",
   "metadata": {},
   "outputs": [],
   "source": [
    "model = LogisticRegression()\n",
    "pipe_log = make_pipeline(preproc, model)"
   ]
  },
  {
   "cell_type": "code",
   "execution_count": 199,
   "id": "af13d1ec",
   "metadata": {},
   "outputs": [],
   "source": [
    "baseline_log_cv = cross_validate(pipe_log, X_train, y_train, cv=10, n_jobs=-1, scoring=\"neg_log_loss\")"
   ]
  },
  {
   "cell_type": "code",
   "execution_count": 197,
   "id": "b3f41347",
   "metadata": {},
   "outputs": [
    {
     "name": "stdout",
     "output_type": "stream",
     "text": [
      "10 fold cross validated score of untuned Logistic regression model: -0.5823936214563918\n"
     ]
    }
   ],
   "source": [
    "baseline_score = np.mean(baseline_log_cv[\"test_score\"])\n",
    "print(\"10 fold cross validated score of untuned Logistic regression model:\", baseline_score)"
   ]
  },
  {
   "cell_type": "code",
   "execution_count": 202,
   "id": "bd56c84f",
   "metadata": {},
   "outputs": [],
   "source": [
    "baseline_log = pipe_log.fit(X_train, y_train)"
   ]
  },
  {
   "cell_type": "code",
   "execution_count": 203,
   "id": "4432f9cb",
   "metadata": {},
   "outputs": [
    {
     "data": {
      "text/plain": [
       "0.6203976981752514"
      ]
     },
     "execution_count": 203,
     "metadata": {},
     "output_type": "execute_result"
    }
   ],
   "source": [
    "y_pred = baseline_log.predict(X_test)\n",
    "\n",
    "roc_auc_score(y_test, y_pred)"
   ]
  },
  {
   "cell_type": "code",
   "execution_count": 204,
   "id": "eea4bb97",
   "metadata": {},
   "outputs": [
    {
     "data": {
      "text/plain": [
       "array([[925,  71],\n",
       "       [410, 186]])"
      ]
     },
     "execution_count": 204,
     "metadata": {},
     "output_type": "execute_result"
    }
   ],
   "source": [
    "confusion_matrix(y_test, y_pred)"
   ]
  },
  {
   "cell_type": "code",
   "execution_count": 205,
   "id": "f4c6fded",
   "metadata": {},
   "outputs": [
    {
     "name": "stdout",
     "output_type": "stream",
     "text": [
      "              precision    recall  f1-score   support\n",
      "\n",
      "    no_recid       0.69      0.93      0.79       996\n",
      "    is_recid       0.72      0.31      0.44       596\n",
      "\n",
      "    accuracy                           0.70      1592\n",
      "   macro avg       0.71      0.62      0.61      1592\n",
      "weighted avg       0.70      0.70      0.66      1592\n",
      "\n"
     ]
    }
   ],
   "source": [
    "print(classification_report(y_test, y_pred, target_names=[\"no_recid\", \"is_recid\"]))"
   ]
  },
  {
   "cell_type": "markdown",
   "id": "9f727457",
   "metadata": {},
   "source": [
    "# Model iteration"
   ]
  },
  {
   "cell_type": "markdown",
   "id": "afcf0841",
   "metadata": {},
   "source": [
    "## Logistic Regression"
   ]
  },
  {
   "cell_type": "markdown",
   "id": "a607731f",
   "metadata": {},
   "source": [
    "### Tuned Logistic regression with `elasticnet` solver"
   ]
  },
  {
   "cell_type": "code",
   "execution_count": 35,
   "id": "3f04e6ce",
   "metadata": {},
   "outputs": [],
   "source": [
    "model = LogisticRegression()\n",
    "pipe_log = make_pipeline(preproc, model)"
   ]
  },
  {
   "cell_type": "code",
   "execution_count": 36,
   "id": "d37789f8",
   "metadata": {},
   "outputs": [
    {
     "name": "stdout",
     "output_type": "stream",
     "text": [
      "{'logisticregression__C': 1.2222222222222223, 'logisticregression__l1_ratio': 1.0, 'logisticregression__penalty': 'elasticnet', 'logisticregression__solver': 'saga'}\n"
     ]
    },
    {
     "data": {
      "text/plain": [
       "-0.5815228218961817"
      ]
     },
     "execution_count": 36,
     "metadata": {},
     "output_type": "execute_result"
    }
   ],
   "source": [
    "#Grid Search\n",
    "param_grid =  {'logisticregression__penalty': ['elasticnet'],\n",
    "               'logisticregression__solver': ['saga'],\n",
    "               'logisticregression__C': np.linspace(1,2,10),\n",
    "               'logisticregression__l1_ratio': np.arange(0,1.1,0.1)\n",
    "              }\n",
    "\n",
    "search_log = GridSearchCV(pipe_log, param_grid, \n",
    "                          cv=10, n_jobs=-1, scoring=\"neg_log_loss\")\n",
    "\n",
    "search_log.fit(X_train, y_train);\n",
    "print(search_log.best_params_)\n",
    "search_log.best_score_"
   ]
  },
  {
   "cell_type": "code",
   "execution_count": 37,
   "id": "42214bd6",
   "metadata": {},
   "outputs": [
    {
     "data": {
      "text/plain": [
       "0.6234299614565646"
      ]
     },
     "execution_count": 37,
     "metadata": {},
     "output_type": "execute_result"
    }
   ],
   "source": [
    "y_pred = search_log.predict(X_test)\n",
    "\n",
    "roc_auc_score(y_test, y_pred)"
   ]
  },
  {
   "cell_type": "code",
   "execution_count": 38,
   "id": "5f064f2b",
   "metadata": {},
   "outputs": [
    {
     "data": {
      "text/plain": [
       "array([[916,  80],\n",
       "       [401, 195]])"
      ]
     },
     "execution_count": 38,
     "metadata": {},
     "output_type": "execute_result"
    }
   ],
   "source": [
    "confusion_matrix(y_test, y_pred)"
   ]
  },
  {
   "cell_type": "code",
   "execution_count": 39,
   "id": "80e2f7b2",
   "metadata": {
    "scrolled": true
   },
   "outputs": [
    {
     "name": "stdout",
     "output_type": "stream",
     "text": [
      "              precision    recall  f1-score   support\n",
      "\n",
      "    no_recid       0.70      0.92      0.79       996\n",
      "    is_recid       0.71      0.33      0.45       596\n",
      "\n",
      "    accuracy                           0.70      1592\n",
      "   macro avg       0.70      0.62      0.62      1592\n",
      "weighted avg       0.70      0.70      0.66      1592\n",
      "\n"
     ]
    }
   ],
   "source": [
    "print(classification_report(y_test, y_pred, target_names=[\"no_recid\", \"is_recid\"]))"
   ]
  },
  {
   "cell_type": "markdown",
   "id": "c0b8cfef",
   "metadata": {},
   "source": [
    "### Different `l2` solvers"
   ]
  },
  {
   "cell_type": "markdown",
   "id": "2079161f",
   "metadata": {},
   "source": [
    "The `l2` solvers are calculated separately to the `elasticnet`, because these solvers do not work with `l1`"
   ]
  },
  {
   "cell_type": "code",
   "execution_count": 59,
   "id": "df52796f",
   "metadata": {},
   "outputs": [
    {
     "name": "stdout",
     "output_type": "stream",
     "text": [
      "{'logisticregression__C': 2.9, 'logisticregression__solver': 'liblinear'}\n"
     ]
    },
    {
     "data": {
      "text/plain": [
       "-0.581820997289144"
      ]
     },
     "execution_count": 59,
     "metadata": {},
     "output_type": "execute_result"
    }
   ],
   "source": [
    "#Grid Search\n",
    "param_grid =  {'logisticregression__solver': ['newton-cg', 'lbfgs', 'liblinear', 'sag'],\n",
    "               'logisticregression__C': np.linspace(2.6,2.9,100),\n",
    "              }\n",
    "\n",
    "search_log_2 = GridSearchCV(pipe_log, param_grid, \n",
    "                          cv=10, n_jobs=-1, scoring=\"neg_log_loss\")\n",
    "\n",
    "search_log_2.fit(X_train, y_train);\n",
    "print(search_log_2.best_params_)\n",
    "search_log_2.best_score_"
   ]
  },
  {
   "cell_type": "code",
   "execution_count": 60,
   "id": "56e85ddb",
   "metadata": {},
   "outputs": [
    {
     "data": {
      "text/plain": [
       "0.6224192070294602"
      ]
     },
     "execution_count": 60,
     "metadata": {},
     "output_type": "execute_result"
    }
   ],
   "source": [
    "y_pred = search_log_2.predict(X_test)\n",
    "\n",
    "roc_auc_score(y_test, y_pred)"
   ]
  },
  {
   "cell_type": "code",
   "execution_count": 50,
   "id": "d00f8e0e",
   "metadata": {},
   "outputs": [
    {
     "data": {
      "text/plain": [
       "array([[917,  79],\n",
       "       [404, 192]])"
      ]
     },
     "execution_count": 50,
     "metadata": {},
     "output_type": "execute_result"
    }
   ],
   "source": [
    "confusion_matrix(y_test, y_pred)"
   ]
  },
  {
   "cell_type": "code",
   "execution_count": 135,
   "id": "4215acb9",
   "metadata": {},
   "outputs": [
    {
     "name": "stdout",
     "output_type": "stream",
     "text": [
      "              precision    recall  f1-score   support\n",
      "\n",
      "    no_recid       0.71      0.91      0.80      1004\n",
      "    is_recid       0.72      0.38      0.49       588\n",
      "\n",
      "    accuracy                           0.71      1592\n",
      "   macro avg       0.71      0.64      0.65      1592\n",
      "weighted avg       0.71      0.71      0.69      1592\n",
      "\n"
     ]
    }
   ],
   "source": [
    "print(classification_report(y_test, y_pred, target_names=[\"no_recid\", \"is_recid\"]))"
   ]
  },
  {
   "cell_type": "markdown",
   "id": "a8edbeb0",
   "metadata": {},
   "source": [
    "## Tree models"
   ]
  },
  {
   "cell_type": "markdown",
   "id": "3b8ea729",
   "metadata": {},
   "source": [
    "### Untuned tree model"
   ]
  },
  {
   "cell_type": "code",
   "execution_count": 247,
   "id": "ca1b892b",
   "metadata": {},
   "outputs": [
    {
     "name": "stdout",
     "output_type": "stream",
     "text": [
      "Standard deviation across different folds: 0.01338472959406931\n"
     ]
    },
    {
     "data": {
      "text/plain": [
       "-0.5861846711950112"
      ]
     },
     "execution_count": 247,
     "metadata": {},
     "output_type": "execute_result"
    }
   ],
   "source": [
    "tree_model = DecisionTreeClassifier(max_depth=3)\n",
    "pipe_tree = make_pipeline(preproc, tree_model)\n",
    "score_tree = cross_val_score(pipe_tree, X_train, y_train, cv=10, scoring=\"neg_log_loss\")\n",
    "print(\"Standard deviation across different folds:\", score_tree.std())\n",
    "score_tree.mean()"
   ]
  },
  {
   "cell_type": "code",
   "execution_count": 248,
   "id": "f22c9e50",
   "metadata": {},
   "outputs": [],
   "source": [
    "tree_base = pipe_tree.fit(X_train, y_train)"
   ]
  },
  {
   "cell_type": "code",
   "execution_count": 249,
   "id": "bbe10d4b",
   "metadata": {},
   "outputs": [
    {
     "data": {
      "image/png": "[encoded data removed]",
      "text/plain": [
       "<Figure size 2160x720 with 1 Axes>"
      ]
     },
     "metadata": {
      "needs_background": "light"
     },
     "output_type": "display_data"
    }
   ],
   "source": [
    "plt.figure(figsize=(30,10))\n",
    "plot_tree(tree_base[\"decisiontreeclassifier\"], \n",
    "          feature_names=X_train.columns,  \n",
    "          class_names=[\"no_recid\", \"is_recid\"],\n",
    "          filled=True);"
   ]
  },
  {
   "cell_type": "code",
   "execution_count": 250,
   "id": "94b18051",
   "metadata": {},
   "outputs": [
    {
     "data": {
      "text/plain": [
       "0.645487992237406"
      ]
     },
     "execution_count": 250,
     "metadata": {},
     "output_type": "execute_result"
    }
   ],
   "source": [
    "y_pred = tree_base.predict(X_test)\n",
    "\n",
    "roc_auc_score(y_test, y_pred)"
   ]
  },
  {
   "cell_type": "code",
   "execution_count": 251,
   "id": "4ac87934",
   "metadata": {},
   "outputs": [
    {
     "data": {
      "text/plain": [
       "array([[858, 138],\n",
       "       [340, 256]])"
      ]
     },
     "execution_count": 251,
     "metadata": {},
     "output_type": "execute_result"
    }
   ],
   "source": [
    "confusion_matrix(y_test, y_pred)"
   ]
  },
  {
   "cell_type": "code",
   "execution_count": 252,
   "id": "41af1d46",
   "metadata": {},
   "outputs": [
    {
     "name": "stdout",
     "output_type": "stream",
     "text": [
      "              precision    recall  f1-score   support\n",
      "\n",
      "    no_recid       0.72      0.86      0.78       996\n",
      "    is_recid       0.65      0.43      0.52       596\n",
      "\n",
      "    accuracy                           0.70      1592\n",
      "   macro avg       0.68      0.65      0.65      1592\n",
      "weighted avg       0.69      0.70      0.68      1592\n",
      "\n"
     ]
    }
   ],
   "source": [
    "print(classification_report(y_test, y_pred, target_names=[\"no_recid\", \"is_recid\"]))"
   ]
  },
  {
   "cell_type": "markdown",
   "id": "53e2d20d",
   "metadata": {},
   "source": [
    "### Single hyperparameter-tuned tree"
   ]
  },
  {
   "cell_type": "code",
   "execution_count": 257,
   "id": "08a14dc0",
   "metadata": {},
   "outputs": [],
   "source": [
    "tree = DecisionTreeClassifier()\n",
    "pipe_tree = make_pipeline(preproc, tree)"
   ]
  },
  {
   "cell_type": "code",
   "execution_count": 281,
   "id": "efac30b7",
   "metadata": {},
   "outputs": [
    {
     "name": "stdout",
     "output_type": "stream",
     "text": [
      "{'decisiontreeclassifier__max_depth': 5, 'decisiontreeclassifier__max_features': None, 'decisiontreeclassifier__min_impurity_decrease': 0.0, 'decisiontreeclassifier__min_samples_leaf': 0.01, 'decisiontreeclassifier__min_samples_split': 2}\n"
     ]
    },
    {
     "data": {
      "text/plain": [
       "-0.5819349715875022"
      ]
     },
     "execution_count": 281,
     "metadata": {},
     "output_type": "execute_result"
    }
   ],
   "source": [
    "#Grid Search\n",
    "param_grid =  {'decisiontreeclassifier__max_depth': np.arange(2,6),\n",
    "               'decisiontreeclassifier__min_samples_split': np.arange(2,30,10),\n",
    "               'decisiontreeclassifier__min_samples_leaf': np.arange(0.01,0.3, 0.1),\n",
    "               'decisiontreeclassifier__max_features': [None, \"sqrt\", \"log2\"],\n",
    "               'decisiontreeclassifier__min_impurity_decrease': np.arange(0.0,0.5,0.1)\n",
    "               }\n",
    "\n",
    "tree_tuned_cv = GridSearchCV(pipe_tree, param_grid, #n_iter=10,\n",
    "                          cv=10, n_jobs=-1, scoring=\"neg_log_loss\")\n",
    "\n",
    "tree_tuned_cv.fit(X_train, y_train);\n",
    "print(tree_tuned_cv.best_params_)\n",
    "tree_tuned_cv.best_score_"
   ]
  },
  {
   "cell_type": "code",
   "execution_count": 282,
   "id": "13d0c3dd",
   "metadata": {},
   "outputs": [
    {
     "data": {
      "text/plain": [
       "0.6459832619066871"
      ]
     },
     "execution_count": 282,
     "metadata": {},
     "output_type": "execute_result"
    }
   ],
   "source": [
    "y_pred = tree_tuned_cv.predict(X_test)\n",
    "\n",
    "roc_auc_score(y_test, y_pred)"
   ]
  },
  {
   "cell_type": "code",
   "execution_count": 283,
   "id": "40652552",
   "metadata": {},
   "outputs": [
    {
     "data": {
      "text/plain": [
       "array([[864, 132],\n",
       "       [343, 253]])"
      ]
     },
     "execution_count": 283,
     "metadata": {},
     "output_type": "execute_result"
    }
   ],
   "source": [
    "confusion_matrix(y_test, y_pred)"
   ]
  },
  {
   "cell_type": "code",
   "execution_count": 284,
   "id": "c28da62f",
   "metadata": {},
   "outputs": [
    {
     "name": "stdout",
     "output_type": "stream",
     "text": [
      "              precision    recall  f1-score   support\n",
      "\n",
      "    no_recid       0.72      0.87      0.78       996\n",
      "    is_recid       0.66      0.42      0.52       596\n",
      "\n",
      "    accuracy                           0.70      1592\n",
      "   macro avg       0.69      0.65      0.65      1592\n",
      "weighted avg       0.69      0.70      0.68      1592\n",
      "\n"
     ]
    }
   ],
   "source": [
    "print(classification_report(y_test, y_pred, target_names=[\"no_recid\", \"is_recid\"]))"
   ]
  },
  {
   "cell_type": "markdown",
   "id": "0aed95f8",
   "metadata": {},
   "source": [
    "### Tuned tree with feature selection"
   ]
  },
  {
   "cell_type": "code",
   "execution_count": null,
   "id": "f5422a7d",
   "metadata": {},
   "outputs": [],
   "source": []
  },
  {
   "cell_type": "code",
   "execution_count": null,
   "id": "09bfab96",
   "metadata": {},
   "outputs": [],
   "source": []
  },
  {
   "cell_type": "markdown",
   "id": "93431937",
   "metadata": {},
   "source": [
    "### Bagged Tree"
   ]
  },
  {
   "cell_type": "code",
   "execution_count": null,
   "id": "221a8358",
   "metadata": {},
   "outputs": [],
   "source": []
  },
  {
   "cell_type": "code",
   "execution_count": null,
   "id": "6e770aea",
   "metadata": {},
   "outputs": [],
   "source": []
  },
  {
   "cell_type": "markdown",
   "id": "278d36f5",
   "metadata": {},
   "source": [
    "### Bagged tree with feature selection"
   ]
  },
  {
   "cell_type": "code",
   "execution_count": null,
   "id": "8d545d0d",
   "metadata": {},
   "outputs": [],
   "source": []
  },
  {
   "cell_type": "code",
   "execution_count": null,
   "id": "1cdff457",
   "metadata": {},
   "outputs": [],
   "source": []
  }
 ],
 "metadata": {
  "kernelspec": {
   "display_name": "Python 3 (ipykernel)",
   "language": "python",
   "name": "python3"
  },
  "language_info": {
   "codemirror_mode": {
    "name": "ipython",
    "version": 3
   },
   "file_extension": ".py",
   "mimetype": "text/x-python",
   "name": "python",
   "nbconvert_exporter": "python",
   "pygments_lexer": "ipython3",
   "version": "3.8.6"
  },
  "toc": {
   "base_numbering": 1,
   "nav_menu": {},
   "number_sections": true,
   "sideBar": true,
   "skip_h1_title": false,
   "title_cell": "Table of Contents",
   "title_sidebar": "Contents",
   "toc_cell": false,
   "toc_position": {},
   "toc_section_display": true,
   "toc_window_display": true
  }
 },
 "nbformat": 4,
 "nbformat_minor": 5
}
