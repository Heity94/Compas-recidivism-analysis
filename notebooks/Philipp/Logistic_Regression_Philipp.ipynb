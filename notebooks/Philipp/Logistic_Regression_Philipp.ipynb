{
 "cells": [
  {
   "cell_type": "code",
   "execution_count": 125,
   "id": "c360202c",
   "metadata": {},
   "outputs": [],
   "source": [
    "import numpy as np\n",
    "import pandas as pd\n",
    "import matplotlib.pyplot as plt\n",
    "import seaborn as sns\n",
    "\n",
    "from sklearn.linear_model import LogisticRegression\n",
    "from sklearn.preprocessing import LabelEncoder, OneHotEncoder, StandardScaler, MinMaxScaler\n",
    "from sklearn.impute import KNNImputer\n",
    "from sklearn.model_selection import cross_validate, GridSearchCV, train_test_split, RandomizedSearchCV\n",
    "from sklearn.metrics import confusion_matrix, ConfusionMatrixDisplay, classification_report, log_loss, roc_auc_score"
   ]
  },
  {
   "cell_type": "markdown",
   "id": "1e8d95f6",
   "metadata": {},
   "source": [
    "# Logistic regression (Classification of general recidivism)"
   ]
  },
  {
   "cell_type": "markdown",
   "id": "5186a16d",
   "metadata": {},
   "source": [
    "## Load dataset"
   ]
  },
  {
   "cell_type": "code",
   "execution_count": 122,
   "id": "f8d98873",
   "metadata": {},
   "outputs": [],
   "source": [
    "df = pd.read_csv(\"../../data-cleaned/compas-scores-two-years-clean.csv\")"
   ]
  },
  {
   "cell_type": "markdown",
   "id": "6206d828",
   "metadata": {},
   "source": [
    "ProPublicas reasoning for filter `raw_data`:\n",
    ">However not all of the rows are useable for the first round of analysis.\n",
    ">There are a number of reasons remove rows because of missing data:\n",
    ">* If the charge date of a defendants Compas scored crime was not within 30 days from when the person was arrested, we assume that because of data quality reasons, that we do not have the right offense.\n",
    ">* We coded the recidivist flag -- `is_recid` -- to be -1 if we could not find a compas case at all.\n",
    ">* In a similar vein, ordinary traffic offenses -- those with a `c_charge_degree` of 'O' -- will not result in Jail time are removed (only two of them).\n",
    ">* We filtered the underlying data from Broward county to include only those rows representing people who had either recidivated in two years, or had at least two years outside of a correctional facility."
   ]
  },
  {
   "cell_type": "markdown",
   "id": "711dd7cb",
   "metadata": {},
   "source": [
    "## Filter dataset"
   ]
  },
  {
   "cell_type": "code",
   "execution_count": 13,
   "id": "1e98cb8e",
   "metadata": {},
   "outputs": [],
   "source": [
    "df = df[\n",
    "        (df[\"days_b_screening_arrest\"]<=30) \n",
    "        & (df[\"days_b_screening_arrest\"]>=-30) \n",
    "        & (df[\"is_recid\"]!=-1) \n",
    "        & (df[\"c_charge_degree\"]!=\"O\") \n",
    "      ].dropna(subset=['score_text'])"
   ]
  },
  {
   "cell_type": "code",
   "execution_count": 109,
   "id": "8b3936ad",
   "metadata": {},
   "outputs": [],
   "source": [
    "# Select columns of interest and store as new df\n",
    "columns = [\"id\", \"age\", \"age_cat\", \"sex\", \"race\",  #demographics\n",
    "           \"juv_fel_count\", \"juv_misd_count\", \"juv_other_count\", \"priors_count\", #criminal history\n",
    "           \"c_charge_degree\", \"c_charge_desc\", #current charges\n",
    "           \"score_text\", \"decile_score\", #compas results for current charges\n",
    "           \"r_charge_degree\", \"r_charge_desc\", #commited crimes (general) within 2 years after COMPAS scoring \n",
    "           \"two_year_recid\"] #truth\n",
    "\n",
    "df_clean = df[columns]"
   ]
  },
  {
   "cell_type": "markdown",
   "id": "ed7936f6",
   "metadata": {},
   "source": [
    "## Check values and dtypes of columns"
   ]
  },
  {
   "cell_type": "code",
   "execution_count": 120,
   "id": "db4b84a0",
   "metadata": {},
   "outputs": [
    {
     "name": "stdout",
     "output_type": "stream",
     "text": [
      "<class 'pandas.core.frame.DataFrame'>\n",
      "Int64Index: 5304 entries, 0 to 6215\n",
      "Data columns (total 16 columns):\n",
      " #   Column           Non-Null Count  Dtype \n",
      "---  ------           --------------  ----- \n",
      " 0   id               5304 non-null   int64 \n",
      " 1   age              5304 non-null   int64 \n",
      " 2   age_cat          5304 non-null   object\n",
      " 3   sex              5304 non-null   object\n",
      " 4   race             5304 non-null   object\n",
      " 5   juv_fel_count    5304 non-null   int64 \n",
      " 6   juv_misd_count   5304 non-null   int64 \n",
      " 7   juv_other_count  5304 non-null   int64 \n",
      " 8   priors_count     5304 non-null   int64 \n",
      " 9   c_charge_degree  5304 non-null   object\n",
      " 10  c_charge_desc    5299 non-null   object\n",
      " 11  score_text       5304 non-null   object\n",
      " 12  decile_score     5304 non-null   int64 \n",
      " 13  r_charge_degree  2122 non-null   object\n",
      " 14  r_charge_desc    2095 non-null   object\n",
      " 15  two_year_recid   5304 non-null   int64 \n",
      "dtypes: int64(8), object(8)\n",
      "memory usage: 833.5+ KB\n"
     ]
    }
   ],
   "source": [
    "df_clean.info()"
   ]
  },
  {
   "cell_type": "code",
   "execution_count": 93,
   "id": "4caa7b57",
   "metadata": {},
   "outputs": [],
   "source": [
    "# Check c_charge_desc for \"arrest case no charge\"\n",
    "\n",
    "# df_clean = df_clean.dropna()\n",
    "# df_clean[df_clean[\"c_charge_desc\"].str.contains(\"arrest case no charge\")]"
   ]
  },
  {
   "cell_type": "code",
   "execution_count": 113,
   "id": "1a1156d7",
   "metadata": {},
   "outputs": [
    {
     "name": "stdout",
     "output_type": "stream",
     "text": [
      "359\n",
      "266\n",
      "126\n"
     ]
    }
   ],
   "source": [
    "# There are 358 unique charges in the dataset in total (wo NaN)\n",
    "print(len(df_clean.c_charge_desc.unique()))\n",
    "\n",
    "# There are 265 unqiue charges for felonies (23 of them also exist in misdemeanor) (wo NaN)\n",
    "print(len(df_clean[df_clean[\"c_charge_degree\"]==\"F\"][[\"c_charge_degree\", \"c_charge_desc\"]].c_charge_desc.unique()))\n",
    "\n",
    "# There are 125 unqiue charges for misdemeanors  (wo NaN)\n",
    "print(len(df_clean[df_clean[\"c_charge_degree\"]==\"M\"][[\"c_charge_degree\", \"c_charge_desc\"]].c_charge_desc.unique()))"
   ]
  },
  {
   "cell_type": "markdown",
   "id": "f6106222",
   "metadata": {},
   "source": [
    "## Select relevant features"
   ]
  },
  {
   "cell_type": "code",
   "execution_count": 126,
   "id": "1f52331e",
   "metadata": {},
   "outputs": [],
   "source": [
    "#Select features for Logistic regression model age or age_cat, exclude/ include race\n",
    "columns_log = [\"age\", \"age_cat\", \"sex\", \"race\",  #demographics\n",
    "               \"juv_fel_count\", \"juv_misd_count\", \"juv_other_count\", \"priors_count\", #criminal history\n",
    "               \"c_charge_degree\", \"c_charge_desc\", #current charges \n",
    "               \"two_year_recid\"] #truth\n",
    "\n",
    "df_log = df_clean[columns_log]"
   ]
  },
  {
   "cell_type": "code",
   "execution_count": 127,
   "id": "479b036d",
   "metadata": {},
   "outputs": [
    {
     "data": {
      "text/html": [
       "<div>\n",
       "<style scoped>\n",
       "    .dataframe tbody tr th:only-of-type {\n",
       "        vertical-align: middle;\n",
       "    }\n",
       "\n",
       "    .dataframe tbody tr th {\n",
       "        vertical-align: top;\n",
       "    }\n",
       "\n",
       "    .dataframe thead th {\n",
       "        text-align: right;\n",
       "    }\n",
       "</style>\n",
       "<table border=\"1\" class=\"dataframe\">\n",
       "  <thead>\n",
       "    <tr style=\"text-align: right;\">\n",
       "      <th></th>\n",
       "      <th>age</th>\n",
       "      <th>age_cat</th>\n",
       "      <th>sex</th>\n",
       "      <th>race</th>\n",
       "      <th>juv_fel_count</th>\n",
       "      <th>juv_misd_count</th>\n",
       "      <th>juv_other_count</th>\n",
       "      <th>priors_count</th>\n",
       "      <th>c_charge_degree</th>\n",
       "      <th>c_charge_desc</th>\n",
       "      <th>two_year_recid</th>\n",
       "    </tr>\n",
       "  </thead>\n",
       "  <tbody>\n",
       "    <tr>\n",
       "      <th>0</th>\n",
       "      <td>69</td>\n",
       "      <td>Greater than 45</td>\n",
       "      <td>Male</td>\n",
       "      <td>Other</td>\n",
       "      <td>0</td>\n",
       "      <td>0</td>\n",
       "      <td>0</td>\n",
       "      <td>0</td>\n",
       "      <td>F</td>\n",
       "      <td>Aggravated Assault w/Firearm</td>\n",
       "      <td>0</td>\n",
       "    </tr>\n",
       "    <tr>\n",
       "      <th>1</th>\n",
       "      <td>34</td>\n",
       "      <td>25 - 45</td>\n",
       "      <td>Male</td>\n",
       "      <td>African-American</td>\n",
       "      <td>0</td>\n",
       "      <td>0</td>\n",
       "      <td>0</td>\n",
       "      <td>0</td>\n",
       "      <td>F</td>\n",
       "      <td>Felony Battery w/Prior Convict</td>\n",
       "      <td>1</td>\n",
       "    </tr>\n",
       "    <tr>\n",
       "      <th>2</th>\n",
       "      <td>24</td>\n",
       "      <td>Less than 25</td>\n",
       "      <td>Male</td>\n",
       "      <td>African-American</td>\n",
       "      <td>0</td>\n",
       "      <td>0</td>\n",
       "      <td>1</td>\n",
       "      <td>4</td>\n",
       "      <td>F</td>\n",
       "      <td>Possession of Cocaine</td>\n",
       "      <td>1</td>\n",
       "    </tr>\n",
       "    <tr>\n",
       "      <th>5</th>\n",
       "      <td>44</td>\n",
       "      <td>25 - 45</td>\n",
       "      <td>Male</td>\n",
       "      <td>Other</td>\n",
       "      <td>0</td>\n",
       "      <td>0</td>\n",
       "      <td>0</td>\n",
       "      <td>0</td>\n",
       "      <td>M</td>\n",
       "      <td>Battery</td>\n",
       "      <td>0</td>\n",
       "    </tr>\n",
       "    <tr>\n",
       "      <th>6</th>\n",
       "      <td>41</td>\n",
       "      <td>25 - 45</td>\n",
       "      <td>Male</td>\n",
       "      <td>Caucasian</td>\n",
       "      <td>0</td>\n",
       "      <td>0</td>\n",
       "      <td>0</td>\n",
       "      <td>14</td>\n",
       "      <td>F</td>\n",
       "      <td>Possession Burglary Tools</td>\n",
       "      <td>1</td>\n",
       "    </tr>\n",
       "    <tr>\n",
       "      <th>...</th>\n",
       "      <td>...</td>\n",
       "      <td>...</td>\n",
       "      <td>...</td>\n",
       "      <td>...</td>\n",
       "      <td>...</td>\n",
       "      <td>...</td>\n",
       "      <td>...</td>\n",
       "      <td>...</td>\n",
       "      <td>...</td>\n",
       "      <td>...</td>\n",
       "      <td>...</td>\n",
       "    </tr>\n",
       "    <tr>\n",
       "      <th>6211</th>\n",
       "      <td>20</td>\n",
       "      <td>Less than 25</td>\n",
       "      <td>Male</td>\n",
       "      <td>African-American</td>\n",
       "      <td>0</td>\n",
       "      <td>0</td>\n",
       "      <td>0</td>\n",
       "      <td>0</td>\n",
       "      <td>F</td>\n",
       "      <td>Possession of Cocaine</td>\n",
       "      <td>0</td>\n",
       "    </tr>\n",
       "    <tr>\n",
       "      <th>6212</th>\n",
       "      <td>23</td>\n",
       "      <td>Less than 25</td>\n",
       "      <td>Male</td>\n",
       "      <td>African-American</td>\n",
       "      <td>0</td>\n",
       "      <td>0</td>\n",
       "      <td>0</td>\n",
       "      <td>0</td>\n",
       "      <td>F</td>\n",
       "      <td>Deliver Cannabis</td>\n",
       "      <td>0</td>\n",
       "    </tr>\n",
       "    <tr>\n",
       "      <th>6213</th>\n",
       "      <td>23</td>\n",
       "      <td>Less than 25</td>\n",
       "      <td>Male</td>\n",
       "      <td>African-American</td>\n",
       "      <td>0</td>\n",
       "      <td>0</td>\n",
       "      <td>0</td>\n",
       "      <td>0</td>\n",
       "      <td>F</td>\n",
       "      <td>Leaving the Scene of Accident</td>\n",
       "      <td>0</td>\n",
       "    </tr>\n",
       "    <tr>\n",
       "      <th>6214</th>\n",
       "      <td>57</td>\n",
       "      <td>Greater than 45</td>\n",
       "      <td>Male</td>\n",
       "      <td>Other</td>\n",
       "      <td>0</td>\n",
       "      <td>0</td>\n",
       "      <td>0</td>\n",
       "      <td>0</td>\n",
       "      <td>F</td>\n",
       "      <td>Aggravated Battery / Pregnant</td>\n",
       "      <td>0</td>\n",
       "    </tr>\n",
       "    <tr>\n",
       "      <th>6215</th>\n",
       "      <td>33</td>\n",
       "      <td>25 - 45</td>\n",
       "      <td>Female</td>\n",
       "      <td>African-American</td>\n",
       "      <td>0</td>\n",
       "      <td>0</td>\n",
       "      <td>0</td>\n",
       "      <td>3</td>\n",
       "      <td>M</td>\n",
       "      <td>Battery on Law Enforc Officer</td>\n",
       "      <td>0</td>\n",
       "    </tr>\n",
       "  </tbody>\n",
       "</table>\n",
       "<p>5304 rows × 11 columns</p>\n",
       "</div>"
      ],
      "text/plain": [
       "      age          age_cat     sex              race  juv_fel_count  \\\n",
       "0      69  Greater than 45    Male             Other              0   \n",
       "1      34          25 - 45    Male  African-American              0   \n",
       "2      24     Less than 25    Male  African-American              0   \n",
       "5      44          25 - 45    Male             Other              0   \n",
       "6      41          25 - 45    Male         Caucasian              0   \n",
       "...   ...              ...     ...               ...            ...   \n",
       "6211   20     Less than 25    Male  African-American              0   \n",
       "6212   23     Less than 25    Male  African-American              0   \n",
       "6213   23     Less than 25    Male  African-American              0   \n",
       "6214   57  Greater than 45    Male             Other              0   \n",
       "6215   33          25 - 45  Female  African-American              0   \n",
       "\n",
       "      juv_misd_count  juv_other_count  priors_count c_charge_degree  \\\n",
       "0                  0                0             0               F   \n",
       "1                  0                0             0               F   \n",
       "2                  0                1             4               F   \n",
       "5                  0                0             0               M   \n",
       "6                  0                0            14               F   \n",
       "...              ...              ...           ...             ...   \n",
       "6211               0                0             0               F   \n",
       "6212               0                0             0               F   \n",
       "6213               0                0             0               F   \n",
       "6214               0                0             0               F   \n",
       "6215               0                0             3               M   \n",
       "\n",
       "                       c_charge_desc  two_year_recid  \n",
       "0       Aggravated Assault w/Firearm               0  \n",
       "1     Felony Battery w/Prior Convict               1  \n",
       "2              Possession of Cocaine               1  \n",
       "5                            Battery               0  \n",
       "6          Possession Burglary Tools               1  \n",
       "...                              ...             ...  \n",
       "6211           Possession of Cocaine               0  \n",
       "6212                Deliver Cannabis               0  \n",
       "6213   Leaving the Scene of Accident               0  \n",
       "6214   Aggravated Battery / Pregnant               0  \n",
       "6215   Battery on Law Enforc Officer               0  \n",
       "\n",
       "[5304 rows x 11 columns]"
      ]
     },
     "execution_count": 127,
     "metadata": {},
     "output_type": "execute_result"
    }
   ],
   "source": [
    "df_log"
   ]
  },
  {
   "cell_type": "code",
   "execution_count": null,
   "id": "b9874adf",
   "metadata": {},
   "outputs": [],
   "source": []
  },
  {
   "cell_type": "markdown",
   "id": "07363907",
   "metadata": {},
   "source": [
    "## Create pipeline"
   ]
  },
  {
   "cell_type": "code",
   "execution_count": null,
   "id": "4046cc7c",
   "metadata": {},
   "outputs": [],
   "source": []
  },
  {
   "cell_type": "markdown",
   "id": "39a21cb9",
   "metadata": {},
   "source": [
    "## Baseline model"
   ]
  },
  {
   "cell_type": "code",
   "execution_count": null,
   "id": "54f8204e",
   "metadata": {},
   "outputs": [],
   "source": []
  }
 ],
 "metadata": {
  "kernelspec": {
   "display_name": "Python 3 (ipykernel)",
   "language": "python",
   "name": "python3"
  },
  "language_info": {
   "codemirror_mode": {
    "name": "ipython",
    "version": 3
   },
   "file_extension": ".py",
   "mimetype": "text/x-python",
   "name": "python",
   "nbconvert_exporter": "python",
   "pygments_lexer": "ipython3",
   "version": "3.8.6"
  },
  "toc": {
   "base_numbering": 1,
   "nav_menu": {},
   "number_sections": true,
   "sideBar": true,
   "skip_h1_title": false,
   "title_cell": "Table of Contents",
   "title_sidebar": "Contents",
   "toc_cell": false,
   "toc_position": {},
   "toc_section_display": true,
   "toc_window_display": false
  }
 },
 "nbformat": 4,
 "nbformat_minor": 5
}
