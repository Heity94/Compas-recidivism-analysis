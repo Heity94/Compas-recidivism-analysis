{
 "cells": [
  {
   "cell_type": "code",
   "execution_count": 1,
   "id": "c360202c",
   "metadata": {},
   "outputs": [],
   "source": [
    "import numpy as np\n",
    "import pandas as pd\n",
    "import matplotlib.pyplot as plt\n",
    "import seaborn as sns\n",
    "\n",
    "from sklearn.linear_model import LogisticRegression\n",
    "from sklearn.preprocessing import LabelEncoder, OneHotEncoder, StandardScaler, MinMaxScaler\n",
    "from sklearn.impute import KNNImputer\n",
    "from sklearn.model_selection import cross_validate, GridSearchCV, train_test_split, RandomizedSearchCV\n",
    "from sklearn.metrics import confusion_matrix, ConfusionMatrixDisplay, classification_report, log_loss, roc_auc_score"
   ]
  },
  {
   "cell_type": "markdown",
   "id": "1e8d95f6",
   "metadata": {},
   "source": [
    "# Logistic regression (Classification of general recidivism)"
   ]
  },
  {
   "cell_type": "markdown",
   "id": "5186a16d",
   "metadata": {},
   "source": [
    "## Load dataset"
   ]
  },
  {
   "cell_type": "code",
   "execution_count": 2,
   "id": "f8d98873",
   "metadata": {},
   "outputs": [],
   "source": [
    "df = pd.read_csv(\"../../data-cleaned/compas-scores-two-years-clean.csv\")"
   ]
  },
  {
   "cell_type": "markdown",
   "id": "6206d828",
   "metadata": {},
   "source": [
    "ProPublicas reasoning for filter `raw_data`:\n",
    ">However not all of the rows are useable for the first round of analysis.\n",
    ">There are a number of reasons remove rows because of missing data:\n",
    ">* If the charge date of a defendants Compas scored crime was not within 30 days from when the person was arrested, we assume that because of data quality reasons, that we do not have the right offense.\n",
    ">* We coded the recidivist flag -- `is_recid` -- to be -1 if we could not find a compas case at all.\n",
    ">* In a similar vein, ordinary traffic offenses -- those with a `c_charge_degree` of 'O' -- will not result in Jail time are removed (only two of them).\n",
    ">* We filtered the underlying data from Broward county to include only those rows representing people who had either recidivated in two years, or had at least two years outside of a correctional facility."
   ]
  },
  {
   "cell_type": "markdown",
   "id": "711dd7cb",
   "metadata": {},
   "source": [
    "## Filter dataset"
   ]
  },
  {
   "cell_type": "code",
   "execution_count": 3,
   "id": "1e98cb8e",
   "metadata": {},
   "outputs": [],
   "source": [
    "df = df[\n",
    "        (df[\"days_b_screening_arrest\"]<=30) \n",
    "        & (df[\"days_b_screening_arrest\"]>=-30) \n",
    "        & (df[\"is_recid\"]!=-1) \n",
    "        & (df[\"c_charge_degree\"]!=\"O\") \n",
    "      ].dropna(subset=['score_text'])"
   ]
  },
  {
   "cell_type": "code",
   "execution_count": 4,
   "id": "8b3936ad",
   "metadata": {},
   "outputs": [],
   "source": [
    "# Select columns of interest and store as new df\n",
    "columns = [\"id\", \"age\", \"age_cat\", \"sex\", \"race\",  #demographics\n",
    "           \"juv_fel_count\", \"juv_misd_count\", \"juv_other_count\", \"priors_count\", #criminal history\n",
    "           \"c_charge_degree\", \"c_charge_desc\", #current charges\n",
    "           \"score_text\", \"decile_score\", #compas results for current charges\n",
    "           \"r_charge_degree\", \"r_charge_desc\", #commited crimes (general) within 2 years after COMPAS scoring \n",
    "           \"two_year_recid\"] #truth\n",
    "\n",
    "df_clean = df[columns]"
   ]
  },
  {
   "cell_type": "markdown",
   "id": "ed7936f6",
   "metadata": {},
   "source": [
    "## Check values and dtypes of columns"
   ]
  },
  {
   "cell_type": "code",
   "execution_count": 5,
   "id": "db4b84a0",
   "metadata": {},
   "outputs": [
    {
     "name": "stdout",
     "output_type": "stream",
     "text": [
      "<class 'pandas.core.frame.DataFrame'>\n",
      "Int64Index: 5304 entries, 0 to 6215\n",
      "Data columns (total 16 columns):\n",
      " #   Column           Non-Null Count  Dtype \n",
      "---  ------           --------------  ----- \n",
      " 0   id               5304 non-null   int64 \n",
      " 1   age              5304 non-null   int64 \n",
      " 2   age_cat          5304 non-null   object\n",
      " 3   sex              5304 non-null   object\n",
      " 4   race             5304 non-null   object\n",
      " 5   juv_fel_count    5304 non-null   int64 \n",
      " 6   juv_misd_count   5304 non-null   int64 \n",
      " 7   juv_other_count  5304 non-null   int64 \n",
      " 8   priors_count     5304 non-null   int64 \n",
      " 9   c_charge_degree  5304 non-null   object\n",
      " 10  c_charge_desc    5299 non-null   object\n",
      " 11  score_text       5304 non-null   object\n",
      " 12  decile_score     5304 non-null   int64 \n",
      " 13  r_charge_degree  2122 non-null   object\n",
      " 14  r_charge_desc    2095 non-null   object\n",
      " 15  two_year_recid   5304 non-null   int64 \n",
      "dtypes: int64(8), object(8)\n",
      "memory usage: 704.4+ KB\n"
     ]
    }
   ],
   "source": [
    "df_clean.info()"
   ]
  },
  {
   "cell_type": "code",
   "execution_count": 6,
   "id": "4caa7b57",
   "metadata": {},
   "outputs": [],
   "source": [
    "# Check c_charge_desc for \"arrest case no charge\"\n",
    "\n",
    "# df_clean = df_clean.dropna()\n",
    "# df_clean[df_clean[\"c_charge_desc\"].str.contains(\"arrest case no charge\")]"
   ]
  },
  {
   "cell_type": "code",
   "execution_count": 7,
   "id": "1a1156d7",
   "metadata": {},
   "outputs": [
    {
     "name": "stdout",
     "output_type": "stream",
     "text": [
      "359\n",
      "266\n",
      "126\n"
     ]
    }
   ],
   "source": [
    "# There are 358 unique charges in the dataset in total (wo NaN)\n",
    "print(len(df_clean.c_charge_desc.unique()))\n",
    "\n",
    "# There are 265 unqiue charges for felonies (23 of them also exist in misdemeanor) (wo NaN)\n",
    "print(len(df_clean[df_clean[\"c_charge_degree\"]==\"F\"][[\"c_charge_degree\", \"c_charge_desc\"]].c_charge_desc.unique()))\n",
    "\n",
    "# There are 125 unqiue charges for misdemeanors  (wo NaN)\n",
    "print(len(df_clean[df_clean[\"c_charge_degree\"]==\"M\"][[\"c_charge_degree\", \"c_charge_desc\"]].c_charge_desc.unique()))"
   ]
  },
  {
   "cell_type": "markdown",
   "id": "f6106222",
   "metadata": {},
   "source": [
    "## Select relevant features"
   ]
  },
  {
   "cell_type": "code",
   "execution_count": 8,
   "id": "1f52331e",
   "metadata": {},
   "outputs": [],
   "source": [
    "#Select features for Logistic regression model age or age_cat, exclude/ include race\n",
    "columns_log = [\"id\", \"age\", \"age_cat\", \"sex\", \"race\",  #demographics\n",
    "               \"juv_fel_count\", \"juv_misd_count\", \"juv_other_count\", \"priors_count\", #criminal history\n",
    "               \"c_charge_degree\", \"c_charge_desc\", #current charges \n",
    "               \"two_year_recid\"] #truth\n",
    "\n",
    "df_log = df_clean[columns_log]"
   ]
  },
  {
   "cell_type": "code",
   "execution_count": null,
   "id": "07222301",
   "metadata": {},
   "outputs": [],
   "source": []
  },
  {
   "cell_type": "code",
   "execution_count": null,
   "id": "99621259",
   "metadata": {},
   "outputs": [],
   "source": []
  },
  {
   "cell_type": "markdown",
   "id": "962b579e",
   "metadata": {},
   "source": [
    "### Test"
   ]
  },
  {
   "cell_type": "code",
   "execution_count": 18,
   "id": "c959e3a3",
   "metadata": {},
   "outputs": [],
   "source": [
    "df_clean_test = df_clean.copy()"
   ]
  },
  {
   "cell_type": "code",
   "execution_count": 10,
   "id": "7c7ccb3f",
   "metadata": {},
   "outputs": [],
   "source": [
    "#df_log_test = df_log.copy()"
   ]
  },
  {
   "cell_type": "code",
   "execution_count": 11,
   "id": "a0f8249a",
   "metadata": {},
   "outputs": [],
   "source": [
    "lookup_c_charge_degree = pd.merge(df_clean[[\"c_charge_desc\"]], \n",
    "                df_clean[[\"r_charge_degree\", \"r_charge_desc\"]], \n",
    "                left_on=\"c_charge_desc\", \n",
    "                right_on=\"r_charge_desc\")"
   ]
  },
  {
   "cell_type": "code",
   "execution_count": 12,
   "id": "0561483c",
   "metadata": {},
   "outputs": [
    {
     "data": {
      "text/html": [
       "<div>\n",
       "<style scoped>\n",
       "    .dataframe tbody tr th:only-of-type {\n",
       "        vertical-align: middle;\n",
       "    }\n",
       "\n",
       "    .dataframe tbody tr th {\n",
       "        vertical-align: top;\n",
       "    }\n",
       "\n",
       "    .dataframe thead th {\n",
       "        text-align: right;\n",
       "    }\n",
       "</style>\n",
       "<table border=\"1\" class=\"dataframe\">\n",
       "  <thead>\n",
       "    <tr style=\"text-align: right;\">\n",
       "      <th></th>\n",
       "      <th>c_charge_desc</th>\n",
       "      <th>c_charge_degree_detailed</th>\n",
       "    </tr>\n",
       "  </thead>\n",
       "  <tbody>\n",
       "    <tr>\n",
       "      <th>0</th>\n",
       "      <td>Felony Battery w/Prior Convict</td>\n",
       "      <td>(F3)</td>\n",
       "    </tr>\n",
       "    <tr>\n",
       "      <th>352</th>\n",
       "      <td>Possession of Cocaine</td>\n",
       "      <td>(F3)</td>\n",
       "    </tr>\n",
       "    <tr>\n",
       "      <th>367</th>\n",
       "      <td>Possession of Cocaine</td>\n",
       "      <td>(M1)</td>\n",
       "    </tr>\n",
       "    <tr>\n",
       "      <th>28240</th>\n",
       "      <td>Battery</td>\n",
       "      <td>(M1)</td>\n",
       "    </tr>\n",
       "    <tr>\n",
       "      <th>28346</th>\n",
       "      <td>Battery</td>\n",
       "      <td>(M2)</td>\n",
       "    </tr>\n",
       "    <tr>\n",
       "      <th>...</th>\n",
       "      <td>...</td>\n",
       "      <td>...</td>\n",
       "    </tr>\n",
       "    <tr>\n",
       "      <th>243338</th>\n",
       "      <td>Deliver Cannabis 1000FTSch</td>\n",
       "      <td>(F2)</td>\n",
       "    </tr>\n",
       "    <tr>\n",
       "      <th>243339</th>\n",
       "      <td>Sex Batt Faml/Cust Vict 12-17Y</td>\n",
       "      <td>(F1)</td>\n",
       "    </tr>\n",
       "    <tr>\n",
       "      <th>243340</th>\n",
       "      <td>Possession Of Clonazepam</td>\n",
       "      <td>(F3)</td>\n",
       "    </tr>\n",
       "    <tr>\n",
       "      <th>243342</th>\n",
       "      <td>Deliver Cocaine 1000FT School</td>\n",
       "      <td>(F1)</td>\n",
       "    </tr>\n",
       "    <tr>\n",
       "      <th>243344</th>\n",
       "      <td>Deliver Cocaine 1000FT Park</td>\n",
       "      <td>(F1)</td>\n",
       "    </tr>\n",
       "  </tbody>\n",
       "</table>\n",
       "<p>183 rows × 2 columns</p>\n",
       "</div>"
      ],
      "text/plain": [
       "                         c_charge_desc c_charge_degree_detailed\n",
       "0       Felony Battery w/Prior Convict                     (F3)\n",
       "352              Possession of Cocaine                     (F3)\n",
       "367              Possession of Cocaine                     (M1)\n",
       "28240                          Battery                     (M1)\n",
       "28346                          Battery                     (M2)\n",
       "...                                ...                      ...\n",
       "243338      Deliver Cannabis 1000FTSch                     (F2)\n",
       "243339  Sex Batt Faml/Cust Vict 12-17Y                     (F1)\n",
       "243340        Possession Of Clonazepam                     (F3)\n",
       "243342   Deliver Cocaine 1000FT School                     (F1)\n",
       "243344     Deliver Cocaine 1000FT Park                     (F1)\n",
       "\n",
       "[183 rows x 2 columns]"
      ]
     },
     "execution_count": 12,
     "metadata": {},
     "output_type": "execute_result"
    }
   ],
   "source": [
    "lookup_c_charge_degree = lookup_c_charge_degree[[\"c_charge_desc\", \"r_charge_degree\"]].drop_duplicates()\n",
    "lookup_c_charge_degree.columns = [\"c_charge_desc\", \"c_charge_degree_detailed\"]\n",
    "lookup_c_charge_degree"
   ]
  },
  {
   "cell_type": "code",
   "execution_count": 13,
   "id": "c0961c3b",
   "metadata": {},
   "outputs": [],
   "source": [
    "lookup_c_charge_degree = lookup_c_charge_degree.reset_index(drop=True)"
   ]
  },
  {
   "cell_type": "code",
   "execution_count": 14,
   "id": "fe2f5421",
   "metadata": {},
   "outputs": [
    {
     "data": {
      "text/html": [
       "<div>\n",
       "<style scoped>\n",
       "    .dataframe tbody tr th:only-of-type {\n",
       "        vertical-align: middle;\n",
       "    }\n",
       "\n",
       "    .dataframe tbody tr th {\n",
       "        vertical-align: top;\n",
       "    }\n",
       "\n",
       "    .dataframe thead th {\n",
       "        text-align: right;\n",
       "    }\n",
       "</style>\n",
       "<table border=\"1\" class=\"dataframe\">\n",
       "  <thead>\n",
       "    <tr style=\"text-align: right;\">\n",
       "      <th></th>\n",
       "      <th>c_charge_desc</th>\n",
       "      <th>c_charge_degree_detailed</th>\n",
       "    </tr>\n",
       "  </thead>\n",
       "  <tbody>\n",
       "    <tr>\n",
       "      <th>1</th>\n",
       "      <td>Possession of Cocaine</td>\n",
       "      <td>(F3)</td>\n",
       "    </tr>\n",
       "    <tr>\n",
       "      <th>2</th>\n",
       "      <td>Possession of Cocaine</td>\n",
       "      <td>(M1)</td>\n",
       "    </tr>\n",
       "    <tr>\n",
       "      <th>3</th>\n",
       "      <td>Battery</td>\n",
       "      <td>(M1)</td>\n",
       "    </tr>\n",
       "    <tr>\n",
       "      <th>4</th>\n",
       "      <td>Battery</td>\n",
       "      <td>(M2)</td>\n",
       "    </tr>\n",
       "    <tr>\n",
       "      <th>12</th>\n",
       "      <td>Susp Drivers Lic 1st Offense</td>\n",
       "      <td>(M2)</td>\n",
       "    </tr>\n",
       "    <tr>\n",
       "      <th>13</th>\n",
       "      <td>Susp Drivers Lic 1st Offense</td>\n",
       "      <td>(M1)</td>\n",
       "    </tr>\n",
       "    <tr>\n",
       "      <th>29</th>\n",
       "      <td>False Ownership Info/Pawn Item</td>\n",
       "      <td>(F3)</td>\n",
       "    </tr>\n",
       "    <tr>\n",
       "      <th>30</th>\n",
       "      <td>False Ownership Info/Pawn Item</td>\n",
       "      <td>(F2)</td>\n",
       "    </tr>\n",
       "    <tr>\n",
       "      <th>36</th>\n",
       "      <td>Petit Theft</td>\n",
       "      <td>(M2)</td>\n",
       "    </tr>\n",
       "    <tr>\n",
       "      <th>37</th>\n",
       "      <td>Petit Theft</td>\n",
       "      <td>(M1)</td>\n",
       "    </tr>\n",
       "    <tr>\n",
       "      <th>42</th>\n",
       "      <td>Driving Under The Influence</td>\n",
       "      <td>(M1)</td>\n",
       "    </tr>\n",
       "    <tr>\n",
       "      <th>43</th>\n",
       "      <td>Driving Under The Influence</td>\n",
       "      <td>(M2)</td>\n",
       "    </tr>\n",
       "    <tr>\n",
       "      <th>53</th>\n",
       "      <td>Burglary Unoccupied Dwelling</td>\n",
       "      <td>(F2)</td>\n",
       "    </tr>\n",
       "    <tr>\n",
       "      <th>54</th>\n",
       "      <td>Burglary Unoccupied Dwelling</td>\n",
       "      <td>(F3)</td>\n",
       "    </tr>\n",
       "    <tr>\n",
       "      <th>65</th>\n",
       "      <td>Aggravated Battery / Pregnant</td>\n",
       "      <td>(F2)</td>\n",
       "    </tr>\n",
       "    <tr>\n",
       "      <th>66</th>\n",
       "      <td>Aggravated Battery / Pregnant</td>\n",
       "      <td>(M1)</td>\n",
       "    </tr>\n",
       "    <tr>\n",
       "      <th>86</th>\n",
       "      <td>Burglary Dwelling Assault/Batt</td>\n",
       "      <td>(M1)</td>\n",
       "    </tr>\n",
       "    <tr>\n",
       "      <th>87</th>\n",
       "      <td>Burglary Dwelling Assault/Batt</td>\n",
       "      <td>(F7)</td>\n",
       "    </tr>\n",
       "    <tr>\n",
       "      <th>89</th>\n",
       "      <td>Opert With Susp DL 2nd Offens</td>\n",
       "      <td>(M1)</td>\n",
       "    </tr>\n",
       "    <tr>\n",
       "      <th>90</th>\n",
       "      <td>Opert With Susp DL 2nd Offens</td>\n",
       "      <td>(M2)</td>\n",
       "    </tr>\n",
       "    <tr>\n",
       "      <th>110</th>\n",
       "      <td>Trespass Structure/Conveyance</td>\n",
       "      <td>(M2)</td>\n",
       "    </tr>\n",
       "    <tr>\n",
       "      <th>111</th>\n",
       "      <td>Trespass Structure/Conveyance</td>\n",
       "      <td>(MO3)</td>\n",
       "    </tr>\n",
       "  </tbody>\n",
       "</table>\n",
       "</div>"
      ],
      "text/plain": [
       "                      c_charge_desc c_charge_degree_detailed\n",
       "1             Possession of Cocaine                     (F3)\n",
       "2             Possession of Cocaine                     (M1)\n",
       "3                           Battery                     (M1)\n",
       "4                           Battery                     (M2)\n",
       "12     Susp Drivers Lic 1st Offense                     (M2)\n",
       "13     Susp Drivers Lic 1st Offense                     (M1)\n",
       "29   False Ownership Info/Pawn Item                     (F3)\n",
       "30   False Ownership Info/Pawn Item                     (F2)\n",
       "36                      Petit Theft                     (M2)\n",
       "37                      Petit Theft                     (M1)\n",
       "42      Driving Under The Influence                     (M1)\n",
       "43      Driving Under The Influence                     (M2)\n",
       "53     Burglary Unoccupied Dwelling                     (F2)\n",
       "54     Burglary Unoccupied Dwelling                     (F3)\n",
       "65    Aggravated Battery / Pregnant                     (F2)\n",
       "66    Aggravated Battery / Pregnant                     (M1)\n",
       "86   Burglary Dwelling Assault/Batt                     (M1)\n",
       "87   Burglary Dwelling Assault/Batt                     (F7)\n",
       "89    Opert With Susp DL 2nd Offens                     (M1)\n",
       "90    Opert With Susp DL 2nd Offens                     (M2)\n",
       "110   Trespass Structure/Conveyance                     (M2)\n",
       "111   Trespass Structure/Conveyance                    (MO3)"
      ]
     },
     "execution_count": 14,
     "metadata": {},
     "output_type": "execute_result"
    }
   ],
   "source": [
    "lookup_c_charge_degree.groupby(\"c_charge_desc\").filter(lambda x: len(x) > 1)"
   ]
  },
  {
   "cell_type": "code",
   "execution_count": 15,
   "id": "c72c1437",
   "metadata": {},
   "outputs": [],
   "source": [
    "#keeping the harder degrees (based on online research)\n",
    "rows_to_drop = [2, 4, 12, 13, 29, 36, 43, 54, 66, 87, 89, 111]\n",
    "\n",
    "lookup_c_charge_degree = lookup_c_charge_degree.drop(index=rows_to_drop)"
   ]
  },
  {
   "cell_type": "code",
   "execution_count": 16,
   "id": "742feb2f",
   "metadata": {},
   "outputs": [],
   "source": [
    "lookup_c_charge_degree.set_index(\"c_charge_desc\", inplace=True)\n",
    "lookup_c_charge_degree = lookup_c_charge_degree[lookup_c_charge_degree.index.notnull()]"
   ]
  },
  {
   "cell_type": "code",
   "execution_count": 19,
   "id": "3f1392c3",
   "metadata": {},
   "outputs": [],
   "source": [
    "test = df_clean_test.merge(lookup_c_charge_degree, how=\"left\", left_on=\"c_charge_desc\", right_index=True)"
   ]
  },
  {
   "cell_type": "code",
   "execution_count": 20,
   "id": "cb0741c1",
   "metadata": {},
   "outputs": [],
   "source": [
    "charges_to_label = test[test[\"c_charge_degree_detailed\"].isnull()]"
   ]
  },
  {
   "cell_type": "code",
   "execution_count": 21,
   "id": "83602c98",
   "metadata": {},
   "outputs": [],
   "source": [
    "charges_to_label_list = charges_to_label.groupby(\"c_charge_desc\")[[\"id\"]].count().sort_values(by=\"id\", ascending=False)"
   ]
  },
  {
   "cell_type": "code",
   "execution_count": 22,
   "id": "0554791c",
   "metadata": {},
   "outputs": [],
   "source": [
    "charges_to_label_list[\"c_charge_degree_detailed\"]=\"\""
   ]
  },
  {
   "cell_type": "code",
   "execution_count": 23,
   "id": "8357905b",
   "metadata": {},
   "outputs": [],
   "source": [
    "charges_to_label_list.columns = ['count', 'c_charge_degree_detailed']"
   ]
  },
  {
   "cell_type": "code",
   "execution_count": null,
   "id": "14a15135",
   "metadata": {},
   "outputs": [],
   "source": [
    "#charges_to_label_list.to_csv(\"charges_to_label.csv\")"
   ]
  },
  {
   "cell_type": "code",
   "execution_count": 24,
   "id": "64d0aef4",
   "metadata": {},
   "outputs": [
    {
     "data": {
      "text/plain": [
       "Index(['arrest case no charge', 'Felony Driving While Lic Suspd',\n",
       "       'Susp Drivers Lic 1st Offense', 'Aggravated Assault w/Firearm',\n",
       "       'Poss Contr Subst W/o Prescript', 'Cruelty Toward Child',\n",
       "       'Leaving Acc/Unattended Veh', 'Burglary With Assault/battery',\n",
       "       'Corrupt Public Servant', 'Purchase Cannabis',\n",
       "       ...\n",
       "       'False Bomb Report', 'False Name By Person Arrest',\n",
       "       'Interference with Custody', 'Falsely Impersonating Officer',\n",
       "       'Aiding Escape', 'Aide/Abet Prostitution Lewdness',\n",
       "       'Grand Theft of a Fire Extinquisher', 'Hiring with Intent to Defraud',\n",
       "       'Interfere W/Traf Cont Dev RR', 'Abuse Without Great Harm'],\n",
       "      dtype='object', name='c_charge_desc', length=192)"
      ]
     },
     "execution_count": 24,
     "metadata": {},
     "output_type": "execute_result"
    }
   ],
   "source": [
    "charges_to_label_list.index"
   ]
  },
  {
   "cell_type": "code",
   "execution_count": 32,
   "id": "58169555",
   "metadata": {},
   "outputs": [
    {
     "data": {
      "text/html": [
       "<div>\n",
       "<style scoped>\n",
       "    .dataframe tbody tr th:only-of-type {\n",
       "        vertical-align: middle;\n",
       "    }\n",
       "\n",
       "    .dataframe tbody tr th {\n",
       "        vertical-align: top;\n",
       "    }\n",
       "\n",
       "    .dataframe thead th {\n",
       "        text-align: right;\n",
       "    }\n",
       "</style>\n",
       "<table border=\"1\" class=\"dataframe\">\n",
       "  <thead>\n",
       "    <tr style=\"text-align: right;\">\n",
       "      <th></th>\n",
       "      <th>c_charge_desc</th>\n",
       "      <th>count</th>\n",
       "      <th>c_charge_degree_detailed</th>\n",
       "    </tr>\n",
       "  </thead>\n",
       "  <tbody>\n",
       "    <tr>\n",
       "      <th>0</th>\n",
       "      <td>arrest case no charge</td>\n",
       "      <td>684.0</td>\n",
       "      <td>0</td>\n",
       "    </tr>\n",
       "    <tr>\n",
       "      <th>1</th>\n",
       "      <td>Felony Driving While Lic Suspd</td>\n",
       "      <td>73.0</td>\n",
       "      <td>F3</td>\n",
       "    </tr>\n",
       "    <tr>\n",
       "      <th>2</th>\n",
       "      <td>Susp Drivers Lic 1st Offense</td>\n",
       "      <td>45.0</td>\n",
       "      <td>M2</td>\n",
       "    </tr>\n",
       "    <tr>\n",
       "      <th>3</th>\n",
       "      <td>Aggravated Assault w/Firearm</td>\n",
       "      <td>20.0</td>\n",
       "      <td>F3</td>\n",
       "    </tr>\n",
       "    <tr>\n",
       "      <th>4</th>\n",
       "      <td>Poss Contr Subst W/o Prescript</td>\n",
       "      <td>15.0</td>\n",
       "      <td>F3</td>\n",
       "    </tr>\n",
       "    <tr>\n",
       "      <th>...</th>\n",
       "      <td>...</td>\n",
       "      <td>...</td>\n",
       "      <td>...</td>\n",
       "    </tr>\n",
       "    <tr>\n",
       "      <th>187</th>\n",
       "      <td>Aide/Abet Prostitution Lewdness</td>\n",
       "      <td>1.0</td>\n",
       "      <td>M1</td>\n",
       "    </tr>\n",
       "    <tr>\n",
       "      <th>188</th>\n",
       "      <td>Grand Theft of a Fire Extinquisher</td>\n",
       "      <td>1.0</td>\n",
       "      <td>F3</td>\n",
       "    </tr>\n",
       "    <tr>\n",
       "      <th>189</th>\n",
       "      <td>Hiring with Intent to Defraud</td>\n",
       "      <td>1.0</td>\n",
       "      <td>F3</td>\n",
       "    </tr>\n",
       "    <tr>\n",
       "      <th>190</th>\n",
       "      <td>Interfere W/Traf Cont Dev RR</td>\n",
       "      <td>1.0</td>\n",
       "      <td>M2</td>\n",
       "    </tr>\n",
       "    <tr>\n",
       "      <th>191</th>\n",
       "      <td>Abuse Without Great Harm</td>\n",
       "      <td>1.0</td>\n",
       "      <td>F3</td>\n",
       "    </tr>\n",
       "  </tbody>\n",
       "</table>\n",
       "<p>192 rows × 3 columns</p>\n",
       "</div>"
      ],
      "text/plain": [
       "                          c_charge_desc  count c_charge_degree_detailed\n",
       "0                 arrest case no charge  684.0                        0\n",
       "1        Felony Driving While Lic Suspd   73.0                       F3\n",
       "2          Susp Drivers Lic 1st Offense   45.0                       M2\n",
       "3          Aggravated Assault w/Firearm   20.0                       F3\n",
       "4        Poss Contr Subst W/o Prescript   15.0                       F3\n",
       "..                                  ...    ...                      ...\n",
       "187     Aide/Abet Prostitution Lewdness    1.0                       M1\n",
       "188  Grand Theft of a Fire Extinquisher    1.0                       F3\n",
       "189       Hiring with Intent to Defraud    1.0                       F3\n",
       "190        Interfere W/Traf Cont Dev RR    1.0                       M2\n",
       "191            Abuse Without Great Harm    1.0                       F3\n",
       "\n",
       "[192 rows x 3 columns]"
      ]
     },
     "execution_count": 32,
     "metadata": {},
     "output_type": "execute_result"
    }
   ],
   "source": [
    "# import labeled data\n",
    "pd.read_csv(\"charges_labeled_c.csv\")"
   ]
  },
  {
   "cell_type": "markdown",
   "id": "07363907",
   "metadata": {},
   "source": [
    "## Create pipeline"
   ]
  },
  {
   "cell_type": "code",
   "execution_count": null,
   "id": "117c5cc8",
   "metadata": {},
   "outputs": [],
   "source": []
  },
  {
   "cell_type": "markdown",
   "id": "39a21cb9",
   "metadata": {},
   "source": [
    "## Baseline model"
   ]
  },
  {
   "cell_type": "code",
   "execution_count": null,
   "id": "54f8204e",
   "metadata": {},
   "outputs": [],
   "source": []
  }
 ],
 "metadata": {
  "kernelspec": {
   "display_name": "Python 3 (ipykernel)",
   "language": "python",
   "name": "python3"
  },
  "language_info": {
   "codemirror_mode": {
    "name": "ipython",
    "version": 3
   },
   "file_extension": ".py",
   "mimetype": "text/x-python",
   "name": "python",
   "nbconvert_exporter": "python",
   "pygments_lexer": "ipython3",
   "version": "3.8.6"
  },
  "toc": {
   "base_numbering": 1,
   "nav_menu": {},
   "number_sections": true,
   "sideBar": true,
   "skip_h1_title": false,
   "title_cell": "Table of Contents",
   "title_sidebar": "Contents",
   "toc_cell": false,
   "toc_position": {},
   "toc_section_display": true,
   "toc_window_display": false
  }
 },
 "nbformat": 4,
 "nbformat_minor": 5
}
