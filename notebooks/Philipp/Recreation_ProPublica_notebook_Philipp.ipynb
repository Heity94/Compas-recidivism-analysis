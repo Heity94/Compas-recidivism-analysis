{
 "cells": [
  {
   "cell_type": "code",
   "execution_count": 1,
   "id": "2bac30f8",
   "metadata": {},
   "outputs": [],
   "source": [
    "import os\n",
    "import numpy as np\n",
    "import pandas as pd\n",
    "import matplotlib.pyplot as plt\n",
    "import seaborn as sns\n",
    "sns.set_theme()"
   ]
  },
  {
   "cell_type": "markdown",
   "id": "7324d875",
   "metadata": {},
   "source": [
    "# Recreation of ProPublica's Compas data in Python"
   ]
  },
  {
   "cell_type": "markdown",
   "id": "3179375c",
   "metadata": {},
   "source": [
    "## Load data and recreate filters from ProPublica"
   ]
  },
  {
   "cell_type": "code",
   "execution_count": 2,
   "id": "5014a180",
   "metadata": {},
   "outputs": [],
   "source": [
    "# Build csv_path as \"absolute path\" in order to call this method from anywhere.\n",
    "# Use os.path.abspath('') instead as an absolute path anchor independant of file location\n",
    "# Use os.path library to construct path independent of Mac vs. Unix vs. Windows specificities\n",
    "root_dir = os.path.dirname(os.path.dirname(os.path.abspath('')))\n",
    "csv_path = os.path.join(root_dir, \"data-ProPublica\",\"compas-scores-two-years.csv\")\n"
   ]
  },
  {
   "cell_type": "code",
   "execution_count": 3,
   "id": "9764ba66",
   "metadata": {},
   "outputs": [
    {
     "data": {
      "text/plain": [
       "(7214, 53)"
      ]
     },
     "execution_count": 3,
     "metadata": {},
     "output_type": "execute_result"
    }
   ],
   "source": [
    "# Load data and transform date columsn to \"datetime\"\n",
    "raw_data = pd.read_csv(csv_path, parse_dates=[\"c_jail_in\", \"c_jail_out\"])\n",
    "#raw_data = pd.read_csv(\"../../data-ProPublica/compas-scores-two-years.csv\", parse_dates=[\"c_jail_in\", \"c_jail_out\"])\n",
    "raw_data.shape"
   ]
  },
  {
   "cell_type": "markdown",
   "id": "575b2989",
   "metadata": {},
   "source": [
    "ProPublicas reasoning for filter `raw_data`:\n",
    ">However not all of the rows are useable for the first round of analysis.\n",
    ">There are a number of reasons remove rows because of missing data:\n",
    ">* If the charge date of a defendants Compas scored crime was not within 30 days from when the person was arrested, we assume that because of data quality reasons, that we do not have the right offense.\n",
    ">* We coded the recidivist flag -- `is_recid` -- to be -1 if we could not find a compas case at all.\n",
    ">* In a similar vein, ordinary traffic offenses -- those with a `c_charge_degree` of 'O' -- will not result in Jail time are removed (only two of them).\n",
    ">* We filtered the underlying data from Broward county to include only those rows representing people who had either recidivated in two years, or had at least two years outside of a correctional facility.*"
   ]
  },
  {
   "cell_type": "code",
   "execution_count": 51,
   "id": "7c77b546",
   "metadata": {},
   "outputs": [
    {
     "data": {
      "text/plain": [
       "(6172, 13)"
      ]
     },
     "execution_count": 51,
     "metadata": {},
     "output_type": "execute_result"
    }
   ],
   "source": [
    "# Select columns of interest and store as new df\n",
    "df = raw_data[[\"age\", \"c_charge_degree\", \"race\", \"age_cat\", \"score_text\", \"sex\", \"priors_count\", \n",
    "          \"days_b_screening_arrest\", \"decile_score\", \"is_recid\", \"two_year_recid\", \"c_jail_in\", \"c_jail_out\"]]\n",
    "\n",
    "# Filter rows as described by ProPublica\n",
    "df = df[\n",
    "        (df[\"days_b_screening_arrest\"]<=30) & \n",
    "        (df[\"days_b_screening_arrest\"]>=-30) &\n",
    "        (df[\"is_recid\"]!=-1) & \n",
    "        (df[\"c_charge_degree\"]!=\"O\")\n",
    "      ].dropna(subset=['score_text'])\n",
    "\n",
    "df.shape"
   ]
  },
  {
   "cell_type": "code",
   "execution_count": 5,
   "id": "2449ddc3",
   "metadata": {},
   "outputs": [],
   "source": [
    "#Change dtype for categorical features (not needed, since statsmodels requires numeric datatypes)\n",
    "#category_cols = ['c_charge_degree', \"race\", \"age_cat\", 'score_text', 'sex', 'is_recid', 'two_year_recid']\n",
    "#df = df.apply(lambda s: s.astype('category') if s.name in category_cols else s)"
   ]
  },
  {
   "cell_type": "markdown",
   "id": "e3233707",
   "metadata": {},
   "source": [
    "### Demographic breakdown"
   ]
  },
  {
   "cell_type": "markdown",
   "id": "8f570e1a",
   "metadata": {},
   "source": [
    "Higher COMPAS scores are slightly correlated with a longer length of stay. "
   ]
  },
  {
   "cell_type": "code",
   "execution_count": 6,
   "id": "d91dc622",
   "metadata": {},
   "outputs": [
    {
     "data": {
      "text/plain": [
       "0.20748"
      ]
     },
     "execution_count": 6,
     "metadata": {},
     "output_type": "execute_result"
    }
   ],
   "source": [
    "df[\"length_of_stay_days\"] = (df.c_jail_out-df.c_jail_in).dt.days\n",
    "np.round(df[[\"length_of_stay_days\", \"decile_score\"]].corr()\\\n",
    "    .loc[\"length_of_stay_days\",\"decile_score\"],5)"
   ]
  },
  {
   "cell_type": "markdown",
   "id": "6c2b1b58",
   "metadata": {},
   "source": [
    "After filtering we have the following demographic breakdown:"
   ]
  },
  {
   "cell_type": "code",
   "execution_count": 7,
   "id": "e4078a9c",
   "metadata": {},
   "outputs": [
    {
     "data": {
      "text/plain": [
       "25 - 45            3532\n",
       "Less than 25       1347\n",
       "Greater than 45    1293\n",
       "Name: age_cat, dtype: int64"
      ]
     },
     "execution_count": 7,
     "metadata": {},
     "output_type": "execute_result"
    }
   ],
   "source": [
    "df.age_cat.value_counts()"
   ]
  },
  {
   "cell_type": "code",
   "execution_count": 8,
   "id": "476d2af7",
   "metadata": {},
   "outputs": [
    {
     "data": {
      "text/plain": [
       "African-American    51.44%\n",
       "Caucasian           34.07%\n",
       "Hispanic             8.25%\n",
       "Other                5.56%\n",
       "Asian                0.50%\n",
       "Native American      0.18%\n",
       "Name: race, dtype: object"
      ]
     },
     "execution_count": 8,
     "metadata": {},
     "output_type": "execute_result"
    }
   ],
   "source": [
    "(df.race.value_counts(normalize=True)*100).map('{:,.2f}%'.format)"
   ]
  },
  {
   "cell_type": "code",
   "execution_count": 9,
   "id": "cc7aca6b",
   "metadata": {},
   "outputs": [
    {
     "data": {
      "text/plain": [
       "African-American    51.44%\n",
       "Caucasian           34.07%\n",
       "Hispanic             8.25%\n",
       "Other                5.56%\n",
       "Asian                0.50%\n",
       "Native American      0.18%\n",
       "Name: race, dtype: object"
      ]
     },
     "execution_count": 9,
     "metadata": {},
     "output_type": "execute_result"
    }
   ],
   "source": [
    "(df.race.value_counts(normalize=True)*100).map('{:,.2f}%'.format)"
   ]
  },
  {
   "cell_type": "code",
   "execution_count": 10,
   "id": "db25461a",
   "metadata": {},
   "outputs": [
    {
     "data": {
      "text/plain": [
       "Low       3421\n",
       "Medium    1607\n",
       "High      1144\n",
       "Name: score_text, dtype: int64"
      ]
     },
     "execution_count": 10,
     "metadata": {},
     "output_type": "execute_result"
    }
   ],
   "source": [
    "df.score_text.value_counts()"
   ]
  },
  {
   "cell_type": "code",
   "execution_count": 11,
   "id": "f7625824",
   "metadata": {},
   "outputs": [
    {
     "data": {
      "text/html": [
       "<div>\n",
       "<style scoped>\n",
       "    .dataframe tbody tr th:only-of-type {\n",
       "        vertical-align: middle;\n",
       "    }\n",
       "\n",
       "    .dataframe tbody tr th {\n",
       "        vertical-align: top;\n",
       "    }\n",
       "\n",
       "    .dataframe thead th {\n",
       "        text-align: right;\n",
       "    }\n",
       "</style>\n",
       "<table border=\"1\" class=\"dataframe\">\n",
       "  <thead>\n",
       "    <tr style=\"text-align: right;\">\n",
       "      <th>race</th>\n",
       "      <th>African-American</th>\n",
       "      <th>Asian</th>\n",
       "      <th>Caucasian</th>\n",
       "      <th>Hispanic</th>\n",
       "      <th>Native American</th>\n",
       "      <th>Other</th>\n",
       "    </tr>\n",
       "    <tr>\n",
       "      <th>sex</th>\n",
       "      <th></th>\n",
       "      <th></th>\n",
       "      <th></th>\n",
       "      <th></th>\n",
       "      <th></th>\n",
       "      <th></th>\n",
       "    </tr>\n",
       "  </thead>\n",
       "  <tbody>\n",
       "    <tr>\n",
       "      <th>Female</th>\n",
       "      <td>549</td>\n",
       "      <td>2</td>\n",
       "      <td>482</td>\n",
       "      <td>82</td>\n",
       "      <td>2</td>\n",
       "      <td>58</td>\n",
       "    </tr>\n",
       "    <tr>\n",
       "      <th>Male</th>\n",
       "      <td>2626</td>\n",
       "      <td>29</td>\n",
       "      <td>1621</td>\n",
       "      <td>427</td>\n",
       "      <td>9</td>\n",
       "      <td>285</td>\n",
       "    </tr>\n",
       "  </tbody>\n",
       "</table>\n",
       "</div>"
      ],
      "text/plain": [
       "race    African-American  Asian  Caucasian  Hispanic  Native American  Other\n",
       "sex                                                                         \n",
       "Female               549      2        482        82                2     58\n",
       "Male                2626     29       1621       427                9    285"
      ]
     },
     "execution_count": 11,
     "metadata": {},
     "output_type": "execute_result"
    }
   ],
   "source": [
    "pd.crosstab(df[\"sex\"], df[\"race\"])"
   ]
  },
  {
   "cell_type": "code",
   "execution_count": 12,
   "id": "853b5792",
   "metadata": {},
   "outputs": [
    {
     "data": {
      "text/plain": [
       "Male      4997\n",
       "Female    1175\n",
       "Name: sex, dtype: int64"
      ]
     },
     "execution_count": 12,
     "metadata": {},
     "output_type": "execute_result"
    }
   ],
   "source": [
    "df.sex.value_counts()"
   ]
  },
  {
   "cell_type": "code",
   "execution_count": 13,
   "id": "ef1e5374",
   "metadata": {},
   "outputs": [
    {
     "data": {
      "text/plain": [
       "Male      80.96%\n",
       "Female    19.04%\n",
       "Name: sex, dtype: object"
      ]
     },
     "execution_count": 13,
     "metadata": {},
     "output_type": "execute_result"
    }
   ],
   "source": [
    "(df.sex.value_counts(normalize=True)*100).map('{:,.2f}%'.format)"
   ]
  },
  {
   "cell_type": "code",
   "execution_count": 14,
   "id": "bd8cd7b8",
   "metadata": {},
   "outputs": [
    {
     "name": "stdout",
     "output_type": "stream",
     "text": [
      "Number of entries with two_year_recid: 2809\n",
      "% of entries with two_year_recid 45.51\n"
     ]
    }
   ],
   "source": [
    "no_recid = np.sum(df[\"two_year_recid\"]==1)\n",
    "print(\"Number of entries with two_year_recid:\", no_recid)\n",
    "print(\"% of entries with two_year_recid\", np.round(no_recid/df.shape[0]*100,2))"
   ]
  },
  {
   "cell_type": "markdown",
   "id": "b00e8461",
   "metadata": {},
   "source": [
    "Judges are often presented with two sets of scores from the Compas system -- one that classifies people into High, Medium and Low risk, and a corresponding decile score. There is a clear downward trend in the decile scores as those scores increase for white defendants."
   ]
  },
  {
   "cell_type": "code",
   "execution_count": 15,
   "id": "50850132",
   "metadata": {},
   "outputs": [
    {
     "data": {
      "image/png": "[encoded data removed]",
      "text/plain": [
       "<Figure size 1080x360 with 2 Axes>"
      ]
     },
     "metadata": {},
     "output_type": "display_data"
    }
   ],
   "source": [
    "fig, axes = plt.subplots(1,2, figsize=(15,5))\n",
    "plt.setp(axes, ylim=(0,650), xticks=np.arange(1,11), xlabel=\"Decile Score\")\n",
    "\n",
    "scores_black = df[df[\"race\"]==\"African-American\"][\"decile_score\"]\n",
    "scores_white = df[df[\"race\"]==\"Caucasian\"][\"decile_score\"]\n",
    "\n",
    "sns.histplot(\n",
    "    x=scores_black,\n",
    "    bins=10, \n",
    "    ax=axes[0], \n",
    "    kde=True,\n",
    "    shrink=.9,\n",
    "    discrete=True\n",
    "            )\n",
    "axes[0].set_title(\"Black Defendant's Decile Scores\")\n",
    "\n",
    "sns.histplot(\n",
    "    x=scores_white,\n",
    "    bins=10, \n",
    "    ax=axes[1], \n",
    "    kde=True,\n",
    "    shrink=.9,\n",
    "    discrete=True\n",
    "            )\n",
    "axes[1].set_title(\"White Defendant's Decile Scores\");\n"
   ]
  },
  {
   "cell_type": "code",
   "execution_count": 16,
   "id": "d4ab2930",
   "metadata": {},
   "outputs": [
    {
     "data": {
      "text/html": [
       "<div>\n",
       "<style scoped>\n",
       "    .dataframe tbody tr th:only-of-type {\n",
       "        vertical-align: middle;\n",
       "    }\n",
       "\n",
       "    .dataframe tbody tr th {\n",
       "        vertical-align: top;\n",
       "    }\n",
       "\n",
       "    .dataframe thead th {\n",
       "        text-align: right;\n",
       "    }\n",
       "</style>\n",
       "<table border=\"1\" class=\"dataframe\">\n",
       "  <thead>\n",
       "    <tr style=\"text-align: right;\">\n",
       "      <th>race</th>\n",
       "      <th>African-American</th>\n",
       "      <th>Asian</th>\n",
       "      <th>Caucasian</th>\n",
       "      <th>Hispanic</th>\n",
       "      <th>Native American</th>\n",
       "      <th>Other</th>\n",
       "    </tr>\n",
       "    <tr>\n",
       "      <th>decile_score</th>\n",
       "      <th></th>\n",
       "      <th></th>\n",
       "      <th></th>\n",
       "      <th></th>\n",
       "      <th></th>\n",
       "      <th></th>\n",
       "    </tr>\n",
       "  </thead>\n",
       "  <tbody>\n",
       "    <tr>\n",
       "      <th>1</th>\n",
       "      <td>365</td>\n",
       "      <td>15</td>\n",
       "      <td>605</td>\n",
       "      <td>159</td>\n",
       "      <td>0</td>\n",
       "      <td>142</td>\n",
       "    </tr>\n",
       "    <tr>\n",
       "      <th>2</th>\n",
       "      <td>346</td>\n",
       "      <td>4</td>\n",
       "      <td>321</td>\n",
       "      <td>89</td>\n",
       "      <td>2</td>\n",
       "      <td>60</td>\n",
       "    </tr>\n",
       "    <tr>\n",
       "      <th>3</th>\n",
       "      <td>298</td>\n",
       "      <td>5</td>\n",
       "      <td>238</td>\n",
       "      <td>73</td>\n",
       "      <td>1</td>\n",
       "      <td>32</td>\n",
       "    </tr>\n",
       "    <tr>\n",
       "      <th>4</th>\n",
       "      <td>337</td>\n",
       "      <td>0</td>\n",
       "      <td>243</td>\n",
       "      <td>47</td>\n",
       "      <td>0</td>\n",
       "      <td>39</td>\n",
       "    </tr>\n",
       "    <tr>\n",
       "      <th>5</th>\n",
       "      <td>323</td>\n",
       "      <td>1</td>\n",
       "      <td>200</td>\n",
       "      <td>39</td>\n",
       "      <td>0</td>\n",
       "      <td>19</td>\n",
       "    </tr>\n",
       "    <tr>\n",
       "      <th>6</th>\n",
       "      <td>318</td>\n",
       "      <td>2</td>\n",
       "      <td>160</td>\n",
       "      <td>27</td>\n",
       "      <td>2</td>\n",
       "      <td>20</td>\n",
       "    </tr>\n",
       "    <tr>\n",
       "      <th>7</th>\n",
       "      <td>343</td>\n",
       "      <td>1</td>\n",
       "      <td>113</td>\n",
       "      <td>28</td>\n",
       "      <td>2</td>\n",
       "      <td>9</td>\n",
       "    </tr>\n",
       "    <tr>\n",
       "      <th>8</th>\n",
       "      <td>301</td>\n",
       "      <td>2</td>\n",
       "      <td>96</td>\n",
       "      <td>14</td>\n",
       "      <td>0</td>\n",
       "      <td>7</td>\n",
       "    </tr>\n",
       "    <tr>\n",
       "      <th>9</th>\n",
       "      <td>317</td>\n",
       "      <td>0</td>\n",
       "      <td>77</td>\n",
       "      <td>17</td>\n",
       "      <td>2</td>\n",
       "      <td>7</td>\n",
       "    </tr>\n",
       "    <tr>\n",
       "      <th>10</th>\n",
       "      <td>227</td>\n",
       "      <td>1</td>\n",
       "      <td>50</td>\n",
       "      <td>16</td>\n",
       "      <td>2</td>\n",
       "      <td>8</td>\n",
       "    </tr>\n",
       "  </tbody>\n",
       "</table>\n",
       "</div>"
      ],
      "text/plain": [
       "race          African-American  Asian  Caucasian  Hispanic  Native American  \\\n",
       "decile_score                                                                  \n",
       "1                          365     15        605       159                0   \n",
       "2                          346      4        321        89                2   \n",
       "3                          298      5        238        73                1   \n",
       "4                          337      0        243        47                0   \n",
       "5                          323      1        200        39                0   \n",
       "6                          318      2        160        27                2   \n",
       "7                          343      1        113        28                2   \n",
       "8                          301      2         96        14                0   \n",
       "9                          317      0         77        17                2   \n",
       "10                         227      1         50        16                2   \n",
       "\n",
       "race          Other  \n",
       "decile_score         \n",
       "1               142  \n",
       "2                60  \n",
       "3                32  \n",
       "4                39  \n",
       "5                19  \n",
       "6                20  \n",
       "7                 9  \n",
       "8                 7  \n",
       "9                 7  \n",
       "10                8  "
      ]
     },
     "execution_count": 16,
     "metadata": {},
     "output_type": "execute_result"
    }
   ],
   "source": [
    "pd.crosstab(df[\"decile_score\"], df[\"race\"])"
   ]
  },
  {
   "cell_type": "markdown",
   "id": "5aa03a67",
   "metadata": {},
   "source": [
    "## Racial Bias in Compas\n",
    "\n",
    "After filtering out bad rows, our first question is whether there is a significant difference in Compas scores between races. To do so we need to change some variables into factors, and run a logistic regression, comparing low scores to high scores."
   ]
  },
  {
   "cell_type": "code",
   "execution_count": 17,
   "id": "27fe9f92",
   "metadata": {},
   "outputs": [],
   "source": [
    "import statsmodels.formula.api as smf\n",
    "from sklearn.preprocessing import OrdinalEncoder"
   ]
  },
  {
   "cell_type": "code",
   "execution_count": 18,
   "id": "90b7c088",
   "metadata": {},
   "outputs": [],
   "source": [
    "#Create df for Logistic regression model \n",
    "df_log = df[['sex', 'age_cat', 'race', 'priors_count',\n",
    "             'c_charge_degree', 'two_year_recid', 'score_text']].copy()\n",
    "\n",
    "# Combine Medium and High Risk score into one category\n",
    "df_log[\"score_text\"] = df_log.score_text.apply(lambda x: 0 if x==\"Low\" else 1)#.astype('category')\n",
    "\n",
    "# Rename columns according to ProPublica\n",
    "df_log.columns = ['gender_factor','age_factor','race_factor', 'priors_count',\n",
    "                  'crime_factor', 'two_year_recid', 'score_factor']"
   ]
  },
  {
   "cell_type": "code",
   "execution_count": 19,
   "id": "d42eca3c",
   "metadata": {},
   "outputs": [],
   "source": [
    "# Create list of labels for Ordinal Encoder so that the order is identical to ProPublica\n",
    "gender_labels = [\"Male\",\"Female\"]\n",
    "age_labels = ['25 - 45', 'Greater than 45', 'Less than 25']\n",
    "race_labels = ['Caucasian', 'African-American', 'Asian', 'Hispanic', 'Native American', 'Other']\n",
    "crime_labels = ['F', 'M']\n",
    "\n",
    "#Instantiate Ordinal Encoder\n",
    "ord_encoder = OrdinalEncoder(categories=[gender_labels, age_labels, race_labels, crime_labels])"
   ]
  },
  {
   "cell_type": "code",
   "execution_count": 20,
   "id": "fb8e34a8",
   "metadata": {},
   "outputs": [],
   "source": [
    "# Create encoded df\n",
    "df_log_enc = df_log.copy()\n",
    "\n",
    "# Encode features (statsmodels requires numerical features)\n",
    "df_log_enc[['gender_factor', 'age_factor', 'race_factor', 'crime_factor']] = ord_encoder.fit_transform(\n",
    "    df_log[['gender_factor', 'age_factor', 'race_factor', 'crime_factor']]) \n"
   ]
  },
  {
   "cell_type": "code",
   "execution_count": 21,
   "id": "4cf3cc2e",
   "metadata": {},
   "outputs": [
    {
     "name": "stdout",
     "output_type": "stream",
     "text": [
      "Optimization terminated successfully.\n",
      "         Current function value: 0.499708\n",
      "         Iterations 6\n"
     ]
    }
   ],
   "source": [
    "# Fit model\n",
    "formula = \"score_factor ~ C(gender_factor) + C(age_factor) + C(race_factor)+ priors_count + C(crime_factor) + two_year_recid\"\n",
    "model = smf.logit(formula=formula, data=df_log_enc).fit()"
   ]
  },
  {
   "cell_type": "code",
   "execution_count": 22,
   "id": "7fd3d773",
   "metadata": {},
   "outputs": [
    {
     "data": {
      "text/html": [
       "<table class=\"simpletable\">\n",
       "<caption>Logit Regression Results</caption>\n",
       "<tr>\n",
       "  <th>Dep. Variable:</th>     <td>score_factor</td>   <th>  No. Observations:  </th>  <td>  6172</td> \n",
       "</tr>\n",
       "<tr>\n",
       "  <th>Model:</th>                 <td>Logit</td>      <th>  Df Residuals:      </th>  <td>  6160</td> \n",
       "</tr>\n",
       "<tr>\n",
       "  <th>Method:</th>                 <td>MLE</td>       <th>  Df Model:          </th>  <td>    11</td> \n",
       "</tr>\n",
       "<tr>\n",
       "  <th>Date:</th>            <td>Fri, 10 Dec 2021</td> <th>  Pseudo R-squ.:     </th>  <td>0.2729</td> \n",
       "</tr>\n",
       "<tr>\n",
       "  <th>Time:</th>                <td>12:41:09</td>     <th>  Log-Likelihood:    </th> <td> -3084.2</td>\n",
       "</tr>\n",
       "<tr>\n",
       "  <th>converged:</th>             <td>True</td>       <th>  LL-Null:           </th> <td> -4241.7</td>\n",
       "</tr>\n",
       "<tr>\n",
       "  <th>Covariance Type:</th>     <td>nonrobust</td>    <th>  LLR p-value:       </th>  <td> 0.000</td> \n",
       "</tr>\n",
       "</table>\n",
       "<table class=\"simpletable\">\n",
       "<tr>\n",
       "               <td></td>                  <th>coef</th>     <th>std err</th>      <th>z</th>      <th>P>|z|</th>  <th>[0.025</th>    <th>0.975]</th>  \n",
       "</tr>\n",
       "<tr>\n",
       "  <th>Intercept</th>                   <td>   -1.5255</td> <td>    0.079</td> <td>  -19.430</td> <td> 0.000</td> <td>   -1.679</td> <td>   -1.372</td>\n",
       "</tr>\n",
       "<tr>\n",
       "  <th>gender_factorFemale</th>         <td>    0.2213</td> <td>    0.080</td> <td>    2.783</td> <td> 0.005</td> <td>    0.065</td> <td>    0.377</td>\n",
       "</tr>\n",
       "<tr>\n",
       "  <th>age_factorGreater than 45</th>   <td>   -1.3556</td> <td>    0.099</td> <td>  -13.682</td> <td> 0.000</td> <td>   -1.550</td> <td>   -1.161</td>\n",
       "</tr>\n",
       "<tr>\n",
       "  <th>age_factorLess than 25</th>      <td>    1.3084</td> <td>    0.076</td> <td>   17.232</td> <td> 0.000</td> <td>    1.160</td> <td>    1.457</td>\n",
       "</tr>\n",
       "<tr>\n",
       "  <th>race_factorAfrican-American</th> <td>    0.4772</td> <td>    0.069</td> <td>    6.881</td> <td> 0.000</td> <td>    0.341</td> <td>    0.613</td>\n",
       "</tr>\n",
       "<tr>\n",
       "  <th>race_factorAsian</th>            <td>   -0.2544</td> <td>    0.478</td> <td>   -0.532</td> <td> 0.595</td> <td>   -1.192</td> <td>    0.683</td>\n",
       "</tr>\n",
       "<tr>\n",
       "  <th>race_factorHispanic</th>         <td>   -0.4284</td> <td>    0.128</td> <td>   -3.344</td> <td> 0.001</td> <td>   -0.680</td> <td>   -0.177</td>\n",
       "</tr>\n",
       "<tr>\n",
       "  <th>race_factorNative American</th>  <td>    1.3942</td> <td>    0.766</td> <td>    1.820</td> <td> 0.069</td> <td>   -0.107</td> <td>    2.896</td>\n",
       "</tr>\n",
       "<tr>\n",
       "  <th>race_factorOther</th>            <td>   -0.8263</td> <td>    0.162</td> <td>   -5.098</td> <td> 0.000</td> <td>   -1.144</td> <td>   -0.509</td>\n",
       "</tr>\n",
       "<tr>\n",
       "  <th>crime_factorM</th>               <td>   -0.3112</td> <td>    0.067</td> <td>   -4.677</td> <td> 0.000</td> <td>   -0.442</td> <td>   -0.181</td>\n",
       "</tr>\n",
       "<tr>\n",
       "  <th>priors_count</th>                <td>    0.2689</td> <td>    0.011</td> <td>   24.221</td> <td> 0.000</td> <td>    0.247</td> <td>    0.291</td>\n",
       "</tr>\n",
       "<tr>\n",
       "  <th>two_year_recid</th>              <td>    0.6859</td> <td>    0.064</td> <td>   10.713</td> <td> 0.000</td> <td>    0.560</td> <td>    0.811</td>\n",
       "</tr>\n",
       "</table>"
      ],
      "text/plain": [
       "<class 'statsmodels.iolib.summary.Summary'>\n",
       "\"\"\"\n",
       "                           Logit Regression Results                           \n",
       "==============================================================================\n",
       "Dep. Variable:           score_factor   No. Observations:                 6172\n",
       "Model:                          Logit   Df Residuals:                     6160\n",
       "Method:                           MLE   Df Model:                           11\n",
       "Date:                Fri, 10 Dec 2021   Pseudo R-squ.:                  0.2729\n",
       "Time:                        12:41:09   Log-Likelihood:                -3084.2\n",
       "converged:                       True   LL-Null:                       -4241.7\n",
       "Covariance Type:            nonrobust   LLR p-value:                     0.000\n",
       "===============================================================================================\n",
       "                                  coef    std err          z      P>|z|      [0.025      0.975]\n",
       "-----------------------------------------------------------------------------------------------\n",
       "Intercept                      -1.5255      0.079    -19.430      0.000      -1.679      -1.372\n",
       "gender_factorFemale             0.2213      0.080      2.783      0.005       0.065       0.377\n",
       "age_factorGreater than 45      -1.3556      0.099    -13.682      0.000      -1.550      -1.161\n",
       "age_factorLess than 25          1.3084      0.076     17.232      0.000       1.160       1.457\n",
       "race_factorAfrican-American     0.4772      0.069      6.881      0.000       0.341       0.613\n",
       "race_factorAsian               -0.2544      0.478     -0.532      0.595      -1.192       0.683\n",
       "race_factorHispanic            -0.4284      0.128     -3.344      0.001      -0.680      -0.177\n",
       "race_factorNative American      1.3942      0.766      1.820      0.069      -0.107       2.896\n",
       "race_factorOther               -0.8263      0.162     -5.098      0.000      -1.144      -0.509\n",
       "crime_factorM                  -0.3112      0.067     -4.677      0.000      -0.442      -0.181\n",
       "priors_count                    0.2689      0.011     24.221      0.000       0.247       0.291\n",
       "two_year_recid                  0.6859      0.064     10.713      0.000       0.560       0.811\n",
       "===============================================================================================\n",
       "\"\"\""
      ]
     },
     "execution_count": 22,
     "metadata": {},
     "output_type": "execute_result"
    }
   ],
   "source": [
    "# Create summary table with correct label names \n",
    "result = model.summary(xname=[\"Intercept\",\n",
    "                     \"gender_factorFemale\", \n",
    "                     \"age_factorGreater than 45\", \n",
    "                     \"age_factorLess than 25\",\n",
    "                     \"race_factorAfrican-American\",\n",
    "                     \"race_factorAsian\",\n",
    "                     \"race_factorHispanic\",\n",
    "                     \"race_factorNative American\",\n",
    "                     \"race_factorOther\",\n",
    "                     \"crime_factorM\",\n",
    "                     \"priors_count\",\n",
    "                     \"two_year_recid\"])\n",
    "\n",
    "result"
   ]
  },
  {
   "cell_type": "markdown",
   "id": "d9d20232",
   "metadata": {},
   "source": [
    "Black defendants are 45% more likely than white defendants to receive a higher score correcting for the seriousness of their crime, previous arrests, and future criminal behavior."
   ]
  },
  {
   "cell_type": "code",
   "execution_count": 23,
   "id": "b8043021",
   "metadata": {},
   "outputs": [
    {
     "data": {
      "text/plain": [
       "1.452837413382345"
      ]
     },
     "execution_count": 23,
     "metadata": {},
     "output_type": "execute_result"
    }
   ],
   "source": [
    "intercept_coef = model.params[\"Intercept\"] #Coefficient (log-odds) for Caucasian man between 25 and 45 receiving a high risk score\n",
    "african_american_coef = model.params[\"C(race_factor)[T.1.0]\"] #Coefficient (decrease in log-odds relative to white man) for African American man between 25 and 45 (see ord_encoder.categories_)\n",
    "\n",
    "control = np.exp(intercept_coef) / (1+ np.exp(intercept_coef)) # Probability? of white man between 25-45 to receive a higher score\n",
    "np.exp(african_american_coef) / (1- control + (control *np.exp(african_american_coef))) # ?\n"
   ]
  },
  {
   "cell_type": "code",
   "execution_count": 24,
   "id": "2f1d22df",
   "metadata": {},
   "outputs": [
    {
     "data": {
      "text/plain": [
       "1.6115669697085946"
      ]
     },
     "execution_count": 24,
     "metadata": {},
     "output_type": "execute_result"
    }
   ],
   "source": [
    "odds_white = np.exp(intercept_coef) # odds of white man between 25-45 to receive a higher score\n",
    "odds_black = np.exp(intercept_coef+african_american_coef) # odds of african-american man between 25-45 to receive a higher score\n",
    "\n",
    "odds_black/odds_white #odds ratio of black man compared to white man receiving a higher risk score\n",
    "\n",
    "#same as above (odds_white cancel out)\n",
    "np.exp(african_american_coef)\n"
   ]
  },
  {
   "cell_type": "code",
   "execution_count": 25,
   "id": "01ee979c",
   "metadata": {},
   "outputs": [
    {
     "data": {
      "text/plain": [
       "1.4528254070016209"
      ]
     },
     "execution_count": 25,
     "metadata": {},
     "output_type": "execute_result"
    }
   ],
   "source": [
    "(np.exp(-1.5255+0.4772)+np.exp(0.4772)) / (1+np.exp(-1.5255+0.4772)) #(odd black + odd white) / (1+odd black))"
   ]
  },
  {
   "cell_type": "markdown",
   "id": "a437d54d",
   "metadata": {},
   "source": [
    "Women are 19.4% more likely than men to get a higher score."
   ]
  },
  {
   "cell_type": "code",
   "execution_count": 26,
   "id": "c7fbb91a",
   "metadata": {},
   "outputs": [
    {
     "data": {
      "text/plain": [
       "1.1947946538834509"
      ]
     },
     "execution_count": 26,
     "metadata": {},
     "output_type": "execute_result"
    }
   ],
   "source": [
    "woman_coef = model.params[\"C(gender_factor)[T.1.0]\"]\n",
    "\n",
    "np.exp(woman_coef) / (1 - control + (control * np.exp(woman_coef)))"
   ]
  },
  {
   "cell_type": "code",
   "execution_count": 27,
   "id": "de0c5c87",
   "metadata": {},
   "outputs": [
    {
     "data": {
      "text/plain": [
       "1.2476561040261969"
      ]
     },
     "execution_count": 27,
     "metadata": {},
     "output_type": "execute_result"
    }
   ],
   "source": [
    "odds_woman = np.exp(intercept_coef+woman_coef)\n",
    "\n",
    "odds_woman/odds_white"
   ]
  },
  {
   "cell_type": "markdown",
   "id": "07de1d7e",
   "metadata": {},
   "source": [
    "Most surprisingly, people under 25 are 2.5 times as likely to get a higher score as middle aged defendants."
   ]
  },
  {
   "cell_type": "code",
   "execution_count": 28,
   "id": "72113ba0",
   "metadata": {},
   "outputs": [
    {
     "data": {
      "text/plain": [
       "2.496119530753955"
      ]
     },
     "execution_count": 28,
     "metadata": {},
     "output_type": "execute_result"
    }
   ],
   "source": [
    "young_coef = model.params[\"C(age_factor)[T.2.0]\"]\n",
    "\n",
    "np.exp(young_coef) / (1 - control + (control * np.exp(young_coef)))"
   ]
  },
  {
   "cell_type": "markdown",
   "id": "9689f28f",
   "metadata": {},
   "source": [
    "### Risk of Violent Recidivism\n",
    "\n",
    "Compas also offers a score that aims to measure a persons risk of violent recidivism, which has a similar overall accuracy to the Recidivism score. As before, we can use a logistic regression to test for racial bias."
   ]
  },
  {
   "cell_type": "code",
   "execution_count": 29,
   "id": "3debae4a",
   "metadata": {},
   "outputs": [
    {
     "data": {
      "text/plain": [
       "(4743, 54)"
      ]
     },
     "execution_count": 29,
     "metadata": {},
     "output_type": "execute_result"
    }
   ],
   "source": [
    "csv_path_vio = os.path.join(root_dir, \"data-ProPublica\",\"compas-scores-two-years-violent.csv\")\n",
    "\n",
    "# Load data and transform date columsn to \"datetime\"\n",
    "raw_data_vio = pd.read_csv(csv_path_vio)\n",
    "#raw_data = pd.read_csv(\"../../data-ProPublica/compas-scores-two-years-violent.csv\", parse_dates=[\"c_jail_in\", \"c_jail_out\"])\n",
    "raw_data_vio.shape\n"
   ]
  },
  {
   "cell_type": "code",
   "execution_count": 59,
   "id": "46f1a37c",
   "metadata": {},
   "outputs": [
    {
     "data": {
      "text/plain": [
       "(4020, 11)"
      ]
     },
     "execution_count": 59,
     "metadata": {},
     "output_type": "execute_result"
    }
   ],
   "source": [
    "# Select columns of interest and store as new df\n",
    "df_vio = raw_data_vio[[\"age\", \"c_charge_degree\", \"race\", \"age_cat\", \"v_score_text\", \"sex\", \"priors_count\", \n",
    "          \"days_b_screening_arrest\", \"v_decile_score\", \"is_recid\", \"two_year_recid\"]]\n",
    "\n",
    "# Filter rows as described by ProPublica\n",
    "df_vio = df_vio[\n",
    "        (df_vio[\"days_b_screening_arrest\"]<=30) & \n",
    "        (df_vio[\"days_b_screening_arrest\"]>=-30) &\n",
    "        (df_vio[\"is_recid\"]!=-1) & \n",
    "        (df_vio[\"c_charge_degree\"]!=\"O\") \n",
    "      ].dropna(subset=['v_score_text'])\n",
    "\n",
    "df_vio.shape"
   ]
  },
  {
   "cell_type": "code",
   "execution_count": 31,
   "id": "e9a5aa31",
   "metadata": {},
   "outputs": [
    {
     "data": {
      "text/plain": [
       "25 - 45            2300\n",
       "Greater than 45     954\n",
       "Less than 25        766\n",
       "Name: age_cat, dtype: int64"
      ]
     },
     "execution_count": 31,
     "metadata": {},
     "output_type": "execute_result"
    }
   ],
   "source": [
    "df_vio.age_cat.value_counts()"
   ]
  },
  {
   "cell_type": "code",
   "execution_count": 32,
   "id": "f5707c20",
   "metadata": {},
   "outputs": [
    {
     "data": {
      "text/plain": [
       "African-American    1,918.00\n",
       "Caucasian           1,459.00\n",
       "Hispanic              355.00\n",
       "Other                 255.00\n",
       "Asian                  26.00\n",
       "Native American         7.00\n",
       "Name: race, dtype: object"
      ]
     },
     "execution_count": 32,
     "metadata": {},
     "output_type": "execute_result"
    }
   ],
   "source": [
    "(df_vio.race.value_counts()).map('{:,.2f}'.format)"
   ]
  },
  {
   "cell_type": "code",
   "execution_count": 33,
   "id": "18d97bb8",
   "metadata": {},
   "outputs": [
    {
     "data": {
      "text/plain": [
       "Low       2913\n",
       "Medium     828\n",
       "High       279\n",
       "Name: v_score_text, dtype: int64"
      ]
     },
     "execution_count": 33,
     "metadata": {},
     "output_type": "execute_result"
    }
   ],
   "source": [
    "df_vio.v_score_text.value_counts()"
   ]
  },
  {
   "cell_type": "code",
   "execution_count": 34,
   "id": "d6c5244b",
   "metadata": {},
   "outputs": [
    {
     "name": "stdout",
     "output_type": "stream",
     "text": [
      "Number of entries with two_year_recid: 652\n",
      "% of entries with two_year_recid 16.22\n"
     ]
    }
   ],
   "source": [
    "no_recid_vio = np.sum(df_vio[\"two_year_recid\"]==1)\n",
    "print(\"Number of entries with two_year_recid:\", no_recid_vio)\n",
    "print(\"% of entries with two_year_recid\", np.round(no_recid_vio/df_vio.shape[0]*100,2))"
   ]
  },
  {
   "cell_type": "code",
   "execution_count": 35,
   "id": "2bbbacfc",
   "metadata": {},
   "outputs": [
    {
     "data": {
      "image/png": "[encoded data removed]",
      "text/plain": [
       "<Figure size 1080x360 with 2 Axes>"
      ]
     },
     "metadata": {},
     "output_type": "display_data"
    }
   ],
   "source": [
    "fig_vio, axes_vio = plt.subplots(1,2, figsize=(15,5))\n",
    "plt.setp(axes_vio, ylim=(0,700), xticks=np.arange(1,11), xlabel=\"Violent Decile Score\")\n",
    "\n",
    "scores_black_vio = df_vio[df_vio[\"race\"]==\"African-American\"][\"v_decile_score\"]\n",
    "scores_white_vio = df_vio[df_vio[\"race\"]==\"Caucasian\"][\"v_decile_score\"]\n",
    "\n",
    "sns.histplot(\n",
    "    x=scores_black_vio,\n",
    "    bins=10, \n",
    "    ax=axes_vio[0], \n",
    "    kde=True,\n",
    "    shrink=.9,\n",
    "    discrete=True\n",
    "            )\n",
    "axes_vio[0].set_title(\"Black Defendant's Violent Decile Scores\")\n",
    "\n",
    "sns.histplot(\n",
    "    x=scores_white_vio,\n",
    "    bins=10, \n",
    "    ax=axes_vio[1], \n",
    "    kde=True,\n",
    "    shrink=.9,\n",
    "    discrete=True\n",
    "            )\n",
    "axes_vio[1].set_title(\"White Defendant's Violent Decile Scores\");\n"
   ]
  },
  {
   "cell_type": "code",
   "execution_count": 36,
   "id": "f3ea4a74",
   "metadata": {},
   "outputs": [],
   "source": [
    "#Create df for Logistic regression model \n",
    "df_log_vio = df_vio[['sex', 'age_cat', 'race', 'priors_count',\n",
    "             'c_charge_degree', 'two_year_recid', 'v_score_text']].copy()\n",
    "\n",
    "# Combine Medium and High Risk score into one category\n",
    "df_log_vio[\"v_score_text\"] = df_log_vio.v_score_text.apply(lambda x: 0 if x==\"Low\" else 1)#.astype('category')\n",
    "\n",
    "# Rename columns according to ProPublica\n",
    "df_log_vio.columns = ['gender_factor','age_factor','race_factor', 'priors_count',\n",
    "                  'crime_factor', 'two_year_recid', 'score_factor']"
   ]
  },
  {
   "cell_type": "code",
   "execution_count": 37,
   "id": "31f89b9b",
   "metadata": {},
   "outputs": [],
   "source": [
    "# # Create list of labels for Ordinal Encoder so that the order is identical to ProPublica\n",
    "# gender_labels = [\"Male\",\"Female\"]\n",
    "# age_labels = ['25 - 45', 'Greater than 45', 'Less than 25']\n",
    "# race_labels = ['Caucasian', 'African-American', 'Asian', 'Hispanic', 'Native American', 'Other']\n",
    "# crime_labels = ['F', 'M']\n",
    "\n",
    "#Instantiate Ordinal Encoder\n",
    "ord_encoder_vio = OrdinalEncoder(categories=[gender_labels, age_labels, race_labels, crime_labels])"
   ]
  },
  {
   "cell_type": "code",
   "execution_count": 38,
   "id": "59388325",
   "metadata": {},
   "outputs": [],
   "source": [
    "# Create encoded df\n",
    "df_log_vio_enc = df_log_vio.copy()\n",
    "\n",
    "# Encode features (statsmodels requires numerical features)\n",
    "df_log_vio_enc[['gender_factor', 'age_factor', 'race_factor', 'crime_factor']] = ord_encoder_vio.fit_transform(\n",
    "    df_log_vio[['gender_factor', 'age_factor', 'race_factor', 'crime_factor']]) \n"
   ]
  },
  {
   "cell_type": "code",
   "execution_count": 39,
   "id": "bba1c510",
   "metadata": {},
   "outputs": [
    {
     "name": "stdout",
     "output_type": "stream",
     "text": [
      "Optimization terminated successfully.\n",
      "         Current function value: 0.372983\n",
      "         Iterations 7\n"
     ]
    }
   ],
   "source": [
    "# Fit model\n",
    "formula_vio = \"score_factor ~ C(gender_factor) + C(age_factor) + C(race_factor)+ priors_count + C(crime_factor) + two_year_recid\"\n",
    "model_vio = smf.logit(formula=formula_vio, data=df_log_vio_enc).fit()"
   ]
  },
  {
   "cell_type": "code",
   "execution_count": 40,
   "id": "89a35bc6",
   "metadata": {},
   "outputs": [
    {
     "data": {
      "text/html": [
       "<table class=\"simpletable\">\n",
       "<caption>Logit Regression Results</caption>\n",
       "<tr>\n",
       "  <th>Dep. Variable:</th>     <td>score_factor</td>   <th>  No. Observations:  </th>  <td>  4020</td> \n",
       "</tr>\n",
       "<tr>\n",
       "  <th>Model:</th>                 <td>Logit</td>      <th>  Df Residuals:      </th>  <td>  4008</td> \n",
       "</tr>\n",
       "<tr>\n",
       "  <th>Method:</th>                 <td>MLE</td>       <th>  Df Model:          </th>  <td>    11</td> \n",
       "</tr>\n",
       "<tr>\n",
       "  <th>Date:</th>            <td>Fri, 10 Dec 2021</td> <th>  Pseudo R-squ.:     </th>  <td>0.3662</td> \n",
       "</tr>\n",
       "<tr>\n",
       "  <th>Time:</th>                <td>12:41:11</td>     <th>  Log-Likelihood:    </th> <td> -1499.4</td>\n",
       "</tr>\n",
       "<tr>\n",
       "  <th>converged:</th>             <td>True</td>       <th>  LL-Null:           </th> <td> -2365.9</td>\n",
       "</tr>\n",
       "<tr>\n",
       "  <th>Covariance Type:</th>     <td>nonrobust</td>    <th>  LLR p-value:       </th>  <td> 0.000</td> \n",
       "</tr>\n",
       "</table>\n",
       "<table class=\"simpletable\">\n",
       "<tr>\n",
       "               <td></td>                  <th>coef</th>     <th>std err</th>      <th>z</th>      <th>P>|z|</th>  <th>[0.025</th>    <th>0.975]</th>  \n",
       "</tr>\n",
       "<tr>\n",
       "  <th>Intercept</th>                   <td>   -2.2427</td> <td>    0.113</td> <td>  -19.802</td> <td> 0.000</td> <td>   -2.465</td> <td>   -2.021</td>\n",
       "</tr>\n",
       "<tr>\n",
       "  <th>gender_factorFemale</th>         <td>   -0.7289</td> <td>    0.127</td> <td>   -5.755</td> <td> 0.000</td> <td>   -0.977</td> <td>   -0.481</td>\n",
       "</tr>\n",
       "<tr>\n",
       "  <th>age_factorGreater than 45</th>   <td>   -1.7421</td> <td>    0.184</td> <td>   -9.460</td> <td> 0.000</td> <td>   -2.103</td> <td>   -1.381</td>\n",
       "</tr>\n",
       "<tr>\n",
       "  <th>age_factorLess than 25</th>      <td>    3.1459</td> <td>    0.115</td> <td>   27.259</td> <td> 0.000</td> <td>    2.920</td> <td>    3.372</td>\n",
       "</tr>\n",
       "<tr>\n",
       "  <th>race_factorAfrican-American</th> <td>    0.6589</td> <td>    0.108</td> <td>    6.093</td> <td> 0.000</td> <td>    0.447</td> <td>    0.871</td>\n",
       "</tr>\n",
       "<tr>\n",
       "  <th>race_factorAsian</th>            <td>   -0.9852</td> <td>    0.705</td> <td>   -1.397</td> <td> 0.162</td> <td>   -2.368</td> <td>    0.397</td>\n",
       "</tr>\n",
       "<tr>\n",
       "  <th>race_factorHispanic</th>         <td>   -0.0642</td> <td>    0.191</td> <td>   -0.335</td> <td> 0.737</td> <td>   -0.439</td> <td>    0.311</td>\n",
       "</tr>\n",
       "<tr>\n",
       "  <th>race_factorNative American</th>  <td>    0.4479</td> <td>    1.035</td> <td>    0.433</td> <td> 0.665</td> <td>   -1.582</td> <td>    2.477</td>\n",
       "</tr>\n",
       "<tr>\n",
       "  <th>race_factorOther</th>            <td>   -0.2054</td> <td>    0.225</td> <td>   -0.914</td> <td> 0.360</td> <td>   -0.646</td> <td>    0.235</td>\n",
       "</tr>\n",
       "<tr>\n",
       "  <th>crime_factorM</th>               <td>   -0.1637</td> <td>    0.098</td> <td>   -1.669</td> <td> 0.095</td> <td>   -0.356</td> <td>    0.029</td>\n",
       "</tr>\n",
       "<tr>\n",
       "  <th>priors_count</th>                <td>    0.1376</td> <td>    0.012</td> <td>   11.854</td> <td> 0.000</td> <td>    0.115</td> <td>    0.160</td>\n",
       "</tr>\n",
       "<tr>\n",
       "  <th>two_year_recid</th>              <td>    0.9345</td> <td>    0.115</td> <td>    8.107</td> <td> 0.000</td> <td>    0.709</td> <td>    1.160</td>\n",
       "</tr>\n",
       "</table>"
      ],
      "text/plain": [
       "<class 'statsmodels.iolib.summary.Summary'>\n",
       "\"\"\"\n",
       "                           Logit Regression Results                           \n",
       "==============================================================================\n",
       "Dep. Variable:           score_factor   No. Observations:                 4020\n",
       "Model:                          Logit   Df Residuals:                     4008\n",
       "Method:                           MLE   Df Model:                           11\n",
       "Date:                Fri, 10 Dec 2021   Pseudo R-squ.:                  0.3662\n",
       "Time:                        12:41:11   Log-Likelihood:                -1499.4\n",
       "converged:                       True   LL-Null:                       -2365.9\n",
       "Covariance Type:            nonrobust   LLR p-value:                     0.000\n",
       "===============================================================================================\n",
       "                                  coef    std err          z      P>|z|      [0.025      0.975]\n",
       "-----------------------------------------------------------------------------------------------\n",
       "Intercept                      -2.2427      0.113    -19.802      0.000      -2.465      -2.021\n",
       "gender_factorFemale            -0.7289      0.127     -5.755      0.000      -0.977      -0.481\n",
       "age_factorGreater than 45      -1.7421      0.184     -9.460      0.000      -2.103      -1.381\n",
       "age_factorLess than 25          3.1459      0.115     27.259      0.000       2.920       3.372\n",
       "race_factorAfrican-American     0.6589      0.108      6.093      0.000       0.447       0.871\n",
       "race_factorAsian               -0.9852      0.705     -1.397      0.162      -2.368       0.397\n",
       "race_factorHispanic            -0.0642      0.191     -0.335      0.737      -0.439       0.311\n",
       "race_factorNative American      0.4479      1.035      0.433      0.665      -1.582       2.477\n",
       "race_factorOther               -0.2054      0.225     -0.914      0.360      -0.646       0.235\n",
       "crime_factorM                  -0.1637      0.098     -1.669      0.095      -0.356       0.029\n",
       "priors_count                    0.1376      0.012     11.854      0.000       0.115       0.160\n",
       "two_year_recid                  0.9345      0.115      8.107      0.000       0.709       1.160\n",
       "===============================================================================================\n",
       "\"\"\""
      ]
     },
     "execution_count": 40,
     "metadata": {},
     "output_type": "execute_result"
    }
   ],
   "source": [
    "# Create summary table with correct label names \n",
    "result_vio = model_vio.summary(xname=[\"Intercept\",\n",
    "                     \"gender_factorFemale\", \n",
    "                     \"age_factorGreater than 45\", \n",
    "                     \"age_factorLess than 25\",\n",
    "                     \"race_factorAfrican-American\",\n",
    "                     \"race_factorAsian\",\n",
    "                     \"race_factorHispanic\",\n",
    "                     \"race_factorNative American\",\n",
    "                     \"race_factorOther\",\n",
    "                     \"crime_factorM\",\n",
    "                     \"priors_count\",\n",
    "                     \"two_year_recid\"])\n",
    "\n",
    "result_vio"
   ]
  },
  {
   "cell_type": "markdown",
   "id": "2e4d486e",
   "metadata": {},
   "source": [
    "The violent score overpredicts recidivism for black defendants by 77.3% compared to white defendants."
   ]
  },
  {
   "cell_type": "code",
   "execution_count": 41,
   "id": "8300a4c5",
   "metadata": {},
   "outputs": [
    {
     "data": {
      "text/plain": [
       "1.77392741407041"
      ]
     },
     "execution_count": 41,
     "metadata": {},
     "output_type": "execute_result"
    }
   ],
   "source": [
    "intercept_vio_coef = model_vio.params[\"Intercept\"] #Log odds for Caucasian \n",
    "african_american_vio_coef = model_vio.params[\"C(race_factor)[T.1.0]\"] #Log odds for African American (see ord_encoder.categories_)\n",
    "\n",
    "control_vio = np.exp(intercept_vio_coef) / (1+ np.exp(intercept_vio_coef))\n",
    "np.exp(african_american_vio_coef) / (1- control_vio + (control_vio *np.exp(african_american_vio_coef)))"
   ]
  },
  {
   "cell_type": "markdown",
   "id": "2665f1c6",
   "metadata": {},
   "source": [
    "Defendands under 25 are 7.4 times as likely to get a higher score as middle aged defendants."
   ]
  },
  {
   "cell_type": "code",
   "execution_count": 42,
   "id": "0c76fb2d",
   "metadata": {},
   "outputs": [
    {
     "data": {
      "text/plain": [
       "7.414231992873513"
      ]
     },
     "execution_count": 42,
     "metadata": {},
     "output_type": "execute_result"
    }
   ],
   "source": [
    "young_vio_coef = model_vio.params[\"C(age_factor)[T.2.0]\"]\n",
    "\n",
    "np.exp(young_vio_coef) / (1 - control_vio + (control_vio * np.exp(young_vio_coef)))"
   ]
  },
  {
   "cell_type": "markdown",
   "id": "f90e7db7",
   "metadata": {},
   "source": [
    "## Predictive Accuracy of COMPAS\n",
    "\n",
    ">In order to test whether Compas scores do an accurate job of deciding whether an offender is Low, Medium or High risk,  we ran a Cox Proportional Hazards model. Northpointe, the company that created COMPAS and markets it to Law Enforcement, also ran a Cox model in their [validation study](http://cjb.sagepub.com/content/36/1/21.abstract).\n",
    "\n",
    ">We used the counting model and removed people when they were incarcerated. Due to errors in the underlying jail data, we need to filter out 32 rows that have an end date more than the start date. Considering that there are 13,334 total rows in the data, such a small amount of errors will not affect the results."
   ]
  },
  {
   "cell_type": "code",
   "execution_count": 50,
   "id": "c1c0267c",
   "metadata": {},
   "outputs": [],
   "source": [
    "csv_path_cox = os.path.join(root_dir, \"data-ProPublica\",\"cox-parsed.csv\")\n",
    "\n",
    "# Load data\n",
    "raw_data_cox = pd.read_csv(csv_path_cox)"
   ]
  },
  {
   "cell_type": "code",
   "execution_count": 60,
   "id": "2dd591fc",
   "metadata": {},
   "outputs": [
    {
     "data": {
      "text/plain": [
       "(10314, 52)"
      ]
     },
     "execution_count": 60,
     "metadata": {},
     "output_type": "execute_result"
    }
   ],
   "source": [
    "df_grp = raw_data_cox.copy()\n",
    "\n",
    "# Filter rows as described by ProPublica\n",
    "df_grp = df_grp[df_grp[\"end\"]>df_grp[\"start\"]].dropna(subset=['score_text']).drop_duplicates([\"id\"])\n",
    "df_grp.shape"
   ]
  },
  {
   "cell_type": "code",
   "execution_count": 69,
   "id": "580f576b",
   "metadata": {},
   "outputs": [],
   "source": [
    "#Rename column names (no Ordinal Encoding yet)\n",
    "df_grp = df_grp.rename(columns={\"race\": \"race_factor\", 'score_text': \"score_factor\"})"
   ]
  },
  {
   "cell_type": "code",
   "execution_count": 71,
   "id": "5f0acf97",
   "metadata": {},
   "outputs": [
    {
     "data": {
      "text/plain": [
       "Low       5751\n",
       "Medium    2611\n",
       "High      1952\n",
       "Name: score_factor, dtype: int64"
      ]
     },
     "execution_count": 71,
     "metadata": {},
     "output_type": "execute_result"
    }
   ],
   "source": [
    "df_grp.score_factor.value_counts()"
   ]
  },
  {
   "cell_type": "code",
   "execution_count": 74,
   "id": "f9d1da89",
   "metadata": {},
   "outputs": [
    {
     "data": {
      "text/plain": [
       "African-American    5,147\n",
       "Caucasian           3,569\n",
       "Hispanic              944\n",
       "Other                 571\n",
       "Asian                  51\n",
       "Native American        32\n",
       "Name: race_factor, dtype: object"
      ]
     },
     "execution_count": 74,
     "metadata": {},
     "output_type": "execute_result"
    }
   ],
   "source": [
    "(df_grp.race_factor.value_counts()).map('{:,.0f}'.format)"
   ]
  },
  {
   "cell_type": "code",
   "execution_count": null,
   "id": "de7cf411",
   "metadata": {},
   "outputs": [],
   "source": []
  },
  {
   "cell_type": "code",
   "execution_count": null,
   "id": "de7e207e",
   "metadata": {},
   "outputs": [],
   "source": []
  },
  {
   "cell_type": "markdown",
   "id": "06404f43",
   "metadata": {},
   "source": [
    "## Directions of the Racial Bias\n",
    "\n",
    ">The above analysis shows that the Compas algorithm does overpredict African-American defendant's future recidivism, but we haven't yet explored the direction of the bias. We can discover fine differences in overprediction and underprediction by comparing Compas scores across racial lines."
   ]
  },
  {
   "cell_type": "code",
   "execution_count": 77,
   "id": "5484eaa7",
   "metadata": {},
   "outputs": [],
   "source": [
    "from truth_tables import PeekyReader, Person, table, is_race, count, vtable, hightable, vhightable\n",
    "from csv import DictReader\n",
    "\n",
    "people = []\n",
    "with open(\"../../data-ProPublica/cox-parsed.csv\") as f:\n",
    "    reader = PeekyReader(DictReader(f))\n",
    "    try:\n",
    "        while True:\n",
    "            p = Person(reader)\n",
    "            if p.valid:\n",
    "                people.append(p)\n",
    "    except StopIteration:\n",
    "        pass\n",
    "\n",
    "pop = list(filter(lambda i: ((i.recidivist == True and i.lifetime <= 730) or\n",
    "                              i.lifetime > 730), list(filter(lambda x: x.score_valid, people))))\n",
    "recid = list(filter(lambda i: i.recidivist == True and i.lifetime <= 730, pop))\n",
    "rset = set(recid)\n",
    "surv = [i for i in pop if i not in rset]"
   ]
  },
  {
   "cell_type": "code",
   "execution_count": 78,
   "id": "9773dac9",
   "metadata": {},
   "outputs": [
    {
     "name": "stdout",
     "output_type": "stream",
     "text": [
      "All defendants\n",
      "           \tLow\tHigh\n",
      "Survived   \t2681\t1282\t0.55\n",
      "Recidivated\t1216\t2035\t0.45\n",
      "Total: 7214.00\n",
      "False positive rate: 32.35\n",
      "False negative rate: 37.40\n",
      "Specificity: 0.68\n",
      "Sensitivity: 0.63\n",
      "Prevalence: 0.45\n",
      "PPV: 0.61\n",
      "NPV: 0.69\n",
      "LR+: 1.94\n",
      "LR-: 0.55\n"
     ]
    }
   ],
   "source": [
    "print(\"All defendants\")\n",
    "table(list(recid), list(surv))"
   ]
  },
  {
   "cell_type": "code",
   "execution_count": 79,
   "id": "06d76ab2",
   "metadata": {},
   "outputs": [
    {
     "name": "stdout",
     "output_type": "stream",
     "text": [
      "Total pop: 7214\n"
     ]
    }
   ],
   "source": [
    "print(\"Total pop: %i\" % (2681 + 1282 + 1216 + 2035))"
   ]
  },
  {
   "cell_type": "code",
   "execution_count": 80,
   "id": "bcf5137a",
   "metadata": {},
   "outputs": [
    {
     "name": "stdout",
     "output_type": "stream",
     "text": [
      "Average followup time 622.87 (sd 392.19)\n",
      "Median followup time 766\n"
     ]
    }
   ],
   "source": [
    "import statistics\n",
    "print(\"Average followup time %.2f (sd %.2f)\" % (statistics.mean(map(lambda i: i.lifetime, pop)),\n",
    "                                                statistics.stdev(map(lambda i: i.lifetime, pop))))\n",
    "print(\"Median followup time %i\" % (statistics.median(map(lambda i: i.lifetime, pop))))"
   ]
  },
  {
   "cell_type": "markdown",
   "id": "2e25a973",
   "metadata": {},
   "source": [
    "Overall, the false positive rate is 32.35%."
   ]
  },
  {
   "cell_type": "code",
   "execution_count": 81,
   "id": "d18dff03",
   "metadata": {},
   "outputs": [
    {
     "name": "stdout",
     "output_type": "stream",
     "text": [
      "Black defendants\n",
      "           \tLow\tHigh\n",
      "Survived   \t990\t805\t0.49\n",
      "Recidivated\t532\t1369\t0.51\n",
      "Total: 3696.00\n",
      "False positive rate: 44.85\n",
      "False negative rate: 27.99\n",
      "Specificity: 0.55\n",
      "Sensitivity: 0.72\n",
      "Prevalence: 0.51\n",
      "PPV: 0.63\n",
      "NPV: 0.65\n",
      "LR+: 1.61\n",
      "LR-: 0.51\n"
     ]
    }
   ],
   "source": [
    "print(\"Black defendants\")\n",
    "is_afam = is_race(\"African-American\")\n",
    "table(list(filter(is_afam, recid)), list(filter(is_afam, surv)))"
   ]
  },
  {
   "cell_type": "markdown",
   "id": "d82bf322",
   "metadata": {},
   "source": [
    "That number is higher for African Americans at 44.85%."
   ]
  },
  {
   "cell_type": "code",
   "execution_count": 83,
   "id": "211f491b",
   "metadata": {},
   "outputs": [
    {
     "name": "stdout",
     "output_type": "stream",
     "text": [
      "White defendants\n",
      "           \tLow\tHigh\n",
      "Survived   \t1139\t349\t0.61\n",
      "Recidivated\t461\t505\t0.39\n",
      "Total: 2454.00\n",
      "False positive rate: 23.45\n",
      "False negative rate: 47.72\n",
      "Specificity: 0.77\n",
      "Sensitivity: 0.52\n",
      "Prevalence: 0.39\n",
      "PPV: 0.59\n",
      "NPV: 0.71\n",
      "LR+: 2.23\n",
      "LR-: 0.62\n"
     ]
    }
   ],
   "source": [
    "print(\"White defendants\")\n",
    "is_white = is_race(\"Caucasian\")\n",
    "table(list(filter(is_white, recid)), list(filter(is_white, surv)))"
   ]
  },
  {
   "cell_type": "markdown",
   "id": "dda85212",
   "metadata": {},
   "source": [
    "And lower for whites at 23.45%."
   ]
  },
  {
   "cell_type": "code",
   "execution_count": 84,
   "id": "b6e88f2a",
   "metadata": {},
   "outputs": [
    {
     "data": {
      "text/plain": [
       "1.9125799573560769"
      ]
     },
     "execution_count": 84,
     "metadata": {},
     "output_type": "execute_result"
    }
   ],
   "source": [
    "44.85 / 23.45"
   ]
  },
  {
   "cell_type": "markdown",
   "id": "677d7288",
   "metadata": {},
   "source": [
    "Which means under COMPAS black defendants are 91% more likely to get a higher score and not go on to commit more crimes than white defendants after two year."
   ]
  },
  {
   "cell_type": "markdown",
   "id": "a7069dbc",
   "metadata": {},
   "source": [
    "COMPAS scores misclassify white reoffenders as low risk at 70.4% more often than black reoffenders."
   ]
  },
  {
   "cell_type": "code",
   "execution_count": 85,
   "id": "d7843b4c",
   "metadata": {},
   "outputs": [
    {
     "data": {
      "text/plain": [
       "1.7048946052161487"
      ]
     },
     "execution_count": 85,
     "metadata": {},
     "output_type": "execute_result"
    }
   ],
   "source": [
    "47.72 / 27.99"
   ]
  },
  {
   "cell_type": "code",
   "execution_count": 86,
   "id": "b9a5bddc",
   "metadata": {},
   "outputs": [
    {
     "name": "stdout",
     "output_type": "stream",
     "text": [
      "           \tLow\tHigh\n",
      "Survived   \t1407\t81\t0.61\n",
      "Recidivated\t771\t195\t0.39\n",
      "Total: 2454.00\n",
      "False positive rate: 5.44\n",
      "False negative rate: 79.81\n",
      "Specificity: 0.95\n",
      "Sensitivity: 0.20\n",
      "Prevalence: 0.39\n",
      "PPV: 0.71\n",
      "NPV: 0.65\n",
      "LR+: 3.71\n",
      "LR-: 0.84\n"
     ]
    }
   ],
   "source": [
    "hightable(list(filter(is_white, recid)), list(filter(is_white, surv)))"
   ]
  },
  {
   "cell_type": "code",
   "execution_count": 87,
   "id": "1734fc27",
   "metadata": {},
   "outputs": [
    {
     "name": "stdout",
     "output_type": "stream",
     "text": [
      "           \tLow\tHigh\n",
      "Survived   \t1511\t284\t0.49\n",
      "Recidivated\t1160\t741\t0.51\n",
      "Total: 3696.00\n",
      "False positive rate: 15.82\n",
      "False negative rate: 61.02\n",
      "Specificity: 0.84\n",
      "Sensitivity: 0.39\n",
      "Prevalence: 0.51\n",
      "PPV: 0.72\n",
      "NPV: 0.57\n",
      "LR+: 2.46\n",
      "LR-: 0.72\n"
     ]
    }
   ],
   "source": [
    "hightable(list(filter(is_afam, recid)), list(filter(is_afam, surv)))"
   ]
  },
  {
   "cell_type": "markdown",
   "id": "7a7d4d9e",
   "metadata": {},
   "source": [
    "## Risk of Violent Recidivism\n",
    "\n",
    ">Compas also offers a score that aims to measure a persons risk of violent recidivism, which has a similar overall accuracy to the Recidivism score."
   ]
  },
  {
   "cell_type": "code",
   "execution_count": 89,
   "id": "db6a3c01",
   "metadata": {},
   "outputs": [],
   "source": [
    "vpeople = []\n",
    "with open(\"../../data-ProPublica/cox-violent-parsed.csv\") as f:\n",
    "    reader = PeekyReader(DictReader(f))\n",
    "    try:\n",
    "        while True:\n",
    "            p = Person(reader)\n",
    "            if p.valid:\n",
    "                vpeople.append(p)\n",
    "    except StopIteration:\n",
    "        pass\n",
    "\n",
    "vpop = list(filter(lambda i: ((i.violent_recidivist == True and i.lifetime <= 730) or\n",
    "                              i.lifetime > 730), list(filter(lambda x: x.vscore_valid, vpeople))))\n",
    "vrecid = list(filter(lambda i: i.violent_recidivist == True and i.lifetime <= 730, vpeople))\n",
    "vrset = set(vrecid)\n",
    "vsurv = [i for i in vpop if i not in vrset]"
   ]
  },
  {
   "cell_type": "code",
   "execution_count": 90,
   "id": "6e3c7260",
   "metadata": {},
   "outputs": [
    {
     "name": "stdout",
     "output_type": "stream",
     "text": [
      "All defendants\n",
      "           \tLow\tHigh\n",
      "Survived   \t4121\t1597\t0.89\n",
      "Recidivated\t347\t389\t0.11\n",
      "Total: 6454.00\n",
      "False positive rate: 27.93\n",
      "False negative rate: 47.15\n",
      "Specificity: 0.72\n",
      "Sensitivity: 0.53\n",
      "Prevalence: 0.11\n",
      "PPV: 0.20\n",
      "NPV: 0.92\n",
      "LR+: 1.89\n",
      "LR-: 0.65\n"
     ]
    }
   ],
   "source": [
    "print(\"All defendants\")\n",
    "vtable(list(vrecid), list(vsurv))"
   ]
  },
  {
   "cell_type": "markdown",
   "id": "5c18a2a2",
   "metadata": {},
   "source": [
    "Even more so for Black defendants."
   ]
  },
  {
   "cell_type": "code",
   "execution_count": 91,
   "id": "c0058a4e",
   "metadata": {},
   "outputs": [
    {
     "name": "stdout",
     "output_type": "stream",
     "text": [
      "Black defendants\n",
      "           \tLow\tHigh\n",
      "Survived   \t1692\t1043\t0.86\n",
      "Recidivated\t170\t273\t0.14\n",
      "Total: 3178.00\n",
      "False positive rate: 38.14\n",
      "False negative rate: 38.37\n",
      "Specificity: 0.62\n",
      "Sensitivity: 0.62\n",
      "Prevalence: 0.14\n",
      "PPV: 0.21\n",
      "NPV: 0.91\n",
      "LR+: 1.62\n",
      "LR-: 0.62\n"
     ]
    }
   ],
   "source": [
    "print(\"Black defendants\")\n",
    "is_afam = is_race(\"African-American\")\n",
    "vtable(list(filter(is_afam, vrecid)), list(filter(is_afam, vsurv)))"
   ]
  },
  {
   "cell_type": "code",
   "execution_count": 92,
   "id": "707d9d20",
   "metadata": {},
   "outputs": [
    {
     "name": "stdout",
     "output_type": "stream",
     "text": [
      "White defendants\n",
      "           \tLow\tHigh\n",
      "Survived   \t1679\t380\t0.91\n",
      "Recidivated\t129\t77\t0.09\n",
      "Total: 2265.00\n",
      "False positive rate: 18.46\n",
      "False negative rate: 62.62\n",
      "Specificity: 0.82\n",
      "Sensitivity: 0.37\n",
      "Prevalence: 0.09\n",
      "PPV: 0.17\n",
      "NPV: 0.93\n",
      "LR+: 2.03\n",
      "LR-: 0.77\n"
     ]
    }
   ],
   "source": [
    "print(\"White defendants\")\n",
    "is_white = is_race(\"Caucasian\")\n",
    "vtable(list(filter(is_white, vrecid)), list(filter(is_white, vsurv)))"
   ]
  },
  {
   "cell_type": "markdown",
   "id": "4cf7db59",
   "metadata": {},
   "source": [
    "Black defendants are twice as likely to be false positives for a Higher violent score than white defendants."
   ]
  },
  {
   "cell_type": "code",
   "execution_count": 93,
   "id": "cee55929",
   "metadata": {},
   "outputs": [
    {
     "data": {
      "text/plain": [
       "2.066088840736728"
      ]
     },
     "execution_count": 93,
     "metadata": {},
     "output_type": "execute_result"
    }
   ],
   "source": [
    "38.14 / 18.46"
   ]
  },
  {
   "cell_type": "markdown",
   "id": "ace0476e",
   "metadata": {},
   "source": [
    "White defendants are 63% more likely to get a lower score and commit another crime than Black defendants."
   ]
  },
  {
   "cell_type": "code",
   "execution_count": 95,
   "id": "31911580",
   "metadata": {},
   "outputs": [
    {
     "data": {
      "text/plain": [
       "1.63200416992442"
      ]
     },
     "execution_count": 95,
     "metadata": {},
     "output_type": "execute_result"
    }
   ],
   "source": [
    "62.62 / 38.37"
   ]
  },
  {
   "cell_type": "markdown",
   "id": "477d8695",
   "metadata": {},
   "source": [
    "## Gender differences in Compas scores\n",
    "\n",
    ">In terms of underlying recidivism rates, we can look at gender specific Kaplan Meier estimates. There is a striking difference between women and men."
   ]
  },
  {
   "cell_type": "code",
   "execution_count": null,
   "id": "ed56363a",
   "metadata": {},
   "outputs": [],
   "source": []
  }
 ],
 "metadata": {
  "kernelspec": {
   "display_name": "Python 3 (ipykernel)",
   "language": "python",
   "name": "python3"
  },
  "language_info": {
   "codemirror_mode": {
    "name": "ipython",
    "version": 3
   },
   "file_extension": ".py",
   "mimetype": "text/x-python",
   "name": "python",
   "nbconvert_exporter": "python",
   "pygments_lexer": "ipython3",
   "version": "3.8.6"
  },
  "toc": {
   "base_numbering": 1,
   "nav_menu": {},
   "number_sections": true,
   "sideBar": true,
   "skip_h1_title": false,
   "title_cell": "Table of Contents",
   "title_sidebar": "Contents",
   "toc_cell": false,
   "toc_position": {},
   "toc_section_display": true,
   "toc_window_display": false
  }
 },
 "nbformat": 4,
 "nbformat_minor": 5
}
