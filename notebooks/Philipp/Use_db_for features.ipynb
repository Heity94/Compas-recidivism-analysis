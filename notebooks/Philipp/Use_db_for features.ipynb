{
 "cells": [
  {
   "cell_type": "code",
   "execution_count": 65,
   "id": "c360202c",
   "metadata": {},
   "outputs": [],
   "source": [
    "#Imports\n",
    "import numpy as np\n",
    "import pandas as pd\n",
    "import matplotlib.pyplot as plt\n",
    "import seaborn as sns\n",
    "\n",
    "#sklearn \n",
    "from sklearn.linear_model import LogisticRegression\n",
    "#from sklearn.neighbors import KNeighborsClassifier\n",
    "from sklearn.tree import DecisionTreeClassifier, plot_tree\n",
    "from sklearn.ensemble import BaggingClassifier, RandomForestClassifier\n",
    "from sklearn.preprocessing import OneHotEncoder, StandardScaler, MinMaxScaler, OrdinalEncoder\n",
    "from sklearn.impute import KNNImputer, SimpleImputer\n",
    "from sklearn.model_selection import cross_validate, GridSearchCV, train_test_split, RandomizedSearchCV, cross_val_score\n",
    "from sklearn.metrics import confusion_matrix, classification_report, log_loss, roc_auc_score, f1_score, precision_score, recall_score, accuracy_score\n",
    "from sklearn.pipeline import make_pipeline, Pipeline\n",
    "from sklearn.feature_selection import SequentialFeatureSelector, SelectFromModel\n",
    "from sklearn.compose import make_column_selector, make_column_transformer\n",
    "from sklearn.inspection import permutation_importance\n",
    "from sklearn.dummy import DummyClassifier\n",
    "\n",
    "#imblearn to balance training data\n",
    "from imblearn.over_sampling import SMOTENC\n",
    "from imblearn.combine import SMOTETomek\n",
    "from imblearn.pipeline import make_pipeline as imblearn_make_pipeline\n",
    "from collections import Counter\n",
    "\n",
    "# XGB\n",
    "import xgboost as xgb\n",
    "from xgboost import XGBClassifier\n",
    "xgb.set_config(verbosity=0) # to supress warnings\n",
    "\n",
    "# shap\n",
    "import shap\n",
    "\n",
    "#joblib to save trained models\n",
    "import joblib\n",
    "\n",
    "# Show pipelines as interactive diagram\n",
    "from sklearn import set_config; set_config(display='diagram')"
   ]
  },
  {
   "cell_type": "code",
   "execution_count": 45,
   "id": "f0dd0456",
   "metadata": {},
   "outputs": [],
   "source": [
    "# Set random seed for reproducibility reasons\n",
    "np.random.seed(42)"
   ]
  },
  {
   "cell_type": "markdown",
   "id": "1e8d95f6",
   "metadata": {},
   "source": [
    "# Create clean dataframe\n"
   ]
  },
  {
   "cell_type": "markdown",
   "id": "5186a16d",
   "metadata": {},
   "source": [
    "## Load dataset"
   ]
  },
  {
   "cell_type": "code",
   "execution_count": 46,
   "id": "f8d98873",
   "metadata": {},
   "outputs": [],
   "source": [
    "df = pd.read_csv(\"../../data-cleaned/compas-scores-two-years-clean.csv\")"
   ]
  },
  {
   "cell_type": "markdown",
   "id": "711dd7cb",
   "metadata": {},
   "source": [
    "## Filter dataset"
   ]
  },
  {
   "cell_type": "markdown",
   "id": "6206d828",
   "metadata": {},
   "source": [
    "ProPublicas reasoning for filter `raw_data`:\n",
    ">However not all of the rows are useable for the first round of analysis.\n",
    ">There are a number of reasons remove rows because of missing data:\n",
    ">* If the charge date of a defendants Compas scored crime was not within 30 days from when the person was arrested, we assume that because of data quality reasons, that we do not have the right offense.\n",
    ">* We coded the recidivist flag -- `is_recid` -- to be -1 if we could not find a compas case at all.\n",
    ">* In a similar vein, ordinary traffic offenses -- those with a `c_charge_degree` of 'O' -- will not result in Jail time are removed (only two of them).\n",
    ">* We filtered the underlying data from Broward county to include only those rows representing people who had either recidivated in two years, or had at least two years outside of a correctional facility."
   ]
  },
  {
   "cell_type": "code",
   "execution_count": 47,
   "id": "1e98cb8e",
   "metadata": {},
   "outputs": [],
   "source": [
    "df = df[\n",
    "        (df[\"days_b_screening_arrest\"]<=30) \n",
    "        & (df[\"days_b_screening_arrest\"]>=-30) \n",
    "        & (df[\"is_recid\"]!=-1) \n",
    "        & (df[\"c_charge_degree\"]!=\"O\") \n",
    "      ].dropna(subset=['score_text'])"
   ]
  },
  {
   "cell_type": "code",
   "execution_count": 48,
   "id": "5ba381aa",
   "metadata": {},
   "outputs": [],
   "source": [
    "query = \"\"\"WITH peoples AS (\n",
    "\t\tSELECT \n",
    "\t\t\tp.id, \n",
    "\t\t\tp.name,\n",
    "\t\t\tp.sex,\n",
    "\t\t\tp.race,\n",
    "\t\t\tp.age,\n",
    "\t\t\tp.age_cat,\n",
    "\t\t\tp.juv_fel_count,\n",
    "\t\t\tp.juv_misd_count, \n",
    "\t\t\tp.juv_other_count, \n",
    "\t\t\tp.priors_count,\n",
    "\t\t\tp.compas_screening_date, \n",
    "\t\t\tp.days_b_screening_arrest,\n",
    "\t\t\tp.c_charge_degree,\n",
    "\t\t\tp.c_charge_desc, \n",
    "\t\t\tp.decile_score,\n",
    "\t\t\tp.is_recid\n",
    "\t\tFROM people p),\n",
    "\tcompas_data AS (\n",
    "\t\tSELECT \n",
    "\t\t\tc.marital_status,\n",
    "\t\t\tc.rec_supervision_level,\n",
    "\t\t\tc.rec_supervision_level_text,\n",
    "\t\t\tc.score_text,\n",
    "\t\t\tc.person_id \n",
    "\t\tFROM compas c \n",
    "\t\tWHERE c.type_of_assessment LIKE 'Risk of Recidivism'),\n",
    "\tjail_history AS (\n",
    "\t\tSELECT \n",
    "\t\t\tperson_id, \n",
    "\t\t\tCOUNT(person_id) as times_in_jail, \n",
    "\t\t\tSUM(julianday(out_custody) - JULIANDAY(in_custody)) as total_days_in_jail \n",
    "\t\tFROM jailhistory p \n",
    "\t\tLEFT JOIN people p2 ON p.person_id = p2.id \n",
    "\t\tWHERE DATE(p.in_custody) < DATE(p2.compas_screening_date) AND DATE(p2.compas_screening_date) <= '2014-04-01'\n",
    "\t\tGROUP BY person_id \n",
    "\t\tORDER BY person_id),\n",
    "\tprison_history AS (\n",
    "\t\tSELECT \n",
    "\t\t\tperson_id, \n",
    "\t\t\tCOUNT(person_id) as times_in_prison, \n",
    "\t\t\tSUM(julianday(out_custody) - JULIANDAY(in_custody)) as total_days_in_prison \n",
    "\t\tFROM prisonhistory p \n",
    "\t\tLEFT JOIN people p2 ON p.person_id = p2.id \n",
    "\t\tWHERE DATE(p.in_custody) < DATE(p2.compas_screening_date) AND DATE(p2.compas_screening_date) <= '2014-04-01'\n",
    "\t\tGROUP BY person_id \n",
    "\t\tORDER BY person_id),\n",
    "\tcharge_data AS (\n",
    "\t\tSELECT \n",
    "\t\t\tc.person_id, \n",
    "\t\t\tc.name, \n",
    "\t\t\tCOUNT(DISTINCT c.case_number) FILTER(WHERE c.charge_degree NOT LIKE '(0)' OR '(CO3)' OR '(NI0)') AS prior_cases_count,\n",
    "\t\t\tSUM(CASE WHEN c.charge_degree LIKE '%(0)%' OR '(CO3)' THEN 1 ELSE 0 END) as total_ordoffens_charges,\n",
    "\t\t\tSUM(CASE WHEN c.charge_degree LIKE '%M%' OR '(TC%)' THEN 1 ELSE 0 END) as total_misd_charges,\n",
    "\t\t\tSUM(CASE WHEN c.charge_degree LIKE '%F%' THEN 1 ELSE 0 END) as total_felon_charges,\n",
    "\t\t\tCOALESCE(MIN(c.charge_degree) FILTER(WHERE c.charge_degree LIKE '%M%' OR '(TC%)'),0) as most_sev_misd,\n",
    "\t\t\tCOALESCE(MAX(c.charge_degree) FILTER(WHERE c.charge_degree LIKE '%F%'),0) as max_sev_fel,\n",
    "\t\t\tCOALESCE(MIN(c.charge_degree) FILTER(WHERE c.charge_degree LIKE '%F%'),0) as min_sev_fel\n",
    "\t\tFROM charge c \n",
    "\t\tLEFT JOIN people p2 ON c.person_id = p2.id \n",
    "\t\tWHERE DATE(c.offense_date) < CASE WHEN DATE(p2.c_offense_date) NOTNULL THEN DATE(p2.c_offense_date) ELSE p2.c_arrest_date END AND DATE(p2.compas_screening_date) <= '2014-04-01' AND charge_degree NOT LIKE 'False Imprisonment' \n",
    "\t\tGROUP BY c.person_id \n",
    "\t\tORDER BY c.person_id )\n",
    "SELECT DISTINCT\n",
    "\tps.id, \n",
    "\tps.name,\n",
    "\tps.sex,\n",
    "\tps.race,\n",
    "\tps.age,\n",
    "\tps.age_cat,\n",
    "\tps.juv_fel_count,\n",
    "\tps.juv_misd_count, \n",
    "\tps.juv_other_count, \n",
    "\tps.priors_count,\n",
    "\tIFNULL(chd.prior_cases_count,0) AS prior_cases_count,\n",
    "\tIFNULL(chd.total_misd_charges,0) AS total_misd_charges,\n",
    "\tIFNULL(chd.total_felon_charges,0) AS total_felon_charges,\n",
    "\tIFNULL(chd.most_sev_misd,0) AS most_sev_misd,\n",
    "\tIFNULL(chd.max_sev_fel,0) AS max_sev_fel,\n",
    "\tIFNULL(chd.min_sev_fel,0) AS min_sev_fel,\n",
    "\tIFNULL(jh.times_in_jail,0) AS times_in_jail,\n",
    "\tIFNULL(jh.total_days_in_jail,0) AS total_days_in_jail,\n",
    "\tIFNULL(ph.times_in_prison,0) AS times_in_prison,\n",
    "\tIFNULL(ph.total_days_in_prison,0) AS total_days_in_prison,\n",
    "\tIFNULL(chd.total_ordoffens_charges,0) AS total_ordoffens_charges,\n",
    "\tDATE(ps.compas_screening_date) as compas_screening_date, \n",
    "\tIFNULL(ps.days_b_screening_arrest,0) AS days_b_screening_arrest,\n",
    "\tps.c_charge_degree AS c_charge_degree_detailed,\n",
    "\tps.c_charge_desc,\n",
    "\tcd.rec_supervision_level,\n",
    "\tcd.rec_supervision_level_text,\n",
    "\tcd.score_text, \n",
    "\tps.decile_score,\n",
    "\tps.is_recid\n",
    "FROM peoples ps\n",
    "LEFT JOIN compas_data cd ON cd.person_id = ps.id \n",
    "LEFT JOIN jail_history jh ON jh.person_id =ps.id \n",
    "LEFT JOIN prison_history ph ON ph.person_id =ps.id\n",
    "LEFT JOIN charge_data chd ON chd.person_id = ps.id \n",
    "WHERE DATE(ps.compas_screening_date) <= '2014-04-01'\"\"\""
   ]
  },
  {
   "cell_type": "code",
   "execution_count": 49,
   "id": "6226f9c4",
   "metadata": {},
   "outputs": [],
   "source": [
    "import sqlite3\n",
    "\n",
    "con = sqlite3.connect(\"../../data-ProPublica/compas.db\")\n",
    "df_query = pd.read_sql_query(query, con)"
   ]
  },
  {
   "cell_type": "code",
   "execution_count": 50,
   "id": "ee2c1cc7",
   "metadata": {},
   "outputs": [],
   "source": [
    "df_query[\"days_b_screening_arrest\"] = pd.to_numeric(df_query[\"days_b_screening_arrest\"])\n",
    "\n",
    "df_query = df_query[\n",
    "        (df_query[\"days_b_screening_arrest\"]<=30) \n",
    "        & (df_query[\"days_b_screening_arrest\"]>=-30) \n",
    "        & (df_query[\"is_recid\"]!=-1) \n",
    "        & ((df_query[\"c_charge_degree_detailed\"]!=\"O\")\n",
    "        & (df_query[\"c_charge_degree_detailed\"]!=\"(CO3)\")\n",
    "        & (df_query[\"c_charge_degree_detailed\"]!=\"(NI0)\")\n",
    "        & (df_query[\"c_charge_degree_detailed\"]!=\"(X)\")) \n",
    "      ].dropna(subset=['score_text'])"
   ]
  },
  {
   "cell_type": "code",
   "execution_count": 51,
   "id": "ecddb3f8",
   "metadata": {},
   "outputs": [],
   "source": [
    "df_query_sub = df_query[['id', 'prior_cases_count', 'total_misd_charges','total_felon_charges', 'most_sev_misd', 'max_sev_fel', 'min_sev_fel', 'times_in_jail', 'total_days_in_jail', 'times_in_prison', 'total_days_in_prison', 'total_ordoffens_charges', 'c_charge_degree_detailed']].copy()"
   ]
  },
  {
   "cell_type": "code",
   "execution_count": 52,
   "id": "9c7a0f0e",
   "metadata": {},
   "outputs": [],
   "source": [
    "df_comb = pd.merge(df,df_query_sub,how=\"left\", on=\"id\")"
   ]
  },
  {
   "cell_type": "code",
   "execution_count": 53,
   "id": "61f92c32",
   "metadata": {},
   "outputs": [],
   "source": [
    "# Select columns of interest and store as new df\n",
    "columns_int = [\"id\", \"name\", \"age\", \"age_cat\", \"sex\", \"race\",  #\"marital_status\", #demographics\n",
    "               \"juv_fel_count\", \"juv_misd_count\", \"juv_other_count\", \"priors_count\", 'prior_cases_count', \n",
    "               'total_ordoffens_charges', 'total_misd_charges','total_felon_charges', 'most_sev_misd', 'max_sev_fel', \n",
    "               'min_sev_fel', 'times_in_jail', 'total_days_in_jail', 'times_in_prison', 'total_days_in_prison',#criminal history\n",
    "               \"c_charge_degree\", \"c_charge_degree_detailed\", \"c_charge_desc\", #current charges\n",
    "               \"score_text\", \"decile_score\", #compas results for current charges -> target for regression (COMPAS scores for general recidivism)\n",
    "               #\"r_charge_degree\", \"r_charge_desc\", #commited crimes (general) within 2 years after COMPAS scoring (no feature for final model, but relevant fro feature engineering)\n",
    "               \"two_year_recid\"] #target for classification \n",
    "df_com = df_comb[columns_int].drop_duplicates().copy()"
   ]
  },
  {
   "cell_type": "code",
   "execution_count": 54,
   "id": "21a111fc",
   "metadata": {
    "scrolled": true
   },
   "outputs": [
    {
     "name": "stderr",
     "output_type": "stream",
     "text": [
      "/var/folders/r8/ml9zphbs05z5wx9ykw9g7r_40000gn/T/ipykernel_36508/1015238502.py:2: FutureWarning: The default value of regex will change from True to False in a future version.\n",
      "  df_com[[\"most_sev_misd\", \"max_sev_fel\", \"min_sev_fel\", \"c_charge_degree_detailed\"]] = df_com[[\"most_sev_misd\", \"max_sev_fel\", \"min_sev_fel\", \"c_charge_degree_detailed\"]].apply(lambda x: x.str.replace(\"[()]\",\"\")).fillna(0)\n"
     ]
    }
   ],
   "source": [
    "# Cut off parenthesis\n",
    "df_com[[\"most_sev_misd\", \"max_sev_fel\", \"min_sev_fel\", \"c_charge_degree_detailed\"]] = df_com[[\"most_sev_misd\", \"max_sev_fel\", \"min_sev_fel\", \"c_charge_degree_detailed\"]].apply(lambda x: x.str.replace(\"[()]\",\"\")).fillna(0)"
   ]
  },
  {
   "cell_type": "code",
   "execution_count": 55,
   "id": "eba617a2",
   "metadata": {},
   "outputs": [
    {
     "data": {
      "text/plain": [
       "(5304, 27)"
      ]
     },
     "execution_count": 55,
     "metadata": {},
     "output_type": "execute_result"
    }
   ],
   "source": [
    "df_com.shape"
   ]
  },
  {
   "cell_type": "code",
   "execution_count": 57,
   "id": "0e9e7b3c",
   "metadata": {},
   "outputs": [],
   "source": [
    "#lambda x: x if df_com.max_sev_fel + df_com.min_sev_fel"
   ]
  },
  {
   "cell_type": "code",
   "execution_count": 58,
   "id": "9238644a",
   "metadata": {},
   "outputs": [],
   "source": [
    "df_com = df_com.set_index(\"id\")"
   ]
  },
  {
   "cell_type": "code",
   "execution_count": 59,
   "id": "c0bfb6e0",
   "metadata": {},
   "outputs": [
    {
     "data": {
      "text/plain": [
       "Index(['name', 'age', 'age_cat', 'sex', 'race', 'juv_fel_count',\n",
       "       'juv_misd_count', 'juv_other_count', 'priors_count',\n",
       "       'prior_cases_count', 'total_ordoffens_charges', 'total_misd_charges',\n",
       "       'total_felon_charges', 'most_sev_misd', 'max_sev_fel', 'min_sev_fel',\n",
       "       'times_in_jail', 'total_days_in_jail', 'times_in_prison',\n",
       "       'total_days_in_prison', 'c_charge_degree', 'c_charge_degree_detailed',\n",
       "       'c_charge_desc', 'score_text', 'decile_score', 'two_year_recid'],\n",
       "      dtype='object')"
      ]
     },
     "execution_count": 59,
     "metadata": {},
     "output_type": "execute_result"
    }
   ],
   "source": [
    "df_com.columns"
   ]
  },
  {
   "cell_type": "code",
   "execution_count": 60,
   "id": "dcd7e029",
   "metadata": {},
   "outputs": [],
   "source": [
    "columns = ['age', 'sex', 'race', 'juv_fel_count',\n",
    "       'juv_misd_count', 'juv_other_count', 'priors_count',\n",
    "       'prior_cases_count', 'total_ordoffens_charges', 'total_misd_charges',\n",
    "       'total_felon_charges', 'most_sev_misd', 'max_sev_fel', 'min_sev_fel',\n",
    "       'times_in_jail', 'total_days_in_jail', 'times_in_prison',\n",
    "       'total_days_in_prison', 'c_charge_degree_detailed','two_year_recid']\n",
    "\n",
    "df_final = df_com[columns].copy()"
   ]
  },
  {
   "cell_type": "code",
   "execution_count": 114,
   "id": "38b8e308",
   "metadata": {},
   "outputs": [
    {
     "data": {
      "text/html": [
       "<div>\n",
       "<style scoped>\n",
       "    .dataframe tbody tr th:only-of-type {\n",
       "        vertical-align: middle;\n",
       "    }\n",
       "\n",
       "    .dataframe tbody tr th {\n",
       "        vertical-align: top;\n",
       "    }\n",
       "\n",
       "    .dataframe thead th {\n",
       "        text-align: right;\n",
       "    }\n",
       "</style>\n",
       "<table border=\"1\" class=\"dataframe\">\n",
       "  <thead>\n",
       "    <tr style=\"text-align: right;\">\n",
       "      <th></th>\n",
       "      <th>age</th>\n",
       "      <th>sex</th>\n",
       "      <th>race</th>\n",
       "      <th>juv_fel_count</th>\n",
       "      <th>juv_misd_count</th>\n",
       "      <th>juv_other_count</th>\n",
       "      <th>priors_count</th>\n",
       "      <th>prior_cases_count</th>\n",
       "      <th>total_ordoffens_charges</th>\n",
       "      <th>total_misd_charges</th>\n",
       "      <th>total_felon_charges</th>\n",
       "      <th>most_sev_misd</th>\n",
       "      <th>max_sev_fel</th>\n",
       "      <th>min_sev_fel</th>\n",
       "      <th>times_in_jail</th>\n",
       "      <th>total_days_in_jail</th>\n",
       "      <th>times_in_prison</th>\n",
       "      <th>total_days_in_prison</th>\n",
       "      <th>c_charge_degree_detailed</th>\n",
       "      <th>two_year_recid</th>\n",
       "    </tr>\n",
       "    <tr>\n",
       "      <th>id</th>\n",
       "      <th></th>\n",
       "      <th></th>\n",
       "      <th></th>\n",
       "      <th></th>\n",
       "      <th></th>\n",
       "      <th></th>\n",
       "      <th></th>\n",
       "      <th></th>\n",
       "      <th></th>\n",
       "      <th></th>\n",
       "      <th></th>\n",
       "      <th></th>\n",
       "      <th></th>\n",
       "      <th></th>\n",
       "      <th></th>\n",
       "      <th></th>\n",
       "      <th></th>\n",
       "      <th></th>\n",
       "      <th></th>\n",
       "      <th></th>\n",
       "    </tr>\n",
       "  </thead>\n",
       "  <tbody>\n",
       "    <tr>\n",
       "      <th>1</th>\n",
       "      <td>69</td>\n",
       "      <td>Male</td>\n",
       "      <td>Other</td>\n",
       "      <td>0</td>\n",
       "      <td>0</td>\n",
       "      <td>0</td>\n",
       "      <td>0</td>\n",
       "      <td>0.0</td>\n",
       "      <td>4.0</td>\n",
       "      <td>0.0</td>\n",
       "      <td>0.0</td>\n",
       "      <td>0</td>\n",
       "      <td>0</td>\n",
       "      <td>0</td>\n",
       "      <td>1.0</td>\n",
       "      <td>0.984468</td>\n",
       "      <td>0.0</td>\n",
       "      <td>0.0</td>\n",
       "      <td>F3</td>\n",
       "      <td>0</td>\n",
       "    </tr>\n",
       "    <tr>\n",
       "      <th>3</th>\n",
       "      <td>34</td>\n",
       "      <td>Male</td>\n",
       "      <td>African-American</td>\n",
       "      <td>0</td>\n",
       "      <td>0</td>\n",
       "      <td>0</td>\n",
       "      <td>0</td>\n",
       "      <td>0.0</td>\n",
       "      <td>0.0</td>\n",
       "      <td>0.0</td>\n",
       "      <td>0.0</td>\n",
       "      <td>0</td>\n",
       "      <td>0</td>\n",
       "      <td>0</td>\n",
       "      <td>1.0</td>\n",
       "      <td>10.077384</td>\n",
       "      <td>0.0</td>\n",
       "      <td>0.0</td>\n",
       "      <td>F3</td>\n",
       "      <td>1</td>\n",
       "    </tr>\n",
       "    <tr>\n",
       "      <th>4</th>\n",
       "      <td>24</td>\n",
       "      <td>Male</td>\n",
       "      <td>African-American</td>\n",
       "      <td>0</td>\n",
       "      <td>0</td>\n",
       "      <td>1</td>\n",
       "      <td>4</td>\n",
       "      <td>4.0</td>\n",
       "      <td>6.0</td>\n",
       "      <td>7.0</td>\n",
       "      <td>3.0</td>\n",
       "      <td>M1</td>\n",
       "      <td>F3</td>\n",
       "      <td>F3</td>\n",
       "      <td>1.0</td>\n",
       "      <td>1.085764</td>\n",
       "      <td>0.0</td>\n",
       "      <td>0.0</td>\n",
       "      <td>F3</td>\n",
       "      <td>1</td>\n",
       "    </tr>\n",
       "    <tr>\n",
       "      <th>7</th>\n",
       "      <td>44</td>\n",
       "      <td>Male</td>\n",
       "      <td>Other</td>\n",
       "      <td>0</td>\n",
       "      <td>0</td>\n",
       "      <td>0</td>\n",
       "      <td>0</td>\n",
       "      <td>0.0</td>\n",
       "      <td>0.0</td>\n",
       "      <td>0.0</td>\n",
       "      <td>0.0</td>\n",
       "      <td>0</td>\n",
       "      <td>0</td>\n",
       "      <td>0</td>\n",
       "      <td>0.0</td>\n",
       "      <td>0.000000</td>\n",
       "      <td>0.0</td>\n",
       "      <td>0.0</td>\n",
       "      <td>M1</td>\n",
       "      <td>0</td>\n",
       "    </tr>\n",
       "    <tr>\n",
       "      <th>8</th>\n",
       "      <td>41</td>\n",
       "      <td>Male</td>\n",
       "      <td>Caucasian</td>\n",
       "      <td>0</td>\n",
       "      <td>0</td>\n",
       "      <td>0</td>\n",
       "      <td>14</td>\n",
       "      <td>14.0</td>\n",
       "      <td>4.0</td>\n",
       "      <td>6.0</td>\n",
       "      <td>15.0</td>\n",
       "      <td>M1</td>\n",
       "      <td>F3</td>\n",
       "      <td>F2</td>\n",
       "      <td>1.0</td>\n",
       "      <td>6.298681</td>\n",
       "      <td>2.0</td>\n",
       "      <td>1065.0</td>\n",
       "      <td>F3</td>\n",
       "      <td>1</td>\n",
       "    </tr>\n",
       "    <tr>\n",
       "      <th>...</th>\n",
       "      <td>...</td>\n",
       "      <td>...</td>\n",
       "      <td>...</td>\n",
       "      <td>...</td>\n",
       "      <td>...</td>\n",
       "      <td>...</td>\n",
       "      <td>...</td>\n",
       "      <td>...</td>\n",
       "      <td>...</td>\n",
       "      <td>...</td>\n",
       "      <td>...</td>\n",
       "      <td>...</td>\n",
       "      <td>...</td>\n",
       "      <td>...</td>\n",
       "      <td>...</td>\n",
       "      <td>...</td>\n",
       "      <td>...</td>\n",
       "      <td>...</td>\n",
       "      <td>...</td>\n",
       "      <td>...</td>\n",
       "    </tr>\n",
       "    <tr>\n",
       "      <th>10995</th>\n",
       "      <td>20</td>\n",
       "      <td>Male</td>\n",
       "      <td>African-American</td>\n",
       "      <td>0</td>\n",
       "      <td>0</td>\n",
       "      <td>0</td>\n",
       "      <td>0</td>\n",
       "      <td>0.0</td>\n",
       "      <td>0.0</td>\n",
       "      <td>0.0</td>\n",
       "      <td>0.0</td>\n",
       "      <td>0</td>\n",
       "      <td>0</td>\n",
       "      <td>0</td>\n",
       "      <td>1.0</td>\n",
       "      <td>0.872118</td>\n",
       "      <td>0.0</td>\n",
       "      <td>0.0</td>\n",
       "      <td>F3</td>\n",
       "      <td>0</td>\n",
       "    </tr>\n",
       "    <tr>\n",
       "      <th>10996</th>\n",
       "      <td>23</td>\n",
       "      <td>Male</td>\n",
       "      <td>African-American</td>\n",
       "      <td>0</td>\n",
       "      <td>0</td>\n",
       "      <td>0</td>\n",
       "      <td>0</td>\n",
       "      <td>0.0</td>\n",
       "      <td>0.0</td>\n",
       "      <td>0.0</td>\n",
       "      <td>0.0</td>\n",
       "      <td>0</td>\n",
       "      <td>0</td>\n",
       "      <td>0</td>\n",
       "      <td>1.0</td>\n",
       "      <td>1.903391</td>\n",
       "      <td>0.0</td>\n",
       "      <td>0.0</td>\n",
       "      <td>F3</td>\n",
       "      <td>0</td>\n",
       "    </tr>\n",
       "    <tr>\n",
       "      <th>10997</th>\n",
       "      <td>23</td>\n",
       "      <td>Male</td>\n",
       "      <td>African-American</td>\n",
       "      <td>0</td>\n",
       "      <td>0</td>\n",
       "      <td>0</td>\n",
       "      <td>0</td>\n",
       "      <td>0.0</td>\n",
       "      <td>0.0</td>\n",
       "      <td>0.0</td>\n",
       "      <td>0.0</td>\n",
       "      <td>0</td>\n",
       "      <td>0</td>\n",
       "      <td>0</td>\n",
       "      <td>1.0</td>\n",
       "      <td>1.868032</td>\n",
       "      <td>0.0</td>\n",
       "      <td>0.0</td>\n",
       "      <td>F3</td>\n",
       "      <td>0</td>\n",
       "    </tr>\n",
       "    <tr>\n",
       "      <th>10999</th>\n",
       "      <td>57</td>\n",
       "      <td>Male</td>\n",
       "      <td>Other</td>\n",
       "      <td>0</td>\n",
       "      <td>0</td>\n",
       "      <td>0</td>\n",
       "      <td>0</td>\n",
       "      <td>0.0</td>\n",
       "      <td>0.0</td>\n",
       "      <td>0.0</td>\n",
       "      <td>0.0</td>\n",
       "      <td>0</td>\n",
       "      <td>0</td>\n",
       "      <td>0</td>\n",
       "      <td>1.0</td>\n",
       "      <td>1.084549</td>\n",
       "      <td>0.0</td>\n",
       "      <td>0.0</td>\n",
       "      <td>F2</td>\n",
       "      <td>0</td>\n",
       "    </tr>\n",
       "    <tr>\n",
       "      <th>11000</th>\n",
       "      <td>33</td>\n",
       "      <td>Female</td>\n",
       "      <td>African-American</td>\n",
       "      <td>0</td>\n",
       "      <td>0</td>\n",
       "      <td>0</td>\n",
       "      <td>3</td>\n",
       "      <td>3.0</td>\n",
       "      <td>8.0</td>\n",
       "      <td>5.0</td>\n",
       "      <td>0.0</td>\n",
       "      <td>M1</td>\n",
       "      <td>0</td>\n",
       "      <td>0</td>\n",
       "      <td>1.0</td>\n",
       "      <td>1.175023</td>\n",
       "      <td>0.0</td>\n",
       "      <td>0.0</td>\n",
       "      <td>M1</td>\n",
       "      <td>0</td>\n",
       "    </tr>\n",
       "  </tbody>\n",
       "</table>\n",
       "<p>5304 rows × 20 columns</p>\n",
       "</div>"
      ],
      "text/plain": [
       "       age     sex              race  juv_fel_count  juv_misd_count  \\\n",
       "id                                                                    \n",
       "1       69    Male             Other              0               0   \n",
       "3       34    Male  African-American              0               0   \n",
       "4       24    Male  African-American              0               0   \n",
       "7       44    Male             Other              0               0   \n",
       "8       41    Male         Caucasian              0               0   \n",
       "...    ...     ...               ...            ...             ...   \n",
       "10995   20    Male  African-American              0               0   \n",
       "10996   23    Male  African-American              0               0   \n",
       "10997   23    Male  African-American              0               0   \n",
       "10999   57    Male             Other              0               0   \n",
       "11000   33  Female  African-American              0               0   \n",
       "\n",
       "       juv_other_count  priors_count  prior_cases_count  \\\n",
       "id                                                        \n",
       "1                    0             0                0.0   \n",
       "3                    0             0                0.0   \n",
       "4                    1             4                4.0   \n",
       "7                    0             0                0.0   \n",
       "8                    0            14               14.0   \n",
       "...                ...           ...                ...   \n",
       "10995                0             0                0.0   \n",
       "10996                0             0                0.0   \n",
       "10997                0             0                0.0   \n",
       "10999                0             0                0.0   \n",
       "11000                0             3                3.0   \n",
       "\n",
       "       total_ordoffens_charges  total_misd_charges  total_felon_charges  \\\n",
       "id                                                                        \n",
       "1                          4.0                 0.0                  0.0   \n",
       "3                          0.0                 0.0                  0.0   \n",
       "4                          6.0                 7.0                  3.0   \n",
       "7                          0.0                 0.0                  0.0   \n",
       "8                          4.0                 6.0                 15.0   \n",
       "...                        ...                 ...                  ...   \n",
       "10995                      0.0                 0.0                  0.0   \n",
       "10996                      0.0                 0.0                  0.0   \n",
       "10997                      0.0                 0.0                  0.0   \n",
       "10999                      0.0                 0.0                  0.0   \n",
       "11000                      8.0                 5.0                  0.0   \n",
       "\n",
       "      most_sev_misd max_sev_fel min_sev_fel  times_in_jail  \\\n",
       "id                                                           \n",
       "1                 0           0           0            1.0   \n",
       "3                 0           0           0            1.0   \n",
       "4                M1          F3          F3            1.0   \n",
       "7                 0           0           0            0.0   \n",
       "8                M1          F3          F2            1.0   \n",
       "...             ...         ...         ...            ...   \n",
       "10995             0           0           0            1.0   \n",
       "10996             0           0           0            1.0   \n",
       "10997             0           0           0            1.0   \n",
       "10999             0           0           0            1.0   \n",
       "11000            M1           0           0            1.0   \n",
       "\n",
       "       total_days_in_jail  times_in_prison  total_days_in_prison  \\\n",
       "id                                                                 \n",
       "1                0.984468              0.0                   0.0   \n",
       "3               10.077384              0.0                   0.0   \n",
       "4                1.085764              0.0                   0.0   \n",
       "7                0.000000              0.0                   0.0   \n",
       "8                6.298681              2.0                1065.0   \n",
       "...                   ...              ...                   ...   \n",
       "10995            0.872118              0.0                   0.0   \n",
       "10996            1.903391              0.0                   0.0   \n",
       "10997            1.868032              0.0                   0.0   \n",
       "10999            1.084549              0.0                   0.0   \n",
       "11000            1.175023              0.0                   0.0   \n",
       "\n",
       "      c_charge_degree_detailed  two_year_recid  \n",
       "id                                              \n",
       "1                           F3               0  \n",
       "3                           F3               1  \n",
       "4                           F3               1  \n",
       "7                           M1               0  \n",
       "8                           F3               1  \n",
       "...                        ...             ...  \n",
       "10995                       F3               0  \n",
       "10996                       F3               0  \n",
       "10997                       F3               0  \n",
       "10999                       F2               0  \n",
       "11000                       M1               0  \n",
       "\n",
       "[5304 rows x 20 columns]"
      ]
     },
     "execution_count": 114,
     "metadata": {},
     "output_type": "execute_result"
    }
   ],
   "source": [
    "df_final"
   ]
  },
  {
   "cell_type": "code",
   "execution_count": 61,
   "id": "36ca70cc",
   "metadata": {},
   "outputs": [],
   "source": [
    "X = df_final.drop(columns=\"two_year_recid\")\n",
    "y = df_final.two_year_recid"
   ]
  },
  {
   "cell_type": "code",
   "execution_count": 90,
   "id": "9d99ffe5",
   "metadata": {},
   "outputs": [],
   "source": [
    "X_train, X_test, y_train, y_test = train_test_split(X,y, test_size=0.3, random_state=42)"
   ]
  },
  {
   "cell_type": "code",
   "execution_count": 74,
   "id": "22bbccb6",
   "metadata": {},
   "outputs": [
    {
     "data": {
      "text/html": [
       "<style>#sk-4383b613-18cb-4ca3-8a55-73ceeb1cb082 {color: black;background-color: white;}#sk-4383b613-18cb-4ca3-8a55-73ceeb1cb082 pre{padding: 0;}#sk-4383b613-18cb-4ca3-8a55-73ceeb1cb082 div.sk-toggleable {background-color: white;}#sk-4383b613-18cb-4ca3-8a55-73ceeb1cb082 label.sk-toggleable__label {cursor: pointer;display: block;width: 100%;margin-bottom: 0;padding: 0.3em;box-sizing: border-box;text-align: center;}#sk-4383b613-18cb-4ca3-8a55-73ceeb1cb082 div.sk-toggleable__content {max-height: 0;max-width: 0;overflow: hidden;text-align: left;background-color: #f0f8ff;}#sk-4383b613-18cb-4ca3-8a55-73ceeb1cb082 div.sk-toggleable__content pre {margin: 0.2em;color: black;border-radius: 0.25em;background-color: #f0f8ff;}#sk-4383b613-18cb-4ca3-8a55-73ceeb1cb082 input.sk-toggleable__control:checked~div.sk-toggleable__content {max-height: 200px;max-width: 100%;overflow: auto;}#sk-4383b613-18cb-4ca3-8a55-73ceeb1cb082 div.sk-estimator input.sk-toggleable__control:checked~label.sk-toggleable__label {background-color: #d4ebff;}#sk-4383b613-18cb-4ca3-8a55-73ceeb1cb082 div.sk-label input.sk-toggleable__control:checked~label.sk-toggleable__label {background-color: #d4ebff;}#sk-4383b613-18cb-4ca3-8a55-73ceeb1cb082 input.sk-hidden--visually {border: 0;clip: rect(1px 1px 1px 1px);clip: rect(1px, 1px, 1px, 1px);height: 1px;margin: -1px;overflow: hidden;padding: 0;position: absolute;width: 1px;}#sk-4383b613-18cb-4ca3-8a55-73ceeb1cb082 div.sk-estimator {font-family: monospace;background-color: #f0f8ff;border: 1px dotted black;border-radius: 0.25em;box-sizing: border-box;margin-bottom: 0.5em;}#sk-4383b613-18cb-4ca3-8a55-73ceeb1cb082 div.sk-estimator:hover {background-color: #d4ebff;}#sk-4383b613-18cb-4ca3-8a55-73ceeb1cb082 div.sk-parallel-item::after {content: \"\";width: 100%;border-bottom: 1px solid gray;flex-grow: 1;}#sk-4383b613-18cb-4ca3-8a55-73ceeb1cb082 div.sk-label:hover label.sk-toggleable__label {background-color: #d4ebff;}#sk-4383b613-18cb-4ca3-8a55-73ceeb1cb082 div.sk-serial::before {content: \"\";position: absolute;border-left: 1px solid gray;box-sizing: border-box;top: 2em;bottom: 0;left: 50%;}#sk-4383b613-18cb-4ca3-8a55-73ceeb1cb082 div.sk-serial {display: flex;flex-direction: column;align-items: center;background-color: white;padding-right: 0.2em;padding-left: 0.2em;}#sk-4383b613-18cb-4ca3-8a55-73ceeb1cb082 div.sk-item {z-index: 1;}#sk-4383b613-18cb-4ca3-8a55-73ceeb1cb082 div.sk-parallel {display: flex;align-items: stretch;justify-content: center;background-color: white;}#sk-4383b613-18cb-4ca3-8a55-73ceeb1cb082 div.sk-parallel::before {content: \"\";position: absolute;border-left: 1px solid gray;box-sizing: border-box;top: 2em;bottom: 0;left: 50%;}#sk-4383b613-18cb-4ca3-8a55-73ceeb1cb082 div.sk-parallel-item {display: flex;flex-direction: column;position: relative;background-color: white;}#sk-4383b613-18cb-4ca3-8a55-73ceeb1cb082 div.sk-parallel-item:first-child::after {align-self: flex-end;width: 50%;}#sk-4383b613-18cb-4ca3-8a55-73ceeb1cb082 div.sk-parallel-item:last-child::after {align-self: flex-start;width: 50%;}#sk-4383b613-18cb-4ca3-8a55-73ceeb1cb082 div.sk-parallel-item:only-child::after {width: 0;}#sk-4383b613-18cb-4ca3-8a55-73ceeb1cb082 div.sk-dashed-wrapped {border: 1px dashed gray;margin: 0 0.4em 0.5em 0.4em;box-sizing: border-box;padding-bottom: 0.4em;background-color: white;position: relative;}#sk-4383b613-18cb-4ca3-8a55-73ceeb1cb082 div.sk-label label {font-family: monospace;font-weight: bold;background-color: white;display: inline-block;line-height: 1.2em;}#sk-4383b613-18cb-4ca3-8a55-73ceeb1cb082 div.sk-label-container {position: relative;z-index: 2;text-align: center;}#sk-4383b613-18cb-4ca3-8a55-73ceeb1cb082 div.sk-container {display: inline-block;position: relative;}</style><div id=\"sk-4383b613-18cb-4ca3-8a55-73ceeb1cb082\" class\"sk-top-container\"><div class=\"sk-container\"><div class=\"sk-item sk-dashed-wrapped\"><div class=\"sk-label-container\"><div class=\"sk-label sk-toggleable\"><input class=\"sk-toggleable__control sk-hidden--visually\" id=\"4d8d7115-0abf-4114-83ba-8772b9173500\" type=\"checkbox\" ><label class=\"sk-toggleable__label\" for=\"4d8d7115-0abf-4114-83ba-8772b9173500\">Pipeline</label><div class=\"sk-toggleable__content\"><pre>Pipeline(steps=[('simpleimputer',\n",
       "                 SimpleImputer(fill_value=0, strategy='constant')),\n",
       "                ('ordinalencoder',\n",
       "                 OrdinalEncoder(categories=[['0', 'M2', 'M1', 'F3', 'F2', 'F1'],\n",
       "                                            ['0', 'F3', 'F2', 'F1', 'F5', 'F6',\n",
       "                                             'F7'],\n",
       "                                            ['0', 'F3', 'F2', 'F1', 'F5', 'F6',\n",
       "                                             'F7'],\n",
       "                                            ['0', 'MO3', 'M2', 'M1']],\n",
       "                                dtype=<class 'numpy.int64'>,\n",
       "                                handle_unknown='use_encoded_value',\n",
       "                                unknown_value=-1)),\n",
       "                ('minmaxscaler', MinMaxScaler())])</pre></div></div></div><div class=\"sk-serial\"><div class=\"sk-item\"><div class=\"sk-estimator sk-toggleable\"><input class=\"sk-toggleable__control sk-hidden--visually\" id=\"2cfce8a0-e9f7-48d2-9005-3f2b69116b8d\" type=\"checkbox\" ><label class=\"sk-toggleable__label\" for=\"2cfce8a0-e9f7-48d2-9005-3f2b69116b8d\">SimpleImputer</label><div class=\"sk-toggleable__content\"><pre>SimpleImputer(fill_value=0, strategy='constant')</pre></div></div></div><div class=\"sk-item\"><div class=\"sk-estimator sk-toggleable\"><input class=\"sk-toggleable__control sk-hidden--visually\" id=\"b14b1e32-85de-4108-a777-4f0ccfe528f4\" type=\"checkbox\" ><label class=\"sk-toggleable__label\" for=\"b14b1e32-85de-4108-a777-4f0ccfe528f4\">OrdinalEncoder</label><div class=\"sk-toggleable__content\"><pre>OrdinalEncoder(categories=[['0', 'M2', 'M1', 'F3', 'F2', 'F1'],\n",
       "                           ['0', 'F3', 'F2', 'F1', 'F5', 'F6', 'F7'],\n",
       "                           ['0', 'F3', 'F2', 'F1', 'F5', 'F6', 'F7'],\n",
       "                           ['0', 'MO3', 'M2', 'M1']],\n",
       "               dtype=<class 'numpy.int64'>, handle_unknown='use_encoded_value',\n",
       "               unknown_value=-1)</pre></div></div></div><div class=\"sk-item\"><div class=\"sk-estimator sk-toggleable\"><input class=\"sk-toggleable__control sk-hidden--visually\" id=\"dc08a98c-f2fc-4a41-b00d-68cca797782d\" type=\"checkbox\" ><label class=\"sk-toggleable__label\" for=\"dc08a98c-f2fc-4a41-b00d-68cca797782d\">MinMaxScaler</label><div class=\"sk-toggleable__content\"><pre>MinMaxScaler()</pre></div></div></div></div></div></div></div>"
      ],
      "text/plain": [
       "Pipeline(steps=[('simpleimputer',\n",
       "                 SimpleImputer(fill_value=0, strategy='constant')),\n",
       "                ('ordinalencoder',\n",
       "                 OrdinalEncoder(categories=[['0', 'M2', 'M1', 'F3', 'F2', 'F1'],\n",
       "                                            ['0', 'F3', 'F2', 'F1', 'F5', 'F6',\n",
       "                                             'F7'],\n",
       "                                            ['0', 'F3', 'F2', 'F1', 'F5', 'F6',\n",
       "                                             'F7'],\n",
       "                                            ['0', 'MO3', 'M2', 'M1']],\n",
       "                                dtype=<class 'numpy.int64'>,\n",
       "                                handle_unknown='use_encoded_value',\n",
       "                                unknown_value=-1)),\n",
       "                ('minmaxscaler', MinMaxScaler())])"
      ]
     },
     "execution_count": 74,
     "metadata": {},
     "output_type": "execute_result"
    }
   ],
   "source": [
    "feat_ordinal_dict = {\n",
    "    #\"age_cat\": [\"Less than 25\", \"25 - 45\", \"Greater than 45\"],\n",
    "    #\"sex\": [\"Male\",\"Female\"],\n",
    "    #\"c_charge_degree\": [\"M\", \"F\"],\n",
    "    \"c_charge_degree_detailed\": [\"0\",\"M2\",\"M1\",\"F3\",\"F2\",\"F1\"],\n",
    "    \"most_sev_misd\": [\"0\",\"MO3\",\"M2\",\"M1\"],\n",
    "    \"max_sev_fel\": [\"0\", \"F3\",\"F2\",\"F1\", \"F5\", \"F6\", \"F7\"],\n",
    "    \"min_sev_fel\": [\"0\", \"F3\",\"F2\",\"F1\", \"F5\", \"F6\", \"F7\"]\n",
    "#    \"score_text\": [\"Low\", \"Medium\", \"High\"]\n",
    "    }\n",
    "\n",
    "feat_ordinal = sorted(feat_ordinal_dict.keys()) # sort alphabetically\n",
    "feat_ordinal_values_sorted = [feat_ordinal_dict[i] for i in feat_ordinal]\n",
    "\n",
    "encoder_ordinal = OrdinalEncoder(\n",
    "    categories=feat_ordinal_values_sorted,\n",
    "    dtype= np.int64,\n",
    "    handle_unknown=\"use_encoded_value\",\n",
    "    unknown_value=-1 # Considers unknown values as worse than missing\n",
    ")\n",
    "\n",
    "preproc_ordinal = make_pipeline(\n",
    "    SimpleImputer(strategy=\"constant\", fill_value=0),\n",
    "    encoder_ordinal,\n",
    "    #KNNImputer(missing_values=-1, n_neighbors=25), #kNN impute missing values\n",
    "#    StandardScaler()\n",
    "    MinMaxScaler()\n",
    ")\n",
    "\n",
    "preproc_ordinal"
   ]
  },
  {
   "cell_type": "code",
   "execution_count": 75,
   "id": "97300f48",
   "metadata": {},
   "outputs": [],
   "source": [
    "# Define numerical feature once-for-all\n",
    "#from sklearn.compose import make_column_selector\n",
    "#feat_numerical = make_column_selector(dtype_include='number')\n",
    "\n",
    "feat_numerical = sorted(X.select_dtypes(include=[\"int64\", \"float64\"]).columns)\n",
    "#feat_numerical = sorted(df_clas.select_dtypes(include=[\"int64\", \"float64\"]).columns)\n",
    "\n",
    "\n",
    "preproc_numerical = make_pipeline(\n",
    "    SimpleImputer(),\n",
    "#    StandardScaler(),\n",
    "    MinMaxScaler()\n",
    ")"
   ]
  },
  {
   "cell_type": "code",
   "execution_count": 78,
   "id": "33fd6484",
   "metadata": {},
   "outputs": [],
   "source": [
    "# Define nominal features to one-hot-encode as the remaining ones (non numerical, non ordinal)\n",
    "feat_nominal = sorted(list(set(X.columns) - set(feat_numerical) - set(feat_ordinal)))\n",
    "\n",
    "preproc_nominal = make_pipeline(\n",
    "    SimpleImputer(strategy=\"most_frequent\"),\n",
    "    OneHotEncoder(handle_unknown=\"ignore\", drop=\"if_binary\")\n",
    ")"
   ]
  },
  {
   "cell_type": "code",
   "execution_count": 80,
   "id": "2f66b8ea",
   "metadata": {},
   "outputs": [
    {
     "data": {
      "text/html": [
       "<style>#sk-d5f51bca-e5b4-4e10-a450-4118b8cd13c0 {color: black;background-color: white;}#sk-d5f51bca-e5b4-4e10-a450-4118b8cd13c0 pre{padding: 0;}#sk-d5f51bca-e5b4-4e10-a450-4118b8cd13c0 div.sk-toggleable {background-color: white;}#sk-d5f51bca-e5b4-4e10-a450-4118b8cd13c0 label.sk-toggleable__label {cursor: pointer;display: block;width: 100%;margin-bottom: 0;padding: 0.3em;box-sizing: border-box;text-align: center;}#sk-d5f51bca-e5b4-4e10-a450-4118b8cd13c0 div.sk-toggleable__content {max-height: 0;max-width: 0;overflow: hidden;text-align: left;background-color: #f0f8ff;}#sk-d5f51bca-e5b4-4e10-a450-4118b8cd13c0 div.sk-toggleable__content pre {margin: 0.2em;color: black;border-radius: 0.25em;background-color: #f0f8ff;}#sk-d5f51bca-e5b4-4e10-a450-4118b8cd13c0 input.sk-toggleable__control:checked~div.sk-toggleable__content {max-height: 200px;max-width: 100%;overflow: auto;}#sk-d5f51bca-e5b4-4e10-a450-4118b8cd13c0 div.sk-estimator input.sk-toggleable__control:checked~label.sk-toggleable__label {background-color: #d4ebff;}#sk-d5f51bca-e5b4-4e10-a450-4118b8cd13c0 div.sk-label input.sk-toggleable__control:checked~label.sk-toggleable__label {background-color: #d4ebff;}#sk-d5f51bca-e5b4-4e10-a450-4118b8cd13c0 input.sk-hidden--visually {border: 0;clip: rect(1px 1px 1px 1px);clip: rect(1px, 1px, 1px, 1px);height: 1px;margin: -1px;overflow: hidden;padding: 0;position: absolute;width: 1px;}#sk-d5f51bca-e5b4-4e10-a450-4118b8cd13c0 div.sk-estimator {font-family: monospace;background-color: #f0f8ff;border: 1px dotted black;border-radius: 0.25em;box-sizing: border-box;margin-bottom: 0.5em;}#sk-d5f51bca-e5b4-4e10-a450-4118b8cd13c0 div.sk-estimator:hover {background-color: #d4ebff;}#sk-d5f51bca-e5b4-4e10-a450-4118b8cd13c0 div.sk-parallel-item::after {content: \"\";width: 100%;border-bottom: 1px solid gray;flex-grow: 1;}#sk-d5f51bca-e5b4-4e10-a450-4118b8cd13c0 div.sk-label:hover label.sk-toggleable__label {background-color: #d4ebff;}#sk-d5f51bca-e5b4-4e10-a450-4118b8cd13c0 div.sk-serial::before {content: \"\";position: absolute;border-left: 1px solid gray;box-sizing: border-box;top: 2em;bottom: 0;left: 50%;}#sk-d5f51bca-e5b4-4e10-a450-4118b8cd13c0 div.sk-serial {display: flex;flex-direction: column;align-items: center;background-color: white;padding-right: 0.2em;padding-left: 0.2em;}#sk-d5f51bca-e5b4-4e10-a450-4118b8cd13c0 div.sk-item {z-index: 1;}#sk-d5f51bca-e5b4-4e10-a450-4118b8cd13c0 div.sk-parallel {display: flex;align-items: stretch;justify-content: center;background-color: white;}#sk-d5f51bca-e5b4-4e10-a450-4118b8cd13c0 div.sk-parallel::before {content: \"\";position: absolute;border-left: 1px solid gray;box-sizing: border-box;top: 2em;bottom: 0;left: 50%;}#sk-d5f51bca-e5b4-4e10-a450-4118b8cd13c0 div.sk-parallel-item {display: flex;flex-direction: column;position: relative;background-color: white;}#sk-d5f51bca-e5b4-4e10-a450-4118b8cd13c0 div.sk-parallel-item:first-child::after {align-self: flex-end;width: 50%;}#sk-d5f51bca-e5b4-4e10-a450-4118b8cd13c0 div.sk-parallel-item:last-child::after {align-self: flex-start;width: 50%;}#sk-d5f51bca-e5b4-4e10-a450-4118b8cd13c0 div.sk-parallel-item:only-child::after {width: 0;}#sk-d5f51bca-e5b4-4e10-a450-4118b8cd13c0 div.sk-dashed-wrapped {border: 1px dashed gray;margin: 0 0.4em 0.5em 0.4em;box-sizing: border-box;padding-bottom: 0.4em;background-color: white;position: relative;}#sk-d5f51bca-e5b4-4e10-a450-4118b8cd13c0 div.sk-label label {font-family: monospace;font-weight: bold;background-color: white;display: inline-block;line-height: 1.2em;}#sk-d5f51bca-e5b4-4e10-a450-4118b8cd13c0 div.sk-label-container {position: relative;z-index: 2;text-align: center;}#sk-d5f51bca-e5b4-4e10-a450-4118b8cd13c0 div.sk-container {display: inline-block;position: relative;}</style><div id=\"sk-d5f51bca-e5b4-4e10-a450-4118b8cd13c0\" class\"sk-top-container\"><div class=\"sk-container\"><div class=\"sk-item sk-dashed-wrapped\"><div class=\"sk-label-container\"><div class=\"sk-label sk-toggleable\"><input class=\"sk-toggleable__control sk-hidden--visually\" id=\"88562b20-86fd-4f89-8a13-f59db9eb095a\" type=\"checkbox\" ><label class=\"sk-toggleable__label\" for=\"88562b20-86fd-4f89-8a13-f59db9eb095a\">ColumnTransformer</label><div class=\"sk-toggleable__content\"><pre>ColumnTransformer(transformers=[('pipeline-1',\n",
       "                                 Pipeline(steps=[('simpleimputer',\n",
       "                                                  SimpleImputer()),\n",
       "                                                 ('minmaxscaler',\n",
       "                                                  MinMaxScaler())]),\n",
       "                                 ['age', 'juv_fel_count', 'juv_misd_count',\n",
       "                                  'juv_other_count', 'prior_cases_count',\n",
       "                                  'priors_count', 'times_in_jail',\n",
       "                                  'times_in_prison', 'total_days_in_jail',\n",
       "                                  'total_days_in_prison', 'total_felon_charges',\n",
       "                                  'total_misd_charges',\n",
       "                                  'total...\n",
       "                                                                 dtype=<class 'numpy.int64'>,\n",
       "                                                                 handle_unknown='use_encoded_value',\n",
       "                                                                 unknown_value=-1)),\n",
       "                                                 ('minmaxscaler',\n",
       "                                                  MinMaxScaler())]),\n",
       "                                 ['c_charge_degree_detailed', 'max_sev_fel',\n",
       "                                  'min_sev_fel', 'most_sev_misd']),\n",
       "                                ('pipeline-3',\n",
       "                                 Pipeline(steps=[('simpleimputer',\n",
       "                                                  SimpleImputer(strategy='most_frequent')),\n",
       "                                                 ('onehotencoder',\n",
       "                                                  OneHotEncoder(drop='if_binary',\n",
       "                                                                handle_unknown='ignore'))]),\n",
       "                                 ['race', 'sex'])])</pre></div></div></div><div class=\"sk-parallel\"><div class=\"sk-parallel-item\"><div class=\"sk-item\"><div class=\"sk-label-container\"><div class=\"sk-label sk-toggleable\"><input class=\"sk-toggleable__control sk-hidden--visually\" id=\"476e9aa0-8d5f-4c99-80f6-252a2d0ee4f5\" type=\"checkbox\" ><label class=\"sk-toggleable__label\" for=\"476e9aa0-8d5f-4c99-80f6-252a2d0ee4f5\">pipeline-1</label><div class=\"sk-toggleable__content\"><pre>['age', 'juv_fel_count', 'juv_misd_count', 'juv_other_count', 'prior_cases_count', 'priors_count', 'times_in_jail', 'times_in_prison', 'total_days_in_jail', 'total_days_in_prison', 'total_felon_charges', 'total_misd_charges', 'total_ordoffens_charges']</pre></div></div></div><div class=\"sk-serial\"><div class=\"sk-item\"><div class=\"sk-serial\"><div class=\"sk-item\"><div class=\"sk-estimator sk-toggleable\"><input class=\"sk-toggleable__control sk-hidden--visually\" id=\"e7cf28d8-412e-4264-b7b7-481adb842595\" type=\"checkbox\" ><label class=\"sk-toggleable__label\" for=\"e7cf28d8-412e-4264-b7b7-481adb842595\">SimpleImputer</label><div class=\"sk-toggleable__content\"><pre>SimpleImputer()</pre></div></div></div><div class=\"sk-item\"><div class=\"sk-estimator sk-toggleable\"><input class=\"sk-toggleable__control sk-hidden--visually\" id=\"7f3e6b74-d136-4abc-93d0-fb6bd8a2cab3\" type=\"checkbox\" ><label class=\"sk-toggleable__label\" for=\"7f3e6b74-d136-4abc-93d0-fb6bd8a2cab3\">MinMaxScaler</label><div class=\"sk-toggleable__content\"><pre>MinMaxScaler()</pre></div></div></div></div></div></div></div></div><div class=\"sk-parallel-item\"><div class=\"sk-item\"><div class=\"sk-label-container\"><div class=\"sk-label sk-toggleable\"><input class=\"sk-toggleable__control sk-hidden--visually\" id=\"d5fe9ac3-37cd-435b-8d08-23bb36dbb5d3\" type=\"checkbox\" ><label class=\"sk-toggleable__label\" for=\"d5fe9ac3-37cd-435b-8d08-23bb36dbb5d3\">pipeline-2</label><div class=\"sk-toggleable__content\"><pre>['c_charge_degree_detailed', 'max_sev_fel', 'min_sev_fel', 'most_sev_misd']</pre></div></div></div><div class=\"sk-serial\"><div class=\"sk-item\"><div class=\"sk-serial\"><div class=\"sk-item\"><div class=\"sk-estimator sk-toggleable\"><input class=\"sk-toggleable__control sk-hidden--visually\" id=\"76ff8630-ea33-42e9-a90a-e2719a9103d4\" type=\"checkbox\" ><label class=\"sk-toggleable__label\" for=\"76ff8630-ea33-42e9-a90a-e2719a9103d4\">SimpleImputer</label><div class=\"sk-toggleable__content\"><pre>SimpleImputer(fill_value=0, strategy='constant')</pre></div></div></div><div class=\"sk-item\"><div class=\"sk-estimator sk-toggleable\"><input class=\"sk-toggleable__control sk-hidden--visually\" id=\"87a2f617-b830-4233-8b30-5ef9ffc86c7a\" type=\"checkbox\" ><label class=\"sk-toggleable__label\" for=\"87a2f617-b830-4233-8b30-5ef9ffc86c7a\">OrdinalEncoder</label><div class=\"sk-toggleable__content\"><pre>OrdinalEncoder(categories=[['0', 'M2', 'M1', 'F3', 'F2', 'F1'],\n",
       "                           ['0', 'F3', 'F2', 'F1', 'F5', 'F6', 'F7'],\n",
       "                           ['0', 'F3', 'F2', 'F1', 'F5', 'F6', 'F7'],\n",
       "                           ['0', 'MO3', 'M2', 'M1']],\n",
       "               dtype=<class 'numpy.int64'>, handle_unknown='use_encoded_value',\n",
       "               unknown_value=-1)</pre></div></div></div><div class=\"sk-item\"><div class=\"sk-estimator sk-toggleable\"><input class=\"sk-toggleable__control sk-hidden--visually\" id=\"3ea78a5f-a844-438e-9da7-493acf1aa687\" type=\"checkbox\" ><label class=\"sk-toggleable__label\" for=\"3ea78a5f-a844-438e-9da7-493acf1aa687\">MinMaxScaler</label><div class=\"sk-toggleable__content\"><pre>MinMaxScaler()</pre></div></div></div></div></div></div></div></div><div class=\"sk-parallel-item\"><div class=\"sk-item\"><div class=\"sk-label-container\"><div class=\"sk-label sk-toggleable\"><input class=\"sk-toggleable__control sk-hidden--visually\" id=\"4b6db71f-b251-4eae-b5b1-88a699a3936c\" type=\"checkbox\" ><label class=\"sk-toggleable__label\" for=\"4b6db71f-b251-4eae-b5b1-88a699a3936c\">pipeline-3</label><div class=\"sk-toggleable__content\"><pre>['race', 'sex']</pre></div></div></div><div class=\"sk-serial\"><div class=\"sk-item\"><div class=\"sk-serial\"><div class=\"sk-item\"><div class=\"sk-estimator sk-toggleable\"><input class=\"sk-toggleable__control sk-hidden--visually\" id=\"8d305184-e9ae-40cf-bc92-5c3b19dfc6f7\" type=\"checkbox\" ><label class=\"sk-toggleable__label\" for=\"8d305184-e9ae-40cf-bc92-5c3b19dfc6f7\">SimpleImputer</label><div class=\"sk-toggleable__content\"><pre>SimpleImputer(strategy='most_frequent')</pre></div></div></div><div class=\"sk-item\"><div class=\"sk-estimator sk-toggleable\"><input class=\"sk-toggleable__control sk-hidden--visually\" id=\"e5cdcffa-d3ce-468d-a9fd-40717079d478\" type=\"checkbox\" ><label class=\"sk-toggleable__label\" for=\"e5cdcffa-d3ce-468d-a9fd-40717079d478\">OneHotEncoder</label><div class=\"sk-toggleable__content\"><pre>OneHotEncoder(drop='if_binary', handle_unknown='ignore')</pre></div></div></div></div></div></div></div></div></div></div></div></div>"
      ],
      "text/plain": [
       "ColumnTransformer(transformers=[('pipeline-1',\n",
       "                                 Pipeline(steps=[('simpleimputer',\n",
       "                                                  SimpleImputer()),\n",
       "                                                 ('minmaxscaler',\n",
       "                                                  MinMaxScaler())]),\n",
       "                                 ['age', 'juv_fel_count', 'juv_misd_count',\n",
       "                                  'juv_other_count', 'prior_cases_count',\n",
       "                                  'priors_count', 'times_in_jail',\n",
       "                                  'times_in_prison', 'total_days_in_jail',\n",
       "                                  'total_days_in_prison', 'total_felon_charges',\n",
       "                                  'total_misd_charges',\n",
       "                                  'total...\n",
       "                                                                 dtype=<class 'numpy.int64'>,\n",
       "                                                                 handle_unknown='use_encoded_value',\n",
       "                                                                 unknown_value=-1)),\n",
       "                                                 ('minmaxscaler',\n",
       "                                                  MinMaxScaler())]),\n",
       "                                 ['c_charge_degree_detailed', 'max_sev_fel',\n",
       "                                  'min_sev_fel', 'most_sev_misd']),\n",
       "                                ('pipeline-3',\n",
       "                                 Pipeline(steps=[('simpleimputer',\n",
       "                                                  SimpleImputer(strategy='most_frequent')),\n",
       "                                                 ('onehotencoder',\n",
       "                                                  OneHotEncoder(drop='if_binary',\n",
       "                                                                handle_unknown='ignore'))]),\n",
       "                                 ['race', 'sex'])])"
      ]
     },
     "execution_count": 80,
     "metadata": {},
     "output_type": "execute_result"
    }
   ],
   "source": [
    "preproc = make_column_transformer(\n",
    "    (preproc_numerical, feat_numerical),\n",
    "    (preproc_ordinal, feat_ordinal),\n",
    "    (preproc_nominal, feat_nominal), \n",
    "    remainder=\"drop\")\n",
    "\n",
    "preproc"
   ]
  },
  {
   "cell_type": "code",
   "execution_count": 81,
   "id": "e7fc8c5d",
   "metadata": {},
   "outputs": [
    {
     "data": {
      "text/html": [
       "<style>#sk-7356f506-b313-4d59-8c18-a7c2ebbb4873 {color: black;background-color: white;}#sk-7356f506-b313-4d59-8c18-a7c2ebbb4873 pre{padding: 0;}#sk-7356f506-b313-4d59-8c18-a7c2ebbb4873 div.sk-toggleable {background-color: white;}#sk-7356f506-b313-4d59-8c18-a7c2ebbb4873 label.sk-toggleable__label {cursor: pointer;display: block;width: 100%;margin-bottom: 0;padding: 0.3em;box-sizing: border-box;text-align: center;}#sk-7356f506-b313-4d59-8c18-a7c2ebbb4873 div.sk-toggleable__content {max-height: 0;max-width: 0;overflow: hidden;text-align: left;background-color: #f0f8ff;}#sk-7356f506-b313-4d59-8c18-a7c2ebbb4873 div.sk-toggleable__content pre {margin: 0.2em;color: black;border-radius: 0.25em;background-color: #f0f8ff;}#sk-7356f506-b313-4d59-8c18-a7c2ebbb4873 input.sk-toggleable__control:checked~div.sk-toggleable__content {max-height: 200px;max-width: 100%;overflow: auto;}#sk-7356f506-b313-4d59-8c18-a7c2ebbb4873 div.sk-estimator input.sk-toggleable__control:checked~label.sk-toggleable__label {background-color: #d4ebff;}#sk-7356f506-b313-4d59-8c18-a7c2ebbb4873 div.sk-label input.sk-toggleable__control:checked~label.sk-toggleable__label {background-color: #d4ebff;}#sk-7356f506-b313-4d59-8c18-a7c2ebbb4873 input.sk-hidden--visually {border: 0;clip: rect(1px 1px 1px 1px);clip: rect(1px, 1px, 1px, 1px);height: 1px;margin: -1px;overflow: hidden;padding: 0;position: absolute;width: 1px;}#sk-7356f506-b313-4d59-8c18-a7c2ebbb4873 div.sk-estimator {font-family: monospace;background-color: #f0f8ff;border: 1px dotted black;border-radius: 0.25em;box-sizing: border-box;margin-bottom: 0.5em;}#sk-7356f506-b313-4d59-8c18-a7c2ebbb4873 div.sk-estimator:hover {background-color: #d4ebff;}#sk-7356f506-b313-4d59-8c18-a7c2ebbb4873 div.sk-parallel-item::after {content: \"\";width: 100%;border-bottom: 1px solid gray;flex-grow: 1;}#sk-7356f506-b313-4d59-8c18-a7c2ebbb4873 div.sk-label:hover label.sk-toggleable__label {background-color: #d4ebff;}#sk-7356f506-b313-4d59-8c18-a7c2ebbb4873 div.sk-serial::before {content: \"\";position: absolute;border-left: 1px solid gray;box-sizing: border-box;top: 2em;bottom: 0;left: 50%;}#sk-7356f506-b313-4d59-8c18-a7c2ebbb4873 div.sk-serial {display: flex;flex-direction: column;align-items: center;background-color: white;padding-right: 0.2em;padding-left: 0.2em;}#sk-7356f506-b313-4d59-8c18-a7c2ebbb4873 div.sk-item {z-index: 1;}#sk-7356f506-b313-4d59-8c18-a7c2ebbb4873 div.sk-parallel {display: flex;align-items: stretch;justify-content: center;background-color: white;}#sk-7356f506-b313-4d59-8c18-a7c2ebbb4873 div.sk-parallel::before {content: \"\";position: absolute;border-left: 1px solid gray;box-sizing: border-box;top: 2em;bottom: 0;left: 50%;}#sk-7356f506-b313-4d59-8c18-a7c2ebbb4873 div.sk-parallel-item {display: flex;flex-direction: column;position: relative;background-color: white;}#sk-7356f506-b313-4d59-8c18-a7c2ebbb4873 div.sk-parallel-item:first-child::after {align-self: flex-end;width: 50%;}#sk-7356f506-b313-4d59-8c18-a7c2ebbb4873 div.sk-parallel-item:last-child::after {align-self: flex-start;width: 50%;}#sk-7356f506-b313-4d59-8c18-a7c2ebbb4873 div.sk-parallel-item:only-child::after {width: 0;}#sk-7356f506-b313-4d59-8c18-a7c2ebbb4873 div.sk-dashed-wrapped {border: 1px dashed gray;margin: 0 0.4em 0.5em 0.4em;box-sizing: border-box;padding-bottom: 0.4em;background-color: white;position: relative;}#sk-7356f506-b313-4d59-8c18-a7c2ebbb4873 div.sk-label label {font-family: monospace;font-weight: bold;background-color: white;display: inline-block;line-height: 1.2em;}#sk-7356f506-b313-4d59-8c18-a7c2ebbb4873 div.sk-label-container {position: relative;z-index: 2;text-align: center;}#sk-7356f506-b313-4d59-8c18-a7c2ebbb4873 div.sk-container {display: inline-block;position: relative;}</style><div id=\"sk-7356f506-b313-4d59-8c18-a7c2ebbb4873\" class\"sk-top-container\"><div class=\"sk-container\"><div class=\"sk-item sk-dashed-wrapped\"><div class=\"sk-label-container\"><div class=\"sk-label sk-toggleable\"><input class=\"sk-toggleable__control sk-hidden--visually\" id=\"ea594af9-b787-4998-be7d-21777dc8bc01\" type=\"checkbox\" ><label class=\"sk-toggleable__label\" for=\"ea594af9-b787-4998-be7d-21777dc8bc01\">Pipeline</label><div class=\"sk-toggleable__content\"><pre>Pipeline(steps=[('columntransformer',\n",
       "                 ColumnTransformer(transformers=[('pipeline-1',\n",
       "                                                  Pipeline(steps=[('simpleimputer',\n",
       "                                                                   SimpleImputer()),\n",
       "                                                                  ('minmaxscaler',\n",
       "                                                                   MinMaxScaler())]),\n",
       "                                                  ['age', 'juv_fel_count',\n",
       "                                                   'juv_misd_count',\n",
       "                                                   'juv_other_count',\n",
       "                                                   'prior_cases_count',\n",
       "                                                   'priors_count',\n",
       "                                                   'times_in_jail',\n",
       "                                                   'times_in_prison',\n",
       "                                                   'total_days_in_jail',\n",
       "                                                   'total_days_in_prison',\n",
       "                                                   'total_felon...\n",
       "                                                                                  unknown_value=-1)),\n",
       "                                                                  ('minmaxscaler',\n",
       "                                                                   MinMaxScaler())]),\n",
       "                                                  ['c_charge_degree_detailed',\n",
       "                                                   'max_sev_fel', 'min_sev_fel',\n",
       "                                                   'most_sev_misd']),\n",
       "                                                 ('pipeline-3',\n",
       "                                                  Pipeline(steps=[('simpleimputer',\n",
       "                                                                   SimpleImputer(strategy='most_frequent')),\n",
       "                                                                  ('onehotencoder',\n",
       "                                                                   OneHotEncoder(drop='if_binary',\n",
       "                                                                                 handle_unknown='ignore'))]),\n",
       "                                                  ['race', 'sex'])])),\n",
       "                ('logisticregression', LogisticRegression())])</pre></div></div></div><div class=\"sk-serial\"><div class=\"sk-item sk-dashed-wrapped\"><div class=\"sk-label-container\"><div class=\"sk-label sk-toggleable\"><input class=\"sk-toggleable__control sk-hidden--visually\" id=\"60d16615-029c-4a9d-8e0c-581b4d5b573d\" type=\"checkbox\" ><label class=\"sk-toggleable__label\" for=\"60d16615-029c-4a9d-8e0c-581b4d5b573d\">columntransformer: ColumnTransformer</label><div class=\"sk-toggleable__content\"><pre>ColumnTransformer(transformers=[('pipeline-1',\n",
       "                                 Pipeline(steps=[('simpleimputer',\n",
       "                                                  SimpleImputer()),\n",
       "                                                 ('minmaxscaler',\n",
       "                                                  MinMaxScaler())]),\n",
       "                                 ['age', 'juv_fel_count', 'juv_misd_count',\n",
       "                                  'juv_other_count', 'prior_cases_count',\n",
       "                                  'priors_count', 'times_in_jail',\n",
       "                                  'times_in_prison', 'total_days_in_jail',\n",
       "                                  'total_days_in_prison', 'total_felon_charges',\n",
       "                                  'total_misd_charges',\n",
       "                                  'total...\n",
       "                                                                 dtype=<class 'numpy.int64'>,\n",
       "                                                                 handle_unknown='use_encoded_value',\n",
       "                                                                 unknown_value=-1)),\n",
       "                                                 ('minmaxscaler',\n",
       "                                                  MinMaxScaler())]),\n",
       "                                 ['c_charge_degree_detailed', 'max_sev_fel',\n",
       "                                  'min_sev_fel', 'most_sev_misd']),\n",
       "                                ('pipeline-3',\n",
       "                                 Pipeline(steps=[('simpleimputer',\n",
       "                                                  SimpleImputer(strategy='most_frequent')),\n",
       "                                                 ('onehotencoder',\n",
       "                                                  OneHotEncoder(drop='if_binary',\n",
       "                                                                handle_unknown='ignore'))]),\n",
       "                                 ['race', 'sex'])])</pre></div></div></div><div class=\"sk-parallel\"><div class=\"sk-parallel-item\"><div class=\"sk-item\"><div class=\"sk-label-container\"><div class=\"sk-label sk-toggleable\"><input class=\"sk-toggleable__control sk-hidden--visually\" id=\"b88bc317-7f68-4522-9de7-1e0641b0719d\" type=\"checkbox\" ><label class=\"sk-toggleable__label\" for=\"b88bc317-7f68-4522-9de7-1e0641b0719d\">pipeline-1</label><div class=\"sk-toggleable__content\"><pre>['age', 'juv_fel_count', 'juv_misd_count', 'juv_other_count', 'prior_cases_count', 'priors_count', 'times_in_jail', 'times_in_prison', 'total_days_in_jail', 'total_days_in_prison', 'total_felon_charges', 'total_misd_charges', 'total_ordoffens_charges']</pre></div></div></div><div class=\"sk-serial\"><div class=\"sk-item\"><div class=\"sk-serial\"><div class=\"sk-item\"><div class=\"sk-estimator sk-toggleable\"><input class=\"sk-toggleable__control sk-hidden--visually\" id=\"bb803e83-b2ad-41b5-beb4-fde641b013ec\" type=\"checkbox\" ><label class=\"sk-toggleable__label\" for=\"bb803e83-b2ad-41b5-beb4-fde641b013ec\">SimpleImputer</label><div class=\"sk-toggleable__content\"><pre>SimpleImputer()</pre></div></div></div><div class=\"sk-item\"><div class=\"sk-estimator sk-toggleable\"><input class=\"sk-toggleable__control sk-hidden--visually\" id=\"5ecd6e31-56c1-499b-8378-86b09b3372a4\" type=\"checkbox\" ><label class=\"sk-toggleable__label\" for=\"5ecd6e31-56c1-499b-8378-86b09b3372a4\">MinMaxScaler</label><div class=\"sk-toggleable__content\"><pre>MinMaxScaler()</pre></div></div></div></div></div></div></div></div><div class=\"sk-parallel-item\"><div class=\"sk-item\"><div class=\"sk-label-container\"><div class=\"sk-label sk-toggleable\"><input class=\"sk-toggleable__control sk-hidden--visually\" id=\"a5ca0038-7c68-4ce5-8516-823c492f843d\" type=\"checkbox\" ><label class=\"sk-toggleable__label\" for=\"a5ca0038-7c68-4ce5-8516-823c492f843d\">pipeline-2</label><div class=\"sk-toggleable__content\"><pre>['c_charge_degree_detailed', 'max_sev_fel', 'min_sev_fel', 'most_sev_misd']</pre></div></div></div><div class=\"sk-serial\"><div class=\"sk-item\"><div class=\"sk-serial\"><div class=\"sk-item\"><div class=\"sk-estimator sk-toggleable\"><input class=\"sk-toggleable__control sk-hidden--visually\" id=\"cbf16278-77b4-4c91-8b7a-d347af07e73b\" type=\"checkbox\" ><label class=\"sk-toggleable__label\" for=\"cbf16278-77b4-4c91-8b7a-d347af07e73b\">SimpleImputer</label><div class=\"sk-toggleable__content\"><pre>SimpleImputer(fill_value=0, strategy='constant')</pre></div></div></div><div class=\"sk-item\"><div class=\"sk-estimator sk-toggleable\"><input class=\"sk-toggleable__control sk-hidden--visually\" id=\"c3da3519-4485-4c33-9e6f-a5559f5ac5b6\" type=\"checkbox\" ><label class=\"sk-toggleable__label\" for=\"c3da3519-4485-4c33-9e6f-a5559f5ac5b6\">OrdinalEncoder</label><div class=\"sk-toggleable__content\"><pre>OrdinalEncoder(categories=[['0', 'M2', 'M1', 'F3', 'F2', 'F1'],\n",
       "                           ['0', 'F3', 'F2', 'F1', 'F5', 'F6', 'F7'],\n",
       "                           ['0', 'F3', 'F2', 'F1', 'F5', 'F6', 'F7'],\n",
       "                           ['0', 'MO3', 'M2', 'M1']],\n",
       "               dtype=<class 'numpy.int64'>, handle_unknown='use_encoded_value',\n",
       "               unknown_value=-1)</pre></div></div></div><div class=\"sk-item\"><div class=\"sk-estimator sk-toggleable\"><input class=\"sk-toggleable__control sk-hidden--visually\" id=\"89b59f3c-e506-428f-b759-b1f8124d9851\" type=\"checkbox\" ><label class=\"sk-toggleable__label\" for=\"89b59f3c-e506-428f-b759-b1f8124d9851\">MinMaxScaler</label><div class=\"sk-toggleable__content\"><pre>MinMaxScaler()</pre></div></div></div></div></div></div></div></div><div class=\"sk-parallel-item\"><div class=\"sk-item\"><div class=\"sk-label-container\"><div class=\"sk-label sk-toggleable\"><input class=\"sk-toggleable__control sk-hidden--visually\" id=\"c69fbf25-e118-47df-9b26-c8e1ec4a8c4c\" type=\"checkbox\" ><label class=\"sk-toggleable__label\" for=\"c69fbf25-e118-47df-9b26-c8e1ec4a8c4c\">pipeline-3</label><div class=\"sk-toggleable__content\"><pre>['race', 'sex']</pre></div></div></div><div class=\"sk-serial\"><div class=\"sk-item\"><div class=\"sk-serial\"><div class=\"sk-item\"><div class=\"sk-estimator sk-toggleable\"><input class=\"sk-toggleable__control sk-hidden--visually\" id=\"def5f876-9b9f-46fd-8402-9bd97ac3b0b4\" type=\"checkbox\" ><label class=\"sk-toggleable__label\" for=\"def5f876-9b9f-46fd-8402-9bd97ac3b0b4\">SimpleImputer</label><div class=\"sk-toggleable__content\"><pre>SimpleImputer(strategy='most_frequent')</pre></div></div></div><div class=\"sk-item\"><div class=\"sk-estimator sk-toggleable\"><input class=\"sk-toggleable__control sk-hidden--visually\" id=\"9701254a-8ebe-44f0-a4e5-2285eb44cd89\" type=\"checkbox\" ><label class=\"sk-toggleable__label\" for=\"9701254a-8ebe-44f0-a4e5-2285eb44cd89\">OneHotEncoder</label><div class=\"sk-toggleable__content\"><pre>OneHotEncoder(drop='if_binary', handle_unknown='ignore')</pre></div></div></div></div></div></div></div></div></div></div><div class=\"sk-item\"><div class=\"sk-estimator sk-toggleable\"><input class=\"sk-toggleable__control sk-hidden--visually\" id=\"160e2427-567a-472a-ae32-7317989ee300\" type=\"checkbox\" ><label class=\"sk-toggleable__label\" for=\"160e2427-567a-472a-ae32-7317989ee300\">LogisticRegression</label><div class=\"sk-toggleable__content\"><pre>LogisticRegression()</pre></div></div></div></div></div></div></div>"
      ],
      "text/plain": [
       "Pipeline(steps=[('columntransformer',\n",
       "                 ColumnTransformer(transformers=[('pipeline-1',\n",
       "                                                  Pipeline(steps=[('simpleimputer',\n",
       "                                                                   SimpleImputer()),\n",
       "                                                                  ('minmaxscaler',\n",
       "                                                                   MinMaxScaler())]),\n",
       "                                                  ['age', 'juv_fel_count',\n",
       "                                                   'juv_misd_count',\n",
       "                                                   'juv_other_count',\n",
       "                                                   'prior_cases_count',\n",
       "                                                   'priors_count',\n",
       "                                                   'times_in_jail',\n",
       "                                                   'times_in_prison',\n",
       "                                                   'total_days_in_jail',\n",
       "                                                   'total_days_in_prison',\n",
       "                                                   'total_felon...\n",
       "                                                                                  unknown_value=-1)),\n",
       "                                                                  ('minmaxscaler',\n",
       "                                                                   MinMaxScaler())]),\n",
       "                                                  ['c_charge_degree_detailed',\n",
       "                                                   'max_sev_fel', 'min_sev_fel',\n",
       "                                                   'most_sev_misd']),\n",
       "                                                 ('pipeline-3',\n",
       "                                                  Pipeline(steps=[('simpleimputer',\n",
       "                                                                   SimpleImputer(strategy='most_frequent')),\n",
       "                                                                  ('onehotencoder',\n",
       "                                                                   OneHotEncoder(drop='if_binary',\n",
       "                                                                                 handle_unknown='ignore'))]),\n",
       "                                                  ['race', 'sex'])])),\n",
       "                ('logisticregression', LogisticRegression())])"
      ]
     },
     "execution_count": 81,
     "metadata": {},
     "output_type": "execute_result"
    }
   ],
   "source": [
    "pipe_log = make_pipeline(preproc, LogisticRegression())\n",
    "pipe_log"
   ]
  },
  {
   "cell_type": "code",
   "execution_count": 91,
   "id": "a21922ac",
   "metadata": {},
   "outputs": [],
   "source": [
    "cv_res = cross_validate(pipe_log, X_train, y_train, scoring=\"roc_auc\", cv=10)"
   ]
  },
  {
   "cell_type": "code",
   "execution_count": 92,
   "id": "f3d0e67e",
   "metadata": {},
   "outputs": [
    {
     "data": {
      "text/plain": [
       "0.743134344258399"
      ]
     },
     "execution_count": 92,
     "metadata": {},
     "output_type": "execute_result"
    }
   ],
   "source": [
    "cv_res[\"test_score\"].mean()"
   ]
  },
  {
   "cell_type": "code",
   "execution_count": 94,
   "id": "36c48f70",
   "metadata": {},
   "outputs": [
    {
     "data": {
      "text/plain": [
       "0.65061662380431"
      ]
     },
     "execution_count": 94,
     "metadata": {},
     "output_type": "execute_result"
    }
   ],
   "source": [
    "pipe_log.fit(X_train, y_train)\n",
    "y_pred = pipe_log.predict(X_test)\n",
    "\n",
    "roc_auc_score(y_test, y_pred)"
   ]
  },
  {
   "cell_type": "code",
   "execution_count": null,
   "id": "83e4e02e",
   "metadata": {},
   "outputs": [],
   "source": []
  },
  {
   "cell_type": "code",
   "execution_count": 87,
   "id": "b0e398ec",
   "metadata": {},
   "outputs": [],
   "source": [
    "pipe_forest = make_pipeline(preproc, RandomForestClassifier())"
   ]
  },
  {
   "cell_type": "code",
   "execution_count": 93,
   "id": "46e217b6",
   "metadata": {},
   "outputs": [],
   "source": [
    "cv_res = cross_validate(pipe_forest, X_train, y_train, scoring=\"roc_auc\", cv=10)"
   ]
  },
  {
   "cell_type": "code",
   "execution_count": 89,
   "id": "b0942089",
   "metadata": {},
   "outputs": [
    {
     "data": {
      "text/plain": [
       "0.7205630745235811"
      ]
     },
     "execution_count": 89,
     "metadata": {},
     "output_type": "execute_result"
    }
   ],
   "source": [
    "cv_res[\"test_score\"].mean()"
   ]
  },
  {
   "cell_type": "code",
   "execution_count": 95,
   "id": "132743fe",
   "metadata": {},
   "outputs": [
    {
     "data": {
      "text/plain": [
       "0.647402371434149"
      ]
     },
     "execution_count": 95,
     "metadata": {},
     "output_type": "execute_result"
    }
   ],
   "source": [
    "pipe_forest.fit(X_train, y_train)\n",
    "y_pred = pipe_forest.predict(X_test)\n",
    "\n",
    "roc_auc_score(y_test, y_pred)"
   ]
  },
  {
   "cell_type": "code",
   "execution_count": 100,
   "id": "b029abaa",
   "metadata": {},
   "outputs": [
    {
     "data": {
      "text/plain": [
       "array([[815, 192],\n",
       "       [301, 284]])"
      ]
     },
     "execution_count": 100,
     "metadata": {},
     "output_type": "execute_result"
    }
   ],
   "source": [
    "confusion_matrix(y_test, y_pred)"
   ]
  },
  {
   "cell_type": "code",
   "execution_count": 99,
   "id": "12084091",
   "metadata": {},
   "outputs": [
    {
     "name": "stdout",
     "output_type": "stream",
     "text": [
      "              precision    recall  f1-score   support\n",
      "\n",
      "           0       0.73      0.81      0.77      1007\n",
      "           1       0.60      0.49      0.54       585\n",
      "\n",
      "    accuracy                           0.69      1592\n",
      "   macro avg       0.66      0.65      0.65      1592\n",
      "weighted avg       0.68      0.69      0.68      1592\n",
      "\n"
     ]
    }
   ],
   "source": [
    "print(classification_report(y_test, y_pred))"
   ]
  },
  {
   "cell_type": "code",
   "execution_count": 104,
   "id": "ea5a2740",
   "metadata": {},
   "outputs": [],
   "source": [
    "pipe_tree = make_pipeline(preproc, DecisionTreeClassifier())"
   ]
  },
  {
   "cell_type": "code",
   "execution_count": 105,
   "id": "585833b6",
   "metadata": {},
   "outputs": [
    {
     "data": {
      "text/plain": [
       "0.5892521579711252"
      ]
     },
     "execution_count": 105,
     "metadata": {},
     "output_type": "execute_result"
    }
   ],
   "source": [
    "pipe_tree.fit(X_train, y_train)\n",
    "y_pred = pipe_tree.predict(X_test)\n",
    "\n",
    "roc_auc_score(y_test, y_pred)"
   ]
  },
  {
   "cell_type": "code",
   "execution_count": null,
   "id": "702e20d0",
   "metadata": {},
   "outputs": [],
   "source": []
  }
 ],
 "metadata": {
  "kernelspec": {
   "display_name": "Python 3 (ipykernel)",
   "language": "python",
   "name": "python3"
  },
  "language_info": {
   "codemirror_mode": {
    "name": "ipython",
    "version": 3
   },
   "file_extension": ".py",
   "mimetype": "text/x-python",
   "name": "python",
   "nbconvert_exporter": "python",
   "pygments_lexer": "ipython3",
   "version": "3.8.6"
  },
  "toc": {
   "base_numbering": 1,
   "nav_menu": {},
   "number_sections": true,
   "sideBar": true,
   "skip_h1_title": false,
   "title_cell": "Table of Contents",
   "title_sidebar": "Contents",
   "toc_cell": false,
   "toc_position": {},
   "toc_section_display": true,
   "toc_window_display": false
  }
 },
 "nbformat": 4,
 "nbformat_minor": 5
}
