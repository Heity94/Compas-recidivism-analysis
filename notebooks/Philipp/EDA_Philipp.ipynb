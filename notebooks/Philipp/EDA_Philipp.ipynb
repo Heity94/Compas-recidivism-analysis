{
 "cells": [
  {
   "cell_type": "code",
   "execution_count": 71,
   "id": "2bac30f8",
   "metadata": {},
   "outputs": [],
   "source": [
    "import numpy as np\n",
    "import pandas as pd\n",
    "import matplotlib.pyplot as plt\n",
    "import seaborn as sns\n",
    "sns.set_theme()"
   ]
  },
  {
   "cell_type": "markdown",
   "id": "7324d875",
   "metadata": {},
   "source": [
    "# Exploratory Data analysis of ProPublica's Compas data"
   ]
  },
  {
   "cell_type": "markdown",
   "id": "3179375c",
   "metadata": {},
   "source": [
    "## Load data and recreate filters from ProPublica"
   ]
  },
  {
   "cell_type": "code",
   "execution_count": 2,
   "id": "9764ba66",
   "metadata": {},
   "outputs": [
    {
     "data": {
      "text/plain": [
       "(7214, 53)"
      ]
     },
     "execution_count": 2,
     "metadata": {},
     "output_type": "execute_result"
    }
   ],
   "source": [
    "# Load data and transform date columsn to \"datetime\"\n",
    "raw_data = pd.read_csv(\"../../data-ProPublica/compas-scores-two-years.csv\", parse_dates=[\"c_jail_in\", \"c_jail_out\"])\n",
    "raw_data.shape"
   ]
  },
  {
   "cell_type": "markdown",
   "id": "575b2989",
   "metadata": {},
   "source": [
    "ProPublicas reasoning for filter `raw_data`:\n",
    ">However not all of the rows are useable for the first round of analysis.\n",
    ">There are a number of reasons remove rows because of missing data:\n",
    ">* If the charge date of a defendants Compas scored crime was not within 30 days from when the person was arrested, we assume that because of data quality reasons, that we do not have the right offense.\n",
    ">* We coded the recidivist flag -- `is_recid` -- to be -1 if we could not find a compas case at all.\n",
    ">* In a similar vein, ordinary traffic offenses -- those with a `c_charge_degree` of 'O' -- will not result in Jail time are removed (only two of them).\n",
    ">* We filtered the underlying data from Broward county to include only those rows representing people who had either recidivated in two years, or had at least two years outside of a correctional facility.*"
   ]
  },
  {
   "cell_type": "code",
   "execution_count": 3,
   "id": "7c77b546",
   "metadata": {},
   "outputs": [
    {
     "data": {
      "text/plain": [
       "(6172, 13)"
      ]
     },
     "execution_count": 3,
     "metadata": {},
     "output_type": "execute_result"
    }
   ],
   "source": [
    "# Select columns of interest and store as new df\n",
    "df = raw_data[[\"age\", \"c_charge_degree\", \"race\", \"age_cat\", \"score_text\", \"sex\", \"priors_count\", \n",
    "          \"days_b_screening_arrest\", \"decile_score\", \"is_recid\", \"two_year_recid\", \"c_jail_in\", \"c_jail_out\"]]\n",
    "\n",
    "# Filter rows as described by ProPublica\n",
    "df = df[\n",
    "        (df[\"days_b_screening_arrest\"]<=30) & \n",
    "        (df[\"days_b_screening_arrest\"]>=-30) &\n",
    "        (df[\"is_recid\"]!=-1) & \n",
    "        (df[\"c_charge_degree\"]!=\"O\") #&\n",
    "        #(df[\"score_text\"]!=\"N/A\")\n",
    "      ]\n",
    "\n",
    "df.shape"
   ]
  },
  {
   "cell_type": "code",
   "execution_count": 6,
   "id": "2449ddc3",
   "metadata": {},
   "outputs": [],
   "source": [
    "#Change dtype for categorical features\n",
    "category_cols = ['c_charge_degree', \"race\", \"age_cat\", 'score_text', 'sex', 'is_recid', 'two_year_recid']\n",
    "df = df.apply(lambda s: s.astype('category') if s.name in category_cols else s)"
   ]
  },
  {
   "cell_type": "markdown",
   "id": "e3233707",
   "metadata": {},
   "source": [
    "## Demographic breakdown"
   ]
  },
  {
   "cell_type": "markdown",
   "id": "8f570e1a",
   "metadata": {},
   "source": [
    "Higher COMPAS scores are slightly correlated with a longer length of stay. "
   ]
  },
  {
   "cell_type": "code",
   "execution_count": 18,
   "id": "d91dc622",
   "metadata": {},
   "outputs": [
    {
     "data": {
      "text/plain": [
       "0.20748"
      ]
     },
     "execution_count": 18,
     "metadata": {},
     "output_type": "execute_result"
    }
   ],
   "source": [
    "df[\"length_of_stay_days\"] = (df.c_jail_out-df.c_jail_in).dt.days\n",
    "np.round(df[[\"length_of_stay_days\", \"decile_score\"]].corr()\\\n",
    "    .loc[\"length_of_stay_days\",\"decile_score\"],5)"
   ]
  },
  {
   "cell_type": "markdown",
   "id": "6c2b1b58",
   "metadata": {},
   "source": [
    "After filtering we have the following demographic breakdown:"
   ]
  },
  {
   "cell_type": "code",
   "execution_count": 19,
   "id": "e4078a9c",
   "metadata": {},
   "outputs": [
    {
     "data": {
      "text/plain": [
       "25 - 45            3532\n",
       "Less than 25       1347\n",
       "Greater than 45    1293\n",
       "Name: age_cat, dtype: int64"
      ]
     },
     "execution_count": 19,
     "metadata": {},
     "output_type": "execute_result"
    }
   ],
   "source": [
    "df.age_cat.value_counts()"
   ]
  },
  {
   "cell_type": "code",
   "execution_count": 37,
   "id": "cc7aca6b",
   "metadata": {},
   "outputs": [
    {
     "data": {
      "text/plain": [
       "African-American    51.44%\n",
       "Caucasian           34.07%\n",
       "Hispanic             8.25%\n",
       "Other                5.56%\n",
       "Asian                0.50%\n",
       "Native American      0.18%\n",
       "Name: race, dtype: object"
      ]
     },
     "execution_count": 37,
     "metadata": {},
     "output_type": "execute_result"
    }
   ],
   "source": [
    "(df.race.value_counts(normalize=True)*100).map('{:,.2f}%'.format)"
   ]
  },
  {
   "cell_type": "code",
   "execution_count": 26,
   "id": "db25461a",
   "metadata": {},
   "outputs": [
    {
     "data": {
      "text/plain": [
       "Low       3421\n",
       "Medium    1607\n",
       "High      1144\n",
       "Name: score_text, dtype: int64"
      ]
     },
     "execution_count": 26,
     "metadata": {},
     "output_type": "execute_result"
    }
   ],
   "source": [
    "df.score_text.value_counts()"
   ]
  },
  {
   "cell_type": "code",
   "execution_count": 29,
   "id": "f7625824",
   "metadata": {},
   "outputs": [
    {
     "data": {
      "text/html": [
       "<div>\n",
       "<style scoped>\n",
       "    .dataframe tbody tr th:only-of-type {\n",
       "        vertical-align: middle;\n",
       "    }\n",
       "\n",
       "    .dataframe tbody tr th {\n",
       "        vertical-align: top;\n",
       "    }\n",
       "\n",
       "    .dataframe thead th {\n",
       "        text-align: right;\n",
       "    }\n",
       "</style>\n",
       "<table border=\"1\" class=\"dataframe\">\n",
       "  <thead>\n",
       "    <tr style=\"text-align: right;\">\n",
       "      <th>race</th>\n",
       "      <th>African-American</th>\n",
       "      <th>Asian</th>\n",
       "      <th>Caucasian</th>\n",
       "      <th>Hispanic</th>\n",
       "      <th>Native American</th>\n",
       "      <th>Other</th>\n",
       "    </tr>\n",
       "    <tr>\n",
       "      <th>sex</th>\n",
       "      <th></th>\n",
       "      <th></th>\n",
       "      <th></th>\n",
       "      <th></th>\n",
       "      <th></th>\n",
       "      <th></th>\n",
       "    </tr>\n",
       "  </thead>\n",
       "  <tbody>\n",
       "    <tr>\n",
       "      <th>Female</th>\n",
       "      <td>549</td>\n",
       "      <td>2</td>\n",
       "      <td>482</td>\n",
       "      <td>82</td>\n",
       "      <td>2</td>\n",
       "      <td>58</td>\n",
       "    </tr>\n",
       "    <tr>\n",
       "      <th>Male</th>\n",
       "      <td>2626</td>\n",
       "      <td>29</td>\n",
       "      <td>1621</td>\n",
       "      <td>427</td>\n",
       "      <td>9</td>\n",
       "      <td>285</td>\n",
       "    </tr>\n",
       "  </tbody>\n",
       "</table>\n",
       "</div>"
      ],
      "text/plain": [
       "race    African-American  Asian  Caucasian  Hispanic  Native American  Other\n",
       "sex                                                                         \n",
       "Female               549      2        482        82                2     58\n",
       "Male                2626     29       1621       427                9    285"
      ]
     },
     "execution_count": 29,
     "metadata": {},
     "output_type": "execute_result"
    }
   ],
   "source": [
    "pd.crosstab(df[\"sex\"], df[\"race\"])"
   ]
  },
  {
   "cell_type": "code",
   "execution_count": 30,
   "id": "853b5792",
   "metadata": {},
   "outputs": [
    {
     "data": {
      "text/plain": [
       "Male      4997\n",
       "Female    1175\n",
       "Name: sex, dtype: int64"
      ]
     },
     "execution_count": 30,
     "metadata": {},
     "output_type": "execute_result"
    }
   ],
   "source": [
    "df.sex.value_counts()"
   ]
  },
  {
   "cell_type": "code",
   "execution_count": 36,
   "id": "ef1e5374",
   "metadata": {},
   "outputs": [
    {
     "data": {
      "text/plain": [
       "Male      80.96%\n",
       "Female    19.04%\n",
       "Name: sex, dtype: object"
      ]
     },
     "execution_count": 36,
     "metadata": {},
     "output_type": "execute_result"
    }
   ],
   "source": [
    "(df.sex.value_counts(normalize=True)*100).map('{:,.2f}%'.format)"
   ]
  },
  {
   "cell_type": "code",
   "execution_count": 53,
   "id": "bd8cd7b8",
   "metadata": {},
   "outputs": [
    {
     "name": "stdout",
     "output_type": "stream",
     "text": [
      "Number of entries with two_year_recid: 2809\n",
      "% of entries with two_year_recid 45.51\n"
     ]
    }
   ],
   "source": [
    "no_recid = np.sum(df[\"two_year_recid\"]==1)\n",
    "print(\"Number of entries with two_year_recid:\", no_recid)\n",
    "print(\"% of entries with two_year_recid\", np.round(no_recid/df.shape[0]*100,2))"
   ]
  },
  {
   "cell_type": "markdown",
   "id": "b00e8461",
   "metadata": {},
   "source": [
    "Judges are often presented with two sets of scores from the Compas system -- one that classifies people into High, Medium and Low risk, and a corresponding decile score. There is a clear downward trend in the decile scores as those scores increase for white defendants."
   ]
  },
  {
   "cell_type": "code",
   "execution_count": 150,
   "id": "50850132",
   "metadata": {},
   "outputs": [
    {
     "data": {
      "image/png": "[encoded data removed]",
      "text/plain": [
       "<Figure size 1080x360 with 2 Axes>"
      ]
     },
     "metadata": {},
     "output_type": "display_data"
    }
   ],
   "source": [
    "fig, axes = plt.subplots(1,2, figsize=(15,5))\n",
    "plt.setp(axes, ylim=(0,650), xticks=np.arange(1,11), xlabel=\"Decile Score\")\n",
    "\n",
    "scores_black = df[df[\"race\"]==\"African-American\"][\"decile_score\"]\n",
    "scores_white = df[df[\"race\"]==\"Caucasian\"][\"decile_score\"]\n",
    "\n",
    "sns.histplot(\n",
    "    x=scores_black,\n",
    "    bins=10, \n",
    "    ax=axes[0], \n",
    "    kde=True,\n",
    "    shrink=.9,\n",
    "    discrete=True\n",
    "            )\n",
    "axes[0].set_title(\"Black Defendant's Decile Scores\")\n",
    "\n",
    "sns.histplot(\n",
    "    x=scores_white,\n",
    "    bins=10, \n",
    "    ax=axes[1], \n",
    "    kde=True,\n",
    "    shrink=.9,\n",
    "    discrete=True\n",
    "            )\n",
    "axes[1].set_title(\"White Defendant's Decile Scores\");\n"
   ]
  },
  {
   "cell_type": "code",
   "execution_count": 152,
   "id": "d4ab2930",
   "metadata": {},
   "outputs": [
    {
     "data": {
      "text/html": [
       "<div>\n",
       "<style scoped>\n",
       "    .dataframe tbody tr th:only-of-type {\n",
       "        vertical-align: middle;\n",
       "    }\n",
       "\n",
       "    .dataframe tbody tr th {\n",
       "        vertical-align: top;\n",
       "    }\n",
       "\n",
       "    .dataframe thead th {\n",
       "        text-align: right;\n",
       "    }\n",
       "</style>\n",
       "<table border=\"1\" class=\"dataframe\">\n",
       "  <thead>\n",
       "    <tr style=\"text-align: right;\">\n",
       "      <th>race</th>\n",
       "      <th>African-American</th>\n",
       "      <th>Asian</th>\n",
       "      <th>Caucasian</th>\n",
       "      <th>Hispanic</th>\n",
       "      <th>Native American</th>\n",
       "      <th>Other</th>\n",
       "    </tr>\n",
       "    <tr>\n",
       "      <th>decile_score</th>\n",
       "      <th></th>\n",
       "      <th></th>\n",
       "      <th></th>\n",
       "      <th></th>\n",
       "      <th></th>\n",
       "      <th></th>\n",
       "    </tr>\n",
       "  </thead>\n",
       "  <tbody>\n",
       "    <tr>\n",
       "      <th>1</th>\n",
       "      <td>365</td>\n",
       "      <td>15</td>\n",
       "      <td>605</td>\n",
       "      <td>159</td>\n",
       "      <td>0</td>\n",
       "      <td>142</td>\n",
       "    </tr>\n",
       "    <tr>\n",
       "      <th>2</th>\n",
       "      <td>346</td>\n",
       "      <td>4</td>\n",
       "      <td>321</td>\n",
       "      <td>89</td>\n",
       "      <td>2</td>\n",
       "      <td>60</td>\n",
       "    </tr>\n",
       "    <tr>\n",
       "      <th>3</th>\n",
       "      <td>298</td>\n",
       "      <td>5</td>\n",
       "      <td>238</td>\n",
       "      <td>73</td>\n",
       "      <td>1</td>\n",
       "      <td>32</td>\n",
       "    </tr>\n",
       "    <tr>\n",
       "      <th>4</th>\n",
       "      <td>337</td>\n",
       "      <td>0</td>\n",
       "      <td>243</td>\n",
       "      <td>47</td>\n",
       "      <td>0</td>\n",
       "      <td>39</td>\n",
       "    </tr>\n",
       "    <tr>\n",
       "      <th>5</th>\n",
       "      <td>323</td>\n",
       "      <td>1</td>\n",
       "      <td>200</td>\n",
       "      <td>39</td>\n",
       "      <td>0</td>\n",
       "      <td>19</td>\n",
       "    </tr>\n",
       "    <tr>\n",
       "      <th>6</th>\n",
       "      <td>318</td>\n",
       "      <td>2</td>\n",
       "      <td>160</td>\n",
       "      <td>27</td>\n",
       "      <td>2</td>\n",
       "      <td>20</td>\n",
       "    </tr>\n",
       "    <tr>\n",
       "      <th>7</th>\n",
       "      <td>343</td>\n",
       "      <td>1</td>\n",
       "      <td>113</td>\n",
       "      <td>28</td>\n",
       "      <td>2</td>\n",
       "      <td>9</td>\n",
       "    </tr>\n",
       "    <tr>\n",
       "      <th>8</th>\n",
       "      <td>301</td>\n",
       "      <td>2</td>\n",
       "      <td>96</td>\n",
       "      <td>14</td>\n",
       "      <td>0</td>\n",
       "      <td>7</td>\n",
       "    </tr>\n",
       "    <tr>\n",
       "      <th>9</th>\n",
       "      <td>317</td>\n",
       "      <td>0</td>\n",
       "      <td>77</td>\n",
       "      <td>17</td>\n",
       "      <td>2</td>\n",
       "      <td>7</td>\n",
       "    </tr>\n",
       "    <tr>\n",
       "      <th>10</th>\n",
       "      <td>227</td>\n",
       "      <td>1</td>\n",
       "      <td>50</td>\n",
       "      <td>16</td>\n",
       "      <td>2</td>\n",
       "      <td>8</td>\n",
       "    </tr>\n",
       "  </tbody>\n",
       "</table>\n",
       "</div>"
      ],
      "text/plain": [
       "race          African-American  Asian  Caucasian  Hispanic  Native American  \\\n",
       "decile_score                                                                  \n",
       "1                          365     15        605       159                0   \n",
       "2                          346      4        321        89                2   \n",
       "3                          298      5        238        73                1   \n",
       "4                          337      0        243        47                0   \n",
       "5                          323      1        200        39                0   \n",
       "6                          318      2        160        27                2   \n",
       "7                          343      1        113        28                2   \n",
       "8                          301      2         96        14                0   \n",
       "9                          317      0         77        17                2   \n",
       "10                         227      1         50        16                2   \n",
       "\n",
       "race          Other  \n",
       "decile_score         \n",
       "1               142  \n",
       "2                60  \n",
       "3                32  \n",
       "4                39  \n",
       "5                19  \n",
       "6                20  \n",
       "7                 9  \n",
       "8                 7  \n",
       "9                 7  \n",
       "10                8  "
      ]
     },
     "execution_count": 152,
     "metadata": {},
     "output_type": "execute_result"
    }
   ],
   "source": [
    "pd.crosstab(df[\"decile_score\"], df[\"race\"])"
   ]
  },
  {
   "cell_type": "code",
   "execution_count": null,
   "id": "8af9b8bd",
   "metadata": {},
   "outputs": [],
   "source": []
  }
 ],
 "metadata": {
  "kernelspec": {
   "display_name": "Python 3",
   "language": "python",
   "name": "python3"
  },
  "language_info": {
   "codemirror_mode": {
    "name": "ipython",
    "version": 3
   },
   "file_extension": ".py",
   "mimetype": "text/x-python",
   "name": "python",
   "nbconvert_exporter": "python",
   "pygments_lexer": "ipython3",
   "version": "3.8.8"
  },
  "toc": {
   "base_numbering": 1,
   "nav_menu": {},
   "number_sections": true,
   "sideBar": true,
   "skip_h1_title": false,
   "title_cell": "Table of Contents",
   "title_sidebar": "Contents",
   "toc_cell": false,
   "toc_position": {},
   "toc_section_display": true,
   "toc_window_display": false
  }
 },
 "nbformat": 4,
 "nbformat_minor": 5
}
