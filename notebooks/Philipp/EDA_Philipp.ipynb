{
 "cells": [
  {
   "cell_type": "code",
   "execution_count": 1,
   "id": "2bac30f8",
   "metadata": {},
   "outputs": [],
   "source": [
    "import numpy as np\n",
    "import pandas as pd\n",
    "import matplotlib.pyplot as plt\n",
    "import seaborn as sns"
   ]
  },
  {
   "cell_type": "markdown",
   "id": "7324d875",
   "metadata": {},
   "source": [
    "# Inital Exploratory Data analysis of ProPublica's Compas data"
   ]
  },
  {
   "cell_type": "markdown",
   "id": "3179375c",
   "metadata": {},
   "source": [
    "## Load data and recreate filters from ProPublica"
   ]
  },
  {
   "cell_type": "code",
   "execution_count": 2,
   "id": "9764ba66",
   "metadata": {},
   "outputs": [
    {
     "data": {
      "text/plain": [
       "(7214, 53)"
      ]
     },
     "execution_count": 2,
     "metadata": {},
     "output_type": "execute_result"
    }
   ],
   "source": [
    "# Load data and transform date columsn to \"datetime\"\n",
    "raw_data = pd.read_csv(\"../../data-ProPublica/compas-scores-two-years.csv\", parse_dates=[\"c_jail_in\", \"c_jail_out\"])\n",
    "raw_data.shape"
   ]
  },
  {
   "cell_type": "markdown",
   "id": "a6defb2d",
   "metadata": {},
   "source": [
    "ProPublicas reasoning for filter `raw_data`:\n",
    ">However not all of the rows are useable for the first round of analysis.\n",
    ">There are a number of reasons remove rows because of missing data:\n",
    ">* If the charge date of a defendants Compas scored crime was not within 30 days from when the person was arrested, we assume that because of data quality reasons, that we do not have the right offense.\n",
    ">* We coded the recidivist flag -- `is_recid` -- to be -1 if we could not find a compas case at all.\n",
    ">* In a similar vein, ordinary traffic offenses -- those with a `c_charge_degree` of 'O' -- will not result in Jail time are removed (only two of them).\n",
    ">* We filtered the underlying data from Broward county to include only those rows representing people who had either recidivated in two years, or had at least two years outside of a correctional facility.*"
   ]
  },
  {
   "cell_type": "code",
   "execution_count": 3,
   "id": "6044c286",
   "metadata": {},
   "outputs": [
    {
     "data": {
      "text/plain": [
       "(6172, 13)"
      ]
     },
     "execution_count": 3,
     "metadata": {},
     "output_type": "execute_result"
    }
   ],
   "source": [
    "# Select columns of interest and store as new df\n",
    "df = raw_data[[\"age\", \"c_charge_degree\", \"race\", \"age_cat\", \"score_text\", \"sex\", \"priors_count\", \n",
    "          \"days_b_screening_arrest\", \"decile_score\", \"is_recid\", \"two_year_recid\", \"c_jail_in\", \"c_jail_out\"]]\n",
    "\n",
    "# Filter rows as described by ProPublica\n",
    "df = df[\n",
    "        (df[\"days_b_screening_arrest\"]<=30) & \n",
    "        (df[\"days_b_screening_arrest\"]>=-30) &\n",
    "        (df[\"is_recid\"]!=-1) & \n",
    "        (df[\"c_charge_degree\"]!=\"O\") #&\n",
    "        #(df[\"score_text\"]!=\"N/A\")\n",
    "      ]\n",
    "\n",
    "df.shape"
   ]
  },
  {
   "cell_type": "code",
   "execution_count": 6,
   "id": "bf712cc5",
   "metadata": {},
   "outputs": [],
   "source": [
    "#Change dtype for categorical features\n",
    "category_cols = ['c_charge_degree', \"race\", \"age_cat\", 'score_text', 'sex', 'is_recid', 'two_year_recid']\n",
    "df = df.apply(lambda s: s.astype('category') if s.name in category_cols else s)"
   ]
  },
  {
   "cell_type": "markdown",
   "id": "b8cafb36",
   "metadata": {},
   "source": [
    "## Demographic breakdown"
   ]
  },
  {
   "cell_type": "markdown",
   "id": "3f34504f",
   "metadata": {},
   "source": [
    "Higher COMPAS scores are slightly correlated with a longer length of stay. "
   ]
  },
  {
   "cell_type": "code",
   "execution_count": 18,
   "id": "d9b34b91",
   "metadata": {},
   "outputs": [
    {
     "data": {
      "text/plain": [
       "0.20748"
      ]
     },
     "execution_count": 18,
     "metadata": {},
     "output_type": "execute_result"
    }
   ],
   "source": [
    "df[\"length_of_stay_days\"] = (df.c_jail_out-df.c_jail_in).dt.days\n",
    "np.round(df[[\"length_of_stay_days\", \"decile_score\"]].corr()\\\n",
    "    .loc[\"length_of_stay_days\",\"decile_score\"],5)"
   ]
  },
  {
   "cell_type": "markdown",
   "id": "dcedd162",
   "metadata": {},
   "source": [
    "After filtering we have the following demographic breakdown:"
   ]
  },
  {
   "cell_type": "code",
   "execution_count": 19,
   "id": "9f8bbed7",
   "metadata": {},
   "outputs": [
    {
     "data": {
      "text/plain": [
       "25 - 45            3532\n",
       "Less than 25       1347\n",
       "Greater than 45    1293\n",
       "Name: age_cat, dtype: int64"
      ]
     },
     "execution_count": 19,
     "metadata": {},
     "output_type": "execute_result"
    }
   ],
   "source": [
    "df.age_cat.value_counts()"
   ]
  },
  {
   "cell_type": "code",
   "execution_count": 25,
   "id": "2cc622cb",
   "metadata": {},
   "outputs": [
    {
     "data": {
      "text/plain": [
       "African-American    51.44%\n",
       "Caucasian           34.07%\n",
       "Hispanic             8.25%\n",
       "Other                5.56%\n",
       "Asian                0.50%\n",
       "Native American      0.18%\n",
       "Name: race, dtype: object"
      ]
     },
     "execution_count": 25,
     "metadata": {},
     "output_type": "execute_result"
    }
   ],
   "source": [
    "(df.race.value_counts()/df.shape[0]*100).map('{:,.2f}%'.format)"
   ]
  },
  {
   "cell_type": "code",
   "execution_count": null,
   "id": "6ff86d46",
   "metadata": {},
   "outputs": [],
   "source": []
  },
  {
   "cell_type": "code",
   "execution_count": null,
   "id": "9aa9ae6f",
   "metadata": {},
   "outputs": [],
   "source": []
  }
 ],
 "metadata": {
  "kernelspec": {
   "display_name": "Python 3 (ipykernel)",
   "language": "python",
   "name": "python3"
  },
  "language_info": {
   "codemirror_mode": {
    "name": "ipython",
    "version": 3
   },
   "file_extension": ".py",
   "mimetype": "text/x-python",
   "name": "python",
   "nbconvert_exporter": "python",
   "pygments_lexer": "ipython3",
   "version": "3.8.6"
  },
  "toc": {
   "base_numbering": 1,
   "nav_menu": {},
   "number_sections": true,
   "sideBar": true,
   "skip_h1_title": false,
   "title_cell": "Table of Contents",
   "title_sidebar": "Contents",
   "toc_cell": false,
   "toc_position": {},
   "toc_section_display": true,
   "toc_window_display": false
  }
 },
 "nbformat": 4,
 "nbformat_minor": 5
}
