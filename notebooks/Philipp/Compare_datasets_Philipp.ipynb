{
 "cells": [
  {
   "cell_type": "code",
   "execution_count": 1,
   "id": "3b4d906c",
   "metadata": {},
   "outputs": [],
   "source": [
    "import os\n",
    "import numpy as np\n",
    "import pandas as pd\n",
    "import matplotlib.pyplot as plt\n",
    "import seaborn as sns\n",
    "sns.set_theme()"
   ]
  },
  {
   "cell_type": "markdown",
   "id": "27ce8408",
   "metadata": {},
   "source": [
    "# Compare different datasets"
   ]
  },
  {
   "cell_type": "markdown",
   "id": "ca20121e",
   "metadata": {},
   "source": [
    "- ProPublica obtained a dataset of pretrial defendants and probationers from Broward County, FL, who had been assessed with the COMPAS screening system between January 1, 2013, and December 31, 2014.\n",
    "- COMPAS recidivism risk scores are based on a defendant’s answers to the COMPAS screening survey. The survey is completed by pre-trial services in cooperation with the defendant after his or her arrest. \n",
    "- The COMPAS survey, at least in the ProPublica data, is typically administered the same day or the day after a person is jailed.\n",
    "- For the more than 11 thousand pretrial defendants in this dataset,9 ProPublica then collected data on future arrests through the end of March 2016, in order to study how the COMPAS score predicts recidivism for these defendants\n",
    "- ProPublica collected the data for its study and created a database. From that database, it constructed various sub-datasets that merged and calculated various important features. For example, an indicator for a re-arrest for a new crime within two years of the original one, and the period of time between arrests. ProPublica then exported these sub-datasets into .csv files. These files were named by ProPublica `compas-scores.csv` and `compas-scores-two-years.csv`. \n",
    "- The first file `compas-scores.csv` contains the full dataset of pretrial defendants that ProPublica obtained from the Broward County Sheriff’s Office. This file contains 11,757 people.\n",
    "- The second file `compas-scores-two-years.csv` is a file that ProPublica created for the purpose of studying two-year general recidivism. The term general recidivism is used to distinguish it from the smaller subset of violent recidivism. General recidivism includes both violent and non-violent offenses. I focus on the two-year general recidivism dataset\n",
    "- The two-year general recidivism file contains 7,214 people.<br>\n",
    "<br>https://arxiv.org/pdf/1906.04711.pdf"
   ]
  },
  {
   "cell_type": "markdown",
   "id": "69b78616",
   "metadata": {},
   "source": [
    "## Load datasets"
   ]
  },
  {
   "cell_type": "code",
   "execution_count": 60,
   "id": "6be19ca5",
   "metadata": {},
   "outputs": [],
   "source": [
    "# Load datasets\n",
    "cs = pd.read_csv(\"../../data-ProPublica/compas-scores.csv\") # Compas-scores\n",
    "cs_twoyears = pd.read_csv(\"../../data-ProPublica/compas-scores-two-years.csv\") # Compas-scores-two-years\n",
    "cs_twoyears_vio = pd.read_csv(\"../../data-ProPublica/compas-scores-two-years-violent.csv\") # Compas-scores-two-years violent (\"subset\" of Compas-scores-two-years)"
   ]
  },
  {
   "cell_type": "code",
   "execution_count": 61,
   "id": "be0e05b7",
   "metadata": {},
   "outputs": [
    {
     "name": "stdout",
     "output_type": "stream",
     "text": [
      "(11757, 47)\n",
      "(7214, 53)\n",
      "(4743, 54)\n"
     ]
    }
   ],
   "source": [
    "#Check shapes\n",
    "print(cs.shape)\n",
    "print(cs_twoyears.shape)\n",
    "print(cs_twoyears_vio.shape)"
   ]
  },
  {
   "cell_type": "markdown",
   "id": "2e85ea04",
   "metadata": {},
   "source": [
    "## Check difference in columns"
   ]
  },
  {
   "cell_type": "markdown",
   "id": "02e26b22",
   "metadata": {},
   "source": [
    "### Difference between `cs` & `cs_twoyears`"
   ]
  },
  {
   "cell_type": "code",
   "execution_count": 63,
   "id": "113c8869",
   "metadata": {
    "scrolled": true
   },
   "outputs": [
    {
     "data": {
      "text/plain": [
       "['end',\n",
       " 'start',\n",
       " 'event',\n",
       " 'in_custody',\n",
       " 'priors_count.1',\n",
       " 'violent_recid',\n",
       " 'num_vr_cases',\n",
       " 'out_custody',\n",
       " 'two_year_recid',\n",
       " 'num_r_cases']"
      ]
     },
     "execution_count": 63,
     "metadata": {},
     "output_type": "execute_result"
    }
   ],
   "source": [
    "# Check for unique columns in both datasets (cs & cs_twoyears)\n",
    "list(set(cs).symmetric_difference(set(cs_twoyears)))"
   ]
  },
  {
   "cell_type": "markdown",
   "id": "8a173f17",
   "metadata": {
    "collapsed": true
   },
   "source": [
    "Columns from \"cs\" df:\n",
    "- `num_vr_cases`\n",
    "- `num_r_cases`\n",
    "\n",
    "Columns from \"cs_twoyears\" df:\n",
    "- `end`\n",
    "- `out_custody` \n",
    "- `start`\n",
    "- `cs_twoyears_year_recid`\n",
    "- `in_custody`\n",
    "- `event`\n",
    "- `violent_recid` \n",
    "- `priors_count.1`"
   ]
  },
  {
   "cell_type": "code",
   "execution_count": 71,
   "id": "a8f7109a",
   "metadata": {},
   "outputs": [
    {
     "name": "stdout",
     "output_type": "stream",
     "text": [
      "<class 'pandas.core.frame.DataFrame'>\n",
      "RangeIndex: 11757 entries, 0 to 11756\n",
      "Data columns (total 2 columns):\n",
      " #   Column        Non-Null Count  Dtype  \n",
      "---  ------        --------------  -----  \n",
      " 0   num_vr_cases  0 non-null      float64\n",
      " 1   num_r_cases   0 non-null      float64\n",
      "dtypes: float64(2)\n",
      "memory usage: 183.8 KB\n"
     ]
    }
   ],
   "source": [
    "# Both columns only contain NaN values\n",
    "cs[['num_vr_cases','num_r_cases']].info()"
   ]
  },
  {
   "cell_type": "markdown",
   "id": "04aec180",
   "metadata": {},
   "source": [
    "### Difference between `cs_twoyears` & `cs_twoyears_vio`"
   ]
  },
  {
   "cell_type": "code",
   "execution_count": 62,
   "id": "d78d1f68",
   "metadata": {},
   "outputs": [
    {
     "data": {
      "text/plain": [
       "['two_year_recid.1']"
      ]
     },
     "execution_count": 62,
     "metadata": {},
     "output_type": "execute_result"
    }
   ],
   "source": [
    "# Check for unique columns in both datasets (cs_twoyears & cs_twoyears_vio)\n",
    "list(set(cs_twoyears).symmetric_difference(set(cs_twoyears_vio)))"
   ]
  },
  {
   "cell_type": "markdown",
   "id": "509d3730",
   "metadata": {},
   "source": [
    "## Check for duplicates within the dataframes"
   ]
  },
  {
   "cell_type": "markdown",
   "id": "0fa10498",
   "metadata": {},
   "source": [
    "### `cs`"
   ]
  },
  {
   "cell_type": "code",
   "execution_count": 74,
   "id": "a6c7874f",
   "metadata": {},
   "outputs": [
    {
     "data": {
      "text/plain": [
       "{'decile_score.1', 'num_vr_cases', 'screening_date', 'v_screening_date'}"
      ]
     },
     "execution_count": 74,
     "metadata": {},
     "output_type": "execute_result"
    }
   ],
   "source": [
    "# Cs\n",
    "set(cs.columns)-set(cs.T.drop_duplicates().T.columns)"
   ]
  },
  {
   "cell_type": "markdown",
   "id": "cad04a72",
   "metadata": {},
   "source": [
    "### `cs_twoyears`"
   ]
  },
  {
   "cell_type": "code",
   "execution_count": 73,
   "id": "59542e69",
   "metadata": {},
   "outputs": [
    {
     "data": {
      "text/plain": [
       "{'decile_score.1', 'priors_count.1', 'screening_date', 'v_screening_date'}"
      ]
     },
     "execution_count": 73,
     "metadata": {},
     "output_type": "execute_result"
    }
   ],
   "source": [
    "# cs_twoyears\n",
    "set(cs_twoyears.columns)-set(cs_twoyears.T.drop_duplicates().T.columns)"
   ]
  },
  {
   "cell_type": "markdown",
   "id": "0b531007",
   "metadata": {},
   "source": [
    "### `cs_twoyears_vio`"
   ]
  },
  {
   "cell_type": "code",
   "execution_count": 75,
   "id": "44b1dce8",
   "metadata": {},
   "outputs": [
    {
     "data": {
      "text/plain": [
       "{'decile_score.1',\n",
       " 'priors_count.1',\n",
       " 'screening_date',\n",
       " 'two_year_recid.1',\n",
       " 'v_screening_date'}"
      ]
     },
     "execution_count": 75,
     "metadata": {},
     "output_type": "execute_result"
    }
   ],
   "source": [
    "# cs_twoyears\n",
    "set(cs_twoyears_vio.columns)-set(cs_twoyears_vio.T.drop_duplicates().T.columns)"
   ]
  },
  {
   "cell_type": "code",
   "execution_count": null,
   "id": "4180a7fd",
   "metadata": {},
   "outputs": [],
   "source": []
  }
 ],
 "metadata": {
  "kernelspec": {
   "display_name": "Python 3 (ipykernel)",
   "language": "python",
   "name": "python3"
  },
  "language_info": {
   "codemirror_mode": {
    "name": "ipython",
    "version": 3
   },
   "file_extension": ".py",
   "mimetype": "text/x-python",
   "name": "python",
   "nbconvert_exporter": "python",
   "pygments_lexer": "ipython3",
   "version": "3.8.6"
  },
  "toc": {
   "base_numbering": 1,
   "nav_menu": {},
   "number_sections": true,
   "sideBar": true,
   "skip_h1_title": false,
   "title_cell": "Table of Contents",
   "title_sidebar": "Contents",
   "toc_cell": false,
   "toc_position": {},
   "toc_section_display": true,
   "toc_window_display": false
  }
 },
 "nbformat": 4,
 "nbformat_minor": 5
}
