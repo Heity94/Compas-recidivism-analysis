{
 "cells": [
  {
   "cell_type": "code",
   "execution_count": 186,
   "id": "28cadc61",
   "metadata": {},
   "outputs": [],
   "source": [
    "import numpy as np\n",
    "import pandas as pd\n",
    "import matplotlib.pyplot as plt\n",
    "import seaborn as sns\n",
    "from sklearn.linear_model import LogisticRegression, LinearRegression\n",
    "import statsmodels.formula.api as smf\n",
    "from statsmodels.formula.api import logit\n",
    "from sklearn.metrics import confusion_matrix\n",
    "from sklearn.model_selection import train_test_split, GridSearchCV\n",
    "from sklearn.metrics import mean_squared_error\n",
    "from sklearn.linear_model import LogisticRegression\n",
    "from sklearn.preprocessing import StandardScaler\n",
    "from sklearn.preprocessing import scale\n",
    "import sklearn.linear_model as skl_lm\n",
    "from sklearn.metrics import mean_squared_error, r2_score\n",
    "import statsmodels.api as sm\n",
    "import statsmodels.formula.api as smf\n",
    "from sklearn.model_selection import KFold, cross_val_score, train_test_split\n",
    "from sklearn.preprocessing import PolynomialFeatures\n",
    "from sklearn.model_selection import train_test_split\n",
    "from sklearn.linear_model import LinearRegression\n",
    "from sklearn.model_selection import cross_val_score\n",
    "import datetime\n",
    "from datetime import date\n",
    "import regressor"
   ]
  },
  {
   "cell_type": "code",
   "execution_count": 187,
   "id": "00890d73",
   "metadata": {},
   "outputs": [
    {
     "data": {
      "text/html": [
       "<div>\n",
       "<style scoped>\n",
       "    .dataframe tbody tr th:only-of-type {\n",
       "        vertical-align: middle;\n",
       "    }\n",
       "\n",
       "    .dataframe tbody tr th {\n",
       "        vertical-align: top;\n",
       "    }\n",
       "\n",
       "    .dataframe thead th {\n",
       "        text-align: right;\n",
       "    }\n",
       "</style>\n",
       "<table border=\"1\" class=\"dataframe\">\n",
       "  <thead>\n",
       "    <tr style=\"text-align: right;\">\n",
       "      <th></th>\n",
       "      <th>id</th>\n",
       "      <th>name</th>\n",
       "      <th>first</th>\n",
       "      <th>last</th>\n",
       "      <th>compas_screening_date</th>\n",
       "      <th>sex</th>\n",
       "      <th>dob</th>\n",
       "      <th>age</th>\n",
       "      <th>age_cat</th>\n",
       "      <th>race</th>\n",
       "      <th>...</th>\n",
       "      <th>score_text</th>\n",
       "      <th>v_type_of_assessment</th>\n",
       "      <th>v_decile_score</th>\n",
       "      <th>v_score_text</th>\n",
       "      <th>in_custody</th>\n",
       "      <th>out_custody</th>\n",
       "      <th>start</th>\n",
       "      <th>end</th>\n",
       "      <th>event</th>\n",
       "      <th>two_year_recid</th>\n",
       "    </tr>\n",
       "  </thead>\n",
       "  <tbody>\n",
       "    <tr>\n",
       "      <th>0</th>\n",
       "      <td>1</td>\n",
       "      <td>miguel hernandez</td>\n",
       "      <td>miguel</td>\n",
       "      <td>hernandez</td>\n",
       "      <td>2013-08-14</td>\n",
       "      <td>Male</td>\n",
       "      <td>1947-04-18</td>\n",
       "      <td>69</td>\n",
       "      <td>Greater than 45</td>\n",
       "      <td>Other</td>\n",
       "      <td>...</td>\n",
       "      <td>Low</td>\n",
       "      <td>Risk of Violence</td>\n",
       "      <td>1</td>\n",
       "      <td>Low</td>\n",
       "      <td>2014-07-07</td>\n",
       "      <td>2014-07-14</td>\n",
       "      <td>0</td>\n",
       "      <td>327</td>\n",
       "      <td>0</td>\n",
       "      <td>0</td>\n",
       "    </tr>\n",
       "    <tr>\n",
       "      <th>1</th>\n",
       "      <td>3</td>\n",
       "      <td>kevon dixon</td>\n",
       "      <td>kevon</td>\n",
       "      <td>dixon</td>\n",
       "      <td>2013-01-27</td>\n",
       "      <td>Male</td>\n",
       "      <td>1982-01-22</td>\n",
       "      <td>34</td>\n",
       "      <td>25 - 45</td>\n",
       "      <td>African-American</td>\n",
       "      <td>...</td>\n",
       "      <td>Low</td>\n",
       "      <td>Risk of Violence</td>\n",
       "      <td>1</td>\n",
       "      <td>Low</td>\n",
       "      <td>2013-01-26</td>\n",
       "      <td>2013-02-05</td>\n",
       "      <td>9</td>\n",
       "      <td>159</td>\n",
       "      <td>1</td>\n",
       "      <td>1</td>\n",
       "    </tr>\n",
       "    <tr>\n",
       "      <th>2</th>\n",
       "      <td>4</td>\n",
       "      <td>ed philo</td>\n",
       "      <td>ed</td>\n",
       "      <td>philo</td>\n",
       "      <td>2013-04-14</td>\n",
       "      <td>Male</td>\n",
       "      <td>1991-05-14</td>\n",
       "      <td>24</td>\n",
       "      <td>Less than 25</td>\n",
       "      <td>African-American</td>\n",
       "      <td>...</td>\n",
       "      <td>Low</td>\n",
       "      <td>Risk of Violence</td>\n",
       "      <td>3</td>\n",
       "      <td>Low</td>\n",
       "      <td>2013-06-16</td>\n",
       "      <td>2013-06-16</td>\n",
       "      <td>0</td>\n",
       "      <td>63</td>\n",
       "      <td>0</td>\n",
       "      <td>1</td>\n",
       "    </tr>\n",
       "    <tr>\n",
       "      <th>3</th>\n",
       "      <td>5</td>\n",
       "      <td>marcu brown</td>\n",
       "      <td>marcu</td>\n",
       "      <td>brown</td>\n",
       "      <td>2013-01-13</td>\n",
       "      <td>Male</td>\n",
       "      <td>1993-01-21</td>\n",
       "      <td>23</td>\n",
       "      <td>Less than 25</td>\n",
       "      <td>African-American</td>\n",
       "      <td>...</td>\n",
       "      <td>High</td>\n",
       "      <td>Risk of Violence</td>\n",
       "      <td>6</td>\n",
       "      <td>Medium</td>\n",
       "      <td>NaN</td>\n",
       "      <td>NaN</td>\n",
       "      <td>0</td>\n",
       "      <td>1174</td>\n",
       "      <td>0</td>\n",
       "      <td>0</td>\n",
       "    </tr>\n",
       "    <tr>\n",
       "      <th>4</th>\n",
       "      <td>6</td>\n",
       "      <td>bouthy pierrelouis</td>\n",
       "      <td>bouthy</td>\n",
       "      <td>pierrelouis</td>\n",
       "      <td>2013-03-26</td>\n",
       "      <td>Male</td>\n",
       "      <td>1973-01-22</td>\n",
       "      <td>43</td>\n",
       "      <td>25 - 45</td>\n",
       "      <td>Other</td>\n",
       "      <td>...</td>\n",
       "      <td>Low</td>\n",
       "      <td>Risk of Violence</td>\n",
       "      <td>1</td>\n",
       "      <td>Low</td>\n",
       "      <td>NaN</td>\n",
       "      <td>NaN</td>\n",
       "      <td>0</td>\n",
       "      <td>1102</td>\n",
       "      <td>0</td>\n",
       "      <td>0</td>\n",
       "    </tr>\n",
       "    <tr>\n",
       "      <th>...</th>\n",
       "      <td>...</td>\n",
       "      <td>...</td>\n",
       "      <td>...</td>\n",
       "      <td>...</td>\n",
       "      <td>...</td>\n",
       "      <td>...</td>\n",
       "      <td>...</td>\n",
       "      <td>...</td>\n",
       "      <td>...</td>\n",
       "      <td>...</td>\n",
       "      <td>...</td>\n",
       "      <td>...</td>\n",
       "      <td>...</td>\n",
       "      <td>...</td>\n",
       "      <td>...</td>\n",
       "      <td>...</td>\n",
       "      <td>...</td>\n",
       "      <td>...</td>\n",
       "      <td>...</td>\n",
       "      <td>...</td>\n",
       "      <td>...</td>\n",
       "    </tr>\n",
       "    <tr>\n",
       "      <th>6211</th>\n",
       "      <td>10995</td>\n",
       "      <td>raheem smith</td>\n",
       "      <td>raheem</td>\n",
       "      <td>smith</td>\n",
       "      <td>2013-10-20</td>\n",
       "      <td>Male</td>\n",
       "      <td>1995-06-28</td>\n",
       "      <td>20</td>\n",
       "      <td>Less than 25</td>\n",
       "      <td>African-American</td>\n",
       "      <td>...</td>\n",
       "      <td>High</td>\n",
       "      <td>Risk of Violence</td>\n",
       "      <td>9</td>\n",
       "      <td>High</td>\n",
       "      <td>2014-04-07</td>\n",
       "      <td>2014-04-27</td>\n",
       "      <td>0</td>\n",
       "      <td>169</td>\n",
       "      <td>0</td>\n",
       "      <td>0</td>\n",
       "    </tr>\n",
       "    <tr>\n",
       "      <th>6212</th>\n",
       "      <td>10996</td>\n",
       "      <td>steven butler</td>\n",
       "      <td>steven</td>\n",
       "      <td>butler</td>\n",
       "      <td>2013-11-23</td>\n",
       "      <td>Male</td>\n",
       "      <td>1992-07-17</td>\n",
       "      <td>23</td>\n",
       "      <td>Less than 25</td>\n",
       "      <td>African-American</td>\n",
       "      <td>...</td>\n",
       "      <td>Medium</td>\n",
       "      <td>Risk of Violence</td>\n",
       "      <td>5</td>\n",
       "      <td>Medium</td>\n",
       "      <td>2013-11-22</td>\n",
       "      <td>2013-11-24</td>\n",
       "      <td>1</td>\n",
       "      <td>860</td>\n",
       "      <td>0</td>\n",
       "      <td>0</td>\n",
       "    </tr>\n",
       "    <tr>\n",
       "      <th>6213</th>\n",
       "      <td>10997</td>\n",
       "      <td>malcolm simmons</td>\n",
       "      <td>malcolm</td>\n",
       "      <td>simmons</td>\n",
       "      <td>2014-02-01</td>\n",
       "      <td>Male</td>\n",
       "      <td>1993-03-25</td>\n",
       "      <td>23</td>\n",
       "      <td>Less than 25</td>\n",
       "      <td>African-American</td>\n",
       "      <td>...</td>\n",
       "      <td>Low</td>\n",
       "      <td>Risk of Violence</td>\n",
       "      <td>5</td>\n",
       "      <td>Medium</td>\n",
       "      <td>2014-01-31</td>\n",
       "      <td>2014-02-02</td>\n",
       "      <td>1</td>\n",
       "      <td>790</td>\n",
       "      <td>0</td>\n",
       "      <td>0</td>\n",
       "    </tr>\n",
       "    <tr>\n",
       "      <th>6214</th>\n",
       "      <td>10999</td>\n",
       "      <td>winston gregory</td>\n",
       "      <td>winston</td>\n",
       "      <td>gregory</td>\n",
       "      <td>2014-01-14</td>\n",
       "      <td>Male</td>\n",
       "      <td>1958-10-01</td>\n",
       "      <td>57</td>\n",
       "      <td>Greater than 45</td>\n",
       "      <td>Other</td>\n",
       "      <td>...</td>\n",
       "      <td>Low</td>\n",
       "      <td>Risk of Violence</td>\n",
       "      <td>1</td>\n",
       "      <td>Low</td>\n",
       "      <td>2014-01-13</td>\n",
       "      <td>2014-01-14</td>\n",
       "      <td>0</td>\n",
       "      <td>808</td>\n",
       "      <td>0</td>\n",
       "      <td>0</td>\n",
       "    </tr>\n",
       "    <tr>\n",
       "      <th>6215</th>\n",
       "      <td>11000</td>\n",
       "      <td>farrah jean</td>\n",
       "      <td>farrah</td>\n",
       "      <td>jean</td>\n",
       "      <td>2014-03-09</td>\n",
       "      <td>Female</td>\n",
       "      <td>1982-11-17</td>\n",
       "      <td>33</td>\n",
       "      <td>25 - 45</td>\n",
       "      <td>African-American</td>\n",
       "      <td>...</td>\n",
       "      <td>Low</td>\n",
       "      <td>Risk of Violence</td>\n",
       "      <td>2</td>\n",
       "      <td>Low</td>\n",
       "      <td>2014-03-08</td>\n",
       "      <td>2014-03-09</td>\n",
       "      <td>0</td>\n",
       "      <td>754</td>\n",
       "      <td>0</td>\n",
       "      <td>0</td>\n",
       "    </tr>\n",
       "  </tbody>\n",
       "</table>\n",
       "<p>6216 rows × 49 columns</p>\n",
       "</div>"
      ],
      "text/plain": [
       "         id                name    first         last compas_screening_date  \\\n",
       "0         1    miguel hernandez   miguel    hernandez            2013-08-14   \n",
       "1         3         kevon dixon    kevon        dixon            2013-01-27   \n",
       "2         4            ed philo       ed        philo            2013-04-14   \n",
       "3         5         marcu brown    marcu        brown            2013-01-13   \n",
       "4         6  bouthy pierrelouis   bouthy  pierrelouis            2013-03-26   \n",
       "...     ...                 ...      ...          ...                   ...   \n",
       "6211  10995        raheem smith   raheem        smith            2013-10-20   \n",
       "6212  10996       steven butler   steven       butler            2013-11-23   \n",
       "6213  10997     malcolm simmons  malcolm      simmons            2014-02-01   \n",
       "6214  10999     winston gregory  winston      gregory            2014-01-14   \n",
       "6215  11000         farrah jean   farrah         jean            2014-03-09   \n",
       "\n",
       "         sex         dob  age          age_cat              race  ...  \\\n",
       "0       Male  1947-04-18   69  Greater than 45             Other  ...   \n",
       "1       Male  1982-01-22   34          25 - 45  African-American  ...   \n",
       "2       Male  1991-05-14   24     Less than 25  African-American  ...   \n",
       "3       Male  1993-01-21   23     Less than 25  African-American  ...   \n",
       "4       Male  1973-01-22   43          25 - 45             Other  ...   \n",
       "...      ...         ...  ...              ...               ...  ...   \n",
       "6211    Male  1995-06-28   20     Less than 25  African-American  ...   \n",
       "6212    Male  1992-07-17   23     Less than 25  African-American  ...   \n",
       "6213    Male  1993-03-25   23     Less than 25  African-American  ...   \n",
       "6214    Male  1958-10-01   57  Greater than 45             Other  ...   \n",
       "6215  Female  1982-11-17   33          25 - 45  African-American  ...   \n",
       "\n",
       "      score_text  v_type_of_assessment  v_decile_score  v_score_text  \\\n",
       "0            Low      Risk of Violence               1           Low   \n",
       "1            Low      Risk of Violence               1           Low   \n",
       "2            Low      Risk of Violence               3           Low   \n",
       "3           High      Risk of Violence               6        Medium   \n",
       "4            Low      Risk of Violence               1           Low   \n",
       "...          ...                   ...             ...           ...   \n",
       "6211        High      Risk of Violence               9          High   \n",
       "6212      Medium      Risk of Violence               5        Medium   \n",
       "6213         Low      Risk of Violence               5        Medium   \n",
       "6214         Low      Risk of Violence               1           Low   \n",
       "6215         Low      Risk of Violence               2           Low   \n",
       "\n",
       "      in_custody  out_custody start   end event two_year_recid  \n",
       "0     2014-07-07   2014-07-14     0   327     0              0  \n",
       "1     2013-01-26   2013-02-05     9   159     1              1  \n",
       "2     2013-06-16   2013-06-16     0    63     0              1  \n",
       "3            NaN          NaN     0  1174     0              0  \n",
       "4            NaN          NaN     0  1102     0              0  \n",
       "...          ...          ...   ...   ...   ...            ...  \n",
       "6211  2014-04-07   2014-04-27     0   169     0              0  \n",
       "6212  2013-11-22   2013-11-24     1   860     0              0  \n",
       "6213  2014-01-31   2014-02-02     1   790     0              0  \n",
       "6214  2014-01-13   2014-01-14     0   808     0              0  \n",
       "6215  2014-03-08   2014-03-09     0   754     0              0  \n",
       "\n",
       "[6216 rows x 49 columns]"
      ]
     },
     "execution_count": 187,
     "metadata": {},
     "output_type": "execute_result"
    }
   ],
   "source": [
    "df = pd.read_csv(\"/Users/lilitharutyunyan/Documents/GitHub/Compas-recidivism-analysis/data-cleaned/compas-scores-two-years-clean.csv\", parse_dates=[\"c_jail_in\", \"c_jail_out\"])\n",
    "df"
   ]
  },
  {
   "cell_type": "code",
   "execution_count": 188,
   "id": "d185559f",
   "metadata": {},
   "outputs": [
    {
     "data": {
      "text/plain": [
       "Index(['id', 'name', 'first', 'last', 'compas_screening_date', 'sex', 'dob',\n",
       "       'age', 'age_cat', 'race', 'juv_fel_count', 'decile_score',\n",
       "       'juv_misd_count', 'juv_other_count', 'priors_count',\n",
       "       'days_b_screening_arrest', 'c_jail_in', 'c_jail_out', 'c_case_number',\n",
       "       'c_offense_date', 'c_arrest_date', 'c_days_from_compas',\n",
       "       'c_charge_degree', 'c_charge_desc', 'is_recid', 'r_case_number',\n",
       "       'r_charge_degree', 'r_days_from_arrest', 'r_offense_date',\n",
       "       'r_charge_desc', 'r_jail_in', 'r_jail_out', 'violent_recid',\n",
       "       'is_violent_recid', 'vr_case_number', 'vr_charge_degree',\n",
       "       'vr_offense_date', 'vr_charge_desc', 'type_of_assessment', 'score_text',\n",
       "       'v_type_of_assessment', 'v_decile_score', 'v_score_text', 'in_custody',\n",
       "       'out_custody', 'start', 'end', 'event', 'two_year_recid'],\n",
       "      dtype='object')"
      ]
     },
     "execution_count": 188,
     "metadata": {},
     "output_type": "execute_result"
    }
   ],
   "source": [
    "df.columns"
   ]
  },
  {
   "cell_type": "code",
   "execution_count": 189,
   "id": "e641beac",
   "metadata": {},
   "outputs": [],
   "source": [
    "#df['Date_of_Jail_In'] = pd.to_datetime(df['c_jail_in']).dt.date\n",
    "#df['Time_of_Jail_In'] = pd.to_datetime(df['c_jail_in']).dt.time"
   ]
  },
  {
   "cell_type": "code",
   "execution_count": 190,
   "id": "2ed23a08",
   "metadata": {},
   "outputs": [],
   "source": [
    "#df['Date_of_Jail_Out'] = pd.to_datetime(df['c_jail_out']).dt.date\n",
    "#df['Time_of_Jail_Out'] = pd.to_datetime(df['c_jail_out']).dt.time"
   ]
  },
  {
   "cell_type": "code",
   "execution_count": 191,
   "id": "5c19730a",
   "metadata": {},
   "outputs": [],
   "source": [
    "#strftime(df[['Date_of_Jail_In']])"
   ]
  },
  {
   "cell_type": "code",
   "execution_count": 192,
   "id": "a636e1d2",
   "metadata": {},
   "outputs": [],
   "source": [
    "#df[\"age_at_arrest\"]=df[\"Date_of_Jail_In\"]-df[\"dob\"]"
   ]
  },
  {
   "cell_type": "code",
   "execution_count": 193,
   "id": "821cc241",
   "metadata": {},
   "outputs": [],
   "source": [
    "df['days_in_jail']=df['c_jail_out']-df['c_jail_in']\n",
    "df['days_in_jail'] =df['days_in_jail'].astype('category').cat.codes"
   ]
  },
  {
   "cell_type": "code",
   "execution_count": 194,
   "id": "20d39f0e",
   "metadata": {},
   "outputs": [],
   "source": [
    "features = pd.concat([df.age,\n",
    "                    pd.get_dummies(df.sex, prefix='sex',drop_first=True),\n",
    "                    pd.get_dummies(df.race, prefix='race',drop_first=True),  \n",
    "                    pd.get_dummies(df.c_charge_degree, prefix='degree',drop_first=True), # felony or misdemeanor charge ('f' or 'm')\n",
    "                    df.priors_count,\n",
    "                    df.days_in_jail,\n",
    "                    df.is_recid,\n",
    "                    df.event,\n",
    "                    df.end],\n",
    "                    axis=1)\n",
    "\n",
    "target = df.decile_score"
   ]
  },
  {
   "cell_type": "code",
   "execution_count": 195,
   "id": "347dcf3f",
   "metadata": {},
   "outputs": [],
   "source": [
    "x = features.values\n",
    "y=target.values\n",
    "X_train, X_test, y_train, y_test = train_test_split(x,y, test_size=0.33, random_state=42)"
   ]
  },
  {
   "cell_type": "code",
   "execution_count": 196,
   "id": "2429fb11",
   "metadata": {},
   "outputs": [],
   "source": [
    "linearreg = LinearRegression()\n",
    "linearreg.fit(X_train,y_train)\n",
    "y_pred = linearreg.predict(X_test)"
   ]
  },
  {
   "cell_type": "code",
   "execution_count": 197,
   "id": "e8a7887b",
   "metadata": {},
   "outputs": [
    {
     "data": {
      "text/plain": [
       "0.45885281077761364"
      ]
     },
     "execution_count": 197,
     "metadata": {},
     "output_type": "execute_result"
    }
   ],
   "source": [
    "r2_score(y_test, y_pred)"
   ]
  },
  {
   "cell_type": "code",
   "execution_count": 198,
   "id": "819aaf23",
   "metadata": {},
   "outputs": [],
   "source": [
    "from sklearn.preprocessing import StandardScaler\n",
    "sc_X = StandardScaler()\n",
    "X_train= sc_X.fit_transform(X_train)\n",
    "X_test= sc_X.fit_transform(X_test)"
   ]
  },
  {
   "cell_type": "code",
   "execution_count": 203,
   "id": "6c808894",
   "metadata": {},
   "outputs": [
    {
     "name": "stdout",
     "output_type": "stream",
     "text": [
      "[9.1721328  5.06498528 9.55305108 ... 7.77677281 6.34247202 7.47210565]\n"
     ]
    }
   ],
   "source": [
    "logisticregression = LogisticRegression()\n",
    "logisticregression.fit(X_train,y_train)\n",
    "y_pred = linearreg.predict(X_test)\n",
    "print(y_pred)"
   ]
  },
  {
   "cell_type": "code",
   "execution_count": 204,
   "id": "330cbb45",
   "metadata": {},
   "outputs": [
    {
     "data": {
      "text/plain": [
       "-1.195334390562127"
      ]
     },
     "execution_count": 204,
     "metadata": {},
     "output_type": "execute_result"
    }
   ],
   "source": [
    "r2_score(y_test, y_pred)"
   ]
  },
  {
   "cell_type": "code",
   "execution_count": 205,
   "id": "4ad8427e",
   "metadata": {},
   "outputs": [],
   "source": [
    "features_new = pd.concat([df.age,\n",
    "                    pd.get_dummies(df.sex, prefix='sex',drop_first=True),\n",
    "                    pd.get_dummies(df.race, prefix='race',drop_first=True),  \n",
    "                    pd.get_dummies(df.c_charge_degree, prefix='degree',drop_first=True), # felony or misdemeanor charge ('f' or 'm')\n",
    "                    df.priors_count,\n",
    "                    df.days_in_jail,\n",
    "                    df.is_recid,\n",
    "                    df.event,\n",
    "                    df.end,\n",
    "                    df.decile_score],\n",
    "                    axis=1)\n",
    "\n",
    "target_new = df.two_year_recid"
   ]
  },
  {
   "cell_type": "code",
   "execution_count": 206,
   "id": "3ca30ff9",
   "metadata": {},
   "outputs": [],
   "source": [
    "x_new = features_new.values\n",
    "y_new=target_new.values\n",
    "X_train_new, X_test_new, y_train_new, y_test_new = train_test_split(x_new,y_new, test_size=0.33, random_state=42)"
   ]
  },
  {
   "cell_type": "code",
   "execution_count": 207,
   "id": "aba23916",
   "metadata": {},
   "outputs": [],
   "source": [
    "linearreg = LinearRegression()\n",
    "linearreg.fit(X_train_new,y_train_new)\n",
    "y_pred_new = linearreg.predict(X_test_new)"
   ]
  },
  {
   "cell_type": "code",
   "execution_count": 208,
   "id": "80e1f326",
   "metadata": {},
   "outputs": [
    {
     "data": {
      "text/plain": [
       "0.869954064709805"
      ]
     },
     "execution_count": 208,
     "metadata": {},
     "output_type": "execute_result"
    }
   ],
   "source": [
    "r2_score(y_test_new, y_pred_new)"
   ]
  },
  {
   "cell_type": "code",
   "execution_count": 184,
   "id": "15ab5d7b",
   "metadata": {},
   "outputs": [
    {
     "name": "stdout",
     "output_type": "stream",
     "text": [
      "{'alpha': 0.1}\n",
      "Training Score: 0.5499450649494468\n",
      "Test Score: 0.5608608793641896\n"
     ]
    }
   ],
   "source": [
    "# optimal parameter\n",
    "\n",
    "from sklearn.linear_model import Lasso\n",
    "from sklearn.model_selection import GridSearchCV\n",
    "\n",
    "param_grid = {'alpha':np.arange(0.1,1,0.05)}\n",
    "\n",
    "lasso = Lasso()\n",
    "\n",
    "lasso_cv = GridSearchCV(lasso, param_grid, cv = 5)\n",
    "\n",
    "lasso_cv.fit(X_train_new, y_train_new)\n",
    "print(lasso_cv.best_params_)\n",
    "\n",
    "print('Training Score:', lasso_cv.score(X_train_new, y_train_new))\n",
    "print('Test Score:', lasso_cv.score(X_test_new, y_test_new))"
   ]
  },
  {
   "cell_type": "code",
   "execution_count": 211,
   "id": "dff5f9dc",
   "metadata": {},
   "outputs": [
    {
     "data": {
      "text/plain": [
       "-1.1569401601629892e-05"
      ]
     },
     "execution_count": 211,
     "metadata": {},
     "output_type": "execute_result"
    }
   ],
   "source": [
    "lasso = Lasso(alpha=0.1, normalize=True)\n",
    "lasso.fit(X_train_new, y_train_new)\n",
    "lasso_pred = lasso.predict(X_test_new)\n",
    "#Returns the coefficient of determination R^2 of the prediction.\n",
    "lasso.score(X_test_new, y_test_new)\n",
    "r2_score(y_test_new, lasso_pred)"
   ]
  },
  {
   "cell_type": "code",
   "execution_count": 212,
   "id": "655df919",
   "metadata": {},
   "outputs": [],
   "source": [
    "###smth wrong with the code, doesn't change"
   ]
  },
  {
   "cell_type": "code",
   "execution_count": 213,
   "id": "45a397b7",
   "metadata": {},
   "outputs": [
    {
     "data": {
      "text/plain": [
       "Pipeline(steps=[('polynomialfeatures', PolynomialFeatures(degree=5)),\n",
       "                ('linearregression', LinearRegression())])"
      ]
     },
     "execution_count": 213,
     "metadata": {},
     "output_type": "execute_result"
    }
   ],
   "source": [
    "from sklearn.preprocessing import PolynomialFeatures\n",
    "from sklearn.pipeline import make_pipeline\n",
    "from sklearn.linear_model import LinearRegression\n",
    "from sklearn import preprocessing\n",
    "\n",
    "degree=5\n",
    "polyreg_scaled=make_pipeline(PolynomialFeatures(degree),LinearRegression())\n",
    "polyreg_scaled.fit(X_train_new,y_train_new)"
   ]
  },
  {
   "cell_type": "code",
   "execution_count": 215,
   "id": "b4163d65",
   "metadata": {},
   "outputs": [
    {
     "data": {
      "text/plain": [
       "0.869954064709805"
      ]
     },
     "execution_count": 215,
     "metadata": {},
     "output_type": "execute_result"
    }
   ],
   "source": [
    "y_pred_new = linearreg.predict(X_test_new)\n",
    "r2_score(y_test_new, y_pred_new)"
   ]
  },
  {
   "cell_type": "code",
   "execution_count": null,
   "id": "bc9e0965",
   "metadata": {},
   "outputs": [],
   "source": []
  },
  {
   "cell_type": "code",
   "execution_count": null,
   "id": "fa4a8834",
   "metadata": {},
   "outputs": [],
   "source": []
  },
  {
   "cell_type": "code",
   "execution_count": null,
   "id": "9d2ef8e1",
   "metadata": {},
   "outputs": [],
   "source": []
  },
  {
   "cell_type": "code",
   "execution_count": null,
   "id": "b8b4a9fc",
   "metadata": {},
   "outputs": [],
   "source": []
  },
  {
   "cell_type": "code",
   "execution_count": null,
   "id": "db873bbc",
   "metadata": {},
   "outputs": [],
   "source": []
  },
  {
   "cell_type": "markdown",
   "id": "6b71e095",
   "metadata": {},
   "source": [
    "# Logistic regression is a more appropriate technique (than standard multiple linear regression) for estimating the partial and complete associations among a set of predictors and a dichotomous outcome variable.\n",
    " *Employing a logistic transformation assures that the predicted values do not fall outside the bounds of the outcome variable (in this case “0” and “1”). "
   ]
  },
  {
   "cell_type": "code",
   "execution_count": 173,
   "id": "5438f368",
   "metadata": {},
   "outputs": [],
   "source": [
    "features_log = pd.concat([df.age,\n",
    "                    pd.get_dummies(df.sex, prefix='sex',drop_first=True),\n",
    "                    pd.get_dummies(df.race, prefix='race',drop_first=True),  \n",
    "                    pd.get_dummies(df.c_charge_degree, prefix='degree',drop_first=True), # felony or misdemeanor charge ('f' or 'm')\n",
    "                    df.priors_count,\n",
    "                    df.days_in_jail,\n",
    "                    df.is_recid,\n",
    "                    df.event,\n",
    "                    df.end,\n",
    "                    df.decile_score\n",
    "                    ],\n",
    "                    axis=1)\n",
    "\n",
    "target_log = df.two_year_recid"
   ]
  },
  {
   "cell_type": "code",
   "execution_count": 176,
   "id": "964e2cbc",
   "metadata": {},
   "outputs": [],
   "source": [
    "x_log = features_log.values\n",
    "y_log=target_log.values\n",
    "X_train_log, X_test_log, y_train_log, y_test_log = train_test_split(x_log,y_log, test_size=0.33, random_state=42)"
   ]
  },
  {
   "cell_type": "code",
   "execution_count": 182,
   "id": "d055d6ac",
   "metadata": {},
   "outputs": [
    {
     "name": "stdout",
     "output_type": "stream",
     "text": [
      "[[7.07491951e-03 9.92925080e-01]\n",
      " [9.99980708e-01 1.92918035e-05]\n",
      " [2.12654742e-02 9.78734526e-01]\n",
      " ...\n",
      " [5.60793398e-03 9.94392066e-01]\n",
      " [9.99995207e-01 4.79254013e-06]\n",
      " [3.73510201e-01 6.26489799e-01]]\n"
     ]
    },
    {
     "name": "stderr",
     "output_type": "stream",
     "text": [
      "/opt/anaconda3/lib/python3.8/site-packages/sklearn/linear_model/_logistic.py:763: ConvergenceWarning: lbfgs failed to converge (status=1):\n",
      "STOP: TOTAL NO. of ITERATIONS REACHED LIMIT.\n",
      "\n",
      "Increase the number of iterations (max_iter) or scale the data as shown in:\n",
      "    https://scikit-learn.org/stable/modules/preprocessing.html\n",
      "Please also refer to the documentation for alternative solver options:\n",
      "    https://scikit-learn.org/stable/modules/linear_model.html#logistic-regression\n",
      "  n_iter_i = _check_optimize_result(\n"
     ]
    }
   ],
   "source": [
    "from sklearn.linear_model import LogisticRegression\n",
    "logisticregression = LogisticRegression()\n",
    "logisticregression.fit(X_train_log,y_train_log)\n",
    "proba = logisticregression.predict_proba(X_test_log)\n",
    "print(proba)"
   ]
  },
  {
   "cell_type": "code",
   "execution_count": 183,
   "id": "e663fcc9",
   "metadata": {},
   "outputs": [
    {
     "data": {
      "text/plain": [
       "0.869954064709805"
      ]
     },
     "execution_count": 183,
     "metadata": {},
     "output_type": "execute_result"
    }
   ],
   "source": [
    "r2_score(y_test_log, y_pred_log)"
   ]
  },
  {
   "cell_type": "code",
   "execution_count": null,
   "id": "e01edc6d",
   "metadata": {},
   "outputs": [],
   "source": []
  },
  {
   "cell_type": "code",
   "execution_count": null,
   "id": "5bc11696",
   "metadata": {},
   "outputs": [],
   "source": []
  }
 ],
 "metadata": {
  "kernelspec": {
   "display_name": "Python 3",
   "language": "python",
   "name": "python3"
  },
  "language_info": {
   "codemirror_mode": {
    "name": "ipython",
    "version": 3
   },
   "file_extension": ".py",
   "mimetype": "text/x-python",
   "name": "python",
   "nbconvert_exporter": "python",
   "pygments_lexer": "ipython3",
   "version": "3.8.8"
  }
 },
 "nbformat": 4,
 "nbformat_minor": 5
}
