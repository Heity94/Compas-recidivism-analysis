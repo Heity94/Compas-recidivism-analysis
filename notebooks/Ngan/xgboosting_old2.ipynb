{
 "cells": [
  {
   "cell_type": "code",
   "execution_count": 78,
   "metadata": {},
   "outputs": [],
   "source": [
    "from category_encoders.one_hot import OneHotEncoder\n",
    "from sklearn.model_selection import train_test_split\n",
    "from sklearn.preprocessing import StandardScaler, MinMaxScaler\n",
    "#from sklearn.compose import ColumnTransformer\n",
    "#from sklearn.pipeline import Pipeline\n",
    "\n",
    "import pandas as pd\n",
    "import numpy as np\n",
    "import matplotlib.pyplot as plt\n",
    "import seaborn as sns\n",
    "from pandas.plotting import scatter_matrix\n",
    "from sklearn import metrics\n",
    "#from sklearn.tree import DecisionTreeClassifier, DecisionTreeRegressor\n",
    "from sklearn.metrics import mean_squared_error, r2_score, roc_auc_score\n",
    "import xgboost as xgb\n",
    "from xgboost import XGBRegressor, XGBClassifier\n",
    "import dalex as dx #explainer for our model\n",
    "from sklearn.model_selection import GridSearchCV, RandomizedSearchCV   #Perforing grid search\n",
    "\n"
   ]
  },
  {
   "cell_type": "markdown",
   "metadata": {},
   "source": [
    "# Data Engineering"
   ]
  },
  {
   "cell_type": "code",
   "execution_count": 2,
   "metadata": {},
   "outputs": [
    {
     "data": {
      "text/html": [
       "<div>\n",
       "<style scoped>\n",
       "    .dataframe tbody tr th:only-of-type {\n",
       "        vertical-align: middle;\n",
       "    }\n",
       "\n",
       "    .dataframe tbody tr th {\n",
       "        vertical-align: top;\n",
       "    }\n",
       "\n",
       "    .dataframe thead th {\n",
       "        text-align: right;\n",
       "    }\n",
       "</style>\n",
       "<table border=\"1\" class=\"dataframe\">\n",
       "  <thead>\n",
       "    <tr style=\"text-align: right;\">\n",
       "      <th></th>\n",
       "      <th>id</th>\n",
       "      <th>name</th>\n",
       "      <th>first</th>\n",
       "      <th>last</th>\n",
       "      <th>compas_screening_date</th>\n",
       "      <th>sex</th>\n",
       "      <th>dob</th>\n",
       "      <th>age</th>\n",
       "      <th>age_cat</th>\n",
       "      <th>race</th>\n",
       "      <th>...</th>\n",
       "      <th>score_text</th>\n",
       "      <th>v_type_of_assessment</th>\n",
       "      <th>v_decile_score</th>\n",
       "      <th>v_score_text</th>\n",
       "      <th>in_custody</th>\n",
       "      <th>out_custody</th>\n",
       "      <th>start</th>\n",
       "      <th>end</th>\n",
       "      <th>event</th>\n",
       "      <th>two_year_recid</th>\n",
       "    </tr>\n",
       "  </thead>\n",
       "  <tbody>\n",
       "    <tr>\n",
       "      <th>0</th>\n",
       "      <td>1</td>\n",
       "      <td>miguel hernandez</td>\n",
       "      <td>miguel</td>\n",
       "      <td>hernandez</td>\n",
       "      <td>2013-08-14</td>\n",
       "      <td>Male</td>\n",
       "      <td>1947-04-18</td>\n",
       "      <td>69</td>\n",
       "      <td>Greater than 45</td>\n",
       "      <td>Other</td>\n",
       "      <td>...</td>\n",
       "      <td>Low</td>\n",
       "      <td>Risk of Violence</td>\n",
       "      <td>1</td>\n",
       "      <td>Low</td>\n",
       "      <td>2014-07-07</td>\n",
       "      <td>2014-07-14</td>\n",
       "      <td>0</td>\n",
       "      <td>327</td>\n",
       "      <td>0</td>\n",
       "      <td>0</td>\n",
       "    </tr>\n",
       "    <tr>\n",
       "      <th>1</th>\n",
       "      <td>3</td>\n",
       "      <td>kevon dixon</td>\n",
       "      <td>kevon</td>\n",
       "      <td>dixon</td>\n",
       "      <td>2013-01-27</td>\n",
       "      <td>Male</td>\n",
       "      <td>1982-01-22</td>\n",
       "      <td>34</td>\n",
       "      <td>25 - 45</td>\n",
       "      <td>African-American</td>\n",
       "      <td>...</td>\n",
       "      <td>Low</td>\n",
       "      <td>Risk of Violence</td>\n",
       "      <td>1</td>\n",
       "      <td>Low</td>\n",
       "      <td>2013-01-26</td>\n",
       "      <td>2013-02-05</td>\n",
       "      <td>9</td>\n",
       "      <td>159</td>\n",
       "      <td>1</td>\n",
       "      <td>1</td>\n",
       "    </tr>\n",
       "    <tr>\n",
       "      <th>2</th>\n",
       "      <td>4</td>\n",
       "      <td>ed philo</td>\n",
       "      <td>ed</td>\n",
       "      <td>philo</td>\n",
       "      <td>2013-04-14</td>\n",
       "      <td>Male</td>\n",
       "      <td>1991-05-14</td>\n",
       "      <td>24</td>\n",
       "      <td>Less than 25</td>\n",
       "      <td>African-American</td>\n",
       "      <td>...</td>\n",
       "      <td>Low</td>\n",
       "      <td>Risk of Violence</td>\n",
       "      <td>3</td>\n",
       "      <td>Low</td>\n",
       "      <td>2013-06-16</td>\n",
       "      <td>2013-06-16</td>\n",
       "      <td>0</td>\n",
       "      <td>63</td>\n",
       "      <td>0</td>\n",
       "      <td>1</td>\n",
       "    </tr>\n",
       "    <tr>\n",
       "      <th>3</th>\n",
       "      <td>5</td>\n",
       "      <td>marcu brown</td>\n",
       "      <td>marcu</td>\n",
       "      <td>brown</td>\n",
       "      <td>2013-01-13</td>\n",
       "      <td>Male</td>\n",
       "      <td>1993-01-21</td>\n",
       "      <td>23</td>\n",
       "      <td>Less than 25</td>\n",
       "      <td>African-American</td>\n",
       "      <td>...</td>\n",
       "      <td>High</td>\n",
       "      <td>Risk of Violence</td>\n",
       "      <td>6</td>\n",
       "      <td>Medium</td>\n",
       "      <td>NaN</td>\n",
       "      <td>NaN</td>\n",
       "      <td>0</td>\n",
       "      <td>1174</td>\n",
       "      <td>0</td>\n",
       "      <td>0</td>\n",
       "    </tr>\n",
       "    <tr>\n",
       "      <th>4</th>\n",
       "      <td>6</td>\n",
       "      <td>bouthy pierrelouis</td>\n",
       "      <td>bouthy</td>\n",
       "      <td>pierrelouis</td>\n",
       "      <td>2013-03-26</td>\n",
       "      <td>Male</td>\n",
       "      <td>1973-01-22</td>\n",
       "      <td>43</td>\n",
       "      <td>25 - 45</td>\n",
       "      <td>Other</td>\n",
       "      <td>...</td>\n",
       "      <td>Low</td>\n",
       "      <td>Risk of Violence</td>\n",
       "      <td>1</td>\n",
       "      <td>Low</td>\n",
       "      <td>NaN</td>\n",
       "      <td>NaN</td>\n",
       "      <td>0</td>\n",
       "      <td>1102</td>\n",
       "      <td>0</td>\n",
       "      <td>0</td>\n",
       "    </tr>\n",
       "  </tbody>\n",
       "</table>\n",
       "<p>5 rows × 49 columns</p>\n",
       "</div>"
      ],
      "text/plain": [
       "   id                name   first         last compas_screening_date   sex  \\\n",
       "0   1    miguel hernandez  miguel    hernandez            2013-08-14  Male   \n",
       "1   3         kevon dixon   kevon        dixon            2013-01-27  Male   \n",
       "2   4            ed philo      ed        philo            2013-04-14  Male   \n",
       "3   5         marcu brown   marcu        brown            2013-01-13  Male   \n",
       "4   6  bouthy pierrelouis  bouthy  pierrelouis            2013-03-26  Male   \n",
       "\n",
       "          dob  age          age_cat              race  ...  score_text  \\\n",
       "0  1947-04-18   69  Greater than 45             Other  ...         Low   \n",
       "1  1982-01-22   34          25 - 45  African-American  ...         Low   \n",
       "2  1991-05-14   24     Less than 25  African-American  ...         Low   \n",
       "3  1993-01-21   23     Less than 25  African-American  ...        High   \n",
       "4  1973-01-22   43          25 - 45             Other  ...         Low   \n",
       "\n",
       "   v_type_of_assessment  v_decile_score  v_score_text  in_custody  \\\n",
       "0      Risk of Violence               1           Low  2014-07-07   \n",
       "1      Risk of Violence               1           Low  2013-01-26   \n",
       "2      Risk of Violence               3           Low  2013-06-16   \n",
       "3      Risk of Violence               6        Medium         NaN   \n",
       "4      Risk of Violence               1           Low         NaN   \n",
       "\n",
       "   out_custody start   end event two_year_recid  \n",
       "0   2014-07-14     0   327     0              0  \n",
       "1   2013-02-05     9   159     1              1  \n",
       "2   2013-06-16     0    63     0              1  \n",
       "3          NaN     0  1174     0              0  \n",
       "4          NaN     0  1102     0              0  \n",
       "\n",
       "[5 rows x 49 columns]"
      ]
     },
     "execution_count": 2,
     "metadata": {},
     "output_type": "execute_result"
    }
   ],
   "source": [
    "df = pd.read_csv(\"compas-scores-two-years-clean.csv\")\n",
    "df.head()"
   ]
  },
  {
   "cell_type": "code",
   "execution_count": 3,
   "metadata": {},
   "outputs": [],
   "source": [
    "df = df[\n",
    "        (df[\"days_b_screening_arrest\"]<=30) \n",
    "        & (df[\"days_b_screening_arrest\"]>=-30) \n",
    "        & (df[\"is_recid\"]!=-1) \n",
    "        & (df[\"c_charge_degree\"]!=\"O\") \n",
    "      ].dropna(subset=['score_text'])"
   ]
  },
  {
   "cell_type": "code",
   "execution_count": 4,
   "metadata": {},
   "outputs": [],
   "source": [
    "# Select columns of interest and store as new df\n",
    "columns = [\"id\", \"age\", \"age_cat\", \"sex\", \"race\",  #demographics\n",
    "           \"juv_fel_count\", \"juv_misd_count\", \"juv_other_count\", \"priors_count\", #criminal history\n",
    "           \"c_charge_degree\", \"c_charge_desc\", #current charges\n",
    "           \"score_text\", \"decile_score\", #compas results for current charges -> target for regression (COMPAS scores for general recidivism)\n",
    "           \"r_charge_degree\", \"r_charge_desc\", #commited crimes (general) within 2 years after COMPAS scoring (no feature for final model, but relevant fro feature engineering)\n",
    "           \"two_year_recid\"] #target for classification \n",
    "df = df[columns]"
   ]
  },
  {
   "cell_type": "markdown",
   "metadata": {},
   "source": [
    "To get a clearer picture, we will only use a few columns of the original data frame.\n",
    "\n",
    "\n",
    "- demographics: \"age\", \"age_cat\", \"sex\", \"race\"\n",
    "- criminal history: \"juv_fel_count\", \"juv_misd_count\", \"juv_other_count\", \"priors_count\"\n",
    "- current charges: \"c_charge_degree\",\"c_charge_desc\"\n",
    "- truth:\"two_year_recid\"\n"
   ]
  },
  {
   "cell_type": "markdown",
   "metadata": {},
   "source": [
    "Drop duplicate"
   ]
  },
  {
   "cell_type": "code",
   "execution_count": 147,
   "metadata": {},
   "outputs": [
    {
     "data": {
      "text/html": [
       "<div>\n",
       "<style scoped>\n",
       "    .dataframe tbody tr th:only-of-type {\n",
       "        vertical-align: middle;\n",
       "    }\n",
       "\n",
       "    .dataframe tbody tr th {\n",
       "        vertical-align: top;\n",
       "    }\n",
       "\n",
       "    .dataframe thead th {\n",
       "        text-align: right;\n",
       "    }\n",
       "</style>\n",
       "<table border=\"1\" class=\"dataframe\">\n",
       "  <thead>\n",
       "    <tr style=\"text-align: right;\">\n",
       "      <th></th>\n",
       "      <th>id</th>\n",
       "      <th>age</th>\n",
       "      <th>age_cat</th>\n",
       "      <th>sex</th>\n",
       "      <th>race</th>\n",
       "      <th>juv_fel_count</th>\n",
       "      <th>juv_misd_count</th>\n",
       "      <th>juv_other_count</th>\n",
       "      <th>priors_count</th>\n",
       "      <th>c_charge_degree</th>\n",
       "      <th>c_charge_desc</th>\n",
       "      <th>score_text</th>\n",
       "      <th>decile_score</th>\n",
       "      <th>r_charge_degree</th>\n",
       "      <th>r_charge_desc</th>\n",
       "      <th>two_year_recid</th>\n",
       "    </tr>\n",
       "  </thead>\n",
       "  <tbody>\n",
       "    <tr>\n",
       "      <th>0</th>\n",
       "      <td>1</td>\n",
       "      <td>69</td>\n",
       "      <td>Greater than 45</td>\n",
       "      <td>Male</td>\n",
       "      <td>Other</td>\n",
       "      <td>0</td>\n",
       "      <td>0</td>\n",
       "      <td>0</td>\n",
       "      <td>0</td>\n",
       "      <td>F</td>\n",
       "      <td>Aggravated Assault w/Firearm</td>\n",
       "      <td>Low</td>\n",
       "      <td>1</td>\n",
       "      <td>NaN</td>\n",
       "      <td>NaN</td>\n",
       "      <td>0</td>\n",
       "    </tr>\n",
       "    <tr>\n",
       "      <th>1</th>\n",
       "      <td>3</td>\n",
       "      <td>34</td>\n",
       "      <td>25 - 45</td>\n",
       "      <td>Male</td>\n",
       "      <td>African-American</td>\n",
       "      <td>0</td>\n",
       "      <td>0</td>\n",
       "      <td>0</td>\n",
       "      <td>0</td>\n",
       "      <td>F</td>\n",
       "      <td>Felony Battery w/Prior Convict</td>\n",
       "      <td>Low</td>\n",
       "      <td>3</td>\n",
       "      <td>(F3)</td>\n",
       "      <td>Felony Battery (Dom Strang)</td>\n",
       "      <td>1</td>\n",
       "    </tr>\n",
       "    <tr>\n",
       "      <th>2</th>\n",
       "      <td>4</td>\n",
       "      <td>24</td>\n",
       "      <td>Less than 25</td>\n",
       "      <td>Male</td>\n",
       "      <td>African-American</td>\n",
       "      <td>0</td>\n",
       "      <td>0</td>\n",
       "      <td>1</td>\n",
       "      <td>4</td>\n",
       "      <td>F</td>\n",
       "      <td>Possession of Cocaine</td>\n",
       "      <td>Low</td>\n",
       "      <td>4</td>\n",
       "      <td>(M1)</td>\n",
       "      <td>Driving Under The Influence</td>\n",
       "      <td>1</td>\n",
       "    </tr>\n",
       "    <tr>\n",
       "      <th>5</th>\n",
       "      <td>7</td>\n",
       "      <td>44</td>\n",
       "      <td>25 - 45</td>\n",
       "      <td>Male</td>\n",
       "      <td>Other</td>\n",
       "      <td>0</td>\n",
       "      <td>0</td>\n",
       "      <td>0</td>\n",
       "      <td>0</td>\n",
       "      <td>M</td>\n",
       "      <td>Battery</td>\n",
       "      <td>Low</td>\n",
       "      <td>1</td>\n",
       "      <td>NaN</td>\n",
       "      <td>NaN</td>\n",
       "      <td>0</td>\n",
       "    </tr>\n",
       "    <tr>\n",
       "      <th>6</th>\n",
       "      <td>8</td>\n",
       "      <td>41</td>\n",
       "      <td>25 - 45</td>\n",
       "      <td>Male</td>\n",
       "      <td>Caucasian</td>\n",
       "      <td>0</td>\n",
       "      <td>0</td>\n",
       "      <td>0</td>\n",
       "      <td>14</td>\n",
       "      <td>F</td>\n",
       "      <td>Possession Burglary Tools</td>\n",
       "      <td>Medium</td>\n",
       "      <td>6</td>\n",
       "      <td>(F2)</td>\n",
       "      <td>Poss of Firearm by Convic Felo</td>\n",
       "      <td>1</td>\n",
       "    </tr>\n",
       "    <tr>\n",
       "      <th>...</th>\n",
       "      <td>...</td>\n",
       "      <td>...</td>\n",
       "      <td>...</td>\n",
       "      <td>...</td>\n",
       "      <td>...</td>\n",
       "      <td>...</td>\n",
       "      <td>...</td>\n",
       "      <td>...</td>\n",
       "      <td>...</td>\n",
       "      <td>...</td>\n",
       "      <td>...</td>\n",
       "      <td>...</td>\n",
       "      <td>...</td>\n",
       "      <td>...</td>\n",
       "      <td>...</td>\n",
       "      <td>...</td>\n",
       "    </tr>\n",
       "    <tr>\n",
       "      <th>6211</th>\n",
       "      <td>10995</td>\n",
       "      <td>20</td>\n",
       "      <td>Less than 25</td>\n",
       "      <td>Male</td>\n",
       "      <td>African-American</td>\n",
       "      <td>0</td>\n",
       "      <td>0</td>\n",
       "      <td>0</td>\n",
       "      <td>0</td>\n",
       "      <td>F</td>\n",
       "      <td>Possession of Cocaine</td>\n",
       "      <td>High</td>\n",
       "      <td>9</td>\n",
       "      <td>NaN</td>\n",
       "      <td>NaN</td>\n",
       "      <td>0</td>\n",
       "    </tr>\n",
       "    <tr>\n",
       "      <th>6212</th>\n",
       "      <td>10996</td>\n",
       "      <td>23</td>\n",
       "      <td>Less than 25</td>\n",
       "      <td>Male</td>\n",
       "      <td>African-American</td>\n",
       "      <td>0</td>\n",
       "      <td>0</td>\n",
       "      <td>0</td>\n",
       "      <td>0</td>\n",
       "      <td>F</td>\n",
       "      <td>Deliver Cannabis</td>\n",
       "      <td>Medium</td>\n",
       "      <td>7</td>\n",
       "      <td>NaN</td>\n",
       "      <td>NaN</td>\n",
       "      <td>0</td>\n",
       "    </tr>\n",
       "    <tr>\n",
       "      <th>6213</th>\n",
       "      <td>10997</td>\n",
       "      <td>23</td>\n",
       "      <td>Less than 25</td>\n",
       "      <td>Male</td>\n",
       "      <td>African-American</td>\n",
       "      <td>0</td>\n",
       "      <td>0</td>\n",
       "      <td>0</td>\n",
       "      <td>0</td>\n",
       "      <td>F</td>\n",
       "      <td>Leaving the Scene of Accident</td>\n",
       "      <td>Low</td>\n",
       "      <td>3</td>\n",
       "      <td>NaN</td>\n",
       "      <td>NaN</td>\n",
       "      <td>0</td>\n",
       "    </tr>\n",
       "    <tr>\n",
       "      <th>6214</th>\n",
       "      <td>10999</td>\n",
       "      <td>57</td>\n",
       "      <td>Greater than 45</td>\n",
       "      <td>Male</td>\n",
       "      <td>Other</td>\n",
       "      <td>0</td>\n",
       "      <td>0</td>\n",
       "      <td>0</td>\n",
       "      <td>0</td>\n",
       "      <td>F</td>\n",
       "      <td>Aggravated Battery / Pregnant</td>\n",
       "      <td>Low</td>\n",
       "      <td>1</td>\n",
       "      <td>NaN</td>\n",
       "      <td>NaN</td>\n",
       "      <td>0</td>\n",
       "    </tr>\n",
       "    <tr>\n",
       "      <th>6215</th>\n",
       "      <td>11000</td>\n",
       "      <td>33</td>\n",
       "      <td>25 - 45</td>\n",
       "      <td>Female</td>\n",
       "      <td>African-American</td>\n",
       "      <td>0</td>\n",
       "      <td>0</td>\n",
       "      <td>0</td>\n",
       "      <td>3</td>\n",
       "      <td>M</td>\n",
       "      <td>Battery on Law Enforc Officer</td>\n",
       "      <td>Low</td>\n",
       "      <td>2</td>\n",
       "      <td>NaN</td>\n",
       "      <td>NaN</td>\n",
       "      <td>0</td>\n",
       "    </tr>\n",
       "  </tbody>\n",
       "</table>\n",
       "<p>5304 rows × 16 columns</p>\n",
       "</div>"
      ],
      "text/plain": [
       "         id  age          age_cat     sex              race  juv_fel_count  \\\n",
       "0         1   69  Greater than 45    Male             Other              0   \n",
       "1         3   34          25 - 45    Male  African-American              0   \n",
       "2         4   24     Less than 25    Male  African-American              0   \n",
       "5         7   44          25 - 45    Male             Other              0   \n",
       "6         8   41          25 - 45    Male         Caucasian              0   \n",
       "...     ...  ...              ...     ...               ...            ...   \n",
       "6211  10995   20     Less than 25    Male  African-American              0   \n",
       "6212  10996   23     Less than 25    Male  African-American              0   \n",
       "6213  10997   23     Less than 25    Male  African-American              0   \n",
       "6214  10999   57  Greater than 45    Male             Other              0   \n",
       "6215  11000   33          25 - 45  Female  African-American              0   \n",
       "\n",
       "      juv_misd_count  juv_other_count  priors_count c_charge_degree  \\\n",
       "0                  0                0             0               F   \n",
       "1                  0                0             0               F   \n",
       "2                  0                1             4               F   \n",
       "5                  0                0             0               M   \n",
       "6                  0                0            14               F   \n",
       "...              ...              ...           ...             ...   \n",
       "6211               0                0             0               F   \n",
       "6212               0                0             0               F   \n",
       "6213               0                0             0               F   \n",
       "6214               0                0             0               F   \n",
       "6215               0                0             3               M   \n",
       "\n",
       "                       c_charge_desc score_text  decile_score r_charge_degree  \\\n",
       "0       Aggravated Assault w/Firearm        Low             1             NaN   \n",
       "1     Felony Battery w/Prior Convict        Low             3            (F3)   \n",
       "2              Possession of Cocaine        Low             4            (M1)   \n",
       "5                            Battery        Low             1             NaN   \n",
       "6          Possession Burglary Tools     Medium             6            (F2)   \n",
       "...                              ...        ...           ...             ...   \n",
       "6211           Possession of Cocaine       High             9             NaN   \n",
       "6212                Deliver Cannabis     Medium             7             NaN   \n",
       "6213   Leaving the Scene of Accident        Low             3             NaN   \n",
       "6214   Aggravated Battery / Pregnant        Low             1             NaN   \n",
       "6215   Battery on Law Enforc Officer        Low             2             NaN   \n",
       "\n",
       "                       r_charge_desc  two_year_recid  \n",
       "0                                NaN               0  \n",
       "1        Felony Battery (Dom Strang)               1  \n",
       "2        Driving Under The Influence               1  \n",
       "5                                NaN               0  \n",
       "6     Poss of Firearm by Convic Felo               1  \n",
       "...                              ...             ...  \n",
       "6211                             NaN               0  \n",
       "6212                             NaN               0  \n",
       "6213                             NaN               0  \n",
       "6214                             NaN               0  \n",
       "6215                             NaN               0  \n",
       "\n",
       "[5304 rows x 16 columns]"
      ]
     },
     "execution_count": 147,
     "metadata": {},
     "output_type": "execute_result"
    }
   ],
   "source": [
    "df.drop_duplicates()"
   ]
  },
  {
   "cell_type": "markdown",
   "metadata": {},
   "source": [
    "Check dtype of data"
   ]
  },
  {
   "cell_type": "code",
   "execution_count": 5,
   "metadata": {},
   "outputs": [
    {
     "name": "stdout",
     "output_type": "stream",
     "text": [
      "<class 'pandas.core.frame.DataFrame'>\n",
      "Int64Index: 5304 entries, 0 to 6215\n",
      "Data columns (total 16 columns):\n",
      " #   Column           Non-Null Count  Dtype \n",
      "---  ------           --------------  ----- \n",
      " 0   id               5304 non-null   int64 \n",
      " 1   age              5304 non-null   int64 \n",
      " 2   age_cat          5304 non-null   object\n",
      " 3   sex              5304 non-null   object\n",
      " 4   race             5304 non-null   object\n",
      " 5   juv_fel_count    5304 non-null   int64 \n",
      " 6   juv_misd_count   5304 non-null   int64 \n",
      " 7   juv_other_count  5304 non-null   int64 \n",
      " 8   priors_count     5304 non-null   int64 \n",
      " 9   c_charge_degree  5304 non-null   object\n",
      " 10  c_charge_desc    5299 non-null   object\n",
      " 11  score_text       5304 non-null   object\n",
      " 12  decile_score     5304 non-null   int64 \n",
      " 13  r_charge_degree  2122 non-null   object\n",
      " 14  r_charge_desc    2095 non-null   object\n",
      " 15  two_year_recid   5304 non-null   int64 \n",
      "dtypes: int64(8), object(8)\n",
      "memory usage: 704.4+ KB\n"
     ]
    }
   ],
   "source": [
    "df.info()"
   ]
  },
  {
   "cell_type": "markdown",
   "metadata": {},
   "source": [
    "### Feature Engineering: Create feature c_charge_degree_detailed\n",
    "\n",
    "- The current charges of the ProPublica dataset are categorized as felonies or misdemeanors `c_charge_degreee`\n",
    "- The c_charge_desc contains the description of the crime (e.g. murder, Grand theft ...)\n",
    "- In Florida each crime is based on the severness categorised into different level/ classes of misdemeanors or felonies"
   ]
  },
  {
   "cell_type": "code",
   "execution_count": 6,
   "metadata": {},
   "outputs": [
    {
     "name": "stdout",
     "output_type": "stream",
     "text": [
      "Unique charges in the dataset: 359\n",
      "Unique charges for felonies: 266\n",
      "Unique charges for misdemeanors: 126\n"
     ]
    }
   ],
   "source": [
    "# There are 358 unique charges in the dataset in total (wo NaN)\n",
    "print(\"Unique charges in the dataset:\", len(df.c_charge_desc.unique()))\n",
    "\n",
    "# There are 265 unqiue charges for felonies (23 of them also exist in misdemeanor) (wo NaN)\n",
    "print(\"Unique charges for felonies:\", len(df[df[\"c_charge_degree\"]==\"F\"]\n",
    "                                          [[\"c_charge_degree\", \"c_charge_desc\"]]\n",
    "                                          .c_charge_desc.unique()))\n",
    "\n",
    "# There are 125 unqiue charges for misdemeanors  (wo NaN)\n",
    "print(\"Unique charges for misdemeanors:\", len(df[df[\"c_charge_degree\"]==\"M\"]\n",
    "                                              [[\"c_charge_degree\", \"c_charge_desc\"]]\n",
    "                                              .c_charge_desc.unique()))"
   ]
  },
  {
   "cell_type": "markdown",
   "metadata": {},
   "source": [
    "- In order to reduce the variaty of charges we created a new feature to cluster each crime into the correct level\n",
    "- The original dataset already contains the more detailed degree of crimes, but only for the recidivist crimes\n",
    "- We first used these crimes and mapped them against the current charges"
   ]
  },
  {
   "cell_type": "markdown",
   "metadata": {},
   "source": [
    "### Map charge degree to all cases and store in new feature column c_charge_degree_detailed"
   ]
  },
  {
   "cell_type": "code",
   "execution_count": 7,
   "metadata": {},
   "outputs": [],
   "source": [
    "# Load master lookup table\n",
    "labeled_charges_master = pd.read_csv(\"labeled_charges_master.csv\", index_col=\"c_charge_desc\")"
   ]
  },
  {
   "cell_type": "code",
   "execution_count": 8,
   "metadata": {},
   "outputs": [],
   "source": [
    "# Map charge degree to all cases and store in new column \"c_charge_degree_detailed\"\n",
    "df= df.merge(labeled_charges_master, how=\"left\", left_on=\"c_charge_desc\", right_index=True)\n",
    "df.reset_index(drop=True, inplace=True)"
   ]
  },
  {
   "cell_type": "code",
   "execution_count": 9,
   "metadata": {},
   "outputs": [
    {
     "data": {
      "text/plain": [
       "<AxesSubplot:xlabel='c_charge_degree_detailed', ylabel='count'>"
      ]
     },
     "execution_count": 9,
     "metadata": {},
     "output_type": "execute_result"
    },
    {
     "data": {
      "image/png": "[encoded data removed]",
      "text/plain": [
       "<Figure size 432x288 with 1 Axes>"
      ]
     },
     "metadata": {
      "needs_background": "light"
     },
     "output_type": "display_data"
    }
   ],
   "source": [
    "sns.countplot(x=\"c_charge_degree_detailed\", data=df, order=[\"0\",\"M2\", \"M1\", \"F3\", \"F2\", \"F1\"])"
   ]
  },
  {
   "cell_type": "code",
   "execution_count": 10,
   "metadata": {},
   "outputs": [
    {
     "data": {
      "text/html": [
       "<div>\n",
       "<style scoped>\n",
       "    .dataframe tbody tr th:only-of-type {\n",
       "        vertical-align: middle;\n",
       "    }\n",
       "\n",
       "    .dataframe tbody tr th {\n",
       "        vertical-align: top;\n",
       "    }\n",
       "\n",
       "    .dataframe thead th {\n",
       "        text-align: right;\n",
       "    }\n",
       "</style>\n",
       "<table border=\"1\" class=\"dataframe\">\n",
       "  <thead>\n",
       "    <tr style=\"text-align: right;\">\n",
       "      <th></th>\n",
       "      <th>id</th>\n",
       "      <th>age</th>\n",
       "      <th>age_cat</th>\n",
       "      <th>sex</th>\n",
       "      <th>race</th>\n",
       "      <th>juv_fel_count</th>\n",
       "      <th>juv_misd_count</th>\n",
       "      <th>juv_other_count</th>\n",
       "      <th>priors_count</th>\n",
       "      <th>c_charge_degree</th>\n",
       "      <th>c_charge_desc</th>\n",
       "      <th>score_text</th>\n",
       "      <th>decile_score</th>\n",
       "      <th>r_charge_degree</th>\n",
       "      <th>r_charge_desc</th>\n",
       "      <th>two_year_recid</th>\n",
       "      <th>c_charge_degree_detailed</th>\n",
       "    </tr>\n",
       "  </thead>\n",
       "  <tbody>\n",
       "    <tr>\n",
       "      <th>114</th>\n",
       "      <td>243</td>\n",
       "      <td>39</td>\n",
       "      <td>25 - 45</td>\n",
       "      <td>Male</td>\n",
       "      <td>Caucasian</td>\n",
       "      <td>1</td>\n",
       "      <td>0</td>\n",
       "      <td>0</td>\n",
       "      <td>1</td>\n",
       "      <td>M</td>\n",
       "      <td>NaN</td>\n",
       "      <td>Low</td>\n",
       "      <td>4</td>\n",
       "      <td>NaN</td>\n",
       "      <td>NaN</td>\n",
       "      <td>0</td>\n",
       "      <td>NaN</td>\n",
       "    </tr>\n",
       "    <tr>\n",
       "      <th>2191</th>\n",
       "      <td>4521</td>\n",
       "      <td>27</td>\n",
       "      <td>25 - 45</td>\n",
       "      <td>Female</td>\n",
       "      <td>Caucasian</td>\n",
       "      <td>0</td>\n",
       "      <td>0</td>\n",
       "      <td>0</td>\n",
       "      <td>0</td>\n",
       "      <td>F</td>\n",
       "      <td>NaN</td>\n",
       "      <td>Medium</td>\n",
       "      <td>5</td>\n",
       "      <td>NaN</td>\n",
       "      <td>NaN</td>\n",
       "      <td>0</td>\n",
       "      <td>NaN</td>\n",
       "    </tr>\n",
       "    <tr>\n",
       "      <th>4031</th>\n",
       "      <td>8299</td>\n",
       "      <td>27</td>\n",
       "      <td>25 - 45</td>\n",
       "      <td>Male</td>\n",
       "      <td>African-American</td>\n",
       "      <td>0</td>\n",
       "      <td>0</td>\n",
       "      <td>0</td>\n",
       "      <td>2</td>\n",
       "      <td>F</td>\n",
       "      <td>NaN</td>\n",
       "      <td>Low</td>\n",
       "      <td>4</td>\n",
       "      <td>NaN</td>\n",
       "      <td>NaN</td>\n",
       "      <td>0</td>\n",
       "      <td>NaN</td>\n",
       "    </tr>\n",
       "    <tr>\n",
       "      <th>4202</th>\n",
       "      <td>8679</td>\n",
       "      <td>27</td>\n",
       "      <td>25 - 45</td>\n",
       "      <td>Male</td>\n",
       "      <td>African-American</td>\n",
       "      <td>0</td>\n",
       "      <td>0</td>\n",
       "      <td>0</td>\n",
       "      <td>2</td>\n",
       "      <td>F</td>\n",
       "      <td>NaN</td>\n",
       "      <td>Low</td>\n",
       "      <td>3</td>\n",
       "      <td>NaN</td>\n",
       "      <td>NaN</td>\n",
       "      <td>0</td>\n",
       "      <td>NaN</td>\n",
       "    </tr>\n",
       "    <tr>\n",
       "      <th>5183</th>\n",
       "      <td>10737</td>\n",
       "      <td>69</td>\n",
       "      <td>Greater than 45</td>\n",
       "      <td>Female</td>\n",
       "      <td>Caucasian</td>\n",
       "      <td>0</td>\n",
       "      <td>0</td>\n",
       "      <td>0</td>\n",
       "      <td>5</td>\n",
       "      <td>F</td>\n",
       "      <td>NaN</td>\n",
       "      <td>Low</td>\n",
       "      <td>3</td>\n",
       "      <td>NaN</td>\n",
       "      <td>NaN</td>\n",
       "      <td>0</td>\n",
       "      <td>NaN</td>\n",
       "    </tr>\n",
       "  </tbody>\n",
       "</table>\n",
       "</div>"
      ],
      "text/plain": [
       "         id  age          age_cat     sex              race  juv_fel_count  \\\n",
       "114     243   39          25 - 45    Male         Caucasian              1   \n",
       "2191   4521   27          25 - 45  Female         Caucasian              0   \n",
       "4031   8299   27          25 - 45    Male  African-American              0   \n",
       "4202   8679   27          25 - 45    Male  African-American              0   \n",
       "5183  10737   69  Greater than 45  Female         Caucasian              0   \n",
       "\n",
       "      juv_misd_count  juv_other_count  priors_count c_charge_degree  \\\n",
       "114                0                0             1               M   \n",
       "2191               0                0             0               F   \n",
       "4031               0                0             2               F   \n",
       "4202               0                0             2               F   \n",
       "5183               0                0             5               F   \n",
       "\n",
       "     c_charge_desc score_text  decile_score r_charge_degree r_charge_desc  \\\n",
       "114            NaN        Low             4             NaN           NaN   \n",
       "2191           NaN     Medium             5             NaN           NaN   \n",
       "4031           NaN        Low             4             NaN           NaN   \n",
       "4202           NaN        Low             3             NaN           NaN   \n",
       "5183           NaN        Low             3             NaN           NaN   \n",
       "\n",
       "      two_year_recid c_charge_degree_detailed  \n",
       "114                0                      NaN  \n",
       "2191               0                      NaN  \n",
       "4031               0                      NaN  \n",
       "4202               0                      NaN  \n",
       "5183               0                      NaN  "
      ]
     },
     "execution_count": 10,
     "metadata": {},
     "output_type": "execute_result"
    }
   ],
   "source": [
    "#Check NaN values (values which did not have a c_charge_desc in the original dataset)\n",
    "df[df.c_charge_degree_detailed.isnull()]"
   ]
  },
  {
   "cell_type": "code",
   "execution_count": 169,
   "metadata": {},
   "outputs": [],
   "source": [
    "index_nan_cases = df[df.c_charge_degree_detailed.isnull()].index"
   ]
  },
  {
   "cell_type": "markdown",
   "metadata": {},
   "source": [
    "- There are still 5 cases which did not have a description of the current charges.\n",
    "- These 5 cases need to be imputed\n",
    "- This requires the encoding of all categorical features first"
   ]
  },
  {
   "cell_type": "code",
   "execution_count": 170,
   "metadata": {},
   "outputs": [
    {
     "name": "stdout",
     "output_type": "stream",
     "text": [
      "Int64Index([   0,    5,    7,   11,   18,   23,   24,   29,   32,   38,\n",
      "            ...\n",
      "            5259, 5261, 5262, 5266, 5274, 5281, 5283, 5285, 5290, 5291],\n",
      "           dtype='int64', length=1205)\n"
     ]
    }
   ],
   "source": [
    "print(index_nan_cases)"
   ]
  },
  {
   "cell_type": "markdown",
   "metadata": {},
   "source": [
    "# Data Preprocessing"
   ]
  },
  {
   "cell_type": "markdown",
   "metadata": {},
   "source": [
    "### Initial distribution of the features"
   ]
  },
  {
   "cell_type": "code",
   "execution_count": 17,
   "metadata": {},
   "outputs": [
    {
     "data": {
      "image/png": "[encoded data removed]",
      "text/plain": [
       "<Figure size 1584x1080 with 12 Axes>"
      ]
     },
     "metadata": {
      "needs_background": "light"
     },
     "output_type": "display_data"
    }
   ],
   "source": [
    "\n",
    "def plot_dist(col, ax):\n",
    "    df[col][df[col].notnull()].value_counts().plot(kind='bar', facecolor='y', ax=ax)\n",
    "    ax.set_xlabel('{}'.format(col), fontsize=20)\n",
    "    ax.set_title(\"{} on Compas data\".format(col), fontsize= 18)\n",
    "    return ax\n",
    "\n",
    "f, ax = plt.subplots(4,3, figsize = (22,15))\n",
    "f.tight_layout(h_pad=12, w_pad=2, rect=[0, 0.03, 1, 0.93])\n",
    "cols = [ \"age\", \"age_cat\", \"sex\", \"race\",  #demographics\n",
    "           \"juv_fel_count\", \"juv_misd_count\", \"juv_other_count\", \"priors_count\", #criminal history\n",
    "           \"c_charge_degree\", \"c_charge_degree_detailed\", #current charges\n",
    "           \"decile_score\", #compas results for current charges -> target for regression (COMPAS scores for general recidivism)\n",
    "           \"two_year_recid\"]\n",
    "k = 0\n",
    "for i in range(4):\n",
    "    for j in range(3):\n",
    "        plot_dist(cols[k], ax[i][j])\n",
    "        k += 1\n",
    "__ = plt.suptitle(\"Initial Distributions of features\", fontsize= 25)"
   ]
  },
  {
   "cell_type": "markdown",
   "metadata": {},
   "source": [
    "The imputing of missing values for c_charge_desc will be performed during the preprocessing"
   ]
  },
  {
   "cell_type": "code",
   "execution_count": 171,
   "metadata": {},
   "outputs": [],
   "source": [
    "from sklearn.feature_extraction.text import CountVectorizer\n",
    "from category_encoders.one_hot import OneHotEncoder\n",
    "from sklearn.model_selection import train_test_split\n",
    "from sklearn.preprocessing import StandardScaler\n",
    "\n",
    "charge_desc = df['c_charge_desc'].apply(lambda x: x if isinstance(x, str) else '')\n",
    "count_vectorizer = CountVectorizer(\n",
    "    max_df=0.85, stop_words='english',\n",
    "    max_features=100, decode_error='ignore'\n",
    ")\n",
    "charge_desc_features = count_vectorizer.fit_transform(charge_desc)\n",
    "\n",
    "one_hot_encoder = OneHotEncoder()\n",
    "charge_degree_features = one_hot_encoder.fit_transform(\n",
    "    df['c_charge_degree']\n",
    ")\n"
   ]
  },
  {
   "cell_type": "markdown",
   "metadata": {},
   "source": [
    "# Model with age cat\n"
   ]
  },
  {
   "cell_type": "markdown",
   "metadata": {},
   "source": [
    "**Featuring age cat**"
   ]
  },
  {
   "cell_type": "code",
   "execution_count": 41,
   "metadata": {},
   "outputs": [],
   "source": [
    "features = pd.concat([pd.get_dummies(df.age_cat, prefix='age_cat',drop_first=True),\n",
    "                    pd.get_dummies(df.sex, prefix='sex',drop_first=True),\n",
    "                    pd.get_dummies(df.race, prefix='race',drop_first=True),  \n",
    "                    pd.get_dummies(df.c_charge_degree, prefix='degree',drop_first=True), # felony or misdemeanor charge ('f' or 'm')\n",
    "                    pd.get_dummies(df.c_charge_degree_detailed, prefix = 'degree_desc',drop_first=True),\n",
    "                    df.priors_count,\n",
    "                    df.juv_fel_count,\n",
    "                    df.juv_misd_count,\n",
    "                    df.juv_other_count,\n",
    "                    df.two_year_recid],\n",
    "                    axis=1)\n",
    "\n",
    "target = df.decile_score"
   ]
  },
  {
   "cell_type": "markdown",
   "metadata": {},
   "source": [
    "**Featuring age**"
   ]
  },
  {
   "cell_type": "code",
   "execution_count": 42,
   "metadata": {},
   "outputs": [],
   "source": [
    "features_age = pd.concat([pd.get_dummies(df.age, prefix='age',drop_first=True),\n",
    "                    pd.get_dummies(df.sex, prefix='sex',drop_first=True),\n",
    "                    pd.get_dummies(df.race, prefix='race',drop_first=True),  \n",
    "                    pd.get_dummies(df.c_charge_degree, prefix='degree',drop_first=True), # felony or misdemeanor charge ('f' or 'm')\n",
    "                    pd.get_dummies(df.c_charge_degree_detailed, prefix = 'degree_desc',drop_first=True),\n",
    "                    df.priors_count,\n",
    "                    df.juv_fel_count,\n",
    "                    df.juv_misd_count,\n",
    "                    df.juv_other_count,\n",
    "                    df.two_year_recid],\n",
    "                    axis=1)\n",
    "\n",
    "target_age = df.decile_score"
   ]
  },
  {
   "cell_type": "markdown",
   "metadata": {},
   "source": [
    "**Splitting age cat**"
   ]
  },
  {
   "cell_type": "code",
   "execution_count": 43,
   "metadata": {},
   "outputs": [],
   "source": [
    "X = features\n",
    "y =target\n",
    "X_train, X_test, y_train, y_test = train_test_split(X,y, test_size=0.3, random_state=42)"
   ]
  },
  {
   "cell_type": "markdown",
   "metadata": {},
   "source": [
    "Function for fitting model"
   ]
  },
  {
   "cell_type": "markdown",
   "metadata": {},
   "source": [
    "## Model with default params"
   ]
  },
  {
   "cell_type": "markdown",
   "metadata": {},
   "source": [
    "Model for age cat"
   ]
  },
  {
   "cell_type": "code",
   "execution_count": 44,
   "metadata": {},
   "outputs": [],
   "source": [
    "\n",
    "xg_reg = xgb.XGBRegressor(base_score=0.5, booster='gbtree', gamma=0, learning_rate=0.1, \n",
    "                          max_depth=3, min_child_weight=1, n_estimators=100, objective='reg:linear', random_state=0, \n",
    "                          seed=123, colsample_bylevel=1, colsample_bynode=1, colsample_bytree=1, importance_type='gain',\n",
    "                          max_delta_step=0, subsample=1, verbosity=0, silent = True\n",
    "                        )\n",
    "xg_reg.fit(X_train,y_train)\n",
    "y_pred = xg_reg.predict(X_test)"
   ]
  },
  {
   "cell_type": "code",
   "execution_count": 45,
   "metadata": {},
   "outputs": [
    {
     "data": {
      "text/html": [
       "<div>\n",
       "<style scoped>\n",
       "    .dataframe tbody tr th:only-of-type {\n",
       "        vertical-align: middle;\n",
       "    }\n",
       "\n",
       "    .dataframe tbody tr th {\n",
       "        vertical-align: top;\n",
       "    }\n",
       "\n",
       "    .dataframe thead th {\n",
       "        text-align: right;\n",
       "    }\n",
       "</style>\n",
       "<table border=\"1\" class=\"dataframe\">\n",
       "  <thead>\n",
       "    <tr style=\"text-align: right;\">\n",
       "      <th></th>\n",
       "      <th>mse</th>\n",
       "      <th>rmse</th>\n",
       "      <th>r2</th>\n",
       "      <th>mae</th>\n",
       "      <th>mad</th>\n",
       "    </tr>\n",
       "  </thead>\n",
       "  <tbody>\n",
       "    <tr>\n",
       "      <th>XGBRegressor</th>\n",
       "      <td>4.035688</td>\n",
       "      <td>2.008902</td>\n",
       "      <td>0.477586</td>\n",
       "      <td>1.589951</td>\n",
       "      <td>1.313895</td>\n",
       "    </tr>\n",
       "  </tbody>\n",
       "</table>\n",
       "</div>"
      ],
      "text/plain": [
       "                   mse      rmse        r2       mae       mad\n",
       "XGBRegressor  4.035688  2.008902  0.477586  1.589951  1.313895"
      ]
     },
     "execution_count": 45,
     "metadata": {},
     "output_type": "execute_result"
    }
   ],
   "source": [
    "exp_xgreg = dx.Explainer(xg_reg, X_test, y_test, verbose=False)\n",
    "exp_xgreg.model_performance().result"
   ]
  },
  {
   "cell_type": "code",
   "execution_count": 46,
   "metadata": {},
   "outputs": [
    {
     "data": {
      "application/vnd.plotly.v1+json": {
       "config": {
        "displaylogo": false,
        "modeBarButtonsToRemove": [
         "sendDataToCloud",
         "lasso2d",
         "autoScale2d",
         "select2d",
         "zoom2d",
         "pan2d",
         "zoomIn2d",
         "zoomOut2d",
         "resetScale2d",
         "toggleSpikelines",
         "hoverCompareCartesian",
         "hoverClosestCartesian"
        ],
        "plotlyServerURL": "https://plot.ly",
        "staticPlot": false,
        "toImageButtonOptions": {
         "height": null,
         "width": null
        }
       },
       "data": [
        {
         "base": 2.016602855952555,
         "hoverinfo": "text",
         "hoverlabel": {
          "bgcolor": "rgba(0,0,0,0.8)"
         },
         "hovertext": [
          "Model: XGBRegressor loss after<br>variable: priors_count is permuted: 2.584<br>Drop-out loss change: +0.568",
          "Model: XGBRegressor loss after<br>variable: age_cat_Less than 25 is permuted: 2.313<br>Drop-out loss change: +0.296",
          "Model: XGBRegressor loss after<br>variable: age_cat_Greater than 45 is permuted: 2.153<br>Drop-out loss change: +0.136",
          "Model: XGBRegressor loss after<br>variable: two_year_recid is permuted: 2.075<br>Drop-out loss change: +0.059",
          "Model: XGBRegressor loss after<br>variable: race_Other is permuted: 2.05<br>Drop-out loss change: +0.033",
          "Model: XGBRegressor loss after<br>variable: race_Caucasian is permuted: 2.046<br>Drop-out loss change: +0.03",
          "Model: XGBRegressor loss after<br>variable: juv_fel_count is permuted: 2.04<br>Drop-out loss change: +0.023",
          "Model: XGBRegressor loss after<br>variable: race_Hispanic is permuted: 2.035<br>Drop-out loss change: +0.019",
          "Model: XGBRegressor loss after<br>variable: juv_misd_count is permuted: 2.03<br>Drop-out loss change: +0.013",
          "Model: XGBRegressor loss after<br>variable: juv_other_count is permuted: 2.026<br>Drop-out loss change: +0.01"
         ],
         "marker": {
          "color": "#46bac2"
         },
         "orientation": "h",
         "showlegend": false,
         "text": [
          "+0.568",
          "+0.296",
          "+0.136",
          "+0.059",
          "+0.033",
          "+0.03",
          "+0.023",
          "+0.019",
          "+0.013",
          "+0.01"
         ],
         "textposition": "outside",
         "type": "bar",
         "x": [
          0.5678600425719793,
          0.29633126864920367,
          0.1359666983348129,
          0.058615715014123104,
          0.03316662053411612,
          0.02986410726098887,
          0.02314228743090263,
          0.018743350467515185,
          0.013450709606349864,
          0.009504641990658591
         ],
         "xaxis": "x",
         "y": [
          "priors_count",
          "age_cat_Less than 25",
          "age_cat_Greater than 45",
          "two_year_recid",
          "race_Other",
          "race_Caucasian",
          "juv_fel_count",
          "race_Hispanic",
          "juv_misd_count",
          "juv_other_count"
         ],
         "yaxis": "y"
        }
       ],
       "layout": {
        "annotations": [
         {
          "font": {
           "size": 16
          },
          "showarrow": false,
          "text": "XGBRegressor",
          "x": 0.5,
          "xanchor": "center",
          "xref": "paper",
          "y": 1,
          "yanchor": "bottom",
          "yref": "paper"
         },
         {
          "font": {
           "size": 16
          },
          "showarrow": false,
          "text": "drop-out loss",
          "x": 0.5,
          "xanchor": "center",
          "xref": "paper",
          "y": 0,
          "yanchor": "top",
          "yref": "paper",
          "yshift": -30
         }
        ],
        "font": {
         "color": "#371ea3"
        },
        "height": 383,
        "margin": {
         "b": 71,
         "r": 30,
         "t": 78
        },
        "shapes": [
         {
          "line": {
           "color": "#371ea3",
           "dash": "dot",
           "width": 1.5
          },
          "type": "line",
          "x0": 2.016602855952555,
          "x1": 2.016602855952555,
          "xref": "x",
          "y0": -1,
          "y1": 10,
          "yref": "y"
         }
        ],
        "template": {
         "data": {
          "scatter": [
           {
            "type": "scatter"
           }
          ]
         }
        },
        "title": {
         "text": "Variable Importance",
         "x": 0.15
        },
        "xaxis": {
         "anchor": "y",
         "automargin": true,
         "domain": [
          0,
          1
         ],
         "fixedrange": true,
         "gridwidth": 2,
         "range": [
          1.9301121646413295,
          2.6698129942484305
         ],
         "tickcolor": "white",
         "ticklen": 3,
         "ticks": "outside",
         "type": "linear",
         "zeroline": false
        },
        "yaxis": {
         "anchor": "x",
         "automargin": true,
         "autorange": "reversed",
         "domain": [
          0,
          1
         ],
         "fixedrange": true,
         "gridwidth": 2,
         "tickcolor": "white",
         "ticklen": 10,
         "ticks": "outside",
         "type": "category"
        }
       }
      }
     },
     "metadata": {},
     "output_type": "display_data"
    }
   ],
   "source": [
    "exp_xgreg.model_parts().plot()"
   ]
  },
  {
   "cell_type": "markdown",
   "metadata": {},
   "source": [
    "**Splitting for age**"
   ]
  },
  {
   "cell_type": "code",
   "execution_count": 47,
   "metadata": {},
   "outputs": [],
   "source": [
    "X_age = features_age\n",
    "y_age = target_age\n",
    "X_train_age, X_test_age, y_train_age, y_test_age = train_test_split(X_age,y_age, test_size=0.3, random_state=42)"
   ]
  },
  {
   "cell_type": "code",
   "execution_count": 48,
   "metadata": {},
   "outputs": [],
   "source": [
    "xg_reg_age = xgb.XGBRegressor(base_score=0.5, booster='gbtree', gamma=0, learning_rate=0.1, \n",
    "                          max_depth=3, min_child_weight=1, n_estimators=100, objective='reg:squarederror', random_state=0, \n",
    "                          seed=123, colsample_bylevel=1, colsample_bynode=1, colsample_bytree=1, importance_type='gain',\n",
    "                          max_delta_step=0, subsample=1,verbosity=0, silent = True)\n",
    "xg_reg_age.fit(X_train_age,y_train_age)\n",
    "y_pred_age = xg_reg_age.predict(X_test_age)"
   ]
  },
  {
   "cell_type": "code",
   "execution_count": 49,
   "metadata": {},
   "outputs": [
    {
     "data": {
      "text/html": [
       "<div>\n",
       "<style scoped>\n",
       "    .dataframe tbody tr th:only-of-type {\n",
       "        vertical-align: middle;\n",
       "    }\n",
       "\n",
       "    .dataframe tbody tr th {\n",
       "        vertical-align: top;\n",
       "    }\n",
       "\n",
       "    .dataframe thead th {\n",
       "        text-align: right;\n",
       "    }\n",
       "</style>\n",
       "<table border=\"1\" class=\"dataframe\">\n",
       "  <thead>\n",
       "    <tr style=\"text-align: right;\">\n",
       "      <th></th>\n",
       "      <th>mse</th>\n",
       "      <th>rmse</th>\n",
       "      <th>r2</th>\n",
       "      <th>mae</th>\n",
       "      <th>mad</th>\n",
       "    </tr>\n",
       "  </thead>\n",
       "  <tbody>\n",
       "    <tr>\n",
       "      <th>XGBRegressor</th>\n",
       "      <td>4.059174</td>\n",
       "      <td>2.014739</td>\n",
       "      <td>0.474546</td>\n",
       "      <td>1.632221</td>\n",
       "      <td>1.401214</td>\n",
       "    </tr>\n",
       "  </tbody>\n",
       "</table>\n",
       "</div>"
      ],
      "text/plain": [
       "                   mse      rmse        r2       mae       mad\n",
       "XGBRegressor  4.059174  2.014739  0.474546  1.632221  1.401214"
      ]
     },
     "execution_count": 49,
     "metadata": {},
     "output_type": "execute_result"
    }
   ],
   "source": [
    "exp_xgreg_age = dx.Explainer(xg_reg_age, X_test_age, y_test_age, verbose=False)\n",
    "exp_xgreg_age.model_performance().result"
   ]
  },
  {
   "cell_type": "markdown",
   "metadata": {},
   "source": [
    "Since model with age has a higher r2, we continue with age_cat"
   ]
  },
  {
   "cell_type": "markdown",
   "metadata": {},
   "source": [
    "**Splitting train and test data for age again for further use**"
   ]
  },
  {
   "cell_type": "code",
   "execution_count": 50,
   "metadata": {},
   "outputs": [],
   "source": [
    "X = features\n",
    "y = target\n",
    "X_train, X_test, y_train, y_test = train_test_split(X,y, test_size=0.3, random_state=42)"
   ]
  },
  {
   "cell_type": "markdown",
   "metadata": {},
   "source": [
    "## Tuning the number of boosting round (n_estimator)\n"
   ]
  },
  {
   "cell_type": "code",
   "execution_count": 71,
   "metadata": {},
   "outputs": [
    {
     "data": {
      "text/plain": [
       "({'n_estimators': 65}, 0.46027977254581165)"
      ]
     },
     "execution_count": 71,
     "metadata": {},
     "output_type": "execute_result"
    }
   ],
   "source": [
    "params_0 = {\n",
    "    'n_estimators': np.arange(50,150,5)\n",
    "}\n",
    "gsearch0 = GridSearchCV(estimator = XGBRegressor(base_score=0.5, booster='gbtree', gamma=0, learning_rate=0.1, \n",
    "                          max_depth=3, min_child_weight=1, objective='reg:linear', random_state=0, \n",
    "                          seed=123, colsample_bylevel=1, colsample_bynode=1, colsample_bytree=1, importance_type='gain',\n",
    "                          max_delta_step=0, subsample=1, verbosity=0, silent=True),param_grid = params_0, cv=5)\n",
    "gsearch0.fit(X_train,y_train)\n",
    "gsearch0.best_params_, gsearch0.best_score_"
   ]
  },
  {
   "cell_type": "markdown",
   "metadata": {},
   "source": [
    "We go deeper into the range from 60-71 for more granularity"
   ]
  },
  {
   "cell_type": "code",
   "execution_count": null,
   "metadata": {},
   "outputs": [
    {
     "data": {
      "text/plain": [
       "({'n_estimators': 65}, 0.46027977254581165)"
      ]
     },
     "execution_count": 38,
     "metadata": {},
     "output_type": "execute_result"
    }
   ],
   "source": [
    "params_0 = {\n",
    "    'n_estimators': np.arange(60,71,1)\n",
    "}\n",
    "gsearch0 = GridSearchCV(estimator = XGBRegressor(base_score=0.5, booster='gbtree', gamma=0, learning_rate=0.1, \n",
    "                          max_depth=3, min_child_weight=1, objective='reg:linear', random_state=0, \n",
    "                          seed=123, colsample_bylevel=1, colsample_bynode=1, colsample_bytree=1, importance_type='gain',\n",
    "                          max_delta_step=0, subsample=1, verbosity=0,silent=True),param_grid = params_0, cv=5)\n",
    "gsearch0.fit(X_train,y_train)\n",
    "gsearch0.best_params_, gsearch0.best_score_"
   ]
  },
  {
   "cell_type": "markdown",
   "metadata": {},
   "source": [
    "We choose n_estimators = 65 for our model"
   ]
  },
  {
   "cell_type": "markdown",
   "metadata": {},
   "source": [
    "# Using GridSearch to tune max_depth and min_child_weight"
   ]
  },
  {
   "cell_type": "code",
   "execution_count": 52,
   "metadata": {},
   "outputs": [
    {
     "data": {
      "text/plain": [
       "({'max_depth': 3, 'min_child_weight': 1}, 0.46027977254581165)"
      ]
     },
     "execution_count": 52,
     "metadata": {},
     "output_type": "execute_result"
    }
   ],
   "source": [
    "params_1 = {\n",
    " 'max_depth':range(3,10,1),\n",
    " 'min_child_weight':range(1,6,1)\n",
    "}\n",
    "gsearch1 = GridSearchCV(estimator = XGBRegressor(base_score=0.5, booster='gbtree', gamma=0, learning_rate=0.1, \n",
    "                          objective='reg:linear', random_state=0,  n_estimators = 65,\n",
    "                          seed=123, colsample_bylevel=1, colsample_bynode=1, colsample_bytree=1, importance_type='gain',\n",
    "                          max_delta_step=0, subsample=1, verbosity=0, silent = True),param_grid = params_1, cv=5)\n",
    "gsearch1.fit(X_train,y_train)\n",
    "gsearch1.best_params_, gsearch1.best_score_"
   ]
  },
  {
   "cell_type": "markdown",
   "metadata": {},
   "source": [
    "## Tunning Gamma"
   ]
  },
  {
   "cell_type": "markdown",
   "metadata": {},
   "source": [
    "Using max_depth and min_child_weight as results of GridSearch above"
   ]
  },
  {
   "cell_type": "code",
   "execution_count": 54,
   "metadata": {},
   "outputs": [
    {
     "data": {
      "text/plain": [
       "({'gamma': 0.2}, 0.4604187439138057)"
      ]
     },
     "execution_count": 54,
     "metadata": {},
     "output_type": "execute_result"
    }
   ],
   "source": [
    "params_2 = {\n",
    " 'gamma':[i/10.0 for i in range(0,5)]\n",
    "}\n",
    "gsearch2 = GridSearchCV(estimator = XGBRegressor(base_score=0.5, booster='gbtree', learning_rate=0.1, \n",
    "                          objective='reg:linear', random_state=0,  n_estimators = 65,\n",
    "                          seed=123, colsample_bylevel=1, colsample_bynode=1, colsample_bytree=1, importance_type='gain',\n",
    "                          max_delta_step=0, subsample=1, verbosity=0, silent = True, max_depth=3, min_child_weight=1),param_grid = params_2, cv=5)\n",
    "gsearch2.fit(X_train,y_train)\n",
    "gsearch2.best_params_, gsearch2.best_score_"
   ]
  },
  {
   "cell_type": "markdown",
   "metadata": {},
   "source": [
    "## Tunning subsample and colsample_bytree"
   ]
  },
  {
   "cell_type": "markdown",
   "metadata": {},
   "source": [
    "Tune subsample and colsample_bytree"
   ]
  },
  {
   "cell_type": "code",
   "execution_count": 55,
   "metadata": {},
   "outputs": [
    {
     "data": {
      "text/plain": [
       "({'colsample_bytree': 0.9, 'subsample': 0.8}, 0.4621584156954269)"
      ]
     },
     "execution_count": 55,
     "metadata": {},
     "output_type": "execute_result"
    }
   ],
   "source": [
    "params_3 = {\n",
    "    'subsample':[i/10.0 for i in range(6,10)],\n",
    "    'colsample_bytree':[i/10.0 for i in range(6,10)]\n",
    "}\n",
    "gsearch3 = GridSearchCV(estimator = XGBRegressor(base_score=0.5, booster='gbtree', gamma=0.2, learning_rate=0.1, \n",
    "                          objective='reg:linear', random_state=0,  n_estimators = 65,\n",
    "                          seed=123, colsample_bylevel=1, colsample_bynode=1, importance_type='gain',\n",
    "                          max_delta_step=0, verbosity=0, silent = True, max_depth=3, min_child_weight=1),param_grid = params_3, cv=5)\n",
    "gsearch3.fit(X_train,y_train)\n",
    "gsearch3.best_params_, gsearch3.best_score_"
   ]
  },
  {
   "cell_type": "markdown",
   "metadata": {},
   "source": [
    "## Tuning L1 Regulation"
   ]
  },
  {
   "cell_type": "code",
   "execution_count": 56,
   "metadata": {},
   "outputs": [
    {
     "data": {
      "text/plain": [
       "({'reg_alpha': 0}, 0.4621584156954269)"
      ]
     },
     "execution_count": 56,
     "metadata": {},
     "output_type": "execute_result"
    }
   ],
   "source": [
    "params_4 = {\n",
    "    'reg_alpha':[0, 1, 0.05]\n",
    "}\n",
    "gsearch4 = GridSearchCV(estimator = XGBRegressor(base_score=0.5, booster='gbtree', gamma=0.2, learning_rate=0.1, \n",
    "                          objective='reg:linear', random_state=0,  n_estimators = 65,\n",
    "                          seed=123, colsample_bylevel=1, colsample_bynode=1, importance_type='gain',\n",
    "                          max_delta_step=0, verbosity=0, silent = True, max_depth=3, min_child_weight=1,subsample=0.8,colsample_bytree=0.9),param_grid = params_4, cv=5)\n",
    "gsearch4.fit(X_train,y_train)\n",
    "gsearch4.best_params_, gsearch4.best_score_"
   ]
  },
  {
   "cell_type": "markdown",
   "metadata": {},
   "source": [
    "## Tuning Learning rate"
   ]
  },
  {
   "cell_type": "code",
   "execution_count": 58,
   "metadata": {},
   "outputs": [
    {
     "data": {
      "text/plain": [
       "({'learning_rate': 0.1}, 0.4621584156954269)"
      ]
     },
     "execution_count": 58,
     "metadata": {},
     "output_type": "execute_result"
    }
   ],
   "source": [
    "params_5 = {\n",
    "    'learning_rate':np.arange(0.1,1,0.1)\n",
    "}\n",
    "gsearch5 = GridSearchCV(estimator = XGBRegressor(base_score=0.5, booster='gbtree', gamma=0.2, \n",
    "                          objective='reg:linear', random_state=0,  n_estimators = 65,\n",
    "                          seed=123, colsample_bylevel=1, colsample_bynode=1, importance_type='gain',subsample=0.8,colsample_bytree=0.9,\n",
    "                          max_delta_step=0, verbosity=0, silent = True, max_depth=3, min_child_weight=1, reg_alpha=0),param_grid = params_5, cv=5)\n",
    "gsearch5.fit(X_train,y_train)\n",
    "gsearch5.best_params_, gsearch5.best_score_"
   ]
  },
  {
   "cell_type": "markdown",
   "metadata": {},
   "source": [
    "## Tunning reg_lambda\n"
   ]
  },
  {
   "cell_type": "code",
   "execution_count": 60,
   "metadata": {},
   "outputs": [
    {
     "data": {
      "text/plain": [
       "({'reg_lambda': 1.0}, 0.4621584156954269)"
      ]
     },
     "execution_count": 60,
     "metadata": {},
     "output_type": "execute_result"
    }
   ],
   "source": [
    "params_7 = {\n",
    "    'reg_lambda':np.arange(0,1.5,0.5)\n",
    "}\n",
    "gsearch7 = GridSearchCV(estimator = XGBRegressor(base_score=0.5, booster='gbtree', gamma=0.2, \n",
    "                          objective='reg:linear', random_state=0,  n_estimators = 65,\n",
    "                          seed=123, importance_type='gain',subsample=0.8,colsample_bytree=0.9,\n",
    "                          max_delta_step=0, verbosity=0, silent = True, max_depth=3, min_child_weight=1, reg_alpha=0, learning_rate=0.1),param_grid = params_7, cv=5)\n",
    "gsearch7.fit(X_train,y_train)\n",
    "gsearch7.best_params_, gsearch7.best_score_"
   ]
  },
  {
   "cell_type": "markdown",
   "metadata": {},
   "source": [
    "## Testing with new tuned parameters"
   ]
  },
  {
   "cell_type": "code",
   "execution_count": 61,
   "metadata": {},
   "outputs": [],
   "source": [
    "xg_reg_tuned = xgb.XGBRegressor(base_score=0.5, booster='gbtree', gamma=0.2, \n",
    "                          objective='reg:linear', random_state=0,  n_estimators = 65,\n",
    "                          seed=123, colsample_bylevel=1, colsample_bynode=1, importance_type='gain',subsample=0.8,colsample_bytree=0.9,\n",
    "                          verbosity=0, silent = True, max_depth=3, min_child_weight=1, reg_alpha=0, reg_lambda = 1, learning_rate=0.1)\n",
    "xg_reg_tuned.fit(X_train, y_train)\n",
    "y_pred = xg_reg_tuned.predict(X_test)"
   ]
  },
  {
   "cell_type": "code",
   "execution_count": 75,
   "metadata": {},
   "outputs": [
    {
     "data": {
      "text/html": [
       "<div>\n",
       "<style scoped>\n",
       "    .dataframe tbody tr th:only-of-type {\n",
       "        vertical-align: middle;\n",
       "    }\n",
       "\n",
       "    .dataframe tbody tr th {\n",
       "        vertical-align: top;\n",
       "    }\n",
       "\n",
       "    .dataframe thead th {\n",
       "        text-align: right;\n",
       "    }\n",
       "</style>\n",
       "<table border=\"1\" class=\"dataframe\">\n",
       "  <thead>\n",
       "    <tr style=\"text-align: right;\">\n",
       "      <th></th>\n",
       "      <th>mse</th>\n",
       "      <th>rmse</th>\n",
       "      <th>r2</th>\n",
       "      <th>mae</th>\n",
       "      <th>mad</th>\n",
       "    </tr>\n",
       "  </thead>\n",
       "  <tbody>\n",
       "    <tr>\n",
       "      <th>XGBRegressor</th>\n",
       "      <td>4.027059</td>\n",
       "      <td>2.006753</td>\n",
       "      <td>0.478703</td>\n",
       "      <td>1.593283</td>\n",
       "      <td>1.344496</td>\n",
       "    </tr>\n",
       "  </tbody>\n",
       "</table>\n",
       "</div>"
      ],
      "text/plain": [
       "                   mse      rmse        r2       mae       mad\n",
       "XGBRegressor  4.027059  2.006753  0.478703  1.593283  1.344496"
      ]
     },
     "execution_count": 75,
     "metadata": {},
     "output_type": "execute_result"
    }
   ],
   "source": [
    "exp_xgreg_tuned = dx.Explainer(xg_reg_tuned, X_test, y_test, verbose=False)\n",
    "exp_xgreg_tuned.model_performance().result"
   ]
  },
  {
   "cell_type": "code",
   "execution_count": 76,
   "metadata": {},
   "outputs": [
    {
     "ename": "ValueError",
     "evalue": "multi_class must be in ('ovo', 'ovr')",
     "output_type": "error",
     "traceback": [
      "\u001b[0;31m---------------------------------------------------------------------------\u001b[0m",
      "\u001b[0;31mValueError\u001b[0m                                Traceback (most recent call last)",
      "\u001b[0;32m/var/folders/2f/n2m_d1sn0bx5nthf7csps2b40000gn/T/ipykernel_15782/1815522351.py\u001b[0m in \u001b[0;36m<module>\u001b[0;34m\u001b[0m\n\u001b[0;32m----> 1\u001b[0;31m \u001b[0mroc_auc_score\u001b[0m\u001b[0;34m(\u001b[0m\u001b[0my_test\u001b[0m\u001b[0;34m,\u001b[0m \u001b[0my_pred\u001b[0m\u001b[0;34m)\u001b[0m\u001b[0;34m\u001b[0m\u001b[0;34m\u001b[0m\u001b[0m\n\u001b[0m",
      "\u001b[0;32m/Library/Frameworks/Python.framework/Versions/3.10/lib/python3.10/site-packages/sklearn/metrics/_ranking.py\u001b[0m in \u001b[0;36mroc_auc_score\u001b[0;34m(y_true, y_score, average, sample_weight, max_fpr, multi_class, labels)\u001b[0m\n\u001b[1;32m    558\u001b[0m             )\n\u001b[1;32m    559\u001b[0m         \u001b[0;32mif\u001b[0m \u001b[0mmulti_class\u001b[0m \u001b[0;34m==\u001b[0m \u001b[0;34m\"raise\"\u001b[0m\u001b[0;34m:\u001b[0m\u001b[0;34m\u001b[0m\u001b[0;34m\u001b[0m\u001b[0m\n\u001b[0;32m--> 560\u001b[0;31m             \u001b[0;32mraise\u001b[0m \u001b[0mValueError\u001b[0m\u001b[0;34m(\u001b[0m\u001b[0;34m\"multi_class must be in ('ovo', 'ovr')\"\u001b[0m\u001b[0;34m)\u001b[0m\u001b[0;34m\u001b[0m\u001b[0;34m\u001b[0m\u001b[0m\n\u001b[0m\u001b[1;32m    561\u001b[0m         return _multiclass_roc_auc_score(\n\u001b[1;32m    562\u001b[0m             \u001b[0my_true\u001b[0m\u001b[0;34m,\u001b[0m \u001b[0my_score\u001b[0m\u001b[0;34m,\u001b[0m \u001b[0mlabels\u001b[0m\u001b[0;34m,\u001b[0m \u001b[0mmulti_class\u001b[0m\u001b[0;34m,\u001b[0m \u001b[0maverage\u001b[0m\u001b[0;34m,\u001b[0m \u001b[0msample_weight\u001b[0m\u001b[0;34m\u001b[0m\u001b[0;34m\u001b[0m\u001b[0m\n",
      "\u001b[0;31mValueError\u001b[0m: multi_class must be in ('ovo', 'ovr')"
     ]
    }
   ],
   "source": [
    "roc_auc_score(y_test, y_pred)"
   ]
  },
  {
   "cell_type": "code",
   "execution_count": 77,
   "metadata": {},
   "outputs": [
    {
     "name": "stdout",
     "output_type": "stream",
     "text": [
      "[2.4183931 5.619749  5.437198  ... 1.8363533 3.1326087 7.4463267]\n"
     ]
    }
   ],
   "source": [
    "print(y_pred)"
   ]
  },
  {
   "cell_type": "markdown",
   "metadata": {},
   "source": [
    "R2 after tuning XGBoost is 0.49499"
   ]
  },
  {
   "cell_type": "code",
   "execution_count": 83,
   "metadata": {},
   "outputs": [
    {
     "name": "stdout",
     "output_type": "stream",
     "text": [
      "RandomizedSearchCV took 68.83 seconds for 100 candidates parameter settings.\n"
     ]
    }
   ],
   "source": [
    "# model tuning\n",
    "import time\n",
    "\n",
    "# A parameter grid for XGBoost\n",
    "params = {\n",
    "    'n_estimators':[100],\n",
    "    'min_child_weight':[3,4,5], \n",
    "    'gamma':[i/10.0 for i in range(3,6)],  \n",
    "    'subsample':[i/10.0 for i in range(6,11)],\n",
    "    'colsample_bytree':[i/10.0 for i in range(6,11)], \n",
    "    'max_depth': [2,3,4,6,7],\n",
    "    'objective': ['reg:squarederror'],\n",
    "    'booster': ['gbtree', 'gblinear'],\n",
    "    'eval_metric': ['rmse'],\n",
    "    'eta': [i/10.0 for i in range(3,6)],\n",
    "}\n",
    "\n",
    "reg = XGBRegressor()\n",
    "\n",
    "# run randomized search\n",
    "n_iter_search = 100\n",
    "random_search = RandomizedSearchCV(reg, param_distributions=params,\n",
    "                                   n_iter=n_iter_search, cv=5, scoring='neg_mean_squared_error')\n",
    "\n",
    "start = time.time()\n",
    "random_search.fit(X_train, y_train)\n",
    "print(\"RandomizedSearchCV took %.2f seconds for %d candidates\"\n",
    "      \" parameter settings.\" % ((time.time() - start), n_iter_search))"
   ]
  },
  {
   "cell_type": "code",
   "execution_count": 86,
   "metadata": {},
   "outputs": [
    {
     "data": {
      "text/plain": [
       "XGBRegressor(base_score=0.5, booster='gbtree', colsample_bylevel=1,\n",
       "             colsample_bynode=1, colsample_bytree=1.0, enable_categorical=False,\n",
       "             eta=0.3, eval_metric='rmse', gamma=0.4, gpu_id=-1,\n",
       "             importance_type=None, interaction_constraints='',\n",
       "             learning_rate=0.300000012, max_delta_step=0, max_depth=2,\n",
       "             min_child_weight=4, missing=nan, monotone_constraints='()',\n",
       "             n_estimators=100, n_jobs=4, num_parallel_tree=1, predictor='auto',\n",
       "             random_state=0, reg_alpha=0, reg_lambda=1, scale_pos_weight=1,\n",
       "             subsample=1.0, tree_method='exact', validate_parameters=1,\n",
       "             verbosity=None)"
      ]
     },
     "execution_count": 86,
     "metadata": {},
     "output_type": "execute_result"
    }
   ],
   "source": [
    "random_search.best_estimator_"
   ]
  },
  {
   "cell_type": "code",
   "execution_count": 87,
   "metadata": {},
   "outputs": [],
   "source": [
    "best_regressor = random_search.best_estimator_"
   ]
  },
  {
   "cell_type": "code",
   "execution_count": 88,
   "metadata": {},
   "outputs": [],
   "source": [
    "y_pred = best_regressor.predict(X_test)"
   ]
  },
  {
   "cell_type": "code",
   "execution_count": 90,
   "metadata": {},
   "outputs": [
    {
     "data": {
      "text/plain": [
       "0.48010528958392007"
      ]
     },
     "execution_count": 90,
     "metadata": {},
     "output_type": "execute_result"
    }
   ],
   "source": [
    "r2_score(y_test,y_pred)"
   ]
  }
 ],
 "metadata": {
  "interpreter": {
   "hash": "6f0b19c31ea35290196ad2025d8a10c44c1fcf79244f792e2b6d1ab2141d06a7"
  },
  "kernelspec": {
   "display_name": "Python 3.8.8 64-bit (conda)",
   "language": "python",
   "name": "python3"
  },
  "language_info": {
   "codemirror_mode": {
    "name": "ipython",
    "version": 3
   },
   "file_extension": ".py",
   "mimetype": "text/x-python",
   "name": "python",
   "nbconvert_exporter": "python",
   "pygments_lexer": "ipython3",
   "version": "3.10.0"
  },
  "orig_nbformat": 4
 },
 "nbformat": 4,
 "nbformat_minor": 2
}
