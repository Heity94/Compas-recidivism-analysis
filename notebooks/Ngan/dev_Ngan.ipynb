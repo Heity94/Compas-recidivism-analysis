{
 "cells": [
  {
   "cell_type": "code",
   "execution_count": 440,
   "metadata": {},
   "outputs": [],
   "source": [
    "import numpy as np\n",
    "import pandas as pd\n",
    "import matplotlib.pyplot as plt\n",
    "import seaborn as sns\n",
    "from sklearn.linear_model import LogisticRegression\n",
    "import statsmodels.formula.api as smf\n",
    "from statsmodels.formula.api import logit\n",
    "from lifelines import KaplanMeierFitter\n",
    "from lifelines import CoxPHFitter\n",
    "\n",
    "\n",
    "sns.set_theme()"
   ]
  },
  {
   "cell_type": "markdown",
   "id": "7324d875",
   "metadata": {},
   "source": [
    "# Exploratory Data analysis of ProPublica's Compas data"
   ]
  },
  {
   "cell_type": "markdown",
   "id": "3179375c",
   "metadata": {},
   "source": [
    "## Load data and recreate filters from ProPublica"
   ]
  },
  {
   "cell_type": "code",
   "execution_count": 441,
   "id": "9764ba66",
   "metadata": {},
   "outputs": [
    {
     "data": {
      "text/plain": [
       "(7214, 53)"
      ]
     },
     "execution_count": 441,
     "metadata": {},
     "output_type": "execute_result"
    }
   ],
   "source": [
    "# Load data and transform date columsn to \"datetime\"\n",
    "raw_data = pd.read_csv(\"../../data-ProPublica/compas-scores-two-years.csv\", parse_dates=[\"c_jail_in\", \"c_jail_out\"])\n",
    "raw_data.shape"
   ]
  },
  {
   "cell_type": "markdown",
   "id": "575b2989",
   "metadata": {},
   "source": [
    "ProPublicas reasoning for filter `raw_data`:\n",
    ">However not all of the rows are useable for the first round of analysis.\n",
    ">There are a number of reasons remove rows because of missing data:\n",
    ">* If the charge date of a defendants Compas scored crime was not within 30 days from when the person was arrested, we assume that because of data quality reasons, that we do not have the right offense.\n",
    ">* We coded the recidivist flag -- `is_recid` -- to be -1 if we could not find a compas case at all.\n",
    ">* In a similar vein, ordinary traffic offenses -- those with a `c_charge_degree` of 'O' -- will not result in Jail time are removed (only two of them).\n",
    ">* We filtered the underlying data from Broward county to include only those rows representing people who had either recidivated in two years, or had at least two years outside of a correctional facility.*"
   ]
  },
  {
   "cell_type": "code",
   "execution_count": 442,
   "id": "7c77b546",
   "metadata": {},
   "outputs": [
    {
     "data": {
      "text/plain": [
       "(6172, 13)"
      ]
     },
     "execution_count": 442,
     "metadata": {},
     "output_type": "execute_result"
    }
   ],
   "source": [
    "# Select columns of interest and store as new df\n",
    "df = raw_data[[\"age\", \"c_charge_degree\", \"race\", \"age_cat\", \"score_text\", \"sex\", \"priors_count\", \n",
    "          \"days_b_screening_arrest\", \"decile_score\", \"is_recid\", \"two_year_recid\", \"c_jail_in\", \"c_jail_out\"]]\n",
    "\n",
    "# Filter rows as described by ProPublica\n",
    "df = df[\n",
    "        (df[\"days_b_screening_arrest\"]<=30) & \n",
    "        (df[\"days_b_screening_arrest\"]>=-30) &\n",
    "        (df[\"is_recid\"]!=-1) & \n",
    "        (df[\"c_charge_degree\"]!=\"O\") #&\n",
    "        #(df[\"score_text\"]!=\"N/A\")\n",
    "      ]\n",
    "\n",
    "df.shape"
   ]
  },
  {
   "cell_type": "code",
   "execution_count": 443,
   "id": "2449ddc3",
   "metadata": {},
   "outputs": [],
   "source": [
    "#Change dtype for categorical features\n",
    "category_cols = ['c_charge_degree', \"race\", \"age_cat\", 'score_text', 'sex', 'is_recid', 'two_year_recid']\n",
    "df = df.apply(lambda s: s.astype('category') if s.name in category_cols else s)"
   ]
  },
  {
   "cell_type": "markdown",
   "id": "e3233707",
   "metadata": {},
   "source": [
    "## Demographic breakdown"
   ]
  },
  {
   "cell_type": "markdown",
   "id": "8f570e1a",
   "metadata": {},
   "source": [
    "Higher COMPAS scores are slightly correlated with a longer length of stay. "
   ]
  },
  {
   "cell_type": "code",
   "execution_count": 444,
   "id": "d91dc622",
   "metadata": {},
   "outputs": [
    {
     "data": {
      "text/plain": [
       "0.20748"
      ]
     },
     "execution_count": 444,
     "metadata": {},
     "output_type": "execute_result"
    }
   ],
   "source": [
    "df[\"length_of_stay_days\"] = (df.c_jail_out-df.c_jail_in).dt.days\n",
    "np.round(df[[\"length_of_stay_days\", \"decile_score\"]].corr()\\\n",
    "    .loc[\"length_of_stay_days\",\"decile_score\"],5)"
   ]
  },
  {
   "cell_type": "markdown",
   "id": "6c2b1b58",
   "metadata": {},
   "source": [
    "After filtering we have the following demographic breakdown:"
   ]
  },
  {
   "cell_type": "code",
   "execution_count": 445,
   "id": "e4078a9c",
   "metadata": {},
   "outputs": [
    {
     "data": {
      "text/plain": [
       "25 - 45            3532\n",
       "Less than 25       1347\n",
       "Greater than 45    1293\n",
       "Name: age_cat, dtype: int64"
      ]
     },
     "execution_count": 445,
     "metadata": {},
     "output_type": "execute_result"
    }
   ],
   "source": [
    "df.age_cat.value_counts()"
   ]
  },
  {
   "cell_type": "code",
   "execution_count": 446,
   "id": "cc7aca6b",
   "metadata": {},
   "outputs": [
    {
     "data": {
      "text/plain": [
       "African-American    51.44%\n",
       "Caucasian           34.07%\n",
       "Hispanic             8.25%\n",
       "Other                5.56%\n",
       "Asian                0.50%\n",
       "Native American      0.18%\n",
       "Name: race, dtype: object"
      ]
     },
     "execution_count": 446,
     "metadata": {},
     "output_type": "execute_result"
    }
   ],
   "source": [
    "(df.race.value_counts(normalize=True)*100).map('{:,.2f}%'.format)"
   ]
  },
  {
   "cell_type": "code",
   "execution_count": 447,
   "id": "db25461a",
   "metadata": {},
   "outputs": [
    {
     "data": {
      "text/plain": [
       "Low       3421\n",
       "Medium    1607\n",
       "High      1144\n",
       "Name: score_text, dtype: int64"
      ]
     },
     "execution_count": 447,
     "metadata": {},
     "output_type": "execute_result"
    }
   ],
   "source": [
    "df.score_text.value_counts()"
   ]
  },
  {
   "cell_type": "code",
   "execution_count": 448,
   "id": "f7625824",
   "metadata": {},
   "outputs": [
    {
     "data": {
      "text/html": [
       "<div>\n",
       "<style scoped>\n",
       "    .dataframe tbody tr th:only-of-type {\n",
       "        vertical-align: middle;\n",
       "    }\n",
       "\n",
       "    .dataframe tbody tr th {\n",
       "        vertical-align: top;\n",
       "    }\n",
       "\n",
       "    .dataframe thead th {\n",
       "        text-align: right;\n",
       "    }\n",
       "</style>\n",
       "<table border=\"1\" class=\"dataframe\">\n",
       "  <thead>\n",
       "    <tr style=\"text-align: right;\">\n",
       "      <th>race</th>\n",
       "      <th>African-American</th>\n",
       "      <th>Asian</th>\n",
       "      <th>Caucasian</th>\n",
       "      <th>Hispanic</th>\n",
       "      <th>Native American</th>\n",
       "      <th>Other</th>\n",
       "    </tr>\n",
       "    <tr>\n",
       "      <th>sex</th>\n",
       "      <th></th>\n",
       "      <th></th>\n",
       "      <th></th>\n",
       "      <th></th>\n",
       "      <th></th>\n",
       "      <th></th>\n",
       "    </tr>\n",
       "  </thead>\n",
       "  <tbody>\n",
       "    <tr>\n",
       "      <th>Female</th>\n",
       "      <td>549</td>\n",
       "      <td>2</td>\n",
       "      <td>482</td>\n",
       "      <td>82</td>\n",
       "      <td>2</td>\n",
       "      <td>58</td>\n",
       "    </tr>\n",
       "    <tr>\n",
       "      <th>Male</th>\n",
       "      <td>2626</td>\n",
       "      <td>29</td>\n",
       "      <td>1621</td>\n",
       "      <td>427</td>\n",
       "      <td>9</td>\n",
       "      <td>285</td>\n",
       "    </tr>\n",
       "  </tbody>\n",
       "</table>\n",
       "</div>"
      ],
      "text/plain": [
       "race    African-American  Asian  Caucasian  Hispanic  Native American  Other\n",
       "sex                                                                         \n",
       "Female               549      2        482        82                2     58\n",
       "Male                2626     29       1621       427                9    285"
      ]
     },
     "execution_count": 448,
     "metadata": {},
     "output_type": "execute_result"
    }
   ],
   "source": [
    "pd.crosstab(df[\"sex\"], df[\"race\"])"
   ]
  },
  {
   "cell_type": "code",
   "execution_count": 449,
   "id": "853b5792",
   "metadata": {},
   "outputs": [
    {
     "data": {
      "text/plain": [
       "Male      4997\n",
       "Female    1175\n",
       "Name: sex, dtype: int64"
      ]
     },
     "execution_count": 449,
     "metadata": {},
     "output_type": "execute_result"
    }
   ],
   "source": [
    "df.sex.value_counts()"
   ]
  },
  {
   "cell_type": "code",
   "execution_count": 450,
   "id": "ef1e5374",
   "metadata": {},
   "outputs": [
    {
     "data": {
      "text/plain": [
       "Male      80.96%\n",
       "Female    19.04%\n",
       "Name: sex, dtype: object"
      ]
     },
     "execution_count": 450,
     "metadata": {},
     "output_type": "execute_result"
    }
   ],
   "source": [
    "(df.sex.value_counts(normalize=True)*100).map('{:,.2f}%'.format)"
   ]
  },
  {
   "cell_type": "code",
   "execution_count": 451,
   "id": "bd8cd7b8",
   "metadata": {},
   "outputs": [
    {
     "name": "stdout",
     "output_type": "stream",
     "text": [
      "Number of entries with two_year_recid: 2809\n",
      "% of entries with two_year_recid 45.51\n"
     ]
    }
   ],
   "source": [
    "no_recid = np.sum(df[\"two_year_recid\"]==1)\n",
    "print(\"Number of entries with two_year_recid:\", no_recid)\n",
    "print(\"% of entries with two_year_recid\", np.round(no_recid/df.shape[0]*100,2))"
   ]
  },
  {
   "cell_type": "markdown",
   "id": "b00e8461",
   "metadata": {},
   "source": [
    "Judges are often presented with two sets of scores from the Compas system -- one that classifies people into High, Medium and Low risk, and a corresponding decile score. There is a clear downward trend in the decile scores as those scores increase for white defendants."
   ]
  },
  {
   "cell_type": "code",
   "execution_count": 452,
   "id": "50850132",
   "metadata": {},
   "outputs": [
    {
     "data": {
      "image/png": "[encoded data removed]",
      "text/plain": [
       "<Figure size 1080x360 with 2 Axes>"
      ]
     },
     "metadata": {},
     "output_type": "display_data"
    }
   ],
   "source": [
    "fig, axes = plt.subplots(1,2, figsize=(15,5))\n",
    "plt.setp(axes, ylim=(0,650), xticks=np.arange(1,11), xlabel=\"Decile Score\")\n",
    "\n",
    "scores_black = df[df[\"race\"]==\"African-American\"][\"decile_score\"]\n",
    "scores_white = df[df[\"race\"]==\"Caucasian\"][\"decile_score\"]\n",
    "\n",
    "sns.histplot(\n",
    "    x=scores_black,\n",
    "    bins=10, \n",
    "    ax=axes[0], \n",
    "    kde=True,\n",
    "    shrink=.9,\n",
    "    discrete=True\n",
    "            )\n",
    "axes[0].set_title(\"Black Defendant's Decile Scores\")\n",
    "\n",
    "sns.histplot(\n",
    "    x=scores_white,\n",
    "    bins=10, \n",
    "    ax=axes[1], \n",
    "    kde=True,\n",
    "    shrink=.9,\n",
    "    discrete=True\n",
    "            )\n",
    "axes[1].set_title(\"White Defendant's Decile Scores\");\n"
   ]
  },
  {
   "cell_type": "code",
   "execution_count": 453,
   "id": "d4ab2930",
   "metadata": {},
   "outputs": [
    {
     "data": {
      "text/html": [
       "<div>\n",
       "<style scoped>\n",
       "    .dataframe tbody tr th:only-of-type {\n",
       "        vertical-align: middle;\n",
       "    }\n",
       "\n",
       "    .dataframe tbody tr th {\n",
       "        vertical-align: top;\n",
       "    }\n",
       "\n",
       "    .dataframe thead th {\n",
       "        text-align: right;\n",
       "    }\n",
       "</style>\n",
       "<table border=\"1\" class=\"dataframe\">\n",
       "  <thead>\n",
       "    <tr style=\"text-align: right;\">\n",
       "      <th>race</th>\n",
       "      <th>African-American</th>\n",
       "      <th>Asian</th>\n",
       "      <th>Caucasian</th>\n",
       "      <th>Hispanic</th>\n",
       "      <th>Native American</th>\n",
       "      <th>Other</th>\n",
       "    </tr>\n",
       "    <tr>\n",
       "      <th>decile_score</th>\n",
       "      <th></th>\n",
       "      <th></th>\n",
       "      <th></th>\n",
       "      <th></th>\n",
       "      <th></th>\n",
       "      <th></th>\n",
       "    </tr>\n",
       "  </thead>\n",
       "  <tbody>\n",
       "    <tr>\n",
       "      <th>1</th>\n",
       "      <td>365</td>\n",
       "      <td>15</td>\n",
       "      <td>605</td>\n",
       "      <td>159</td>\n",
       "      <td>0</td>\n",
       "      <td>142</td>\n",
       "    </tr>\n",
       "    <tr>\n",
       "      <th>2</th>\n",
       "      <td>346</td>\n",
       "      <td>4</td>\n",
       "      <td>321</td>\n",
       "      <td>89</td>\n",
       "      <td>2</td>\n",
       "      <td>60</td>\n",
       "    </tr>\n",
       "    <tr>\n",
       "      <th>3</th>\n",
       "      <td>298</td>\n",
       "      <td>5</td>\n",
       "      <td>238</td>\n",
       "      <td>73</td>\n",
       "      <td>1</td>\n",
       "      <td>32</td>\n",
       "    </tr>\n",
       "    <tr>\n",
       "      <th>4</th>\n",
       "      <td>337</td>\n",
       "      <td>0</td>\n",
       "      <td>243</td>\n",
       "      <td>47</td>\n",
       "      <td>0</td>\n",
       "      <td>39</td>\n",
       "    </tr>\n",
       "    <tr>\n",
       "      <th>5</th>\n",
       "      <td>323</td>\n",
       "      <td>1</td>\n",
       "      <td>200</td>\n",
       "      <td>39</td>\n",
       "      <td>0</td>\n",
       "      <td>19</td>\n",
       "    </tr>\n",
       "    <tr>\n",
       "      <th>6</th>\n",
       "      <td>318</td>\n",
       "      <td>2</td>\n",
       "      <td>160</td>\n",
       "      <td>27</td>\n",
       "      <td>2</td>\n",
       "      <td>20</td>\n",
       "    </tr>\n",
       "    <tr>\n",
       "      <th>7</th>\n",
       "      <td>343</td>\n",
       "      <td>1</td>\n",
       "      <td>113</td>\n",
       "      <td>28</td>\n",
       "      <td>2</td>\n",
       "      <td>9</td>\n",
       "    </tr>\n",
       "    <tr>\n",
       "      <th>8</th>\n",
       "      <td>301</td>\n",
       "      <td>2</td>\n",
       "      <td>96</td>\n",
       "      <td>14</td>\n",
       "      <td>0</td>\n",
       "      <td>7</td>\n",
       "    </tr>\n",
       "    <tr>\n",
       "      <th>9</th>\n",
       "      <td>317</td>\n",
       "      <td>0</td>\n",
       "      <td>77</td>\n",
       "      <td>17</td>\n",
       "      <td>2</td>\n",
       "      <td>7</td>\n",
       "    </tr>\n",
       "    <tr>\n",
       "      <th>10</th>\n",
       "      <td>227</td>\n",
       "      <td>1</td>\n",
       "      <td>50</td>\n",
       "      <td>16</td>\n",
       "      <td>2</td>\n",
       "      <td>8</td>\n",
       "    </tr>\n",
       "  </tbody>\n",
       "</table>\n",
       "</div>"
      ],
      "text/plain": [
       "race          African-American  Asian  Caucasian  Hispanic  Native American  \\\n",
       "decile_score                                                                  \n",
       "1                          365     15        605       159                0   \n",
       "2                          346      4        321        89                2   \n",
       "3                          298      5        238        73                1   \n",
       "4                          337      0        243        47                0   \n",
       "5                          323      1        200        39                0   \n",
       "6                          318      2        160        27                2   \n",
       "7                          343      1        113        28                2   \n",
       "8                          301      2         96        14                0   \n",
       "9                          317      0         77        17                2   \n",
       "10                         227      1         50        16                2   \n",
       "\n",
       "race          Other  \n",
       "decile_score         \n",
       "1               142  \n",
       "2                60  \n",
       "3                32  \n",
       "4                39  \n",
       "5                19  \n",
       "6                20  \n",
       "7                 9  \n",
       "8                 7  \n",
       "9                 7  \n",
       "10                8  "
      ]
     },
     "execution_count": 453,
     "metadata": {},
     "output_type": "execute_result"
    }
   ],
   "source": [
    "pd.crosstab(df[\"decile_score\"], df[\"race\"])"
   ]
  },
  {
   "cell_type": "markdown",
   "metadata": {},
   "source": [
    "## Racial Bias in Compas\n",
    "\n",
    "After filtering out bad rows, our first question is whether there is a significant difference in Compas scores between races. To do so we need to change some variables into factors, and run a logistic regression, comparing low scores to high scores.\n"
   ]
  },
  {
   "cell_type": "code",
   "execution_count": 454,
   "metadata": {},
   "outputs": [
    {
     "name": "stdout",
     "output_type": "stream",
     "text": [
      "Optimization terminated successfully.\n",
      "         Current function value: 0.499708\n",
      "         Iterations 6\n",
      "                           Logit Regression Results                           \n",
      "==============================================================================\n",
      "Dep. Variable:             score_text   No. Observations:                 6172\n",
      "Model:                          Logit   Df Residuals:                     6160\n",
      "Method:                           MLE   Df Model:                           11\n",
      "Date:                Thu, 16 Dec 2021   Pseudo R-squ.:                  0.2729\n",
      "Time:                        17:11:06   Log-Likelihood:                -3084.2\n",
      "converged:                       True   LL-Null:                       -4241.7\n",
      "Covariance Type:            nonrobust   LLR p-value:                     0.000\n",
      "===========================================================================================\n",
      "                              coef    std err          z      P>|z|      [0.025      0.975]\n",
      "-------------------------------------------------------------------------------------------\n",
      "Intercept                  -1.5255      0.079    -19.430      0.000      -1.679      -1.372\n",
      "two_year_recid[T.1]         0.6859      0.064     10.713      0.000       0.560       0.811\n",
      "sex_Female                  0.2213      0.080      2.783      0.005       0.065       0.377\n",
      "age_cat_Greater_than_45    -1.3556      0.099    -13.682      0.000      -1.550      -1.161\n",
      "age_cat_Less_than_25        1.3084      0.076     17.232      0.000       1.160       1.457\n",
      "race_African_American       0.4772      0.069      6.881      0.000       0.341       0.613\n",
      "race_Asian                 -0.2544      0.478     -0.532      0.595      -1.192       0.683\n",
      "race_Hispanic              -0.4284      0.128     -3.344      0.001      -0.680      -0.177\n",
      "race_Native_American        1.3942      0.766      1.820      0.069      -0.107       2.896\n",
      "race_Other                 -0.8263      0.162     -5.098      0.000      -1.144      -0.509\n",
      "priors_count                0.2689      0.011     24.221      0.000       0.247       0.291\n",
      "c_charge_degree_M          -0.3112      0.067     -4.677      0.000      -0.442      -0.181\n",
      "===========================================================================================\n"
     ]
    }
   ],
   "source": [
    "#filter category columns\n",
    "cols_cat = ['score_text','age_cat','sex','race','c_charge_degree']\n",
    "\n",
    "#all columns of the subset\n",
    "cols_df = ['score_text','sex','age_cat','race','priors_count','two_year_recid','c_charge_degree']\n",
    "\n",
    "#define cat columns as category type\n",
    "df.loc[:,cols_cat].astype('category')\n",
    "\n",
    "#define data frame and do dummies coding for all cat columns\n",
    "df_lr = pd.DataFrame(df, columns = cols_df)\n",
    "df_lr = pd.get_dummies(data=df_lr,columns =cols_cat)\n",
    "\n",
    "#bring Medium and High to 1 column\n",
    "df_lr['score_text'] = df_lr['score_text_Medium'] + df_lr['score_text_High']\n",
    "\n",
    "      \n",
    "df = df_lr.rename(columns={\"age_cat_Less than 25\": \"age_cat_Less_than_25\", \"age_cat_Greater than 45\": \"age_cat_Greater_than_45\",\"race_Native American\":\"race_Native_American\",\"race_African-American\":\"race_African_American\"})    \n",
    "\n",
    "formula = 'score_text ~ sex_Female + age_cat_Greater_than_45 + age_cat_Less_than_25 + race_African_American + race_Asian + race_Hispanic + race_Native_American + race_Other + priors_count + c_charge_degree_M + two_year_recid'\n",
    "\n",
    "score_mod = logit(formula, data = df).fit()\n",
    "print(score_mod.summary())"
   ]
  },
  {
   "cell_type": "markdown",
   "metadata": {},
   "source": [
    "Black defendants are 45% more likely than white defendants to receive a higher score correcting for the seriousness of their crime, previous arrests, and future criminal behavior."
   ]
  },
  {
   "cell_type": "code",
   "execution_count": null,
   "metadata": {},
   "outputs": [],
   "source": []
  },
  {
   "cell_type": "code",
   "execution_count": 455,
   "metadata": {},
   "outputs": [
    {
     "data": {
      "text/plain": [
       "1.452825407001621"
      ]
     },
     "execution_count": 455,
     "metadata": {},
     "output_type": "execute_result"
    }
   ],
   "source": [
    "#calculating odds from the log ogss result above\n",
    "control = np.exp(-1.5255) / (1 + np.exp(-1.5255))\n",
    "#control is the probability of white man between 25-45 to receive a higher score\n",
    "\n",
    "#calculation of blackman to receive a higher score\n",
    "np.exp(0.4772) / (1 - control + (control * np.exp(0.4772)))\n"
   ]
  },
  {
   "cell_type": "code",
   "execution_count": 456,
   "metadata": {},
   "outputs": [
    {
     "data": {
      "text/plain": [
       "1.4528254070016209"
      ]
     },
     "execution_count": 456,
     "metadata": {},
     "output_type": "execute_result"
    }
   ],
   "source": [
    "(np.exp(-1.5255+0.4772)+np.exp(0.4772)) / (1+np.exp(-1.5255+0.4772))"
   ]
  },
  {
   "cell_type": "markdown",
   "metadata": {},
   "source": [
    "Women are 19.4% more likely than men to get a higher score."
   ]
  },
  {
   "cell_type": "code",
   "execution_count": 457,
   "metadata": {},
   "outputs": [
    {
     "data": {
      "text/plain": [
       "1.1947961876689026"
      ]
     },
     "execution_count": 457,
     "metadata": {},
     "output_type": "execute_result"
    }
   ],
   "source": [
    "np.exp(0.22127) / (1 - control + (control * np.exp(0.22127)))"
   ]
  },
  {
   "cell_type": "markdown",
   "metadata": {},
   "source": [
    "Most surprisingly, people under 25 are 2.5 times as likely to get a higher score as middle aged defendants."
   ]
  },
  {
   "cell_type": "code",
   "execution_count": 458,
   "metadata": {},
   "outputs": [
    {
     "data": {
      "text/plain": [
       "2.496107351371129"
      ]
     },
     "execution_count": 458,
     "metadata": {},
     "output_type": "execute_result"
    }
   ],
   "source": [
    "np.exp(1.3084) / (1 - control + (control * np.exp(1.3084)))"
   ]
  },
  {
   "cell_type": "markdown",
   "metadata": {},
   "source": [
    "### Risk of Violent Recidivism\n",
    "\n",
    "Compas also offers a score that aims to measure a persons risk of violent recidivism, which has a similar overall accuracy to the Recidivism score. As before, we can use a logistic regression to test for racial bias."
   ]
  },
  {
   "cell_type": "code",
   "execution_count": 459,
   "metadata": {},
   "outputs": [
    {
     "data": {
      "text/plain": [
       "4743"
      ]
     },
     "execution_count": 459,
     "metadata": {},
     "output_type": "execute_result"
    }
   ],
   "source": [
    "# Load data and transform date columsn to \"datetime\"\n",
    "raw_data = pd.read_csv(\"../../data-ProPublica/compas-scores-two-years-violent.csv\", parse_dates=[\"c_jail_in\", \"c_jail_out\"])\n",
    "raw_data.shape[0] "
   ]
  },
  {
   "cell_type": "code",
   "execution_count": 460,
   "metadata": {},
   "outputs": [
    {
     "data": {
      "text/plain": [
       "(4020, 13)"
      ]
     },
     "execution_count": 460,
     "metadata": {},
     "output_type": "execute_result"
    }
   ],
   "source": [
    "# Select columns of interest and store as new df\n",
    "df = raw_data[[\"age\", \"c_charge_degree\", \"race\", \"age_cat\", \"v_score_text\", \"sex\", \"priors_count\", \n",
    "          \"days_b_screening_arrest\", \"v_decile_score\", \"is_recid\", \"two_year_recid\", \"c_jail_in\", \"c_jail_out\"]]\n",
    "\n",
    "# Filter rows as described by ProPublica\n",
    "df = df[\n",
    "        (df[\"days_b_screening_arrest\"]<=30) & \n",
    "        (df[\"days_b_screening_arrest\"]>=-30) &\n",
    "        (df[\"is_recid\"]!=-1) & \n",
    "        (df[\"c_charge_degree\"]!=\"O\") #&\n",
    "        #(df[\"score_text\"]!=\"N/A\")\n",
    "      ]\n",
    "\n",
    "df.shape"
   ]
  },
  {
   "cell_type": "code",
   "execution_count": 461,
   "metadata": {},
   "outputs": [
    {
     "data": {
      "text/plain": [
       "25 - 45            2300\n",
       "Greater than 45     954\n",
       "Less than 25        766\n",
       "Name: age_cat, dtype: int64"
      ]
     },
     "execution_count": 461,
     "metadata": {},
     "output_type": "execute_result"
    }
   ],
   "source": [
    "df.age_cat.value_counts()"
   ]
  },
  {
   "cell_type": "code",
   "execution_count": 462,
   "metadata": {},
   "outputs": [
    {
     "data": {
      "text/plain": [
       "African-American    1918\n",
       "Caucasian           1459\n",
       "Hispanic             355\n",
       "Other                255\n",
       "Asian                 26\n",
       "Native American        7\n",
       "Name: race, dtype: int64"
      ]
     },
     "execution_count": 462,
     "metadata": {},
     "output_type": "execute_result"
    }
   ],
   "source": [
    "df.race.value_counts()"
   ]
  },
  {
   "cell_type": "code",
   "execution_count": 463,
   "metadata": {},
   "outputs": [
    {
     "data": {
      "text/plain": [
       "Low       2913\n",
       "Medium     828\n",
       "High       279\n",
       "Name: v_score_text, dtype: int64"
      ]
     },
     "execution_count": 463,
     "metadata": {},
     "output_type": "execute_result"
    }
   ],
   "source": [
    "df.v_score_text.value_counts()"
   ]
  },
  {
   "cell_type": "code",
   "execution_count": 464,
   "metadata": {},
   "outputs": [
    {
     "data": {
      "text/plain": [
       "16.218905472636816"
      ]
     },
     "execution_count": 464,
     "metadata": {},
     "output_type": "execute_result"
    }
   ],
   "source": [
    "#find % of row numbers with two year recid = 1\n",
    "df[(df['two_year_recid'] ==1) ].shape[0] / df.shape[0]*100\n"
   ]
  },
  {
   "cell_type": "code",
   "execution_count": 465,
   "metadata": {},
   "outputs": [
    {
     "data": {
      "text/plain": [
       "652"
      ]
     },
     "execution_count": 465,
     "metadata": {},
     "output_type": "execute_result"
    }
   ],
   "source": [
    "#find row numbers with two year recid = 1\n",
    "df[(df['two_year_recid'] ==1) ].shape[0]"
   ]
  },
  {
   "cell_type": "code",
   "execution_count": 466,
   "metadata": {},
   "outputs": [
    {
     "data": {
      "image/png": "[encoded data removed]",
      "text/plain": [
       "<Figure size 1080x360 with 2 Axes>"
      ]
     },
     "metadata": {},
     "output_type": "display_data"
    }
   ],
   "source": [
    "fig, axes = plt.subplots(1,2, figsize=(15,5))\n",
    "plt.setp(axes, ylim=(0,650), xticks=np.arange(1,11), xlabel=\"Decile Score\")\n",
    "\n",
    "scores_black = df[df[\"race\"]==\"African-American\"][\"v_decile_score\"]\n",
    "scores_white = df[df[\"race\"]==\"Caucasian\"][\"v_decile_score\"]\n",
    "\n",
    "sns.histplot(\n",
    "    x=scores_black,\n",
    "    bins=10, \n",
    "    ax=axes[0], \n",
    "    kde=True,\n",
    "    shrink=.9,\n",
    "    discrete=True\n",
    "            )\n",
    "axes[0].set_title(\"Black Defendant's Violence Decile Scores\")\n",
    "\n",
    "sns.histplot(\n",
    "    x=scores_white,\n",
    "    bins=10, \n",
    "    ax=axes[1], \n",
    "    kde=True,\n",
    "    shrink=.9,\n",
    "    discrete=True\n",
    "            )\n",
    "axes[1].set_title(\"White Defendant's Violence Decile Scores\");\n"
   ]
  },
  {
   "cell_type": "code",
   "execution_count": 467,
   "metadata": {},
   "outputs": [
    {
     "name": "stdout",
     "output_type": "stream",
     "text": [
      "Optimization terminated successfully.\n",
      "         Current function value: 0.372983\n",
      "         Iterations 7\n",
      "                           Logit Regression Results                           \n",
      "==============================================================================\n",
      "Dep. Variable:           v_score_text   No. Observations:                 4020\n",
      "Model:                          Logit   Df Residuals:                     4008\n",
      "Method:                           MLE   Df Model:                           11\n",
      "Date:                Thu, 16 Dec 2021   Pseudo R-squ.:                  0.3662\n",
      "Time:                        17:11:07   Log-Likelihood:                -1499.4\n",
      "converged:                       True   LL-Null:                       -2365.9\n",
      "Covariance Type:            nonrobust   LLR p-value:                     0.000\n",
      "===========================================================================================\n",
      "                              coef    std err          z      P>|z|      [0.025      0.975]\n",
      "-------------------------------------------------------------------------------------------\n",
      "Intercept                  -2.2427      0.113    -19.802      0.000      -2.465      -2.021\n",
      "sex_Female                 -0.7289      0.127     -5.755      0.000      -0.977      -0.481\n",
      "age_cat_Greater_than_45    -1.7421      0.184     -9.460      0.000      -2.103      -1.381\n",
      "age_cat_Less_than_25        3.1459      0.115     27.259      0.000       2.920       3.372\n",
      "race_African_American       0.6589      0.108      6.093      0.000       0.447       0.871\n",
      "race_Asian                 -0.9852      0.705     -1.397      0.162      -2.368       0.397\n",
      "race_Hispanic              -0.0642      0.191     -0.335      0.737      -0.439       0.311\n",
      "race_Native_American        0.4479      1.035      0.433      0.665      -1.582       2.477\n",
      "race_Other                 -0.2054      0.225     -0.914      0.360      -0.646       0.235\n",
      "priors_count                0.1376      0.012     11.854      0.000       0.115       0.160\n",
      "c_charge_degree_M          -0.1637      0.098     -1.669      0.095      -0.356       0.029\n",
      "two_year_recid              0.9345      0.115      8.107      0.000       0.709       1.160\n",
      "===========================================================================================\n"
     ]
    }
   ],
   "source": [
    "#Logistic Regression of Violence Decile Score\n",
    "\n",
    "#filter category columns\n",
    "cols_cat = ['v_score_text','age_cat','sex','race','c_charge_degree']\n",
    "\n",
    "#all columns of the subset\n",
    "cols_df = ['v_score_text','sex','age_cat','race','priors_count','two_year_recid','c_charge_degree']\n",
    "\n",
    "#define cat columns as category type\n",
    "df.loc[:,cols_cat].astype('category')\n",
    "\n",
    "#define data frame and do dummies coding for all cat columns\n",
    "df_lr = pd.DataFrame(df, columns = cols_df)\n",
    "df_lr = pd.get_dummies(data=df_lr,columns =cols_cat)\n",
    "\n",
    "#bring Medium and High to 1 column\n",
    "df_lr['v_score_text'] = df_lr['v_score_text_Medium'] + df_lr['v_score_text_High']\n",
    "\n",
    "      \n",
    "df = df_lr.rename(columns={\"age_cat_Less than 25\": \"age_cat_Less_than_25\", \"age_cat_Greater than 45\": \"age_cat_Greater_than_45\",\"race_Native American\":\"race_Native_American\",\"race_African-American\":\"race_African_American\"})    \n",
    "\n",
    "formula = 'v_score_text ~ sex_Female + age_cat_Greater_than_45 + age_cat_Less_than_25 + race_African_American + race_Asian + race_Hispanic + race_Native_American + race_Other + priors_count + c_charge_degree_M + two_year_recid'\n",
    "\n",
    "score_mod = logit(formula, data = df).fit()\n",
    "print(score_mod.summary())"
   ]
  },
  {
   "cell_type": "markdown",
   "metadata": {},
   "source": [
    "The violent score overpredicts recidivism for black defendants by 77.3% compared to white defendants. (between 25-45)"
   ]
  },
  {
   "cell_type": "code",
   "execution_count": 468,
   "metadata": {},
   "outputs": [
    {
     "data": {
      "text/plain": [
       "1.7738715321327136"
      ]
     },
     "execution_count": 468,
     "metadata": {},
     "output_type": "execute_result"
    }
   ],
   "source": [
    "control = np.exp(-2.2427) / (1 + np.exp(-2.2427))\n",
    "np.exp(0.6589) / (1 - control + (control * np.exp(0.6589 )))"
   ]
  },
  {
   "cell_type": "markdown",
   "metadata": {},
   "source": [
    "Defendands under 25 are 7.4 times as likely to get a higher score as middle aged defendants."
   ]
  },
  {
   "cell_type": "code",
   "execution_count": 469,
   "metadata": {},
   "outputs": [
    {
     "data": {
      "text/plain": [
       "7.4140359085177545"
      ]
     },
     "execution_count": 469,
     "metadata": {},
     "output_type": "execute_result"
    }
   ],
   "source": [
    "np.exp(3.1459) / (1 - control + (control * np.exp(3.1459)))"
   ]
  },
  {
   "cell_type": "markdown",
   "metadata": {},
   "source": [
    "## Predictive Accuracy of COMPAS\n",
    "\n",
    "In order to test whether Compas scores do an accurate job of deciding whether an offender is Low, Medium or High risk,  we ran a Cox Proportional Hazards model. Northpointe, the company that created COMPAS and markets it to Law Enforcement, also ran a Cox model in their [validation study](http://cjb.sagepub.com/content/36/1/21.abstract).\n",
    "\n",
    "We used the counting model and removed people when they were incarcerated. Due to errors in the underlying jail data, we need to filter out 32 rows that have an end date more than the start date. Considering that there are 13,334 total rows in the data, such a small amount of errors will not affect the results."
   ]
  },
  {
   "cell_type": "code",
   "execution_count": 470,
   "metadata": {},
   "outputs": [
    {
     "name": "stdout",
     "output_type": "stream",
     "text": [
      "Index(['id', 'name', 'first', 'last', 'compas_screening_date', 'sex', 'dob',\n",
      "       'age', 'age_cat', 'race', 'juv_fel_count', 'decile_score',\n",
      "       'juv_misd_count', 'juv_other_count', 'priors_count',\n",
      "       'days_b_screening_arrest', 'c_jail_in', 'c_jail_out', 'c_case_number',\n",
      "       'c_offense_date', 'c_arrest_date', 'c_days_from_compas',\n",
      "       'c_charge_degree', 'c_charge_desc', 'is_recid', 'r_case_number',\n",
      "       'r_charge_degree', 'r_days_from_arrest', 'r_offense_date',\n",
      "       'r_charge_desc', 'r_jail_in', 'r_jail_out', 'violent_recid',\n",
      "       'is_violent_recid', 'vr_case_number', 'vr_charge_degree',\n",
      "       'vr_offense_date', 'vr_charge_desc', 'type_of_assessment',\n",
      "       'decile_score.1', 'score_text', 'screening_date',\n",
      "       'v_type_of_assessment', 'v_decile_score', 'v_score_text',\n",
      "       'v_screening_date', 'in_custody', 'out_custody', 'priors_count.1',\n",
      "       'start', 'end', 'event'],\n",
      "      dtype='object')\n"
     ]
    }
   ],
   "source": [
    "# Load data and transform date column to \"datetime\"\n",
    "raw_data = pd.read_csv(\"../../data-ProPublica/cox-parsed.csv\")\n",
    "df_cp = raw_data.copy()\n",
    "\n",
    "df_cp = df_cp[(df_cp[\"end\"]>df_cp[\"start\"])].dropna(subset=['score_text'])\n",
    "df_cp_clean = df_cp.drop_duplicates([\"id\"])\n",
    "\n",
    "df_cp_clean.shape\n",
    "print(df_cp_clean.columns)\n"
   ]
  },
  {
   "cell_type": "code",
   "execution_count": 471,
   "metadata": {},
   "outputs": [],
   "source": [
    "#renaming columns\n",
    "df_cp_clean = df_cp_clean.rename(columns={\"race\": \"race_factor\", 'score_text': \"score_factor\"})"
   ]
  },
  {
   "cell_type": "code",
   "execution_count": 472,
   "metadata": {},
   "outputs": [
    {
     "data": {
      "text/plain": [
       "Low       5751\n",
       "Medium    2611\n",
       "High      1952\n",
       "Name: score_factor, dtype: int64"
      ]
     },
     "execution_count": 472,
     "metadata": {},
     "output_type": "execute_result"
    }
   ],
   "source": [
    "df_cp_clean.score_factor.value_counts()"
   ]
  },
  {
   "cell_type": "code",
   "execution_count": 473,
   "metadata": {},
   "outputs": [
    {
     "data": {
      "text/plain": [
       "African-American    5147\n",
       "Caucasian           3569\n",
       "Hispanic             944\n",
       "Other                571\n",
       "Asian                 51\n",
       "Native American       32\n",
       "Name: race_factor, dtype: int64"
      ]
     },
     "execution_count": 473,
     "metadata": {},
     "output_type": "execute_result"
    }
   ],
   "source": [
    "df_cp_clean.race_factor.value_counts()"
   ]
  },
  {
   "cell_type": "code",
   "execution_count": 474,
   "metadata": {},
   "outputs": [
    {
     "name": "stderr",
     "output_type": "stream",
     "text": [
      "/var/folders/2f/n2m_d1sn0bx5nthf7csps2b40000gn/T/ipykernel_3486/2511150612.py:2: SettingWithCopyWarning: \n",
      "A value is trying to be set on a copy of a slice from a DataFrame.\n",
      "Try using .loc[row_indexer,col_indexer] = value instead\n",
      "\n",
      "See the caveats in the documentation: https://pandas.pydata.org/pandas-docs/stable/user_guide/indexing.html#returning-a-view-versus-a-copy\n",
      "  df_score['duration'] = df_score['end']-df_score['start']\n"
     ]
    }
   ],
   "source": [
    "df_score = df_cp[['is_recid','start','end','score_text']]\n",
    "df_score['duration'] = df_score['end']-df_score['start']\n",
    "df_score=pd.get_dummies(df_score)\n",
    "\n"
   ]
  },
  {
   "cell_type": "code",
   "execution_count": 475,
   "metadata": {},
   "outputs": [
    {
     "data": {
      "text/html": [
       "<div>\n",
       "<style scoped>\n",
       "    .dataframe tbody tr th:only-of-type {\n",
       "        vertical-align: middle;\n",
       "    }\n",
       "\n",
       "    .dataframe tbody tr th {\n",
       "        vertical-align: top;\n",
       "    }\n",
       "\n",
       "    .dataframe thead th {\n",
       "        text-align: right;\n",
       "    }\n",
       "</style>\n",
       "<table border=\"1\" class=\"dataframe\">\n",
       "  <tbody>\n",
       "    <tr>\n",
       "      <th>model</th>\n",
       "      <td>lifelines.CoxPHFitter</td>\n",
       "    </tr>\n",
       "    <tr>\n",
       "      <th>duration col</th>\n",
       "      <td>'duration'</td>\n",
       "    </tr>\n",
       "    <tr>\n",
       "      <th>event col</th>\n",
       "      <td>'is_recid'</td>\n",
       "    </tr>\n",
       "    <tr>\n",
       "      <th>baseline estimation</th>\n",
       "      <td>breslow</td>\n",
       "    </tr>\n",
       "    <tr>\n",
       "      <th>number of observations</th>\n",
       "      <td>13344</td>\n",
       "    </tr>\n",
       "    <tr>\n",
       "      <th>number of events observed</th>\n",
       "      <td>4328</td>\n",
       "    </tr>\n",
       "    <tr>\n",
       "      <th>partial log-likelihood</th>\n",
       "      <td>-38768.74</td>\n",
       "    </tr>\n",
       "    <tr>\n",
       "      <th>time fit was run</th>\n",
       "      <td>2021-12-16 16:11:08 UTC</td>\n",
       "    </tr>\n",
       "  </tbody>\n",
       "</table>\n",
       "</div><table border=\"1\" class=\"dataframe\">\n",
       "  <thead>\n",
       "    <tr style=\"text-align: right;\">\n",
       "      <th style=\"min-width: 12px;\"></th>\n",
       "      <th style=\"min-width: 12px;\">coef</th>\n",
       "      <th style=\"min-width: 12px;\">exp(coef)</th>\n",
       "      <th style=\"min-width: 12px;\">se(coef)</th>\n",
       "      <th style=\"min-width: 12px;\">coef lower 95%</th>\n",
       "      <th style=\"min-width: 12px;\">coef upper 95%</th>\n",
       "      <th style=\"min-width: 12px;\">exp(coef) lower 95%</th>\n",
       "      <th style=\"min-width: 12px;\">exp(coef) upper 95%</th>\n",
       "      <th style=\"min-width: 12px;\">z</th>\n",
       "      <th style=\"min-width: 12px;\">p</th>\n",
       "      <th style=\"min-width: 12px;\">-log2(p)</th>\n",
       "    </tr>\n",
       "  </thead>\n",
       "  <tbody>\n",
       "    <tr>\n",
       "      <th>score_text_High</th>\n",
       "      <td>1.22</td>\n",
       "      <td>3.38</td>\n",
       "      <td>0.04</td>\n",
       "      <td>1.14</td>\n",
       "      <td>1.29</td>\n",
       "      <td>3.14</td>\n",
       "      <td>3.63</td>\n",
       "      <td>32.72</td>\n",
       "      <td>&lt;0.005</td>\n",
       "      <td>777.68</td>\n",
       "    </tr>\n",
       "    <tr>\n",
       "      <th>score_text_Medium</th>\n",
       "      <td>0.76</td>\n",
       "      <td>2.13</td>\n",
       "      <td>0.04</td>\n",
       "      <td>0.69</td>\n",
       "      <td>0.83</td>\n",
       "      <td>1.98</td>\n",
       "      <td>2.30</td>\n",
       "      <td>20.44</td>\n",
       "      <td>&lt;0.005</td>\n",
       "      <td>306.15</td>\n",
       "    </tr>\n",
       "  </tbody>\n",
       "</table><br><div>\n",
       "<style scoped>\n",
       "    .dataframe tbody tr th:only-of-type {\n",
       "        vertical-align: middle;\n",
       "    }\n",
       "\n",
       "    .dataframe tbody tr th {\n",
       "        vertical-align: top;\n",
       "    }\n",
       "\n",
       "    .dataframe thead th {\n",
       "        text-align: right;\n",
       "    }\n",
       "</style>\n",
       "<table border=\"1\" class=\"dataframe\">\n",
       "  <tbody>\n",
       "    <tr>\n",
       "      <th>Concordance</th>\n",
       "      <td>0.63</td>\n",
       "    </tr>\n",
       "    <tr>\n",
       "      <th>Partial AIC</th>\n",
       "      <td>77541.47</td>\n",
       "    </tr>\n",
       "    <tr>\n",
       "      <th>log-likelihood ratio test</th>\n",
       "      <td>1101.79 on 2 df</td>\n",
       "    </tr>\n",
       "    <tr>\n",
       "      <th>-log2(p) of ll-ratio test</th>\n",
       "      <td>794.77</td>\n",
       "    </tr>\n",
       "  </tbody>\n",
       "</table>\n",
       "</div>"
      ],
      "text/latex": [
       "\\begin{tabular}{lrrrrrrrrrr}\n",
       "\\toprule\n",
       "{} &  coef &  exp(coef) &  se(coef) &  coef lower 95\\% &  coef upper 95\\% &  exp(coef) lower 95\\% &  exp(coef) upper 95\\% &     z &    p &  -log2(p) \\\\\n",
       "covariate         &       &            &           &                 &                 &                      &                      &       &      &           \\\\\n",
       "\\midrule\n",
       "score\\_text\\_High   &  1.22 &       3.38 &      0.04 &            1.14 &            1.29 &                 3.14 &                 3.63 & 32.72 & 0.00 &    777.68 \\\\\n",
       "score\\_text\\_Medium &  0.76 &       2.13 &      0.04 &            0.69 &            0.83 &                 1.98 &                 2.30 & 20.44 & 0.00 &    306.15 \\\\\n",
       "\\bottomrule\n",
       "\\end{tabular}\n"
      ],
      "text/plain": [
       "<lifelines.CoxPHFitter: fitted with 13344 total observations, 9016 right-censored observations>\n",
       "             duration col = 'duration'\n",
       "                event col = 'is_recid'\n",
       "      baseline estimation = breslow\n",
       "   number of observations = 13344\n",
       "number of events observed = 4328\n",
       "   partial log-likelihood = -38768.74\n",
       "         time fit was run = 2021-12-16 16:11:08 UTC\n",
       "\n",
       "---\n",
       "                    coef  exp(coef)   se(coef)   coef lower 95%   coef upper 95%  exp(coef) lower 95%  exp(coef) upper 95%\n",
       "covariate                                                                                                                 \n",
       "score_text_High     1.22       3.38       0.04             1.14             1.29                 3.14                 3.63\n",
       "score_text_Medium   0.76       2.13       0.04             0.69             0.83                 1.98                 2.30\n",
       "\n",
       "                      z      p   -log2(p)\n",
       "covariate                                \n",
       "score_text_High   32.72 <0.005     777.68\n",
       "score_text_Medium 20.44 <0.005     306.15\n",
       "---\n",
       "Concordance = 0.63\n",
       "Partial AIC = 77541.47\n",
       "log-likelihood ratio test = 1101.79 on 2 df\n",
       "-log2(p) of ll-ratio test = 794.77"
      ]
     },
     "metadata": {},
     "output_type": "display_data"
    }
   ],
   "source": [
    "from lifelines import CoxPHFitter\n",
    "from lifelines.datasets import load_rossi\n",
    "\n",
    "\n",
    "cph = CoxPHFitter()\n",
    "df_score = df_score[['is_recid','duration','score_text_High','score_text_Medium']]\n",
    "cph.fit(df_score, 'duration', 'is_recid')\n",
    "cph.print_summary() \n"
   ]
  },
  {
   "cell_type": "markdown",
   "metadata": {},
   "source": [
    "People placed in the High category are 3.5 times as likely to recidivate, and the COMPAS system's concordance 63.6%. This is lower than the accuracy quoted in the Northpoint study of 68%."
   ]
  },
  {
   "cell_type": "code",
   "execution_count": 476,
   "metadata": {},
   "outputs": [
    {
     "name": "stderr",
     "output_type": "stream",
     "text": [
      "/var/folders/2f/n2m_d1sn0bx5nthf7csps2b40000gn/T/ipykernel_3486/1585874853.py:2: SettingWithCopyWarning: \n",
      "A value is trying to be set on a copy of a slice from a DataFrame.\n",
      "Try using .loc[row_indexer,col_indexer] = value instead\n",
      "\n",
      "See the caveats in the documentation: https://pandas.pydata.org/pandas-docs/stable/user_guide/indexing.html#returning-a-view-versus-a-copy\n",
      "  df_decile['duration'] = df_decile['end']-df_decile['start']\n"
     ]
    }
   ],
   "source": [
    "df_decile = df_cp[['is_recid','start','end','decile_score']]\n",
    "df_decile['duration'] = df_decile['end']-df_decile['start']\n",
    "#df_decile=pd.get_dummies(df_decile)\n",
    "#print(df_decile)\n"
   ]
  },
  {
   "cell_type": "code",
   "execution_count": 477,
   "metadata": {},
   "outputs": [
    {
     "data": {
      "text/html": [
       "<div>\n",
       "<style scoped>\n",
       "    .dataframe tbody tr th:only-of-type {\n",
       "        vertical-align: middle;\n",
       "    }\n",
       "\n",
       "    .dataframe tbody tr th {\n",
       "        vertical-align: top;\n",
       "    }\n",
       "\n",
       "    .dataframe thead th {\n",
       "        text-align: right;\n",
       "    }\n",
       "</style>\n",
       "<table border=\"1\" class=\"dataframe\">\n",
       "  <tbody>\n",
       "    <tr>\n",
       "      <th>model</th>\n",
       "      <td>lifelines.CoxPHFitter</td>\n",
       "    </tr>\n",
       "    <tr>\n",
       "      <th>duration col</th>\n",
       "      <td>'duration'</td>\n",
       "    </tr>\n",
       "    <tr>\n",
       "      <th>event col</th>\n",
       "      <td>'is_recid'</td>\n",
       "    </tr>\n",
       "    <tr>\n",
       "      <th>baseline estimation</th>\n",
       "      <td>breslow</td>\n",
       "    </tr>\n",
       "    <tr>\n",
       "      <th>number of observations</th>\n",
       "      <td>13344</td>\n",
       "    </tr>\n",
       "    <tr>\n",
       "      <th>number of events observed</th>\n",
       "      <td>4328</td>\n",
       "    </tr>\n",
       "    <tr>\n",
       "      <th>partial log-likelihood</th>\n",
       "      <td>-38672.30</td>\n",
       "    </tr>\n",
       "    <tr>\n",
       "      <th>time fit was run</th>\n",
       "      <td>2021-12-16 16:11:09 UTC</td>\n",
       "    </tr>\n",
       "  </tbody>\n",
       "</table>\n",
       "</div><table border=\"1\" class=\"dataframe\">\n",
       "  <thead>\n",
       "    <tr style=\"text-align: right;\">\n",
       "      <th style=\"min-width: 12px;\"></th>\n",
       "      <th style=\"min-width: 12px;\">coef</th>\n",
       "      <th style=\"min-width: 12px;\">exp(coef)</th>\n",
       "      <th style=\"min-width: 12px;\">se(coef)</th>\n",
       "      <th style=\"min-width: 12px;\">coef lower 95%</th>\n",
       "      <th style=\"min-width: 12px;\">coef upper 95%</th>\n",
       "      <th style=\"min-width: 12px;\">exp(coef) lower 95%</th>\n",
       "      <th style=\"min-width: 12px;\">exp(coef) upper 95%</th>\n",
       "      <th style=\"min-width: 12px;\">z</th>\n",
       "      <th style=\"min-width: 12px;\">p</th>\n",
       "      <th style=\"min-width: 12px;\">-log2(p)</th>\n",
       "    </tr>\n",
       "  </thead>\n",
       "  <tbody>\n",
       "    <tr>\n",
       "      <th>decile_score</th>\n",
       "      <td>0.19</td>\n",
       "      <td>1.21</td>\n",
       "      <td>0.01</td>\n",
       "      <td>0.18</td>\n",
       "      <td>0.20</td>\n",
       "      <td>1.20</td>\n",
       "      <td>1.22</td>\n",
       "      <td>36.02</td>\n",
       "      <td>&lt;0.005</td>\n",
       "      <td>941.61</td>\n",
       "    </tr>\n",
       "  </tbody>\n",
       "</table><br><div>\n",
       "<style scoped>\n",
       "    .dataframe tbody tr th:only-of-type {\n",
       "        vertical-align: middle;\n",
       "    }\n",
       "\n",
       "    .dataframe tbody tr th {\n",
       "        vertical-align: top;\n",
       "    }\n",
       "\n",
       "    .dataframe thead th {\n",
       "        text-align: right;\n",
       "    }\n",
       "</style>\n",
       "<table border=\"1\" class=\"dataframe\">\n",
       "  <tbody>\n",
       "    <tr>\n",
       "      <th>Concordance</th>\n",
       "      <td>0.66</td>\n",
       "    </tr>\n",
       "    <tr>\n",
       "      <th>Partial AIC</th>\n",
       "      <td>77346.61</td>\n",
       "    </tr>\n",
       "    <tr>\n",
       "      <th>log-likelihood ratio test</th>\n",
       "      <td>1294.65 on 1 df</td>\n",
       "    </tr>\n",
       "    <tr>\n",
       "      <th>-log2(p) of ll-ratio test</th>\n",
       "      <td>939.39</td>\n",
       "    </tr>\n",
       "  </tbody>\n",
       "</table>\n",
       "</div>"
      ],
      "text/latex": [
       "\\begin{tabular}{lrrrrrrrrrr}\n",
       "\\toprule\n",
       "{} &  coef &  exp(coef) &  se(coef) &  coef lower 95\\% &  coef upper 95\\% &  exp(coef) lower 95\\% &  exp(coef) upper 95\\% &     z &    p &  -log2(p) \\\\\n",
       "covariate    &       &            &           &                 &                 &                      &                      &       &      &           \\\\\n",
       "\\midrule\n",
       "decile\\_score &  0.19 &       1.21 &      0.01 &            0.18 &            0.20 &                 1.20 &                 1.22 & 36.02 & 0.00 &    941.61 \\\\\n",
       "\\bottomrule\n",
       "\\end{tabular}\n"
      ],
      "text/plain": [
       "<lifelines.CoxPHFitter: fitted with 13344 total observations, 9016 right-censored observations>\n",
       "             duration col = 'duration'\n",
       "                event col = 'is_recid'\n",
       "      baseline estimation = breslow\n",
       "   number of observations = 13344\n",
       "number of events observed = 4328\n",
       "   partial log-likelihood = -38672.30\n",
       "         time fit was run = 2021-12-16 16:11:09 UTC\n",
       "\n",
       "---\n",
       "               coef  exp(coef)   se(coef)   coef lower 95%   coef upper 95%  exp(coef) lower 95%  exp(coef) upper 95%\n",
       "covariate                                                                                                            \n",
       "decile_score   0.19       1.21       0.01             0.18             0.20                 1.20                 1.22\n",
       "\n",
       "                 z      p   -log2(p)\n",
       "covariate                           \n",
       "decile_score 36.02 <0.005     941.61\n",
       "---\n",
       "Concordance = 0.66\n",
       "Partial AIC = 77346.61\n",
       "log-likelihood ratio test = 1294.65 on 1 df\n",
       "-log2(p) of ll-ratio test = 939.39"
      ]
     },
     "metadata": {},
     "output_type": "display_data"
    }
   ],
   "source": [
    "from lifelines import CoxPHFitter\n",
    "from lifelines.datasets import load_rossi\n",
    "\n",
    "\n",
    "cph = CoxPHFitter()\n",
    "df_decile = df_decile[['is_recid','duration','decile_score']]\n",
    "cph.fit(df_decile, 'duration', 'is_recid')\n",
    "cph.print_summary() "
   ]
  },
  {
   "cell_type": "markdown",
   "metadata": {},
   "source": [
    "COMPAS's decile scores are a bit more accurate at 66%.\n",
    "\n",
    "We can test if the algorithm is behaving differently across races by including a race interaction term in the cox model."
   ]
  },
  {
   "cell_type": "code",
   "execution_count": null,
   "metadata": {},
   "outputs": [],
   "source": []
  },
  {
   "cell_type": "markdown",
   "metadata": {},
   "source": []
  },
  {
   "cell_type": "markdown",
   "metadata": {},
   "source": []
  },
  {
   "cell_type": "code",
   "execution_count": 478,
   "metadata": {},
   "outputs": [
    {
     "name": "stdout",
     "output_type": "stream",
     "text": [
      "       is_recid  duration  score_text_High  score_text_Medium\n",
      "0             0       327                1                  0\n",
      "1             0       627                1                  0\n",
      "2             1       150                1                  0\n",
      "3             1        63                1                  0\n",
      "4             1         1                1                  0\n",
      "...         ...       ...              ...                ...\n",
      "13414         0       450                1                  1\n",
      "13415         0       808                1                  0\n",
      "13416         0       754                1                  0\n",
      "13417         1       258                1                  0\n",
      "13418         1         1                1                  0\n",
      "\n",
      "[13344 rows x 4 columns]\n"
     ]
    }
   ],
   "source": [
    "df_score['score_text_High']=df_score['score_text_High']+1\n",
    "print(df_score)"
   ]
  },
  {
   "cell_type": "code",
   "execution_count": 483,
   "metadata": {},
   "outputs": [
    {
     "name": "stdout",
     "output_type": "stream",
     "text": [
      "       is_recid  duration  score_text_High  score_text_Medium  score_text\n",
      "0             0       327                1                  0           1\n",
      "1             0       627                1                  0           1\n",
      "2             1       150                1                  0           1\n",
      "3             1        63                1                  0           1\n",
      "4             1         1                1                  0           1\n",
      "...         ...       ...              ...                ...         ...\n",
      "13414         0       450                1                  1           2\n",
      "13415         0       808                1                  0           1\n",
      "13416         0       754                1                  0           1\n",
      "13417         1       258                1                  0           1\n",
      "13418         1         1                1                  0           1\n",
      "\n",
      "[13344 rows x 5 columns]\n"
     ]
    }
   ],
   "source": [
    "df_score['score_text'] = df_score['score_text_High']+df_score['score_text_Medium']\n",
    "print(df_score)\n"
   ]
  },
  {
   "cell_type": "code",
   "execution_count": 486,
   "metadata": {},
   "outputs": [
    {
     "ename": "KeyError",
     "evalue": "'covariate `score_text` is not present in the original dataset'",
     "output_type": "error",
     "traceback": [
      "\u001b[0;31m---------------------------------------------------------------------------\u001b[0m",
      "\u001b[0;31mKeyError\u001b[0m                                  Traceback (most recent call last)",
      "\u001b[0;32m/var/folders/2f/n2m_d1sn0bx5nthf7csps2b40000gn/T/ipykernel_3486/302610914.py\u001b[0m in \u001b[0;36m<module>\u001b[0;34m\u001b[0m\n\u001b[1;32m      1\u001b[0m \u001b[0;31m#cph.fit(df_score, 'duration', 'is_recid')\u001b[0m\u001b[0;34m\u001b[0m\u001b[0;34m\u001b[0m\u001b[0m\n\u001b[0;32m----> 2\u001b[0;31m \u001b[0mcph\u001b[0m\u001b[0;34m.\u001b[0m\u001b[0mplot_partial_effects_on_outcome\u001b[0m\u001b[0;34m(\u001b[0m\u001b[0mcovariates\u001b[0m\u001b[0;34m=\u001b[0m\u001b[0;34m'score_text'\u001b[0m\u001b[0;34m,\u001b[0m \u001b[0mvalues\u001b[0m\u001b[0;34m=\u001b[0m\u001b[0mnp\u001b[0m\u001b[0;34m.\u001b[0m\u001b[0marange\u001b[0m\u001b[0;34m(\u001b[0m\u001b[0;36m1\u001b[0m\u001b[0;34m,\u001b[0m\u001b[0;36m3\u001b[0m\u001b[0;34m)\u001b[0m\u001b[0;34m,\u001b[0m \u001b[0mcmap\u001b[0m\u001b[0;34m=\u001b[0m\u001b[0;34m'coolwarm'\u001b[0m\u001b[0;34m)\u001b[0m\u001b[0;34m\u001b[0m\u001b[0;34m\u001b[0m\u001b[0m\n\u001b[0m",
      "\u001b[0;32m/Library/Frameworks/Python.framework/Versions/3.10/lib/python3.10/site-packages/lifelines/fitters/coxph_fitter.py\u001b[0m in \u001b[0;36mplot_partial_effects_on_outcome\u001b[0;34m(self, covariates, values, plot_baseline, y, **kwargs)\u001b[0m\n\u001b[1;32m    939\u001b[0m         \u001b[0;32mfor\u001b[0m \u001b[0mcovariate\u001b[0m \u001b[0;32min\u001b[0m \u001b[0mcovariates\u001b[0m\u001b[0;34m:\u001b[0m\u001b[0;34m\u001b[0m\u001b[0;34m\u001b[0m\u001b[0m\n\u001b[1;32m    940\u001b[0m             \u001b[0;32mif\u001b[0m \u001b[0mcovariate\u001b[0m \u001b[0;32mnot\u001b[0m \u001b[0;32min\u001b[0m \u001b[0mself\u001b[0m\u001b[0;34m.\u001b[0m\u001b[0m_central_values\u001b[0m\u001b[0;34m.\u001b[0m\u001b[0mcolumns\u001b[0m\u001b[0;34m:\u001b[0m\u001b[0;34m\u001b[0m\u001b[0;34m\u001b[0m\u001b[0m\n\u001b[0;32m--> 941\u001b[0;31m                 \u001b[0;32mraise\u001b[0m \u001b[0mKeyError\u001b[0m\u001b[0;34m(\u001b[0m\u001b[0;34m\"covariate `%s` is not present in the original dataset\"\u001b[0m \u001b[0;34m%\u001b[0m \u001b[0mcovariate\u001b[0m\u001b[0;34m)\u001b[0m\u001b[0;34m\u001b[0m\u001b[0;34m\u001b[0m\u001b[0m\n\u001b[0m\u001b[1;32m    942\u001b[0m \u001b[0;34m\u001b[0m\u001b[0m\n\u001b[1;32m    943\u001b[0m         \u001b[0mdrawstyle\u001b[0m \u001b[0;34m=\u001b[0m \u001b[0;34m\"steps-post\"\u001b[0m \u001b[0;32mif\u001b[0m \u001b[0misinstance\u001b[0m\u001b[0;34m(\u001b[0m\u001b[0mself\u001b[0m\u001b[0;34m.\u001b[0m\u001b[0m_model\u001b[0m\u001b[0;34m,\u001b[0m \u001b[0mSemiParametricRegressionFitter\u001b[0m\u001b[0;34m)\u001b[0m \u001b[0;32melse\u001b[0m \u001b[0;32mNone\u001b[0m\u001b[0;34m\u001b[0m\u001b[0;34m\u001b[0m\u001b[0m\n",
      "\u001b[0;31mKeyError\u001b[0m: 'covariate `score_text` is not present in the original dataset'"
     ]
    }
   ],
   "source": [
    "#cph.fit(df_score, 'duration', 'is_recid')\n",
    "cph.plot_partial_effects_on_outcome(covariates='score_text', values=np.arange(1,3), cmap='coolwarm')"
   ]
  },
  {
   "cell_type": "markdown",
   "metadata": {},
   "source": [
    "## Directions of the Racial Bias\n",
    "\n",
    "The above analysis shows that the Compas algorithm does overpredict African-American defendant's future recidivism, but we haven't yet explored the direction of the bias. We can discover fine differences in overprediction and underprediction by comparing Compas scores across racial lines."
   ]
  },
  {
   "cell_type": "code",
   "execution_count": null,
   "metadata": {},
   "outputs": [],
   "source": [
    "from truth_tables import PeekyReader, Person, table, is_race, count, vtable, hightable, vhightable\n",
    "from csv import DictReader\n",
    "\n",
    "people = []\n",
    "with open(\"../../data-ProPublica/cox-parsed.csv\") as f:\n",
    "    reader = PeekyReader(DictReader(f))\n",
    "    try:\n",
    "        while True:\n",
    "            p = Person(reader)\n",
    "            if p.valid:\n",
    "                people.append(p)\n",
    "    except StopIteration:\n",
    "        pass\n",
    "\n",
    "pop = list(filter(lambda i: ((i.recidivist == True and i.lifetime <= 730) or\n",
    "                              i.lifetime > 730), list(filter(lambda x: x.score_valid, people))))\n",
    "recid = list(filter(lambda i: i.recidivist == True and i.lifetime <= 730, pop))\n",
    "rset = set(recid)\n",
    "surv = [i for i in pop if i not in rset]"
   ]
  },
  {
   "cell_type": "code",
   "execution_count": null,
   "metadata": {},
   "outputs": [
    {
     "name": "stdout",
     "output_type": "stream",
     "text": [
      "All defendants\n",
      "           \tLow\tHigh\n",
      "Survived   \t2681\t1282\t0.55\n",
      "Recidivated\t1216\t2035\t0.45\n",
      "Total: 7214.00\n",
      "False positive rate: 32.35\n",
      "False negative rate: 37.40\n",
      "Specificity: 0.68\n",
      "Sensitivity: 0.63\n",
      "Prevalence: 0.45\n",
      "PPV: 0.61\n",
      "NPV: 0.69\n",
      "LR+: 1.94\n",
      "LR-: 0.55\n"
     ]
    }
   ],
   "source": [
    "print(\"All defendants\")\n",
    "table(list(recid), list(surv))"
   ]
  },
  {
   "cell_type": "code",
   "execution_count": null,
   "metadata": {},
   "outputs": [
    {
     "name": "stdout",
     "output_type": "stream",
     "text": [
      "Total pop: 7214\n"
     ]
    }
   ],
   "source": [
    "print(\"Total pop: %i\" % (2681 + 1282 + 1216 + 2035))"
   ]
  },
  {
   "cell_type": "code",
   "execution_count": null,
   "metadata": {},
   "outputs": [
    {
     "name": "stdout",
     "output_type": "stream",
     "text": [
      "Average followup time 622.87 (sd 392.19)\n",
      "Median followup time 766\n"
     ]
    }
   ],
   "source": [
    "import statistics\n",
    "print(\"Average followup time %.2f (sd %.2f)\" % (statistics.mean(map(lambda i: i.lifetime, pop)),\n",
    "                                                statistics.stdev(map(lambda i: i.lifetime, pop))))\n",
    "print(\"Median followup time %i\" % (statistics.median(map(lambda i: i.lifetime, pop))))"
   ]
  },
  {
   "cell_type": "markdown",
   "metadata": {},
   "source": [
    "Overall, the false positive rate is 32.35%."
   ]
  },
  {
   "cell_type": "code",
   "execution_count": null,
   "metadata": {},
   "outputs": [
    {
     "name": "stdout",
     "output_type": "stream",
     "text": [
      "Black defendants\n",
      "           \tLow\tHigh\n",
      "Survived   \t990\t805\t0.49\n",
      "Recidivated\t532\t1369\t0.51\n",
      "Total: 3696.00\n",
      "False positive rate: 44.85\n",
      "False negative rate: 27.99\n",
      "Specificity: 0.55\n",
      "Sensitivity: 0.72\n",
      "Prevalence: 0.51\n",
      "PPV: 0.63\n",
      "NPV: 0.65\n",
      "LR+: 1.61\n",
      "LR-: 0.51\n"
     ]
    }
   ],
   "source": [
    "print(\"Black defendants\")\n",
    "is_afam = is_race(\"African-American\")\n",
    "table(list(filter(is_afam, recid)), list(filter(is_afam, surv)))"
   ]
  },
  {
   "cell_type": "markdown",
   "metadata": {},
   "source": [
    "That number is higher for African Americans at 44.85%."
   ]
  },
  {
   "cell_type": "code",
   "execution_count": null,
   "metadata": {},
   "outputs": [
    {
     "name": "stdout",
     "output_type": "stream",
     "text": [
      "White defendants\n",
      "           \tLow\tHigh\n",
      "Survived   \t1139\t349\t0.61\n",
      "Recidivated\t461\t505\t0.39\n",
      "Total: 2454.00\n",
      "False positive rate: 23.45\n",
      "False negative rate: 47.72\n",
      "Specificity: 0.77\n",
      "Sensitivity: 0.52\n",
      "Prevalence: 0.39\n",
      "PPV: 0.59\n",
      "NPV: 0.71\n",
      "LR+: 2.23\n",
      "LR-: 0.62\n"
     ]
    }
   ],
   "source": [
    "print(\"White defendants\")\n",
    "is_white = is_race(\"Caucasian\")\n",
    "table(list(filter(is_white, recid)), list(filter(is_white, surv)))"
   ]
  },
  {
   "cell_type": "markdown",
   "metadata": {},
   "source": [
    "And lower for whites at 23.45%."
   ]
  },
  {
   "cell_type": "code",
   "execution_count": null,
   "metadata": {},
   "outputs": [
    {
     "data": {
      "text/plain": [
       "1.9125799573560769"
      ]
     },
     "execution_count": 372,
     "metadata": {},
     "output_type": "execute_result"
    }
   ],
   "source": [
    "44.85 / 23.45"
   ]
  },
  {
   "cell_type": "markdown",
   "metadata": {},
   "source": [
    "Which means under COMPAS black defendants are 91% more likely to get a higher score and not go on to commit more crimes than white defendants after two year."
   ]
  },
  {
   "cell_type": "markdown",
   "metadata": {},
   "source": [
    "COMPAS scores misclassify white reoffenders as low risk at 70.4% more often than black reoffenders."
   ]
  },
  {
   "cell_type": "code",
   "execution_count": null,
   "metadata": {},
   "outputs": [
    {
     "data": {
      "text/plain": [
       "1.7048946052161487"
      ]
     },
     "execution_count": 373,
     "metadata": {},
     "output_type": "execute_result"
    }
   ],
   "source": [
    "47.72 / 27.99"
   ]
  },
  {
   "cell_type": "code",
   "execution_count": null,
   "metadata": {},
   "outputs": [
    {
     "name": "stdout",
     "output_type": "stream",
     "text": [
      "           \tLow\tHigh\n",
      "Survived   \t1407\t81\t0.61\n",
      "Recidivated\t771\t195\t0.39\n",
      "Total: 2454.00\n",
      "False positive rate: 5.44\n",
      "False negative rate: 79.81\n",
      "Specificity: 0.95\n",
      "Sensitivity: 0.20\n",
      "Prevalence: 0.39\n",
      "PPV: 0.71\n",
      "NPV: 0.65\n",
      "LR+: 3.71\n",
      "LR-: 0.84\n"
     ]
    }
   ],
   "source": [
    "hightable(list(filter(is_white, recid)), list(filter(is_white, surv)))"
   ]
  },
  {
   "cell_type": "code",
   "execution_count": null,
   "metadata": {},
   "outputs": [
    {
     "name": "stdout",
     "output_type": "stream",
     "text": [
      "           \tLow\tHigh\n",
      "Survived   \t1511\t284\t0.49\n",
      "Recidivated\t1160\t741\t0.51\n",
      "Total: 3696.00\n",
      "False positive rate: 15.82\n",
      "False negative rate: 61.02\n",
      "Specificity: 0.84\n",
      "Sensitivity: 0.39\n",
      "Prevalence: 0.51\n",
      "PPV: 0.72\n",
      "NPV: 0.57\n",
      "LR+: 2.46\n",
      "LR-: 0.72\n"
     ]
    }
   ],
   "source": [
    "hightable(list(filter(is_afam, recid)), list(filter(is_afam, surv)))"
   ]
  },
  {
   "cell_type": "markdown",
   "metadata": {},
   "source": [
    "## Risk of Violent Recidivism\n",
    "\n",
    "Compas also offers a score that aims to measure a persons risk of violent recidivism, which has a similar overall accuracy to the Recidivism score."
   ]
  },
  {
   "cell_type": "code",
   "execution_count": null,
   "metadata": {},
   "outputs": [],
   "source": [
    "vpeople = []\n",
    "with open(\"../../data-ProPublica/cox-violent-parsed.csv\") as f:\n",
    "    reader = PeekyReader(DictReader(f))\n",
    "    try:\n",
    "        while True:\n",
    "            p = Person(reader)\n",
    "            if p.valid:\n",
    "                vpeople.append(p)\n",
    "    except StopIteration:\n",
    "        pass\n",
    "\n",
    "vpop = list(filter(lambda i: ((i.violent_recidivist == True and i.lifetime <= 730) or\n",
    "                              i.lifetime > 730), list(filter(lambda x: x.vscore_valid, vpeople))))\n",
    "vrecid = list(filter(lambda i: i.violent_recidivist == True and i.lifetime <= 730, vpeople))\n",
    "vrset = set(vrecid)\n",
    "vsurv = [i for i in vpop if i not in vrset]"
   ]
  },
  {
   "cell_type": "code",
   "execution_count": null,
   "metadata": {},
   "outputs": [
    {
     "name": "stdout",
     "output_type": "stream",
     "text": [
      "All defendants\n",
      "           \tLow\tHigh\n",
      "Survived   \t4121\t1597\t0.89\n",
      "Recidivated\t347\t389\t0.11\n",
      "Total: 6454.00\n",
      "False positive rate: 27.93\n",
      "False negative rate: 47.15\n",
      "Specificity: 0.72\n",
      "Sensitivity: 0.53\n",
      "Prevalence: 0.11\n",
      "PPV: 0.20\n",
      "NPV: 0.92\n",
      "LR+: 1.89\n",
      "LR-: 0.65\n"
     ]
    }
   ],
   "source": [
    "print(\"All defendants\")\n",
    "vtable(list(vrecid), list(vsurv))"
   ]
  },
  {
   "cell_type": "markdown",
   "metadata": {},
   "source": [
    "Even moreso for Black defendants."
   ]
  },
  {
   "cell_type": "code",
   "execution_count": null,
   "metadata": {},
   "outputs": [
    {
     "name": "stdout",
     "output_type": "stream",
     "text": [
      "Black defendants\n",
      "           \tLow\tHigh\n",
      "Survived   \t1692\t1043\t0.86\n",
      "Recidivated\t170\t273\t0.14\n",
      "Total: 3178.00\n",
      "False positive rate: 38.14\n",
      "False negative rate: 38.37\n",
      "Specificity: 0.62\n",
      "Sensitivity: 0.62\n",
      "Prevalence: 0.14\n",
      "PPV: 0.21\n",
      "NPV: 0.91\n",
      "LR+: 1.62\n",
      "LR-: 0.62\n"
     ]
    }
   ],
   "source": [
    "print(\"Black defendants\")\n",
    "is_afam = is_race(\"African-American\")\n",
    "vtable(list(filter(is_afam, vrecid)), list(filter(is_afam, vsurv)))"
   ]
  },
  {
   "cell_type": "code",
   "execution_count": null,
   "metadata": {},
   "outputs": [
    {
     "name": "stdout",
     "output_type": "stream",
     "text": [
      "White defendants\n",
      "           \tLow\tHigh\n",
      "Survived   \t1679\t380\t0.91\n",
      "Recidivated\t129\t77\t0.09\n",
      "Total: 2265.00\n",
      "False positive rate: 18.46\n",
      "False negative rate: 62.62\n",
      "Specificity: 0.82\n",
      "Sensitivity: 0.37\n",
      "Prevalence: 0.09\n",
      "PPV: 0.17\n",
      "NPV: 0.93\n",
      "LR+: 2.03\n",
      "LR-: 0.77\n"
     ]
    }
   ],
   "source": [
    "print(\"White defendants\")\n",
    "is_white = is_race(\"Caucasian\")\n",
    "vtable(list(filter(is_white, vrecid)), list(filter(is_white, vsurv)))"
   ]
  },
  {
   "cell_type": "markdown",
   "metadata": {},
   "source": [
    "Black defendants are twice as likely to be false positives for a Higher violent score than white defendants."
   ]
  },
  {
   "cell_type": "code",
   "execution_count": null,
   "metadata": {},
   "outputs": [
    {
     "data": {
      "text/plain": [
       "2.066088840736728"
      ]
     },
     "execution_count": 380,
     "metadata": {},
     "output_type": "execute_result"
    }
   ],
   "source": [
    "38.14 / 18.46"
   ]
  },
  {
   "cell_type": "markdown",
   "metadata": {},
   "source": [
    "White defendants are 63% more likely to get a lower score and commit another crime than Black defendants."
   ]
  },
  {
   "cell_type": "code",
   "execution_count": null,
   "metadata": {},
   "outputs": [
    {
     "data": {
      "text/plain": [
       "1.63200416992442"
      ]
     },
     "execution_count": 381,
     "metadata": {},
     "output_type": "execute_result"
    }
   ],
   "source": [
    "62.62 / 38.37"
   ]
  },
  {
   "cell_type": "markdown",
   "metadata": {},
   "source": [
    "## Gender differences in Compas scores\n",
    "\n",
    "In terms of underlying recidivism rates, we can look at gender specific Kaplan Meier estimates. There is a striking difference between women and men."
   ]
  },
  {
   "cell_type": "code",
   "execution_count": null,
   "metadata": {},
   "outputs": [],
   "source": [
    "female = df_cp[df_cp[\"sex\"]==\"Female\"]\n",
    "male = df_cp[df_cp[\"sex\"]==\"Male\"]"
   ]
  }
 ],
 "metadata": {
  "interpreter": {
   "hash": "aee8b7b246df8f9039afb4144a1f6fd8d2ca17a180786b69acc140d282b71a49"
  },
  "kernelspec": {
   "display_name": "Python 3.10.0 64-bit",
   "language": "python",
   "name": "python3"
  },
  "language_info": {
   "codemirror_mode": {
    "name": "ipython",
    "version": 3
   },
   "file_extension": ".py",
   "mimetype": "text/x-python",
   "name": "python",
   "nbconvert_exporter": "python",
   "pygments_lexer": "ipython3",
   "version": "3.10.0"
  },
  "orig_nbformat": 4
 },
 "nbformat": 4,
 "nbformat_minor": 2
}
