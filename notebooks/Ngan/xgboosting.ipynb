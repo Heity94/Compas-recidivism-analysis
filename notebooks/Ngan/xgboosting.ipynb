{
 "cells": [
  {
   "cell_type": "code",
   "execution_count": 126,
   "metadata": {},
   "outputs": [],
   "source": [
    "\n",
    "from category_encoders.one_hot import OneHotEncoder\n",
    "from sklearn.compose import ColumnTransformer\n",
    "from sklearn.pipeline import Pipeline\n",
    "\n",
    "import pandas as pd\n",
    "import numpy as np\n",
    "import matplotlib.pyplot as plt\n",
    "import seaborn as sns\n",
    "from pandas.plotting import scatter_matrix\n",
    "from sklearn import metrics\n",
    "#from sklearn.tree import DecisionTreeClassifier, DecisionTreeRegressor\n",
    "from sklearn.metrics import mean_squared_error, r2_score, roc_auc_score, confusion_matrix, classification_report,log_loss\n",
    "import xgboost as xgb\n",
    "from xgboost import XGBRegressor, XGBClassifier\n",
    "import dalex as dx #explainer for our model\n",
    "from sklearn.pipeline import make_pipeline, Pipeline\n",
    "from sklearn.compose import make_column_selector, make_column_transformer\n",
    "from sklearn.neighbors import KNeighborsClassifier\n",
    "from sklearn.preprocessing import LabelEncoder, OneHotEncoder, StandardScaler, MinMaxScaler, OrdinalEncoder\n",
    "from sklearn.impute import KNNImputer, SimpleImputer\n",
    "from sklearn.inspection import permutation_importance\n",
    "from sklearn.model_selection import cross_validate, GridSearchCV, train_test_split, RandomizedSearchCV, cross_val_score\n",
    "\n",
    "from sklearn import set_config; set_config(display='diagram')\n",
    "ran = 123\n",
    "seed = 123"
   ]
  },
  {
   "cell_type": "markdown",
   "metadata": {},
   "source": [
    "# Load Data"
   ]
  },
  {
   "cell_type": "code",
   "execution_count": 127,
   "metadata": {},
   "outputs": [
    {
     "data": {
      "text/html": [
       "<div>\n",
       "<style scoped>\n",
       "    .dataframe tbody tr th:only-of-type {\n",
       "        vertical-align: middle;\n",
       "    }\n",
       "\n",
       "    .dataframe tbody tr th {\n",
       "        vertical-align: top;\n",
       "    }\n",
       "\n",
       "    .dataframe thead th {\n",
       "        text-align: right;\n",
       "    }\n",
       "</style>\n",
       "<table border=\"1\" class=\"dataframe\">\n",
       "  <thead>\n",
       "    <tr style=\"text-align: right;\">\n",
       "      <th></th>\n",
       "      <th>id</th>\n",
       "      <th>name</th>\n",
       "      <th>first</th>\n",
       "      <th>last</th>\n",
       "      <th>compas_screening_date</th>\n",
       "      <th>sex</th>\n",
       "      <th>dob</th>\n",
       "      <th>age</th>\n",
       "      <th>age_cat</th>\n",
       "      <th>race</th>\n",
       "      <th>...</th>\n",
       "      <th>score_text</th>\n",
       "      <th>v_type_of_assessment</th>\n",
       "      <th>v_decile_score</th>\n",
       "      <th>v_score_text</th>\n",
       "      <th>in_custody</th>\n",
       "      <th>out_custody</th>\n",
       "      <th>start</th>\n",
       "      <th>end</th>\n",
       "      <th>event</th>\n",
       "      <th>two_year_recid</th>\n",
       "    </tr>\n",
       "  </thead>\n",
       "  <tbody>\n",
       "    <tr>\n",
       "      <th>0</th>\n",
       "      <td>1</td>\n",
       "      <td>miguel hernandez</td>\n",
       "      <td>miguel</td>\n",
       "      <td>hernandez</td>\n",
       "      <td>2013-08-14</td>\n",
       "      <td>Male</td>\n",
       "      <td>1947-04-18</td>\n",
       "      <td>69</td>\n",
       "      <td>Greater than 45</td>\n",
       "      <td>Other</td>\n",
       "      <td>...</td>\n",
       "      <td>Low</td>\n",
       "      <td>Risk of Violence</td>\n",
       "      <td>1</td>\n",
       "      <td>Low</td>\n",
       "      <td>2014-07-07</td>\n",
       "      <td>2014-07-14</td>\n",
       "      <td>0</td>\n",
       "      <td>327</td>\n",
       "      <td>0</td>\n",
       "      <td>0</td>\n",
       "    </tr>\n",
       "    <tr>\n",
       "      <th>1</th>\n",
       "      <td>3</td>\n",
       "      <td>kevon dixon</td>\n",
       "      <td>kevon</td>\n",
       "      <td>dixon</td>\n",
       "      <td>2013-01-27</td>\n",
       "      <td>Male</td>\n",
       "      <td>1982-01-22</td>\n",
       "      <td>34</td>\n",
       "      <td>25 - 45</td>\n",
       "      <td>African-American</td>\n",
       "      <td>...</td>\n",
       "      <td>Low</td>\n",
       "      <td>Risk of Violence</td>\n",
       "      <td>1</td>\n",
       "      <td>Low</td>\n",
       "      <td>2013-01-26</td>\n",
       "      <td>2013-02-05</td>\n",
       "      <td>9</td>\n",
       "      <td>159</td>\n",
       "      <td>1</td>\n",
       "      <td>1</td>\n",
       "    </tr>\n",
       "    <tr>\n",
       "      <th>2</th>\n",
       "      <td>4</td>\n",
       "      <td>ed philo</td>\n",
       "      <td>ed</td>\n",
       "      <td>philo</td>\n",
       "      <td>2013-04-14</td>\n",
       "      <td>Male</td>\n",
       "      <td>1991-05-14</td>\n",
       "      <td>24</td>\n",
       "      <td>Less than 25</td>\n",
       "      <td>African-American</td>\n",
       "      <td>...</td>\n",
       "      <td>Low</td>\n",
       "      <td>Risk of Violence</td>\n",
       "      <td>3</td>\n",
       "      <td>Low</td>\n",
       "      <td>2013-06-16</td>\n",
       "      <td>2013-06-16</td>\n",
       "      <td>0</td>\n",
       "      <td>63</td>\n",
       "      <td>0</td>\n",
       "      <td>1</td>\n",
       "    </tr>\n",
       "    <tr>\n",
       "      <th>3</th>\n",
       "      <td>5</td>\n",
       "      <td>marcu brown</td>\n",
       "      <td>marcu</td>\n",
       "      <td>brown</td>\n",
       "      <td>2013-01-13</td>\n",
       "      <td>Male</td>\n",
       "      <td>1993-01-21</td>\n",
       "      <td>23</td>\n",
       "      <td>Less than 25</td>\n",
       "      <td>African-American</td>\n",
       "      <td>...</td>\n",
       "      <td>High</td>\n",
       "      <td>Risk of Violence</td>\n",
       "      <td>6</td>\n",
       "      <td>Medium</td>\n",
       "      <td>NaN</td>\n",
       "      <td>NaN</td>\n",
       "      <td>0</td>\n",
       "      <td>1174</td>\n",
       "      <td>0</td>\n",
       "      <td>0</td>\n",
       "    </tr>\n",
       "    <tr>\n",
       "      <th>4</th>\n",
       "      <td>6</td>\n",
       "      <td>bouthy pierrelouis</td>\n",
       "      <td>bouthy</td>\n",
       "      <td>pierrelouis</td>\n",
       "      <td>2013-03-26</td>\n",
       "      <td>Male</td>\n",
       "      <td>1973-01-22</td>\n",
       "      <td>43</td>\n",
       "      <td>25 - 45</td>\n",
       "      <td>Other</td>\n",
       "      <td>...</td>\n",
       "      <td>Low</td>\n",
       "      <td>Risk of Violence</td>\n",
       "      <td>1</td>\n",
       "      <td>Low</td>\n",
       "      <td>NaN</td>\n",
       "      <td>NaN</td>\n",
       "      <td>0</td>\n",
       "      <td>1102</td>\n",
       "      <td>0</td>\n",
       "      <td>0</td>\n",
       "    </tr>\n",
       "  </tbody>\n",
       "</table>\n",
       "<p>5 rows × 49 columns</p>\n",
       "</div>"
      ],
      "text/plain": [
       "   id                name   first         last compas_screening_date   sex  \\\n",
       "0   1    miguel hernandez  miguel    hernandez            2013-08-14  Male   \n",
       "1   3         kevon dixon   kevon        dixon            2013-01-27  Male   \n",
       "2   4            ed philo      ed        philo            2013-04-14  Male   \n",
       "3   5         marcu brown   marcu        brown            2013-01-13  Male   \n",
       "4   6  bouthy pierrelouis  bouthy  pierrelouis            2013-03-26  Male   \n",
       "\n",
       "          dob  age          age_cat              race  ...  score_text  \\\n",
       "0  1947-04-18   69  Greater than 45             Other  ...         Low   \n",
       "1  1982-01-22   34          25 - 45  African-American  ...         Low   \n",
       "2  1991-05-14   24     Less than 25  African-American  ...         Low   \n",
       "3  1993-01-21   23     Less than 25  African-American  ...        High   \n",
       "4  1973-01-22   43          25 - 45             Other  ...         Low   \n",
       "\n",
       "   v_type_of_assessment  v_decile_score  v_score_text  in_custody  \\\n",
       "0      Risk of Violence               1           Low  2014-07-07   \n",
       "1      Risk of Violence               1           Low  2013-01-26   \n",
       "2      Risk of Violence               3           Low  2013-06-16   \n",
       "3      Risk of Violence               6        Medium         NaN   \n",
       "4      Risk of Violence               1           Low         NaN   \n",
       "\n",
       "   out_custody start   end event two_year_recid  \n",
       "0   2014-07-14     0   327     0              0  \n",
       "1   2013-02-05     9   159     1              1  \n",
       "2   2013-06-16     0    63     0              1  \n",
       "3          NaN     0  1174     0              0  \n",
       "4          NaN     0  1102     0              0  \n",
       "\n",
       "[5 rows x 49 columns]"
      ]
     },
     "execution_count": 127,
     "metadata": {},
     "output_type": "execute_result"
    }
   ],
   "source": [
    "df = pd.read_csv(\"compas-scores-two-years-clean.csv\")\n",
    "df.head()"
   ]
  },
  {
   "cell_type": "code",
   "execution_count": 128,
   "metadata": {},
   "outputs": [],
   "source": [
    "df = df[\n",
    "        (df[\"days_b_screening_arrest\"]<=30) \n",
    "        & (df[\"days_b_screening_arrest\"]>=-30) \n",
    "        & (df[\"is_recid\"]!=-1) \n",
    "        & (df[\"c_charge_degree\"]!=\"O\") \n",
    "      ].dropna(subset=['score_text'])"
   ]
  },
  {
   "cell_type": "code",
   "execution_count": 129,
   "metadata": {},
   "outputs": [],
   "source": [
    "# Select columns of interest and store as new df\n",
    "columns = [\"id\", \"age\", \"age_cat\", \"sex\", \"race\",  #demographics\n",
    "           \"juv_fel_count\", \"juv_misd_count\", \"juv_other_count\", \"priors_count\", #criminal history\n",
    "           \"c_charge_degree\", \"c_charge_desc\", #current charges\n",
    "           \"score_text\", \"decile_score\", #compas results for current charges -> target for regression (COMPAS scores for general recidivism)\n",
    "           \"r_charge_degree\", \"r_charge_desc\", #commited crimes (general) within 2 years after COMPAS scoring (no feature for final model, but relevant fro feature engineering)\n",
    "           \"two_year_recid\"] #target for classification \n",
    "df = df[columns]"
   ]
  },
  {
   "cell_type": "markdown",
   "metadata": {},
   "source": [
    "To get a clearer picture, we will only use a few columns of the original data frame.\n",
    "\n",
    "\n",
    "- demographics: \"age\", \"age_cat\", \"sex\", \"race\"\n",
    "- criminal history: \"juv_fel_count\", \"juv_misd_count\", \"juv_other_count\", \"priors_count\"\n",
    "- current charges: \"c_charge_degree\",\"c_charge_desc\"\n",
    "- truth:\"two_year_recid\"\n"
   ]
  },
  {
   "cell_type": "markdown",
   "metadata": {},
   "source": [
    "Drop duplicate"
   ]
  },
  {
   "cell_type": "code",
   "execution_count": 130,
   "metadata": {},
   "outputs": [
    {
     "data": {
      "text/html": [
       "<div>\n",
       "<style scoped>\n",
       "    .dataframe tbody tr th:only-of-type {\n",
       "        vertical-align: middle;\n",
       "    }\n",
       "\n",
       "    .dataframe tbody tr th {\n",
       "        vertical-align: top;\n",
       "    }\n",
       "\n",
       "    .dataframe thead th {\n",
       "        text-align: right;\n",
       "    }\n",
       "</style>\n",
       "<table border=\"1\" class=\"dataframe\">\n",
       "  <thead>\n",
       "    <tr style=\"text-align: right;\">\n",
       "      <th></th>\n",
       "      <th>id</th>\n",
       "      <th>age</th>\n",
       "      <th>age_cat</th>\n",
       "      <th>sex</th>\n",
       "      <th>race</th>\n",
       "      <th>juv_fel_count</th>\n",
       "      <th>juv_misd_count</th>\n",
       "      <th>juv_other_count</th>\n",
       "      <th>priors_count</th>\n",
       "      <th>c_charge_degree</th>\n",
       "      <th>c_charge_desc</th>\n",
       "      <th>score_text</th>\n",
       "      <th>decile_score</th>\n",
       "      <th>r_charge_degree</th>\n",
       "      <th>r_charge_desc</th>\n",
       "      <th>two_year_recid</th>\n",
       "    </tr>\n",
       "  </thead>\n",
       "  <tbody>\n",
       "    <tr>\n",
       "      <th>0</th>\n",
       "      <td>1</td>\n",
       "      <td>69</td>\n",
       "      <td>Greater than 45</td>\n",
       "      <td>Male</td>\n",
       "      <td>Other</td>\n",
       "      <td>0</td>\n",
       "      <td>0</td>\n",
       "      <td>0</td>\n",
       "      <td>0</td>\n",
       "      <td>F</td>\n",
       "      <td>Aggravated Assault w/Firearm</td>\n",
       "      <td>Low</td>\n",
       "      <td>1</td>\n",
       "      <td>NaN</td>\n",
       "      <td>NaN</td>\n",
       "      <td>0</td>\n",
       "    </tr>\n",
       "    <tr>\n",
       "      <th>1</th>\n",
       "      <td>3</td>\n",
       "      <td>34</td>\n",
       "      <td>25 - 45</td>\n",
       "      <td>Male</td>\n",
       "      <td>African-American</td>\n",
       "      <td>0</td>\n",
       "      <td>0</td>\n",
       "      <td>0</td>\n",
       "      <td>0</td>\n",
       "      <td>F</td>\n",
       "      <td>Felony Battery w/Prior Convict</td>\n",
       "      <td>Low</td>\n",
       "      <td>3</td>\n",
       "      <td>(F3)</td>\n",
       "      <td>Felony Battery (Dom Strang)</td>\n",
       "      <td>1</td>\n",
       "    </tr>\n",
       "    <tr>\n",
       "      <th>2</th>\n",
       "      <td>4</td>\n",
       "      <td>24</td>\n",
       "      <td>Less than 25</td>\n",
       "      <td>Male</td>\n",
       "      <td>African-American</td>\n",
       "      <td>0</td>\n",
       "      <td>0</td>\n",
       "      <td>1</td>\n",
       "      <td>4</td>\n",
       "      <td>F</td>\n",
       "      <td>Possession of Cocaine</td>\n",
       "      <td>Low</td>\n",
       "      <td>4</td>\n",
       "      <td>(M1)</td>\n",
       "      <td>Driving Under The Influence</td>\n",
       "      <td>1</td>\n",
       "    </tr>\n",
       "    <tr>\n",
       "      <th>5</th>\n",
       "      <td>7</td>\n",
       "      <td>44</td>\n",
       "      <td>25 - 45</td>\n",
       "      <td>Male</td>\n",
       "      <td>Other</td>\n",
       "      <td>0</td>\n",
       "      <td>0</td>\n",
       "      <td>0</td>\n",
       "      <td>0</td>\n",
       "      <td>M</td>\n",
       "      <td>Battery</td>\n",
       "      <td>Low</td>\n",
       "      <td>1</td>\n",
       "      <td>NaN</td>\n",
       "      <td>NaN</td>\n",
       "      <td>0</td>\n",
       "    </tr>\n",
       "    <tr>\n",
       "      <th>6</th>\n",
       "      <td>8</td>\n",
       "      <td>41</td>\n",
       "      <td>25 - 45</td>\n",
       "      <td>Male</td>\n",
       "      <td>Caucasian</td>\n",
       "      <td>0</td>\n",
       "      <td>0</td>\n",
       "      <td>0</td>\n",
       "      <td>14</td>\n",
       "      <td>F</td>\n",
       "      <td>Possession Burglary Tools</td>\n",
       "      <td>Medium</td>\n",
       "      <td>6</td>\n",
       "      <td>(F2)</td>\n",
       "      <td>Poss of Firearm by Convic Felo</td>\n",
       "      <td>1</td>\n",
       "    </tr>\n",
       "    <tr>\n",
       "      <th>...</th>\n",
       "      <td>...</td>\n",
       "      <td>...</td>\n",
       "      <td>...</td>\n",
       "      <td>...</td>\n",
       "      <td>...</td>\n",
       "      <td>...</td>\n",
       "      <td>...</td>\n",
       "      <td>...</td>\n",
       "      <td>...</td>\n",
       "      <td>...</td>\n",
       "      <td>...</td>\n",
       "      <td>...</td>\n",
       "      <td>...</td>\n",
       "      <td>...</td>\n",
       "      <td>...</td>\n",
       "      <td>...</td>\n",
       "    </tr>\n",
       "    <tr>\n",
       "      <th>6211</th>\n",
       "      <td>10995</td>\n",
       "      <td>20</td>\n",
       "      <td>Less than 25</td>\n",
       "      <td>Male</td>\n",
       "      <td>African-American</td>\n",
       "      <td>0</td>\n",
       "      <td>0</td>\n",
       "      <td>0</td>\n",
       "      <td>0</td>\n",
       "      <td>F</td>\n",
       "      <td>Possession of Cocaine</td>\n",
       "      <td>High</td>\n",
       "      <td>9</td>\n",
       "      <td>NaN</td>\n",
       "      <td>NaN</td>\n",
       "      <td>0</td>\n",
       "    </tr>\n",
       "    <tr>\n",
       "      <th>6212</th>\n",
       "      <td>10996</td>\n",
       "      <td>23</td>\n",
       "      <td>Less than 25</td>\n",
       "      <td>Male</td>\n",
       "      <td>African-American</td>\n",
       "      <td>0</td>\n",
       "      <td>0</td>\n",
       "      <td>0</td>\n",
       "      <td>0</td>\n",
       "      <td>F</td>\n",
       "      <td>Deliver Cannabis</td>\n",
       "      <td>Medium</td>\n",
       "      <td>7</td>\n",
       "      <td>NaN</td>\n",
       "      <td>NaN</td>\n",
       "      <td>0</td>\n",
       "    </tr>\n",
       "    <tr>\n",
       "      <th>6213</th>\n",
       "      <td>10997</td>\n",
       "      <td>23</td>\n",
       "      <td>Less than 25</td>\n",
       "      <td>Male</td>\n",
       "      <td>African-American</td>\n",
       "      <td>0</td>\n",
       "      <td>0</td>\n",
       "      <td>0</td>\n",
       "      <td>0</td>\n",
       "      <td>F</td>\n",
       "      <td>Leaving the Scene of Accident</td>\n",
       "      <td>Low</td>\n",
       "      <td>3</td>\n",
       "      <td>NaN</td>\n",
       "      <td>NaN</td>\n",
       "      <td>0</td>\n",
       "    </tr>\n",
       "    <tr>\n",
       "      <th>6214</th>\n",
       "      <td>10999</td>\n",
       "      <td>57</td>\n",
       "      <td>Greater than 45</td>\n",
       "      <td>Male</td>\n",
       "      <td>Other</td>\n",
       "      <td>0</td>\n",
       "      <td>0</td>\n",
       "      <td>0</td>\n",
       "      <td>0</td>\n",
       "      <td>F</td>\n",
       "      <td>Aggravated Battery / Pregnant</td>\n",
       "      <td>Low</td>\n",
       "      <td>1</td>\n",
       "      <td>NaN</td>\n",
       "      <td>NaN</td>\n",
       "      <td>0</td>\n",
       "    </tr>\n",
       "    <tr>\n",
       "      <th>6215</th>\n",
       "      <td>11000</td>\n",
       "      <td>33</td>\n",
       "      <td>25 - 45</td>\n",
       "      <td>Female</td>\n",
       "      <td>African-American</td>\n",
       "      <td>0</td>\n",
       "      <td>0</td>\n",
       "      <td>0</td>\n",
       "      <td>3</td>\n",
       "      <td>M</td>\n",
       "      <td>Battery on Law Enforc Officer</td>\n",
       "      <td>Low</td>\n",
       "      <td>2</td>\n",
       "      <td>NaN</td>\n",
       "      <td>NaN</td>\n",
       "      <td>0</td>\n",
       "    </tr>\n",
       "  </tbody>\n",
       "</table>\n",
       "<p>5304 rows × 16 columns</p>\n",
       "</div>"
      ],
      "text/plain": [
       "         id  age          age_cat     sex              race  juv_fel_count  \\\n",
       "0         1   69  Greater than 45    Male             Other              0   \n",
       "1         3   34          25 - 45    Male  African-American              0   \n",
       "2         4   24     Less than 25    Male  African-American              0   \n",
       "5         7   44          25 - 45    Male             Other              0   \n",
       "6         8   41          25 - 45    Male         Caucasian              0   \n",
       "...     ...  ...              ...     ...               ...            ...   \n",
       "6211  10995   20     Less than 25    Male  African-American              0   \n",
       "6212  10996   23     Less than 25    Male  African-American              0   \n",
       "6213  10997   23     Less than 25    Male  African-American              0   \n",
       "6214  10999   57  Greater than 45    Male             Other              0   \n",
       "6215  11000   33          25 - 45  Female  African-American              0   \n",
       "\n",
       "      juv_misd_count  juv_other_count  priors_count c_charge_degree  \\\n",
       "0                  0                0             0               F   \n",
       "1                  0                0             0               F   \n",
       "2                  0                1             4               F   \n",
       "5                  0                0             0               M   \n",
       "6                  0                0            14               F   \n",
       "...              ...              ...           ...             ...   \n",
       "6211               0                0             0               F   \n",
       "6212               0                0             0               F   \n",
       "6213               0                0             0               F   \n",
       "6214               0                0             0               F   \n",
       "6215               0                0             3               M   \n",
       "\n",
       "                       c_charge_desc score_text  decile_score r_charge_degree  \\\n",
       "0       Aggravated Assault w/Firearm        Low             1             NaN   \n",
       "1     Felony Battery w/Prior Convict        Low             3            (F3)   \n",
       "2              Possession of Cocaine        Low             4            (M1)   \n",
       "5                            Battery        Low             1             NaN   \n",
       "6          Possession Burglary Tools     Medium             6            (F2)   \n",
       "...                              ...        ...           ...             ...   \n",
       "6211           Possession of Cocaine       High             9             NaN   \n",
       "6212                Deliver Cannabis     Medium             7             NaN   \n",
       "6213   Leaving the Scene of Accident        Low             3             NaN   \n",
       "6214   Aggravated Battery / Pregnant        Low             1             NaN   \n",
       "6215   Battery on Law Enforc Officer        Low             2             NaN   \n",
       "\n",
       "                       r_charge_desc  two_year_recid  \n",
       "0                                NaN               0  \n",
       "1        Felony Battery (Dom Strang)               1  \n",
       "2        Driving Under The Influence               1  \n",
       "5                                NaN               0  \n",
       "6     Poss of Firearm by Convic Felo               1  \n",
       "...                              ...             ...  \n",
       "6211                             NaN               0  \n",
       "6212                             NaN               0  \n",
       "6213                             NaN               0  \n",
       "6214                             NaN               0  \n",
       "6215                             NaN               0  \n",
       "\n",
       "[5304 rows x 16 columns]"
      ]
     },
     "execution_count": 130,
     "metadata": {},
     "output_type": "execute_result"
    }
   ],
   "source": [
    "df.drop_duplicates()"
   ]
  },
  {
   "cell_type": "markdown",
   "metadata": {},
   "source": [
    "Check dtype of data"
   ]
  },
  {
   "cell_type": "code",
   "execution_count": 131,
   "metadata": {},
   "outputs": [
    {
     "name": "stdout",
     "output_type": "stream",
     "text": [
      "<class 'pandas.core.frame.DataFrame'>\n",
      "Int64Index: 5304 entries, 0 to 6215\n",
      "Data columns (total 16 columns):\n",
      " #   Column           Non-Null Count  Dtype \n",
      "---  ------           --------------  ----- \n",
      " 0   id               5304 non-null   int64 \n",
      " 1   age              5304 non-null   int64 \n",
      " 2   age_cat          5304 non-null   object\n",
      " 3   sex              5304 non-null   object\n",
      " 4   race             5304 non-null   object\n",
      " 5   juv_fel_count    5304 non-null   int64 \n",
      " 6   juv_misd_count   5304 non-null   int64 \n",
      " 7   juv_other_count  5304 non-null   int64 \n",
      " 8   priors_count     5304 non-null   int64 \n",
      " 9   c_charge_degree  5304 non-null   object\n",
      " 10  c_charge_desc    5299 non-null   object\n",
      " 11  score_text       5304 non-null   object\n",
      " 12  decile_score     5304 non-null   int64 \n",
      " 13  r_charge_degree  2122 non-null   object\n",
      " 14  r_charge_desc    2095 non-null   object\n",
      " 15  two_year_recid   5304 non-null   int64 \n",
      "dtypes: int64(8), object(8)\n",
      "memory usage: 704.4+ KB\n"
     ]
    }
   ],
   "source": [
    "df.info()"
   ]
  },
  {
   "cell_type": "markdown",
   "metadata": {},
   "source": [
    "### Feature Engineering: Create feature c_charge_degree_detailed\n",
    "\n",
    "- The current charges of the ProPublica dataset are categorized as felonies or misdemeanors `c_charge_degreee`\n",
    "- The c_charge_desc contains the description of the crime (e.g. murder, Grand theft ...)\n",
    "- In Florida each crime is based on the severness categorised into different level/ classes of misdemeanors or felonies"
   ]
  },
  {
   "cell_type": "code",
   "execution_count": 132,
   "metadata": {},
   "outputs": [
    {
     "name": "stdout",
     "output_type": "stream",
     "text": [
      "Unique charges in the dataset: 359\n",
      "Unique charges for felonies: 266\n",
      "Unique charges for misdemeanors: 126\n"
     ]
    }
   ],
   "source": [
    "# There are 358 unique charges in the dataset in total (wo NaN)\n",
    "print(\"Unique charges in the dataset:\", len(df.c_charge_desc.unique()))\n",
    "\n",
    "# There are 265 unqiue charges for felonies (23 of them also exist in misdemeanor) (wo NaN)\n",
    "print(\"Unique charges for felonies:\", len(df[df[\"c_charge_degree\"]==\"F\"]\n",
    "                                          [[\"c_charge_degree\", \"c_charge_desc\"]]\n",
    "                                          .c_charge_desc.unique()))\n",
    "\n",
    "# There are 125 unqiue charges for misdemeanors  (wo NaN)\n",
    "print(\"Unique charges for misdemeanors:\", len(df[df[\"c_charge_degree\"]==\"M\"]\n",
    "                                              [[\"c_charge_degree\", \"c_charge_desc\"]]\n",
    "                                              .c_charge_desc.unique()))"
   ]
  },
  {
   "cell_type": "markdown",
   "metadata": {},
   "source": [
    "- In order to reduce the variaty of charges we created a new feature to cluster each crime into the correct level\n",
    "- The original dataset already contains the more detailed degree of crimes, but only for the recidivist crimes\n",
    "- We first used these crimes and mapped them against the current charges"
   ]
  },
  {
   "cell_type": "markdown",
   "metadata": {},
   "source": [
    "### Map charge degree to all cases and store in new feature column c_charge_degree_detailed"
   ]
  },
  {
   "cell_type": "code",
   "execution_count": 133,
   "metadata": {},
   "outputs": [],
   "source": [
    "# Load master lookup table\n",
    "labeled_charges_master = pd.read_csv(\"labeled_charges_master.csv\", index_col=\"c_charge_desc\")"
   ]
  },
  {
   "cell_type": "code",
   "execution_count": 134,
   "metadata": {},
   "outputs": [],
   "source": [
    "# Map charge degree to all cases and store in new column \"c_charge_degree_detailed\"\n",
    "df= df.merge(labeled_charges_master, how=\"left\", left_on=\"c_charge_desc\", right_index=True)\n",
    "df.reset_index(drop=True, inplace=True)"
   ]
  },
  {
   "cell_type": "code",
   "execution_count": 135,
   "metadata": {},
   "outputs": [
    {
     "data": {
      "text/plain": [
       "<matplotlib.axes._subplots.AxesSubplot at 0x128aab6d0>"
      ]
     },
     "execution_count": 135,
     "metadata": {},
     "output_type": "execute_result"
    },
    {
     "data": {
      "image/png": "[encoded data removed]",
      "text/plain": [
       "<Figure size 432x288 with 1 Axes>"
      ]
     },
     "metadata": {
      "needs_background": "light"
     },
     "output_type": "display_data"
    }
   ],
   "source": [
    "sns.countplot(x=\"c_charge_degree_detailed\", data=df, order=[\"0\",\"M2\", \"M1\", \"F3\", \"F2\", \"F1\"])"
   ]
  },
  {
   "cell_type": "code",
   "execution_count": 136,
   "metadata": {},
   "outputs": [
    {
     "data": {
      "text/html": [
       "<div>\n",
       "<style scoped>\n",
       "    .dataframe tbody tr th:only-of-type {\n",
       "        vertical-align: middle;\n",
       "    }\n",
       "\n",
       "    .dataframe tbody tr th {\n",
       "        vertical-align: top;\n",
       "    }\n",
       "\n",
       "    .dataframe thead th {\n",
       "        text-align: right;\n",
       "    }\n",
       "</style>\n",
       "<table border=\"1\" class=\"dataframe\">\n",
       "  <thead>\n",
       "    <tr style=\"text-align: right;\">\n",
       "      <th></th>\n",
       "      <th>id</th>\n",
       "      <th>age</th>\n",
       "      <th>age_cat</th>\n",
       "      <th>sex</th>\n",
       "      <th>race</th>\n",
       "      <th>juv_fel_count</th>\n",
       "      <th>juv_misd_count</th>\n",
       "      <th>juv_other_count</th>\n",
       "      <th>priors_count</th>\n",
       "      <th>c_charge_degree</th>\n",
       "      <th>c_charge_desc</th>\n",
       "      <th>score_text</th>\n",
       "      <th>decile_score</th>\n",
       "      <th>r_charge_degree</th>\n",
       "      <th>r_charge_desc</th>\n",
       "      <th>two_year_recid</th>\n",
       "      <th>c_charge_degree_detailed</th>\n",
       "    </tr>\n",
       "  </thead>\n",
       "  <tbody>\n",
       "    <tr>\n",
       "      <th>114</th>\n",
       "      <td>243</td>\n",
       "      <td>39</td>\n",
       "      <td>25 - 45</td>\n",
       "      <td>Male</td>\n",
       "      <td>Caucasian</td>\n",
       "      <td>1</td>\n",
       "      <td>0</td>\n",
       "      <td>0</td>\n",
       "      <td>1</td>\n",
       "      <td>M</td>\n",
       "      <td>NaN</td>\n",
       "      <td>Low</td>\n",
       "      <td>4</td>\n",
       "      <td>NaN</td>\n",
       "      <td>NaN</td>\n",
       "      <td>0</td>\n",
       "      <td>NaN</td>\n",
       "    </tr>\n",
       "    <tr>\n",
       "      <th>2191</th>\n",
       "      <td>4521</td>\n",
       "      <td>27</td>\n",
       "      <td>25 - 45</td>\n",
       "      <td>Female</td>\n",
       "      <td>Caucasian</td>\n",
       "      <td>0</td>\n",
       "      <td>0</td>\n",
       "      <td>0</td>\n",
       "      <td>0</td>\n",
       "      <td>F</td>\n",
       "      <td>NaN</td>\n",
       "      <td>Medium</td>\n",
       "      <td>5</td>\n",
       "      <td>NaN</td>\n",
       "      <td>NaN</td>\n",
       "      <td>0</td>\n",
       "      <td>NaN</td>\n",
       "    </tr>\n",
       "    <tr>\n",
       "      <th>4031</th>\n",
       "      <td>8299</td>\n",
       "      <td>27</td>\n",
       "      <td>25 - 45</td>\n",
       "      <td>Male</td>\n",
       "      <td>African-American</td>\n",
       "      <td>0</td>\n",
       "      <td>0</td>\n",
       "      <td>0</td>\n",
       "      <td>2</td>\n",
       "      <td>F</td>\n",
       "      <td>NaN</td>\n",
       "      <td>Low</td>\n",
       "      <td>4</td>\n",
       "      <td>NaN</td>\n",
       "      <td>NaN</td>\n",
       "      <td>0</td>\n",
       "      <td>NaN</td>\n",
       "    </tr>\n",
       "    <tr>\n",
       "      <th>4202</th>\n",
       "      <td>8679</td>\n",
       "      <td>27</td>\n",
       "      <td>25 - 45</td>\n",
       "      <td>Male</td>\n",
       "      <td>African-American</td>\n",
       "      <td>0</td>\n",
       "      <td>0</td>\n",
       "      <td>0</td>\n",
       "      <td>2</td>\n",
       "      <td>F</td>\n",
       "      <td>NaN</td>\n",
       "      <td>Low</td>\n",
       "      <td>3</td>\n",
       "      <td>NaN</td>\n",
       "      <td>NaN</td>\n",
       "      <td>0</td>\n",
       "      <td>NaN</td>\n",
       "    </tr>\n",
       "    <tr>\n",
       "      <th>5183</th>\n",
       "      <td>10737</td>\n",
       "      <td>69</td>\n",
       "      <td>Greater than 45</td>\n",
       "      <td>Female</td>\n",
       "      <td>Caucasian</td>\n",
       "      <td>0</td>\n",
       "      <td>0</td>\n",
       "      <td>0</td>\n",
       "      <td>5</td>\n",
       "      <td>F</td>\n",
       "      <td>NaN</td>\n",
       "      <td>Low</td>\n",
       "      <td>3</td>\n",
       "      <td>NaN</td>\n",
       "      <td>NaN</td>\n",
       "      <td>0</td>\n",
       "      <td>NaN</td>\n",
       "    </tr>\n",
       "  </tbody>\n",
       "</table>\n",
       "</div>"
      ],
      "text/plain": [
       "         id  age          age_cat     sex              race  juv_fel_count  \\\n",
       "114     243   39          25 - 45    Male         Caucasian              1   \n",
       "2191   4521   27          25 - 45  Female         Caucasian              0   \n",
       "4031   8299   27          25 - 45    Male  African-American              0   \n",
       "4202   8679   27          25 - 45    Male  African-American              0   \n",
       "5183  10737   69  Greater than 45  Female         Caucasian              0   \n",
       "\n",
       "      juv_misd_count  juv_other_count  priors_count c_charge_degree  \\\n",
       "114                0                0             1               M   \n",
       "2191               0                0             0               F   \n",
       "4031               0                0             2               F   \n",
       "4202               0                0             2               F   \n",
       "5183               0                0             5               F   \n",
       "\n",
       "     c_charge_desc score_text  decile_score r_charge_degree r_charge_desc  \\\n",
       "114            NaN        Low             4             NaN           NaN   \n",
       "2191           NaN     Medium             5             NaN           NaN   \n",
       "4031           NaN        Low             4             NaN           NaN   \n",
       "4202           NaN        Low             3             NaN           NaN   \n",
       "5183           NaN        Low             3             NaN           NaN   \n",
       "\n",
       "      two_year_recid c_charge_degree_detailed  \n",
       "114                0                      NaN  \n",
       "2191               0                      NaN  \n",
       "4031               0                      NaN  \n",
       "4202               0                      NaN  \n",
       "5183               0                      NaN  "
      ]
     },
     "execution_count": 136,
     "metadata": {},
     "output_type": "execute_result"
    }
   ],
   "source": [
    "#Check NaN values (values which did not have a c_charge_desc in the original dataset)\n",
    "df[df.c_charge_degree_detailed.isnull()]"
   ]
  },
  {
   "cell_type": "code",
   "execution_count": 137,
   "metadata": {},
   "outputs": [],
   "source": [
    "index_nan_cases = df[df.c_charge_degree_detailed.isnull()].index"
   ]
  },
  {
   "cell_type": "markdown",
   "metadata": {},
   "source": [
    "- There are still 5 cases which did not have a description of the current charges.\n",
    "- These 5 cases need to be imputed\n",
    "- This requires the encoding of all categorical features first"
   ]
  },
  {
   "cell_type": "markdown",
   "metadata": {},
   "source": [
    "# Data Preprocessing"
   ]
  },
  {
   "cell_type": "markdown",
   "metadata": {},
   "source": [
    "### Initial distribution of the features"
   ]
  },
  {
   "cell_type": "code",
   "execution_count": 138,
   "metadata": {},
   "outputs": [
    {
     "data": {
      "image/png": "[encoded data removed]",
      "text/plain": [
       "<Figure size 1584x1080 with 12 Axes>"
      ]
     },
     "metadata": {
      "needs_background": "light"
     },
     "output_type": "display_data"
    }
   ],
   "source": [
    "\n",
    "def plot_dist(col, ax):\n",
    "    df[col][df[col].notnull()].value_counts().plot(kind='bar', facecolor='y', ax=ax)\n",
    "    ax.set_xlabel('{}'.format(col), fontsize=20)\n",
    "    ax.set_title(\"{} on Compas data\".format(col), fontsize= 18)\n",
    "    return ax\n",
    "\n",
    "f, ax = plt.subplots(4,3, figsize = (22,15))\n",
    "f.tight_layout(h_pad=12, w_pad=2, rect=[0, 0.03, 1, 0.93])\n",
    "cols = [ \"age\", \"age_cat\", \"sex\", \"race\",  #demographics\n",
    "           \"juv_fel_count\", \"juv_misd_count\", \"juv_other_count\", \"priors_count\", #criminal history\n",
    "           \"c_charge_degree\", \"c_charge_degree_detailed\", #current charges\n",
    "           \"decile_score\", #compas results for current charges -> target for regression (COMPAS scores for general recidivism)\n",
    "           \"two_year_recid\"]\n",
    "k = 0\n",
    "for i in range(4):\n",
    "    for j in range(3):\n",
    "        plot_dist(cols[k], ax[i][j])\n",
    "        k += 1\n",
    "__ = plt.suptitle(\"Initial Distributions of features\", fontsize= 25)"
   ]
  },
  {
   "cell_type": "markdown",
   "metadata": {},
   "source": [
    "Let us take a look closer into decile_score / race of African-American and Caucasian. \n",
    "The difference in scores leads to drastically different racial make-up per decile."
   ]
  },
  {
   "cell_type": "code",
   "execution_count": 139,
   "metadata": {},
   "outputs": [],
   "source": [
    "cols = ['race', 'decile_score']\n",
    "df_race = df[cols].loc[lambda x:x['race'].isin(['African-American', 'Caucasian'])]"
   ]
  },
  {
   "cell_type": "code",
   "execution_count": 140,
   "metadata": {},
   "outputs": [
    {
     "data": {
      "image/png": "[encoded data removed]",
      "text/plain": [
       "<Figure size 842.4x595.44 with 2 Axes>"
      ]
     },
     "metadata": {
      "needs_background": "light"
     },
     "output_type": "display_data"
    }
   ],
   "source": [
    "fig, (ax1, ax2) = plt.subplots(1,2)\n",
    "fig.set_size_inches(11.7, 8.27)\n",
    "a1 = (\n",
    "    df_race\n",
    "    .groupby(['race'])['decile_score']\n",
    "    .value_counts(normalize=True)\n",
    "    .rename('proportion')\n",
    "    .reset_index()\n",
    "    .sort_values(by='decile_score')\n",
    ")\n",
    "\n",
    "sns.barplot(data=a1, x='decile_score' ,y='proportion',hue='race', ax=ax1)\n",
    "ax1.set_title('Distribution of Scores by Race')\n",
    "\n",
    "a2 = (\n",
    "    df_race\n",
    "    .groupby(['decile_score'])['race']\n",
    "    .value_counts(normalize=True)\n",
    "    .rename('proportion')\n",
    "    .reset_index()\n",
    "    .sort_values(by='race')\n",
    ")\n",
    "\n",
    "sns.barplot(data=a2, x='decile_score' ,y='proportion',hue='race', ax=ax2);\n",
    "ax2.set_title('Distribution of Race by Score');"
   ]
  },
  {
   "cell_type": "markdown",
   "metadata": {},
   "source": [
    "There is a big difference in distribution of race by score and another way around.\n",
    "We decide to split the model into one with race and one without race."
   ]
  },
  {
   "cell_type": "markdown",
   "metadata": {},
   "source": [
    "### Fill in missing data for c_charge_degree_detailed"
   ]
  },
  {
   "cell_type": "code",
   "execution_count": 141,
   "metadata": {},
   "outputs": [],
   "source": [
    "#fill missing data with mode as the value that appears the most in the set of values\n",
    "df.fillna(df.c_charge_degree_detailed.mode().iloc[0], inplace=True)"
   ]
  },
  {
   "cell_type": "code",
   "execution_count": 142,
   "metadata": {},
   "outputs": [
    {
     "data": {
      "text/html": [
       "<div>\n",
       "<style scoped>\n",
       "    .dataframe tbody tr th:only-of-type {\n",
       "        vertical-align: middle;\n",
       "    }\n",
       "\n",
       "    .dataframe tbody tr th {\n",
       "        vertical-align: top;\n",
       "    }\n",
       "\n",
       "    .dataframe thead th {\n",
       "        text-align: right;\n",
       "    }\n",
       "</style>\n",
       "<table border=\"1\" class=\"dataframe\">\n",
       "  <thead>\n",
       "    <tr style=\"text-align: right;\">\n",
       "      <th></th>\n",
       "      <th>id</th>\n",
       "      <th>age</th>\n",
       "      <th>age_cat</th>\n",
       "      <th>sex</th>\n",
       "      <th>race</th>\n",
       "      <th>juv_fel_count</th>\n",
       "      <th>juv_misd_count</th>\n",
       "      <th>juv_other_count</th>\n",
       "      <th>priors_count</th>\n",
       "      <th>c_charge_degree</th>\n",
       "      <th>c_charge_desc</th>\n",
       "      <th>score_text</th>\n",
       "      <th>decile_score</th>\n",
       "      <th>r_charge_degree</th>\n",
       "      <th>r_charge_desc</th>\n",
       "      <th>two_year_recid</th>\n",
       "      <th>c_charge_degree_detailed</th>\n",
       "    </tr>\n",
       "  </thead>\n",
       "  <tbody>\n",
       "  </tbody>\n",
       "</table>\n",
       "</div>"
      ],
      "text/plain": [
       "Empty DataFrame\n",
       "Columns: [id, age, age_cat, sex, race, juv_fel_count, juv_misd_count, juv_other_count, priors_count, c_charge_degree, c_charge_desc, score_text, decile_score, r_charge_degree, r_charge_desc, two_year_recid, c_charge_degree_detailed]\n",
       "Index: []"
      ]
     },
     "execution_count": 142,
     "metadata": {},
     "output_type": "execute_result"
    }
   ],
   "source": [
    "#Check NaN values (values which did not have a c_charge_desc in the original dataset)\n",
    "df[df.c_charge_degree_detailed.isnull()]"
   ]
  },
  {
   "cell_type": "markdown",
   "metadata": {},
   "source": [
    "# Regression"
   ]
  },
  {
   "cell_type": "markdown",
   "metadata": {},
   "source": [
    "## Selection of features for the model"
   ]
  },
  {
   "cell_type": "markdown",
   "metadata": {},
   "source": [
    "### Model with race"
   ]
  },
  {
   "cell_type": "markdown",
   "metadata": {},
   "source": [
    "#### Featuring and start fitting base model"
   ]
  },
  {
   "cell_type": "markdown",
   "metadata": {},
   "source": [
    "**Featuring age cat**"
   ]
  },
  {
   "cell_type": "code",
   "execution_count": 146,
   "metadata": {},
   "outputs": [],
   "source": [
    "features = pd.concat([pd.get_dummies(df.age_cat, prefix='age_cat',drop_first=True),\n",
    "                    pd.get_dummies(df.sex, prefix='sex',drop_first=True),\n",
    "                    pd.get_dummies(df.race, prefix='race',drop_first=True),  \n",
    "                    pd.get_dummies(df.c_charge_degree, prefix='degree',drop_first=True), # felony or misdemeanor charge ('f' or 'm')\n",
    "                    pd.get_dummies(df.c_charge_degree_detailed, prefix = 'degree_desc',drop_first=True),\n",
    "                    df.priors_count,\n",
    "                    df.juv_fel_count,\n",
    "                    df.juv_misd_count,\n",
    "                    df.juv_other_count,\n",
    "                    df.two_year_recid],\n",
    "                    axis=1)\n",
    "\n",
    "target = df.decile_score"
   ]
  },
  {
   "cell_type": "markdown",
   "metadata": {},
   "source": [
    "**Featuring age cat preprocessing**"
   ]
  },
  {
   "cell_type": "markdown",
   "metadata": {},
   "source": [
    "**Featuring age**"
   ]
  },
  {
   "cell_type": "code",
   "execution_count": 145,
   "metadata": {},
   "outputs": [],
   "source": [
    "features_age = pd.concat([df.age,\n",
    "                    pd.get_dummies(df.sex, prefix='sex',drop_first=True),\n",
    "                    pd.get_dummies(df.race, prefix='race',drop_first=True),  \n",
    "                    pd.get_dummies(df.c_charge_degree, prefix='degree',drop_first=True), # felony or misdemeanor charge ('f' or 'm')\n",
    "                    pd.get_dummies(df.c_charge_degree_detailed, prefix = 'degree_desc',drop_first=True),\n",
    "                    df.priors_count,\n",
    "                    df.juv_fel_count,\n",
    "                    df.juv_misd_count,\n",
    "                    df.juv_other_count,\n",
    "                    df.two_year_recid],\n",
    "                    axis=1)\n",
    "\n",
    "target_age = df.decile_score"
   ]
  },
  {
   "cell_type": "markdown",
   "metadata": {},
   "source": [
    "**Featuring age preprocessing**"
   ]
  },
  {
   "cell_type": "markdown",
   "metadata": {},
   "source": [
    "**Splitting age cat**"
   ]
  },
  {
   "cell_type": "code",
   "execution_count": 147,
   "metadata": {},
   "outputs": [],
   "source": [
    "X = features\n",
    "y = target\n",
    "X_train, X_test, y_train, y_test = train_test_split(X,y, test_size=0.3,random_state = ran)"
   ]
  },
  {
   "cell_type": "markdown",
   "metadata": {},
   "source": [
    "**Model for age_cat before tuning**"
   ]
  },
  {
   "cell_type": "code",
   "execution_count": 148,
   "metadata": {},
   "outputs": [],
   "source": [
    "\n",
    "xg_reg = xgb.XGBRegressor(base_score=0.5, booster='gbtree', gamma=0, learning_rate=0.1, \n",
    "                          max_depth=3, min_child_weight=1, n_estimators=100, objective='reg:linear', \n",
    "                          colsample_bylevel=1, colsample_bynode=1, colsample_bytree=1, importance_type='gain',\n",
    "                          max_delta_step=0, subsample=1, verbosity=0, silent = True, random_state = ran\n",
    "                        )\n",
    "xg_reg.fit(X_train,y_train)\n",
    "y_pred = xg_reg.predict(X_test)"
   ]
  },
  {
   "cell_type": "code",
   "execution_count": 149,
   "metadata": {},
   "outputs": [
    {
     "data": {
      "text/html": [
       "<div>\n",
       "<style scoped>\n",
       "    .dataframe tbody tr th:only-of-type {\n",
       "        vertical-align: middle;\n",
       "    }\n",
       "\n",
       "    .dataframe tbody tr th {\n",
       "        vertical-align: top;\n",
       "    }\n",
       "\n",
       "    .dataframe thead th {\n",
       "        text-align: right;\n",
       "    }\n",
       "</style>\n",
       "<table border=\"1\" class=\"dataframe\">\n",
       "  <thead>\n",
       "    <tr style=\"text-align: right;\">\n",
       "      <th></th>\n",
       "      <th>mse</th>\n",
       "      <th>rmse</th>\n",
       "      <th>r2</th>\n",
       "      <th>mae</th>\n",
       "      <th>mad</th>\n",
       "    </tr>\n",
       "  </thead>\n",
       "  <tbody>\n",
       "    <tr>\n",
       "      <th>XGBRegressor</th>\n",
       "      <td>4.205694</td>\n",
       "      <td>2.050779</td>\n",
       "      <td>0.472699</td>\n",
       "      <td>1.623306</td>\n",
       "      <td>1.363565</td>\n",
       "    </tr>\n",
       "  </tbody>\n",
       "</table>\n",
       "</div>"
      ],
      "text/plain": [
       "                   mse      rmse        r2       mae       mad\n",
       "XGBRegressor  4.205694  2.050779  0.472699  1.623306  1.363565"
      ]
     },
     "execution_count": 149,
     "metadata": {},
     "output_type": "execute_result"
    }
   ],
   "source": [
    "exp_xgreg = dx.Explainer(xg_reg, X_test, y_test, verbose=False)\n",
    "exp_xgreg.model_performance().result"
   ]
  },
  {
   "cell_type": "markdown",
   "metadata": {},
   "source": [
    "**Splitting for age**"
   ]
  },
  {
   "cell_type": "code",
   "execution_count": 150,
   "metadata": {},
   "outputs": [],
   "source": [
    "X_age = features_age\n",
    "y_age = target_age\n",
    "X_train_age, X_test_age, y_train_age, y_test_age = train_test_split(X_age,y_age, test_size=0.3, random_state = ran)"
   ]
  },
  {
   "cell_type": "markdown",
   "metadata": {},
   "source": [
    "**Model for age before tuning**\n"
   ]
  },
  {
   "cell_type": "code",
   "execution_count": 151,
   "metadata": {},
   "outputs": [],
   "source": [
    "xg_reg_age = xgb.XGBRegressor(base_score=0.5, booster='gbtree', gamma=0, learning_rate=0.1, \n",
    "                          max_depth=3, min_child_weight=1, n_estimators=100, objective='reg:squarederror', \n",
    "                          colsample_bylevel=1, colsample_bynode=1, colsample_bytree=1, importance_type='gain',\n",
    "                          max_delta_step=0, subsample=1,verbosity=0, silent = True, random_state = ran)\n",
    "xg_reg_age.fit(X_train_age,y_train_age)\n",
    "y_pred_age = xg_reg_age.predict(X_test_age)"
   ]
  },
  {
   "cell_type": "code",
   "execution_count": 152,
   "metadata": {},
   "outputs": [
    {
     "data": {
      "text/html": [
       "<div>\n",
       "<style scoped>\n",
       "    .dataframe tbody tr th:only-of-type {\n",
       "        vertical-align: middle;\n",
       "    }\n",
       "\n",
       "    .dataframe tbody tr th {\n",
       "        vertical-align: top;\n",
       "    }\n",
       "\n",
       "    .dataframe thead th {\n",
       "        text-align: right;\n",
       "    }\n",
       "</style>\n",
       "<table border=\"1\" class=\"dataframe\">\n",
       "  <thead>\n",
       "    <tr style=\"text-align: right;\">\n",
       "      <th></th>\n",
       "      <th>mse</th>\n",
       "      <th>rmse</th>\n",
       "      <th>r2</th>\n",
       "      <th>mae</th>\n",
       "      <th>mad</th>\n",
       "    </tr>\n",
       "  </thead>\n",
       "  <tbody>\n",
       "    <tr>\n",
       "      <th>XGBRegressor</th>\n",
       "      <td>3.976696</td>\n",
       "      <td>1.994166</td>\n",
       "      <td>0.50141</td>\n",
       "      <td>1.565929</td>\n",
       "      <td>1.302204</td>\n",
       "    </tr>\n",
       "  </tbody>\n",
       "</table>\n",
       "</div>"
      ],
      "text/plain": [
       "                   mse      rmse       r2       mae       mad\n",
       "XGBRegressor  3.976696  1.994166  0.50141  1.565929  1.302204"
      ]
     },
     "execution_count": 152,
     "metadata": {},
     "output_type": "execute_result"
    }
   ],
   "source": [
    "exp_xgreg_age = dx.Explainer(xg_reg_age, X_test_age, y_test_age, verbose=False)\n",
    "exp_xgreg_age.model_performance().result"
   ]
  },
  {
   "cell_type": "code",
   "execution_count": 153,
   "metadata": {},
   "outputs": [
    {
     "data": {
      "application/vnd.plotly.v1+json": {
       "config": {
        "displaylogo": false,
        "modeBarButtonsToRemove": [
         "sendDataToCloud",
         "lasso2d",
         "autoScale2d",
         "select2d",
         "zoom2d",
         "pan2d",
         "zoomIn2d",
         "zoomOut2d",
         "resetScale2d",
         "toggleSpikelines",
         "hoverCompareCartesian",
         "hoverClosestCartesian"
        ],
        "plotlyServerURL": "https://plot.ly",
        "staticPlot": false,
        "toImageButtonOptions": {
         "height": null,
         "width": null
        }
       },
       "data": [
        {
         "base": 1.9914043826204526,
         "hoverinfo": "text",
         "hoverlabel": {
          "bgcolor": "rgba(0,0,0,0.8)"
         },
         "hovertext": [
          "Model: XGBRegressor loss after<br>variable: priors_count is permuted: 2.708<br>Drop-out loss change: +0.717",
          "Model: XGBRegressor loss after<br>variable: age is permuted: 2.641<br>Drop-out loss change: +0.649",
          "Model: XGBRegressor loss after<br>variable: two_year_recid is permuted: 2.038<br>Drop-out loss change: +0.047",
          "Model: XGBRegressor loss after<br>variable: juv_fel_count is permuted: 2.021<br>Drop-out loss change: +0.029",
          "Model: XGBRegressor loss after<br>variable: race_Other is permuted: 2.016<br>Drop-out loss change: +0.025",
          "Model: XGBRegressor loss after<br>variable: race_Caucasian is permuted: 2.011<br>Drop-out loss change: +0.019",
          "Model: XGBRegressor loss after<br>variable: race_Hispanic is permuted: 2.007<br>Drop-out loss change: +0.016",
          "Model: XGBRegressor loss after<br>variable: degree_desc_M1 is permuted: 1.996<br>Drop-out loss change: +0.005",
          "Model: XGBRegressor loss after<br>variable: sex_Male is permuted: 1.995<br>Drop-out loss change: +0.004",
          "Model: XGBRegressor loss after<br>variable: juv_misd_count is permuted: 1.995<br>Drop-out loss change: +0.003"
         ],
         "marker": {
          "color": "#46bac2"
         },
         "orientation": "h",
         "showlegend": false,
         "text": [
          "+0.717",
          "+0.649",
          "+0.047",
          "+0.029",
          "+0.025",
          "+0.019",
          "+0.016",
          "+0.005",
          "+0.004",
          "+0.003"
         ],
         "textposition": "outside",
         "type": "bar",
         "x": [
          0.7170875103402798,
          0.6492969325195019,
          0.046701367643436464,
          0.029452980511008198,
          0.02465582071555672,
          0.019287809372022346,
          0.015964377912517813,
          0.004588601330160147,
          0.003505898487756509,
          0.003366901477467321
         ],
         "xaxis": "x",
         "y": [
          "priors_count",
          "age",
          "two_year_recid",
          "juv_fel_count",
          "race_Other",
          "race_Caucasian",
          "race_Hispanic",
          "degree_desc_M1",
          "sex_Male",
          "juv_misd_count"
         ],
         "yaxis": "y"
        }
       ],
       "layout": {
        "annotations": [
         {
          "font": {
           "size": 16
          },
          "showarrow": false,
          "text": "XGBRegressor",
          "x": 0.5,
          "xanchor": "center",
          "xref": "paper",
          "y": 1,
          "yanchor": "bottom",
          "yref": "paper"
         },
         {
          "font": {
           "size": 16
          },
          "showarrow": false,
          "text": "drop-out loss",
          "x": 0.5,
          "xanchor": "center",
          "xref": "paper",
          "y": 0,
          "yanchor": "top",
          "yref": "paper",
          "yshift": -30
         }
        ],
        "font": {
         "color": "#371ea3"
        },
        "height": 383,
        "margin": {
         "b": 71,
         "r": 30,
         "t": 78
        },
        "shapes": [
         {
          "line": {
           "color": "#371ea3",
           "dash": "dot",
           "width": 1.5
          },
          "type": "line",
          "x0": 1.9914043826204526,
          "x1": 1.9914043826204526,
          "xref": "x",
          "y0": -1,
          "y1": 10,
          "yref": "y"
         }
        ],
        "template": {
         "data": {
          "scatter": [
           {
            "type": "scatter"
           }
          ]
         }
        },
        "title": {
         "text": "Variable Importance",
         "x": 0.15
        },
        "xaxis": {
         "anchor": "y",
         "automargin": true,
         "domain": [
          0,
          1
         ],
         "fixedrange": true,
         "gridwidth": 2,
         "range": [
          1.881206747439952,
          2.8163986510721384
         ],
         "tickcolor": "white",
         "ticklen": 3,
         "ticks": "outside",
         "type": "linear",
         "zeroline": false
        },
        "yaxis": {
         "anchor": "x",
         "automargin": true,
         "autorange": "reversed",
         "domain": [
          0,
          1
         ],
         "fixedrange": true,
         "gridwidth": 2,
         "tickcolor": "white",
         "ticklen": 10,
         "ticks": "outside",
         "type": "category"
        }
       }
      }
     },
     "metadata": {},
     "output_type": "display_data"
    }
   ],
   "source": [
    "exp_xgreg_age.model_parts().plot()"
   ]
  },
  {
   "cell_type": "markdown",
   "metadata": {},
   "source": [
    "Since model with age, we continue with age"
   ]
  },
  {
   "cell_type": "markdown",
   "metadata": {},
   "source": [
    "**Splitting Train Test split again for age for further use**"
   ]
  },
  {
   "cell_type": "code",
   "execution_count": 157,
   "metadata": {},
   "outputs": [],
   "source": [
    "X= features_age\n",
    "y= target_age\n",
    "X_train, X_test, y_train, y_test = train_test_split(X,y, test_size=0.3, random_state = ran)"
   ]
  },
  {
   "cell_type": "markdown",
   "metadata": {},
   "source": [
    "#### Tuning XGBoost with RandomizedSearchCV"
   ]
  },
  {
   "cell_type": "code",
   "execution_count": 158,
   "metadata": {},
   "outputs": [
    {
     "name": "stdout",
     "output_type": "stream",
     "text": [
      "RandomizedSearchCV took 272.29 seconds for 250 candidates parameter settings.\n"
     ]
    }
   ],
   "source": [
    "# model tuning\n",
    "import time\n",
    "\n",
    "# A parameter grid for XGBoost\n",
    "params = {\n",
    "    'n_estimators':[50,100,150],\n",
    "    'min_child_weight':[2,3,4,5], \n",
    "    'gamma':[i/10.0 for i in range(3,6)],  \n",
    "    'subsample':[i/10.0 for i in range(6,11)],\n",
    "    'colsample_bytree':[i/10.0 for i in range(6,11)], \n",
    "    'max_depth': [2,3,4,6,7],\n",
    "    'objective': ['reg:squarederror'],\n",
    "    'booster': ['gbtree', 'gblinear'],\n",
    "    'eval_metric': ['rmse'],\n",
    "    'eta': [i/10.0 for i in range(3,6)],\n",
    "    'learning_rate':[i/10.0 for i in range(2,11)],\n",
    "}\n",
    "\n",
    "reg = XGBRegressor()\n",
    "\n",
    "# run randomized search\n",
    "n_iter_search = 250\n",
    "random_search = RandomizedSearchCV(reg, param_distributions=params,\n",
    "                                   n_iter=n_iter_search, cv=5, scoring='r2',random_state = ran)\n",
    "\n",
    "start = time.time()\n",
    "random_search.fit(X_train, y_train)\n",
    "print(\"RandomizedSearchCV took %.2f seconds for %d candidates\"\n",
    "      \" parameter settings.\" % ((time.time() - start), n_iter_search))"
   ]
  },
  {
   "cell_type": "code",
   "execution_count": 159,
   "metadata": {},
   "outputs": [
    {
     "data": {
      "text/html": [
       "<style>#sk-c6d279b1-5bd7-4606-b20e-d2f3a9abf32a {color: black;background-color: white;}#sk-c6d279b1-5bd7-4606-b20e-d2f3a9abf32a pre{padding: 0;}#sk-c6d279b1-5bd7-4606-b20e-d2f3a9abf32a div.sk-toggleable {background-color: white;}#sk-c6d279b1-5bd7-4606-b20e-d2f3a9abf32a label.sk-toggleable__label {cursor: pointer;display: block;width: 100%;margin-bottom: 0;padding: 0.3em;box-sizing: border-box;text-align: center;}#sk-c6d279b1-5bd7-4606-b20e-d2f3a9abf32a div.sk-toggleable__content {max-height: 0;max-width: 0;overflow: hidden;text-align: left;background-color: #f0f8ff;}#sk-c6d279b1-5bd7-4606-b20e-d2f3a9abf32a div.sk-toggleable__content pre {margin: 0.2em;color: black;border-radius: 0.25em;background-color: #f0f8ff;}#sk-c6d279b1-5bd7-4606-b20e-d2f3a9abf32a input.sk-toggleable__control:checked~div.sk-toggleable__content {max-height: 200px;max-width: 100%;overflow: auto;}#sk-c6d279b1-5bd7-4606-b20e-d2f3a9abf32a div.sk-estimator input.sk-toggleable__control:checked~label.sk-toggleable__label {background-color: #d4ebff;}#sk-c6d279b1-5bd7-4606-b20e-d2f3a9abf32a div.sk-label input.sk-toggleable__control:checked~label.sk-toggleable__label {background-color: #d4ebff;}#sk-c6d279b1-5bd7-4606-b20e-d2f3a9abf32a input.sk-hidden--visually {border: 0;clip: rect(1px 1px 1px 1px);clip: rect(1px, 1px, 1px, 1px);height: 1px;margin: -1px;overflow: hidden;padding: 0;position: absolute;width: 1px;}#sk-c6d279b1-5bd7-4606-b20e-d2f3a9abf32a div.sk-estimator {font-family: monospace;background-color: #f0f8ff;border: 1px dotted black;border-radius: 0.25em;box-sizing: border-box;margin-bottom: 0.5em;}#sk-c6d279b1-5bd7-4606-b20e-d2f3a9abf32a div.sk-estimator:hover {background-color: #d4ebff;}#sk-c6d279b1-5bd7-4606-b20e-d2f3a9abf32a div.sk-parallel-item::after {content: \"\";width: 100%;border-bottom: 1px solid gray;flex-grow: 1;}#sk-c6d279b1-5bd7-4606-b20e-d2f3a9abf32a div.sk-label:hover label.sk-toggleable__label {background-color: #d4ebff;}#sk-c6d279b1-5bd7-4606-b20e-d2f3a9abf32a div.sk-serial::before {content: \"\";position: absolute;border-left: 1px solid gray;box-sizing: border-box;top: 2em;bottom: 0;left: 50%;}#sk-c6d279b1-5bd7-4606-b20e-d2f3a9abf32a div.sk-serial {display: flex;flex-direction: column;align-items: center;background-color: white;padding-right: 0.2em;padding-left: 0.2em;}#sk-c6d279b1-5bd7-4606-b20e-d2f3a9abf32a div.sk-item {z-index: 1;}#sk-c6d279b1-5bd7-4606-b20e-d2f3a9abf32a div.sk-parallel {display: flex;align-items: stretch;justify-content: center;background-color: white;}#sk-c6d279b1-5bd7-4606-b20e-d2f3a9abf32a div.sk-parallel::before {content: \"\";position: absolute;border-left: 1px solid gray;box-sizing: border-box;top: 2em;bottom: 0;left: 50%;}#sk-c6d279b1-5bd7-4606-b20e-d2f3a9abf32a div.sk-parallel-item {display: flex;flex-direction: column;position: relative;background-color: white;}#sk-c6d279b1-5bd7-4606-b20e-d2f3a9abf32a div.sk-parallel-item:first-child::after {align-self: flex-end;width: 50%;}#sk-c6d279b1-5bd7-4606-b20e-d2f3a9abf32a div.sk-parallel-item:last-child::after {align-self: flex-start;width: 50%;}#sk-c6d279b1-5bd7-4606-b20e-d2f3a9abf32a div.sk-parallel-item:only-child::after {width: 0;}#sk-c6d279b1-5bd7-4606-b20e-d2f3a9abf32a div.sk-dashed-wrapped {border: 1px dashed gray;margin: 0 0.4em 0.5em 0.4em;box-sizing: border-box;padding-bottom: 0.4em;background-color: white;position: relative;}#sk-c6d279b1-5bd7-4606-b20e-d2f3a9abf32a div.sk-label label {font-family: monospace;font-weight: bold;background-color: white;display: inline-block;line-height: 1.2em;}#sk-c6d279b1-5bd7-4606-b20e-d2f3a9abf32a div.sk-label-container {position: relative;z-index: 2;text-align: center;}#sk-c6d279b1-5bd7-4606-b20e-d2f3a9abf32a div.sk-container {display: inline-block;position: relative;}</style><div id=\"sk-c6d279b1-5bd7-4606-b20e-d2f3a9abf32a\" class\"sk-top-container\"><div class=\"sk-container\"><div class=\"sk-item\"><div class=\"sk-estimator sk-toggleable\"><input class=\"sk-toggleable__control sk-hidden--visually\" id=\"1992bb07-12b4-46dd-b294-515cd180b004\" type=\"checkbox\" checked><label class=\"sk-toggleable__label\" for=\"1992bb07-12b4-46dd-b294-515cd180b004\">XGBRegressor</label><div class=\"sk-toggleable__content\"><pre>XGBRegressor(base_score=0.5, booster='gbtree', colsample_bylevel=1,\n",
       "             colsample_bynode=1, colsample_bytree=0.9, enable_categorical=False,\n",
       "             eta=0.4, eval_metric='rmse', gamma=0.3, gpu_id=-1,\n",
       "             importance_type=None, interaction_constraints='',\n",
       "             learning_rate=0.2, max_delta_step=0, max_depth=2,\n",
       "             min_child_weight=4, missing=nan, monotone_constraints='()',\n",
       "             n_estimators=100, n_jobs=4, num_parallel_tree=1, predictor='auto',\n",
       "             random_state=0, reg_alpha=0, reg_lambda=1, scale_pos_weight=1,\n",
       "             subsample=0.8, tree_method='exact', validate_parameters=1,\n",
       "             verbosity=None)</pre></div></div></div></div></div>"
      ],
      "text/plain": [
       "XGBRegressor(base_score=0.5, booster='gbtree', colsample_bylevel=1,\n",
       "             colsample_bynode=1, colsample_bytree=0.9, enable_categorical=False,\n",
       "             eta=0.4, eval_metric='rmse', gamma=0.3, gpu_id=-1,\n",
       "             importance_type=None, interaction_constraints='',\n",
       "             learning_rate=0.2, max_delta_step=0, max_depth=2,\n",
       "             min_child_weight=4, missing=nan, monotone_constraints='()',\n",
       "             n_estimators=100, n_jobs=4, num_parallel_tree=1, predictor='auto',\n",
       "             random_state=0, reg_alpha=0, reg_lambda=1, scale_pos_weight=1,\n",
       "             subsample=0.8, tree_method='exact', validate_parameters=1,\n",
       "             verbosity=None)"
      ]
     },
     "execution_count": 159,
     "metadata": {},
     "output_type": "execute_result"
    }
   ],
   "source": [
    "#print out te best estimator\n",
    "random_search.best_estimator_"
   ]
  },
  {
   "cell_type": "code",
   "execution_count": 160,
   "metadata": {},
   "outputs": [
    {
     "data": {
      "text/plain": [
       "0.5015336052151564"
      ]
     },
     "execution_count": 160,
     "metadata": {},
     "output_type": "execute_result"
    }
   ],
   "source": [
    "#plug the best estimatior to predict y and find r2 score\n",
    "best_regressor = random_search.best_estimator_\n",
    "y_pred = best_regressor.predict(X_test)\n",
    "r2_score(y_test,y_pred)"
   ]
  },
  {
   "cell_type": "markdown",
   "metadata": {},
   "source": [
    "#### Tuning the number of boosting round (n_estimator)"
   ]
  },
  {
   "cell_type": "markdown",
   "metadata": {},
   "source": [
    "We go deeper into n_estimators in the range from 80-120"
   ]
  },
  {
   "cell_type": "code",
   "execution_count": 161,
   "metadata": {},
   "outputs": [
    {
     "data": {
      "text/plain": [
       "({'n_estimators': 95}, 0.5052956363270076)"
      ]
     },
     "execution_count": 161,
     "metadata": {},
     "output_type": "execute_result"
    }
   ],
   "source": [
    "params_0 = {\n",
    "    'n_estimators': np.arange(80,120,5)\n",
    "}\n",
    "gsearch0 = GridSearchCV(estimator = XGBRegressor(base_score=0.5, booster='gbtree', gamma=0.3, learning_rate=0.2, \n",
    "                          max_depth=2, min_child_weight=4, objective='reg:linear', colsample_bylevel=1, colsample_bynode=1, colsample_bytree=0.9, importance_type='gain',\n",
    "                          max_delta_step=0, subsample=0.8, verbosity=0, silent=True, random_state = ran, seed = seed),param_grid = params_0, cv=5)\n",
    "gsearch0.fit(X_train,y_train)\n",
    "gsearch0.best_params_, gsearch0.best_score_"
   ]
  },
  {
   "cell_type": "markdown",
   "metadata": {},
   "source": [
    "Take one more step deeper into the range from 90 to 100"
   ]
  },
  {
   "cell_type": "code",
   "execution_count": 162,
   "metadata": {},
   "outputs": [
    {
     "data": {
      "text/plain": [
       "({'n_estimators': 95}, 0.5052956363270076)"
      ]
     },
     "execution_count": 162,
     "metadata": {},
     "output_type": "execute_result"
    }
   ],
   "source": [
    "params_0 = {\n",
    "    'n_estimators': np.arange(90,100,1)\n",
    "}\n",
    "gsearch0 = GridSearchCV(estimator = XGBRegressor(base_score=0.5, booster='gbtree', gamma=0.3, learning_rate=0.2, \n",
    "                          max_depth=2, min_child_weight=4, objective='reg:linear', colsample_bylevel=1, colsample_bynode=1, colsample_bytree=0.9, importance_type='gain',\n",
    "                          max_delta_step=0, subsample=0.8, verbosity=0, silent=True, random_state = ran, seed = seed),param_grid = params_0, cv=5)\n",
    "gsearch0.fit(X_train,y_train)\n",
    "gsearch0.best_params_, gsearch0.best_score_"
   ]
  },
  {
   "cell_type": "markdown",
   "metadata": {},
   "source": [
    "#### Using GridSearch to tune max_depth and min_child_weight"
   ]
  },
  {
   "cell_type": "code",
   "execution_count": 163,
   "metadata": {},
   "outputs": [
    {
     "data": {
      "text/plain": [
       "({'max_depth': 2, 'min_child_weight': 4}, 0.5052956363270076)"
      ]
     },
     "execution_count": 163,
     "metadata": {},
     "output_type": "execute_result"
    }
   ],
   "source": [
    "params_1 = {\n",
    " 'max_depth':range(1,4,1),\n",
    " 'min_child_weight':range(1,5,1)\n",
    "}\n",
    "gsearch1 = GridSearchCV(estimator = XGBRegressor(base_score=0.5, booster='gbtree', gamma=0.3, learning_rate=0.2, \n",
    "                          objective='reg:linear', n_estimators = 95,\n",
    "                          olsample_bylevel=1, colsample_bynode=1, colsample_bytree=0.9, importance_type='gain',\n",
    "                          max_delta_step=0, subsample=0.8, verbosity=0, silent = True, random_state = ran, seed = seed),param_grid = params_1, cv=5)\n",
    "gsearch1.fit(X_train,y_train)\n",
    "gsearch1.best_params_, gsearch1.best_score_"
   ]
  },
  {
   "cell_type": "markdown",
   "metadata": {},
   "source": [
    "#### Tuning gamma"
   ]
  },
  {
   "cell_type": "code",
   "execution_count": 164,
   "metadata": {},
   "outputs": [
    {
     "data": {
      "text/plain": [
       "({'gamma': 0.1}, 0.5052956363270076)"
      ]
     },
     "execution_count": 164,
     "metadata": {},
     "output_type": "execute_result"
    }
   ],
   "source": [
    "params_2 = {\n",
    " 'gamma':[i/10.0 for i in range(1,6)]\n",
    "}\n",
    "gsearch2 = GridSearchCV(estimator = XGBRegressor(base_score=0.5, booster='gbtree', learning_rate=0.2, \n",
    "                          objective='reg:linear',  n_estimators = 95,\n",
    "                          colsample_bylevel=1, colsample_bynode=1, colsample_bytree=0.9, importance_type='gain',\n",
    "                          max_delta_step=0, subsample=0.8, verbosity=0, silent = True, max_depth=2, min_child_weight=4, random_state = ran, seed = seed),param_grid = params_2, cv=5)\n",
    "gsearch2.fit(X_train,y_train)\n",
    "gsearch2.best_params_, gsearch2.best_score_"
   ]
  },
  {
   "cell_type": "markdown",
   "metadata": {},
   "source": [
    "#### Tunning subsample and colsample_bytree"
   ]
  },
  {
   "cell_type": "code",
   "execution_count": 165,
   "metadata": {},
   "outputs": [
    {
     "name": "stderr",
     "output_type": "stream",
     "text": [
      "/Library/Frameworks/Python.framework/Versions/3.10/lib/python3.10/site-packages/sklearn/model_selection/_validation.py:372: FitFailedWarning:\n",
      "\n",
      "\n",
      "25 fits failed out of a total of 45.\n",
      "The score on these train-test partitions for these parameters will be set to nan.\n",
      "If these failures are not expected, you can try to debug them by setting error_score='raise'.\n",
      "\n",
      "Below are more details about the failures:\n",
      "--------------------------------------------------------------------------------\n",
      "10 fits failed with the following error:\n",
      "Traceback (most recent call last):\n",
      "  File \"/Library/Frameworks/Python.framework/Versions/3.10/lib/python3.10/site-packages/sklearn/model_selection/_validation.py\", line 681, in _fit_and_score\n",
      "    estimator.fit(X_train, y_train, **fit_params)\n",
      "  File \"/Library/Frameworks/Python.framework/Versions/3.10/lib/python3.10/site-packages/xgboost/core.py\", line 506, in inner_f\n",
      "    return f(**kwargs)\n",
      "  File \"/Library/Frameworks/Python.framework/Versions/3.10/lib/python3.10/site-packages/xgboost/sklearn.py\", line 789, in fit\n",
      "    self._Booster = train(\n",
      "  File \"/Library/Frameworks/Python.framework/Versions/3.10/lib/python3.10/site-packages/xgboost/training.py\", line 188, in train\n",
      "    bst = _train_internal(params, dtrain,\n",
      "  File \"/Library/Frameworks/Python.framework/Versions/3.10/lib/python3.10/site-packages/xgboost/training.py\", line 81, in _train_internal\n",
      "    bst.update(dtrain, i, obj)\n",
      "  File \"/Library/Frameworks/Python.framework/Versions/3.10/lib/python3.10/site-packages/xgboost/core.py\", line 1680, in update\n",
      "    _check_call(_LIB.XGBoosterUpdateOneIter(self.handle,\n",
      "  File \"/Library/Frameworks/Python.framework/Versions/3.10/lib/python3.10/site-packages/xgboost/core.py\", line 218, in _check_call\n",
      "    raise XGBoostError(py_str(_LIB.XGBGetLastError()))\n",
      "xgboost.core.XGBoostError: value 1.1 for Parameter subsample exceed bound [0,1]\n",
      "subsample: Row subsample ratio of training instance.\n",
      "\n",
      "--------------------------------------------------------------------------------\n",
      "15 fits failed with the following error:\n",
      "Traceback (most recent call last):\n",
      "  File \"/Library/Frameworks/Python.framework/Versions/3.10/lib/python3.10/site-packages/sklearn/model_selection/_validation.py\", line 681, in _fit_and_score\n",
      "    estimator.fit(X_train, y_train, **fit_params)\n",
      "  File \"/Library/Frameworks/Python.framework/Versions/3.10/lib/python3.10/site-packages/xgboost/core.py\", line 506, in inner_f\n",
      "    return f(**kwargs)\n",
      "  File \"/Library/Frameworks/Python.framework/Versions/3.10/lib/python3.10/site-packages/xgboost/sklearn.py\", line 789, in fit\n",
      "    self._Booster = train(\n",
      "  File \"/Library/Frameworks/Python.framework/Versions/3.10/lib/python3.10/site-packages/xgboost/training.py\", line 188, in train\n",
      "    bst = _train_internal(params, dtrain,\n",
      "  File \"/Library/Frameworks/Python.framework/Versions/3.10/lib/python3.10/site-packages/xgboost/training.py\", line 81, in _train_internal\n",
      "    bst.update(dtrain, i, obj)\n",
      "  File \"/Library/Frameworks/Python.framework/Versions/3.10/lib/python3.10/site-packages/xgboost/core.py\", line 1680, in update\n",
      "    _check_call(_LIB.XGBoosterUpdateOneIter(self.handle,\n",
      "  File \"/Library/Frameworks/Python.framework/Versions/3.10/lib/python3.10/site-packages/xgboost/core.py\", line 218, in _check_call\n",
      "    raise XGBoostError(py_str(_LIB.XGBGetLastError()))\n",
      "xgboost.core.XGBoostError: value 1.1 for Parameter colsample_bytree exceed bound [0,1]\n",
      "colsample_bytree: Subsample ratio of columns, resample on each tree construction.\n",
      "\n",
      "\n"
     ]
    },
    {
     "data": {
      "text/plain": [
       "({'colsample_bytree': 1.0, 'subsample': 1.0}, 0.5060693725384681)"
      ]
     },
     "execution_count": 165,
     "metadata": {},
     "output_type": "execute_result"
    }
   ],
   "source": [
    "params_3 = {\n",
    "    'subsample':[i/10.0 for i in range(9,12)],\n",
    "    'colsample_bytree':[i/10.0 for i in range(9,12)]\n",
    "}\n",
    "gsearch3 = GridSearchCV(estimator = XGBRegressor(base_score=0.5, booster='gbtree', gamma=0.1, learning_rate=0.2, \n",
    "                          objective='reg:linear',  n_estimators = 95,\n",
    "                          colsample_bylevel=1, colsample_bynode=1, importance_type='gain',\n",
    "                          max_delta_step=0, verbosity=0, silent = True, max_depth=2, min_child_weight=4, random_state = ran, seed = seed),param_grid = params_3, cv=5)\n",
    "gsearch3.fit(X_train,y_train)\n",
    "gsearch3.best_params_, gsearch3.best_score_"
   ]
  },
  {
   "cell_type": "markdown",
   "metadata": {},
   "source": [
    "#### Tuning L1 Regulation"
   ]
  },
  {
   "cell_type": "code",
   "execution_count": 168,
   "metadata": {},
   "outputs": [
    {
     "data": {
      "text/plain": [
       "({'reg_alpha': 1}, 0.5069749048871939)"
      ]
     },
     "execution_count": 168,
     "metadata": {},
     "output_type": "execute_result"
    }
   ],
   "source": [
    "params_4 = {\n",
    "    'reg_alpha':[0, 1, 0.05]\n",
    "}\n",
    "gsearch4 = GridSearchCV(estimator = XGBRegressor(base_score=0.5, booster='gbtree', gamma=0.1, learning_rate=0.2,\n",
    "                          objective='reg:linear', n_estimators = 95,\n",
    "                          colsample_bylevel=1, colsample_bynode=1, importance_type='gain',\n",
    "                          max_delta_step=0, verbosity=0, silent = True, max_depth=2, min_child_weight=4,subsample=1,colsample_bytree=1, random_state = ran, seed = seed),param_grid = params_4, cv=5)\n",
    "gsearch4.fit(X_train,y_train)\n",
    "gsearch4.best_params_, gsearch4.best_score_"
   ]
  },
  {
   "cell_type": "markdown",
   "metadata": {},
   "source": [
    "#### Tuning Learning rate"
   ]
  },
  {
   "cell_type": "code",
   "execution_count": 170,
   "metadata": {},
   "outputs": [
    {
     "data": {
      "text/plain": [
       "({'learning_rate': 0.2}, 0.5069749048871939)"
      ]
     },
     "execution_count": 170,
     "metadata": {},
     "output_type": "execute_result"
    }
   ],
   "source": [
    "params_5 = {\n",
    "    'learning_rate':np.arange(0.1,0.4,0.1)\n",
    "}\n",
    "gsearch5 = GridSearchCV(estimator = XGBRegressor(base_score=0.5, booster='gbtree', gamma=0.1,\n",
    "                           objective='reg:linear',  n_estimators = 95,\n",
    "                          colsample_bylevel=1, colsample_bynode=1, importance_type='gain',subsample=1,colsample_bytree=1,\n",
    "                          max_delta_step=0, verbosity=0, silent = True, max_depth=2, min_child_weight=4, reg_alpha=1, random_state = ran, seed = seed),param_grid = params_5, cv=5)\n",
    "gsearch5.fit(X_train,y_train)\n",
    "gsearch5.best_params_, gsearch5.best_score_"
   ]
  },
  {
   "cell_type": "markdown",
   "metadata": {},
   "source": [
    "#### Testing with new tuned parameters"
   ]
  },
  {
   "cell_type": "code",
   "execution_count": 172,
   "metadata": {},
   "outputs": [],
   "source": [
    "xg_reg_tuned = xgb.XGBRegressor(base_score=0.5, booster='gbtree', gamma=0.1, learning_rate = 0.2,\n",
    "                           objective='reg:linear',  n_estimators = 95,\n",
    "                          colsample_bylevel=1, colsample_bynode=1, importance_type='gain',subsample=1,colsample_bytree=1,\n",
    "                          max_delta_step=0, verbosity=0, silent = True, max_depth=2, min_child_weight=4, reg_alpha=1, random_state = ran, seed = seed)\n",
    "xg_reg_tuned.fit(X_train, y_train)\n",
    "y_pred = xg_reg_tuned.predict(X_test)"
   ]
  },
  {
   "cell_type": "code",
   "execution_count": 173,
   "metadata": {},
   "outputs": [
    {
     "data": {
      "text/html": [
       "<div>\n",
       "<style scoped>\n",
       "    .dataframe tbody tr th:only-of-type {\n",
       "        vertical-align: middle;\n",
       "    }\n",
       "\n",
       "    .dataframe tbody tr th {\n",
       "        vertical-align: top;\n",
       "    }\n",
       "\n",
       "    .dataframe thead th {\n",
       "        text-align: right;\n",
       "    }\n",
       "</style>\n",
       "<table border=\"1\" class=\"dataframe\">\n",
       "  <thead>\n",
       "    <tr style=\"text-align: right;\">\n",
       "      <th></th>\n",
       "      <th>mse</th>\n",
       "      <th>rmse</th>\n",
       "      <th>r2</th>\n",
       "      <th>mae</th>\n",
       "      <th>mad</th>\n",
       "    </tr>\n",
       "  </thead>\n",
       "  <tbody>\n",
       "    <tr>\n",
       "      <th>XGBRegressor</th>\n",
       "      <td>4.019553</td>\n",
       "      <td>2.004882</td>\n",
       "      <td>0.496037</td>\n",
       "      <td>1.571746</td>\n",
       "      <td>1.300764</td>\n",
       "    </tr>\n",
       "  </tbody>\n",
       "</table>\n",
       "</div>"
      ],
      "text/plain": [
       "                   mse      rmse        r2       mae       mad\n",
       "XGBRegressor  4.019553  2.004882  0.496037  1.571746  1.300764"
      ]
     },
     "execution_count": 173,
     "metadata": {},
     "output_type": "execute_result"
    }
   ],
   "source": [
    "exp_xgreg_tuned = dx.Explainer(xg_reg_tuned, X_test, y_test, verbose=False)\n",
    "exp_xgreg_tuned.model_performance().result"
   ]
  },
  {
   "cell_type": "markdown",
   "metadata": {},
   "source": [
    "### Model without race"
   ]
  },
  {
   "cell_type": "markdown",
   "metadata": {},
   "source": [
    "#### Featuring and start fitting base model"
   ]
  },
  {
   "cell_type": "markdown",
   "metadata": {},
   "source": [
    "**Featuring model (we continue with age)**"
   ]
  },
  {
   "cell_type": "code",
   "execution_count": 174,
   "metadata": {},
   "outputs": [],
   "source": [
    "features = pd.concat([df.age,\n",
    "                    pd.get_dummies(df.sex, prefix='sex',drop_first=True),\n",
    "                    ##pd.get_dummies(df.race, prefix='race',drop_first=True),  \n",
    "                    pd.get_dummies(df.c_charge_degree, prefix='degree',drop_first=True), # felony or misdemeanor charge ('f' or 'm')\n",
    "                    pd.get_dummies(df.c_charge_degree_detailed, prefix = 'degree_desc',drop_first=True),\n",
    "                    df.priors_count,\n",
    "                    df.juv_fel_count,\n",
    "                    df.juv_misd_count,\n",
    "                    df.juv_other_count,\n",
    "                    df.two_year_recid],\n",
    "                    axis=1)\n",
    "\n",
    "target = df.decile_score"
   ]
  },
  {
   "cell_type": "code",
   "execution_count": 175,
   "metadata": {},
   "outputs": [],
   "source": [
    "X = features\n",
    "y =target\n",
    "X_train, X_test, y_train, y_test = train_test_split(X,y, test_size=0.3, random_state = ran)"
   ]
  },
  {
   "cell_type": "markdown",
   "metadata": {},
   "source": [
    "**Model for age before tuning**"
   ]
  },
  {
   "cell_type": "code",
   "execution_count": 176,
   "metadata": {},
   "outputs": [],
   "source": [
    "\n",
    "xg_reg = xgb.XGBRegressor(base_score=0.5, booster='gbtree', gamma=0, learning_rate=0.1, \n",
    "                          max_depth=3, min_child_weight=1, n_estimators=100, objective='reg:linear', colsample_bylevel=1, colsample_bynode=1, colsample_bytree=1, importance_type='gain',\n",
    "                          max_delta_step=0, subsample=1, verbosity=0, silent = True, random_state = ran\n",
    "                        )\n",
    "xg_reg.fit(X_train,y_train)\n",
    "y_pred = xg_reg.predict(X_test)"
   ]
  },
  {
   "cell_type": "code",
   "execution_count": 177,
   "metadata": {},
   "outputs": [
    {
     "data": {
      "text/html": [
       "<div>\n",
       "<style scoped>\n",
       "    .dataframe tbody tr th:only-of-type {\n",
       "        vertical-align: middle;\n",
       "    }\n",
       "\n",
       "    .dataframe tbody tr th {\n",
       "        vertical-align: top;\n",
       "    }\n",
       "\n",
       "    .dataframe thead th {\n",
       "        text-align: right;\n",
       "    }\n",
       "</style>\n",
       "<table border=\"1\" class=\"dataframe\">\n",
       "  <thead>\n",
       "    <tr style=\"text-align: right;\">\n",
       "      <th></th>\n",
       "      <th>mse</th>\n",
       "      <th>rmse</th>\n",
       "      <th>r2</th>\n",
       "      <th>mae</th>\n",
       "      <th>mad</th>\n",
       "    </tr>\n",
       "  </thead>\n",
       "  <tbody>\n",
       "    <tr>\n",
       "      <th>XGBRegressor</th>\n",
       "      <td>4.12499</td>\n",
       "      <td>2.031007</td>\n",
       "      <td>0.482817</td>\n",
       "      <td>1.592623</td>\n",
       "      <td>1.289819</td>\n",
       "    </tr>\n",
       "  </tbody>\n",
       "</table>\n",
       "</div>"
      ],
      "text/plain": [
       "                  mse      rmse        r2       mae       mad\n",
       "XGBRegressor  4.12499  2.031007  0.482817  1.592623  1.289819"
      ]
     },
     "execution_count": 177,
     "metadata": {},
     "output_type": "execute_result"
    }
   ],
   "source": [
    "exp_xgreg = dx.Explainer(xg_reg, X_test, y_test, verbose=False)\n",
    "exp_xgreg.model_performance().result"
   ]
  },
  {
   "cell_type": "markdown",
   "metadata": {},
   "source": [
    "#### Tuning XGBoost with RandomizedCV"
   ]
  },
  {
   "cell_type": "code",
   "execution_count": 178,
   "metadata": {},
   "outputs": [
    {
     "name": "stdout",
     "output_type": "stream",
     "text": [
      "RandomizedSearchCV took 175.49 seconds for 250 candidates parameter settings.\n"
     ]
    }
   ],
   "source": [
    "# model tuning\n",
    "import time\n",
    "\n",
    "# A parameter grid for XGBoost\n",
    "params = {\n",
    "    'n_estimators':[50,100,150],\n",
    "    'min_child_weight':[2,3,4,5], \n",
    "    'gamma':[i/10.0 for i in range(3,6)],  \n",
    "    'subsample':[i/10.0 for i in range(6,11)],\n",
    "    'colsample_bytree':[i/10.0 for i in range(6,11)], \n",
    "    'max_depth': [2,3,4,6,7],\n",
    "    'objective': ['reg:squarederror'],\n",
    "    'booster': ['gbtree', 'gblinear'],\n",
    "    'eval_metric': ['rmse'],\n",
    "    'eta': [i/10.0 for i in range(3,6)],\n",
    "    'learning_rate':[i/10.0 for i in range(2,11)],\n",
    "}\n",
    "\n",
    "reg = XGBRegressor()\n",
    "\n",
    "# run randomized search\n",
    "n_iter_search = 250\n",
    "random_search = RandomizedSearchCV(reg, param_distributions=params,\n",
    "                                   n_iter=n_iter_search, cv=5, scoring='r2', random_state = ran)\n",
    "\n",
    "start = time.time()\n",
    "random_search.fit(X_train, y_train)\n",
    "print(\"RandomizedSearchCV took %.2f seconds for %d candidates\"\n",
    "      \" parameter settings.\" % ((time.time() - start), n_iter_search))"
   ]
  },
  {
   "cell_type": "code",
   "execution_count": 179,
   "metadata": {},
   "outputs": [
    {
     "data": {
      "text/plain": [
       "0.47950759578484425"
      ]
     },
     "execution_count": 179,
     "metadata": {},
     "output_type": "execute_result"
    }
   ],
   "source": [
    "#plug the best estimatior to predict y and find r2 score\n",
    "best_regressor = random_search.best_estimator_\n",
    "y_pred = best_regressor.predict(X_test)\n",
    "r2_score(y_test,y_pred)"
   ]
  },
  {
   "cell_type": "code",
   "execution_count": 180,
   "metadata": {},
   "outputs": [
    {
     "data": {
      "text/html": [
       "<style>#sk-196df59d-eab4-4895-86e4-7f41f920d49a {color: black;background-color: white;}#sk-196df59d-eab4-4895-86e4-7f41f920d49a pre{padding: 0;}#sk-196df59d-eab4-4895-86e4-7f41f920d49a div.sk-toggleable {background-color: white;}#sk-196df59d-eab4-4895-86e4-7f41f920d49a label.sk-toggleable__label {cursor: pointer;display: block;width: 100%;margin-bottom: 0;padding: 0.3em;box-sizing: border-box;text-align: center;}#sk-196df59d-eab4-4895-86e4-7f41f920d49a div.sk-toggleable__content {max-height: 0;max-width: 0;overflow: hidden;text-align: left;background-color: #f0f8ff;}#sk-196df59d-eab4-4895-86e4-7f41f920d49a div.sk-toggleable__content pre {margin: 0.2em;color: black;border-radius: 0.25em;background-color: #f0f8ff;}#sk-196df59d-eab4-4895-86e4-7f41f920d49a input.sk-toggleable__control:checked~div.sk-toggleable__content {max-height: 200px;max-width: 100%;overflow: auto;}#sk-196df59d-eab4-4895-86e4-7f41f920d49a div.sk-estimator input.sk-toggleable__control:checked~label.sk-toggleable__label {background-color: #d4ebff;}#sk-196df59d-eab4-4895-86e4-7f41f920d49a div.sk-label input.sk-toggleable__control:checked~label.sk-toggleable__label {background-color: #d4ebff;}#sk-196df59d-eab4-4895-86e4-7f41f920d49a input.sk-hidden--visually {border: 0;clip: rect(1px 1px 1px 1px);clip: rect(1px, 1px, 1px, 1px);height: 1px;margin: -1px;overflow: hidden;padding: 0;position: absolute;width: 1px;}#sk-196df59d-eab4-4895-86e4-7f41f920d49a div.sk-estimator {font-family: monospace;background-color: #f0f8ff;border: 1px dotted black;border-radius: 0.25em;box-sizing: border-box;margin-bottom: 0.5em;}#sk-196df59d-eab4-4895-86e4-7f41f920d49a div.sk-estimator:hover {background-color: #d4ebff;}#sk-196df59d-eab4-4895-86e4-7f41f920d49a div.sk-parallel-item::after {content: \"\";width: 100%;border-bottom: 1px solid gray;flex-grow: 1;}#sk-196df59d-eab4-4895-86e4-7f41f920d49a div.sk-label:hover label.sk-toggleable__label {background-color: #d4ebff;}#sk-196df59d-eab4-4895-86e4-7f41f920d49a div.sk-serial::before {content: \"\";position: absolute;border-left: 1px solid gray;box-sizing: border-box;top: 2em;bottom: 0;left: 50%;}#sk-196df59d-eab4-4895-86e4-7f41f920d49a div.sk-serial {display: flex;flex-direction: column;align-items: center;background-color: white;padding-right: 0.2em;padding-left: 0.2em;}#sk-196df59d-eab4-4895-86e4-7f41f920d49a div.sk-item {z-index: 1;}#sk-196df59d-eab4-4895-86e4-7f41f920d49a div.sk-parallel {display: flex;align-items: stretch;justify-content: center;background-color: white;}#sk-196df59d-eab4-4895-86e4-7f41f920d49a div.sk-parallel::before {content: \"\";position: absolute;border-left: 1px solid gray;box-sizing: border-box;top: 2em;bottom: 0;left: 50%;}#sk-196df59d-eab4-4895-86e4-7f41f920d49a div.sk-parallel-item {display: flex;flex-direction: column;position: relative;background-color: white;}#sk-196df59d-eab4-4895-86e4-7f41f920d49a div.sk-parallel-item:first-child::after {align-self: flex-end;width: 50%;}#sk-196df59d-eab4-4895-86e4-7f41f920d49a div.sk-parallel-item:last-child::after {align-self: flex-start;width: 50%;}#sk-196df59d-eab4-4895-86e4-7f41f920d49a div.sk-parallel-item:only-child::after {width: 0;}#sk-196df59d-eab4-4895-86e4-7f41f920d49a div.sk-dashed-wrapped {border: 1px dashed gray;margin: 0 0.4em 0.5em 0.4em;box-sizing: border-box;padding-bottom: 0.4em;background-color: white;position: relative;}#sk-196df59d-eab4-4895-86e4-7f41f920d49a div.sk-label label {font-family: monospace;font-weight: bold;background-color: white;display: inline-block;line-height: 1.2em;}#sk-196df59d-eab4-4895-86e4-7f41f920d49a div.sk-label-container {position: relative;z-index: 2;text-align: center;}#sk-196df59d-eab4-4895-86e4-7f41f920d49a div.sk-container {display: inline-block;position: relative;}</style><div id=\"sk-196df59d-eab4-4895-86e4-7f41f920d49a\" class\"sk-top-container\"><div class=\"sk-container\"><div class=\"sk-item\"><div class=\"sk-estimator sk-toggleable\"><input class=\"sk-toggleable__control sk-hidden--visually\" id=\"0962874e-4d0d-4a4d-bdd1-07a82d40e1c3\" type=\"checkbox\" checked><label class=\"sk-toggleable__label\" for=\"0962874e-4d0d-4a4d-bdd1-07a82d40e1c3\">XGBRegressor</label><div class=\"sk-toggleable__content\"><pre>XGBRegressor(base_score=0.5, booster='gbtree', colsample_bylevel=1,\n",
       "             colsample_bynode=1, colsample_bytree=0.6, enable_categorical=False,\n",
       "             eta=0.4, eval_metric='rmse', gamma=0.3, gpu_id=-1,\n",
       "             importance_type=None, interaction_constraints='',\n",
       "             learning_rate=0.2, max_delta_step=0, max_depth=3,\n",
       "             min_child_weight=5, missing=nan, monotone_constraints='()',\n",
       "             n_estimators=50, n_jobs=4, num_parallel_tree=1, predictor='auto',\n",
       "             random_state=0, reg_alpha=0, reg_lambda=1, scale_pos_weight=1,\n",
       "             subsample=1.0, tree_method='exact', validate_parameters=1,\n",
       "             verbosity=None)</pre></div></div></div></div></div>"
      ],
      "text/plain": [
       "XGBRegressor(base_score=0.5, booster='gbtree', colsample_bylevel=1,\n",
       "             colsample_bynode=1, colsample_bytree=0.6, enable_categorical=False,\n",
       "             eta=0.4, eval_metric='rmse', gamma=0.3, gpu_id=-1,\n",
       "             importance_type=None, interaction_constraints='',\n",
       "             learning_rate=0.2, max_delta_step=0, max_depth=3,\n",
       "             min_child_weight=5, missing=nan, monotone_constraints='()',\n",
       "             n_estimators=50, n_jobs=4, num_parallel_tree=1, predictor='auto',\n",
       "             random_state=0, reg_alpha=0, reg_lambda=1, scale_pos_weight=1,\n",
       "             subsample=1.0, tree_method='exact', validate_parameters=1,\n",
       "             verbosity=None)"
      ]
     },
     "execution_count": 180,
     "metadata": {},
     "output_type": "execute_result"
    }
   ],
   "source": [
    "random_search.best_estimator_"
   ]
  },
  {
   "cell_type": "markdown",
   "metadata": {},
   "source": [
    "Lets do another Grid Search Tuning here.\n",
    "Also based on the tuning process for model with race, we don't see any changes after tuning gamma, learning_rate, max_depth and min_child_weight since they are already on the lowest level. Hence, we minimize this part for the model without race"
   ]
  },
  {
   "cell_type": "markdown",
   "metadata": {},
   "source": [
    "#### Tuning with GridSearchCV"
   ]
  },
  {
   "cell_type": "code",
   "execution_count": 182,
   "metadata": {},
   "outputs": [
    {
     "data": {
      "text/plain": [
       "({'gamma': 0.2, 'n_estimators': 52}, 0.5069749048871939)"
      ]
     },
     "execution_count": 182,
     "metadata": {},
     "output_type": "execute_result"
    }
   ],
   "source": [
    "params = {\n",
    "    'n_estimators':[47,52,1],\n",
    "    'gamma':[i/10.0 for i in range(2,4)]\n",
    "}\n",
    "gsearch = GridSearchCV(estimator = XGBRegressor(base_score=0.5, booster='gbtree', gamma=0.3, \n",
    "                          objective='reg:squarederror',\n",
    "                          colsample_bylevel=1, colsample_bynode=1, importance_type='gain',subsample=0.8,colsample_bytree=0.6,\n",
    "                          max_delta_step=0, verbosity=0, silent = True, max_depth=3, min_child_weight=5, reg_alpha=0,learning_rate = 0.2, random_state = ran, seed = seed),param_grid = params, cv=5)\n",
    "gsearch.fit(X_train,y_train)\n",
    "gsearch.best_params_, gsearch5.best_score_"
   ]
  },
  {
   "cell_type": "markdown",
   "metadata": {},
   "source": [
    "#### Testing with new tuned parameters"
   ]
  },
  {
   "cell_type": "code",
   "execution_count": 183,
   "metadata": {},
   "outputs": [
    {
     "data": {
      "text/plain": [
       "0.4781945612681374"
      ]
     },
     "execution_count": 183,
     "metadata": {},
     "output_type": "execute_result"
    }
   ],
   "source": [
    "best_regressor = gsearch.best_estimator_\n",
    "y_pred = best_regressor.predict(X_test)\n",
    "r2_score(y_test,y_pred)"
   ]
  },
  {
   "cell_type": "markdown",
   "metadata": {},
   "source": [
    "After tuning, model with \"race\" has a higher R2_score compared to the one without \"race\". We can see that \"race\" plays a roll in predicting the decile score. "
   ]
  },
  {
   "cell_type": "markdown",
   "metadata": {},
   "source": [
    "# Classification"
   ]
  },
  {
   "cell_type": "markdown",
   "metadata": {},
   "source": [
    "### Selection of features for the model"
   ]
  },
  {
   "cell_type": "markdown",
   "metadata": {},
   "source": [
    "We keep using race and age for our classification part."
   ]
  },
  {
   "cell_type": "markdown",
   "metadata": {},
   "source": [
    "### Model with race"
   ]
  },
  {
   "cell_type": "code",
   "execution_count": 255,
   "metadata": {},
   "outputs": [],
   "source": [
    "features = pd.concat([df.age,\n",
    "                    pd.get_dummies(df.sex, prefix='sex',drop_first=True),\n",
    "                    pd.get_dummies(df.race, prefix='race',drop_first=True),  \n",
    "                    pd.get_dummies(df.c_charge_degree, prefix='degree',drop_first=True), # felony or misdemeanor charge ('f' or 'm')\n",
    "                    pd.get_dummies(df.c_charge_degree_detailed, prefix = 'degree_desc',drop_first=True),\n",
    "                    df.priors_count,\n",
    "                    df.juv_fel_count,\n",
    "                    df.juv_misd_count,\n",
    "                    df.juv_other_count\n",
    "                    ],\n",
    "                    axis=1)\n",
    "\n",
    "target = df.two_year_recid"
   ]
  },
  {
   "cell_type": "markdown",
   "metadata": {},
   "source": [
    "**Splitting train, test**"
   ]
  },
  {
   "cell_type": "code",
   "execution_count": 256,
   "metadata": {},
   "outputs": [],
   "source": [
    "X = features\n",
    "y =target\n",
    "X_train, X_test, y_train, y_test = train_test_split(X,y, test_size=0.3, random_state = ran)"
   ]
  },
  {
   "cell_type": "markdown",
   "metadata": {},
   "source": [
    "**model with default params**"
   ]
  },
  {
   "cell_type": "code",
   "execution_count": 257,
   "metadata": {},
   "outputs": [],
   "source": [
    "\n",
    "xg_clf = xgb.XGBClassifier(base_score=0.5, booster='gbtree', gamma=0, learning_rate=0.1, \n",
    "                          max_depth=3, min_child_weight=1, n_estimators=100, objective='binary:logistic', colsample_bylevel=1, colsample_bynode=1, colsample_bytree=1, importance_type='gain',\n",
    "                          max_delta_step=0, subsample=1, verbosity=0, silent = True, random_state = ran\n",
    "                        )\n",
    "xg_clf.fit(X_train,y_train)\n",
    "y_pred = xg_clf.predict(X_test)"
   ]
  },
  {
   "cell_type": "code",
   "execution_count": 258,
   "metadata": {},
   "outputs": [
    {
     "data": {
      "text/plain": [
       "0.6465814134442979"
      ]
     },
     "execution_count": 258,
     "metadata": {},
     "output_type": "execute_result"
    }
   ],
   "source": [
    "roc_auc_score(y_test,y_pred)"
   ]
  },
  {
   "cell_type": "markdown",
   "metadata": {},
   "source": [
    "**Tuning XGBoost for clf**"
   ]
  },
  {
   "cell_type": "code",
   "execution_count": 259,
   "metadata": {},
   "outputs": [
    {
     "name": "stdout",
     "output_type": "stream",
     "text": [
      "RandomizedSearchCV took 77.14 seconds for 100 candidates parameter settings.\n"
     ]
    }
   ],
   "source": [
    "import warnings\n",
    "warnings.filterwarnings(\"ignore\", category=UserWarning)\n",
    "\n",
    "# model tuning\n",
    "import time\n",
    "\n",
    "# A parameter grid for XGBoost\n",
    "params = {\n",
    "    'n_estimators':[50,100,150],\n",
    "    'min_child_weight':[2,3,4,5], \n",
    "    'gamma':[i/10.0 for i in range(3,6)],  \n",
    "    'subsample':[i/10.0 for i in range(6,11)],\n",
    "    'colsample_bytree':[i/10.0 for i in range(6,11)], \n",
    "    'max_depth': [2,3,4,6,7],\n",
    "    'objective': ['binary:logistic'],\n",
    "    'booster': ['gbtree', 'gblinear'],\n",
    "    'eval_metric': ['rmse'],\n",
    "    'eta': [i/10.0 for i in range(3,6)],\n",
    "    'verbosity':[0],\n",
    "    'silent':[True]\n",
    "}\n",
    "\n",
    "clf = XGBClassifier(verbosity = 0,silent =True)\n",
    "\n",
    "# run randomized search\n",
    "n_iter_search = 100\n",
    "random_search = RandomizedSearchCV(clf, param_distributions=params,\n",
    "                                   n_iter=n_iter_search, cv=5, scoring='r2', random_state = ran)\n",
    "\n",
    "start = time.time()\n",
    "random_search.fit(X_train, y_train)\n",
    "print(\"RandomizedSearchCV took %.2f seconds for %d candidates\"\n",
    "      \" parameter settings.\" % ((time.time() - start), n_iter_search))"
   ]
  },
  {
   "cell_type": "code",
   "execution_count": 263,
   "metadata": {},
   "outputs": [
    {
     "data": {
      "text/plain": [
       "0.6659639856683963"
      ]
     },
     "execution_count": 263,
     "metadata": {},
     "output_type": "execute_result"
    }
   ],
   "source": [
    "best_regressor = random_search.best_estimator_\n",
    "y_pred = best_regressor.predict(X_test)\n",
    "roc_auc_score(y_pred,y_test)"
   ]
  },
  {
   "cell_type": "code",
   "execution_count": 264,
   "metadata": {},
   "outputs": [
    {
     "data": {
      "text/html": [
       "<style>#sk-1209bc43-8a93-4b62-b2df-d2a6af09364d {color: black;background-color: white;}#sk-1209bc43-8a93-4b62-b2df-d2a6af09364d pre{padding: 0;}#sk-1209bc43-8a93-4b62-b2df-d2a6af09364d div.sk-toggleable {background-color: white;}#sk-1209bc43-8a93-4b62-b2df-d2a6af09364d label.sk-toggleable__label {cursor: pointer;display: block;width: 100%;margin-bottom: 0;padding: 0.3em;box-sizing: border-box;text-align: center;}#sk-1209bc43-8a93-4b62-b2df-d2a6af09364d div.sk-toggleable__content {max-height: 0;max-width: 0;overflow: hidden;text-align: left;background-color: #f0f8ff;}#sk-1209bc43-8a93-4b62-b2df-d2a6af09364d div.sk-toggleable__content pre {margin: 0.2em;color: black;border-radius: 0.25em;background-color: #f0f8ff;}#sk-1209bc43-8a93-4b62-b2df-d2a6af09364d input.sk-toggleable__control:checked~div.sk-toggleable__content {max-height: 200px;max-width: 100%;overflow: auto;}#sk-1209bc43-8a93-4b62-b2df-d2a6af09364d div.sk-estimator input.sk-toggleable__control:checked~label.sk-toggleable__label {background-color: #d4ebff;}#sk-1209bc43-8a93-4b62-b2df-d2a6af09364d div.sk-label input.sk-toggleable__control:checked~label.sk-toggleable__label {background-color: #d4ebff;}#sk-1209bc43-8a93-4b62-b2df-d2a6af09364d input.sk-hidden--visually {border: 0;clip: rect(1px 1px 1px 1px);clip: rect(1px, 1px, 1px, 1px);height: 1px;margin: -1px;overflow: hidden;padding: 0;position: absolute;width: 1px;}#sk-1209bc43-8a93-4b62-b2df-d2a6af09364d div.sk-estimator {font-family: monospace;background-color: #f0f8ff;border: 1px dotted black;border-radius: 0.25em;box-sizing: border-box;margin-bottom: 0.5em;}#sk-1209bc43-8a93-4b62-b2df-d2a6af09364d div.sk-estimator:hover {background-color: #d4ebff;}#sk-1209bc43-8a93-4b62-b2df-d2a6af09364d div.sk-parallel-item::after {content: \"\";width: 100%;border-bottom: 1px solid gray;flex-grow: 1;}#sk-1209bc43-8a93-4b62-b2df-d2a6af09364d div.sk-label:hover label.sk-toggleable__label {background-color: #d4ebff;}#sk-1209bc43-8a93-4b62-b2df-d2a6af09364d div.sk-serial::before {content: \"\";position: absolute;border-left: 1px solid gray;box-sizing: border-box;top: 2em;bottom: 0;left: 50%;}#sk-1209bc43-8a93-4b62-b2df-d2a6af09364d div.sk-serial {display: flex;flex-direction: column;align-items: center;background-color: white;padding-right: 0.2em;padding-left: 0.2em;}#sk-1209bc43-8a93-4b62-b2df-d2a6af09364d div.sk-item {z-index: 1;}#sk-1209bc43-8a93-4b62-b2df-d2a6af09364d div.sk-parallel {display: flex;align-items: stretch;justify-content: center;background-color: white;}#sk-1209bc43-8a93-4b62-b2df-d2a6af09364d div.sk-parallel::before {content: \"\";position: absolute;border-left: 1px solid gray;box-sizing: border-box;top: 2em;bottom: 0;left: 50%;}#sk-1209bc43-8a93-4b62-b2df-d2a6af09364d div.sk-parallel-item {display: flex;flex-direction: column;position: relative;background-color: white;}#sk-1209bc43-8a93-4b62-b2df-d2a6af09364d div.sk-parallel-item:first-child::after {align-self: flex-end;width: 50%;}#sk-1209bc43-8a93-4b62-b2df-d2a6af09364d div.sk-parallel-item:last-child::after {align-self: flex-start;width: 50%;}#sk-1209bc43-8a93-4b62-b2df-d2a6af09364d div.sk-parallel-item:only-child::after {width: 0;}#sk-1209bc43-8a93-4b62-b2df-d2a6af09364d div.sk-dashed-wrapped {border: 1px dashed gray;margin: 0 0.4em 0.5em 0.4em;box-sizing: border-box;padding-bottom: 0.4em;background-color: white;position: relative;}#sk-1209bc43-8a93-4b62-b2df-d2a6af09364d div.sk-label label {font-family: monospace;font-weight: bold;background-color: white;display: inline-block;line-height: 1.2em;}#sk-1209bc43-8a93-4b62-b2df-d2a6af09364d div.sk-label-container {position: relative;z-index: 2;text-align: center;}#sk-1209bc43-8a93-4b62-b2df-d2a6af09364d div.sk-container {display: inline-block;position: relative;}</style><div id=\"sk-1209bc43-8a93-4b62-b2df-d2a6af09364d\" class\"sk-top-container\"><div class=\"sk-container\"><div class=\"sk-item\"><div class=\"sk-estimator sk-toggleable\"><input class=\"sk-toggleable__control sk-hidden--visually\" id=\"0f07d28b-0374-460f-9f8b-491a8704de18\" type=\"checkbox\" checked><label class=\"sk-toggleable__label\" for=\"0f07d28b-0374-460f-9f8b-491a8704de18\">XGBClassifier</label><div class=\"sk-toggleable__content\"><pre>XGBClassifier(base_score=0.5, booster='gbtree', colsample_bylevel=1,\n",
       "              colsample_bynode=1, colsample_bytree=1.0,\n",
       "              enable_categorical=False, eta=0.3, eval_metric='rmse', gamma=0.5,\n",
       "              gpu_id=-1, importance_type=None, interaction_constraints='',\n",
       "              learning_rate=0.300000012, max_delta_step=0, max_depth=2,\n",
       "              min_child_weight=3, missing=nan, monotone_constraints='()',\n",
       "              n_estimators=50, n_jobs=4, num_parallel_tree=1, predictor='auto',\n",
       "              random_state=0, reg_alpha=0, reg_lambda=1, scale_pos_weight=1,\n",
       "              silent=True, subsample=0.9, tree_method='exact',\n",
       "              validate_parameters=1, ...)</pre></div></div></div></div></div>"
      ],
      "text/plain": [
       "XGBClassifier(base_score=0.5, booster='gbtree', colsample_bylevel=1,\n",
       "              colsample_bynode=1, colsample_bytree=1.0,\n",
       "              enable_categorical=False, eta=0.3, eval_metric='rmse', gamma=0.5,\n",
       "              gpu_id=-1, importance_type=None, interaction_constraints='',\n",
       "              learning_rate=0.300000012, max_delta_step=0, max_depth=2,\n",
       "              min_child_weight=3, missing=nan, monotone_constraints='()',\n",
       "              n_estimators=50, n_jobs=4, num_parallel_tree=1, predictor='auto',\n",
       "              random_state=0, reg_alpha=0, reg_lambda=1, scale_pos_weight=1,\n",
       "              silent=True, subsample=0.9, tree_method='exact',\n",
       "              validate_parameters=1, ...)"
      ]
     },
     "execution_count": 264,
     "metadata": {},
     "output_type": "execute_result"
    }
   ],
   "source": [
    "random_search.best_estimator_"
   ]
  },
  {
   "cell_type": "markdown",
   "metadata": {},
   "source": [
    "#### Tuning number of boosting round"
   ]
  },
  {
   "cell_type": "code",
   "execution_count": 265,
   "metadata": {},
   "outputs": [
    {
     "data": {
      "text/plain": [
       "({'n_estimators': 25}, 0.7130961752638281)"
      ]
     },
     "execution_count": 265,
     "metadata": {},
     "output_type": "execute_result"
    }
   ],
   "source": [
    "params0 = {\n",
    "    'n_estimators':[25,80,5],\n",
    "}\n",
    "gsearch0 = GridSearchCV(estimator = XGBClassifier(base_score=0.5, booster='gbtree', gamma=0.5, \n",
    "                          objective='binary:logistic',learning_rate = 0.3,\n",
    "                          colsample_bylevel=1, colsample_bynode=1, importance_type='gain',subsample=0.9,colsample_bytree=1,\n",
    "                          verbosity=0, silent = True, max_depth=2, min_child_weight=3, reg_alpha=0, random_state = ran, seed = seed),param_grid = params0, cv=5)\n",
    "gsearch0.fit(X_train,y_train)\n",
    "gsearch0.best_params_, gsearch0.best_score_"
   ]
  },
  {
   "cell_type": "markdown",
   "metadata": {},
   "source": [
    "#### Tuning subsample, colsample_bytree, l1 Regulation and learning rate"
   ]
  },
  {
   "cell_type": "code",
   "execution_count": 285,
   "metadata": {},
   "outputs": [
    {
     "data": {
      "text/plain": [
       "({'colsample_bytree': 1,\n",
       "  'learning_rate': 0.1,\n",
       "  'max_depth': 3,\n",
       "  'min_child_weight': 1,\n",
       "  'reg_alpha': 1,\n",
       "  'subsample': 1},\n",
       " 0.7441437379191461)"
      ]
     },
     "execution_count": 285,
     "metadata": {},
     "output_type": "execute_result"
    }
   ],
   "source": [
    "params3 = {\n",
    "    'subsample':[0.1,1,0.05],\n",
    "    'colsample_bytree':[0.1,1,0.05],\n",
    "    'reg_alpha':[0.1,1,0.05],\n",
    "    'learning_rate':[0.1,0.4,0.1], \n",
    "    'max_depth':[1,3,1],\n",
    "    'min_child_weight':[1,5,1]\n",
    "}\n",
    "gsearch3 = GridSearchCV(estimator = XGBClassifier(base_score=0.5, booster='gbtree', gamma = 0.1,\n",
    "                          objective='binary:logistic',  n_estimatos = 25,\n",
    "                          colsample_bylevel=1, colsample_bynode=1, importance_type='gain',\n",
    "                          verbosity=0, silent = True,random_state = ran, seed = seed),param_grid = params3, cv=5, scoring = 'roc_auc')\n",
    "gsearch3.fit(X_train,y_train)\n",
    "gsearch3.best_params_, gsearch3.best_score_"
   ]
  },
  {
   "cell_type": "markdown",
   "metadata": {},
   "source": [
    "#### Tuning subsample and colsample_bytree"
   ]
  },
  {
   "cell_type": "code",
   "execution_count": 291,
   "metadata": {},
   "outputs": [],
   "source": [
    "xg_clf = xgb.XGBClassifier(base_score=0.5, booster='gbtree', gamma = 0.1,\n",
    "                          objective='binary:logistic', n_estimatos = 25, learning_rate = 0.1,\n",
    "                          colsample_bylevel=1, colsample_bynode=1, importance_type='gain',subsample=1,colsample_bytree=1,\n",
    "                          verbosity=0, silent = True,  max_depth=3, min_child_weight=1, reg_alpha=0,random_state = ran, seed = seed\n",
    "                        )\n",
    "xg_clf.fit(X_train,y_train)\n",
    "y_pred = xg_clf.predict(X_test)"
   ]
  },
  {
   "cell_type": "code",
   "execution_count": 292,
   "metadata": {},
   "outputs": [
    {
     "data": {
      "text/plain": [
       "0.6739192306690158"
      ]
     },
     "execution_count": 292,
     "metadata": {},
     "output_type": "execute_result"
    }
   ],
   "source": [
    "roc_auc_score(y_pred,y_test)"
   ]
  },
  {
   "cell_type": "code",
   "execution_count": 293,
   "metadata": {},
   "outputs": [
    {
     "data": {
      "text/plain": [
       "array([[841, 161],\n",
       "       [322, 268]])"
      ]
     },
     "execution_count": 293,
     "metadata": {},
     "output_type": "execute_result"
    }
   ],
   "source": [
    "confusion_matrix(y_test, y_pred)"
   ]
  },
  {
   "cell_type": "code",
   "execution_count": 294,
   "metadata": {},
   "outputs": [
    {
     "name": "stdout",
     "output_type": "stream",
     "text": [
      "              precision    recall  f1-score   support\n",
      "\n",
      "    no_recid       0.72      0.84      0.78      1002\n",
      "    is_recid       0.62      0.45      0.53       590\n",
      "\n",
      "    accuracy                           0.70      1592\n",
      "   macro avg       0.67      0.65      0.65      1592\n",
      "weighted avg       0.69      0.70      0.68      1592\n",
      "\n"
     ]
    }
   ],
   "source": [
    "print(classification_report(y_test, y_pred, target_names=[\"no_recid\", \"is_recid\"]))"
   ]
  }
 ],
 "metadata": {
  "interpreter": {
   "hash": "6f0b19c31ea35290196ad2025d8a10c44c1fcf79244f792e2b6d1ab2141d06a7"
  },
  "kernelspec": {
   "display_name": "Python 3.8.8 64-bit (conda)",
   "language": "python",
   "name": "python3"
  },
  "language_info": {
   "codemirror_mode": {
    "name": "ipython",
    "version": 3
   },
   "file_extension": ".py",
   "mimetype": "text/x-python",
   "name": "python",
   "nbconvert_exporter": "python",
   "pygments_lexer": "ipython3",
   "version": "3.10.0"
  },
  "orig_nbformat": 4
 },
 "nbformat": 4,
 "nbformat_minor": 2
}
