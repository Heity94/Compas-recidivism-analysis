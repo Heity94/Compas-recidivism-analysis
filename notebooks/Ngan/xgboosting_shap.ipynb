{
 "cells": [
  {
   "cell_type": "code",
   "execution_count": 250,
   "metadata": {},
   "outputs": [],
   "source": [
    "\n",
    "from category_encoders.one_hot import OneHotEncoder\n",
    "from sklearn.compose import ColumnTransformer\n",
    "from sklearn.pipeline import Pipeline\n",
    "\n",
    "import pandas as pd\n",
    "import numpy as np\n",
    "import matplotlib.pyplot as plt\n",
    "import seaborn as sns\n",
    "from pandas.plotting import scatter_matrix\n",
    "from sklearn import metrics\n",
    "#from sklearn.tree import DecisionTreeClassifier, DecisionTreeRegressor\n",
    "from sklearn.metrics import mean_squared_error, r2_score, roc_auc_score, confusion_matrix, classification_report,log_loss\n",
    "import xgboost as xgb\n",
    "from xgboost import XGBRegressor, XGBClassifier\n",
    "import dalex as dx #explainer for our model\n",
    "from sklearn.pipeline import make_pipeline, Pipeline\n",
    "from sklearn.compose import make_column_selector, make_column_transformer\n",
    "from sklearn.neighbors import KNeighborsClassifier\n",
    "from sklearn.preprocessing import LabelEncoder, OneHotEncoder, StandardScaler, MinMaxScaler, OrdinalEncoder\n",
    "from sklearn.impute import KNNImputer, SimpleImputer\n",
    "from sklearn.inspection import permutation_importance\n",
    "from sklearn.model_selection import cross_validate, GridSearchCV, train_test_split, RandomizedSearchCV, cross_val_score\n",
    "\n",
    "from sklearn import set_config; set_config(display='diagram')\n",
    "import shap\n",
    "np.random.seed(42)\n",
    "ran = 42\n",
    "seed = 42\n",
    "scoring_reg ='neg_root_mean_squared_error'\n",
    "scoring_clf ='roc_auc'\n"
   ]
  },
  {
   "cell_type": "markdown",
   "metadata": {},
   "source": [
    "# Load Data"
   ]
  },
  {
   "cell_type": "code",
   "execution_count": 139,
   "metadata": {},
   "outputs": [
    {
     "data": {
      "text/html": [
       "<div>\n",
       "<style scoped>\n",
       "    .dataframe tbody tr th:only-of-type {\n",
       "        vertical-align: middle;\n",
       "    }\n",
       "\n",
       "    .dataframe tbody tr th {\n",
       "        vertical-align: top;\n",
       "    }\n",
       "\n",
       "    .dataframe thead th {\n",
       "        text-align: right;\n",
       "    }\n",
       "</style>\n",
       "<table border=\"1\" class=\"dataframe\">\n",
       "  <thead>\n",
       "    <tr style=\"text-align: right;\">\n",
       "      <th></th>\n",
       "      <th>id</th>\n",
       "      <th>name</th>\n",
       "      <th>first</th>\n",
       "      <th>last</th>\n",
       "      <th>compas_screening_date</th>\n",
       "      <th>sex</th>\n",
       "      <th>dob</th>\n",
       "      <th>age</th>\n",
       "      <th>age_cat</th>\n",
       "      <th>race</th>\n",
       "      <th>...</th>\n",
       "      <th>score_text</th>\n",
       "      <th>v_type_of_assessment</th>\n",
       "      <th>v_decile_score</th>\n",
       "      <th>v_score_text</th>\n",
       "      <th>in_custody</th>\n",
       "      <th>out_custody</th>\n",
       "      <th>start</th>\n",
       "      <th>end</th>\n",
       "      <th>event</th>\n",
       "      <th>two_year_recid</th>\n",
       "    </tr>\n",
       "  </thead>\n",
       "  <tbody>\n",
       "    <tr>\n",
       "      <th>0</th>\n",
       "      <td>1</td>\n",
       "      <td>miguel hernandez</td>\n",
       "      <td>miguel</td>\n",
       "      <td>hernandez</td>\n",
       "      <td>2013-08-14</td>\n",
       "      <td>Male</td>\n",
       "      <td>1947-04-18</td>\n",
       "      <td>69</td>\n",
       "      <td>Greater than 45</td>\n",
       "      <td>Other</td>\n",
       "      <td>...</td>\n",
       "      <td>Low</td>\n",
       "      <td>Risk of Violence</td>\n",
       "      <td>1</td>\n",
       "      <td>Low</td>\n",
       "      <td>2014-07-07</td>\n",
       "      <td>2014-07-14</td>\n",
       "      <td>0</td>\n",
       "      <td>327</td>\n",
       "      <td>0</td>\n",
       "      <td>0</td>\n",
       "    </tr>\n",
       "    <tr>\n",
       "      <th>1</th>\n",
       "      <td>3</td>\n",
       "      <td>kevon dixon</td>\n",
       "      <td>kevon</td>\n",
       "      <td>dixon</td>\n",
       "      <td>2013-01-27</td>\n",
       "      <td>Male</td>\n",
       "      <td>1982-01-22</td>\n",
       "      <td>34</td>\n",
       "      <td>25 - 45</td>\n",
       "      <td>African-American</td>\n",
       "      <td>...</td>\n",
       "      <td>Low</td>\n",
       "      <td>Risk of Violence</td>\n",
       "      <td>1</td>\n",
       "      <td>Low</td>\n",
       "      <td>2013-01-26</td>\n",
       "      <td>2013-02-05</td>\n",
       "      <td>9</td>\n",
       "      <td>159</td>\n",
       "      <td>1</td>\n",
       "      <td>1</td>\n",
       "    </tr>\n",
       "    <tr>\n",
       "      <th>2</th>\n",
       "      <td>4</td>\n",
       "      <td>ed philo</td>\n",
       "      <td>ed</td>\n",
       "      <td>philo</td>\n",
       "      <td>2013-04-14</td>\n",
       "      <td>Male</td>\n",
       "      <td>1991-05-14</td>\n",
       "      <td>24</td>\n",
       "      <td>Less than 25</td>\n",
       "      <td>African-American</td>\n",
       "      <td>...</td>\n",
       "      <td>Low</td>\n",
       "      <td>Risk of Violence</td>\n",
       "      <td>3</td>\n",
       "      <td>Low</td>\n",
       "      <td>2013-06-16</td>\n",
       "      <td>2013-06-16</td>\n",
       "      <td>0</td>\n",
       "      <td>63</td>\n",
       "      <td>0</td>\n",
       "      <td>1</td>\n",
       "    </tr>\n",
       "    <tr>\n",
       "      <th>3</th>\n",
       "      <td>5</td>\n",
       "      <td>marcu brown</td>\n",
       "      <td>marcu</td>\n",
       "      <td>brown</td>\n",
       "      <td>2013-01-13</td>\n",
       "      <td>Male</td>\n",
       "      <td>1993-01-21</td>\n",
       "      <td>23</td>\n",
       "      <td>Less than 25</td>\n",
       "      <td>African-American</td>\n",
       "      <td>...</td>\n",
       "      <td>High</td>\n",
       "      <td>Risk of Violence</td>\n",
       "      <td>6</td>\n",
       "      <td>Medium</td>\n",
       "      <td>NaN</td>\n",
       "      <td>NaN</td>\n",
       "      <td>0</td>\n",
       "      <td>1174</td>\n",
       "      <td>0</td>\n",
       "      <td>0</td>\n",
       "    </tr>\n",
       "    <tr>\n",
       "      <th>4</th>\n",
       "      <td>6</td>\n",
       "      <td>bouthy pierrelouis</td>\n",
       "      <td>bouthy</td>\n",
       "      <td>pierrelouis</td>\n",
       "      <td>2013-03-26</td>\n",
       "      <td>Male</td>\n",
       "      <td>1973-01-22</td>\n",
       "      <td>43</td>\n",
       "      <td>25 - 45</td>\n",
       "      <td>Other</td>\n",
       "      <td>...</td>\n",
       "      <td>Low</td>\n",
       "      <td>Risk of Violence</td>\n",
       "      <td>1</td>\n",
       "      <td>Low</td>\n",
       "      <td>NaN</td>\n",
       "      <td>NaN</td>\n",
       "      <td>0</td>\n",
       "      <td>1102</td>\n",
       "      <td>0</td>\n",
       "      <td>0</td>\n",
       "    </tr>\n",
       "  </tbody>\n",
       "</table>\n",
       "<p>5 rows × 49 columns</p>\n",
       "</div>"
      ],
      "text/plain": [
       "   id                name   first         last compas_screening_date   sex  \\\n",
       "0   1    miguel hernandez  miguel    hernandez            2013-08-14  Male   \n",
       "1   3         kevon dixon   kevon        dixon            2013-01-27  Male   \n",
       "2   4            ed philo      ed        philo            2013-04-14  Male   \n",
       "3   5         marcu brown   marcu        brown            2013-01-13  Male   \n",
       "4   6  bouthy pierrelouis  bouthy  pierrelouis            2013-03-26  Male   \n",
       "\n",
       "          dob  age          age_cat              race  ...  score_text  \\\n",
       "0  1947-04-18   69  Greater than 45             Other  ...         Low   \n",
       "1  1982-01-22   34          25 - 45  African-American  ...         Low   \n",
       "2  1991-05-14   24     Less than 25  African-American  ...         Low   \n",
       "3  1993-01-21   23     Less than 25  African-American  ...        High   \n",
       "4  1973-01-22   43          25 - 45             Other  ...         Low   \n",
       "\n",
       "   v_type_of_assessment  v_decile_score  v_score_text  in_custody  \\\n",
       "0      Risk of Violence               1           Low  2014-07-07   \n",
       "1      Risk of Violence               1           Low  2013-01-26   \n",
       "2      Risk of Violence               3           Low  2013-06-16   \n",
       "3      Risk of Violence               6        Medium         NaN   \n",
       "4      Risk of Violence               1           Low         NaN   \n",
       "\n",
       "   out_custody start   end event two_year_recid  \n",
       "0   2014-07-14     0   327     0              0  \n",
       "1   2013-02-05     9   159     1              1  \n",
       "2   2013-06-16     0    63     0              1  \n",
       "3          NaN     0  1174     0              0  \n",
       "4          NaN     0  1102     0              0  \n",
       "\n",
       "[5 rows x 49 columns]"
      ]
     },
     "execution_count": 139,
     "metadata": {},
     "output_type": "execute_result"
    }
   ],
   "source": [
    "df = pd.read_csv(\"compas-scores-two-years-clean.csv\")\n",
    "df.head()"
   ]
  },
  {
   "cell_type": "code",
   "execution_count": 140,
   "metadata": {},
   "outputs": [],
   "source": [
    "df = df[\n",
    "        (df[\"days_b_screening_arrest\"]<=30) \n",
    "        & (df[\"days_b_screening_arrest\"]>=-30) \n",
    "        & (df[\"is_recid\"]!=-1) \n",
    "        & (df[\"c_charge_degree\"]!=\"O\") \n",
    "      ].dropna(subset=['score_text'])"
   ]
  },
  {
   "cell_type": "code",
   "execution_count": 141,
   "metadata": {},
   "outputs": [],
   "source": [
    "# Select columns of interest and store as new df\n",
    "columns = [\"id\", \"age\", \"age_cat\", \"sex\", \"race\",  #demographics\n",
    "           \"juv_fel_count\", \"juv_misd_count\", \"juv_other_count\", \"priors_count\", #criminal history\n",
    "           \"c_charge_degree\", \"c_charge_desc\", #current charges\n",
    "           \"score_text\", \"decile_score\", #compas results for current charges -> target for regression (COMPAS scores for general recidivism)\n",
    "           \"r_charge_degree\", \"r_charge_desc\", #commited crimes (general) within 2 years after COMPAS scoring (no feature for final model, but relevant fro feature engineering)\n",
    "           \"two_year_recid\"] #target for classification \n",
    "df = df[columns]"
   ]
  },
  {
   "cell_type": "markdown",
   "metadata": {},
   "source": [
    "To get a clearer picture, we will only use a few columns of the original data frame.\n",
    "\n",
    "\n",
    "- demographics: \"age\", \"age_cat\", \"sex\", \"race\"\n",
    "- criminal history: \"juv_fel_count\", \"juv_misd_count\", \"juv_other_count\", \"priors_count\"\n",
    "- current charges: \"c_charge_degree\",\"c_charge_desc\"\n",
    "- truth:\"two_year_recid\"\n"
   ]
  },
  {
   "cell_type": "markdown",
   "metadata": {},
   "source": [
    "Drop duplicate"
   ]
  },
  {
   "cell_type": "code",
   "execution_count": 142,
   "metadata": {},
   "outputs": [
    {
     "data": {
      "text/html": [
       "<div>\n",
       "<style scoped>\n",
       "    .dataframe tbody tr th:only-of-type {\n",
       "        vertical-align: middle;\n",
       "    }\n",
       "\n",
       "    .dataframe tbody tr th {\n",
       "        vertical-align: top;\n",
       "    }\n",
       "\n",
       "    .dataframe thead th {\n",
       "        text-align: right;\n",
       "    }\n",
       "</style>\n",
       "<table border=\"1\" class=\"dataframe\">\n",
       "  <thead>\n",
       "    <tr style=\"text-align: right;\">\n",
       "      <th></th>\n",
       "      <th>id</th>\n",
       "      <th>age</th>\n",
       "      <th>age_cat</th>\n",
       "      <th>sex</th>\n",
       "      <th>race</th>\n",
       "      <th>juv_fel_count</th>\n",
       "      <th>juv_misd_count</th>\n",
       "      <th>juv_other_count</th>\n",
       "      <th>priors_count</th>\n",
       "      <th>c_charge_degree</th>\n",
       "      <th>c_charge_desc</th>\n",
       "      <th>score_text</th>\n",
       "      <th>decile_score</th>\n",
       "      <th>r_charge_degree</th>\n",
       "      <th>r_charge_desc</th>\n",
       "      <th>two_year_recid</th>\n",
       "    </tr>\n",
       "  </thead>\n",
       "  <tbody>\n",
       "    <tr>\n",
       "      <th>0</th>\n",
       "      <td>1</td>\n",
       "      <td>69</td>\n",
       "      <td>Greater than 45</td>\n",
       "      <td>Male</td>\n",
       "      <td>Other</td>\n",
       "      <td>0</td>\n",
       "      <td>0</td>\n",
       "      <td>0</td>\n",
       "      <td>0</td>\n",
       "      <td>F</td>\n",
       "      <td>Aggravated Assault w/Firearm</td>\n",
       "      <td>Low</td>\n",
       "      <td>1</td>\n",
       "      <td>NaN</td>\n",
       "      <td>NaN</td>\n",
       "      <td>0</td>\n",
       "    </tr>\n",
       "    <tr>\n",
       "      <th>1</th>\n",
       "      <td>3</td>\n",
       "      <td>34</td>\n",
       "      <td>25 - 45</td>\n",
       "      <td>Male</td>\n",
       "      <td>African-American</td>\n",
       "      <td>0</td>\n",
       "      <td>0</td>\n",
       "      <td>0</td>\n",
       "      <td>0</td>\n",
       "      <td>F</td>\n",
       "      <td>Felony Battery w/Prior Convict</td>\n",
       "      <td>Low</td>\n",
       "      <td>3</td>\n",
       "      <td>(F3)</td>\n",
       "      <td>Felony Battery (Dom Strang)</td>\n",
       "      <td>1</td>\n",
       "    </tr>\n",
       "    <tr>\n",
       "      <th>2</th>\n",
       "      <td>4</td>\n",
       "      <td>24</td>\n",
       "      <td>Less than 25</td>\n",
       "      <td>Male</td>\n",
       "      <td>African-American</td>\n",
       "      <td>0</td>\n",
       "      <td>0</td>\n",
       "      <td>1</td>\n",
       "      <td>4</td>\n",
       "      <td>F</td>\n",
       "      <td>Possession of Cocaine</td>\n",
       "      <td>Low</td>\n",
       "      <td>4</td>\n",
       "      <td>(M1)</td>\n",
       "      <td>Driving Under The Influence</td>\n",
       "      <td>1</td>\n",
       "    </tr>\n",
       "    <tr>\n",
       "      <th>5</th>\n",
       "      <td>7</td>\n",
       "      <td>44</td>\n",
       "      <td>25 - 45</td>\n",
       "      <td>Male</td>\n",
       "      <td>Other</td>\n",
       "      <td>0</td>\n",
       "      <td>0</td>\n",
       "      <td>0</td>\n",
       "      <td>0</td>\n",
       "      <td>M</td>\n",
       "      <td>Battery</td>\n",
       "      <td>Low</td>\n",
       "      <td>1</td>\n",
       "      <td>NaN</td>\n",
       "      <td>NaN</td>\n",
       "      <td>0</td>\n",
       "    </tr>\n",
       "    <tr>\n",
       "      <th>6</th>\n",
       "      <td>8</td>\n",
       "      <td>41</td>\n",
       "      <td>25 - 45</td>\n",
       "      <td>Male</td>\n",
       "      <td>Caucasian</td>\n",
       "      <td>0</td>\n",
       "      <td>0</td>\n",
       "      <td>0</td>\n",
       "      <td>14</td>\n",
       "      <td>F</td>\n",
       "      <td>Possession Burglary Tools</td>\n",
       "      <td>Medium</td>\n",
       "      <td>6</td>\n",
       "      <td>(F2)</td>\n",
       "      <td>Poss of Firearm by Convic Felo</td>\n",
       "      <td>1</td>\n",
       "    </tr>\n",
       "    <tr>\n",
       "      <th>...</th>\n",
       "      <td>...</td>\n",
       "      <td>...</td>\n",
       "      <td>...</td>\n",
       "      <td>...</td>\n",
       "      <td>...</td>\n",
       "      <td>...</td>\n",
       "      <td>...</td>\n",
       "      <td>...</td>\n",
       "      <td>...</td>\n",
       "      <td>...</td>\n",
       "      <td>...</td>\n",
       "      <td>...</td>\n",
       "      <td>...</td>\n",
       "      <td>...</td>\n",
       "      <td>...</td>\n",
       "      <td>...</td>\n",
       "    </tr>\n",
       "    <tr>\n",
       "      <th>6211</th>\n",
       "      <td>10995</td>\n",
       "      <td>20</td>\n",
       "      <td>Less than 25</td>\n",
       "      <td>Male</td>\n",
       "      <td>African-American</td>\n",
       "      <td>0</td>\n",
       "      <td>0</td>\n",
       "      <td>0</td>\n",
       "      <td>0</td>\n",
       "      <td>F</td>\n",
       "      <td>Possession of Cocaine</td>\n",
       "      <td>High</td>\n",
       "      <td>9</td>\n",
       "      <td>NaN</td>\n",
       "      <td>NaN</td>\n",
       "      <td>0</td>\n",
       "    </tr>\n",
       "    <tr>\n",
       "      <th>6212</th>\n",
       "      <td>10996</td>\n",
       "      <td>23</td>\n",
       "      <td>Less than 25</td>\n",
       "      <td>Male</td>\n",
       "      <td>African-American</td>\n",
       "      <td>0</td>\n",
       "      <td>0</td>\n",
       "      <td>0</td>\n",
       "      <td>0</td>\n",
       "      <td>F</td>\n",
       "      <td>Deliver Cannabis</td>\n",
       "      <td>Medium</td>\n",
       "      <td>7</td>\n",
       "      <td>NaN</td>\n",
       "      <td>NaN</td>\n",
       "      <td>0</td>\n",
       "    </tr>\n",
       "    <tr>\n",
       "      <th>6213</th>\n",
       "      <td>10997</td>\n",
       "      <td>23</td>\n",
       "      <td>Less than 25</td>\n",
       "      <td>Male</td>\n",
       "      <td>African-American</td>\n",
       "      <td>0</td>\n",
       "      <td>0</td>\n",
       "      <td>0</td>\n",
       "      <td>0</td>\n",
       "      <td>F</td>\n",
       "      <td>Leaving the Scene of Accident</td>\n",
       "      <td>Low</td>\n",
       "      <td>3</td>\n",
       "      <td>NaN</td>\n",
       "      <td>NaN</td>\n",
       "      <td>0</td>\n",
       "    </tr>\n",
       "    <tr>\n",
       "      <th>6214</th>\n",
       "      <td>10999</td>\n",
       "      <td>57</td>\n",
       "      <td>Greater than 45</td>\n",
       "      <td>Male</td>\n",
       "      <td>Other</td>\n",
       "      <td>0</td>\n",
       "      <td>0</td>\n",
       "      <td>0</td>\n",
       "      <td>0</td>\n",
       "      <td>F</td>\n",
       "      <td>Aggravated Battery / Pregnant</td>\n",
       "      <td>Low</td>\n",
       "      <td>1</td>\n",
       "      <td>NaN</td>\n",
       "      <td>NaN</td>\n",
       "      <td>0</td>\n",
       "    </tr>\n",
       "    <tr>\n",
       "      <th>6215</th>\n",
       "      <td>11000</td>\n",
       "      <td>33</td>\n",
       "      <td>25 - 45</td>\n",
       "      <td>Female</td>\n",
       "      <td>African-American</td>\n",
       "      <td>0</td>\n",
       "      <td>0</td>\n",
       "      <td>0</td>\n",
       "      <td>3</td>\n",
       "      <td>M</td>\n",
       "      <td>Battery on Law Enforc Officer</td>\n",
       "      <td>Low</td>\n",
       "      <td>2</td>\n",
       "      <td>NaN</td>\n",
       "      <td>NaN</td>\n",
       "      <td>0</td>\n",
       "    </tr>\n",
       "  </tbody>\n",
       "</table>\n",
       "<p>5304 rows × 16 columns</p>\n",
       "</div>"
      ],
      "text/plain": [
       "         id  age          age_cat     sex              race  juv_fel_count  \\\n",
       "0         1   69  Greater than 45    Male             Other              0   \n",
       "1         3   34          25 - 45    Male  African-American              0   \n",
       "2         4   24     Less than 25    Male  African-American              0   \n",
       "5         7   44          25 - 45    Male             Other              0   \n",
       "6         8   41          25 - 45    Male         Caucasian              0   \n",
       "...     ...  ...              ...     ...               ...            ...   \n",
       "6211  10995   20     Less than 25    Male  African-American              0   \n",
       "6212  10996   23     Less than 25    Male  African-American              0   \n",
       "6213  10997   23     Less than 25    Male  African-American              0   \n",
       "6214  10999   57  Greater than 45    Male             Other              0   \n",
       "6215  11000   33          25 - 45  Female  African-American              0   \n",
       "\n",
       "      juv_misd_count  juv_other_count  priors_count c_charge_degree  \\\n",
       "0                  0                0             0               F   \n",
       "1                  0                0             0               F   \n",
       "2                  0                1             4               F   \n",
       "5                  0                0             0               M   \n",
       "6                  0                0            14               F   \n",
       "...              ...              ...           ...             ...   \n",
       "6211               0                0             0               F   \n",
       "6212               0                0             0               F   \n",
       "6213               0                0             0               F   \n",
       "6214               0                0             0               F   \n",
       "6215               0                0             3               M   \n",
       "\n",
       "                       c_charge_desc score_text  decile_score r_charge_degree  \\\n",
       "0       Aggravated Assault w/Firearm        Low             1             NaN   \n",
       "1     Felony Battery w/Prior Convict        Low             3            (F3)   \n",
       "2              Possession of Cocaine        Low             4            (M1)   \n",
       "5                            Battery        Low             1             NaN   \n",
       "6          Possession Burglary Tools     Medium             6            (F2)   \n",
       "...                              ...        ...           ...             ...   \n",
       "6211           Possession of Cocaine       High             9             NaN   \n",
       "6212                Deliver Cannabis     Medium             7             NaN   \n",
       "6213   Leaving the Scene of Accident        Low             3             NaN   \n",
       "6214   Aggravated Battery / Pregnant        Low             1             NaN   \n",
       "6215   Battery on Law Enforc Officer        Low             2             NaN   \n",
       "\n",
       "                       r_charge_desc  two_year_recid  \n",
       "0                                NaN               0  \n",
       "1        Felony Battery (Dom Strang)               1  \n",
       "2        Driving Under The Influence               1  \n",
       "5                                NaN               0  \n",
       "6     Poss of Firearm by Convic Felo               1  \n",
       "...                              ...             ...  \n",
       "6211                             NaN               0  \n",
       "6212                             NaN               0  \n",
       "6213                             NaN               0  \n",
       "6214                             NaN               0  \n",
       "6215                             NaN               0  \n",
       "\n",
       "[5304 rows x 16 columns]"
      ]
     },
     "execution_count": 142,
     "metadata": {},
     "output_type": "execute_result"
    }
   ],
   "source": [
    "df.drop_duplicates()"
   ]
  },
  {
   "cell_type": "markdown",
   "metadata": {},
   "source": [
    "Check dtype of data"
   ]
  },
  {
   "cell_type": "code",
   "execution_count": 143,
   "metadata": {},
   "outputs": [
    {
     "name": "stdout",
     "output_type": "stream",
     "text": [
      "<class 'pandas.core.frame.DataFrame'>\n",
      "Int64Index: 5304 entries, 0 to 6215\n",
      "Data columns (total 16 columns):\n",
      " #   Column           Non-Null Count  Dtype \n",
      "---  ------           --------------  ----- \n",
      " 0   id               5304 non-null   int64 \n",
      " 1   age              5304 non-null   int64 \n",
      " 2   age_cat          5304 non-null   object\n",
      " 3   sex              5304 non-null   object\n",
      " 4   race             5304 non-null   object\n",
      " 5   juv_fel_count    5304 non-null   int64 \n",
      " 6   juv_misd_count   5304 non-null   int64 \n",
      " 7   juv_other_count  5304 non-null   int64 \n",
      " 8   priors_count     5304 non-null   int64 \n",
      " 9   c_charge_degree  5304 non-null   object\n",
      " 10  c_charge_desc    5299 non-null   object\n",
      " 11  score_text       5304 non-null   object\n",
      " 12  decile_score     5304 non-null   int64 \n",
      " 13  r_charge_degree  2122 non-null   object\n",
      " 14  r_charge_desc    2095 non-null   object\n",
      " 15  two_year_recid   5304 non-null   int64 \n",
      "dtypes: int64(8), object(8)\n",
      "memory usage: 704.4+ KB\n"
     ]
    }
   ],
   "source": [
    "df.info()"
   ]
  },
  {
   "cell_type": "markdown",
   "metadata": {},
   "source": [
    "### Feature Engineering: Create feature c_charge_degree_detailed\n",
    "\n",
    "- The current charges of the ProPublica dataset are categorized as felonies or misdemeanors `c_charge_degreee`\n",
    "- The c_charge_desc contains the description of the crime (e.g. murder, Grand theft ...)\n",
    "- In Florida each crime is based on the severness categorised into different level/ classes of misdemeanors or felonies"
   ]
  },
  {
   "cell_type": "code",
   "execution_count": 144,
   "metadata": {},
   "outputs": [
    {
     "name": "stdout",
     "output_type": "stream",
     "text": [
      "Unique charges in the dataset: 359\n",
      "Unique charges for felonies: 266\n",
      "Unique charges for misdemeanors: 126\n"
     ]
    }
   ],
   "source": [
    "# There are 358 unique charges in the dataset in total (wo NaN)\n",
    "print(\"Unique charges in the dataset:\", len(df.c_charge_desc.unique()))\n",
    "\n",
    "# There are 265 unqiue charges for felonies (23 of them also exist in misdemeanor) (wo NaN)\n",
    "print(\"Unique charges for felonies:\", len(df[df[\"c_charge_degree\"]==\"F\"]\n",
    "                                          [[\"c_charge_degree\", \"c_charge_desc\"]]\n",
    "                                          .c_charge_desc.unique()))\n",
    "\n",
    "# There are 125 unqiue charges for misdemeanors  (wo NaN)\n",
    "print(\"Unique charges for misdemeanors:\", len(df[df[\"c_charge_degree\"]==\"M\"]\n",
    "                                              [[\"c_charge_degree\", \"c_charge_desc\"]]\n",
    "                                              .c_charge_desc.unique()))"
   ]
  },
  {
   "cell_type": "markdown",
   "metadata": {},
   "source": [
    "- In order to reduce the variaty of charges we created a new feature to cluster each crime into the correct level\n",
    "- The original dataset already contains the more detailed degree of crimes, but only for the recidivist crimes\n",
    "- We first used these crimes and mapped them against the current charges"
   ]
  },
  {
   "cell_type": "markdown",
   "metadata": {},
   "source": [
    "### Map charge degree to all cases and store in new feature column c_charge_degree_detailed"
   ]
  },
  {
   "cell_type": "code",
   "execution_count": 145,
   "metadata": {},
   "outputs": [],
   "source": [
    "# Load master lookup table\n",
    "labeled_charges_master = pd.read_csv(\"labeled_charges_master.csv\", index_col=\"c_charge_desc\")"
   ]
  },
  {
   "cell_type": "code",
   "execution_count": 146,
   "metadata": {},
   "outputs": [],
   "source": [
    "# Map charge degree to all cases and store in new column \"c_charge_degree_detailed\"\n",
    "df= df.merge(labeled_charges_master, how=\"left\", left_on=\"c_charge_desc\", right_index=True)\n",
    "df.reset_index(drop=True, inplace=True)"
   ]
  },
  {
   "cell_type": "code",
   "execution_count": 147,
   "metadata": {},
   "outputs": [
    {
     "data": {
      "text/plain": [
       "<AxesSubplot:xlabel='c_charge_degree_detailed', ylabel='count'>"
      ]
     },
     "execution_count": 147,
     "metadata": {},
     "output_type": "execute_result"
    },
    {
     "data": {
      "image/png": "[encoded data removed]",
      "text/plain": [
       "<Figure size 432x288 with 1 Axes>"
      ]
     },
     "metadata": {
      "needs_background": "light"
     },
     "output_type": "display_data"
    }
   ],
   "source": [
    "sns.countplot(x=\"c_charge_degree_detailed\", data=df, order=[\"0\",\"M2\", \"M1\", \"F3\", \"F2\", \"F1\"])"
   ]
  },
  {
   "cell_type": "code",
   "execution_count": 148,
   "metadata": {},
   "outputs": [
    {
     "data": {
      "text/html": [
       "<div>\n",
       "<style scoped>\n",
       "    .dataframe tbody tr th:only-of-type {\n",
       "        vertical-align: middle;\n",
       "    }\n",
       "\n",
       "    .dataframe tbody tr th {\n",
       "        vertical-align: top;\n",
       "    }\n",
       "\n",
       "    .dataframe thead th {\n",
       "        text-align: right;\n",
       "    }\n",
       "</style>\n",
       "<table border=\"1\" class=\"dataframe\">\n",
       "  <thead>\n",
       "    <tr style=\"text-align: right;\">\n",
       "      <th></th>\n",
       "      <th>id</th>\n",
       "      <th>age</th>\n",
       "      <th>age_cat</th>\n",
       "      <th>sex</th>\n",
       "      <th>race</th>\n",
       "      <th>juv_fel_count</th>\n",
       "      <th>juv_misd_count</th>\n",
       "      <th>juv_other_count</th>\n",
       "      <th>priors_count</th>\n",
       "      <th>c_charge_degree</th>\n",
       "      <th>c_charge_desc</th>\n",
       "      <th>score_text</th>\n",
       "      <th>decile_score</th>\n",
       "      <th>r_charge_degree</th>\n",
       "      <th>r_charge_desc</th>\n",
       "      <th>two_year_recid</th>\n",
       "      <th>c_charge_degree_detailed</th>\n",
       "    </tr>\n",
       "  </thead>\n",
       "  <tbody>\n",
       "    <tr>\n",
       "      <th>114</th>\n",
       "      <td>243</td>\n",
       "      <td>39</td>\n",
       "      <td>25 - 45</td>\n",
       "      <td>Male</td>\n",
       "      <td>Caucasian</td>\n",
       "      <td>1</td>\n",
       "      <td>0</td>\n",
       "      <td>0</td>\n",
       "      <td>1</td>\n",
       "      <td>M</td>\n",
       "      <td>NaN</td>\n",
       "      <td>Low</td>\n",
       "      <td>4</td>\n",
       "      <td>NaN</td>\n",
       "      <td>NaN</td>\n",
       "      <td>0</td>\n",
       "      <td>NaN</td>\n",
       "    </tr>\n",
       "    <tr>\n",
       "      <th>2191</th>\n",
       "      <td>4521</td>\n",
       "      <td>27</td>\n",
       "      <td>25 - 45</td>\n",
       "      <td>Female</td>\n",
       "      <td>Caucasian</td>\n",
       "      <td>0</td>\n",
       "      <td>0</td>\n",
       "      <td>0</td>\n",
       "      <td>0</td>\n",
       "      <td>F</td>\n",
       "      <td>NaN</td>\n",
       "      <td>Medium</td>\n",
       "      <td>5</td>\n",
       "      <td>NaN</td>\n",
       "      <td>NaN</td>\n",
       "      <td>0</td>\n",
       "      <td>NaN</td>\n",
       "    </tr>\n",
       "    <tr>\n",
       "      <th>4031</th>\n",
       "      <td>8299</td>\n",
       "      <td>27</td>\n",
       "      <td>25 - 45</td>\n",
       "      <td>Male</td>\n",
       "      <td>African-American</td>\n",
       "      <td>0</td>\n",
       "      <td>0</td>\n",
       "      <td>0</td>\n",
       "      <td>2</td>\n",
       "      <td>F</td>\n",
       "      <td>NaN</td>\n",
       "      <td>Low</td>\n",
       "      <td>4</td>\n",
       "      <td>NaN</td>\n",
       "      <td>NaN</td>\n",
       "      <td>0</td>\n",
       "      <td>NaN</td>\n",
       "    </tr>\n",
       "    <tr>\n",
       "      <th>4202</th>\n",
       "      <td>8679</td>\n",
       "      <td>27</td>\n",
       "      <td>25 - 45</td>\n",
       "      <td>Male</td>\n",
       "      <td>African-American</td>\n",
       "      <td>0</td>\n",
       "      <td>0</td>\n",
       "      <td>0</td>\n",
       "      <td>2</td>\n",
       "      <td>F</td>\n",
       "      <td>NaN</td>\n",
       "      <td>Low</td>\n",
       "      <td>3</td>\n",
       "      <td>NaN</td>\n",
       "      <td>NaN</td>\n",
       "      <td>0</td>\n",
       "      <td>NaN</td>\n",
       "    </tr>\n",
       "    <tr>\n",
       "      <th>5183</th>\n",
       "      <td>10737</td>\n",
       "      <td>69</td>\n",
       "      <td>Greater than 45</td>\n",
       "      <td>Female</td>\n",
       "      <td>Caucasian</td>\n",
       "      <td>0</td>\n",
       "      <td>0</td>\n",
       "      <td>0</td>\n",
       "      <td>5</td>\n",
       "      <td>F</td>\n",
       "      <td>NaN</td>\n",
       "      <td>Low</td>\n",
       "      <td>3</td>\n",
       "      <td>NaN</td>\n",
       "      <td>NaN</td>\n",
       "      <td>0</td>\n",
       "      <td>NaN</td>\n",
       "    </tr>\n",
       "  </tbody>\n",
       "</table>\n",
       "</div>"
      ],
      "text/plain": [
       "         id  age          age_cat     sex              race  juv_fel_count  \\\n",
       "114     243   39          25 - 45    Male         Caucasian              1   \n",
       "2191   4521   27          25 - 45  Female         Caucasian              0   \n",
       "4031   8299   27          25 - 45    Male  African-American              0   \n",
       "4202   8679   27          25 - 45    Male  African-American              0   \n",
       "5183  10737   69  Greater than 45  Female         Caucasian              0   \n",
       "\n",
       "      juv_misd_count  juv_other_count  priors_count c_charge_degree  \\\n",
       "114                0                0             1               M   \n",
       "2191               0                0             0               F   \n",
       "4031               0                0             2               F   \n",
       "4202               0                0             2               F   \n",
       "5183               0                0             5               F   \n",
       "\n",
       "     c_charge_desc score_text  decile_score r_charge_degree r_charge_desc  \\\n",
       "114            NaN        Low             4             NaN           NaN   \n",
       "2191           NaN     Medium             5             NaN           NaN   \n",
       "4031           NaN        Low             4             NaN           NaN   \n",
       "4202           NaN        Low             3             NaN           NaN   \n",
       "5183           NaN        Low             3             NaN           NaN   \n",
       "\n",
       "      two_year_recid c_charge_degree_detailed  \n",
       "114                0                      NaN  \n",
       "2191               0                      NaN  \n",
       "4031               0                      NaN  \n",
       "4202               0                      NaN  \n",
       "5183               0                      NaN  "
      ]
     },
     "execution_count": 148,
     "metadata": {},
     "output_type": "execute_result"
    }
   ],
   "source": [
    "#Check NaN values (values which did not have a c_charge_desc in the original dataset)\n",
    "df[df.c_charge_degree_detailed.isnull()]"
   ]
  },
  {
   "cell_type": "code",
   "execution_count": 149,
   "metadata": {},
   "outputs": [],
   "source": [
    "index_nan_cases = df[df.c_charge_degree_detailed.isnull()].index"
   ]
  },
  {
   "cell_type": "markdown",
   "metadata": {},
   "source": [
    "- There are still 5 cases which did not have a description of the current charges.\n",
    "- These 5 cases need to be imputed\n",
    "- This requires the encoding of all categorical features first"
   ]
  },
  {
   "cell_type": "markdown",
   "metadata": {},
   "source": [
    "# Data Preprocessing"
   ]
  },
  {
   "cell_type": "markdown",
   "metadata": {},
   "source": [
    "### Initial distribution of the features"
   ]
  },
  {
   "cell_type": "code",
   "execution_count": 150,
   "metadata": {},
   "outputs": [
    {
     "data": {
      "image/png": "[encoded data removed]",
      "text/plain": [
       "<Figure size 1584x1080 with 12 Axes>"
      ]
     },
     "metadata": {
      "needs_background": "light"
     },
     "output_type": "display_data"
    }
   ],
   "source": [
    "\n",
    "def plot_dist(col, ax):\n",
    "    df[col][df[col].notnull()].value_counts().plot(kind='bar', facecolor='y', ax=ax)\n",
    "    ax.set_xlabel('{}'.format(col), fontsize=20)\n",
    "    ax.set_title(\"{} on Compas data\".format(col), fontsize= 18)\n",
    "    return ax\n",
    "\n",
    "f, ax = plt.subplots(4,3, figsize = (22,15))\n",
    "f.tight_layout(h_pad=12, w_pad=2, rect=[0, 0.03, 1, 0.93])\n",
    "cols = [ \"age\", \"age_cat\", \"sex\", \"race\",  #demographics\n",
    "           \"juv_fel_count\", \"juv_misd_count\", \"juv_other_count\", \"priors_count\", #criminal history\n",
    "           \"c_charge_degree\", \"c_charge_degree_detailed\", #current charges\n",
    "           \"decile_score\", #compas results for current charges -> target for regression (COMPAS scores for general recidivism)\n",
    "           \"two_year_recid\"]\n",
    "k = 0\n",
    "for i in range(4):\n",
    "    for j in range(3):\n",
    "        plot_dist(cols[k], ax[i][j])\n",
    "        k += 1\n",
    "__ = plt.suptitle(\"Initial Distributions of features\", fontsize= 25)"
   ]
  },
  {
   "cell_type": "markdown",
   "metadata": {},
   "source": [
    "Let us take a look closer into decile_score / race of African-American and Caucasian. \n",
    "The difference in scores leads to drastically different racial make-up per decile."
   ]
  },
  {
   "cell_type": "code",
   "execution_count": 151,
   "metadata": {},
   "outputs": [],
   "source": [
    "cols = ['race', 'decile_score']\n",
    "df_race = df[cols].loc[lambda x:x['race'].isin(['African-American', 'Caucasian'])]"
   ]
  },
  {
   "cell_type": "code",
   "execution_count": 152,
   "metadata": {},
   "outputs": [
    {
     "data": {
      "image/png": "[encoded data removed]",
      "text/plain": [
       "<Figure size 842.4x595.44 with 2 Axes>"
      ]
     },
     "metadata": {
      "needs_background": "light"
     },
     "output_type": "display_data"
    }
   ],
   "source": [
    "fig, (ax1, ax2) = plt.subplots(1,2)\n",
    "fig.set_size_inches(11.7, 8.27)\n",
    "a1 = (\n",
    "    df_race\n",
    "    .groupby(['race'])['decile_score']\n",
    "    .value_counts(normalize=True)\n",
    "    .rename('proportion')\n",
    "    .reset_index()\n",
    "    .sort_values(by='decile_score')\n",
    ")\n",
    "\n",
    "sns.barplot(data=a1, x='decile_score' ,y='proportion',hue='race', ax=ax1)\n",
    "ax1.set_title('Distribution of Scores by Race')\n",
    "\n",
    "a2 = (\n",
    "    df_race\n",
    "    .groupby(['decile_score'])['race']\n",
    "    .value_counts(normalize=True)\n",
    "    .rename('proportion')\n",
    "    .reset_index()\n",
    "    .sort_values(by='race')\n",
    ")\n",
    "\n",
    "sns.barplot(data=a2, x='decile_score' ,y='proportion',hue='race', ax=ax2);\n",
    "ax2.set_title('Distribution of Race by Score');"
   ]
  },
  {
   "cell_type": "markdown",
   "metadata": {},
   "source": [
    "There is a big difference in distribution of race by score and another way around.\n",
    "We decide to split the model into one with race and one without race."
   ]
  },
  {
   "cell_type": "markdown",
   "metadata": {},
   "source": [
    "### Fill in missing data for c_charge_degree_detailed"
   ]
  },
  {
   "cell_type": "code",
   "execution_count": 153,
   "metadata": {},
   "outputs": [],
   "source": [
    "#fill missing data with mode as the value that appears the most in the set of values\n",
    "df.fillna(df.c_charge_degree_detailed.mode().iloc[0], inplace=True)"
   ]
  },
  {
   "cell_type": "code",
   "execution_count": 154,
   "metadata": {},
   "outputs": [
    {
     "data": {
      "text/html": [
       "<div>\n",
       "<style scoped>\n",
       "    .dataframe tbody tr th:only-of-type {\n",
       "        vertical-align: middle;\n",
       "    }\n",
       "\n",
       "    .dataframe tbody tr th {\n",
       "        vertical-align: top;\n",
       "    }\n",
       "\n",
       "    .dataframe thead th {\n",
       "        text-align: right;\n",
       "    }\n",
       "</style>\n",
       "<table border=\"1\" class=\"dataframe\">\n",
       "  <thead>\n",
       "    <tr style=\"text-align: right;\">\n",
       "      <th></th>\n",
       "      <th>id</th>\n",
       "      <th>age</th>\n",
       "      <th>age_cat</th>\n",
       "      <th>sex</th>\n",
       "      <th>race</th>\n",
       "      <th>juv_fel_count</th>\n",
       "      <th>juv_misd_count</th>\n",
       "      <th>juv_other_count</th>\n",
       "      <th>priors_count</th>\n",
       "      <th>c_charge_degree</th>\n",
       "      <th>c_charge_desc</th>\n",
       "      <th>score_text</th>\n",
       "      <th>decile_score</th>\n",
       "      <th>r_charge_degree</th>\n",
       "      <th>r_charge_desc</th>\n",
       "      <th>two_year_recid</th>\n",
       "      <th>c_charge_degree_detailed</th>\n",
       "    </tr>\n",
       "  </thead>\n",
       "  <tbody>\n",
       "  </tbody>\n",
       "</table>\n",
       "</div>"
      ],
      "text/plain": [
       "Empty DataFrame\n",
       "Columns: [id, age, age_cat, sex, race, juv_fel_count, juv_misd_count, juv_other_count, priors_count, c_charge_degree, c_charge_desc, score_text, decile_score, r_charge_degree, r_charge_desc, two_year_recid, c_charge_degree_detailed]\n",
       "Index: []"
      ]
     },
     "execution_count": 154,
     "metadata": {},
     "output_type": "execute_result"
    }
   ],
   "source": [
    "#Check NaN values (values which did not have a c_charge_desc in the original dataset)\n",
    "df[df.c_charge_degree_detailed.isnull()]"
   ]
  },
  {
   "cell_type": "markdown",
   "metadata": {},
   "source": [
    "### Scaling"
   ]
  },
  {
   "cell_type": "code",
   "execution_count": 155,
   "metadata": {},
   "outputs": [],
   "source": [
    "minmax_scaler = MinMaxScaler()\n"
   ]
  },
  {
   "cell_type": "markdown",
   "metadata": {},
   "source": [
    "# Regression"
   ]
  },
  {
   "cell_type": "markdown",
   "metadata": {},
   "source": [
    "## Selection of features for the model"
   ]
  },
  {
   "cell_type": "markdown",
   "metadata": {},
   "source": [
    "### Model with race"
   ]
  },
  {
   "cell_type": "markdown",
   "metadata": {},
   "source": [
    "#### Featuring and start fitting base model"
   ]
  },
  {
   "cell_type": "markdown",
   "metadata": {},
   "source": [
    "**Featuring age cat**"
   ]
  },
  {
   "cell_type": "code",
   "execution_count": 156,
   "metadata": {},
   "outputs": [],
   "source": [
    "features = pd.concat([pd.get_dummies(df.age_cat, prefix='age_cat',drop_first=True),\n",
    "                    pd.get_dummies(df.sex, prefix='sex',drop_first=True),\n",
    "                    pd.get_dummies(df.race, prefix='race',drop_first=True),  \n",
    "                    pd.get_dummies(df.c_charge_degree, prefix='degree',drop_first=True), # felony or misdemeanor charge ('f' or 'm')\n",
    "                    pd.get_dummies(df.c_charge_degree_detailed, prefix = 'degree_desc',drop_first=True),\n",
    "                    df.priors_count,\n",
    "                    df.juv_fel_count,\n",
    "                    df.juv_misd_count,\n",
    "                    df.juv_other_count,\n",
    "                    df.two_year_recid],\n",
    "                    axis=1)\n",
    "\n",
    "target = np.log(df.decile_score)"
   ]
  },
  {
   "cell_type": "markdown",
   "metadata": {},
   "source": [
    "**Featuring scaling**"
   ]
  },
  {
   "cell_type": "code",
   "execution_count": 157,
   "metadata": {},
   "outputs": [],
   "source": [
    "features= minmax_scaler.fit_transform(features)"
   ]
  },
  {
   "cell_type": "markdown",
   "metadata": {},
   "source": [
    "**Featuring age**"
   ]
  },
  {
   "cell_type": "code",
   "execution_count": 159,
   "metadata": {},
   "outputs": [],
   "source": [
    "features_age = pd.concat([df.age,\n",
    "                    pd.get_dummies(df.sex, prefix='sex',drop_first=True),\n",
    "                    pd.get_dummies(df.race, prefix='race',drop_first=True),  \n",
    "                    pd.get_dummies(df.c_charge_degree, prefix='degree',drop_first=True), # felony or misdemeanor charge ('f' or 'm')\n",
    "                    pd.get_dummies(df.c_charge_degree_detailed, prefix = 'degree_desc',drop_first=True),\n",
    "                    df.priors_count,\n",
    "                    df.juv_fel_count,\n",
    "                    df.juv_misd_count,\n",
    "                    df.juv_other_count,\n",
    "                    df.two_year_recid],\n",
    "                    axis=1)\n",
    "\n",
    "target_age = np.log(df.decile_score)"
   ]
  },
  {
   "cell_type": "markdown",
   "metadata": {},
   "source": [
    "**Featuring scaling**"
   ]
  },
  {
   "cell_type": "code",
   "execution_count": 160,
   "metadata": {},
   "outputs": [],
   "source": [
    "features_age= minmax_scaler.fit_transform(features_age)"
   ]
  },
  {
   "cell_type": "markdown",
   "metadata": {},
   "source": [
    "**Splitting age cat**"
   ]
  },
  {
   "cell_type": "code",
   "execution_count": 161,
   "metadata": {},
   "outputs": [],
   "source": [
    "X = features\n",
    "y = target\n",
    "X_train, X_test, y_train, y_test = train_test_split(X,y, test_size=0.3,random_state = ran)"
   ]
  },
  {
   "cell_type": "markdown",
   "metadata": {},
   "source": [
    "**Model for age_cat before tuning**"
   ]
  },
  {
   "cell_type": "code",
   "execution_count": 162,
   "metadata": {},
   "outputs": [],
   "source": [
    "\n",
    "xg_reg = xgb.XGBRegressor(base_score=0.5, booster='gbtree', gamma=0, learning_rate=0.1, \n",
    "                          max_depth=3, min_child_weight=1, n_estimators=100, objective='reg:linear', \n",
    "                          colsample_bylevel=1, colsample_bynode=1, colsample_bytree=1, importance_type='gain',\n",
    "                          max_delta_step=0, subsample=1, verbosity=0, silent = True, random_state = ran\n",
    "                        )\n",
    "xg_reg.fit(X_train,y_train)\n",
    "y_pred = xg_reg.predict(X_test)"
   ]
  },
  {
   "cell_type": "code",
   "execution_count": 163,
   "metadata": {},
   "outputs": [
    {
     "data": {
      "text/html": [
       "<div>\n",
       "<style scoped>\n",
       "    .dataframe tbody tr th:only-of-type {\n",
       "        vertical-align: middle;\n",
       "    }\n",
       "\n",
       "    .dataframe tbody tr th {\n",
       "        vertical-align: top;\n",
       "    }\n",
       "\n",
       "    .dataframe thead th {\n",
       "        text-align: right;\n",
       "    }\n",
       "</style>\n",
       "<table border=\"1\" class=\"dataframe\">\n",
       "  <thead>\n",
       "    <tr style=\"text-align: right;\">\n",
       "      <th></th>\n",
       "      <th>mse</th>\n",
       "      <th>rmse</th>\n",
       "      <th>r2</th>\n",
       "      <th>mae</th>\n",
       "      <th>mad</th>\n",
       "    </tr>\n",
       "  </thead>\n",
       "  <tbody>\n",
       "    <tr>\n",
       "      <th>XGBRegressor</th>\n",
       "      <td>0.315257</td>\n",
       "      <td>0.561478</td>\n",
       "      <td>0.486581</td>\n",
       "      <td>0.438589</td>\n",
       "      <td>0.355373</td>\n",
       "    </tr>\n",
       "  </tbody>\n",
       "</table>\n",
       "</div>"
      ],
      "text/plain": [
       "                   mse      rmse        r2       mae       mad\n",
       "XGBRegressor  0.315257  0.561478  0.486581  0.438589  0.355373"
      ]
     },
     "execution_count": 163,
     "metadata": {},
     "output_type": "execute_result"
    }
   ],
   "source": [
    "exp_xgreg = dx.Explainer(xg_reg, X_test, y_test, verbose=False)\n",
    "exp_xgreg.model_performance().result"
   ]
  },
  {
   "cell_type": "markdown",
   "metadata": {},
   "source": [
    "**Splitting for age**"
   ]
  },
  {
   "cell_type": "code",
   "execution_count": 164,
   "metadata": {},
   "outputs": [],
   "source": [
    "X_age = features_age\n",
    "y_age = target_age\n",
    "X_train_age, X_test_age, y_train_age, y_test_age = train_test_split(X_age,y_age, test_size=0.3, random_state = ran)"
   ]
  },
  {
   "cell_type": "markdown",
   "metadata": {},
   "source": [
    "**Model for age before tuning**\n"
   ]
  },
  {
   "cell_type": "code",
   "execution_count": 165,
   "metadata": {},
   "outputs": [],
   "source": [
    "xg_reg_age = xgb.XGBRegressor(base_score=0.5, booster='gbtree', gamma=0, learning_rate=0.1, \n",
    "                          max_depth=3, min_child_weight=1, n_estimators=100, objective='reg:squarederror', \n",
    "                          colsample_bylevel=1, colsample_bynode=1, colsample_bytree=1, importance_type='gain',\n",
    "                          max_delta_step=0, subsample=1,verbosity=0, silent = True, random_state = ran)\n",
    "xg_reg_age.fit(X_train_age,y_train_age)\n",
    "y_pred_age = xg_reg_age.predict(X_test_age)"
   ]
  },
  {
   "cell_type": "code",
   "execution_count": 166,
   "metadata": {},
   "outputs": [
    {
     "data": {
      "text/html": [
       "<div>\n",
       "<style scoped>\n",
       "    .dataframe tbody tr th:only-of-type {\n",
       "        vertical-align: middle;\n",
       "    }\n",
       "\n",
       "    .dataframe tbody tr th {\n",
       "        vertical-align: top;\n",
       "    }\n",
       "\n",
       "    .dataframe thead th {\n",
       "        text-align: right;\n",
       "    }\n",
       "</style>\n",
       "<table border=\"1\" class=\"dataframe\">\n",
       "  <thead>\n",
       "    <tr style=\"text-align: right;\">\n",
       "      <th></th>\n",
       "      <th>mse</th>\n",
       "      <th>rmse</th>\n",
       "      <th>r2</th>\n",
       "      <th>mae</th>\n",
       "      <th>mad</th>\n",
       "    </tr>\n",
       "  </thead>\n",
       "  <tbody>\n",
       "    <tr>\n",
       "      <th>XGBRegressor</th>\n",
       "      <td>0.289809</td>\n",
       "      <td>0.538339</td>\n",
       "      <td>0.528025</td>\n",
       "      <td>0.420096</td>\n",
       "      <td>0.342505</td>\n",
       "    </tr>\n",
       "  </tbody>\n",
       "</table>\n",
       "</div>"
      ],
      "text/plain": [
       "                   mse      rmse        r2       mae       mad\n",
       "XGBRegressor  0.289809  0.538339  0.528025  0.420096  0.342505"
      ]
     },
     "execution_count": 166,
     "metadata": {},
     "output_type": "execute_result"
    }
   ],
   "source": [
    "exp_xgreg_age = dx.Explainer(xg_reg_age, X_test_age, y_test_age, verbose=False)\n",
    "exp_xgreg_age.model_performance().result"
   ]
  },
  {
   "cell_type": "code",
   "execution_count": 167,
   "metadata": {},
   "outputs": [
    {
     "data": {
      "application/vnd.plotly.v1+json": {
       "config": {
        "displaylogo": false,
        "modeBarButtonsToRemove": [
         "sendDataToCloud",
         "lasso2d",
         "autoScale2d",
         "select2d",
         "zoom2d",
         "pan2d",
         "zoomIn2d",
         "zoomOut2d",
         "resetScale2d",
         "toggleSpikelines",
         "hoverCompareCartesian",
         "hoverClosestCartesian"
        ],
        "plotlyServerURL": "https://plot.ly",
        "staticPlot": false,
        "toImageButtonOptions": {
         "height": null,
         "width": null
        }
       },
       "data": [
        {
         "base": 0.5416509301912671,
         "hoverinfo": "text",
         "hoverlabel": {
          "bgcolor": "rgba(0,0,0,0.8)"
         },
         "hovertext": [
          "Model: XGBRegressor loss after<br>variable: 0 is permuted: 0.789<br>Drop-out loss change: +0.247",
          "Model: XGBRegressor loss after<br>variable: 13 is permuted: 0.72<br>Drop-out loss change: +0.179",
          "Model: XGBRegressor loss after<br>variable: 6 is permuted: 0.553<br>Drop-out loss change: +0.012",
          "Model: XGBRegressor loss after<br>variable: 17 is permuted: 0.55<br>Drop-out loss change: +0.008",
          "Model: XGBRegressor loss after<br>variable: 4 is permuted: 0.546<br>Drop-out loss change: +0.005",
          "Model: XGBRegressor loss after<br>variable: 3 is permuted: 0.545<br>Drop-out loss change: +0.004",
          "Model: XGBRegressor loss after<br>variable: 1 is permuted: 0.545<br>Drop-out loss change: +0.003",
          "Model: XGBRegressor loss after<br>variable: 11 is permuted: 0.544<br>Drop-out loss change: +0.003",
          "Model: XGBRegressor loss after<br>variable: 14 is permuted: 0.544<br>Drop-out loss change: +0.002",
          "Model: XGBRegressor loss after<br>variable: 10 is permuted: 0.542<br>Drop-out loss change: +0.001"
         ],
         "marker": {
          "color": "#46bac2"
         },
         "orientation": "h",
         "showlegend": false,
         "text": [
          "+0.247",
          "+0.179",
          "+0.012",
          "+0.008",
          "+0.005",
          "+0.004",
          "+0.003",
          "+0.003",
          "+0.002",
          "+0.001"
         ],
         "textposition": "outside",
         "type": "bar",
         "x": [
          0.24740739577566417,
          0.17856374825071009,
          0.011530991617367814,
          0.008070815377581031,
          0.004608694248067646,
          0.0037865980559306234,
          0.0030554173134600404,
          0.002699092791558666,
          0.00212539806285017,
          0.0005723360731140215
         ],
         "xaxis": "x",
         "y": [
          "0",
          "13",
          "6",
          "17",
          "4",
          "3",
          "1",
          "11",
          "14",
          "10"
         ],
         "yaxis": "y"
        }
       ],
       "layout": {
        "annotations": [
         {
          "font": {
           "size": 16
          },
          "showarrow": false,
          "text": "XGBRegressor",
          "x": 0.5,
          "xanchor": "center",
          "xref": "paper",
          "y": 1,
          "yanchor": "bottom",
          "yref": "paper"
         },
         {
          "font": {
           "size": 16
          },
          "showarrow": false,
          "text": "drop-out loss",
          "x": 0.5,
          "xanchor": "center",
          "xref": "paper",
          "y": 0,
          "yanchor": "top",
          "yref": "paper",
          "yshift": -30
         }
        ],
        "font": {
         "color": "#371ea3"
        },
        "height": 383,
        "margin": {
         "b": 71,
         "r": 30,
         "t": 78
        },
        "shapes": [
         {
          "line": {
           "color": "#371ea3",
           "dash": "dot",
           "width": 1.5
          },
          "type": "line",
          "x0": 0.5416509301912671,
          "x1": 0.5416509301912671,
          "xref": "x",
          "y0": -1,
          "y1": 10,
          "yref": "y"
         }
        ],
        "template": {
         "data": {
          "scatter": [
           {
            "type": "scatter"
           }
          ]
         }
        },
        "title": {
         "text": "Variable Importance",
         "x": 0.15
        },
        "xaxis": {
         "anchor": "y",
         "automargin": true,
         "domain": [
          0,
          1
         ],
         "fixedrange": true,
         "gridwidth": 2,
         "range": [
          0.5041886095313832,
          0.8262152455020028
         ],
         "tickcolor": "white",
         "ticklen": 3,
         "ticks": "outside",
         "type": "linear",
         "zeroline": false
        },
        "yaxis": {
         "anchor": "x",
         "automargin": true,
         "autorange": "reversed",
         "domain": [
          0,
          1
         ],
         "fixedrange": true,
         "gridwidth": 2,
         "tickcolor": "white",
         "ticklen": 10,
         "ticks": "outside",
         "type": "category"
        }
       }
      }
     },
     "metadata": {},
     "output_type": "display_data"
    }
   ],
   "source": [
    "exp_xgreg_age.model_parts().plot()"
   ]
  },
  {
   "cell_type": "markdown",
   "metadata": {},
   "source": [
    "Since model with age has a smaller mse, we continue with age"
   ]
  },
  {
   "cell_type": "markdown",
   "metadata": {},
   "source": [
    "**Splitting Train Test split again for age for further use**"
   ]
  },
  {
   "cell_type": "code",
   "execution_count": 168,
   "metadata": {},
   "outputs": [],
   "source": [
    "X= features_age\n",
    "y= target_age\n",
    "X_train, X_test, y_train, y_test = train_test_split(X,y, test_size=0.3, random_state = ran)"
   ]
  },
  {
   "cell_type": "markdown",
   "metadata": {},
   "source": [
    "#### Tuning XGBoost with RandomizedSearchCV"
   ]
  },
  {
   "cell_type": "code",
   "execution_count": 187,
   "metadata": {},
   "outputs": [
    {
     "name": "stdout",
     "output_type": "stream",
     "text": [
      "RandomizedSearchCV took 246.59 seconds for 250 candidates parameter settings.\n"
     ]
    }
   ],
   "source": [
    "# model tuning\n",
    "import time\n",
    "\n",
    "# A parameter grid for XGBoost\n",
    "params = {\n",
    "    'n_estimators':[100,150,200],\n",
    "    'min_child_weight':[2,3,4,5], \n",
    "    'gamma':[i/10.0 for i in range(3,6)],  \n",
    "    'subsample':[i/10.0 for i in range(6,11)],\n",
    "    'colsample_bytree':[i/10.0 for i in range(6,11)], \n",
    "    'max_depth': [2,3,4,6,7],\n",
    "    'objective': ['reg:squarederror'],\n",
    "    'booster': ['gbtree', 'gblinear'],\n",
    "    'eval_metric': ['rmse'],\n",
    "    'eta': [i/10.0 for i in range(3,6)],\n",
    "    'learning_rate':[i/10.0 for i in range(2,11)],\n",
    "    'random_state':[ran]\n",
    "}\n",
    "\n",
    "reg = XGBRegressor()\n",
    "\n",
    "# run randomized search\n",
    "n_iter_search = 250\n",
    "random_search = RandomizedSearchCV(reg, param_distributions=params,\n",
    "                                   n_iter=n_iter_search, cv=5, scoring=scoring_reg,random_state = ran)\n",
    "\n",
    "start = time.time()\n",
    "random_search.fit(X_train, y_train)\n",
    "print(\"RandomizedSearchCV took %.2f seconds for %d candidates\"\n",
    "      \" parameter settings.\" % ((time.time() - start), n_iter_search))"
   ]
  },
  {
   "cell_type": "code",
   "execution_count": 191,
   "metadata": {},
   "outputs": [
    {
     "data": {
      "text/html": [
       "<style>#sk-268556ab-be33-4610-9d45-9e0cd5e2715a {color: black;background-color: white;}#sk-268556ab-be33-4610-9d45-9e0cd5e2715a pre{padding: 0;}#sk-268556ab-be33-4610-9d45-9e0cd5e2715a div.sk-toggleable {background-color: white;}#sk-268556ab-be33-4610-9d45-9e0cd5e2715a label.sk-toggleable__label {cursor: pointer;display: block;width: 100%;margin-bottom: 0;padding: 0.3em;box-sizing: border-box;text-align: center;}#sk-268556ab-be33-4610-9d45-9e0cd5e2715a label.sk-toggleable__label-arrow:before {content: \"▸\";float: left;margin-right: 0.25em;color: #696969;}#sk-268556ab-be33-4610-9d45-9e0cd5e2715a label.sk-toggleable__label-arrow:hover:before {color: black;}#sk-268556ab-be33-4610-9d45-9e0cd5e2715a div.sk-estimator:hover label.sk-toggleable__label-arrow:before {color: black;}#sk-268556ab-be33-4610-9d45-9e0cd5e2715a div.sk-toggleable__content {max-height: 0;max-width: 0;overflow: hidden;text-align: left;background-color: #f0f8ff;}#sk-268556ab-be33-4610-9d45-9e0cd5e2715a div.sk-toggleable__content pre {margin: 0.2em;color: black;border-radius: 0.25em;background-color: #f0f8ff;}#sk-268556ab-be33-4610-9d45-9e0cd5e2715a input.sk-toggleable__control:checked~div.sk-toggleable__content {max-height: 200px;max-width: 100%;overflow: auto;}#sk-268556ab-be33-4610-9d45-9e0cd5e2715a input.sk-toggleable__control:checked~label.sk-toggleable__label-arrow:before {content: \"▾\";}#sk-268556ab-be33-4610-9d45-9e0cd5e2715a div.sk-estimator input.sk-toggleable__control:checked~label.sk-toggleable__label {background-color: #d4ebff;}#sk-268556ab-be33-4610-9d45-9e0cd5e2715a div.sk-label input.sk-toggleable__control:checked~label.sk-toggleable__label {background-color: #d4ebff;}#sk-268556ab-be33-4610-9d45-9e0cd5e2715a input.sk-hidden--visually {border: 0;clip: rect(1px 1px 1px 1px);clip: rect(1px, 1px, 1px, 1px);height: 1px;margin: -1px;overflow: hidden;padding: 0;position: absolute;width: 1px;}#sk-268556ab-be33-4610-9d45-9e0cd5e2715a div.sk-estimator {font-family: monospace;background-color: #f0f8ff;border: 1px dotted black;border-radius: 0.25em;box-sizing: border-box;margin-bottom: 0.5em;}#sk-268556ab-be33-4610-9d45-9e0cd5e2715a div.sk-estimator:hover {background-color: #d4ebff;}#sk-268556ab-be33-4610-9d45-9e0cd5e2715a div.sk-parallel-item::after {content: \"\";width: 100%;border-bottom: 1px solid gray;flex-grow: 1;}#sk-268556ab-be33-4610-9d45-9e0cd5e2715a div.sk-label:hover label.sk-toggleable__label {background-color: #d4ebff;}#sk-268556ab-be33-4610-9d45-9e0cd5e2715a div.sk-serial::before {content: \"\";position: absolute;border-left: 1px solid gray;box-sizing: border-box;top: 2em;bottom: 0;left: 50%;}#sk-268556ab-be33-4610-9d45-9e0cd5e2715a div.sk-serial {display: flex;flex-direction: column;align-items: center;background-color: white;padding-right: 0.2em;padding-left: 0.2em;}#sk-268556ab-be33-4610-9d45-9e0cd5e2715a div.sk-item {z-index: 1;}#sk-268556ab-be33-4610-9d45-9e0cd5e2715a div.sk-parallel {display: flex;align-items: stretch;justify-content: center;background-color: white;}#sk-268556ab-be33-4610-9d45-9e0cd5e2715a div.sk-parallel::before {content: \"\";position: absolute;border-left: 1px solid gray;box-sizing: border-box;top: 2em;bottom: 0;left: 50%;}#sk-268556ab-be33-4610-9d45-9e0cd5e2715a div.sk-parallel-item {display: flex;flex-direction: column;position: relative;background-color: white;}#sk-268556ab-be33-4610-9d45-9e0cd5e2715a div.sk-parallel-item:first-child::after {align-self: flex-end;width: 50%;}#sk-268556ab-be33-4610-9d45-9e0cd5e2715a div.sk-parallel-item:last-child::after {align-self: flex-start;width: 50%;}#sk-268556ab-be33-4610-9d45-9e0cd5e2715a div.sk-parallel-item:only-child::after {width: 0;}#sk-268556ab-be33-4610-9d45-9e0cd5e2715a div.sk-dashed-wrapped {border: 1px dashed gray;margin: 0 0.4em 0.5em 0.4em;box-sizing: border-box;padding-bottom: 0.4em;background-color: white;position: relative;}#sk-268556ab-be33-4610-9d45-9e0cd5e2715a div.sk-label label {font-family: monospace;font-weight: bold;background-color: white;display: inline-block;line-height: 1.2em;}#sk-268556ab-be33-4610-9d45-9e0cd5e2715a div.sk-label-container {position: relative;z-index: 2;text-align: center;}#sk-268556ab-be33-4610-9d45-9e0cd5e2715a div.sk-container {/* jupyter's `normalize.less` sets `[hidden] { display: none; }` but bootstrap.min.css set `[hidden] { display: none !important; }` so we also need the `!important` here to be able to override the default hidden behavior on the sphinx rendered scikit-learn.org. See: https://github.com/scikit-learn/scikit-learn/issues/21755 */display: inline-block !important;position: relative;}#sk-268556ab-be33-4610-9d45-9e0cd5e2715a div.sk-text-repr-fallback {display: none;}</style><div id=\"sk-268556ab-be33-4610-9d45-9e0cd5e2715a\" class=\"sk-top-container\"><div class=\"sk-text-repr-fallback\"><pre>XGBRegressor(base_score=0.5, booster=&#x27;gbtree&#x27;, colsample_bylevel=1,\n",
       "             colsample_bynode=1, colsample_bytree=0.6, enable_categorical=False,\n",
       "             eta=0.3, eval_metric=&#x27;rmse&#x27;, gamma=0.4, gpu_id=-1,\n",
       "             importance_type=None, interaction_constraints=&#x27;&#x27;,\n",
       "             learning_rate=0.2, max_delta_step=0, max_depth=2,\n",
       "             min_child_weight=5, missing=nan, monotone_constraints=&#x27;()&#x27;,\n",
       "             n_estimators=100, n_jobs=4, num_parallel_tree=1, predictor=&#x27;auto&#x27;,\n",
       "             random_state=42, reg_alpha=0, reg_lambda=1, scale_pos_weight=1,\n",
       "             subsample=0.8, tree_method=&#x27;exact&#x27;, validate_parameters=1,\n",
       "             verbosity=None)</pre><b>Please rerun this cell to show the HTML repr or trust the notebook.</b></div><div class=\"sk-container\" hidden><div class=\"sk-item\"><div class=\"sk-estimator sk-toggleable\"><input class=\"sk-toggleable__control sk-hidden--visually\" id=\"ba2e3d67-7f3f-490c-8ef9-9bea7cff8786\" type=\"checkbox\" checked><label for=\"ba2e3d67-7f3f-490c-8ef9-9bea7cff8786\" class=\"sk-toggleable__label sk-toggleable__label-arrow\">XGBRegressor</label><div class=\"sk-toggleable__content\"><pre>XGBRegressor(base_score=0.5, booster=&#x27;gbtree&#x27;, colsample_bylevel=1,\n",
       "             colsample_bynode=1, colsample_bytree=0.6, enable_categorical=False,\n",
       "             eta=0.3, eval_metric=&#x27;rmse&#x27;, gamma=0.4, gpu_id=-1,\n",
       "             importance_type=None, interaction_constraints=&#x27;&#x27;,\n",
       "             learning_rate=0.2, max_delta_step=0, max_depth=2,\n",
       "             min_child_weight=5, missing=nan, monotone_constraints=&#x27;()&#x27;,\n",
       "             n_estimators=100, n_jobs=4, num_parallel_tree=1, predictor=&#x27;auto&#x27;,\n",
       "             random_state=42, reg_alpha=0, reg_lambda=1, scale_pos_weight=1,\n",
       "             subsample=0.8, tree_method=&#x27;exact&#x27;, validate_parameters=1,\n",
       "             verbosity=None)</pre></div></div></div></div></div>"
      ],
      "text/plain": [
       "XGBRegressor(base_score=0.5, booster='gbtree', colsample_bylevel=1,\n",
       "             colsample_bynode=1, colsample_bytree=0.6, enable_categorical=False,\n",
       "             eta=0.3, eval_metric='rmse', gamma=0.4, gpu_id=-1,\n",
       "             importance_type=None, interaction_constraints='',\n",
       "             learning_rate=0.2, max_delta_step=0, max_depth=2,\n",
       "             min_child_weight=5, missing=nan, monotone_constraints='()',\n",
       "             n_estimators=100, n_jobs=4, num_parallel_tree=1, predictor='auto',\n",
       "             random_state=42, reg_alpha=0, reg_lambda=1, scale_pos_weight=1,\n",
       "             subsample=0.8, tree_method='exact', validate_parameters=1,\n",
       "             verbosity=None)"
      ]
     },
     "execution_count": 191,
     "metadata": {},
     "output_type": "execute_result"
    }
   ],
   "source": [
    "#print out te best estimator\n",
    "random_search.best_estimator_"
   ]
  },
  {
   "cell_type": "code",
   "execution_count": 192,
   "metadata": {},
   "outputs": [
    {
     "data": {
      "text/plain": [
       "0.5348004945875612"
      ]
     },
     "execution_count": 192,
     "metadata": {},
     "output_type": "execute_result"
    }
   ],
   "source": [
    "#plug the best estimatior to predict y, find r2 score and mse\n",
    "best_regressor = random_search.best_estimator_\n",
    "y_pred = best_regressor.predict(X_test)\n",
    "r2_score(y_test,y_pred)"
   ]
  },
  {
   "cell_type": "code",
   "execution_count": 193,
   "metadata": {},
   "outputs": [
    {
     "data": {
      "text/html": [
       "<div>\n",
       "<style scoped>\n",
       "    .dataframe tbody tr th:only-of-type {\n",
       "        vertical-align: middle;\n",
       "    }\n",
       "\n",
       "    .dataframe tbody tr th {\n",
       "        vertical-align: top;\n",
       "    }\n",
       "\n",
       "    .dataframe thead th {\n",
       "        text-align: right;\n",
       "    }\n",
       "</style>\n",
       "<table border=\"1\" class=\"dataframe\">\n",
       "  <thead>\n",
       "    <tr style=\"text-align: right;\">\n",
       "      <th></th>\n",
       "      <th>mse</th>\n",
       "      <th>rmse</th>\n",
       "      <th>r2</th>\n",
       "      <th>mae</th>\n",
       "      <th>mad</th>\n",
       "    </tr>\n",
       "  </thead>\n",
       "  <tbody>\n",
       "    <tr>\n",
       "      <th>XGBRegressor</th>\n",
       "      <td>0.285649</td>\n",
       "      <td>0.534461</td>\n",
       "      <td>0.5348</td>\n",
       "      <td>0.418224</td>\n",
       "      <td>0.343968</td>\n",
       "    </tr>\n",
       "  </tbody>\n",
       "</table>\n",
       "</div>"
      ],
      "text/plain": [
       "                   mse      rmse      r2       mae       mad\n",
       "XGBRegressor  0.285649  0.534461  0.5348  0.418224  0.343968"
      ]
     },
     "execution_count": 193,
     "metadata": {},
     "output_type": "execute_result"
    }
   ],
   "source": [
    "exp_xgreg = dx.Explainer(best_regressor, X_test, y_test, verbose=False)\n",
    "exp_xgreg.model_performance().result"
   ]
  },
  {
   "cell_type": "markdown",
   "metadata": {},
   "source": [
    "#### Tuning the number of boosting round (n_estimator)"
   ]
  },
  {
   "cell_type": "markdown",
   "metadata": {},
   "source": [
    "We go deeper into n_estimators in the range from 80-120"
   ]
  },
  {
   "cell_type": "code",
   "execution_count": 194,
   "metadata": {},
   "outputs": [
    {
     "data": {
      "text/plain": [
       "({'n_estimators': 115}, -0.5332265548792284)"
      ]
     },
     "execution_count": 194,
     "metadata": {},
     "output_type": "execute_result"
    }
   ],
   "source": [
    "params = {\n",
    "    'n_estimators': np.arange(80,120,5)\n",
    "}\n",
    "gsearch = GridSearchCV(estimator = random_search.best_estimator_,param_grid = params, cv=5,scoring=scoring_reg)\n",
    "gsearch.fit(X_train,y_train)\n",
    "gsearch.best_params_, gsearch.best_score_"
   ]
  },
  {
   "cell_type": "markdown",
   "metadata": {},
   "source": [
    "Take one more step deeper into the range from 110,120"
   ]
  },
  {
   "cell_type": "code",
   "execution_count": 195,
   "metadata": {},
   "outputs": [
    {
     "data": {
      "text/plain": [
       "({'n_estimators': 115}, -0.5332265548792284)"
      ]
     },
     "execution_count": 195,
     "metadata": {},
     "output_type": "execute_result"
    }
   ],
   "source": [
    "params = {\n",
    "    'n_estimators': np.arange(110,120,1)\n",
    "}\n",
    "gsearch = GridSearchCV(estimator = random_search.best_estimator_,param_grid = params, cv=5,scoring=scoring_reg)\n",
    "gsearch.fit(X_train,y_train)\n",
    "gsearch.best_params_, gsearch.best_score_"
   ]
  },
  {
   "cell_type": "code",
   "execution_count": 196,
   "metadata": {},
   "outputs": [
    {
     "data": {
      "text/html": [
       "<style>#sk-73b31129-0725-4b41-9d51-94fa19dadd72 {color: black;background-color: white;}#sk-73b31129-0725-4b41-9d51-94fa19dadd72 pre{padding: 0;}#sk-73b31129-0725-4b41-9d51-94fa19dadd72 div.sk-toggleable {background-color: white;}#sk-73b31129-0725-4b41-9d51-94fa19dadd72 label.sk-toggleable__label {cursor: pointer;display: block;width: 100%;margin-bottom: 0;padding: 0.3em;box-sizing: border-box;text-align: center;}#sk-73b31129-0725-4b41-9d51-94fa19dadd72 label.sk-toggleable__label-arrow:before {content: \"▸\";float: left;margin-right: 0.25em;color: #696969;}#sk-73b31129-0725-4b41-9d51-94fa19dadd72 label.sk-toggleable__label-arrow:hover:before {color: black;}#sk-73b31129-0725-4b41-9d51-94fa19dadd72 div.sk-estimator:hover label.sk-toggleable__label-arrow:before {color: black;}#sk-73b31129-0725-4b41-9d51-94fa19dadd72 div.sk-toggleable__content {max-height: 0;max-width: 0;overflow: hidden;text-align: left;background-color: #f0f8ff;}#sk-73b31129-0725-4b41-9d51-94fa19dadd72 div.sk-toggleable__content pre {margin: 0.2em;color: black;border-radius: 0.25em;background-color: #f0f8ff;}#sk-73b31129-0725-4b41-9d51-94fa19dadd72 input.sk-toggleable__control:checked~div.sk-toggleable__content {max-height: 200px;max-width: 100%;overflow: auto;}#sk-73b31129-0725-4b41-9d51-94fa19dadd72 input.sk-toggleable__control:checked~label.sk-toggleable__label-arrow:before {content: \"▾\";}#sk-73b31129-0725-4b41-9d51-94fa19dadd72 div.sk-estimator input.sk-toggleable__control:checked~label.sk-toggleable__label {background-color: #d4ebff;}#sk-73b31129-0725-4b41-9d51-94fa19dadd72 div.sk-label input.sk-toggleable__control:checked~label.sk-toggleable__label {background-color: #d4ebff;}#sk-73b31129-0725-4b41-9d51-94fa19dadd72 input.sk-hidden--visually {border: 0;clip: rect(1px 1px 1px 1px);clip: rect(1px, 1px, 1px, 1px);height: 1px;margin: -1px;overflow: hidden;padding: 0;position: absolute;width: 1px;}#sk-73b31129-0725-4b41-9d51-94fa19dadd72 div.sk-estimator {font-family: monospace;background-color: #f0f8ff;border: 1px dotted black;border-radius: 0.25em;box-sizing: border-box;margin-bottom: 0.5em;}#sk-73b31129-0725-4b41-9d51-94fa19dadd72 div.sk-estimator:hover {background-color: #d4ebff;}#sk-73b31129-0725-4b41-9d51-94fa19dadd72 div.sk-parallel-item::after {content: \"\";width: 100%;border-bottom: 1px solid gray;flex-grow: 1;}#sk-73b31129-0725-4b41-9d51-94fa19dadd72 div.sk-label:hover label.sk-toggleable__label {background-color: #d4ebff;}#sk-73b31129-0725-4b41-9d51-94fa19dadd72 div.sk-serial::before {content: \"\";position: absolute;border-left: 1px solid gray;box-sizing: border-box;top: 2em;bottom: 0;left: 50%;}#sk-73b31129-0725-4b41-9d51-94fa19dadd72 div.sk-serial {display: flex;flex-direction: column;align-items: center;background-color: white;padding-right: 0.2em;padding-left: 0.2em;}#sk-73b31129-0725-4b41-9d51-94fa19dadd72 div.sk-item {z-index: 1;}#sk-73b31129-0725-4b41-9d51-94fa19dadd72 div.sk-parallel {display: flex;align-items: stretch;justify-content: center;background-color: white;}#sk-73b31129-0725-4b41-9d51-94fa19dadd72 div.sk-parallel::before {content: \"\";position: absolute;border-left: 1px solid gray;box-sizing: border-box;top: 2em;bottom: 0;left: 50%;}#sk-73b31129-0725-4b41-9d51-94fa19dadd72 div.sk-parallel-item {display: flex;flex-direction: column;position: relative;background-color: white;}#sk-73b31129-0725-4b41-9d51-94fa19dadd72 div.sk-parallel-item:first-child::after {align-self: flex-end;width: 50%;}#sk-73b31129-0725-4b41-9d51-94fa19dadd72 div.sk-parallel-item:last-child::after {align-self: flex-start;width: 50%;}#sk-73b31129-0725-4b41-9d51-94fa19dadd72 div.sk-parallel-item:only-child::after {width: 0;}#sk-73b31129-0725-4b41-9d51-94fa19dadd72 div.sk-dashed-wrapped {border: 1px dashed gray;margin: 0 0.4em 0.5em 0.4em;box-sizing: border-box;padding-bottom: 0.4em;background-color: white;position: relative;}#sk-73b31129-0725-4b41-9d51-94fa19dadd72 div.sk-label label {font-family: monospace;font-weight: bold;background-color: white;display: inline-block;line-height: 1.2em;}#sk-73b31129-0725-4b41-9d51-94fa19dadd72 div.sk-label-container {position: relative;z-index: 2;text-align: center;}#sk-73b31129-0725-4b41-9d51-94fa19dadd72 div.sk-container {/* jupyter's `normalize.less` sets `[hidden] { display: none; }` but bootstrap.min.css set `[hidden] { display: none !important; }` so we also need the `!important` here to be able to override the default hidden behavior on the sphinx rendered scikit-learn.org. See: https://github.com/scikit-learn/scikit-learn/issues/21755 */display: inline-block !important;position: relative;}#sk-73b31129-0725-4b41-9d51-94fa19dadd72 div.sk-text-repr-fallback {display: none;}</style><div id=\"sk-73b31129-0725-4b41-9d51-94fa19dadd72\" class=\"sk-top-container\"><div class=\"sk-text-repr-fallback\"><pre>XGBRegressor(base_score=0.5, booster=&#x27;gbtree&#x27;, colsample_bylevel=1,\n",
       "             colsample_bynode=1, colsample_bytree=0.6, enable_categorical=False,\n",
       "             eta=0.3, eval_metric=&#x27;rmse&#x27;, gamma=0.4, gpu_id=-1,\n",
       "             importance_type=None, interaction_constraints=&#x27;&#x27;,\n",
       "             learning_rate=0.2, max_delta_step=0, max_depth=2,\n",
       "             min_child_weight=5, missing=nan, monotone_constraints=&#x27;()&#x27;,\n",
       "             n_estimators=115, n_jobs=4, num_parallel_tree=1, predictor=&#x27;auto&#x27;,\n",
       "             random_state=42, reg_alpha=0, reg_lambda=1, scale_pos_weight=1,\n",
       "             subsample=0.8, tree_method=&#x27;exact&#x27;, validate_parameters=1,\n",
       "             verbosity=None)</pre><b>Please rerun this cell to show the HTML repr or trust the notebook.</b></div><div class=\"sk-container\" hidden><div class=\"sk-item\"><div class=\"sk-estimator sk-toggleable\"><input class=\"sk-toggleable__control sk-hidden--visually\" id=\"3f82af8f-20f5-4b6a-8692-d52d93ce6be8\" type=\"checkbox\" checked><label for=\"3f82af8f-20f5-4b6a-8692-d52d93ce6be8\" class=\"sk-toggleable__label sk-toggleable__label-arrow\">XGBRegressor</label><div class=\"sk-toggleable__content\"><pre>XGBRegressor(base_score=0.5, booster=&#x27;gbtree&#x27;, colsample_bylevel=1,\n",
       "             colsample_bynode=1, colsample_bytree=0.6, enable_categorical=False,\n",
       "             eta=0.3, eval_metric=&#x27;rmse&#x27;, gamma=0.4, gpu_id=-1,\n",
       "             importance_type=None, interaction_constraints=&#x27;&#x27;,\n",
       "             learning_rate=0.2, max_delta_step=0, max_depth=2,\n",
       "             min_child_weight=5, missing=nan, monotone_constraints=&#x27;()&#x27;,\n",
       "             n_estimators=115, n_jobs=4, num_parallel_tree=1, predictor=&#x27;auto&#x27;,\n",
       "             random_state=42, reg_alpha=0, reg_lambda=1, scale_pos_weight=1,\n",
       "             subsample=0.8, tree_method=&#x27;exact&#x27;, validate_parameters=1,\n",
       "             verbosity=None)</pre></div></div></div></div></div>"
      ],
      "text/plain": [
       "XGBRegressor(base_score=0.5, booster='gbtree', colsample_bylevel=1,\n",
       "             colsample_bynode=1, colsample_bytree=0.6, enable_categorical=False,\n",
       "             eta=0.3, eval_metric='rmse', gamma=0.4, gpu_id=-1,\n",
       "             importance_type=None, interaction_constraints='',\n",
       "             learning_rate=0.2, max_delta_step=0, max_depth=2,\n",
       "             min_child_weight=5, missing=nan, monotone_constraints='()',\n",
       "             n_estimators=115, n_jobs=4, num_parallel_tree=1, predictor='auto',\n",
       "             random_state=42, reg_alpha=0, reg_lambda=1, scale_pos_weight=1,\n",
       "             subsample=0.8, tree_method='exact', validate_parameters=1,\n",
       "             verbosity=None)"
      ]
     },
     "execution_count": 196,
     "metadata": {},
     "output_type": "execute_result"
    }
   ],
   "source": [
    "gsearch.best_estimator_"
   ]
  },
  {
   "cell_type": "markdown",
   "metadata": {},
   "source": [
    "#### Using GridSearch to tune other key params"
   ]
  },
  {
   "cell_type": "code",
   "execution_count": 197,
   "metadata": {},
   "outputs": [
    {
     "data": {
      "text/plain": [
       "({'colsample_bytree': 0.5,\n",
       "  'learning_rate': 0.1,\n",
       "  'max_depth': 3,\n",
       "  'min_child_weight': 4,\n",
       "  'reg_alpha': 0,\n",
       "  'subsample': 0.7},\n",
       " -0.5322446064730046)"
      ]
     },
     "execution_count": 197,
     "metadata": {},
     "output_type": "execute_result"
    }
   ],
   "source": [
    "params = {\n",
    "    'subsample':[0.4,0.7,0.1],\n",
    "    'colsample_bytree':[0.5,0.8,0.1],\n",
    "    'reg_alpha':[0,1,0.1],\n",
    "    'learning_rate':[0.01,0.1,0.01], \n",
    "    'max_depth':[1,3,1],\n",
    "    'min_child_weight':[1,4,1]\n",
    "}\n",
    "gsearch = GridSearchCV(estimator = gsearch.best_estimator_,param_grid = params, cv=5,scoring=scoring_reg) #here we plug in gsearch best estimator as result from above\n",
    "gsearch.fit(X_train,y_train)\n",
    "gsearch.best_params_, gsearch.best_score_"
   ]
  },
  {
   "cell_type": "code",
   "execution_count": 198,
   "metadata": {},
   "outputs": [
    {
     "data": {
      "text/html": [
       "<style>#sk-dc1c21c4-0976-4731-a304-e4dcf2866826 {color: black;background-color: white;}#sk-dc1c21c4-0976-4731-a304-e4dcf2866826 pre{padding: 0;}#sk-dc1c21c4-0976-4731-a304-e4dcf2866826 div.sk-toggleable {background-color: white;}#sk-dc1c21c4-0976-4731-a304-e4dcf2866826 label.sk-toggleable__label {cursor: pointer;display: block;width: 100%;margin-bottom: 0;padding: 0.3em;box-sizing: border-box;text-align: center;}#sk-dc1c21c4-0976-4731-a304-e4dcf2866826 label.sk-toggleable__label-arrow:before {content: \"▸\";float: left;margin-right: 0.25em;color: #696969;}#sk-dc1c21c4-0976-4731-a304-e4dcf2866826 label.sk-toggleable__label-arrow:hover:before {color: black;}#sk-dc1c21c4-0976-4731-a304-e4dcf2866826 div.sk-estimator:hover label.sk-toggleable__label-arrow:before {color: black;}#sk-dc1c21c4-0976-4731-a304-e4dcf2866826 div.sk-toggleable__content {max-height: 0;max-width: 0;overflow: hidden;text-align: left;background-color: #f0f8ff;}#sk-dc1c21c4-0976-4731-a304-e4dcf2866826 div.sk-toggleable__content pre {margin: 0.2em;color: black;border-radius: 0.25em;background-color: #f0f8ff;}#sk-dc1c21c4-0976-4731-a304-e4dcf2866826 input.sk-toggleable__control:checked~div.sk-toggleable__content {max-height: 200px;max-width: 100%;overflow: auto;}#sk-dc1c21c4-0976-4731-a304-e4dcf2866826 input.sk-toggleable__control:checked~label.sk-toggleable__label-arrow:before {content: \"▾\";}#sk-dc1c21c4-0976-4731-a304-e4dcf2866826 div.sk-estimator input.sk-toggleable__control:checked~label.sk-toggleable__label {background-color: #d4ebff;}#sk-dc1c21c4-0976-4731-a304-e4dcf2866826 div.sk-label input.sk-toggleable__control:checked~label.sk-toggleable__label {background-color: #d4ebff;}#sk-dc1c21c4-0976-4731-a304-e4dcf2866826 input.sk-hidden--visually {border: 0;clip: rect(1px 1px 1px 1px);clip: rect(1px, 1px, 1px, 1px);height: 1px;margin: -1px;overflow: hidden;padding: 0;position: absolute;width: 1px;}#sk-dc1c21c4-0976-4731-a304-e4dcf2866826 div.sk-estimator {font-family: monospace;background-color: #f0f8ff;border: 1px dotted black;border-radius: 0.25em;box-sizing: border-box;margin-bottom: 0.5em;}#sk-dc1c21c4-0976-4731-a304-e4dcf2866826 div.sk-estimator:hover {background-color: #d4ebff;}#sk-dc1c21c4-0976-4731-a304-e4dcf2866826 div.sk-parallel-item::after {content: \"\";width: 100%;border-bottom: 1px solid gray;flex-grow: 1;}#sk-dc1c21c4-0976-4731-a304-e4dcf2866826 div.sk-label:hover label.sk-toggleable__label {background-color: #d4ebff;}#sk-dc1c21c4-0976-4731-a304-e4dcf2866826 div.sk-serial::before {content: \"\";position: absolute;border-left: 1px solid gray;box-sizing: border-box;top: 2em;bottom: 0;left: 50%;}#sk-dc1c21c4-0976-4731-a304-e4dcf2866826 div.sk-serial {display: flex;flex-direction: column;align-items: center;background-color: white;padding-right: 0.2em;padding-left: 0.2em;}#sk-dc1c21c4-0976-4731-a304-e4dcf2866826 div.sk-item {z-index: 1;}#sk-dc1c21c4-0976-4731-a304-e4dcf2866826 div.sk-parallel {display: flex;align-items: stretch;justify-content: center;background-color: white;}#sk-dc1c21c4-0976-4731-a304-e4dcf2866826 div.sk-parallel::before {content: \"\";position: absolute;border-left: 1px solid gray;box-sizing: border-box;top: 2em;bottom: 0;left: 50%;}#sk-dc1c21c4-0976-4731-a304-e4dcf2866826 div.sk-parallel-item {display: flex;flex-direction: column;position: relative;background-color: white;}#sk-dc1c21c4-0976-4731-a304-e4dcf2866826 div.sk-parallel-item:first-child::after {align-self: flex-end;width: 50%;}#sk-dc1c21c4-0976-4731-a304-e4dcf2866826 div.sk-parallel-item:last-child::after {align-self: flex-start;width: 50%;}#sk-dc1c21c4-0976-4731-a304-e4dcf2866826 div.sk-parallel-item:only-child::after {width: 0;}#sk-dc1c21c4-0976-4731-a304-e4dcf2866826 div.sk-dashed-wrapped {border: 1px dashed gray;margin: 0 0.4em 0.5em 0.4em;box-sizing: border-box;padding-bottom: 0.4em;background-color: white;position: relative;}#sk-dc1c21c4-0976-4731-a304-e4dcf2866826 div.sk-label label {font-family: monospace;font-weight: bold;background-color: white;display: inline-block;line-height: 1.2em;}#sk-dc1c21c4-0976-4731-a304-e4dcf2866826 div.sk-label-container {position: relative;z-index: 2;text-align: center;}#sk-dc1c21c4-0976-4731-a304-e4dcf2866826 div.sk-container {/* jupyter's `normalize.less` sets `[hidden] { display: none; }` but bootstrap.min.css set `[hidden] { display: none !important; }` so we also need the `!important` here to be able to override the default hidden behavior on the sphinx rendered scikit-learn.org. See: https://github.com/scikit-learn/scikit-learn/issues/21755 */display: inline-block !important;position: relative;}#sk-dc1c21c4-0976-4731-a304-e4dcf2866826 div.sk-text-repr-fallback {display: none;}</style><div id=\"sk-dc1c21c4-0976-4731-a304-e4dcf2866826\" class=\"sk-top-container\"><div class=\"sk-text-repr-fallback\"><pre>XGBRegressor(base_score=0.5, booster=&#x27;gbtree&#x27;, colsample_bylevel=1,\n",
       "             colsample_bynode=1, colsample_bytree=0.5, enable_categorical=False,\n",
       "             eta=0.3, eval_metric=&#x27;rmse&#x27;, gamma=0.4, gpu_id=-1,\n",
       "             importance_type=None, interaction_constraints=&#x27;&#x27;,\n",
       "             learning_rate=0.1, max_delta_step=0, max_depth=3,\n",
       "             min_child_weight=4, missing=nan, monotone_constraints=&#x27;()&#x27;,\n",
       "             n_estimators=115, n_jobs=4, num_parallel_tree=1, predictor=&#x27;auto&#x27;,\n",
       "             random_state=42, reg_alpha=0, reg_lambda=1, scale_pos_weight=1,\n",
       "             subsample=0.7, tree_method=&#x27;exact&#x27;, validate_parameters=1,\n",
       "             verbosity=None)</pre><b>Please rerun this cell to show the HTML repr or trust the notebook.</b></div><div class=\"sk-container\" hidden><div class=\"sk-item\"><div class=\"sk-estimator sk-toggleable\"><input class=\"sk-toggleable__control sk-hidden--visually\" id=\"b726327c-424a-44ab-9471-72e55e48f471\" type=\"checkbox\" checked><label for=\"b726327c-424a-44ab-9471-72e55e48f471\" class=\"sk-toggleable__label sk-toggleable__label-arrow\">XGBRegressor</label><div class=\"sk-toggleable__content\"><pre>XGBRegressor(base_score=0.5, booster=&#x27;gbtree&#x27;, colsample_bylevel=1,\n",
       "             colsample_bynode=1, colsample_bytree=0.5, enable_categorical=False,\n",
       "             eta=0.3, eval_metric=&#x27;rmse&#x27;, gamma=0.4, gpu_id=-1,\n",
       "             importance_type=None, interaction_constraints=&#x27;&#x27;,\n",
       "             learning_rate=0.1, max_delta_step=0, max_depth=3,\n",
       "             min_child_weight=4, missing=nan, monotone_constraints=&#x27;()&#x27;,\n",
       "             n_estimators=115, n_jobs=4, num_parallel_tree=1, predictor=&#x27;auto&#x27;,\n",
       "             random_state=42, reg_alpha=0, reg_lambda=1, scale_pos_weight=1,\n",
       "             subsample=0.7, tree_method=&#x27;exact&#x27;, validate_parameters=1,\n",
       "             verbosity=None)</pre></div></div></div></div></div>"
      ],
      "text/plain": [
       "XGBRegressor(base_score=0.5, booster='gbtree', colsample_bylevel=1,\n",
       "             colsample_bynode=1, colsample_bytree=0.5, enable_categorical=False,\n",
       "             eta=0.3, eval_metric='rmse', gamma=0.4, gpu_id=-1,\n",
       "             importance_type=None, interaction_constraints='',\n",
       "             learning_rate=0.1, max_delta_step=0, max_depth=3,\n",
       "             min_child_weight=4, missing=nan, monotone_constraints='()',\n",
       "             n_estimators=115, n_jobs=4, num_parallel_tree=1, predictor='auto',\n",
       "             random_state=42, reg_alpha=0, reg_lambda=1, scale_pos_weight=1,\n",
       "             subsample=0.7, tree_method='exact', validate_parameters=1,\n",
       "             verbosity=None)"
      ]
     },
     "execution_count": 198,
     "metadata": {},
     "output_type": "execute_result"
    }
   ],
   "source": [
    "gsearch.best_estimator_"
   ]
  },
  {
   "cell_type": "markdown",
   "metadata": {},
   "source": [
    "#### Testing with new tuned parameters"
   ]
  },
  {
   "cell_type": "code",
   "execution_count": 199,
   "metadata": {},
   "outputs": [],
   "source": [
    "xg_reg_tuned = gsearch.best_estimator_\n",
    "xg_reg_tuned.fit(X_train, y_train)\n",
    "y_pred = xg_reg_tuned.predict(X_test)"
   ]
  },
  {
   "cell_type": "code",
   "execution_count": 200,
   "metadata": {},
   "outputs": [
    {
     "data": {
      "text/html": [
       "<div>\n",
       "<style scoped>\n",
       "    .dataframe tbody tr th:only-of-type {\n",
       "        vertical-align: middle;\n",
       "    }\n",
       "\n",
       "    .dataframe tbody tr th {\n",
       "        vertical-align: top;\n",
       "    }\n",
       "\n",
       "    .dataframe thead th {\n",
       "        text-align: right;\n",
       "    }\n",
       "</style>\n",
       "<table border=\"1\" class=\"dataframe\">\n",
       "  <thead>\n",
       "    <tr style=\"text-align: right;\">\n",
       "      <th></th>\n",
       "      <th>mse</th>\n",
       "      <th>rmse</th>\n",
       "      <th>r2</th>\n",
       "      <th>mae</th>\n",
       "      <th>mad</th>\n",
       "    </tr>\n",
       "  </thead>\n",
       "  <tbody>\n",
       "    <tr>\n",
       "      <th>XGBRegressor</th>\n",
       "      <td>0.285265</td>\n",
       "      <td>0.534103</td>\n",
       "      <td>0.535425</td>\n",
       "      <td>0.416542</td>\n",
       "      <td>0.332494</td>\n",
       "    </tr>\n",
       "  </tbody>\n",
       "</table>\n",
       "</div>"
      ],
      "text/plain": [
       "                   mse      rmse        r2       mae       mad\n",
       "XGBRegressor  0.285265  0.534103  0.535425  0.416542  0.332494"
      ]
     },
     "execution_count": 200,
     "metadata": {},
     "output_type": "execute_result"
    }
   ],
   "source": [
    "exp_xgreg_tuned = dx.Explainer(xg_reg_tuned, X_test, y_test, verbose=False)\n",
    "exp_xgreg_tuned.model_performance().result"
   ]
  },
  {
   "cell_type": "markdown",
   "metadata": {},
   "source": [
    "### Model without race"
   ]
  },
  {
   "cell_type": "markdown",
   "metadata": {},
   "source": [
    "#### Featuring and start fitting base model"
   ]
  },
  {
   "cell_type": "markdown",
   "metadata": {},
   "source": [
    "**Featuring model (we continue with age)**"
   ]
  },
  {
   "cell_type": "code",
   "execution_count": 201,
   "metadata": {},
   "outputs": [],
   "source": [
    "features = pd.concat([df.age,\n",
    "                    pd.get_dummies(df.sex, prefix='sex',drop_first=True),\n",
    "                    ##pd.get_dummies(df.race, prefix='race',drop_first=True),  \n",
    "                    pd.get_dummies(df.c_charge_degree, prefix='degree',drop_first=True), # felony or misdemeanor charge ('f' or 'm')\n",
    "                    pd.get_dummies(df.c_charge_degree_detailed, prefix = 'degree_desc',drop_first=True),\n",
    "                    df.priors_count,\n",
    "                    df.juv_fel_count,\n",
    "                    df.juv_misd_count,\n",
    "                    df.juv_other_count,\n",
    "                    df.two_year_recid],\n",
    "                    axis=1)\n",
    "\n",
    "target = np.log(df.decile_score)"
   ]
  },
  {
   "cell_type": "markdown",
   "metadata": {},
   "source": [
    "**Feature scaling**"
   ]
  },
  {
   "cell_type": "code",
   "execution_count": 202,
   "metadata": {},
   "outputs": [],
   "source": [
    "features= minmax_scaler.fit_transform(features)"
   ]
  },
  {
   "cell_type": "code",
   "execution_count": 203,
   "metadata": {},
   "outputs": [],
   "source": [
    "X = features\n",
    "y =target\n",
    "X_train, X_test, y_train, y_test = train_test_split(X,y, test_size=0.3, random_state = ran)"
   ]
  },
  {
   "cell_type": "markdown",
   "metadata": {},
   "source": [
    "**Model for age before tuning**"
   ]
  },
  {
   "cell_type": "code",
   "execution_count": 204,
   "metadata": {},
   "outputs": [],
   "source": [
    "\n",
    "xg_reg = xgb.XGBRegressor(base_score=0.5, booster='gbtree', gamma=0, learning_rate=0.1, \n",
    "                          max_depth=3, min_child_weight=1, n_estimators=100, objective='reg:linear', colsample_bylevel=1, colsample_bynode=1, colsample_bytree=1, importance_type='gain',\n",
    "                          max_delta_step=0, subsample=1, verbosity=0, silent = True, random_state = ran\n",
    "                        )\n",
    "xg_reg.fit(X_train,y_train)\n",
    "y_pred = xg_reg.predict(X_test)"
   ]
  },
  {
   "cell_type": "code",
   "execution_count": 205,
   "metadata": {},
   "outputs": [
    {
     "data": {
      "text/html": [
       "<div>\n",
       "<style scoped>\n",
       "    .dataframe tbody tr th:only-of-type {\n",
       "        vertical-align: middle;\n",
       "    }\n",
       "\n",
       "    .dataframe tbody tr th {\n",
       "        vertical-align: top;\n",
       "    }\n",
       "\n",
       "    .dataframe thead th {\n",
       "        text-align: right;\n",
       "    }\n",
       "</style>\n",
       "<table border=\"1\" class=\"dataframe\">\n",
       "  <thead>\n",
       "    <tr style=\"text-align: right;\">\n",
       "      <th></th>\n",
       "      <th>mse</th>\n",
       "      <th>rmse</th>\n",
       "      <th>r2</th>\n",
       "      <th>mae</th>\n",
       "      <th>mad</th>\n",
       "    </tr>\n",
       "  </thead>\n",
       "  <tbody>\n",
       "    <tr>\n",
       "      <th>XGBRegressor</th>\n",
       "      <td>0.30042</td>\n",
       "      <td>0.548106</td>\n",
       "      <td>0.510745</td>\n",
       "      <td>0.426547</td>\n",
       "      <td>0.348871</td>\n",
       "    </tr>\n",
       "  </tbody>\n",
       "</table>\n",
       "</div>"
      ],
      "text/plain": [
       "                  mse      rmse        r2       mae       mad\n",
       "XGBRegressor  0.30042  0.548106  0.510745  0.426547  0.348871"
      ]
     },
     "execution_count": 205,
     "metadata": {},
     "output_type": "execute_result"
    }
   ],
   "source": [
    "exp_xgreg = dx.Explainer(xg_reg, X_test, y_test, verbose=False)\n",
    "exp_xgreg.model_performance().result"
   ]
  },
  {
   "cell_type": "markdown",
   "metadata": {},
   "source": [
    "#### Tuning XGBoost with RandomizedCV"
   ]
  },
  {
   "cell_type": "code",
   "execution_count": 206,
   "metadata": {},
   "outputs": [
    {
     "name": "stdout",
     "output_type": "stream",
     "text": [
      "RandomizedSearchCV took 294.32 seconds for 250 candidates parameter settings.\n"
     ]
    }
   ],
   "source": [
    "# model tuning\n",
    "import time\n",
    "\n",
    "# A parameter grid for XGBoost\n",
    "params = {\n",
    "    'n_estimators':[100,150,200],\n",
    "    'min_child_weight':[2,3,4,5], \n",
    "    'gamma':[i/10.0 for i in range(3,6)],  \n",
    "    'subsample':[i/10.0 for i in range(6,11)],\n",
    "    'colsample_bytree':[i/10.0 for i in range(6,11)], \n",
    "    'max_depth': [2,3,4,6,7],\n",
    "    'objective': ['reg:squarederror'],\n",
    "    'booster': ['gbtree', 'gblinear'],\n",
    "    'eval_metric': ['rmse'],\n",
    "    'eta': [i/10.0 for i in range(3,6)],\n",
    "    'learning_rate':[i/10.0 for i in range(2,11)],\n",
    "    'random_state':[ran]\n",
    "}\n",
    "\n",
    "reg = XGBRegressor()\n",
    "\n",
    "# run randomized search\n",
    "n_iter_search = 250\n",
    "random_search = RandomizedSearchCV(reg, param_distributions=params,\n",
    "                                   n_iter=n_iter_search, cv=5, scoring=scoring_reg, random_state = ran)\n",
    "\n",
    "start = time.time()\n",
    "random_search.fit(X_train, y_train)\n",
    "print(\"RandomizedSearchCV took %.2f seconds for %d candidates\"\n",
    "      \" parameter settings.\" % ((time.time() - start), n_iter_search))"
   ]
  },
  {
   "cell_type": "code",
   "execution_count": 207,
   "metadata": {},
   "outputs": [
    {
     "data": {
      "text/plain": [
       "0.5134299864943026"
      ]
     },
     "execution_count": 207,
     "metadata": {},
     "output_type": "execute_result"
    }
   ],
   "source": [
    "#plug the best estimatior to predict y and find r2 score, mse\n",
    "best_regressor = random_search.best_estimator_\n",
    "y_pred = best_regressor.predict(X_test)\n",
    "r2_score(y_test,y_pred)"
   ]
  },
  {
   "cell_type": "code",
   "execution_count": 208,
   "metadata": {},
   "outputs": [
    {
     "data": {
      "text/html": [
       "<div>\n",
       "<style scoped>\n",
       "    .dataframe tbody tr th:only-of-type {\n",
       "        vertical-align: middle;\n",
       "    }\n",
       "\n",
       "    .dataframe tbody tr th {\n",
       "        vertical-align: top;\n",
       "    }\n",
       "\n",
       "    .dataframe thead th {\n",
       "        text-align: right;\n",
       "    }\n",
       "</style>\n",
       "<table border=\"1\" class=\"dataframe\">\n",
       "  <thead>\n",
       "    <tr style=\"text-align: right;\">\n",
       "      <th></th>\n",
       "      <th>mse</th>\n",
       "      <th>rmse</th>\n",
       "      <th>r2</th>\n",
       "      <th>mae</th>\n",
       "      <th>mad</th>\n",
       "    </tr>\n",
       "  </thead>\n",
       "  <tbody>\n",
       "    <tr>\n",
       "      <th>XGBRegressor</th>\n",
       "      <td>0.298771</td>\n",
       "      <td>0.5466</td>\n",
       "      <td>0.51343</td>\n",
       "      <td>0.424069</td>\n",
       "      <td>0.345259</td>\n",
       "    </tr>\n",
       "  </tbody>\n",
       "</table>\n",
       "</div>"
      ],
      "text/plain": [
       "                   mse    rmse       r2       mae       mad\n",
       "XGBRegressor  0.298771  0.5466  0.51343  0.424069  0.345259"
      ]
     },
     "execution_count": 208,
     "metadata": {},
     "output_type": "execute_result"
    }
   ],
   "source": [
    "exp_xgreg = dx.Explainer(best_regressor, X_test, y_test, verbose=False)\n",
    "exp_xgreg.model_performance().result"
   ]
  },
  {
   "cell_type": "code",
   "execution_count": 209,
   "metadata": {},
   "outputs": [
    {
     "data": {
      "text/html": [
       "<style>#sk-48b83dfb-ba7d-4462-8d00-9c929d55afa3 {color: black;background-color: white;}#sk-48b83dfb-ba7d-4462-8d00-9c929d55afa3 pre{padding: 0;}#sk-48b83dfb-ba7d-4462-8d00-9c929d55afa3 div.sk-toggleable {background-color: white;}#sk-48b83dfb-ba7d-4462-8d00-9c929d55afa3 label.sk-toggleable__label {cursor: pointer;display: block;width: 100%;margin-bottom: 0;padding: 0.3em;box-sizing: border-box;text-align: center;}#sk-48b83dfb-ba7d-4462-8d00-9c929d55afa3 label.sk-toggleable__label-arrow:before {content: \"▸\";float: left;margin-right: 0.25em;color: #696969;}#sk-48b83dfb-ba7d-4462-8d00-9c929d55afa3 label.sk-toggleable__label-arrow:hover:before {color: black;}#sk-48b83dfb-ba7d-4462-8d00-9c929d55afa3 div.sk-estimator:hover label.sk-toggleable__label-arrow:before {color: black;}#sk-48b83dfb-ba7d-4462-8d00-9c929d55afa3 div.sk-toggleable__content {max-height: 0;max-width: 0;overflow: hidden;text-align: left;background-color: #f0f8ff;}#sk-48b83dfb-ba7d-4462-8d00-9c929d55afa3 div.sk-toggleable__content pre {margin: 0.2em;color: black;border-radius: 0.25em;background-color: #f0f8ff;}#sk-48b83dfb-ba7d-4462-8d00-9c929d55afa3 input.sk-toggleable__control:checked~div.sk-toggleable__content {max-height: 200px;max-width: 100%;overflow: auto;}#sk-48b83dfb-ba7d-4462-8d00-9c929d55afa3 input.sk-toggleable__control:checked~label.sk-toggleable__label-arrow:before {content: \"▾\";}#sk-48b83dfb-ba7d-4462-8d00-9c929d55afa3 div.sk-estimator input.sk-toggleable__control:checked~label.sk-toggleable__label {background-color: #d4ebff;}#sk-48b83dfb-ba7d-4462-8d00-9c929d55afa3 div.sk-label input.sk-toggleable__control:checked~label.sk-toggleable__label {background-color: #d4ebff;}#sk-48b83dfb-ba7d-4462-8d00-9c929d55afa3 input.sk-hidden--visually {border: 0;clip: rect(1px 1px 1px 1px);clip: rect(1px, 1px, 1px, 1px);height: 1px;margin: -1px;overflow: hidden;padding: 0;position: absolute;width: 1px;}#sk-48b83dfb-ba7d-4462-8d00-9c929d55afa3 div.sk-estimator {font-family: monospace;background-color: #f0f8ff;border: 1px dotted black;border-radius: 0.25em;box-sizing: border-box;margin-bottom: 0.5em;}#sk-48b83dfb-ba7d-4462-8d00-9c929d55afa3 div.sk-estimator:hover {background-color: #d4ebff;}#sk-48b83dfb-ba7d-4462-8d00-9c929d55afa3 div.sk-parallel-item::after {content: \"\";width: 100%;border-bottom: 1px solid gray;flex-grow: 1;}#sk-48b83dfb-ba7d-4462-8d00-9c929d55afa3 div.sk-label:hover label.sk-toggleable__label {background-color: #d4ebff;}#sk-48b83dfb-ba7d-4462-8d00-9c929d55afa3 div.sk-serial::before {content: \"\";position: absolute;border-left: 1px solid gray;box-sizing: border-box;top: 2em;bottom: 0;left: 50%;}#sk-48b83dfb-ba7d-4462-8d00-9c929d55afa3 div.sk-serial {display: flex;flex-direction: column;align-items: center;background-color: white;padding-right: 0.2em;padding-left: 0.2em;}#sk-48b83dfb-ba7d-4462-8d00-9c929d55afa3 div.sk-item {z-index: 1;}#sk-48b83dfb-ba7d-4462-8d00-9c929d55afa3 div.sk-parallel {display: flex;align-items: stretch;justify-content: center;background-color: white;}#sk-48b83dfb-ba7d-4462-8d00-9c929d55afa3 div.sk-parallel::before {content: \"\";position: absolute;border-left: 1px solid gray;box-sizing: border-box;top: 2em;bottom: 0;left: 50%;}#sk-48b83dfb-ba7d-4462-8d00-9c929d55afa3 div.sk-parallel-item {display: flex;flex-direction: column;position: relative;background-color: white;}#sk-48b83dfb-ba7d-4462-8d00-9c929d55afa3 div.sk-parallel-item:first-child::after {align-self: flex-end;width: 50%;}#sk-48b83dfb-ba7d-4462-8d00-9c929d55afa3 div.sk-parallel-item:last-child::after {align-self: flex-start;width: 50%;}#sk-48b83dfb-ba7d-4462-8d00-9c929d55afa3 div.sk-parallel-item:only-child::after {width: 0;}#sk-48b83dfb-ba7d-4462-8d00-9c929d55afa3 div.sk-dashed-wrapped {border: 1px dashed gray;margin: 0 0.4em 0.5em 0.4em;box-sizing: border-box;padding-bottom: 0.4em;background-color: white;position: relative;}#sk-48b83dfb-ba7d-4462-8d00-9c929d55afa3 div.sk-label label {font-family: monospace;font-weight: bold;background-color: white;display: inline-block;line-height: 1.2em;}#sk-48b83dfb-ba7d-4462-8d00-9c929d55afa3 div.sk-label-container {position: relative;z-index: 2;text-align: center;}#sk-48b83dfb-ba7d-4462-8d00-9c929d55afa3 div.sk-container {/* jupyter's `normalize.less` sets `[hidden] { display: none; }` but bootstrap.min.css set `[hidden] { display: none !important; }` so we also need the `!important` here to be able to override the default hidden behavior on the sphinx rendered scikit-learn.org. See: https://github.com/scikit-learn/scikit-learn/issues/21755 */display: inline-block !important;position: relative;}#sk-48b83dfb-ba7d-4462-8d00-9c929d55afa3 div.sk-text-repr-fallback {display: none;}</style><div id=\"sk-48b83dfb-ba7d-4462-8d00-9c929d55afa3\" class=\"sk-top-container\"><div class=\"sk-text-repr-fallback\"><pre>XGBRegressor(base_score=0.5, booster=&#x27;gbtree&#x27;, colsample_bylevel=1,\n",
       "             colsample_bynode=1, colsample_bytree=0.6, enable_categorical=False,\n",
       "             eta=0.3, eval_metric=&#x27;rmse&#x27;, gamma=0.4, gpu_id=-1,\n",
       "             importance_type=None, interaction_constraints=&#x27;&#x27;,\n",
       "             learning_rate=0.2, max_delta_step=0, max_depth=2,\n",
       "             min_child_weight=5, missing=nan, monotone_constraints=&#x27;()&#x27;,\n",
       "             n_estimators=100, n_jobs=4, num_parallel_tree=1, predictor=&#x27;auto&#x27;,\n",
       "             random_state=42, reg_alpha=0, reg_lambda=1, scale_pos_weight=1,\n",
       "             subsample=0.8, tree_method=&#x27;exact&#x27;, validate_parameters=1,\n",
       "             verbosity=None)</pre><b>Please rerun this cell to show the HTML repr or trust the notebook.</b></div><div class=\"sk-container\" hidden><div class=\"sk-item\"><div class=\"sk-estimator sk-toggleable\"><input class=\"sk-toggleable__control sk-hidden--visually\" id=\"d07db9f4-13bd-43c5-b89c-fe109b055cba\" type=\"checkbox\" checked><label for=\"d07db9f4-13bd-43c5-b89c-fe109b055cba\" class=\"sk-toggleable__label sk-toggleable__label-arrow\">XGBRegressor</label><div class=\"sk-toggleable__content\"><pre>XGBRegressor(base_score=0.5, booster=&#x27;gbtree&#x27;, colsample_bylevel=1,\n",
       "             colsample_bynode=1, colsample_bytree=0.6, enable_categorical=False,\n",
       "             eta=0.3, eval_metric=&#x27;rmse&#x27;, gamma=0.4, gpu_id=-1,\n",
       "             importance_type=None, interaction_constraints=&#x27;&#x27;,\n",
       "             learning_rate=0.2, max_delta_step=0, max_depth=2,\n",
       "             min_child_weight=5, missing=nan, monotone_constraints=&#x27;()&#x27;,\n",
       "             n_estimators=100, n_jobs=4, num_parallel_tree=1, predictor=&#x27;auto&#x27;,\n",
       "             random_state=42, reg_alpha=0, reg_lambda=1, scale_pos_weight=1,\n",
       "             subsample=0.8, tree_method=&#x27;exact&#x27;, validate_parameters=1,\n",
       "             verbosity=None)</pre></div></div></div></div></div>"
      ],
      "text/plain": [
       "XGBRegressor(base_score=0.5, booster='gbtree', colsample_bylevel=1,\n",
       "             colsample_bynode=1, colsample_bytree=0.6, enable_categorical=False,\n",
       "             eta=0.3, eval_metric='rmse', gamma=0.4, gpu_id=-1,\n",
       "             importance_type=None, interaction_constraints='',\n",
       "             learning_rate=0.2, max_delta_step=0, max_depth=2,\n",
       "             min_child_weight=5, missing=nan, monotone_constraints='()',\n",
       "             n_estimators=100, n_jobs=4, num_parallel_tree=1, predictor='auto',\n",
       "             random_state=42, reg_alpha=0, reg_lambda=1, scale_pos_weight=1,\n",
       "             subsample=0.8, tree_method='exact', validate_parameters=1,\n",
       "             verbosity=None)"
      ]
     },
     "execution_count": 209,
     "metadata": {},
     "output_type": "execute_result"
    }
   ],
   "source": [
    "random_search.best_estimator_"
   ]
  },
  {
   "cell_type": "markdown",
   "metadata": {},
   "source": [
    "#### Tuning the number of boosting round (n_estimator)"
   ]
  },
  {
   "cell_type": "code",
   "execution_count": 210,
   "metadata": {},
   "outputs": [
    {
     "data": {
      "text/plain": [
       "({'n_estimators': 110}, -0.5387705291637261)"
      ]
     },
     "execution_count": 210,
     "metadata": {},
     "output_type": "execute_result"
    }
   ],
   "source": [
    "params = {\n",
    "    'n_estimators': np.arange(80,120,5)\n",
    "}\n",
    "gsearch = GridSearchCV(estimator = random_search.best_estimator_,param_grid = params, cv=5, scoring=scoring_reg)\n",
    "gsearch.fit(X_train,y_train)\n",
    "gsearch.best_params_, gsearch.best_score_"
   ]
  },
  {
   "cell_type": "markdown",
   "metadata": {},
   "source": [
    "We go deeper in the range from 105-120"
   ]
  },
  {
   "cell_type": "code",
   "execution_count": 211,
   "metadata": {},
   "outputs": [
    {
     "data": {
      "text/plain": [
       "({'n_estimators': 119}, -0.53862342436464)"
      ]
     },
     "execution_count": 211,
     "metadata": {},
     "output_type": "execute_result"
    }
   ],
   "source": [
    "params = {\n",
    "    'n_estimators': np.arange(105,120,1)\n",
    "}\n",
    "gsearch = GridSearchCV(estimator = random_search.best_estimator_,param_grid = params, cv=5, scoring=scoring_reg)\n",
    "gsearch.fit(X_train,y_train)\n",
    "gsearch.best_params_, gsearch.best_score_"
   ]
  },
  {
   "cell_type": "code",
   "execution_count": 213,
   "metadata": {},
   "outputs": [
    {
     "data": {
      "text/html": [
       "<style>#sk-8eeb6b72-9133-407e-80e1-d3e00aacd2b9 {color: black;background-color: white;}#sk-8eeb6b72-9133-407e-80e1-d3e00aacd2b9 pre{padding: 0;}#sk-8eeb6b72-9133-407e-80e1-d3e00aacd2b9 div.sk-toggleable {background-color: white;}#sk-8eeb6b72-9133-407e-80e1-d3e00aacd2b9 label.sk-toggleable__label {cursor: pointer;display: block;width: 100%;margin-bottom: 0;padding: 0.3em;box-sizing: border-box;text-align: center;}#sk-8eeb6b72-9133-407e-80e1-d3e00aacd2b9 label.sk-toggleable__label-arrow:before {content: \"▸\";float: left;margin-right: 0.25em;color: #696969;}#sk-8eeb6b72-9133-407e-80e1-d3e00aacd2b9 label.sk-toggleable__label-arrow:hover:before {color: black;}#sk-8eeb6b72-9133-407e-80e1-d3e00aacd2b9 div.sk-estimator:hover label.sk-toggleable__label-arrow:before {color: black;}#sk-8eeb6b72-9133-407e-80e1-d3e00aacd2b9 div.sk-toggleable__content {max-height: 0;max-width: 0;overflow: hidden;text-align: left;background-color: #f0f8ff;}#sk-8eeb6b72-9133-407e-80e1-d3e00aacd2b9 div.sk-toggleable__content pre {margin: 0.2em;color: black;border-radius: 0.25em;background-color: #f0f8ff;}#sk-8eeb6b72-9133-407e-80e1-d3e00aacd2b9 input.sk-toggleable__control:checked~div.sk-toggleable__content {max-height: 200px;max-width: 100%;overflow: auto;}#sk-8eeb6b72-9133-407e-80e1-d3e00aacd2b9 input.sk-toggleable__control:checked~label.sk-toggleable__label-arrow:before {content: \"▾\";}#sk-8eeb6b72-9133-407e-80e1-d3e00aacd2b9 div.sk-estimator input.sk-toggleable__control:checked~label.sk-toggleable__label {background-color: #d4ebff;}#sk-8eeb6b72-9133-407e-80e1-d3e00aacd2b9 div.sk-label input.sk-toggleable__control:checked~label.sk-toggleable__label {background-color: #d4ebff;}#sk-8eeb6b72-9133-407e-80e1-d3e00aacd2b9 input.sk-hidden--visually {border: 0;clip: rect(1px 1px 1px 1px);clip: rect(1px, 1px, 1px, 1px);height: 1px;margin: -1px;overflow: hidden;padding: 0;position: absolute;width: 1px;}#sk-8eeb6b72-9133-407e-80e1-d3e00aacd2b9 div.sk-estimator {font-family: monospace;background-color: #f0f8ff;border: 1px dotted black;border-radius: 0.25em;box-sizing: border-box;margin-bottom: 0.5em;}#sk-8eeb6b72-9133-407e-80e1-d3e00aacd2b9 div.sk-estimator:hover {background-color: #d4ebff;}#sk-8eeb6b72-9133-407e-80e1-d3e00aacd2b9 div.sk-parallel-item::after {content: \"\";width: 100%;border-bottom: 1px solid gray;flex-grow: 1;}#sk-8eeb6b72-9133-407e-80e1-d3e00aacd2b9 div.sk-label:hover label.sk-toggleable__label {background-color: #d4ebff;}#sk-8eeb6b72-9133-407e-80e1-d3e00aacd2b9 div.sk-serial::before {content: \"\";position: absolute;border-left: 1px solid gray;box-sizing: border-box;top: 2em;bottom: 0;left: 50%;}#sk-8eeb6b72-9133-407e-80e1-d3e00aacd2b9 div.sk-serial {display: flex;flex-direction: column;align-items: center;background-color: white;padding-right: 0.2em;padding-left: 0.2em;}#sk-8eeb6b72-9133-407e-80e1-d3e00aacd2b9 div.sk-item {z-index: 1;}#sk-8eeb6b72-9133-407e-80e1-d3e00aacd2b9 div.sk-parallel {display: flex;align-items: stretch;justify-content: center;background-color: white;}#sk-8eeb6b72-9133-407e-80e1-d3e00aacd2b9 div.sk-parallel::before {content: \"\";position: absolute;border-left: 1px solid gray;box-sizing: border-box;top: 2em;bottom: 0;left: 50%;}#sk-8eeb6b72-9133-407e-80e1-d3e00aacd2b9 div.sk-parallel-item {display: flex;flex-direction: column;position: relative;background-color: white;}#sk-8eeb6b72-9133-407e-80e1-d3e00aacd2b9 div.sk-parallel-item:first-child::after {align-self: flex-end;width: 50%;}#sk-8eeb6b72-9133-407e-80e1-d3e00aacd2b9 div.sk-parallel-item:last-child::after {align-self: flex-start;width: 50%;}#sk-8eeb6b72-9133-407e-80e1-d3e00aacd2b9 div.sk-parallel-item:only-child::after {width: 0;}#sk-8eeb6b72-9133-407e-80e1-d3e00aacd2b9 div.sk-dashed-wrapped {border: 1px dashed gray;margin: 0 0.4em 0.5em 0.4em;box-sizing: border-box;padding-bottom: 0.4em;background-color: white;position: relative;}#sk-8eeb6b72-9133-407e-80e1-d3e00aacd2b9 div.sk-label label {font-family: monospace;font-weight: bold;background-color: white;display: inline-block;line-height: 1.2em;}#sk-8eeb6b72-9133-407e-80e1-d3e00aacd2b9 div.sk-label-container {position: relative;z-index: 2;text-align: center;}#sk-8eeb6b72-9133-407e-80e1-d3e00aacd2b9 div.sk-container {/* jupyter's `normalize.less` sets `[hidden] { display: none; }` but bootstrap.min.css set `[hidden] { display: none !important; }` so we also need the `!important` here to be able to override the default hidden behavior on the sphinx rendered scikit-learn.org. See: https://github.com/scikit-learn/scikit-learn/issues/21755 */display: inline-block !important;position: relative;}#sk-8eeb6b72-9133-407e-80e1-d3e00aacd2b9 div.sk-text-repr-fallback {display: none;}</style><div id=\"sk-8eeb6b72-9133-407e-80e1-d3e00aacd2b9\" class=\"sk-top-container\"><div class=\"sk-text-repr-fallback\"><pre>XGBRegressor(base_score=0.5, booster=&#x27;gbtree&#x27;, colsample_bylevel=1,\n",
       "             colsample_bynode=1, colsample_bytree=0.6, enable_categorical=False,\n",
       "             eta=0.3, eval_metric=&#x27;rmse&#x27;, gamma=0.4, gpu_id=-1,\n",
       "             importance_type=None, interaction_constraints=&#x27;&#x27;,\n",
       "             learning_rate=0.2, max_delta_step=0, max_depth=2,\n",
       "             min_child_weight=5, missing=nan, monotone_constraints=&#x27;()&#x27;,\n",
       "             n_estimators=119, n_jobs=4, num_parallel_tree=1, predictor=&#x27;auto&#x27;,\n",
       "             random_state=42, reg_alpha=0, reg_lambda=1, scale_pos_weight=1,\n",
       "             subsample=0.8, tree_method=&#x27;exact&#x27;, validate_parameters=1,\n",
       "             verbosity=None)</pre><b>Please rerun this cell to show the HTML repr or trust the notebook.</b></div><div class=\"sk-container\" hidden><div class=\"sk-item\"><div class=\"sk-estimator sk-toggleable\"><input class=\"sk-toggleable__control sk-hidden--visually\" id=\"27b1ccd9-077e-4f77-ba4b-f561768da59e\" type=\"checkbox\" checked><label for=\"27b1ccd9-077e-4f77-ba4b-f561768da59e\" class=\"sk-toggleable__label sk-toggleable__label-arrow\">XGBRegressor</label><div class=\"sk-toggleable__content\"><pre>XGBRegressor(base_score=0.5, booster=&#x27;gbtree&#x27;, colsample_bylevel=1,\n",
       "             colsample_bynode=1, colsample_bytree=0.6, enable_categorical=False,\n",
       "             eta=0.3, eval_metric=&#x27;rmse&#x27;, gamma=0.4, gpu_id=-1,\n",
       "             importance_type=None, interaction_constraints=&#x27;&#x27;,\n",
       "             learning_rate=0.2, max_delta_step=0, max_depth=2,\n",
       "             min_child_weight=5, missing=nan, monotone_constraints=&#x27;()&#x27;,\n",
       "             n_estimators=119, n_jobs=4, num_parallel_tree=1, predictor=&#x27;auto&#x27;,\n",
       "             random_state=42, reg_alpha=0, reg_lambda=1, scale_pos_weight=1,\n",
       "             subsample=0.8, tree_method=&#x27;exact&#x27;, validate_parameters=1,\n",
       "             verbosity=None)</pre></div></div></div></div></div>"
      ],
      "text/plain": [
       "XGBRegressor(base_score=0.5, booster='gbtree', colsample_bylevel=1,\n",
       "             colsample_bynode=1, colsample_bytree=0.6, enable_categorical=False,\n",
       "             eta=0.3, eval_metric='rmse', gamma=0.4, gpu_id=-1,\n",
       "             importance_type=None, interaction_constraints='',\n",
       "             learning_rate=0.2, max_delta_step=0, max_depth=2,\n",
       "             min_child_weight=5, missing=nan, monotone_constraints='()',\n",
       "             n_estimators=119, n_jobs=4, num_parallel_tree=1, predictor='auto',\n",
       "             random_state=42, reg_alpha=0, reg_lambda=1, scale_pos_weight=1,\n",
       "             subsample=0.8, tree_method='exact', validate_parameters=1,\n",
       "             verbosity=None)"
      ]
     },
     "execution_count": 213,
     "metadata": {},
     "output_type": "execute_result"
    }
   ],
   "source": [
    "gsearch.best_estimator_"
   ]
  },
  {
   "cell_type": "markdown",
   "metadata": {},
   "source": [
    "#### Tuning with GridSearchCV for other key params"
   ]
  },
  {
   "cell_type": "code",
   "execution_count": 214,
   "metadata": {},
   "outputs": [
    {
     "data": {
      "text/plain": [
       "({'colsample_bytree': 0.6,\n",
       "  'learning_rate': 0.1,\n",
       "  'max_depth': 3,\n",
       "  'min_child_weight': 1,\n",
       "  'reg_alpha': 1,\n",
       "  'subsample': 0.7},\n",
       " -0.537990924977531)"
      ]
     },
     "execution_count": 214,
     "metadata": {},
     "output_type": "execute_result"
    }
   ],
   "source": [
    "params = {\n",
    "    'subsample':[0.4,0.7,0.1],\n",
    "    'colsample_bytree':[0.6,0.9,0.1],\n",
    "    'reg_alpha':[0,1,0.1],\n",
    "    'learning_rate':[0.01,0.1,0.01], \n",
    "    'max_depth':[1,3,1],\n",
    "    'min_child_weight':[1,4,1]\n",
    "}\n",
    "gsearch = GridSearchCV(estimator = gsearch.best_estimator_,param_grid = params, cv=5, scoring=scoring_reg) #here we plug in gsearch best estimator as result from above\n",
    "gsearch.fit(X_train,y_train)\n",
    "gsearch.best_params_, gsearch.best_score_"
   ]
  },
  {
   "cell_type": "markdown",
   "metadata": {},
   "source": [
    "#### Testing with new tuned parameters"
   ]
  },
  {
   "cell_type": "code",
   "execution_count": 217,
   "metadata": {},
   "outputs": [
    {
     "data": {
      "text/plain": [
       "0.5160784356674166"
      ]
     },
     "execution_count": 217,
     "metadata": {},
     "output_type": "execute_result"
    }
   ],
   "source": [
    "best_regressor = gsearch.best_estimator_\n",
    "y_pred = best_regressor.predict(X_test)\n",
    "r2_score(y_test,y_pred)"
   ]
  },
  {
   "cell_type": "code",
   "execution_count": 218,
   "metadata": {},
   "outputs": [
    {
     "data": {
      "text/html": [
       "<div>\n",
       "<style scoped>\n",
       "    .dataframe tbody tr th:only-of-type {\n",
       "        vertical-align: middle;\n",
       "    }\n",
       "\n",
       "    .dataframe tbody tr th {\n",
       "        vertical-align: top;\n",
       "    }\n",
       "\n",
       "    .dataframe thead th {\n",
       "        text-align: right;\n",
       "    }\n",
       "</style>\n",
       "<table border=\"1\" class=\"dataframe\">\n",
       "  <thead>\n",
       "    <tr style=\"text-align: right;\">\n",
       "      <th></th>\n",
       "      <th>mse</th>\n",
       "      <th>rmse</th>\n",
       "      <th>r2</th>\n",
       "      <th>mae</th>\n",
       "      <th>mad</th>\n",
       "    </tr>\n",
       "  </thead>\n",
       "  <tbody>\n",
       "    <tr>\n",
       "      <th>XGBRegressor</th>\n",
       "      <td>0.297145</td>\n",
       "      <td>0.54511</td>\n",
       "      <td>0.516078</td>\n",
       "      <td>0.424971</td>\n",
       "      <td>0.348887</td>\n",
       "    </tr>\n",
       "  </tbody>\n",
       "</table>\n",
       "</div>"
      ],
      "text/plain": [
       "                   mse     rmse        r2       mae       mad\n",
       "XGBRegressor  0.297145  0.54511  0.516078  0.424971  0.348887"
      ]
     },
     "execution_count": 218,
     "metadata": {},
     "output_type": "execute_result"
    }
   ],
   "source": [
    "exp_xgreg = dx.Explainer(best_regressor, X_test, y_test, verbose=False)\n",
    "exp_xgreg.model_performance().result"
   ]
  },
  {
   "cell_type": "markdown",
   "metadata": {},
   "source": [
    "After tuning, model with \"race\" has a better performance compared to the one without \"race\". We can see that \"race\" plays a roll in predicting the decile score. "
   ]
  },
  {
   "cell_type": "markdown",
   "metadata": {},
   "source": [
    "# Classification"
   ]
  },
  {
   "cell_type": "markdown",
   "metadata": {},
   "source": [
    "### Selection of features for the model"
   ]
  },
  {
   "cell_type": "markdown",
   "metadata": {},
   "source": [
    "We keep using race and age for our classification part."
   ]
  },
  {
   "cell_type": "markdown",
   "metadata": {},
   "source": [
    "### Model with race"
   ]
  },
  {
   "cell_type": "code",
   "execution_count": 219,
   "metadata": {},
   "outputs": [],
   "source": [
    "features = pd.concat([df.age,\n",
    "                    pd.get_dummies(df.sex, prefix='sex',drop_first=True),\n",
    "                    pd.get_dummies(df.race, prefix='race',drop_first=True),  \n",
    "                    pd.get_dummies(df.c_charge_degree, prefix='degree',drop_first=True), # felony or misdemeanor charge ('f' or 'm')\n",
    "                    pd.get_dummies(df.c_charge_degree_detailed, prefix = 'degree_desc',drop_first=True),\n",
    "                    df.priors_count,\n",
    "                    df.juv_fel_count,\n",
    "                    df.juv_misd_count,\n",
    "                    df.juv_other_count\n",
    "                    ],\n",
    "                    axis=1)\n",
    "\n",
    "target = df.two_year_recid"
   ]
  },
  {
   "cell_type": "markdown",
   "metadata": {},
   "source": [
    "**Feature scaling**"
   ]
  },
  {
   "cell_type": "code",
   "execution_count": 220,
   "metadata": {},
   "outputs": [],
   "source": [
    "features= minmax_scaler.fit_transform(features)"
   ]
  },
  {
   "cell_type": "markdown",
   "metadata": {},
   "source": [
    "**Splitting train, test**"
   ]
  },
  {
   "cell_type": "code",
   "execution_count": 221,
   "metadata": {},
   "outputs": [],
   "source": [
    "X = features\n",
    "y =target\n",
    "X_train, X_test, y_train, y_test = train_test_split(X,y, test_size=0.3, random_state = ran)"
   ]
  },
  {
   "cell_type": "markdown",
   "metadata": {},
   "source": [
    "**model with default params**"
   ]
  },
  {
   "cell_type": "code",
   "execution_count": 222,
   "metadata": {},
   "outputs": [
    {
     "name": "stderr",
     "output_type": "stream",
     "text": [
      "/Library/Frameworks/Python.framework/Versions/3.7/lib/python3.7/site-packages/xgboost/sklearn.py:1224: UserWarning:\n",
      "\n",
      "The use of label encoder in XGBClassifier is deprecated and will be removed in a future release. To remove this warning, do the following: 1) Pass option use_label_encoder=False when constructing XGBClassifier object; and 2) Encode your labels (y) as integers starting with 0, i.e. 0, 1, 2, ..., [num_class - 1].\n",
      "\n"
     ]
    }
   ],
   "source": [
    "\n",
    "xg_clf = xgb.XGBClassifier(base_score=0.5, booster='gbtree', gamma=0, learning_rate=0.1, \n",
    "                          max_depth=3, min_child_weight=1, n_estimators=100, objective='binary:logistic', colsample_bylevel=1, colsample_bynode=1, colsample_bytree=1, importance_type='gain',\n",
    "                          max_delta_step=0, subsample=1, verbosity=0, silent = True, random_state = ran\n",
    "                        )\n",
    "xg_clf.fit(X_train,y_train)\n",
    "y_pred = xg_clf.predict(X_test)"
   ]
  },
  {
   "cell_type": "code",
   "execution_count": 223,
   "metadata": {},
   "outputs": [
    {
     "data": {
      "text/plain": [
       "0.6517649954591365"
      ]
     },
     "execution_count": 223,
     "metadata": {},
     "output_type": "execute_result"
    }
   ],
   "source": [
    "roc_auc_score(y_test,y_pred)"
   ]
  },
  {
   "cell_type": "markdown",
   "metadata": {},
   "source": [
    "**Tuning XGBoost for clf**"
   ]
  },
  {
   "cell_type": "code",
   "execution_count": 227,
   "metadata": {},
   "outputs": [
    {
     "name": "stdout",
     "output_type": "stream",
     "text": [
      "RandomizedSearchCV took 96.82 seconds for 100 candidates parameter settings.\n"
     ]
    }
   ],
   "source": [
    "import warnings\n",
    "warnings.filterwarnings(\"ignore\", category=UserWarning)\n",
    "\n",
    "# model tuning\n",
    "import time\n",
    "\n",
    "# A parameter grid for XGBoost\n",
    "params = {\n",
    "    'n_estimators':[50,100,150],\n",
    "    'min_child_weight':[2,3,4,5], \n",
    "    'gamma':[i/10.0 for i in range(3,6)],  \n",
    "    'subsample':[i/10.0 for i in range(6,11)],\n",
    "    'colsample_bytree':[i/10.0 for i in range(6,11)], \n",
    "    'max_depth': [2,3,4,6,7],\n",
    "    'objective': ['binary:logistic'],\n",
    "    'booster': ['gbtree', 'gblinear'],\n",
    "    'eval_metric': ['rmse'],\n",
    "    'eta': [i/10.0 for i in range(3,6)],\n",
    "    'verbosity':[0],\n",
    "    'silent':[True],\n",
    "    'random_state':[ran]\n",
    "}\n",
    "\n",
    "clf = XGBClassifier(verbosity = 0,silent =True)\n",
    "\n",
    "# run randomized search\n",
    "n_iter_search = 100\n",
    "random_search = RandomizedSearchCV(clf, param_distributions=params,\n",
    "                                   n_iter=n_iter_search, cv=5, scoring=scoring_clf, random_state = ran)\n",
    "\n",
    "start = time.time()\n",
    "random_search.fit(X_train, y_train)\n",
    "print(\"RandomizedSearchCV took %.2f seconds for %d candidates\"\n",
    "      \" parameter settings.\" % ((time.time() - start), n_iter_search))"
   ]
  },
  {
   "cell_type": "code",
   "execution_count": 228,
   "metadata": {},
   "outputs": [
    {
     "data": {
      "text/plain": [
       "0.6684205982986471"
      ]
     },
     "execution_count": 228,
     "metadata": {},
     "output_type": "execute_result"
    }
   ],
   "source": [
    "best_regressor = random_search.best_estimator_\n",
    "y_pred = best_regressor.predict(X_test)\n",
    "roc_auc_score(y_pred,y_test)"
   ]
  },
  {
   "cell_type": "code",
   "execution_count": 229,
   "metadata": {},
   "outputs": [
    {
     "data": {
      "text/html": [
       "<style>#sk-b9cf3478-aff4-4f49-85cd-6d0dda51e03e {color: black;background-color: white;}#sk-b9cf3478-aff4-4f49-85cd-6d0dda51e03e pre{padding: 0;}#sk-b9cf3478-aff4-4f49-85cd-6d0dda51e03e div.sk-toggleable {background-color: white;}#sk-b9cf3478-aff4-4f49-85cd-6d0dda51e03e label.sk-toggleable__label {cursor: pointer;display: block;width: 100%;margin-bottom: 0;padding: 0.3em;box-sizing: border-box;text-align: center;}#sk-b9cf3478-aff4-4f49-85cd-6d0dda51e03e label.sk-toggleable__label-arrow:before {content: \"▸\";float: left;margin-right: 0.25em;color: #696969;}#sk-b9cf3478-aff4-4f49-85cd-6d0dda51e03e label.sk-toggleable__label-arrow:hover:before {color: black;}#sk-b9cf3478-aff4-4f49-85cd-6d0dda51e03e div.sk-estimator:hover label.sk-toggleable__label-arrow:before {color: black;}#sk-b9cf3478-aff4-4f49-85cd-6d0dda51e03e div.sk-toggleable__content {max-height: 0;max-width: 0;overflow: hidden;text-align: left;background-color: #f0f8ff;}#sk-b9cf3478-aff4-4f49-85cd-6d0dda51e03e div.sk-toggleable__content pre {margin: 0.2em;color: black;border-radius: 0.25em;background-color: #f0f8ff;}#sk-b9cf3478-aff4-4f49-85cd-6d0dda51e03e input.sk-toggleable__control:checked~div.sk-toggleable__content {max-height: 200px;max-width: 100%;overflow: auto;}#sk-b9cf3478-aff4-4f49-85cd-6d0dda51e03e input.sk-toggleable__control:checked~label.sk-toggleable__label-arrow:before {content: \"▾\";}#sk-b9cf3478-aff4-4f49-85cd-6d0dda51e03e div.sk-estimator input.sk-toggleable__control:checked~label.sk-toggleable__label {background-color: #d4ebff;}#sk-b9cf3478-aff4-4f49-85cd-6d0dda51e03e div.sk-label input.sk-toggleable__control:checked~label.sk-toggleable__label {background-color: #d4ebff;}#sk-b9cf3478-aff4-4f49-85cd-6d0dda51e03e input.sk-hidden--visually {border: 0;clip: rect(1px 1px 1px 1px);clip: rect(1px, 1px, 1px, 1px);height: 1px;margin: -1px;overflow: hidden;padding: 0;position: absolute;width: 1px;}#sk-b9cf3478-aff4-4f49-85cd-6d0dda51e03e div.sk-estimator {font-family: monospace;background-color: #f0f8ff;border: 1px dotted black;border-radius: 0.25em;box-sizing: border-box;margin-bottom: 0.5em;}#sk-b9cf3478-aff4-4f49-85cd-6d0dda51e03e div.sk-estimator:hover {background-color: #d4ebff;}#sk-b9cf3478-aff4-4f49-85cd-6d0dda51e03e div.sk-parallel-item::after {content: \"\";width: 100%;border-bottom: 1px solid gray;flex-grow: 1;}#sk-b9cf3478-aff4-4f49-85cd-6d0dda51e03e div.sk-label:hover label.sk-toggleable__label {background-color: #d4ebff;}#sk-b9cf3478-aff4-4f49-85cd-6d0dda51e03e div.sk-serial::before {content: \"\";position: absolute;border-left: 1px solid gray;box-sizing: border-box;top: 2em;bottom: 0;left: 50%;}#sk-b9cf3478-aff4-4f49-85cd-6d0dda51e03e div.sk-serial {display: flex;flex-direction: column;align-items: center;background-color: white;padding-right: 0.2em;padding-left: 0.2em;}#sk-b9cf3478-aff4-4f49-85cd-6d0dda51e03e div.sk-item {z-index: 1;}#sk-b9cf3478-aff4-4f49-85cd-6d0dda51e03e div.sk-parallel {display: flex;align-items: stretch;justify-content: center;background-color: white;}#sk-b9cf3478-aff4-4f49-85cd-6d0dda51e03e div.sk-parallel::before {content: \"\";position: absolute;border-left: 1px solid gray;box-sizing: border-box;top: 2em;bottom: 0;left: 50%;}#sk-b9cf3478-aff4-4f49-85cd-6d0dda51e03e div.sk-parallel-item {display: flex;flex-direction: column;position: relative;background-color: white;}#sk-b9cf3478-aff4-4f49-85cd-6d0dda51e03e div.sk-parallel-item:first-child::after {align-self: flex-end;width: 50%;}#sk-b9cf3478-aff4-4f49-85cd-6d0dda51e03e div.sk-parallel-item:last-child::after {align-self: flex-start;width: 50%;}#sk-b9cf3478-aff4-4f49-85cd-6d0dda51e03e div.sk-parallel-item:only-child::after {width: 0;}#sk-b9cf3478-aff4-4f49-85cd-6d0dda51e03e div.sk-dashed-wrapped {border: 1px dashed gray;margin: 0 0.4em 0.5em 0.4em;box-sizing: border-box;padding-bottom: 0.4em;background-color: white;position: relative;}#sk-b9cf3478-aff4-4f49-85cd-6d0dda51e03e div.sk-label label {font-family: monospace;font-weight: bold;background-color: white;display: inline-block;line-height: 1.2em;}#sk-b9cf3478-aff4-4f49-85cd-6d0dda51e03e div.sk-label-container {position: relative;z-index: 2;text-align: center;}#sk-b9cf3478-aff4-4f49-85cd-6d0dda51e03e div.sk-container {/* jupyter's `normalize.less` sets `[hidden] { display: none; }` but bootstrap.min.css set `[hidden] { display: none !important; }` so we also need the `!important` here to be able to override the default hidden behavior on the sphinx rendered scikit-learn.org. See: https://github.com/scikit-learn/scikit-learn/issues/21755 */display: inline-block !important;position: relative;}#sk-b9cf3478-aff4-4f49-85cd-6d0dda51e03e div.sk-text-repr-fallback {display: none;}</style><div id=\"sk-b9cf3478-aff4-4f49-85cd-6d0dda51e03e\" class=\"sk-top-container\"><div class=\"sk-text-repr-fallback\"><pre>XGBClassifier(base_score=0.5, booster=&#x27;gbtree&#x27;, colsample_bylevel=1,\n",
       "              colsample_bynode=1, colsample_bytree=0.9,\n",
       "              enable_categorical=False, eta=0.3, eval_metric=&#x27;rmse&#x27;, gamma=0.4,\n",
       "              gpu_id=-1, importance_type=None, interaction_constraints=&#x27;&#x27;,\n",
       "              learning_rate=0.300000012, max_delta_step=0, max_depth=2,\n",
       "              min_child_weight=4, missing=nan, monotone_constraints=&#x27;()&#x27;,\n",
       "              n_estimators=50, n_jobs=4, num_parallel_tree=1, predictor=&#x27;auto&#x27;,\n",
       "              random_state=42, reg_alpha=0, reg_lambda=1, scale_pos_weight=1,\n",
       "              silent=True, subsample=0.9, tree_method=&#x27;exact&#x27;,\n",
       "              validate_parameters=1, ...)</pre><b>Please rerun this cell to show the HTML repr or trust the notebook.</b></div><div class=\"sk-container\" hidden><div class=\"sk-item\"><div class=\"sk-estimator sk-toggleable\"><input class=\"sk-toggleable__control sk-hidden--visually\" id=\"8bafb3f4-308e-4a80-90ea-f572869fb95c\" type=\"checkbox\" checked><label for=\"8bafb3f4-308e-4a80-90ea-f572869fb95c\" class=\"sk-toggleable__label sk-toggleable__label-arrow\">XGBClassifier</label><div class=\"sk-toggleable__content\"><pre>XGBClassifier(base_score=0.5, booster=&#x27;gbtree&#x27;, colsample_bylevel=1,\n",
       "              colsample_bynode=1, colsample_bytree=0.9,\n",
       "              enable_categorical=False, eta=0.3, eval_metric=&#x27;rmse&#x27;, gamma=0.4,\n",
       "              gpu_id=-1, importance_type=None, interaction_constraints=&#x27;&#x27;,\n",
       "              learning_rate=0.300000012, max_delta_step=0, max_depth=2,\n",
       "              min_child_weight=4, missing=nan, monotone_constraints=&#x27;()&#x27;,\n",
       "              n_estimators=50, n_jobs=4, num_parallel_tree=1, predictor=&#x27;auto&#x27;,\n",
       "              random_state=42, reg_alpha=0, reg_lambda=1, scale_pos_weight=1,\n",
       "              silent=True, subsample=0.9, tree_method=&#x27;exact&#x27;,\n",
       "              validate_parameters=1, ...)</pre></div></div></div></div></div>"
      ],
      "text/plain": [
       "XGBClassifier(base_score=0.5, booster='gbtree', colsample_bylevel=1,\n",
       "              colsample_bynode=1, colsample_bytree=0.9,\n",
       "              enable_categorical=False, eta=0.3, eval_metric='rmse', gamma=0.4,\n",
       "              gpu_id=-1, importance_type=None, interaction_constraints='',\n",
       "              learning_rate=0.300000012, max_delta_step=0, max_depth=2,\n",
       "              min_child_weight=4, missing=nan, monotone_constraints='()',\n",
       "              n_estimators=50, n_jobs=4, num_parallel_tree=1, predictor='auto',\n",
       "              random_state=42, reg_alpha=0, reg_lambda=1, scale_pos_weight=1,\n",
       "              silent=True, subsample=0.9, tree_method='exact',\n",
       "              validate_parameters=1, ...)"
      ]
     },
     "execution_count": 229,
     "metadata": {},
     "output_type": "execute_result"
    }
   ],
   "source": [
    "random_search.best_estimator_"
   ]
  },
  {
   "cell_type": "markdown",
   "metadata": {},
   "source": [
    "#### Tuning number of boosting round"
   ]
  },
  {
   "cell_type": "code",
   "execution_count": 230,
   "metadata": {},
   "outputs": [
    {
     "data": {
      "text/plain": [
       "({'n_estimators': 25}, 0.740604591241123)"
      ]
     },
     "execution_count": 230,
     "metadata": {},
     "output_type": "execute_result"
    }
   ],
   "source": [
    "params = {\n",
    "    'n_estimators':[25,80,5],\n",
    "}\n",
    "gsearch = GridSearchCV(estimator = random_search.best_estimator_,param_grid = params, scoring=scoring_clf, cv=5)\n",
    "gsearch.fit(X_train,y_train)\n",
    "gsearch.best_params_, gsearch.best_score_"
   ]
  },
  {
   "cell_type": "markdown",
   "metadata": {},
   "source": [
    "We go deeper into the range of 20-30"
   ]
  },
  {
   "cell_type": "code",
   "execution_count": 231,
   "metadata": {},
   "outputs": [
    {
     "data": {
      "text/plain": [
       "({'n_estimators': 30}, 0.7402571997715615)"
      ]
     },
     "execution_count": 231,
     "metadata": {},
     "output_type": "execute_result"
    }
   ],
   "source": [
    "params = {\n",
    "    'n_estimators':[20,30,1],\n",
    "}\n",
    "gsearch = GridSearchCV(estimator = random_search.best_estimator_,param_grid = params, scoring=scoring_clf, cv=5)\n",
    "gsearch.fit(X_train,y_train)\n",
    "gsearch.best_params_, gsearch.best_score_"
   ]
  },
  {
   "cell_type": "code",
   "execution_count": 232,
   "metadata": {},
   "outputs": [
    {
     "data": {
      "text/html": [
       "<style>#sk-c69d9daa-fc85-4d7a-8dc2-d19f595f8842 {color: black;background-color: white;}#sk-c69d9daa-fc85-4d7a-8dc2-d19f595f8842 pre{padding: 0;}#sk-c69d9daa-fc85-4d7a-8dc2-d19f595f8842 div.sk-toggleable {background-color: white;}#sk-c69d9daa-fc85-4d7a-8dc2-d19f595f8842 label.sk-toggleable__label {cursor: pointer;display: block;width: 100%;margin-bottom: 0;padding: 0.3em;box-sizing: border-box;text-align: center;}#sk-c69d9daa-fc85-4d7a-8dc2-d19f595f8842 label.sk-toggleable__label-arrow:before {content: \"▸\";float: left;margin-right: 0.25em;color: #696969;}#sk-c69d9daa-fc85-4d7a-8dc2-d19f595f8842 label.sk-toggleable__label-arrow:hover:before {color: black;}#sk-c69d9daa-fc85-4d7a-8dc2-d19f595f8842 div.sk-estimator:hover label.sk-toggleable__label-arrow:before {color: black;}#sk-c69d9daa-fc85-4d7a-8dc2-d19f595f8842 div.sk-toggleable__content {max-height: 0;max-width: 0;overflow: hidden;text-align: left;background-color: #f0f8ff;}#sk-c69d9daa-fc85-4d7a-8dc2-d19f595f8842 div.sk-toggleable__content pre {margin: 0.2em;color: black;border-radius: 0.25em;background-color: #f0f8ff;}#sk-c69d9daa-fc85-4d7a-8dc2-d19f595f8842 input.sk-toggleable__control:checked~div.sk-toggleable__content {max-height: 200px;max-width: 100%;overflow: auto;}#sk-c69d9daa-fc85-4d7a-8dc2-d19f595f8842 input.sk-toggleable__control:checked~label.sk-toggleable__label-arrow:before {content: \"▾\";}#sk-c69d9daa-fc85-4d7a-8dc2-d19f595f8842 div.sk-estimator input.sk-toggleable__control:checked~label.sk-toggleable__label {background-color: #d4ebff;}#sk-c69d9daa-fc85-4d7a-8dc2-d19f595f8842 div.sk-label input.sk-toggleable__control:checked~label.sk-toggleable__label {background-color: #d4ebff;}#sk-c69d9daa-fc85-4d7a-8dc2-d19f595f8842 input.sk-hidden--visually {border: 0;clip: rect(1px 1px 1px 1px);clip: rect(1px, 1px, 1px, 1px);height: 1px;margin: -1px;overflow: hidden;padding: 0;position: absolute;width: 1px;}#sk-c69d9daa-fc85-4d7a-8dc2-d19f595f8842 div.sk-estimator {font-family: monospace;background-color: #f0f8ff;border: 1px dotted black;border-radius: 0.25em;box-sizing: border-box;margin-bottom: 0.5em;}#sk-c69d9daa-fc85-4d7a-8dc2-d19f595f8842 div.sk-estimator:hover {background-color: #d4ebff;}#sk-c69d9daa-fc85-4d7a-8dc2-d19f595f8842 div.sk-parallel-item::after {content: \"\";width: 100%;border-bottom: 1px solid gray;flex-grow: 1;}#sk-c69d9daa-fc85-4d7a-8dc2-d19f595f8842 div.sk-label:hover label.sk-toggleable__label {background-color: #d4ebff;}#sk-c69d9daa-fc85-4d7a-8dc2-d19f595f8842 div.sk-serial::before {content: \"\";position: absolute;border-left: 1px solid gray;box-sizing: border-box;top: 2em;bottom: 0;left: 50%;}#sk-c69d9daa-fc85-4d7a-8dc2-d19f595f8842 div.sk-serial {display: flex;flex-direction: column;align-items: center;background-color: white;padding-right: 0.2em;padding-left: 0.2em;}#sk-c69d9daa-fc85-4d7a-8dc2-d19f595f8842 div.sk-item {z-index: 1;}#sk-c69d9daa-fc85-4d7a-8dc2-d19f595f8842 div.sk-parallel {display: flex;align-items: stretch;justify-content: center;background-color: white;}#sk-c69d9daa-fc85-4d7a-8dc2-d19f595f8842 div.sk-parallel::before {content: \"\";position: absolute;border-left: 1px solid gray;box-sizing: border-box;top: 2em;bottom: 0;left: 50%;}#sk-c69d9daa-fc85-4d7a-8dc2-d19f595f8842 div.sk-parallel-item {display: flex;flex-direction: column;position: relative;background-color: white;}#sk-c69d9daa-fc85-4d7a-8dc2-d19f595f8842 div.sk-parallel-item:first-child::after {align-self: flex-end;width: 50%;}#sk-c69d9daa-fc85-4d7a-8dc2-d19f595f8842 div.sk-parallel-item:last-child::after {align-self: flex-start;width: 50%;}#sk-c69d9daa-fc85-4d7a-8dc2-d19f595f8842 div.sk-parallel-item:only-child::after {width: 0;}#sk-c69d9daa-fc85-4d7a-8dc2-d19f595f8842 div.sk-dashed-wrapped {border: 1px dashed gray;margin: 0 0.4em 0.5em 0.4em;box-sizing: border-box;padding-bottom: 0.4em;background-color: white;position: relative;}#sk-c69d9daa-fc85-4d7a-8dc2-d19f595f8842 div.sk-label label {font-family: monospace;font-weight: bold;background-color: white;display: inline-block;line-height: 1.2em;}#sk-c69d9daa-fc85-4d7a-8dc2-d19f595f8842 div.sk-label-container {position: relative;z-index: 2;text-align: center;}#sk-c69d9daa-fc85-4d7a-8dc2-d19f595f8842 div.sk-container {/* jupyter's `normalize.less` sets `[hidden] { display: none; }` but bootstrap.min.css set `[hidden] { display: none !important; }` so we also need the `!important` here to be able to override the default hidden behavior on the sphinx rendered scikit-learn.org. See: https://github.com/scikit-learn/scikit-learn/issues/21755 */display: inline-block !important;position: relative;}#sk-c69d9daa-fc85-4d7a-8dc2-d19f595f8842 div.sk-text-repr-fallback {display: none;}</style><div id=\"sk-c69d9daa-fc85-4d7a-8dc2-d19f595f8842\" class=\"sk-top-container\"><div class=\"sk-text-repr-fallback\"><pre>XGBClassifier(base_score=0.5, booster=&#x27;gbtree&#x27;, colsample_bylevel=1,\n",
       "              colsample_bynode=1, colsample_bytree=0.9,\n",
       "              enable_categorical=False, eta=0.3, eval_metric=&#x27;rmse&#x27;, gamma=0.4,\n",
       "              gpu_id=-1, importance_type=None, interaction_constraints=&#x27;&#x27;,\n",
       "              learning_rate=0.300000012, max_delta_step=0, max_depth=2,\n",
       "              min_child_weight=4, missing=nan, monotone_constraints=&#x27;()&#x27;,\n",
       "              n_estimators=30, n_jobs=4, num_parallel_tree=1, predictor=&#x27;auto&#x27;,\n",
       "              random_state=42, reg_alpha=0, reg_lambda=1, scale_pos_weight=1,\n",
       "              silent=True, subsample=0.9, tree_method=&#x27;exact&#x27;,\n",
       "              validate_parameters=1, ...)</pre><b>Please rerun this cell to show the HTML repr or trust the notebook.</b></div><div class=\"sk-container\" hidden><div class=\"sk-item\"><div class=\"sk-estimator sk-toggleable\"><input class=\"sk-toggleable__control sk-hidden--visually\" id=\"1bd70586-6cae-4623-8b8f-7bbc45d47790\" type=\"checkbox\" checked><label for=\"1bd70586-6cae-4623-8b8f-7bbc45d47790\" class=\"sk-toggleable__label sk-toggleable__label-arrow\">XGBClassifier</label><div class=\"sk-toggleable__content\"><pre>XGBClassifier(base_score=0.5, booster=&#x27;gbtree&#x27;, colsample_bylevel=1,\n",
       "              colsample_bynode=1, colsample_bytree=0.9,\n",
       "              enable_categorical=False, eta=0.3, eval_metric=&#x27;rmse&#x27;, gamma=0.4,\n",
       "              gpu_id=-1, importance_type=None, interaction_constraints=&#x27;&#x27;,\n",
       "              learning_rate=0.300000012, max_delta_step=0, max_depth=2,\n",
       "              min_child_weight=4, missing=nan, monotone_constraints=&#x27;()&#x27;,\n",
       "              n_estimators=30, n_jobs=4, num_parallel_tree=1, predictor=&#x27;auto&#x27;,\n",
       "              random_state=42, reg_alpha=0, reg_lambda=1, scale_pos_weight=1,\n",
       "              silent=True, subsample=0.9, tree_method=&#x27;exact&#x27;,\n",
       "              validate_parameters=1, ...)</pre></div></div></div></div></div>"
      ],
      "text/plain": [
       "XGBClassifier(base_score=0.5, booster='gbtree', colsample_bylevel=1,\n",
       "              colsample_bynode=1, colsample_bytree=0.9,\n",
       "              enable_categorical=False, eta=0.3, eval_metric='rmse', gamma=0.4,\n",
       "              gpu_id=-1, importance_type=None, interaction_constraints='',\n",
       "              learning_rate=0.300000012, max_delta_step=0, max_depth=2,\n",
       "              min_child_weight=4, missing=nan, monotone_constraints='()',\n",
       "              n_estimators=30, n_jobs=4, num_parallel_tree=1, predictor='auto',\n",
       "              random_state=42, reg_alpha=0, reg_lambda=1, scale_pos_weight=1,\n",
       "              silent=True, subsample=0.9, tree_method='exact',\n",
       "              validate_parameters=1, ...)"
      ]
     },
     "execution_count": 232,
     "metadata": {},
     "output_type": "execute_result"
    }
   ],
   "source": [
    "gsearch.best_estimator_"
   ]
  },
  {
   "cell_type": "markdown",
   "metadata": {},
   "source": [
    "#### Tuning with GridCV for other key params"
   ]
  },
  {
   "cell_type": "code",
   "execution_count": 233,
   "metadata": {},
   "outputs": [
    {
     "data": {
      "text/plain": [
       "({'colsample_bytree': 1,\n",
       "  'learning_rate': 0.1,\n",
       "  'max_depth': 3,\n",
       "  'min_child_weight': 5,\n",
       "  'reg_alpha': 0,\n",
       "  'subsample': 0.8},\n",
       " 0.7417627630130503)"
      ]
     },
     "execution_count": 233,
     "metadata": {},
     "output_type": "execute_result"
    }
   ],
   "source": [
    "params = {\n",
    "    'subsample':[0.8,1,0.05],\n",
    "    'colsample_bytree':[0.8,1,0.05],\n",
    "    'reg_alpha':[0,0.4,0.1],\n",
    "    'learning_rate':[0.01,0.1,0.01], \n",
    "    'max_depth':[1,3,1],\n",
    "    'min_child_weight':[3,5,1]\n",
    "}\n",
    "gsearch = GridSearchCV(estimator = gsearch.best_estimator_,param_grid = params, scoring=scoring_clf, cv=5) #here we plug in gsearch best estimator as result from above\n",
    "gsearch.fit(X_train,y_train)\n",
    "gsearch.best_params_, gsearch.best_score_"
   ]
  },
  {
   "cell_type": "code",
   "execution_count": 234,
   "metadata": {},
   "outputs": [
    {
     "data": {
      "text/html": [
       "<style>#sk-de77337b-d0cc-4337-a5ef-f707a93a00ee {color: black;background-color: white;}#sk-de77337b-d0cc-4337-a5ef-f707a93a00ee pre{padding: 0;}#sk-de77337b-d0cc-4337-a5ef-f707a93a00ee div.sk-toggleable {background-color: white;}#sk-de77337b-d0cc-4337-a5ef-f707a93a00ee label.sk-toggleable__label {cursor: pointer;display: block;width: 100%;margin-bottom: 0;padding: 0.3em;box-sizing: border-box;text-align: center;}#sk-de77337b-d0cc-4337-a5ef-f707a93a00ee label.sk-toggleable__label-arrow:before {content: \"▸\";float: left;margin-right: 0.25em;color: #696969;}#sk-de77337b-d0cc-4337-a5ef-f707a93a00ee label.sk-toggleable__label-arrow:hover:before {color: black;}#sk-de77337b-d0cc-4337-a5ef-f707a93a00ee div.sk-estimator:hover label.sk-toggleable__label-arrow:before {color: black;}#sk-de77337b-d0cc-4337-a5ef-f707a93a00ee div.sk-toggleable__content {max-height: 0;max-width: 0;overflow: hidden;text-align: left;background-color: #f0f8ff;}#sk-de77337b-d0cc-4337-a5ef-f707a93a00ee div.sk-toggleable__content pre {margin: 0.2em;color: black;border-radius: 0.25em;background-color: #f0f8ff;}#sk-de77337b-d0cc-4337-a5ef-f707a93a00ee input.sk-toggleable__control:checked~div.sk-toggleable__content {max-height: 200px;max-width: 100%;overflow: auto;}#sk-de77337b-d0cc-4337-a5ef-f707a93a00ee input.sk-toggleable__control:checked~label.sk-toggleable__label-arrow:before {content: \"▾\";}#sk-de77337b-d0cc-4337-a5ef-f707a93a00ee div.sk-estimator input.sk-toggleable__control:checked~label.sk-toggleable__label {background-color: #d4ebff;}#sk-de77337b-d0cc-4337-a5ef-f707a93a00ee div.sk-label input.sk-toggleable__control:checked~label.sk-toggleable__label {background-color: #d4ebff;}#sk-de77337b-d0cc-4337-a5ef-f707a93a00ee input.sk-hidden--visually {border: 0;clip: rect(1px 1px 1px 1px);clip: rect(1px, 1px, 1px, 1px);height: 1px;margin: -1px;overflow: hidden;padding: 0;position: absolute;width: 1px;}#sk-de77337b-d0cc-4337-a5ef-f707a93a00ee div.sk-estimator {font-family: monospace;background-color: #f0f8ff;border: 1px dotted black;border-radius: 0.25em;box-sizing: border-box;margin-bottom: 0.5em;}#sk-de77337b-d0cc-4337-a5ef-f707a93a00ee div.sk-estimator:hover {background-color: #d4ebff;}#sk-de77337b-d0cc-4337-a5ef-f707a93a00ee div.sk-parallel-item::after {content: \"\";width: 100%;border-bottom: 1px solid gray;flex-grow: 1;}#sk-de77337b-d0cc-4337-a5ef-f707a93a00ee div.sk-label:hover label.sk-toggleable__label {background-color: #d4ebff;}#sk-de77337b-d0cc-4337-a5ef-f707a93a00ee div.sk-serial::before {content: \"\";position: absolute;border-left: 1px solid gray;box-sizing: border-box;top: 2em;bottom: 0;left: 50%;}#sk-de77337b-d0cc-4337-a5ef-f707a93a00ee div.sk-serial {display: flex;flex-direction: column;align-items: center;background-color: white;padding-right: 0.2em;padding-left: 0.2em;}#sk-de77337b-d0cc-4337-a5ef-f707a93a00ee div.sk-item {z-index: 1;}#sk-de77337b-d0cc-4337-a5ef-f707a93a00ee div.sk-parallel {display: flex;align-items: stretch;justify-content: center;background-color: white;}#sk-de77337b-d0cc-4337-a5ef-f707a93a00ee div.sk-parallel::before {content: \"\";position: absolute;border-left: 1px solid gray;box-sizing: border-box;top: 2em;bottom: 0;left: 50%;}#sk-de77337b-d0cc-4337-a5ef-f707a93a00ee div.sk-parallel-item {display: flex;flex-direction: column;position: relative;background-color: white;}#sk-de77337b-d0cc-4337-a5ef-f707a93a00ee div.sk-parallel-item:first-child::after {align-self: flex-end;width: 50%;}#sk-de77337b-d0cc-4337-a5ef-f707a93a00ee div.sk-parallel-item:last-child::after {align-self: flex-start;width: 50%;}#sk-de77337b-d0cc-4337-a5ef-f707a93a00ee div.sk-parallel-item:only-child::after {width: 0;}#sk-de77337b-d0cc-4337-a5ef-f707a93a00ee div.sk-dashed-wrapped {border: 1px dashed gray;margin: 0 0.4em 0.5em 0.4em;box-sizing: border-box;padding-bottom: 0.4em;background-color: white;position: relative;}#sk-de77337b-d0cc-4337-a5ef-f707a93a00ee div.sk-label label {font-family: monospace;font-weight: bold;background-color: white;display: inline-block;line-height: 1.2em;}#sk-de77337b-d0cc-4337-a5ef-f707a93a00ee div.sk-label-container {position: relative;z-index: 2;text-align: center;}#sk-de77337b-d0cc-4337-a5ef-f707a93a00ee div.sk-container {/* jupyter's `normalize.less` sets `[hidden] { display: none; }` but bootstrap.min.css set `[hidden] { display: none !important; }` so we also need the `!important` here to be able to override the default hidden behavior on the sphinx rendered scikit-learn.org. See: https://github.com/scikit-learn/scikit-learn/issues/21755 */display: inline-block !important;position: relative;}#sk-de77337b-d0cc-4337-a5ef-f707a93a00ee div.sk-text-repr-fallback {display: none;}</style><div id=\"sk-de77337b-d0cc-4337-a5ef-f707a93a00ee\" class=\"sk-top-container\"><div class=\"sk-text-repr-fallback\"><pre>XGBClassifier(base_score=0.5, booster=&#x27;gbtree&#x27;, colsample_bylevel=1,\n",
       "              colsample_bynode=1, colsample_bytree=1, enable_categorical=False,\n",
       "              eta=0.3, eval_metric=&#x27;rmse&#x27;, gamma=0.4, gpu_id=-1,\n",
       "              importance_type=None, interaction_constraints=&#x27;&#x27;,\n",
       "              learning_rate=0.1, max_delta_step=0, max_depth=3,\n",
       "              min_child_weight=5, missing=nan, monotone_constraints=&#x27;()&#x27;,\n",
       "              n_estimators=30, n_jobs=4, num_parallel_tree=1, predictor=&#x27;auto&#x27;,\n",
       "              random_state=42, reg_alpha=0, reg_lambda=1, scale_pos_weight=1,\n",
       "              silent=True, subsample=0.8, tree_method=&#x27;exact&#x27;,\n",
       "              validate_parameters=1, ...)</pre><b>Please rerun this cell to show the HTML repr or trust the notebook.</b></div><div class=\"sk-container\" hidden><div class=\"sk-item\"><div class=\"sk-estimator sk-toggleable\"><input class=\"sk-toggleable__control sk-hidden--visually\" id=\"bb194243-bf27-4881-944b-7f1e164d36c4\" type=\"checkbox\" checked><label for=\"bb194243-bf27-4881-944b-7f1e164d36c4\" class=\"sk-toggleable__label sk-toggleable__label-arrow\">XGBClassifier</label><div class=\"sk-toggleable__content\"><pre>XGBClassifier(base_score=0.5, booster=&#x27;gbtree&#x27;, colsample_bylevel=1,\n",
       "              colsample_bynode=1, colsample_bytree=1, enable_categorical=False,\n",
       "              eta=0.3, eval_metric=&#x27;rmse&#x27;, gamma=0.4, gpu_id=-1,\n",
       "              importance_type=None, interaction_constraints=&#x27;&#x27;,\n",
       "              learning_rate=0.1, max_delta_step=0, max_depth=3,\n",
       "              min_child_weight=5, missing=nan, monotone_constraints=&#x27;()&#x27;,\n",
       "              n_estimators=30, n_jobs=4, num_parallel_tree=1, predictor=&#x27;auto&#x27;,\n",
       "              random_state=42, reg_alpha=0, reg_lambda=1, scale_pos_weight=1,\n",
       "              silent=True, subsample=0.8, tree_method=&#x27;exact&#x27;,\n",
       "              validate_parameters=1, ...)</pre></div></div></div></div></div>"
      ],
      "text/plain": [
       "XGBClassifier(base_score=0.5, booster='gbtree', colsample_bylevel=1,\n",
       "              colsample_bynode=1, colsample_bytree=1, enable_categorical=False,\n",
       "              eta=0.3, eval_metric='rmse', gamma=0.4, gpu_id=-1,\n",
       "              importance_type=None, interaction_constraints='',\n",
       "              learning_rate=0.1, max_delta_step=0, max_depth=3,\n",
       "              min_child_weight=5, missing=nan, monotone_constraints='()',\n",
       "              n_estimators=30, n_jobs=4, num_parallel_tree=1, predictor='auto',\n",
       "              random_state=42, reg_alpha=0, reg_lambda=1, scale_pos_weight=1,\n",
       "              silent=True, subsample=0.8, tree_method='exact',\n",
       "              validate_parameters=1, ...)"
      ]
     },
     "execution_count": 234,
     "metadata": {},
     "output_type": "execute_result"
    }
   ],
   "source": [
    "gsearch.best_estimator_"
   ]
  },
  {
   "cell_type": "markdown",
   "metadata": {},
   "source": [
    "#### Testing with tuned params"
   ]
  },
  {
   "cell_type": "code",
   "execution_count": 239,
   "metadata": {},
   "outputs": [],
   "source": [
    "xg_clf = gsearch.best_estimator_\n",
    "xg_clf.fit(X_train,y_train)\n",
    "y_pred = xg_clf.predict(X_test)"
   ]
  },
  {
   "cell_type": "code",
   "execution_count": 240,
   "metadata": {},
   "outputs": [
    {
     "data": {
      "text/plain": [
       "0.6835503360041354"
      ]
     },
     "execution_count": 240,
     "metadata": {},
     "output_type": "execute_result"
    }
   ],
   "source": [
    "roc_auc_score(y_pred,y_test)"
   ]
  },
  {
   "cell_type": "code",
   "execution_count": 241,
   "metadata": {},
   "outputs": [
    {
     "data": {
      "text/plain": [
       "array([[853, 154],\n",
       "       [315, 270]])"
      ]
     },
     "execution_count": 241,
     "metadata": {},
     "output_type": "execute_result"
    }
   ],
   "source": [
    "confusion_matrix(y_test, y_pred)"
   ]
  },
  {
   "cell_type": "code",
   "execution_count": 242,
   "metadata": {},
   "outputs": [
    {
     "name": "stdout",
     "output_type": "stream",
     "text": [
      "              precision    recall  f1-score   support\n",
      "\n",
      "    no_recid       0.73      0.85      0.78      1007\n",
      "    is_recid       0.64      0.46      0.54       585\n",
      "\n",
      "    accuracy                           0.71      1592\n",
      "   macro avg       0.68      0.65      0.66      1592\n",
      "weighted avg       0.70      0.71      0.69      1592\n",
      "\n"
     ]
    }
   ],
   "source": [
    "print(classification_report(y_test, y_pred, target_names=[\"no_recid\", \"is_recid\"]))"
   ]
  },
  {
   "cell_type": "markdown",
   "metadata": {},
   "source": [
    "# SHAP value\n"
   ]
  },
  {
   "cell_type": "markdown",
   "metadata": {},
   "source": [
    "#### Regression model"
   ]
  },
  {
   "cell_type": "code",
   "execution_count": 245,
   "metadata": {},
   "outputs": [],
   "source": [
    "features = pd.concat([df.age,\n",
    "                    pd.get_dummies(df.sex, prefix='sex',drop_first=True),\n",
    "                    pd.get_dummies(df.race, prefix='race',drop_first=True),  \n",
    "                    pd.get_dummies(df.c_charge_degree, prefix='degree',drop_first=True), # felony or misdemeanor charge ('f' or 'm')\n",
    "                    pd.get_dummies(df.c_charge_degree_detailed, prefix = 'degree_desc',drop_first=True),\n",
    "                    df.priors_count,\n",
    "                    df.juv_fel_count,\n",
    "                    df.juv_misd_count,\n",
    "                    df.juv_other_count,\n",
    "                    df.two_year_recid],\n",
    "                    axis=1)\n",
    "\n",
    "target = np.log(df.decile_score)"
   ]
  },
  {
   "cell_type": "code",
   "execution_count": 246,
   "metadata": {},
   "outputs": [],
   "source": [
    "X = features\n",
    "y = target\n",
    "X_train, X_test, y_train, y_test = train_test_split(X,y, test_size=0.3,random_state = ran)"
   ]
  },
  {
   "cell_type": "code",
   "execution_count": 248,
   "metadata": {},
   "outputs": [],
   "source": [
    "xgb_reg = XGBRegressor(base_score=0.5, booster='gbtree', colsample_bylevel=1,\n",
    "             colsample_bynode=1, colsample_bytree=0.5, enable_categorical=False,\n",
    "             eta=0.3, eval_metric='rmse', gamma=0.4, gpu_id=-1,\n",
    "             importance_type=None, interaction_constraints='',\n",
    "             learning_rate=0.1, max_delta_step=0, max_depth=3,\n",
    "             min_child_weight=4, monotone_constraints='()',\n",
    "             n_estimators=115, n_jobs=4, num_parallel_tree=1, predictor='auto',\n",
    "             random_state=42, reg_alpha=0, reg_lambda=1, scale_pos_weight=1,\n",
    "             subsample=0.7, tree_method='exact', validate_parameters=1,\n",
    "             verbosity=None)"
   ]
  },
  {
   "cell_type": "code",
   "execution_count": 263,
   "metadata": {},
   "outputs": [
    {
     "data": {
      "text/html": [
       "<style>#sk-71376f36-d813-4c5a-9924-787eae055ea5 {color: black;background-color: white;}#sk-71376f36-d813-4c5a-9924-787eae055ea5 pre{padding: 0;}#sk-71376f36-d813-4c5a-9924-787eae055ea5 div.sk-toggleable {background-color: white;}#sk-71376f36-d813-4c5a-9924-787eae055ea5 label.sk-toggleable__label {cursor: pointer;display: block;width: 100%;margin-bottom: 0;padding: 0.3em;box-sizing: border-box;text-align: center;}#sk-71376f36-d813-4c5a-9924-787eae055ea5 label.sk-toggleable__label-arrow:before {content: \"▸\";float: left;margin-right: 0.25em;color: #696969;}#sk-71376f36-d813-4c5a-9924-787eae055ea5 label.sk-toggleable__label-arrow:hover:before {color: black;}#sk-71376f36-d813-4c5a-9924-787eae055ea5 div.sk-estimator:hover label.sk-toggleable__label-arrow:before {color: black;}#sk-71376f36-d813-4c5a-9924-787eae055ea5 div.sk-toggleable__content {max-height: 0;max-width: 0;overflow: hidden;text-align: left;background-color: #f0f8ff;}#sk-71376f36-d813-4c5a-9924-787eae055ea5 div.sk-toggleable__content pre {margin: 0.2em;color: black;border-radius: 0.25em;background-color: #f0f8ff;}#sk-71376f36-d813-4c5a-9924-787eae055ea5 input.sk-toggleable__control:checked~div.sk-toggleable__content {max-height: 200px;max-width: 100%;overflow: auto;}#sk-71376f36-d813-4c5a-9924-787eae055ea5 input.sk-toggleable__control:checked~label.sk-toggleable__label-arrow:before {content: \"▾\";}#sk-71376f36-d813-4c5a-9924-787eae055ea5 div.sk-estimator input.sk-toggleable__control:checked~label.sk-toggleable__label {background-color: #d4ebff;}#sk-71376f36-d813-4c5a-9924-787eae055ea5 div.sk-label input.sk-toggleable__control:checked~label.sk-toggleable__label {background-color: #d4ebff;}#sk-71376f36-d813-4c5a-9924-787eae055ea5 input.sk-hidden--visually {border: 0;clip: rect(1px 1px 1px 1px);clip: rect(1px, 1px, 1px, 1px);height: 1px;margin: -1px;overflow: hidden;padding: 0;position: absolute;width: 1px;}#sk-71376f36-d813-4c5a-9924-787eae055ea5 div.sk-estimator {font-family: monospace;background-color: #f0f8ff;border: 1px dotted black;border-radius: 0.25em;box-sizing: border-box;margin-bottom: 0.5em;}#sk-71376f36-d813-4c5a-9924-787eae055ea5 div.sk-estimator:hover {background-color: #d4ebff;}#sk-71376f36-d813-4c5a-9924-787eae055ea5 div.sk-parallel-item::after {content: \"\";width: 100%;border-bottom: 1px solid gray;flex-grow: 1;}#sk-71376f36-d813-4c5a-9924-787eae055ea5 div.sk-label:hover label.sk-toggleable__label {background-color: #d4ebff;}#sk-71376f36-d813-4c5a-9924-787eae055ea5 div.sk-serial::before {content: \"\";position: absolute;border-left: 1px solid gray;box-sizing: border-box;top: 2em;bottom: 0;left: 50%;}#sk-71376f36-d813-4c5a-9924-787eae055ea5 div.sk-serial {display: flex;flex-direction: column;align-items: center;background-color: white;padding-right: 0.2em;padding-left: 0.2em;}#sk-71376f36-d813-4c5a-9924-787eae055ea5 div.sk-item {z-index: 1;}#sk-71376f36-d813-4c5a-9924-787eae055ea5 div.sk-parallel {display: flex;align-items: stretch;justify-content: center;background-color: white;}#sk-71376f36-d813-4c5a-9924-787eae055ea5 div.sk-parallel::before {content: \"\";position: absolute;border-left: 1px solid gray;box-sizing: border-box;top: 2em;bottom: 0;left: 50%;}#sk-71376f36-d813-4c5a-9924-787eae055ea5 div.sk-parallel-item {display: flex;flex-direction: column;position: relative;background-color: white;}#sk-71376f36-d813-4c5a-9924-787eae055ea5 div.sk-parallel-item:first-child::after {align-self: flex-end;width: 50%;}#sk-71376f36-d813-4c5a-9924-787eae055ea5 div.sk-parallel-item:last-child::after {align-self: flex-start;width: 50%;}#sk-71376f36-d813-4c5a-9924-787eae055ea5 div.sk-parallel-item:only-child::after {width: 0;}#sk-71376f36-d813-4c5a-9924-787eae055ea5 div.sk-dashed-wrapped {border: 1px dashed gray;margin: 0 0.4em 0.5em 0.4em;box-sizing: border-box;padding-bottom: 0.4em;background-color: white;position: relative;}#sk-71376f36-d813-4c5a-9924-787eae055ea5 div.sk-label label {font-family: monospace;font-weight: bold;background-color: white;display: inline-block;line-height: 1.2em;}#sk-71376f36-d813-4c5a-9924-787eae055ea5 div.sk-label-container {position: relative;z-index: 2;text-align: center;}#sk-71376f36-d813-4c5a-9924-787eae055ea5 div.sk-container {/* jupyter's `normalize.less` sets `[hidden] { display: none; }` but bootstrap.min.css set `[hidden] { display: none !important; }` so we also need the `!important` here to be able to override the default hidden behavior on the sphinx rendered scikit-learn.org. See: https://github.com/scikit-learn/scikit-learn/issues/21755 */display: inline-block !important;position: relative;}#sk-71376f36-d813-4c5a-9924-787eae055ea5 div.sk-text-repr-fallback {display: none;}</style><div id=\"sk-71376f36-d813-4c5a-9924-787eae055ea5\" class=\"sk-top-container\"><div class=\"sk-text-repr-fallback\"><pre>XGBRegressor(base_score=0.5, booster=&#x27;gbtree&#x27;, colsample_bylevel=1,\n",
       "             colsample_bynode=1, colsample_bytree=0.5, enable_categorical=False,\n",
       "             eta=0.3, eval_metric=&#x27;rmse&#x27;, gamma=0.4, gpu_id=-1,\n",
       "             importance_type=None, interaction_constraints=&#x27;&#x27;,\n",
       "             learning_rate=0.1, max_delta_step=0, max_depth=3,\n",
       "             min_child_weight=4, missing=nan, monotone_constraints=&#x27;()&#x27;,\n",
       "             n_estimators=115, n_jobs=4, num_parallel_tree=1, predictor=&#x27;auto&#x27;,\n",
       "             random_state=42, reg_alpha=0, reg_lambda=1, scale_pos_weight=1,\n",
       "             subsample=0.7, tree_method=&#x27;exact&#x27;, validate_parameters=1,\n",
       "             verbosity=None)</pre><b>Please rerun this cell to show the HTML repr or trust the notebook.</b></div><div class=\"sk-container\" hidden><div class=\"sk-item\"><div class=\"sk-estimator sk-toggleable\"><input class=\"sk-toggleable__control sk-hidden--visually\" id=\"eaa6b230-8cc7-45c5-b414-ae728c01c3d8\" type=\"checkbox\" checked><label for=\"eaa6b230-8cc7-45c5-b414-ae728c01c3d8\" class=\"sk-toggleable__label sk-toggleable__label-arrow\">XGBRegressor</label><div class=\"sk-toggleable__content\"><pre>XGBRegressor(base_score=0.5, booster=&#x27;gbtree&#x27;, colsample_bylevel=1,\n",
       "             colsample_bynode=1, colsample_bytree=0.5, enable_categorical=False,\n",
       "             eta=0.3, eval_metric=&#x27;rmse&#x27;, gamma=0.4, gpu_id=-1,\n",
       "             importance_type=None, interaction_constraints=&#x27;&#x27;,\n",
       "             learning_rate=0.1, max_delta_step=0, max_depth=3,\n",
       "             min_child_weight=4, missing=nan, monotone_constraints=&#x27;()&#x27;,\n",
       "             n_estimators=115, n_jobs=4, num_parallel_tree=1, predictor=&#x27;auto&#x27;,\n",
       "             random_state=42, reg_alpha=0, reg_lambda=1, scale_pos_weight=1,\n",
       "             subsample=0.7, tree_method=&#x27;exact&#x27;, validate_parameters=1,\n",
       "             verbosity=None)</pre></div></div></div></div></div>"
      ],
      "text/plain": [
       "XGBRegressor(base_score=0.5, booster='gbtree', colsample_bylevel=1,\n",
       "             colsample_bynode=1, colsample_bytree=0.5, enable_categorical=False,\n",
       "             eta=0.3, eval_metric='rmse', gamma=0.4, gpu_id=-1,\n",
       "             importance_type=None, interaction_constraints='',\n",
       "             learning_rate=0.1, max_delta_step=0, max_depth=3,\n",
       "             min_child_weight=4, missing=nan, monotone_constraints='()',\n",
       "             n_estimators=115, n_jobs=4, num_parallel_tree=1, predictor='auto',\n",
       "             random_state=42, reg_alpha=0, reg_lambda=1, scale_pos_weight=1,\n",
       "             subsample=0.7, tree_method='exact', validate_parameters=1,\n",
       "             verbosity=None)"
      ]
     },
     "execution_count": 263,
     "metadata": {},
     "output_type": "execute_result"
    }
   ],
   "source": [
    "xgb_reg.fit(X_train,y_train)"
   ]
  },
  {
   "cell_type": "code",
   "execution_count": 266,
   "metadata": {},
   "outputs": [],
   "source": [
    "#compute SHAP values\n",
    "explainer = shap.Explainer(xgb_reg)\n",
    "shap_values = explainer.shap_values(X_train)\n"
   ]
  },
  {
   "cell_type": "code",
   "execution_count": 267,
   "metadata": {},
   "outputs": [
    {
     "data": {
      "image/png": "[encoded data removed]",
      "text/plain": [
       "<Figure size 576x626.4 with 2 Axes>"
      ]
     },
     "metadata": {
      "needs_background": "light"
     },
     "output_type": "display_data"
    }
   ],
   "source": [
    "shap.summary_plot(shap_values, X_train)"
   ]
  },
  {
   "cell_type": "markdown",
   "metadata": {},
   "source": [
    "**Intepret**"
   ]
  },
  {
   "cell_type": "markdown",
   "metadata": {},
   "source": [
    "* Each X-axis belongs to a single prediction made by the model. Each Y-axis represents a feature used in the model.\n",
    "* Red color means higher value of a feature. Blue means lower value of a feature.\n",
    "* The model did not ignore any of the feautures.\n",
    "* Age is the most important feature when predicting Decile Score. According to the model, the lower the age the higher Decile Score the person is predicted to get. This does make sense, as usually the younger criminal have such a hard time reinstate into the society and its hard to leave the wrong path. We can see that also from looking at the impact of juvenile crime feautures in the model. The higher values of juv_fel_count, juv_misd_count, juv_other_count increase the predicted Decile Score of the individual. \n",
    "* The second most important feature is the priors_Count feauture. The higher the number of prior arrests of an individual, the higher his or her decile_score is predicted to be. This makes perfect sense. \n",
    "* The two_year_recid feauture importance makes complete sence. If the person did recid, he or she would be predicted to have a high decile score.\n",
    "* One interesting insight from the graph above, from looking at the feature sex_Male, we can see that females are more likely to have higher decile score.\n",
    "* Another important insight from the graph above, we can observe that race_Native American is the least important feauture in the model. While as out of all the race feauture, race_Caucasian is the most important. And we can see that being Caucasian decreases the individual's decile score.\n",
    "* From the graph, we can observe that out of all the crime degrees, M1 has the biggest importance in the model predicting the decile score."
   ]
  },
  {
   "cell_type": "markdown",
   "metadata": {},
   "source": [
    "#### Classification model"
   ]
  },
  {
   "cell_type": "code",
   "execution_count": 268,
   "metadata": {},
   "outputs": [],
   "source": [
    "features = pd.concat([df.age,\n",
    "                    pd.get_dummies(df.sex, prefix='sex',drop_first=True),\n",
    "                    pd.get_dummies(df.race, prefix='race',drop_first=True),  \n",
    "                    pd.get_dummies(df.c_charge_degree, prefix='degree',drop_first=True), # felony or misdemeanor charge ('f' or 'm')\n",
    "                    pd.get_dummies(df.c_charge_degree_detailed, prefix = 'degree_desc',drop_first=True),\n",
    "                    df.priors_count,\n",
    "                    df.juv_fel_count,\n",
    "                    df.juv_misd_count,\n",
    "                    df.juv_other_count\n",
    "                    ],\n",
    "                    axis=1)\n",
    "\n",
    "target = df.two_year_recid"
   ]
  },
  {
   "cell_type": "code",
   "execution_count": 269,
   "metadata": {},
   "outputs": [],
   "source": [
    "X = features\n",
    "y = target\n",
    "X_train, X_test, y_train, y_test = train_test_split(X,y, test_size=0.3,random_state = ran)"
   ]
  },
  {
   "cell_type": "code",
   "execution_count": 270,
   "metadata": {},
   "outputs": [],
   "source": [
    "xgb_clf=XGBClassifier(base_score=0.5, booster='gbtree', colsample_bylevel=1,\n",
    "              colsample_bynode=1, colsample_bytree=1, enable_categorical=False,\n",
    "              eta=0.3, eval_metric='rmse', gamma=0.4, gpu_id=-1,\n",
    "              importance_type=None, interaction_constraints='',\n",
    "              learning_rate=0.1, max_delta_step=0, max_depth=3,\n",
    "              min_child_weight=5, monotone_constraints='()',\n",
    "              n_estimators=30, n_jobs=4, num_parallel_tree=1, predictor='auto',\n",
    "              random_state=42, reg_alpha=0, reg_lambda=1, scale_pos_weight=1,\n",
    "              silent=True, subsample=0.8, tree_method='exact',\n",
    "              validate_parameters=1)"
   ]
  },
  {
   "cell_type": "code",
   "execution_count": 271,
   "metadata": {},
   "outputs": [
    {
     "data": {
      "text/html": [
       "<style>#sk-618cd1e4-a705-4079-a57c-6a8399e1f754 {color: black;background-color: white;}#sk-618cd1e4-a705-4079-a57c-6a8399e1f754 pre{padding: 0;}#sk-618cd1e4-a705-4079-a57c-6a8399e1f754 div.sk-toggleable {background-color: white;}#sk-618cd1e4-a705-4079-a57c-6a8399e1f754 label.sk-toggleable__label {cursor: pointer;display: block;width: 100%;margin-bottom: 0;padding: 0.3em;box-sizing: border-box;text-align: center;}#sk-618cd1e4-a705-4079-a57c-6a8399e1f754 label.sk-toggleable__label-arrow:before {content: \"▸\";float: left;margin-right: 0.25em;color: #696969;}#sk-618cd1e4-a705-4079-a57c-6a8399e1f754 label.sk-toggleable__label-arrow:hover:before {color: black;}#sk-618cd1e4-a705-4079-a57c-6a8399e1f754 div.sk-estimator:hover label.sk-toggleable__label-arrow:before {color: black;}#sk-618cd1e4-a705-4079-a57c-6a8399e1f754 div.sk-toggleable__content {max-height: 0;max-width: 0;overflow: hidden;text-align: left;background-color: #f0f8ff;}#sk-618cd1e4-a705-4079-a57c-6a8399e1f754 div.sk-toggleable__content pre {margin: 0.2em;color: black;border-radius: 0.25em;background-color: #f0f8ff;}#sk-618cd1e4-a705-4079-a57c-6a8399e1f754 input.sk-toggleable__control:checked~div.sk-toggleable__content {max-height: 200px;max-width: 100%;overflow: auto;}#sk-618cd1e4-a705-4079-a57c-6a8399e1f754 input.sk-toggleable__control:checked~label.sk-toggleable__label-arrow:before {content: \"▾\";}#sk-618cd1e4-a705-4079-a57c-6a8399e1f754 div.sk-estimator input.sk-toggleable__control:checked~label.sk-toggleable__label {background-color: #d4ebff;}#sk-618cd1e4-a705-4079-a57c-6a8399e1f754 div.sk-label input.sk-toggleable__control:checked~label.sk-toggleable__label {background-color: #d4ebff;}#sk-618cd1e4-a705-4079-a57c-6a8399e1f754 input.sk-hidden--visually {border: 0;clip: rect(1px 1px 1px 1px);clip: rect(1px, 1px, 1px, 1px);height: 1px;margin: -1px;overflow: hidden;padding: 0;position: absolute;width: 1px;}#sk-618cd1e4-a705-4079-a57c-6a8399e1f754 div.sk-estimator {font-family: monospace;background-color: #f0f8ff;border: 1px dotted black;border-radius: 0.25em;box-sizing: border-box;margin-bottom: 0.5em;}#sk-618cd1e4-a705-4079-a57c-6a8399e1f754 div.sk-estimator:hover {background-color: #d4ebff;}#sk-618cd1e4-a705-4079-a57c-6a8399e1f754 div.sk-parallel-item::after {content: \"\";width: 100%;border-bottom: 1px solid gray;flex-grow: 1;}#sk-618cd1e4-a705-4079-a57c-6a8399e1f754 div.sk-label:hover label.sk-toggleable__label {background-color: #d4ebff;}#sk-618cd1e4-a705-4079-a57c-6a8399e1f754 div.sk-serial::before {content: \"\";position: absolute;border-left: 1px solid gray;box-sizing: border-box;top: 2em;bottom: 0;left: 50%;}#sk-618cd1e4-a705-4079-a57c-6a8399e1f754 div.sk-serial {display: flex;flex-direction: column;align-items: center;background-color: white;padding-right: 0.2em;padding-left: 0.2em;}#sk-618cd1e4-a705-4079-a57c-6a8399e1f754 div.sk-item {z-index: 1;}#sk-618cd1e4-a705-4079-a57c-6a8399e1f754 div.sk-parallel {display: flex;align-items: stretch;justify-content: center;background-color: white;}#sk-618cd1e4-a705-4079-a57c-6a8399e1f754 div.sk-parallel::before {content: \"\";position: absolute;border-left: 1px solid gray;box-sizing: border-box;top: 2em;bottom: 0;left: 50%;}#sk-618cd1e4-a705-4079-a57c-6a8399e1f754 div.sk-parallel-item {display: flex;flex-direction: column;position: relative;background-color: white;}#sk-618cd1e4-a705-4079-a57c-6a8399e1f754 div.sk-parallel-item:first-child::after {align-self: flex-end;width: 50%;}#sk-618cd1e4-a705-4079-a57c-6a8399e1f754 div.sk-parallel-item:last-child::after {align-self: flex-start;width: 50%;}#sk-618cd1e4-a705-4079-a57c-6a8399e1f754 div.sk-parallel-item:only-child::after {width: 0;}#sk-618cd1e4-a705-4079-a57c-6a8399e1f754 div.sk-dashed-wrapped {border: 1px dashed gray;margin: 0 0.4em 0.5em 0.4em;box-sizing: border-box;padding-bottom: 0.4em;background-color: white;position: relative;}#sk-618cd1e4-a705-4079-a57c-6a8399e1f754 div.sk-label label {font-family: monospace;font-weight: bold;background-color: white;display: inline-block;line-height: 1.2em;}#sk-618cd1e4-a705-4079-a57c-6a8399e1f754 div.sk-label-container {position: relative;z-index: 2;text-align: center;}#sk-618cd1e4-a705-4079-a57c-6a8399e1f754 div.sk-container {/* jupyter's `normalize.less` sets `[hidden] { display: none; }` but bootstrap.min.css set `[hidden] { display: none !important; }` so we also need the `!important` here to be able to override the default hidden behavior on the sphinx rendered scikit-learn.org. See: https://github.com/scikit-learn/scikit-learn/issues/21755 */display: inline-block !important;position: relative;}#sk-618cd1e4-a705-4079-a57c-6a8399e1f754 div.sk-text-repr-fallback {display: none;}</style><div id=\"sk-618cd1e4-a705-4079-a57c-6a8399e1f754\" class=\"sk-top-container\"><div class=\"sk-text-repr-fallback\"><pre>XGBClassifier(base_score=0.5, booster=&#x27;gbtree&#x27;, colsample_bylevel=1,\n",
       "              colsample_bynode=1, colsample_bytree=1, enable_categorical=False,\n",
       "              eta=0.3, eval_metric=&#x27;rmse&#x27;, gamma=0.4, gpu_id=-1,\n",
       "              importance_type=None, interaction_constraints=&#x27;&#x27;,\n",
       "              learning_rate=0.1, max_delta_step=0, max_depth=3,\n",
       "              min_child_weight=5, missing=nan, monotone_constraints=&#x27;()&#x27;,\n",
       "              n_estimators=30, n_jobs=4, num_parallel_tree=1, predictor=&#x27;auto&#x27;,\n",
       "              random_state=42, reg_alpha=0, reg_lambda=1, scale_pos_weight=1,\n",
       "              silent=True, subsample=0.8, tree_method=&#x27;exact&#x27;,\n",
       "              validate_parameters=1, ...)</pre><b>Please rerun this cell to show the HTML repr or trust the notebook.</b></div><div class=\"sk-container\" hidden><div class=\"sk-item\"><div class=\"sk-estimator sk-toggleable\"><input class=\"sk-toggleable__control sk-hidden--visually\" id=\"a8e28b8b-aaa6-4b06-8a76-68a350a51c23\" type=\"checkbox\" checked><label for=\"a8e28b8b-aaa6-4b06-8a76-68a350a51c23\" class=\"sk-toggleable__label sk-toggleable__label-arrow\">XGBClassifier</label><div class=\"sk-toggleable__content\"><pre>XGBClassifier(base_score=0.5, booster=&#x27;gbtree&#x27;, colsample_bylevel=1,\n",
       "              colsample_bynode=1, colsample_bytree=1, enable_categorical=False,\n",
       "              eta=0.3, eval_metric=&#x27;rmse&#x27;, gamma=0.4, gpu_id=-1,\n",
       "              importance_type=None, interaction_constraints=&#x27;&#x27;,\n",
       "              learning_rate=0.1, max_delta_step=0, max_depth=3,\n",
       "              min_child_weight=5, missing=nan, monotone_constraints=&#x27;()&#x27;,\n",
       "              n_estimators=30, n_jobs=4, num_parallel_tree=1, predictor=&#x27;auto&#x27;,\n",
       "              random_state=42, reg_alpha=0, reg_lambda=1, scale_pos_weight=1,\n",
       "              silent=True, subsample=0.8, tree_method=&#x27;exact&#x27;,\n",
       "              validate_parameters=1, ...)</pre></div></div></div></div></div>"
      ],
      "text/plain": [
       "XGBClassifier(base_score=0.5, booster='gbtree', colsample_bylevel=1,\n",
       "              colsample_bynode=1, colsample_bytree=1, enable_categorical=False,\n",
       "              eta=0.3, eval_metric='rmse', gamma=0.4, gpu_id=-1,\n",
       "              importance_type=None, interaction_constraints='',\n",
       "              learning_rate=0.1, max_delta_step=0, max_depth=3,\n",
       "              min_child_weight=5, missing=nan, monotone_constraints='()',\n",
       "              n_estimators=30, n_jobs=4, num_parallel_tree=1, predictor='auto',\n",
       "              random_state=42, reg_alpha=0, reg_lambda=1, scale_pos_weight=1,\n",
       "              silent=True, subsample=0.8, tree_method='exact',\n",
       "              validate_parameters=1, ...)"
      ]
     },
     "execution_count": 271,
     "metadata": {},
     "output_type": "execute_result"
    }
   ],
   "source": [
    "xgb_clf.fit(X_train,y_train)"
   ]
  },
  {
   "cell_type": "code",
   "execution_count": 272,
   "metadata": {},
   "outputs": [],
   "source": [
    "#compute SHAP values\n",
    "explainer = shap.Explainer(xgb_clf)\n",
    "shap_values = explainer.shap_values(X_train)"
   ]
  },
  {
   "cell_type": "code",
   "execution_count": 273,
   "metadata": {},
   "outputs": [
    {
     "data": {
      "image/png": "[encoded data removed]",
      "text/plain": [
       "<Figure size 576x597.6 with 2 Axes>"
      ]
     },
     "metadata": {
      "needs_background": "light"
     },
     "output_type": "display_data"
    }
   ],
   "source": [
    "shap.summary_plot(shap_values, X_train)"
   ]
  },
  {
   "cell_type": "markdown",
   "metadata": {},
   "source": [
    "# Interpret"
   ]
  },
  {
   "cell_type": "markdown",
   "metadata": {},
   "source": [
    "* The model ignored the following feautures: degree_desc_F1, juv_fel_count, race_Ascian, race_Native America. ?????????\n",
    "* The model's most important feature is priors_count. This makes perfect sense, as the higher the prior number of arrests, the higher the chance that he will recide again.\n",
    "* The second most important one is age. Just like the regression model, the lower the age the higher the chance the person will recide again.\n",
    "* The third one is the gender feature. Males are predicted to have a higher chance of reciding. ?????????\n",
    "* We can observe that for classification model, F3 degree crime is the most important.\n",
    "* We can observe that for classification model, being caucasian again decreases the chance of reciding again."
   ]
  },
  {
   "cell_type": "code",
   "execution_count": null,
   "metadata": {},
   "outputs": [],
   "source": []
  }
 ],
 "metadata": {
  "interpreter": {
   "hash": "6f0b19c31ea35290196ad2025d8a10c44c1fcf79244f792e2b6d1ab2141d06a7"
  },
  "kernelspec": {
   "display_name": "Python 3",
   "language": "python",
   "name": "python3"
  },
  "language_info": {
   "codemirror_mode": {
    "name": "ipython",
    "version": 3
   },
   "file_extension": ".py",
   "mimetype": "text/x-python",
   "name": "python",
   "nbconvert_exporter": "python",
   "pygments_lexer": "ipython3",
   "version": "3.8.8"
  }
 },
 "nbformat": 4,
 "nbformat_minor": 2
}
